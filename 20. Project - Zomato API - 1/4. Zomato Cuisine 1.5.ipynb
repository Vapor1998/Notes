{
 "cells": [
  {
   "cell_type": "code",
   "execution_count": 5,
   "metadata": {},
   "outputs": [
    {
     "name": "stdout",
     "output_type": "stream",
     "text": [
      "6\n"
     ]
    }
   ],
   "source": [
    "## Open and read data file as specified in the question\n",
    "## Print the required output in given format\n",
    "import requests as req\n",
    "h={'Accept':'application/json', 'user-key':'11caaee84b90b16fe8fdb958bf8db957'}\n",
    "data = {'title':'Connaught'}\n",
    "res=req.get('https://developers.zomato.com/api/v2.1/categories',headers=h)\n",
    "ans=res.json()\n",
    "a = ans['categories']\n",
    "for i in a:\n",
    "    if i['categories']['name'] == 'Cafes':\n",
    "        print(i['categories']['id'])"
   ]
  }
 ],
 "metadata": {
  "kernelspec": {
   "display_name": "Python 3",
   "language": "python",
   "name": "python3"
  },
  "language_info": {
   "codemirror_mode": {
    "name": "ipython",
    "version": 3
   },
   "file_extension": ".py",
   "mimetype": "text/x-python",
   "name": "python",
   "nbconvert_exporter": "python",
   "pygments_lexer": "ipython3",
   "version": "3.8.5"
  }
 },
 "nbformat": 4,
 "nbformat_minor": 4
}
