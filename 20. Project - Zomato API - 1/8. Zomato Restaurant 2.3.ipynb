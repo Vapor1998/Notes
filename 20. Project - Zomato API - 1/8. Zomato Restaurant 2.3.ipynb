{
 "cells": [
  {
   "cell_type": "code",
   "execution_count": 5,
   "metadata": {},
   "outputs": [
    {
     "name": "stdout",
     "output_type": "stream",
     "text": [
      "yes\n"
     ]
    }
   ],
   "source": [
    "import requests \n",
    "user_key='3754f0440b3026cde542ed69af9f499a' \n",
    "basic_api='https://developers.zomato.com/api/v2.1'\n",
    " \n",
    "header={\"User-agent\": \"curl/7.43.0\",'Accept': 'application/json','user-key':user_key}\n",
    "data = { 'res_id':18429148}\n",
    "\n",
    "\n",
    "response=requests.get('https://developers.zomato.com/api/v2.1/restaurant',headers=header, params=data)\n",
    "data = response.json()\n",
    "if data['is_table_reservation_supported'] == 1:\n",
    "    print('yes')\n",
    "else:\n",
    "    print('no')"
   ]
  }
 ],
 "metadata": {
  "kernelspec": {
   "display_name": "Python 3",
   "language": "python",
   "name": "python3"
  },
  "language_info": {
   "codemirror_mode": {
    "name": "ipython",
    "version": 3
   },
   "file_extension": ".py",
   "mimetype": "text/x-python",
   "name": "python",
   "nbconvert_exporter": "python",
   "pygments_lexer": "ipython3",
   "version": "3.8.5"
  }
 },
 "nbformat": 4,
 "nbformat_minor": 4
}
