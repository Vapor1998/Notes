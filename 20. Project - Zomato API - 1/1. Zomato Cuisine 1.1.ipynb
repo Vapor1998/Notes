{
 "cells": [
  {
   "cell_type": "code",
   "execution_count": 34,
   "metadata": {},
   "outputs": [
    {
     "name": "stdout",
     "output_type": "stream",
     "text": [
      "73\n"
     ]
    }
   ],
   "source": [
    "## Open and read data file as specified in the question\n",
    "## Print the required output in given format\n",
    "# API Key 11caaee84b90b16fe8fdb958bf8db957\n",
    "\n",
    "import requests as req\n",
    "h={\n",
    "    'Accept':'application/json',\n",
    "    'user-key':'11caaee84b90b16fe8fdb958bf8db957'\n",
    "}\n",
    "data={\n",
    "    \n",
    "    'city_id':'964'\n",
    "}\n",
    "res=req.get('https://developers.zomato.com/api/v2.1/cuisines',params=data,headers=h)\n",
    "ans=res.json()\n",
    "for i in ans['cuisines']:\n",
    "    if i['cuisine']['cuisine_name']=='Mexican':\n",
    "        print(i['cuisine']['cuisine_id'])"
   ]
  },
  {
   "cell_type": "code",
   "execution_count": 2,
   "metadata": {},
   "outputs": [
    {
     "name": "stdout",
     "output_type": "stream",
     "text": [
      "73\n"
     ]
    }
   ],
   "source": [
    "import requests as req\n",
    "h={\n",
    "    'Accept':'application/json',\n",
    "    'user-key':'11caaee84b90b16fe8fdb958bf8db957'\n",
    "}\n",
    "data={\n",
    "    \n",
    "    'city_id':'964'\n",
    "}\n",
    "res=req.get('https://developers.zomato.com/api/v2.1/cuisines',params=data,headers=h)\n",
    "ans=res.json()\n",
    "for i in ans['cuisines']:\n",
    "    if i['cuisine']['cuisine_name']=='Mexican':\n",
    "        print(i['cuisine']['cuisine_id'])"
   ]
  },
  {
   "cell_type": "code",
   "execution_count": 8,
   "metadata": {},
   "outputs": [
    {
     "name": "stdout",
     "output_type": "stream",
     "text": [
      "{'code': 400, 'status': 'Bad Request', 'message': 'Invalid coordinates / city_id'}\n",
      "https://developers.zomato.com/api/v2.1/cuisines\n"
     ]
    }
   ],
   "source": [
    "h={'user-key':'11caaee84b90b16fe8fdb958bf8db957','Accept':'application/json'}\n",
    "#data = {\"city_id\":'964'}\n",
    "r=req.get('https://developers.zomato.com/api/v2.1/cuisines',headers=h)\n",
    "print(r.json())\n",
    "print(r.url)"
   ]
  },
  {
   "cell_type": "code",
   "execution_count": null,
   "metadata": {},
   "outputs": [],
   "source": []
  }
 ],
 "metadata": {
  "kernelspec": {
   "display_name": "Python 3",
   "language": "python",
   "name": "python3"
  },
  "language_info": {
   "codemirror_mode": {
    "name": "ipython",
    "version": 3
   },
   "file_extension": ".py",
   "mimetype": "text/x-python",
   "name": "python",
   "nbconvert_exporter": "python",
   "pygments_lexer": "ipython3",
   "version": "3.8.5"
  }
 },
 "nbformat": 4,
 "nbformat_minor": 4
}
