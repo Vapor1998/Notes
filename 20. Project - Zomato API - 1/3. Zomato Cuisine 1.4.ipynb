{
 "cells": [
  {
   "cell_type": "code",
   "execution_count": 54,
   "metadata": {},
   "outputs": [
    {
     "name": "stdout",
     "output_type": "stream",
     "text": [
      "Station Bar 4.5 18851371\n",
      "Chili's Grill & Bar 4.5 18537536\n",
      "Xero Degrees 4.4 18729557\n",
      "Master Of Malts 4.4 18391149\n",
      "Tamasha 4.3 18238278\n",
      "The Darzi Bar & Kitchen 4.3 18423151\n",
      "Local 4.3 18382360\n",
      "The Junkyard Cafe 4.3 313256\n",
      "Ministry Of Beer 4.3 18418277\n",
      "Teddy Boy 4.3 18281985\n"
     ]
    }
   ],
   "source": [
    "import requests \n",
    "user_key='3754f0440b3026cde542ed69af9f499a' \n",
    "basic_api='https://developers.zomato.com/api/v2.1'\n",
    " \n",
    "header={\"User-agent\": \"curl/7.43.0\",'Accept': 'application/json','user-key':user_key} \n",
    "cp_entity_id=104 \n",
    "cp_entity_type='subzone' \n",
    "cuisine_id=73\n",
    "params={'entity_id':cp_entity_id,'entity_type':cp_entity_type,'sort':'rating','cuisines':cuisine_id,'count':10} \n",
    "response=requests.get(basic_api+'/search',headers=header,params=params) \n",
    "for i in response.json().get('restaurants'): \n",
    "\tprint(i.get('restaurant').get('name'),i.get('restaurant').get('user_rating').get('aggregate_rating'), i.get('restaurant').get('R').get('res_id'))"
   ]
  },
  {
   "cell_type": "code",
   "execution_count": 52,
   "metadata": {},
   "outputs": [
    {
     "name": "stdout",
     "output_type": "stream",
     "text": [
      "Berco's 4.1 55\n",
      "Shang Palace - Shangri-La's - Eros Hotel, New Delhi 4.1 18277024\n",
      "The Art of Dumpling 3.9 19158623\n",
      "Asia Seven 3.9 19526396\n",
      "Yeti - The Himalayan Kitchen 4.3 19129306\n",
      "Tamasha 4.3 18238278\n",
      "Unplugged Courtyard 4.2 18216901\n",
      "The Darzi Bar & Kitchen 4.3 18423151\n",
      "Local 4.3 18382360\n",
      "The G.T. Road 4.4 18454488\n",
      "Ardor 2.1 4.1 7713\n",
      "The Junkyard Cafe 4.3 313256\n",
      "Speedy Chow 4.1 19439634\n",
      "Warehouse Cafe 4.2 301605\n",
      "Ministry Of Beer 4.3 18418277\n",
      "38 Barracks 4.2 18241537\n",
      "My Bar Headquarters 3.8 311057\n",
      "Café MRP 3.7 18306523\n",
      "Barbeque Nation 4.1 301489\n",
      "Farzi Cafe 4.2 18233593\n"
     ]
    }
   ],
   "source": [
    "import requests \n",
    "user_key='3754f0440b3026cde542ed69af9f499a' \n",
    "basic_api='https://developers.zomato.com/api/v2.1'\n",
    " \n",
    "header={\"User-agent\": \"curl/7.43.0\",'Accept': 'application/json','user-key':user_key} \n",
    "cp_entity_id=104 \n",
    "cp_entity_type='subzone' \n",
    "cuisine_id=3\n",
    "params={'entity_id':cp_entity_id,'entity_type':cp_entity_type,'cuisines':cuisine_id} \n",
    "response=requests.get(basic_api+'/search',headers=header,params=params) \n",
    "for i in response.json().get('restaurants'): \n",
    "\tprint(i.get('restaurant').get('name'),i.get('restaurant').get('user_rating').get('aggregate_rating'), i.get('restaurant').get('R').get('res_id'))"
   ]
  }
 ],
 "metadata": {
  "kernelspec": {
   "display_name": "Python 3",
   "language": "python",
   "name": "python3"
  },
  "language_info": {
   "codemirror_mode": {
    "name": "ipython",
    "version": 3
   },
   "file_extension": ".py",
   "mimetype": "text/x-python",
   "name": "python",
   "nbconvert_exporter": "python",
   "pygments_lexer": "ipython3",
   "version": "3.8.5"
  }
 },
 "nbformat": 4,
 "nbformat_minor": 4
}
