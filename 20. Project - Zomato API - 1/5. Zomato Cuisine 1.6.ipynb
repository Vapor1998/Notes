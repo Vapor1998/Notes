{
 "cells": [
  {
   "cell_type": "code",
   "execution_count": 21,
   "metadata": {},
   "outputs": [
    {
     "name": "stdout",
     "output_type": "stream",
     "text": [
      "Xero Degrees 4.4 18729557\n",
      "Chaayos - Meri Wali Chai 4.2 18237315\n",
      "The Art House Restaurant 3.9 18863766\n",
      "Cafe Coffee Day - The Square 3.6 303034\n"
     ]
    }
   ],
   "source": [
    "## cuisine id = 3\n",
    "\n",
    "import requests \n",
    "user_key='3754f0440b3026cde542ed69af9f499a' \n",
    "basic_api='https://developers.zomato.com/api/v2.1'\n",
    " \n",
    "header={\"User-agent\": \"curl/7.43.0\",'Accept': 'application/json','user-key':user_key} \n",
    "cp_entity_id=104 \n",
    "cp_entity_type='subzone' \n",
    "cuisine_id=73 \n",
    "categories = 6\n",
    "params={'entity_id':cp_entity_id,'entity_type':cp_entity_type,'sort':'rating','cuisines':cuisine_id, 'category':categories} \n",
    "\n",
    "response=requests.get(basic_api+'/search',headers=header,params=params) \n",
    "for i in response.json().get('restaurants'): \n",
    "\tprint(i.get('restaurant').get('name'),i.get('restaurant').get('user_rating').get('aggregate_rating'), i.get('restaurant').get('R').get('res_id'))"
   ]
  }
 ],
 "metadata": {
  "kernelspec": {
   "display_name": "Python 3",
   "language": "python",
   "name": "python3"
  },
  "language_info": {
   "codemirror_mode": {
    "name": "ipython",
    "version": 3
   },
   "file_extension": ".py",
   "mimetype": "text/x-python",
   "name": "python",
   "nbconvert_exporter": "python",
   "pygments_lexer": "ipython3",
   "version": "3.8.5"
  }
 },
 "nbformat": 4,
 "nbformat_minor": 4
}
