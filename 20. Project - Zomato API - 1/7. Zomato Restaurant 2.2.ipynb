{
 "cells": [
  {
   "cell_type": "code",
   "execution_count": 1,
   "metadata": {},
   "outputs": [
    {
     "name": "stdout",
     "output_type": "stream",
     "text": [
      "4.5\n",
      "2500\n",
      "Asian, Chinese, Thai, Japanese, Sushi, Malaysian, Momos, Beverages\n",
      "A-3, Select Citywalk, District Centre, Saket, New Delhi\n"
     ]
    }
   ],
   "source": [
    "import requests \n",
    "user_key='3754f0440b3026cde542ed69af9f499a' \n",
    "basic_api='https://developers.zomato.com/api/v2.1'\n",
    " \n",
    "header={\"User-agent\": \"curl/7.43.0\",'Accept': 'application/json','user-key':user_key}\n",
    "data = { 'res_id':18429148}\n",
    "\n",
    "\n",
    "response=requests.get('https://developers.zomato.com/api/v2.1/restaurant',headers=header, params=data)\n",
    "data = response.json()\n",
    "print(data['user_rating']['aggregate_rating'] )\n",
    "    \n",
    "print(data['average_cost_for_two'])\n",
    "print(data['cuisines'])\n",
    "print(data['location']['address'])"
   ]
  },
  {
   "cell_type": "code",
   "execution_count": null,
   "metadata": {},
   "outputs": [],
   "source": [
    "first try to get cities id then use that it in geolocation and get all the restaurant \n",
    "and there find name pa pa ya there id will be present"
   ]
  }
 ],
 "metadata": {
  "kernelspec": {
   "display_name": "Python 3",
   "language": "python",
   "name": "python3"
  },
  "language_info": {
   "codemirror_mode": {
    "name": "ipython",
    "version": 3
   },
   "file_extension": ".py",
   "mimetype": "text/x-python",
   "name": "python",
   "nbconvert_exporter": "python",
   "pygments_lexer": "ipython3",
   "version": "3.8.5"
  }
 },
 "nbformat": 4,
 "nbformat_minor": 4
}
