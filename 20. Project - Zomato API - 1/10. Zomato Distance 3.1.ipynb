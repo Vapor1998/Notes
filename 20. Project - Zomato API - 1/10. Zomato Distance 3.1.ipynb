{
 "cells": [
  {
   "cell_type": "code",
   "execution_count": 4,
   "metadata": {},
   "outputs": [
    {
     "name": "stdout",
     "output_type": "stream",
     "text": [
      "193\n"
     ]
    }
   ],
   "source": [
    "import requests \n",
    "user_key='3754f0440b3026cde542ed69af9f499a' \n",
    "basic_api='https://developers.zomato.com/api/v2.1'\n",
    " \n",
    "header={\"User-agent\": \"curl/7.43.0\",'Accept': 'application/json','user-key':user_key}\n",
    "data = { 'lat':28.6979155672448,'lon':77.14070199898673}\n",
    "\n",
    "\n",
    "response=requests.get('https://developers.zomato.com/api/v2.1/cuisines',headers=header, params=data)\n",
    "data = response.json()\n",
    "a = data['cuisines']\n",
    "for i in a:\n",
    "    if i['cuisine']['cuisine_name'] == 'BBQ':\n",
    "        print(i['cuisine']['cuisine_id'])"
   ]
  }
 ],
 "metadata": {
  "kernelspec": {
   "display_name": "Python 3",
   "language": "python",
   "name": "python3"
  },
  "language_info": {
   "codemirror_mode": {
    "name": "ipython",
    "version": 3
   },
   "file_extension": ".py",
   "mimetype": "text/x-python",
   "name": "python",
   "nbconvert_exporter": "python",
   "pygments_lexer": "ipython3",
   "version": "3.8.5"
  }
 },
 "nbformat": 4,
 "nbformat_minor": 4
}
