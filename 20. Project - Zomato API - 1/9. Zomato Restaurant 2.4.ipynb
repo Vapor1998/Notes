{
 "cells": [
  {
   "cell_type": "code",
   "execution_count": 3,
   "metadata": {},
   "outputs": [
    {
     "name": "stdout",
     "output_type": "stream",
     "text": [
      "Kshitij Kirtikar 5 Went to pa pa ya today 14/4/2021 for lunch. I always make it a point to visit this outlet in saket New Delhi. The location is just amazing as it’s a rooftop. The food is always great and service is fantastic as well. Vikrant was serving us today and he is well informed and gave great service too\n",
      "Rishabh 5 Sanjeev served us and help us throughout the experience of dining as we were the first timer to this cuisine and restaurant.  Thank you!\n",
      "Raju 5 \n",
      "Naman Singh 5 \n",
      "Ravi Ranjan 5 \n"
     ]
    }
   ],
   "source": [
    "import requests \n",
    "user_key='3754f0440b3026cde542ed69af9f499a' \n",
    "basic_api='https://developers.zomato.com/api/v2.1'\n",
    " \n",
    "header={\"User-agent\": \"curl/7.43.0\",'Accept': 'application/json','user-key':user_key}\n",
    "data = { 'res_id':18429148}\n",
    "\n",
    "\n",
    "response=requests.get('https://developers.zomato.com/api/v2.1/reviews',headers=header, params=data)\n",
    "data = response.json()\n",
    "a = data['user_reviews']\n",
    "for i in a:\n",
    "    print(i['review']['user']['name'], i['review']['rating'], i['review']['review_text'])\n"
   ]
  }
 ],
 "metadata": {
  "kernelspec": {
   "display_name": "Python 3",
   "language": "python",
   "name": "python3"
  },
  "language_info": {
   "codemirror_mode": {
    "name": "ipython",
    "version": 3
   },
   "file_extension": ".py",
   "mimetype": "text/x-python",
   "name": "python",
   "nbconvert_exporter": "python",
   "pygments_lexer": "ipython3",
   "version": "3.8.5"
  }
 },
 "nbformat": 4,
 "nbformat_minor": 4
}
