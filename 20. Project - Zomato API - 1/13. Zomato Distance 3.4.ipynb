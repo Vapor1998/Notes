{
 "cells": [
  {
   "cell_type": "code",
   "execution_count": 2,
   "metadata": {},
   "outputs": [
    {
     "name": "stdout",
     "output_type": "stream",
     "text": [
      "Themis Barbecue House 4.2 18204820 Netaji Subhash Place\n",
      "Tandoori Nights 0 19661940 Pitampura\n",
      "UBQ by Barbeque Nation 3.6 18889769 Netaji Subhash Place\n",
      "Barbeque Nation 4.2 9561 Netaji Subhash Place\n",
      "Amazings Kitchen 0 19370424 Prashant Vihar\n",
      "Anytime Chicken 0 19520153 Shalimar Bagh\n",
      "UBQ by Barbeque Nation 4.0 19082741 Lawrence Road\n",
      "Moet's Barbeque 0 19238917 Alipur\n",
      "BBQ Express By The Barbeque Company 4.0 19494102 Punjabi Bagh\n",
      "UBQ by Barbeque Nation 3.7 18889760 Rohini\n"
     ]
    }
   ],
   "source": [
    "import requests\n",
    "latitude=\"28.697522\"\n",
    "longitude=\"77.140681\"\n",
    "user_key='3754f0440b3026cde542ed69af9f499a'\n",
    "basic_api='https://developers.zomato.com/api/v2.1'\n",
    "header={\"User-agent\": \"curl/7.43.0\",'Accept': 'application/json','user-key':user_key}\n",
    "params={'lat':latitude,'lon':longitude,'cuisines':193,'sort':'real_distance','count':10}\n",
    "response=requests.get(basic_api+'/search',headers=header,params=params)\n",
    "for i in response.json().get('restaurants'):\n",
    "    print(i.get('restaurant').get('name'),i.get('restaurant').get('user_rating').get('aggregate_rating'),i.get('restaurant').get('R').get('res_id'),i.get('restaurant').get('location').get('locality'))\n",
    "    "
   ]
  }
 ],
 "metadata": {
  "kernelspec": {
   "display_name": "Python 3",
   "language": "python",
   "name": "python3"
  },
  "language_info": {
   "codemirror_mode": {
    "name": "ipython",
    "version": 3
   },
   "file_extension": ".py",
   "mimetype": "text/x-python",
   "name": "python",
   "nbconvert_exporter": "python",
   "pygments_lexer": "ipython3",
   "version": "3.8.5"
  }
 },
 "nbformat": 4,
 "nbformat_minor": 4
}
