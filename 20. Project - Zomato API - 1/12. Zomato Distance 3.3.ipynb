{
 "cells": [
  {
   "cell_type": "code",
   "execution_count": 13,
   "metadata": {},
   "outputs": [
    {
     "name": "stdout",
     "output_type": "stream",
     "text": [
      "Shivam Rana 1 \n",
      "Nikhil 1 Everything was great about this restaurant but giving it 1 star coz it's closed for ever now n zomato hasn't updated this on there app yet...\n",
      "Palak Gupta 1 Since morning i am trying to call them and they keep rejecting my call. What kind of service is this? Phone being busy is understandable but why would you reject the call?\n",
      "Garima Arora 5 Wow place for family .. friends or anyone i have enjoyed my family dinner food is superb with quality and service and staff was superb .. amamzingly attend  and serviced.. mouth watering food barbeque snacks dinner deserts 😍♥️\n",
      "ASHISH GUPTA 1 I went there because of the reviews and the food was pathetic. Go for pirates of grill. It will be worth it\n"
     ]
    }
   ],
   "source": [
    "import requests\n",
    "latitude=\"28.697522\"\n",
    "longitude=\"77.140681\"\n",
    "user_key='3754f0440b3026cde542ed69af9f499a'\n",
    "basic_api='https://developers.zomato.com/api/v2.1'\n",
    "header={\"User-agent\": \"curl/7.43.0\",'Accept': 'application/json','user-key':user_key}\n",
    "params={'res_id':18204820}\n",
    "response=requests.get(basic_api+'/reviews',headers=header,params=params)\n",
    "\n",
    "ans = response.json()\n",
    "a= ans['user_reviews']\n",
    "\n",
    "for i in a:\n",
    "    print(i['review']['user']['name'], i['review']['rating'],i['review']['review_text'])\n"
   ]
  }
 ],
 "metadata": {
  "kernelspec": {
   "display_name": "Python 3",
   "language": "python",
   "name": "python3"
  },
  "language_info": {
   "codemirror_mode": {
    "name": "ipython",
    "version": 3
   },
   "file_extension": ".py",
   "mimetype": "text/x-python",
   "name": "python",
   "nbconvert_exporter": "python",
   "pygments_lexer": "ipython3",
   "version": "3.8.5"
  }
 },
 "nbformat": 4,
 "nbformat_minor": 4
}
