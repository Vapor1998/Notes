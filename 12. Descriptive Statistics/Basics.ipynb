{
 "cells": [
  {
   "cell_type": "code",
   "execution_count": 7,
   "id": "370c84aa",
   "metadata": {},
   "outputs": [
    {
     "data": {
      "text/plain": [
       "4"
      ]
     },
     "execution_count": 7,
     "metadata": {},
     "output_type": "execute_result"
    }
   ],
   "source": [
    "import statistics as s\n",
    "a = [1, 2, 10, 6, 4, 4, 6, 3, 1, 41, 2, 10, 6, 4, 4, 6, 3, 1, 4]\n",
    "s = s.median(a)\n",
    "s"
   ]
  },
  {
   "cell_type": "code",
   "execution_count": 8,
   "id": "92aee7ea",
   "metadata": {},
   "outputs": [
    {
     "data": {
      "text/plain": [
       "85"
      ]
     },
     "execution_count": 8,
     "metadata": {},
     "output_type": "execute_result"
    }
   ],
   "source": [
    "import statistics as s\n",
    "a = [90, 95, 95, 94, 90, 85, 84, 83, 85, 81, 92, 93, 82, 78, 79, 81, 80, 82, 85, 76, 85]\n",
    "s = s.mode(a)\n",
    "s"
   ]
  },
  {
   "cell_type": "code",
   "execution_count": 10,
   "id": "7083c4d2",
   "metadata": {},
   "outputs": [
    {
     "data": {
      "text/plain": [
       "4"
      ]
     },
     "execution_count": 10,
     "metadata": {},
     "output_type": "execute_result"
    }
   ],
   "source": [
    "import statistics as s\n",
    "a = [4,9,8,2,16,4,4,8,9,6]\n",
    "m = s.mean(a)\n",
    "mode = s.mode(a)\n",
    "mode"
   ]
  },
  {
   "cell_type": "code",
   "execution_count": 2,
   "id": "a55e4543",
   "metadata": {},
   "outputs": [
    {
     "data": {
      "text/plain": [
       "5.0"
      ]
     },
     "execution_count": 2,
     "metadata": {},
     "output_type": "execute_result"
    }
   ],
   "source": [
    "import statistics as s\n",
    "a = [5, 10, 15, 5, 15]\n",
    "a = s.stdev(a)\n",
    "a"
   ]
  },
  {
   "cell_type": "markdown",
   "id": "3898e8b3",
   "metadata": {},
   "source": [
    "**`Under what circumstances should we be cautious about using the mean as a measure of central tendency ?`**  \n",
    "  \n",
    "As the data becomes skewed the mean loses its ability to provide the best central location for the data because the skewed data is dragging it away from the typical value. \n",
    "\n",
    "So, for left-skewed data and right-skewed data, \"mean\" should be avoided.\n",
    "\n",
    "We usually prefer the median over the mean (or mode) when our data is skewed. As the median best retains this position and is not as strongly influenced by the skewed values."
   ]
  },
  {
   "cell_type": "code",
   "execution_count": 4,
   "id": "8a1a52dd",
   "metadata": {},
   "outputs": [
    {
     "data": {
      "text/plain": [
       "24.47222222222222"
      ]
     },
     "execution_count": 4,
     "metadata": {},
     "output_type": "execute_result"
    }
   ],
   "source": [
    "import statistics as s\n",
    "a = [14, 23, 9, 12, 21, 18]\n",
    "var = s.pvariance(a)\n",
    "var"
   ]
  },
  {
   "cell_type": "code",
   "execution_count": 6,
   "id": "d0d4e9d3",
   "metadata": {},
   "outputs": [
    {
     "data": {
      "text/plain": [
       "5.419102016632153"
      ]
     },
     "execution_count": 6,
     "metadata": {},
     "output_type": "execute_result"
    }
   ],
   "source": [
    "import statistics as s\n",
    "a = [14, 23, 9, 12, 21, 18]\n",
    "std = s.stdev(a)\n",
    "std"
   ]
  },
  {
   "cell_type": "code",
   "execution_count": 8,
   "id": "ff9c1b6d",
   "metadata": {},
   "outputs": [
    {
     "data": {
      "text/plain": [
       "10.5"
      ]
     },
     "execution_count": 8,
     "metadata": {},
     "output_type": "execute_result"
    }
   ],
   "source": [
    "import numpy as np\n",
    "a = [1, 3, 3, 4, 6, 7, 7, 7, 8, 9, 9, 10, 12, 15, 16, 17]\n",
    "np.percentile(a, 75)"
   ]
  },
  {
   "cell_type": "code",
   "execution_count": 10,
   "id": "77c571de",
   "metadata": {},
   "outputs": [
    {
     "data": {
      "text/plain": [
       "5.744999999999999"
      ]
     },
     "execution_count": 10,
     "metadata": {},
     "output_type": "execute_result"
    }
   ],
   "source": [
    "a = [1.52, 5.36, 6.79, 5.21, 0.28, 6.36, 8.47, 5.52, 6.26, 5.97]\n",
    "np.percentile(a, 50)"
   ]
  },
  {
   "cell_type": "code",
   "execution_count": 21,
   "id": "e73d1b31",
   "metadata": {},
   "outputs": [
    {
     "data": {
      "text/plain": [
       "76.25"
      ]
     },
     "execution_count": 21,
     "metadata": {},
     "output_type": "execute_result"
    }
   ],
   "source": [
    "b = [20, 40, 50, 65, 70, 75, 80, 100]\n",
    "np.percentile(b, 75)"
   ]
  },
  {
   "cell_type": "code",
   "execution_count": 7,
   "id": "0051ea29",
   "metadata": {},
   "outputs": [
    {
     "data": {
      "text/plain": [
       "77.5"
      ]
     },
     "execution_count": 7,
     "metadata": {},
     "output_type": "execute_result"
    }
   ],
   "source": [
    "import numpy as np\n",
    "b = [20, 40, 50, 65, 70, 75, 80, 100]\n",
    "np.percentile(b, 75, interpolation='midpoint')"
   ]
  },
  {
   "cell_type": "markdown",
   "id": "a825ea78",
   "metadata": {},
   "source": [
    "## Calculate Mean Median Mode"
   ]
  },
  {
   "cell_type": "code",
   "execution_count": 22,
   "id": "07817e45",
   "metadata": {},
   "outputs": [
    {
     "name": "stdout",
     "output_type": "stream",
     "text": [
      "28\n",
      "25\n",
      "25\n"
     ]
    }
   ],
   "source": [
    "import statistics as s\n",
    "a = [24, 43, 41, 33, 25, 19, 17, 9, 50, 34, 55, 2, 25, 21]\n",
    "print(int(s.mean(a)))\n",
    "print(int(s.median(a)))\n",
    "print(int(s.mode(a)))"
   ]
  },
  {
   "cell_type": "markdown",
   "id": "df123cee",
   "metadata": {},
   "source": [
    "## Calculate Quantile Statistics"
   ]
  },
  {
   "cell_type": "code",
   "execution_count": 28,
   "id": "5e98464e",
   "metadata": {},
   "outputs": [
    {
     "name": "stdout",
     "output_type": "stream",
     "text": [
      "2\n",
      "19\n",
      "25\n",
      "39\n",
      "55\n"
     ]
    }
   ],
   "source": [
    "import numpy as np\n",
    "a = np.array([24, 43, 41, 33, 25, 19, 17, 9, 50, 34, 55, 2, 25, 21])\n",
    "print(int(np.percentile(a, 0)))\n",
    "print(int(np.percentile(a, 25)))\n",
    "print(int(np.percentile(a, 50)))\n",
    "print(int(np.percentile(a, 75)))\n",
    "print(int(np.percentile(a, 100)))\n"
   ]
  },
  {
   "cell_type": "code",
   "execution_count": 26,
   "id": "3b8686a6",
   "metadata": {},
   "outputs": [
    {
     "name": "stdout",
     "output_type": "stream",
     "text": [
      "2\n",
      "19\n",
      "25\n",
      "39\n",
      "55\n"
     ]
    }
   ],
   "source": [
    "import numpy as np\n",
    "a = np.array([24, 43, 41, 33, 25, 19, 17, 9, 50, 34, 55, 2, 25, 21])\n",
    "quant = np.quantile(a, [0, 0.25, 0.50, 0.75, 1])\n",
    "for i in quant:\n",
    "    print(int(i))"
   ]
  },
  {
   "cell_type": "markdown",
   "id": "0fae06ca",
   "metadata": {},
   "source": [
    "## Calculate IQR Statistics\n"
   ]
  },
  {
   "cell_type": "code",
   "execution_count": 27,
   "id": "cef87a93",
   "metadata": {},
   "outputs": [
    {
     "name": "stdout",
     "output_type": "stream",
     "text": [
      "19\n"
     ]
    }
   ],
   "source": [
    "import numpy as np\n",
    "a = np.array([24, 43, 41, 33, 25, 19, 17, 9, 50, 34, 55, 2, 25, 21])\n",
    "q1 = np.quantile(a,0.25)\n",
    "q3 = np.quantile(a, 0.75)\n",
    "print(int(q3-q1))"
   ]
  },
  {
   "cell_type": "code",
   "execution_count": 31,
   "id": "8ab55a31",
   "metadata": {},
   "outputs": [
    {
     "name": "stdout",
     "output_type": "stream",
     "text": [
      "19\n"
     ]
    }
   ],
   "source": [
    "import numpy as np\n",
    "a = np.array([24, 43, 41, 33, 25, 19, 17, 9, 50, 34, 55, 2, 25, 21])\n",
    "q3, q1 = np.percentile(a, [75,25])\n",
    "print(int(q3-q1))"
   ]
  },
  {
   "cell_type": "markdown",
   "id": "74c888b1",
   "metadata": {},
   "source": [
    "## Calculate Variance and Standard Deviation"
   ]
  },
  {
   "cell_type": "code",
   "execution_count": 36,
   "id": "941d10d6",
   "metadata": {},
   "outputs": [
    {
     "name": "stdout",
     "output_type": "stream",
     "text": [
      "229\n",
      "15\n"
     ]
    }
   ],
   "source": [
    "import statistics as s\n",
    "a = [24, 43, 41, 33, 25, 19, 17, 9, 50, 34, 55, 2, 25, 21]\n",
    "std = s.stdev(a)\n",
    "var = s.variance(a)\n",
    "print(int(var))\n",
    "print(int(std))"
   ]
  }
 ],
 "metadata": {
  "kernelspec": {
   "display_name": "Python 3 (ipykernel)",
   "language": "python",
   "name": "python3"
  },
  "language_info": {
   "codemirror_mode": {
    "name": "ipython",
    "version": 3
   },
   "file_extension": ".py",
   "mimetype": "text/x-python",
   "name": "python",
   "nbconvert_exporter": "python",
   "pygments_lexer": "ipython3",
   "version": "3.9.12"
  }
 },
 "nbformat": 4,
 "nbformat_minor": 5
}
