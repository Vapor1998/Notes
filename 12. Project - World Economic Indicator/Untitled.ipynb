{
 "cells": [
  {
   "cell_type": "markdown",
   "id": "dbdc2b51",
   "metadata": {},
   "source": [
    "## Steps For Project\n",
    "1. First Sort the Sheet on `Country/Region` column. \n",
    "2. Create `SrNo.` Column by the formula `=SEQUENCE(2691)` (Create it on A2).  \n",
    "3. First copy the BUSINESS SHEET on new sheet.   "
   ]
  },
  {
   "cell_type": "markdown",
   "id": "869fab00",
   "metadata": {},
   "source": [
    "#### Formula to Merge TOURISM sheet into BUSINESS.  \n",
    "`=ARRAYFORMULA(VLOOKUP(A2,IMPORTRANGE(\"https://docs.google.com/spreadsheets/d/1BuTWp7qHGjWhqrnf-OmePP568O4A5Am9ttzvVdP67zw/edit#gid=1603210130\", \"TOURISM!$A$2:$F$2692\"), {2,3,4,5,6},0))`"
   ]
  },
  {
   "cell_type": "markdown",
   "id": "d7b63ca1",
   "metadata": {},
   "source": [
    "#### Formula to Merge HUMAN RESOURCES sheet into BUSINESS.  \n",
    "`=ARRAYFORMULA(VLOOKUP(A2,IMPORTRANGE(\"https://docs.google.com/spreadsheets/d/1BuTWp7qHGjWhqrnf-OmePP568O4A5Am9ttzvVdP67zw/edit#gid=771602874\" ,\"HUMAN RESOURCES!$A$2:$M$2692\"), {2,3,4,5,6,7,8,9,10,11,12,13},0))`"
   ]
  },
  {
   "cell_type": "markdown",
   "id": "59686eb6",
   "metadata": {},
   "source": [
    "#### Formula to Merge ENERGY sheet into BUSINESS.\n",
    "`=ARRAYFORMULA(VLOOKUP(A2,IMPORTRANGE(\"https://docs.google.com/spreadsheets/d/1BuTWp7qHGjWhqrnf-OmePP568O4A5Am9ttzvVdP67zw/edit#gid=1931367683\" ,\"ENERGY!$A$2:$F$2692\"), {2,3,4,5,6},0))`"
   ]
  },
  {
   "cell_type": "markdown",
   "id": "395fcba9",
   "metadata": {},
   "source": [
    "#### Formula to merge GDP into BUSINESS.   \n",
    "First convert the SrNo. column to integer\n",
    "`Select SrNo. column, Format -> Number -> Number.`\n",
    "`=ARRAYFORMULA(VLOOKUP(A2,IMPORTRANGE(\"https://docs.google.com/spreadsheets/d/1eH-rCeRDGFuBshqIHg0MSx2VsyfqMvcyyTNkMRLgDDk/edit#gid=181560561\" ,\"GDP!$A$2:$H$2692\"), {2,3,4,5,6,7,8},0))`"
   ]
  },
  {
   "cell_type": "code",
   "execution_count": 1,
   "id": "0ea2dba6",
   "metadata": {},
   "outputs": [],
   "source": [
    "import pandas as pd\n",
    "#create DataFrame\n",
    "df = pd.DataFrame({'team': ['A', 'A', 'B', 'B', 'B', 'B', 'B', 'B'],\n",
    "'position': ['G', 'G', 'F', 'G', 'F', 'F', 'C',\n",
    "'C'],\n",
    "'assists': [5, 7, 7, 8, 5, 7, 6, 9],\n",
    "'rebounds': [11, 8, 10, 6, 6, 9, 6, 10]})\n"
   ]
  },
  {
   "cell_type": "code",
   "execution_count": 4,
   "id": "20c3350c",
   "metadata": {},
   "outputs": [
    {
     "data": {
      "text/html": [
       "<div>\n",
       "<style scoped>\n",
       "    .dataframe tbody tr th:only-of-type {\n",
       "        vertical-align: middle;\n",
       "    }\n",
       "\n",
       "    .dataframe tbody tr th {\n",
       "        vertical-align: top;\n",
       "    }\n",
       "\n",
       "    .dataframe thead th {\n",
       "        text-align: right;\n",
       "    }\n",
       "</style>\n",
       "<table border=\"1\" class=\"dataframe\">\n",
       "  <thead>\n",
       "    <tr style=\"text-align: right;\">\n",
       "      <th></th>\n",
       "      <th>team</th>\n",
       "      <th>position</th>\n",
       "      <th>assists</th>\n",
       "      <th>rebounds</th>\n",
       "    </tr>\n",
       "  </thead>\n",
       "  <tbody>\n",
       "    <tr>\n",
       "      <th>0</th>\n",
       "      <td>A</td>\n",
       "      <td>G</td>\n",
       "      <td>5</td>\n",
       "      <td>11</td>\n",
       "    </tr>\n",
       "    <tr>\n",
       "      <th>1</th>\n",
       "      <td>A</td>\n",
       "      <td>G</td>\n",
       "      <td>7</td>\n",
       "      <td>8</td>\n",
       "    </tr>\n",
       "    <tr>\n",
       "      <th>5</th>\n",
       "      <td>B</td>\n",
       "      <td>F</td>\n",
       "      <td>7</td>\n",
       "      <td>9</td>\n",
       "    </tr>\n",
       "    <tr>\n",
       "      <th>2</th>\n",
       "      <td>B</td>\n",
       "      <td>F</td>\n",
       "      <td>7</td>\n",
       "      <td>10</td>\n",
       "    </tr>\n",
       "  </tbody>\n",
       "</table>\n",
       "</div>"
      ],
      "text/plain": [
       "  team position  assists  rebounds\n",
       "0    A        G        5        11\n",
       "1    A        G        7         8\n",
       "5    B        F        7         9\n",
       "2    B        F        7        10"
      ]
     },
     "execution_count": 4,
     "metadata": {},
     "output_type": "execute_result"
    }
   ],
   "source": [
    "import numpy as np\n",
    "#define the total sample size desired\n",
    "N = 4\n",
    "#perform stratified random sampling\n",
    "df.groupby('team', group_keys=False).apply(lambda x: x.sample(2))"
   ]
  }
 ],
 "metadata": {
  "kernelspec": {
   "display_name": "Python 3 (ipykernel)",
   "language": "python",
   "name": "python3"
  },
  "language_info": {
   "codemirror_mode": {
    "name": "ipython",
    "version": 3
   },
   "file_extension": ".py",
   "mimetype": "text/x-python",
   "name": "python",
   "nbconvert_exporter": "python",
   "pygments_lexer": "ipython3",
   "version": "3.9.12"
  }
 },
 "nbformat": 4,
 "nbformat_minor": 5
}
