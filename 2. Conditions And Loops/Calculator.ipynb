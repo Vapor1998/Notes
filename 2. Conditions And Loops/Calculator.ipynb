{
 "cells": [
  {
   "cell_type": "code",
   "execution_count": null,
   "metadata": {},
   "outputs": [],
   "source": [
    "\n",
    "while True:\n",
    "    n = int(input())\n",
    "    if n == 6:\n",
    "        break\n",
    "    elif n > 6:\n",
    "        print(\"Invalid Operation\")\n",
    "    else:\n",
    "        a = int(input())\n",
    "        b = int(input())\n",
    "    if n == 1:\n",
    "        c = a + b\n",
    "        print(c)\n",
    "        \n",
    "    elif n == 2:\n",
    "        c = a - b\n",
    "        print(c)\n",
    "        \n",
    "    elif n == 3:\n",
    "        c = a * b\n",
    "        print(c)\n",
    "        \n",
    "    elif n == 4:\n",
    "        c = a // b\n",
    "        print(c)\n",
    "        \n",
    "    elif n == 5:\n",
    "        c = a % b\n",
    "        print(c)\n",
    "        \n",
    "    elif n == 6:\n",
    "        break\n",
    "        \n",
    "    else:\n",
    "        print(\"Invalid Operation\")"
   ]
  },
  {
   "cell_type": "code",
   "execution_count": null,
   "metadata": {},
   "outputs": [],
   "source": []
  }
 ],
 "metadata": {
  "kernelspec": {
   "display_name": "Python 3",
   "language": "python",
   "name": "python3"
  },
  "language_info": {
   "codemirror_mode": {
    "name": "ipython",
    "version": 3
   },
   "file_extension": ".py",
   "mimetype": "text/x-python",
   "name": "python",
   "nbconvert_exporter": "python",
   "pygments_lexer": "ipython3",
   "version": "3.8.5"
  }
 },
 "nbformat": 4,
 "nbformat_minor": 4
}
