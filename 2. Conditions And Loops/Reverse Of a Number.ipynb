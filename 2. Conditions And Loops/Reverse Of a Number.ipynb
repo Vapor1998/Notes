{
 "cells": [
  {
   "cell_type": "code",
   "execution_count": 8,
   "metadata": {},
   "outputs": [
    {
     "name": "stdout",
     "output_type": "stream",
     "text": [
      "1234\n",
      "4321\n"
     ]
    }
   ],
   "source": [
    "\n",
    "def reverse(n):\n",
    "    rev = 0\n",
    "    while n > 0:\n",
    "        a = n % 10\n",
    "        rev = rev * 10 + a\n",
    "        n = n // 10\n",
    "    print(rev)\n",
    "    \n",
    "    \n",
    "    \n",
    "n=int(input())\n",
    "reverse(n)\n"
   ]
  }
 ],
 "metadata": {
  "kernelspec": {
   "display_name": "Python 3",
   "language": "python",
   "name": "python3"
  },
  "language_info": {
   "codemirror_mode": {
    "name": "ipython",
    "version": 3
   },
   "file_extension": ".py",
   "mimetype": "text/x-python",
   "name": "python",
   "nbconvert_exporter": "python",
   "pygments_lexer": "ipython3",
   "version": "3.8.5"
  }
 },
 "nbformat": 4,
 "nbformat_minor": 4
}
