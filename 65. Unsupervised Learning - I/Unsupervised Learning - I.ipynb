{
 "cells": [
  {
   "cell_type": "markdown",
   "metadata": {
    "id": "lF-T-YCPBpaN"
   },
   "source": [
    "#**Unsupervised Learning**"
   ]
  },
  {
   "cell_type": "markdown",
   "metadata": {
    "id": "Fs9RlcetCZqW"
   },
   "source": [
    "**What will you learn?**\n",
    "1. **Introduction**\n",
    "2. **Problems** : Issues with Unsupervised Learning\n",
    "3. **Types of Unsupervised Learning** : Parametric, Non-Parametric\n",
    "4. **Clustering**\n",
    "5. **Types of Clustering** : Flat, Heirarchical\n",
    "6. **K-Means for Clustering**\n",
    "7. **Sklearn's K-Means**\n",
    "8. **Self Implemented K-Means**"
   ]
  },
  {
   "cell_type": "markdown",
   "metadata": {
    "id": "n4czjGy8_xrm"
   },
   "source": [
    "In some pattern recognition problems, the training data consists of a set of input vectors x without any corresponding target values. The goal in such unsupervised learning problems may be to discover groups of similar examples within the data, where it is called clustering, or to determine how the data is distributed in the space, known as density estimation. To put forward in simpler terms, for a n-sampled space x1 to xn, true class labels are not provided for each sample, hence known as learning without teacher."
   ]
  },
  {
   "cell_type": "markdown",
   "metadata": {},
   "source": [
    "# 1. Intro to unsupervised learning\n"
   ]
  },
  {
   "cell_type": "markdown",
   "metadata": {
    "id": "DGoVrLYs_xpT"
   },
   "source": [
    "## **Problems with Unsupervised Learning**\n",
    "1. Unsupervised Learning is harder as compared to Supervised Learning tasks.\n",
    "2. How do we know if results are meaningful since no answer labels are available?\n"
   ]
  },
  {
   "cell_type": "markdown",
   "metadata": {
    "id": "V-6KjAwg_xm-"
   },
   "source": [
    "## **Why Unsupervised Learning is needed despite of these problems?**\n",
    "1. Annotating large datasets is very costly and hence we can label only a few examples manually. Example: Speech Recognition\n",
    "2. There may be cases where we don’t know how many/what classes is the data divided into. Example: Data Mining\n",
    "3. We may want to use clustering to gain some insight into the structure of the data before designing a classifier.\n",
    "\n"
   ]
  },
  {
   "cell_type": "markdown",
   "metadata": {
    "id": "-mGLN45n_xk9"
   },
   "source": [
    "## **Types of Unsupervised Learning**"
   ]
  },
  {
   "cell_type": "markdown",
   "metadata": {
    "id": "SefgYJX-Bx-n"
   },
   "source": [
    "###**Parametric Unsupervised Learning**\n"
   ]
  },
  {
   "cell_type": "markdown",
   "metadata": {
    "id": "MqDOAs0cBx1R"
   },
   "source": [
    "In this case, we assume a parametric distribution of data. It assumes that sample data comes from a population that follows a probability distribution based on a fixed set of parameters. Theoretically, in a normal family of distributions, all members have the same shape and are parameterized by mean and standard deviation. That means if you know the mean and standard deviation, and that the distribution is normal, you know the probability of any future observation. Parametric Unsupervised Learning involves construction of Gaussian Mixture Models and using Expectation-Maximization algorithm to predict the class of the sample in question. This case is much harder than the standard supervised learning because there are no answer labels available and hence there is no correct measure of accuracy available to check the result."
   ]
  },
  {
   "cell_type": "markdown",
   "metadata": {
    "id": "aqbEFnWpB2-F"
   },
   "source": [
    "###**Non-parametric Unsupervised Learning**"
   ]
  },
  {
   "cell_type": "markdown",
   "metadata": {
    "id": "RGWrRCER_xiv"
   },
   "source": [
    "In non-parameterized version of unsupervised learning, the data is grouped into clusters, where each cluster(hopefully) says something about categories and classes present in the data. This method is commonly used to model and analyze data with small sample sizes. Unlike parametric models, nonparametric models do not require the modeler to make any assumptions about the distribution of the population, and so are sometimes referred to as a distribution-free method."
   ]
  },
  {
   "cell_type": "markdown",
   "metadata": {
    "id": "4YxejJf6_xgq"
   },
   "source": [
    "##**Clustering**"
   ]
  },
  {
   "cell_type": "markdown",
   "metadata": {
    "id": "jy4Ey5a-_xeb"
   },
   "source": [
    "Clustering can be considered the most important unsupervised learning problem; so, as every other problem of this kind, it deals with finding a structure in a collection of unlabeled data. A loose definition of clustering could be “the process of organizing objects into groups whose members are similar in some way”. A cluster is therefore a collection of objects which are “similar” between them and are “dissimilar” to the objects belonging to other clusters.\n",
    "\n",
    "<img src = \"https://files.codingninjas.in/0_9ksfyh14c-aretav_-8051.png\" width = 500>"
   ]
  },
  {
   "cell_type": "markdown",
   "metadata": {
    "id": "TAGwuL-L_xcT"
   },
   "source": [
    "# 2 Introduction to clustering\n"
   ]
  },
  {
   "cell_type": "markdown",
   "metadata": {
    "id": "hNbBT8hN_xZ7"
   },
   "source": [
    "There are two types of clustering :\n",
    "1. Flat Clustering\n",
    "2. Hierarchical Clustering"
   ]
  },
  {
   "cell_type": "markdown",
   "metadata": {
    "id": "5nCsKpQy_xYE"
   },
   "source": [
    "####**Flat Clustering**\n",
    "\n",
    "\n"
   ]
  },
  {
   "cell_type": "markdown",
   "metadata": {
    "id": "hfFZCOseRYak"
   },
   "source": [
    "Flat clustering is where we tell the model how many categories to cluster the data into. \n",
    "\n"
   ]
  },
  {
   "cell_type": "markdown",
   "metadata": {
    "id": "-33UIMDsRZ5d"
   },
   "source": [
    "#### **Hierarchical Clustering**\n"
   ]
  },
  {
   "cell_type": "markdown",
   "metadata": {
    "id": "ViL85_UpRde9"
   },
   "source": [
    "Hierarchical clustering, as the name suggests is an algorithm that builds hierarchy of clusters. This algorithm starts with all the data points assigned to a cluster of their own. Then two nearest clusters are merged into the same cluster. In the end, this algorithm terminates when there is only a single cluster left.\n",
    "\n",
    "Two important things that you should know about hierarchical clustering are:\n",
    "1. This algorithm has been implemented above using bottom up approach. It is also possible to follow top-down approach starting with all data points assigned in the same cluster and recursively performing splits till each data point is assigned a separate cluster.\n",
    "2. The decision of merging two clusters is taken on the basis of closeness of these clusters. There are multiple metrics for deciding the closeness of two clusters such as Euclidean distance, Squared Euclidean distance , Manhattan distance, etc. "
   ]
  },
  {
   "cell_type": "markdown",
   "metadata": {},
   "source": [
    "# 3. Using KMeans for Flat Clustering\n"
   ]
  },
  {
   "cell_type": "markdown",
   "metadata": {
    "id": "xKU3LgDk_xV3"
   },
   "source": [
    "##**K-Means Clustering**"
   ]
  },
  {
   "cell_type": "markdown",
   "metadata": {
    "id": "Al3b0HOM_xTr"
   },
   "source": [
    "The k-means clustering method is an unsupervised machine learning technique used to identify clusters of data objects in a dataset. \n",
    "\n",
    "The basic idea is to define k centres, one for each cluster.The centroids are placed as much as possible far away from each other. The next step is to take each point belonging to a given data set and associate it to the nearest centroid. When no point is pending, the first step is completed and an early groupage is done. At this point we need to re-calculate k new centroids as barycenters of the clusters resulting from the previous step. After we have these k new centroids, a new binding has to be done between the same data set points and the nearest new centroid. A loop has been generated. As a result of this loop we may notice that the k centroids change their location step by step until no more changes are done.\n",
    "\n",
    "Finally, this algorithm aims at minimizing an objective function, in this case a squared error function. The objective function\n",
    "$$\\sum_{j=1}^{k}\\sum_{i=1}^{k}||x_i^j - c_j||^2$$\n",
    "where $$||x_i^j - c_j||$$\n",
    "\n",
    "chosen distance measure between a data point xi and the cluster centre cj, is an indicator of the distance of the n data points from their respective cluster centres"
   ]
  },
  {
   "cell_type": "markdown",
   "metadata": {
    "id": "pQTeOo0v_xRc"
   },
   "source": [
    "# 4. KMeans Algorithm\n",
    "\n",
    "1. Specify the number of clusters k to assign.\n",
    "2. Randomly initialize k centroids.\n",
    "3. **repeat**\n",
    "4. **expectation**: Assign each point to its closest centroid.\n",
    "5. **maximization**: Compute the centroid of each cluster.\n",
    "6. **until** the centroid position does not change."
   ]
  },
  {
   "cell_type": "markdown",
   "metadata": {},
   "source": [
    "When we talk abt kmeans, we are trying to get to k clusters, but these clusters are defined by their mean values. For eg, if I make k clusters and we get new datapoint p, how will we decide which cluster this datapoint will go to?  \n",
    "That will be decided by which clusters mean is closest to this datapoint p. So we will find distance between this p and mean of all clusters, and we will pick all the clusters whose mean is closest to this point p. So in a way while calculating these clusters, we will just store the mean values.  \n",
    "Now for any point we want to figure out which clusters it belongs to, just find the distance to all the means, and we would know which point belongs to which clusters.  \n",
    "So the steps of kmeans Algorithm is  \n",
    "1. **Lets Randomly pick k means value.** Which means from our dataset, we will just randomly pick k points as our mean points. \n",
    "2. **Assign each datapoint a cluster.** How do we assign? By simply seeing which mean is closest to that datapoint.  \n",
    "3. **Find the New Mean values of our clusters.**\n",
    "4. **Then we will go back to step and repeat 2 and 3.** \n",
    "We can either stop at max no of iterations or we can stop when there is nothing changing in our datapoint system which means the mean value is not changing and if the mean value is not changing once, they will not change later on as well.    \n",
    "  \n",
    "  \n",
    "So the two terminating conditions are  \n",
    "1. max iteration\n",
    "2. No more changes. \n",
    "or we can use combination of both, which means lets say we are running it for fix iteration, and we see that there is no more changes happening, we will stop.  \n",
    "  \n",
    "Its possible that we will start with really bad mean values, we pick up some mean values which are really bad, that can lead to an inefficient clustering as well. So kmeans does not necessarily means we will end up with the best clustering possible. So lots of time we will run this algorithm two or three times and take the best clustering as we get to."
   ]
  },
  {
   "cell_type": "markdown",
   "metadata": {
    "id": "UsCkU3_H_xPO"
   },
   "source": [
    "## 5. K-Means using Sklearn"
   ]
  },
  {
   "cell_type": "code",
   "execution_count": 1,
   "metadata": {},
   "outputs": [],
   "source": [
    "import numpy as np\n",
    "import matplotlib.pyplot as plt"
   ]
  },
  {
   "cell_type": "code",
   "execution_count": 2,
   "metadata": {},
   "outputs": [],
   "source": [
    "X = np.array([[1,2], [1.5,1.8], [5,8], [8,8], [1,0.6], [9,11]])"
   ]
  },
  {
   "cell_type": "code",
   "execution_count": 3,
   "metadata": {},
   "outputs": [
    {
     "data": {
      "image/png": "[encoded data removed]",
      "text/plain": [
       "<Figure size 432x288 with 1 Axes>"
      ]
     },
     "metadata": {
      "needs_background": "light"
     },
     "output_type": "display_data"
    }
   ],
   "source": [
    "plt.scatter(X[:,0], X[:,1])\n",
    "plt.show()"
   ]
  },
  {
   "cell_type": "code",
   "execution_count": 4,
   "metadata": {},
   "outputs": [],
   "source": [
    "# to use k means we need to import kmeans \n",
    "from sklearn.cluster import KMeans"
   ]
  },
  {
   "cell_type": "code",
   "execution_count": 5,
   "metadata": {},
   "outputs": [],
   "source": [
    "# by default, it takes n_clusters as 8. This will create object for us.\n",
    "k_means = KMeans(n_clusters = 2)"
   ]
  },
  {
   "cell_type": "code",
   "execution_count": 6,
   "metadata": {},
   "outputs": [
    {
     "data": {
      "text/plain": [
       "KMeans(n_clusters=2)"
      ]
     },
     "execution_count": 6,
     "metadata": {},
     "output_type": "execute_result"
    }
   ],
   "source": [
    "k_means.fit(X)"
   ]
  },
  {
   "cell_type": "markdown",
   "metadata": {},
   "source": [
    "**Arguments**     \n",
    "**precompute_distances = 'auto'** : This is basically optimization that sklearn is doing it will try and compute the distances\n",
    "first so that we dont have to calculate again and again.    \n",
    "**init = 'k-means++'** : This is actually how do we initialize the first k points, so if we have to do it, we might just pick randomly k points, its using an algorithm called k-means++ which tries to pick these points in a way that they are spread out.  \n",
    "**max_iter = 300** : How many times we want to update our means and update the clusters.  \n",
    "**n_init = 10** : This means how many times do we want to initialize and run our algorithm again(different kinds of initialization). We will start with one initialization, run the algorithm, reach some point then we will run it again with some other initialization and eventually whichever initialization will give us best result we will use that.  \n",
    "So which clustering is better we are going to define that using function which we defined earlier which is sum of distances of each point to the mean of the cluster which they belong to. Thats the error function which we want to minimize. So if we run this algorithm 10 times, with different initializations whichever initialization gives us the best or the minimum loss function, we will pick that solution."
   ]
  },
  {
   "cell_type": "code",
   "execution_count": 7,
   "metadata": {},
   "outputs": [
    {
     "data": {
      "text/plain": [
       "array([0, 0, 1, 1, 0, 1])"
      ]
     },
     "execution_count": 7,
     "metadata": {},
     "output_type": "execute_result"
    }
   ],
   "source": [
    "k_means.labels_\n",
    "# labels means which points got into which cluster."
   ]
  },
  {
   "cell_type": "code",
   "execution_count": 8,
   "metadata": {},
   "outputs": [
    {
     "data": {
      "text/plain": [
       "array([[1.16666667, 1.46666667],\n",
       "       [7.33333333, 9.        ]])"
      ]
     },
     "execution_count": 8,
     "metadata": {},
     "output_type": "execute_result"
    }
   ],
   "source": [
    "# we can also look at mean values\n",
    "k_means.cluster_centers_"
   ]
  },
  {
   "cell_type": "code",
   "execution_count": 9,
   "metadata": {},
   "outputs": [
    {
     "data": {
      "image/png": "[encoded data removed]",
      "text/plain": [
       "<Figure size 432x288 with 1 Axes>"
      ]
     },
     "metadata": {
      "needs_background": "light"
     },
     "output_type": "display_data"
    }
   ],
   "source": [
    "# lets try to plot this.\n",
    "plt.scatter(X[:, 0], X[:,1], c = k_means.labels_) # what this means is we have 6 points here and we are giving array of size 6 \n",
    "                                                  # as colors. SOme of them has 1, some of them has 0. So 1 will get the differ\n",
    "                                                  # color and 0 will get the different color.\n",
    "plt.show()"
   ]
  },
  {
   "cell_type": "markdown",
   "metadata": {},
   "source": [
    "So as we can see, different clusters have different color."
   ]
  },
  {
   "cell_type": "code",
   "execution_count": 12,
   "metadata": {},
   "outputs": [
    {
     "data": {
      "image/png": "[encoded data removed]",
      "text/plain": [
       "<Figure size 432x288 with 1 Axes>"
      ]
     },
     "metadata": {
      "needs_background": "light"
     },
     "output_type": "display_data"
    }
   ],
   "source": [
    "# lets plot the means as well.\n",
    "plt.scatter(X[:, 0], X[:,1], c = k_means.labels_)\n",
    "plt.scatter(k_means.cluster_centers_[:, 0], k_means.cluster_centers_[:, 1]) # so we have grabbed 0th feature as x axis and 1st \n",
    "                                                                            # feature as y axis.\n",
    "    \n",
    "plt.show()"
   ]
  },
  {
   "cell_type": "markdown",
   "metadata": {},
   "source": [
    "As we can see, mean is represented by blue color."
   ]
  },
  {
   "cell_type": "markdown",
   "metadata": {},
   "source": [
    "**Lets give clusters to be 3 and run it again**"
   ]
  },
  {
   "cell_type": "code",
   "execution_count": 13,
   "metadata": {},
   "outputs": [
    {
     "data": {
      "text/plain": [
       "KMeans(n_clusters=3)"
      ]
     },
     "execution_count": 13,
     "metadata": {},
     "output_type": "execute_result"
    }
   ],
   "source": [
    "k_means = KMeans(n_clusters = 3)\n",
    "k_means.fit(X)"
   ]
  },
  {
   "cell_type": "code",
   "execution_count": 14,
   "metadata": {},
   "outputs": [
    {
     "data": {
      "image/png": "[encoded data removed]",
      "text/plain": [
       "<Figure size 432x288 with 1 Axes>"
      ]
     },
     "metadata": {
      "needs_background": "light"
     },
     "output_type": "display_data"
    }
   ],
   "source": [
    "plt.scatter(X[:, 0], X[:,1], c = k_means.labels_)\n",
    "plt.scatter(k_means.cluster_centers_[:, 0], k_means.cluster_centers_[:, 1])\n",
    "plt.show()"
   ]
  },
  {
   "cell_type": "markdown",
   "metadata": {},
   "source": [
    "Seems like what happened is we have one cluster which is green, its fine and then we have one cluster in purple which is also fine and it has taken one cluster which we can see is overlapped by the mean in the upper right corner which seems to be in yellow color."
   ]
  },
  {
   "cell_type": "markdown",
   "metadata": {},
   "source": [
    "----------------"
   ]
  },
  {
   "cell_type": "markdown",
   "metadata": {},
   "source": [
    "----------"
   ]
  },
  {
   "cell_type": "code",
   "execution_count": null,
   "metadata": {
    "id": "9XB8lTQZNptS"
   },
   "outputs": [],
   "source": [
    "import numpy as np\n",
    "import matplotlib.pyplot as plt"
   ]
  },
  {
   "cell_type": "code",
   "execution_count": null,
   "metadata": {
    "id": "n-AF5Nv7Nsu5"
   },
   "outputs": [],
   "source": [
    "X = np.array([[1,2], [1.5,1.8], [5,8], [8,8], [1,0.6], [9,11]])"
   ]
  },
  {
   "cell_type": "code",
   "execution_count": null,
   "metadata": {
    "colab": {
     "base_uri": "https://localhost:8080/",
     "height": 265
    },
    "id": "ytBxeENnNstL",
    "outputId": "84694fc6-cf54-42de-dc7b-cd0cd294d9f9"
   },
   "outputs": [
    {
     "data": {
      "image/png": "[encoded data removed]",
      "text/plain": [
       "<Figure size 432x288 with 1 Axes>"
      ]
     },
     "metadata": {
      "needs_background": "light",
      "tags": []
     },
     "output_type": "display_data"
    }
   ],
   "source": [
    "plt.scatter(X[:,0], X[:,1])\n",
    "plt.show()"
   ]
  },
  {
   "cell_type": "code",
   "execution_count": null,
   "metadata": {
    "id": "6tPzaUpWNsp7"
   },
   "outputs": [],
   "source": [
    "from sklearn.cluster import KMeans"
   ]
  },
  {
   "cell_type": "code",
   "execution_count": null,
   "metadata": {
    "id": "wqNGXLe-NsoO"
   },
   "outputs": [],
   "source": [
    "k_means = KMeans(n_clusters = 2)"
   ]
  },
  {
   "cell_type": "code",
   "execution_count": null,
   "metadata": {
    "colab": {
     "base_uri": "https://localhost:8080/"
    },
    "id": "bxkSles1Nsd5",
    "outputId": "4fa964f6-65e6-4b2f-cb85-27b190c57cb8"
   },
   "outputs": [
    {
     "data": {
      "text/plain": [
       "KMeans(algorithm='auto', copy_x=True, init='k-means++', max_iter=300,\n",
       "       n_clusters=2, n_init=10, n_jobs=None, precompute_distances='auto',\n",
       "       random_state=None, tol=0.0001, verbose=0)"
      ]
     },
     "execution_count": 21,
     "metadata": {
      "tags": []
     },
     "output_type": "execute_result"
    }
   ],
   "source": [
    "k_means.fit(X)"
   ]
  },
  {
   "cell_type": "code",
   "execution_count": null,
   "metadata": {
    "colab": {
     "base_uri": "https://localhost:8080/"
    },
    "id": "lvoIPZfZN3x_",
    "outputId": "f10a55c8-2ee1-4a61-fbab-fa33f9745f4f"
   },
   "outputs": [
    {
     "data": {
      "text/plain": [
       "array([0, 0, 1, 1, 0, 1], dtype=int32)"
      ]
     },
     "execution_count": 22,
     "metadata": {
      "tags": []
     },
     "output_type": "execute_result"
    }
   ],
   "source": [
    "k_means.labels_"
   ]
  },
  {
   "cell_type": "code",
   "execution_count": null,
   "metadata": {
    "colab": {
     "base_uri": "https://localhost:8080/"
    },
    "id": "wLIzLoChN4oA",
    "outputId": "4945bc23-b83f-4cde-94b8-97a4dafa5271"
   },
   "outputs": [
    {
     "data": {
      "text/plain": [
       "array([[1.16666667, 1.46666667],\n",
       "       [7.33333333, 9.        ]])"
      ]
     },
     "execution_count": 23,
     "metadata": {
      "tags": []
     },
     "output_type": "execute_result"
    }
   ],
   "source": [
    "k_means.cluster_centers_"
   ]
  },
  {
   "cell_type": "code",
   "execution_count": null,
   "metadata": {
    "colab": {
     "base_uri": "https://localhost:8080/",
     "height": 265
    },
    "id": "6QQSdOqDN9Rp",
    "outputId": "10ccdfbb-e42e-4e75-bb8b-c98c31c08379"
   },
   "outputs": [
    {
     "data": {
      "image/png": "[encoded data removed]",
      "text/plain": [
       "<Figure size 432x288 with 1 Axes>"
      ]
     },
     "metadata": {
      "needs_background": "light",
      "tags": []
     },
     "output_type": "display_data"
    }
   ],
   "source": [
    "plt.scatter(X[:,0], X[:,1], c=k_means.labels_)\n",
    "plt.scatter(k_means.cluster_centers_[:,0],k_means.cluster_centers_[:,1])\n",
    "plt.show()"
   ]
  },
  {
   "cell_type": "markdown",
   "metadata": {
    "id": "RWVp3WarNsCA"
   },
   "source": [
    "##**Self-Implementation of K-Means**"
   ]
  },
  {
   "cell_type": "markdown",
   "metadata": {
    "id": "_tp2qTDE_xM7"
   },
   "source": [
    "Here we will code our own K-means algorithm usinf Fit and Predict functions.\n"
   ]
  },
  {
   "cell_type": "code",
   "execution_count": null,
   "metadata": {
    "id": "KyUal6YuPBFz"
   },
   "outputs": [],
   "source": [
    "import numpy as np\n",
    "import matplotlib.pyplot as plt"
   ]
  },
  {
   "cell_type": "code",
   "execution_count": null,
   "metadata": {
    "id": "IHUuRQyvPA7x"
   },
   "outputs": [],
   "source": [
    "X = np.array([[1,2], [1.5,1.8], [5,8], [8,8], [1,0.6], [9,11]])"
   ]
  },
  {
   "cell_type": "code",
   "execution_count": null,
   "metadata": {
    "colab": {
     "base_uri": "https://localhost:8080/",
     "height": 265
    },
    "id": "R_bmhHGQPAwz",
    "outputId": "873db455-65bb-4492-a175-1e46ea6a04d9"
   },
   "outputs": [
    {
     "data": {
      "image/png": "[encoded data removed]",
      "text/plain": [
       "<Figure size 432x288 with 1 Axes>"
      ]
     },
     "metadata": {
      "needs_background": "light",
      "tags": []
     },
     "output_type": "display_data"
    }
   ],
   "source": [
    "plt.scatter(X[:,0], X[:,1])\n",
    "plt.show()"
   ]
  },
  {
   "cell_type": "markdown",
   "metadata": {},
   "source": [
    "--------"
   ]
  },
  {
   "cell_type": "markdown",
   "metadata": {},
   "source": [
    "-----------"
   ]
  },
  {
   "cell_type": "markdown",
   "metadata": {},
   "source": [
    "# 6. Starter Code for KMeans  \n",
    "Basic intuition behind this is, lets say we have a training data, we will pass one testing data point and find its distance wrt all training datapoints, and then we will find first k nearest points, then find class of those point and then that class is the class of that particular datapoint.  \n"
   ]
  },
  {
   "cell_type": "code",
   "execution_count": 1,
   "metadata": {},
   "outputs": [],
   "source": [
    "import numpy as np\n",
    "import matplotlib.pyplot as plt"
   ]
  },
  {
   "cell_type": "code",
   "execution_count": 2,
   "metadata": {},
   "outputs": [],
   "source": [
    "X = np.array([[1,2], [1.5,1.8], [5,8], [8,8], [1,0.6], [9,11]])"
   ]
  },
  {
   "cell_type": "code",
   "execution_count": 3,
   "metadata": {},
   "outputs": [
    {
     "data": {
      "image/png": "[encoded data removed]",
      "text/plain": [
       "<Figure size 432x288 with 1 Axes>"
      ]
     },
     "metadata": {
      "needs_background": "light"
     },
     "output_type": "display_data"
    }
   ],
   "source": [
    "plt.scatter(X[:,0], X[:,1])\n",
    "plt.show()"
   ]
  },
  {
   "cell_type": "markdown",
   "metadata": {},
   "source": [
    "Fit function will require the data it needs to classify, it needs the clusters which is k = 2 by default and it needs max iteration which we give it to be 100.   \n",
    "First step is to maintain list of means at all times. what all my means values right now. We will initialize this list with random values and update it.  \n",
    "Second thing we will need is an array of arrays with k entries where each entries will represent what all datapoints are in cluster1, what all datapoints are in cluster2 and so on. We need this info because the third step we do, is find the new mean values. For finding new mean values, we need to know what all points are in clusters so that we can find the new mean values.  \n",
    "So the things we need to maintain is \n",
    "1. List of means\n",
    "2. cluster information i.e. which point belongs to which cluster.    \n",
    "  \n",
    "  \n",
    "Dry Run of Fit():  \n",
    "1. Create empty mean array and append first two entries\n",
    "2. Run a loop for max iter times\n",
    "3. make an empty cluster array and add k no of empty array in it.\n",
    "4. Go through each datapoint. \n",
    "5. find distances of that point from all means. \n",
    "6. find the mimimum distances and find the mean value which is at mimimum distance.  \n",
    "7. Append that datapoint to that cluster  \n",
    "8. For next part, we need to find new mean values so we find new mean values of k clusters, and check if the mean is same or not, if not then we will make change = True.  \n",
    "9. else we will change the mean, if the mean is same, we will break then."
   ]
  },
  {
   "cell_type": "code",
   "execution_count": 10,
   "metadata": {},
   "outputs": [],
   "source": [
    "# implementing the fit function.\n",
    "def fit(data, k = 2, max_iter = 100):\n",
    "    means = []\n",
    "    # 1. we will have to randomly initialize the means\n",
    "    # for this we will pick the first k datapoints and assign them to be initial means.\n",
    "    for i in range(k):\n",
    "        means.append(data[i])\n",
    "    #2. now we need to run max iter times \n",
    "    for i in range(max_iter):\n",
    "        #3. first thing we do is assign the datapoints to the cluster that they belong to.\n",
    "        # create empty clusters.\n",
    "        clusters = []\n",
    "        for i in range(k):\n",
    "            #4.everytime we start new iteration, we are going to start with empty clusters coz we are going to\n",
    "            # reassign all the datapoints to clusters. So we are going to have some means, assign some datapoints to some \n",
    "            # clusters, calculate the new means and then assign the datapoints to new clusters.\n",
    "            clusters.append([])\n",
    "        \n",
    "        #5. so we need to go through each datapoints.\n",
    "        for point in data:\n",
    "            #6. so we need to first find the distance to all the mean values\n",
    "            # so we will go through all the means and find the distances of all m wrt the point that we have and\n",
    "            # point is np array. point - m will give us elementwise subtraction. \n",
    "            distances = [((point - m)**2).sum() for m in means]\n",
    "            \n",
    "            # and find the min distance\n",
    "            minDistances = min(distances)\n",
    "            \n",
    "            # and find the mean for which we got the min distance --> lets say mean is l.\n",
    "            l = distances.index(minDistances)\n",
    "\n",
    "            # Add this point to cluster l.\n",
    "            clusters[l].append(point)\n",
    "            \n",
    "            # As we are done with this, we are done with the first part which is assign the datapoints to clusters that they \n",
    "            # belong to.\n",
    "            \n",
    "            \n",
    "            \n",
    "        \n",
    "        #7. second step we are supposed to do is calculate the mean values.\n",
    "        # if there is no change in mean value at all, we will return\n",
    "        change = False\n",
    "        for j in range(k):\n",
    "            # if we dont provide axis =0 it will find the average of cluster j of all the points and combines the x1 and x2 \n",
    "            # values as well.\n",
    "            new_mean = np.average(clusters[j], axis=0)\n",
    "            # below means if new mean is not equal to old mean value, we will make change = true.\n",
    "            if not np.array_equal(means[j], new_mean):\n",
    "                change = True\n",
    "            means[j] = new_mean\n",
    "        if not change:\n",
    "            break\n",
    "                \n",
    "        return means"
   ]
  },
  {
   "cell_type": "code",
   "execution_count": 11,
   "metadata": {},
   "outputs": [
    {
     "data": {
      "text/plain": [
       "[array([1., 2.]), array([4.9 , 5.88])]"
      ]
     },
     "execution_count": 11,
     "metadata": {},
     "output_type": "execute_result"
    }
   ],
   "source": [
    "fit(X)"
   ]
  },
  {
   "cell_type": "code",
   "execution_count": 12,
   "metadata": {},
   "outputs": [],
   "source": [
    "# predict will tell us which point belongs to which cluster.\n",
    "def predict(test_data, means):\n",
    "    predictions = []\n",
    "    for point in test_data:\n",
    "        # find distances to all mean values.\n",
    "        distances = [((point - m)**2).sum() for m in means]\n",
    "        \n",
    "        # and find the min distance\n",
    "        minDistances = min(distances)\n",
    "            \n",
    "        # and find the mean for which we got the min distance --> lets say mean is l.\n",
    "        l = distances.index(minDistances)\n",
    "        \n",
    "        # add this point to cluster l\n",
    "        predictions.append(l)\n",
    "    return predictions\n",
    "        "
   ]
  },
  {
   "cell_type": "code",
   "execution_count": 13,
   "metadata": {},
   "outputs": [
    {
     "data": {
      "text/plain": [
       "[0, 0, 1, 1, 0, 1]"
      ]
     },
     "execution_count": 13,
     "metadata": {},
     "output_type": "execute_result"
    }
   ],
   "source": [
    "means = fit(X)\n",
    "predict(X, means)\n",
    "# thats what we got in sklearn as well"
   ]
  },
  {
   "cell_type": "markdown",
   "metadata": {},
   "source": [
    "----------"
   ]
  },
  {
   "cell_type": "markdown",
   "metadata": {},
   "source": [
    "--------"
   ]
  },
  {
   "cell_type": "markdown",
   "metadata": {},
   "source": [
    "# 8. Implementing KMeans Class\n"
   ]
  },
  {
   "cell_type": "code",
   "execution_count": 52,
   "metadata": {},
   "outputs": [],
   "source": [
    "class K_Means:\n",
    "    def __init__(self):\n",
    "        print(\"constructor\")\n",
    "        \n",
    "        \n",
    "        \n",
    "    def fit (self, data, k = 2, max_iter = 100):\n",
    "        means = []\n",
    "        # randomly initialize the means\n",
    "        for i in range(k):\n",
    "            means.append(data[i])\n",
    "        for i in range(max_iter):\n",
    "            # assign the data points to the cluster that they belong to\n",
    "            # create empty clusters        \n",
    "            clusters = []\n",
    "            for j in range(k):\n",
    "                clusters.append([])\n",
    "            for point in data:\n",
    "                # find distance to all the mean values\n",
    "                distances = [((point - m)**2).sum() for m in means]\n",
    "                # find the min distance\n",
    "                minDistance = min(distances)\n",
    "                # find the mean for which we got the minimum distance --> l\n",
    "                l = distances.index(minDistance)\n",
    "                # add this point to cluster l\n",
    "                clusters[l].append(point)\n",
    "\n",
    "            # calculate the new mean values\n",
    "            change = False\n",
    "            for j in range(k):\n",
    "                new_mean = np.average(clusters[j], axis=0)\n",
    "                if not np.array_equal(means[j], new_mean):\n",
    "                    change = True\n",
    "                means[j] = new_mean\n",
    "            if not change:\n",
    "                break\n",
    "        return means\n",
    "    \n",
    "    def predict(self, test_data, means):\n",
    "        predictions = []\n",
    "        for point in test_data:\n",
    "           # find distance to all the mean values\n",
    "            distances = [((point - m)**2).sum() for m in means]\n",
    "            # find the min distance\n",
    "            minDistance = min(distances)\n",
    "            # find the mean for which we got the minimum distance --> l\n",
    "            l = distances.index(minDistance)\n",
    "            # add this point to cluster l\n",
    "            predictions.append(l)\n",
    "        return predictions"
   ]
  },
  {
   "cell_type": "code",
   "execution_count": 53,
   "metadata": {},
   "outputs": [
    {
     "name": "stdout",
     "output_type": "stream",
     "text": [
      "constructor\n"
     ]
    }
   ],
   "source": [
    "# creating the object of class\n",
    "kmeans =  K_Means()"
   ]
  },
  {
   "cell_type": "code",
   "execution_count": 54,
   "metadata": {},
   "outputs": [],
   "source": [
    "# creating fit function\n",
    "means = kmeans.fit(X)"
   ]
  },
  {
   "cell_type": "code",
   "execution_count": 55,
   "metadata": {},
   "outputs": [
    {
     "data": {
      "text/plain": [
       "[0, 0, 1, 1, 0, 1]"
      ]
     },
     "execution_count": 55,
     "metadata": {},
     "output_type": "execute_result"
    }
   ],
   "source": [
    "kmeans.predict(X, means)"
   ]
  },
  {
   "cell_type": "markdown",
   "metadata": {},
   "source": [
    "**Passing K and Iterations Manually**  \n",
    "Ideally we dont pass means as argument in predict function.  \n",
    "and K and max_iter should be in constructor.  \n",
    "Similarly we want means to be used by predict function.  \n",
    "  \n",
    "In a nutshell, we will pass k and means and max_iteras parameter, so we create class for it and pass it inside object of class. \n",
    "So change jo hoga, har jagah means, max_iter and k ke pehle self.k and self.means and self.max_iter hojaayega. Thats it."
   ]
  },
  {
   "cell_type": "code",
   "execution_count": 72,
   "metadata": {},
   "outputs": [],
   "source": [
    "class K_Means:\n",
    "    def __init__(self, k = 2, max_iter = 100):\n",
    "        print(\"constructor\")\n",
    "        self.k = k\n",
    "        self.max_iter = max_iter\n",
    "        \n",
    "        \n",
    "    def fit (self, data):\n",
    "        self.means = []\n",
    "        # randomly initialize the means\n",
    "        for i in range(self.k):\n",
    "            self.means.append(data[i])\n",
    "        for i in range(self.max_iter):\n",
    "            # assign the data points to the cluster that they belong to\n",
    "            # create empty clusters        \n",
    "            clusters = []\n",
    "            for j in range(self.k):\n",
    "                clusters.append([])\n",
    "            for point in data:\n",
    "                # find distance to all the mean values\n",
    "                distances = [((point - m)**2).sum() for m in self.means]\n",
    "                # find the min distance\n",
    "                minDistance = min(distances)\n",
    "                # find the mean for which we got the minimum distance --> l\n",
    "                l = distances.index(minDistance)\n",
    "                # add this point to cluster l\n",
    "                clusters[l].append(point)\n",
    "\n",
    "            # calculate the new mean values\n",
    "            change = False\n",
    "            for j in range(self.k):\n",
    "                new_mean = np.average(clusters[j], axis=0)\n",
    "                if not np.array_equal(self.means[j], new_mean):\n",
    "                    change = True\n",
    "                self.means[j] = new_mean\n",
    "            if not change:\n",
    "                break\n",
    "    \n",
    "    def predict(self, test_data):\n",
    "        predictions = []\n",
    "        for point in test_data:\n",
    "           # find distance to all the mean values\n",
    "            distances = [((point - m)**2).sum() for m in self.means]\n",
    "            # find the min distance\n",
    "            minDistance = min(distances)\n",
    "            # find the mean for which we got the minimum distance --> l\n",
    "            l = distances.index(minDistance)\n",
    "            # add this point to cluster l\n",
    "            predictions.append(l)\n",
    "        return predictions"
   ]
  },
  {
   "cell_type": "code",
   "execution_count": 73,
   "metadata": {},
   "outputs": [
    {
     "name": "stdout",
     "output_type": "stream",
     "text": [
      "constructor\n"
     ]
    }
   ],
   "source": [
    "# creating the object of class\n",
    "kmeans =  K_Means(2, 10)"
   ]
  },
  {
   "cell_type": "code",
   "execution_count": 76,
   "metadata": {},
   "outputs": [],
   "source": [
    "# creating fit function\n",
    "means = kmeans.fit(X)"
   ]
  },
  {
   "cell_type": "code",
   "execution_count": 77,
   "metadata": {},
   "outputs": [
    {
     "data": {
      "text/plain": [
       "[0, 0, 1, 1, 0, 1]"
      ]
     },
     "execution_count": 77,
     "metadata": {},
     "output_type": "execute_result"
    }
   ],
   "source": [
    "kmeans.predict(X)"
   ]
  },
  {
   "cell_type": "code",
   "execution_count": 78,
   "metadata": {},
   "outputs": [
    {
     "data": {
      "text/plain": [
       "[array([1.16666667, 1.46666667]), array([7.33333333, 9.        ])]"
      ]
     },
     "execution_count": 78,
     "metadata": {},
     "output_type": "execute_result"
    }
   ],
   "source": [
    "kmeans.means"
   ]
  },
  {
   "cell_type": "markdown",
   "metadata": {},
   "source": [
    "-----------"
   ]
  },
  {
   "cell_type": "markdown",
   "metadata": {},
   "source": [
    "---------"
   ]
  },
  {
   "cell_type": "markdown",
   "metadata": {
    "id": "0qfy61f2RoN9"
   },
   "source": [
    "####**Class of K-Means**"
   ]
  },
  {
   "cell_type": "code",
   "execution_count": 48,
   "metadata": {
    "id": "ObHfdMb1PAlV"
   },
   "outputs": [],
   "source": [
    "class K_Means:\n",
    "    def __init__(self, k = 2, max_iter = 100):\n",
    "        print(\"constructor\")\n",
    "        self.k = k\n",
    "        self.max_iter = max_iter\n",
    "        \n",
    "        \n",
    "    def fit (self, data):\n",
    "        self.means = []\n",
    "        # randomly initialize the means\n",
    "        for i in range(self.k):\n",
    "            self.means.append(data[i])\n",
    "        for i in range(self.max_iter):\n",
    "            # assign the data points to the cluster that they belong to\n",
    "            # create empty clusters        \n",
    "            clusters = []\n",
    "            for j in range(self.k):\n",
    "                clusters.append([])\n",
    "            for point in data:\n",
    "                # find distance to all the mean values\n",
    "                distances = [((point - m)**2).sum() for m in self.means]\n",
    "                # find the min distance\n",
    "                minDistance = min(distances)\n",
    "                # find the mean for which we got the minimum distance --> l\n",
    "                l = distances.index(minDistance)\n",
    "                # add this point to cluster l\n",
    "                clusters[l].append(point)\n",
    "\n",
    "            # calculate the new mean values\n",
    "            change = False\n",
    "            for j in range(self.k):\n",
    "                new_mean = np.average(clusters[j], axis=0)\n",
    "                if not np.array_equal(self.means[j], new_mean):\n",
    "                    change = True\n",
    "                self.means[j] = new_mean\n",
    "            if not change:\n",
    "                break\n",
    "    \n",
    "    def predict(self, test_data):\n",
    "        predictions = []\n",
    "        for point in test_data:\n",
    "           # find distance to all the mean values\n",
    "            distances = [((point - m)**2).sum() for m in self.means]\n",
    "            # find the min distance\n",
    "            minDistance = min(distances)\n",
    "            # find the mean for which we got the minimum distance --> l\n",
    "            l = distances.index(minDistance)\n",
    "            # add this point to cluster l\n",
    "            predictions.append(l)\n",
    "        return predictions"
   ]
  },
  {
   "cell_type": "code",
   "execution_count": 49,
   "metadata": {
    "colab": {
     "base_uri": "https://localhost:8080/"
    },
    "id": "Xhve9R3jPOl5",
    "outputId": "f86a47ca-c1f2-4b1a-f861-f2fb47ab6f00"
   },
   "outputs": [
    {
     "name": "stdout",
     "output_type": "stream",
     "text": [
      "constructor\n"
     ]
    }
   ],
   "source": [
    "kmeans = K_Means(2, 10)"
   ]
  },
  {
   "cell_type": "code",
   "execution_count": 50,
   "metadata": {
    "id": "dsrRmTycPOkO"
   },
   "outputs": [],
   "source": [
    "kmeans.fit(X)"
   ]
  },
  {
   "cell_type": "code",
   "execution_count": 51,
   "metadata": {
    "colab": {
     "base_uri": "https://localhost:8080/"
    },
    "id": "dxZdafTMPObp",
    "outputId": "a7acf549-d612-42e3-df63-6abd803b231d"
   },
   "outputs": [
    {
     "data": {
      "text/plain": [
       "[0, 0, 1, 1, 0, 1]"
      ]
     },
     "execution_count": 51,
     "metadata": {},
     "output_type": "execute_result"
    }
   ],
   "source": [
    "kmeans.predict(X)"
   ]
  },
  {
   "cell_type": "code",
   "execution_count": null,
   "metadata": {
    "colab": {
     "base_uri": "https://localhost:8080/"
    },
    "id": "SxGxVlW_PYx0",
    "outputId": "e637e8cd-edc0-49a5-927d-2bf2e9d98a1e"
   },
   "outputs": [
    {
     "data": {
      "text/plain": [
       "[array([1.16666667, 1.46666667]), array([7.33333333, 9.        ])]"
      ]
     },
     "execution_count": 19,
     "metadata": {
      "tags": []
     },
     "output_type": "execute_result"
    }
   ],
   "source": [
    "kmeans.means"
   ]
  },
  {
   "cell_type": "markdown",
   "metadata": {
    "id": "kBaD14wX_xK1"
   },
   "source": [
    "##**Applications of Clustering**"
   ]
  },
  {
   "cell_type": "markdown",
   "metadata": {
    "id": "eGYOaiep_xIg"
   },
   "source": [
    "Clustering has a large no. of applications spread across various domains. Some of the most popular applications of clustering are:\n",
    "1. Recommendation engines\n",
    "2. Market segmentation\n",
    "3. Social network analysis\n",
    "4. Search result grouping\n",
    "5. Medical imaging\n",
    "6. Image segmentation\n",
    "7. Anomaly detection"
   ]
  }
 ],
 "metadata": {
  "colab": {
   "collapsed_sections": [],
   "name": "Unsupervised Learning 1.ipynb",
   "provenance": []
  },
  "kernelspec": {
   "display_name": "Python 3 (ipykernel)",
   "language": "python",
   "name": "python3"
  },
  "language_info": {
   "codemirror_mode": {
    "name": "ipython",
    "version": 3
   },
   "file_extension": ".py",
   "mimetype": "text/x-python",
   "name": "python",
   "nbconvert_exporter": "python",
   "pygments_lexer": "ipython3",
   "version": "3.9.12"
  }
 },
 "nbformat": 4,
 "nbformat_minor": 1
}
