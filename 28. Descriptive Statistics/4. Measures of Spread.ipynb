{
 "cells": [
  {
   "cell_type": "markdown",
   "metadata": {},
   "source": [
    "### Measures of Spread\n",
    "Variability describes how far apart data points lie from each other and from the center of a distribution. Along with measures of central tendency, measures of variability give you descriptive statistics that summarize your data.\n",
    "\n",
    "Variability is also referred to as spread, scatter or dispersion. It is most commonly measured with the following:\n",
    "\n",
    "##### Range: the difference between the highest and lowest values  \n",
    "##### Interquartile range: the range of the middle half of a distribution  \n",
    "##### Standard deviation: average distance from the mean  \n",
    "##### Variance: average of squared distances from the mean  "
   ]
  },
  {
   "cell_type": "code",
   "execution_count": null,
   "metadata": {},
   "outputs": [],
   "source": []
  }
 ],
 "metadata": {
  "kernelspec": {
   "display_name": "Python 3",
   "language": "python",
   "name": "python3"
  },
  "language_info": {
   "codemirror_mode": {
    "name": "ipython",
    "version": 3
   },
   "file_extension": ".py",
   "mimetype": "text/x-python",
   "name": "python",
   "nbconvert_exporter": "python",
   "pygments_lexer": "ipython3",
   "version": "3.8.5"
  }
 },
 "nbformat": 4,
 "nbformat_minor": 4
}
