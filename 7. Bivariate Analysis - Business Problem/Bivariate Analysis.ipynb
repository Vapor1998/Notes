{
 "cells": [
  {
   "cell_type": "markdown",
   "id": "a48dff7c",
   "metadata": {},
   "source": [
    "## `Bivariate - Categorical to Categorical`"
   ]
  },
  {
   "cell_type": "markdown",
   "id": "55ff50c5",
   "metadata": {},
   "source": [
    "`Create Pivot Table`   \n",
    "**Pivot Table** can be used to perform bivariate analysis on two categorical variables.  "
   ]
  },
  {
   "cell_type": "markdown",
   "id": "13d167af",
   "metadata": {},
   "source": [
    "### `Q. Avg Sweet Product:`  \n",
    "`create pivot table`"
   ]
  },
  {
   "cell_type": "markdown",
   "id": "a9dabc43",
   "metadata": {},
   "source": [
    "### `Q. Total Purchases`  \n",
    "`Create Pivot Table`"
   ]
  },
  {
   "cell_type": "markdown",
   "id": "0ec83ba2",
   "metadata": {},
   "source": [
    "### `Q. Minimum Income`  \n",
    "`Create Pivot Table`"
   ]
  },
  {
   "cell_type": "markdown",
   "id": "ed610992",
   "metadata": {},
   "source": [
    "## `Bivariate - Categorical To Continous`   \n",
    "`Create Pivot Table and then find Average, Median, Min and Max then create Box or Candle Plot.` \n"
   ]
  },
  {
   "cell_type": "markdown",
   "id": "a4074856",
   "metadata": {},
   "source": [
    "## `Bivariate - Co-relations/Scatter Plot`  \n",
    "`Scatter Plot can be Plotted between two continous features.`  \n",
    "`Corelation coefficient can be calculated between two variables. It ranges from -1 to 1. If it is less than 0, means it is Negative corelation. If it is 1, it means it is perfectly corelated.Value equal to 0: A correlation coefficient near 0 indicates no correlation, means no particular relationship between the variables. `"
   ]
  },
  {
   "cell_type": "markdown",
   "id": "5f9682f2",
   "metadata": {},
   "source": [
    "## `Bivartiate - Continous to Continous`  \n",
    "`Scatter plot with Corelation Coefficient`  \n",
    "To Change the range of Plot, use filter to filter out datas in both columns.  "
   ]
  },
  {
   "cell_type": "markdown",
   "id": "bc7b3364",
   "metadata": {},
   "source": []
  }
 ],
 "metadata": {
  "kernelspec": {
   "display_name": "Python 3 (ipykernel)",
   "language": "python",
   "name": "python3"
  },
  "language_info": {
   "codemirror_mode": {
    "name": "ipython",
    "version": 3
   },
   "file_extension": ".py",
   "mimetype": "text/x-python",
   "name": "python",
   "nbconvert_exporter": "python",
   "pygments_lexer": "ipython3",
   "version": "3.9.12"
  }
 },
 "nbformat": 4,
 "nbformat_minor": 5
}
