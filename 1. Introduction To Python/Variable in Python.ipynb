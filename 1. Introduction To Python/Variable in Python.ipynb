{
 "cells": [
  {
   "cell_type": "markdown",
   "metadata": {},
   "source": [
    "## Print HelloWorld"
   ]
  },
  {
   "cell_type": "code",
   "execution_count": 3,
   "metadata": {},
   "outputs": [
    {
     "name": "stdout",
     "output_type": "stream",
     "text": [
      "HelloWorld\n"
     ]
    },
    {
     "data": {
      "text/plain": [
       "10"
      ]
     },
     "execution_count": 3,
     "metadata": {},
     "output_type": "execute_result"
    }
   ],
   "source": [
    "print('HelloWorld')\n",
    "10\n",
    "\n",
    "## In the first case, we printed helloWorld, but it also printed 10 \n",
    "## because it shows the output of the cell.You can see at the left of that\n",
    "## output."
   ]
  },
  {
   "cell_type": "markdown",
   "metadata": {},
   "source": [
    "## Variables\n"
   ]
  },
  {
   "cell_type": "code",
   "execution_count": 4,
   "metadata": {},
   "outputs": [
    {
     "name": "stdout",
     "output_type": "stream",
     "text": [
      "30\n"
     ]
    }
   ],
   "source": [
    "## way to create storage\n",
    "## we can access the storage using the variable name and the storage contains the data.\n",
    "\n",
    "a = 10\n",
    "b = 20\n",
    "\n",
    "sum = a + b\n",
    "print(sum)\n",
    "\n",
    "## In the above program, we actually assigns value to two variables and then we add those values\n",
    "## and then we put that value in the sum variable.\n",
    "## To access the value of the variable, we print the variable."
   ]
  },
  {
   "cell_type": "markdown",
   "metadata": {},
   "source": [
    "## Rules to Name variable\n",
    "\n",
    "It can be Alphabets(upper case & lower case)\n",
    "It can be integers\n",
    "It must not start with integers i.e. =>  12ab = 10.\n",
    "It can start with underscores _  .    eg.=>  _ab = 10"
   ]
  }
 ],
 "metadata": {
  "kernelspec": {
   "display_name": "Python 3",
   "language": "python",
   "name": "python3"
  },
  "language_info": {
   "codemirror_mode": {
    "name": "ipython",
    "version": 3
   },
   "file_extension": ".py",
   "mimetype": "text/x-python",
   "name": "python",
   "nbconvert_exporter": "python",
   "pygments_lexer": "ipython3",
   "version": "3.8.5"
  }
 },
 "nbformat": 4,
 "nbformat_minor": 4
}
