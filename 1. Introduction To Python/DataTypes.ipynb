{
 "cells": [
  {
   "cell_type": "markdown",
   "metadata": {},
   "source": [
    "## Assigning Different Types of Data to a Variable\n",
    "\n",
    "for eg we create a variable, \n",
    "a = 10,\n",
    "python creates a storage which contains 10 and a stores the \n",
    "address of that storage.\n",
    "a = 20, in this scenario it creates another storage which contains 20\n",
    "and then a now stores the address of 20 not 10.This scenario only happens when we make same variable again.\n"
   ]
  },
  {
   "cell_type": "code",
   "execution_count": 1,
   "metadata": {},
   "outputs": [
    {
     "data": {
      "text/plain": [
       "str"
      ]
     },
     "execution_count": 1,
     "metadata": {},
     "output_type": "execute_result"
    }
   ],
   "source": [
    "a = 10\n",
    "a = 20\n",
    "a = 'abc'\n",
    "type(a)\n",
    "## type function shows the type of data which is in(assigned) the variable"
   ]
  }
 ],
 "metadata": {
  "kernelspec": {
   "display_name": "Python 3",
   "language": "python",
   "name": "python3"
  },
  "language_info": {
   "codemirror_mode": {
    "name": "ipython",
    "version": 3
   },
   "file_extension": ".py",
   "mimetype": "text/x-python",
   "name": "python",
   "nbconvert_exporter": "python",
   "pygments_lexer": "ipython3",
   "version": "3.8.5"
  }
 },
 "nbformat": 4,
 "nbformat_minor": 4
}
