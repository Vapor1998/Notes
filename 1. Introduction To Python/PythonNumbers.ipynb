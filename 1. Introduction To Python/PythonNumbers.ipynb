{
 "cells": [
  {
   "cell_type": "markdown",
   "metadata": {},
   "source": [
    "## Python Numbers\n"
   ]
  },
  {
   "cell_type": "code",
   "execution_count": 1,
   "metadata": {},
   "outputs": [
    {
     "name": "stdout",
     "output_type": "stream",
     "text": [
      "<class 'int'>\n",
      "<class 'float'>\n",
      "<class 'complex'>\n"
     ]
    }
   ],
   "source": [
    "a = 23\n",
    "b = 23.3\n",
    "c = 4 + 5j\n",
    "print(type(a))\n",
    "print(type(b))\n",
    "print(type(c))"
   ]
  },
  {
   "cell_type": "code",
   "execution_count": 7,
   "metadata": {},
   "outputs": [
    {
     "name": "stdout",
     "output_type": "stream",
     "text": [
      "140727359318112\n",
      "140727359318112\n",
      "140727359320960\n",
      "140727359320992\n"
     ]
    }
   ],
   "source": [
    "## Id function gives unique number associated with storage\n",
    "a = 10\n",
    "a = a + 1\n",
    "b = a\n",
    "\n",
    "print(id(b))\n",
    "print(id(a))  \n",
    "\n",
    "# In the above case, id number is same as variable points to same storage which has 10.\n",
    "\n",
    "a = 100\n",
    "print(id(a))\n",
    "a = a+1\n",
    "print(id(a))\n"
   ]
  },
  {
   "cell_type": "markdown",
   "metadata": {},
   "source": [
    "Python can point the same storage of the number within range -5 to 256\n"
   ]
  },
  {
   "cell_type": "code",
   "execution_count": 8,
   "metadata": {},
   "outputs": [
    {
     "name": "stdout",
     "output_type": "stream",
     "text": [
      "3050660326736\n",
      "3050661326992\n"
     ]
    }
   ],
   "source": [
    "# for eg\n",
    "a = 257\n",
    "b = 257\n",
    "print(id(a))\n",
    "print(id(b))\n",
    "\n",
    "# In the above example python uses two different storage as the number is above the limit defined."
   ]
  }
 ],
 "metadata": {
  "kernelspec": {
   "display_name": "Python 3",
   "language": "python",
   "name": "python3"
  },
  "language_info": {
   "codemirror_mode": {
    "name": "ipython",
    "version": 3
   },
   "file_extension": ".py",
   "mimetype": "text/x-python",
   "name": "python",
   "nbconvert_exporter": "python",
   "pygments_lexer": "ipython3",
   "version": "3.8.5"
  }
 },
 "nbformat": 4,
 "nbformat_minor": 4
}
