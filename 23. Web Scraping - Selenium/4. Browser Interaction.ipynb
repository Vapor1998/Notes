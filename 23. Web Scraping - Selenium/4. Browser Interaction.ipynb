{
 "cells": [
  {
   "cell_type": "code",
   "execution_count": 4,
   "metadata": {},
   "outputs": [],
   "source": [
    "from selenium import webdriver\n",
    "\n",
    "driver = webdriver.Chrome(executable_path = r\"C:\\Users\\hashi\\Downloads\\chromedriver_win32 (1)\\chromedriver.exe\")  \n",
    "\n",
    "driver.get('https://www.codingninjas.in/')"
   ]
  },
  {
   "cell_type": "code",
   "execution_count": 5,
   "metadata": {},
   "outputs": [],
   "source": [
    "## Now as we can see, the default size of the webbrowser is not maximized, to maximize, we use maximize_window()\n",
    "\n",
    "driver.maximize_window()\n",
    "\n",
    "## As we can see, the window is maximized"
   ]
  },
  {
   "cell_type": "code",
   "execution_count": 6,
   "metadata": {},
   "outputs": [],
   "source": [
    "## To refresh the drivers webpage, we use refresh().\n",
    "\n",
    "driver.refresh()\n",
    "\n",
    "## As we can see, the webpage is refreshed.\n"
   ]
  },
  {
   "cell_type": "code",
   "execution_count": null,
   "metadata": {},
   "outputs": [],
   "source": [
    "## driver.close() will close the current window of the driver\n",
    "## driver.quit() will close all the windows or driver instance will be destroyed.\n",
    "\n",
    "## driver.current_url will get the url of the current page\n",
    "\n",
    "## driver.get(driver.current_url) is as same as driver.refresh()"
   ]
  }
 ],
 "metadata": {
  "kernelspec": {
   "display_name": "Python 3",
   "language": "python",
   "name": "python3"
  },
  "language_info": {
   "codemirror_mode": {
    "name": "ipython",
    "version": 3
   },
   "file_extension": ".py",
   "mimetype": "text/x-python",
   "name": "python",
   "nbconvert_exporter": "python",
   "pygments_lexer": "ipython3",
   "version": "3.8.5"
  }
 },
 "nbformat": 4,
 "nbformat_minor": 4
}
