{
 "cells": [
  {
   "cell_type": "code",
   "execution_count": 1,
   "metadata": {},
   "outputs": [
    {
     "data": {
      "text/plain": [
       "<selenium.webdriver.chrome.webdriver.WebDriver (session=\"1a3664efdfebd86d154ac78250b07d14\")>"
      ]
     },
     "execution_count": 1,
     "metadata": {},
     "output_type": "execute_result"
    }
   ],
   "source": [
    "from selenium import webdriver\n",
    "\n",
    "driver = webdriver.Chrome(executable_path = r\"C:\\Users\\hashi\\OneDrive\\Documents\\chromedriver.exe\") \n",
    "\n",
    "# driver.get('https://codezen.codingninjas.in/dashboard?_ga=2.194733037.1309488445.1619607067-2045598476.1598057574')\n",
    "\n",
    "# ev_btn = driver.find_element_by_partial_link_text('Advanced Algorithms')\n",
    "# ev_btn.click()\n",
    "driver"
   ]
  },
  {
   "cell_type": "code",
   "execution_count": 2,
   "metadata": {},
   "outputs": [],
   "source": [
    "driver.get('https://codezen.codingninjas.in/dashboard?_ga=2.194733037.1309488445.1619607067-2045598476.1598057574')\n",
    "\n"
   ]
  },
  {
   "cell_type": "code",
   "execution_count": 14,
   "metadata": {},
   "outputs": [],
   "source": [
    "ev_btn = driver.find_element_by_xpath('//*[@id=\"home-container\"]/div/div[1]/div[1]/div[2]/codingninjas-problem-topics/div/div/div[3]')\n",
    "ev_btn.click()"
   ]
  }
 ],
 "metadata": {
  "kernelspec": {
   "display_name": "Python 3",
   "language": "python",
   "name": "python3"
  },
  "language_info": {
   "codemirror_mode": {
    "name": "ipython",
    "version": 3
   },
   "file_extension": ".py",
   "mimetype": "text/x-python",
   "name": "python",
   "nbconvert_exporter": "python",
   "pygments_lexer": "ipython3",
   "version": "3.8.5"
  }
 },
 "nbformat": 4,
 "nbformat_minor": 4
}
