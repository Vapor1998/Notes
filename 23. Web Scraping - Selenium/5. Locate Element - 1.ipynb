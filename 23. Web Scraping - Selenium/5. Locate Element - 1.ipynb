{
 "cells": [
  {
   "cell_type": "code",
   "execution_count": 7,
   "metadata": {},
   "outputs": [],
   "source": [
    "from selenium import webdriver\n",
    "\n",
    "driver = webdriver.Chrome(executable_path = r\"C:\\Users\\hashi\\Downloads\\chromedriver_win32 (1)\\chromedriver.exe\")  \n",
    "\n",
    "driver.get('http://books.toscrape.com/')\n"
   ]
  },
  {
   "cell_type": "code",
   "execution_count": 8,
   "metadata": {},
   "outputs": [
    {
     "data": {
      "text/plain": [
       "<selenium.webdriver.remote.webelement.WebElement (session=\"e1cddfc7c0f0991284a55101b8425f64\", element=\"39a18f2a-7c75-4126-af5a-528ce3d0d109\")>"
      ]
     },
     "execution_count": 8,
     "metadata": {},
     "output_type": "execute_result"
    }
   ],
   "source": [
    "## Lets say we want to find linl of music\n",
    "\n",
    "li = driver.find_element_by_link_text('Music')\n",
    "li\n",
    "\n"
   ]
  },
  {
   "cell_type": "code",
   "execution_count": 9,
   "metadata": {},
   "outputs": [],
   "source": [
    "## Lets say we want to go to that link\n",
    "\n",
    "li.click()"
   ]
  },
  {
   "cell_type": "code",
   "execution_count": 10,
   "metadata": {},
   "outputs": [
    {
     "data": {
      "text/plain": [
       "<selenium.webdriver.remote.webelement.WebElement (session=\"e1cddfc7c0f0991284a55101b8425f64\", element=\"71209175-33c3-4c52-9cdb-ea3e2e51ec42\")>"
      ]
     },
     "execution_count": 10,
     "metadata": {},
     "output_type": "execute_result"
    }
   ],
   "source": [
    "## If there are more than one element is present with same text, \n",
    "## find_element_by_link_text() and find_element_by_partial_link_text() will return only first occurence of that\n",
    "## element.\n",
    "\n",
    "## Lets say we want to go to that book which has word kill in it.\n",
    "\n",
    "b1 = driver.find_element_by_partial_link_text('Kill')\n",
    "b1\n",
    "\n",
    "## As we saw, we have two books which has word kill in it and this method returned only one result of it.\n"
   ]
  },
  {
   "cell_type": "code",
   "execution_count": 11,
   "metadata": {},
   "outputs": [],
   "source": [
    "b1.click()\n",
    "\n",
    "## our webdriver is redirected to the books page"
   ]
  },
  {
   "cell_type": "code",
   "execution_count": 12,
   "metadata": {},
   "outputs": [],
   "source": [
    "## find_element_by_link_text()\n",
    "## find_element_by_partial_link_text()\n",
    "## find_element_by_id()\n",
    "## find_element_by_class_name()\n",
    "## find_element_by_name()\n",
    "## find_element_by_tag_name()\n",
    "## find_element_by_xpath()\n",
    "## find_element_by_css_selector()\n",
    "\n",
    "## Above are the functions which will return only the first match of the element."
   ]
  },
  {
   "cell_type": "code",
   "execution_count": 13,
   "metadata": {},
   "outputs": [],
   "source": [
    "driver.back()"
   ]
  },
  {
   "cell_type": "code",
   "execution_count": 16,
   "metadata": {},
   "outputs": [
    {
     "data": {
      "text/plain": [
       "<selenium.webdriver.remote.webelement.WebElement (session=\"e1cddfc7c0f0991284a55101b8425f64\", element=\"0939f9ca-8b95-44a6-b500-747cb7d9ca5e\")>"
      ]
     },
     "execution_count": 16,
     "metadata": {},
     "output_type": "execute_result"
    }
   ],
   "source": [
    "## Lets find the element using the class name. i.e. class inside the tag\n",
    "## Lets find the image thumbnail of the book.\n",
    "\n",
    "\n",
    "i1 = driver.find_element_by_class_name('image_container')\n",
    "i1\n",
    "## Function returned the first occurence of the thumbnail."
   ]
  },
  {
   "cell_type": "code",
   "execution_count": 17,
   "metadata": {},
   "outputs": [],
   "source": [
    "i1.click()\n",
    "\n",
    "## As we can see, we are redirected to the book page"
   ]
  },
  {
   "cell_type": "code",
   "execution_count": 20,
   "metadata": {},
   "outputs": [
    {
     "name": "stdout",
     "output_type": "stream",
     "text": [
      "[<selenium.webdriver.remote.webelement.WebElement (session=\"e1cddfc7c0f0991284a55101b8425f64\", element=\"7c812588-6fb1-43a3-a8ef-1eb736e4cfbe\")>, <selenium.webdriver.remote.webelement.WebElement (session=\"e1cddfc7c0f0991284a55101b8425f64\", element=\"8e9dfd10-f327-4b50-8277-831a79af6d30\")>, <selenium.webdriver.remote.webelement.WebElement (session=\"e1cddfc7c0f0991284a55101b8425f64\", element=\"b6cec8c5-80ea-4b2f-8d76-aa824b464300\")>, <selenium.webdriver.remote.webelement.WebElement (session=\"e1cddfc7c0f0991284a55101b8425f64\", element=\"1a720aa8-aa05-4ade-8589-b9480d45d3b4\")>, <selenium.webdriver.remote.webelement.WebElement (session=\"e1cddfc7c0f0991284a55101b8425f64\", element=\"0984f4c1-c5ba-402f-82ac-774f77767cf4\")>, <selenium.webdriver.remote.webelement.WebElement (session=\"e1cddfc7c0f0991284a55101b8425f64\", element=\"9d0d0c83-f9e8-4f55-98df-1d82f50d0817\")>, <selenium.webdriver.remote.webelement.WebElement (session=\"e1cddfc7c0f0991284a55101b8425f64\", element=\"a1443ee9-eb28-4c9b-b461-d1cd92cc417f\")>, <selenium.webdriver.remote.webelement.WebElement (session=\"e1cddfc7c0f0991284a55101b8425f64\", element=\"b78ced82-b09a-4e85-a3df-98fa65af6f86\")>, <selenium.webdriver.remote.webelement.WebElement (session=\"e1cddfc7c0f0991284a55101b8425f64\", element=\"f338def9-b842-4a51-8dfd-937857859e04\")>, <selenium.webdriver.remote.webelement.WebElement (session=\"e1cddfc7c0f0991284a55101b8425f64\", element=\"c9cd451d-e542-4468-bd3f-2e132efa06cb\")>, <selenium.webdriver.remote.webelement.WebElement (session=\"e1cddfc7c0f0991284a55101b8425f64\", element=\"d1cd8d7e-5930-4e89-854c-73299e29a6c8\")>, <selenium.webdriver.remote.webelement.WebElement (session=\"e1cddfc7c0f0991284a55101b8425f64\", element=\"fada290b-cd92-4e64-a52a-a2a2b48cc109\")>, <selenium.webdriver.remote.webelement.WebElement (session=\"e1cddfc7c0f0991284a55101b8425f64\", element=\"faf7114d-42c3-47b6-b685-51122cde26bc\")>]\n",
      "13\n"
     ]
    }
   ],
   "source": [
    "## As we saw, it returned only one element i.e. the first occurence of the element.\n",
    "## But what if we want to return all the elements.\n",
    "## WE JUST ADD S IN THE ELEMENT. I.E INSTEAD OF WRITING find_element_by_class_name(), WE WRITE\n",
    "## find_elements_by_class_name().\n",
    "\n",
    "i = driver.find_elements_by_class_name('image_container')\n",
    "i\n",
    "print(i)\n",
    "print(len(i))  ## This shows no of books in category music.\n",
    "## As we can see, we are getting list with multiple entries."
   ]
  },
  {
   "cell_type": "code",
   "execution_count": 21,
   "metadata": {},
   "outputs": [
    {
     "data": {
      "text/plain": [
       "<selenium.webdriver.remote.webelement.WebElement (session=\"e1cddfc7c0f0991284a55101b8425f64\", element=\"09b501fd-854e-4fb2-a896-0f1c6354106b\")>"
      ]
     },
     "execution_count": 21,
     "metadata": {},
     "output_type": "execute_result"
    }
   ],
   "source": [
    "## Finding elements by tag name\n",
    "## Lets say we want to find elements which has tag img in it.\n",
    "\n",
    "driver.find_element_by_tag_name('h1')"
   ]
  },
  {
   "cell_type": "code",
   "execution_count": 22,
   "metadata": {},
   "outputs": [
    {
     "data": {
      "text/plain": [
       "<selenium.webdriver.remote.webelement.WebElement (session=\"e1cddfc7c0f0991284a55101b8425f64\", element=\"0a457118-859d-4990-8785-4b00d13572c9\")>"
      ]
     },
     "execution_count": 22,
     "metadata": {},
     "output_type": "execute_result"
    }
   ],
   "source": [
    "## Finding element by name.\n",
    "driver.find_element_by_name('viewport')"
   ]
  },
  {
   "cell_type": "code",
   "execution_count": null,
   "metadata": {},
   "outputs": [],
   "source": []
  }
 ],
 "metadata": {
  "kernelspec": {
   "display_name": "Python 3",
   "language": "python",
   "name": "python3"
  },
  "language_info": {
   "codemirror_mode": {
    "name": "ipython",
    "version": 3
   },
   "file_extension": ".py",
   "mimetype": "text/x-python",
   "name": "python",
   "nbconvert_exporter": "python",
   "pygments_lexer": "ipython3",
   "version": "3.8.5"
  }
 },
 "nbformat": 4,
 "nbformat_minor": 4
}
