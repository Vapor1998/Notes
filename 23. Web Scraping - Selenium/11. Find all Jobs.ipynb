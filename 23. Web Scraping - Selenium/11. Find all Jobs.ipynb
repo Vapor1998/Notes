{
 "cells": [
  {
   "cell_type": "code",
   "execution_count": 1,
   "metadata": {
    "collapsed": true
   },
   "outputs": [],
   "source": [
    "from selenium import webdriver"
   ]
  },
  {
   "cell_type": "code",
   "execution_count": 2,
   "metadata": {},
   "outputs": [
    {
     "data": {
      "text/plain": [
       "<selenium.webdriver.chrome.webdriver.WebDriver (session=\"735075effe5001448d014e056b715a3a\")>"
      ]
     },
     "execution_count": 2,
     "metadata": {},
     "output_type": "execute_result"
    }
   ],
   "source": [
    "driver = webdriver.Chrome(executable_path = '/Users/codingninjastudio/Downloads/chromedriver')\n",
    "driver"
   ]
  },
  {
   "cell_type": "code",
   "execution_count": 3,
   "metadata": {
    "collapsed": true
   },
   "outputs": [],
   "source": [
    "driver.get('http://kanview.ks.gov/PayRates/PayRates_Agency.aspx')"
   ]
  },
  {
   "cell_type": "code",
   "execution_count": 12,
   "metadata": {},
   "outputs": [
    {
     "data": {
      "text/plain": [
       "<selenium.webdriver.remote.webelement.WebElement (session=\"735075effe5001448d014e056b715a3a\", element=\"0.7405395209056738-1\")>"
      ]
     },
     "execution_count": 12,
     "metadata": {},
     "output_type": "execute_result"
    }
   ],
   "source": [
    "a = driver.find_element_by_link_text('Adjutant General')\n",
    "a"
   ]
  },
  {
   "cell_type": "code",
   "execution_count": 13,
   "metadata": {
    "collapsed": true
   },
   "outputs": [],
   "source": [
    "a.click()\n",
    "\n",
    "## After clicking on this link, we need to click on every link this page have.\n",
    "## To do that, we have to inspect the page.\n",
    "\n",
    "## After doing that, we founf out each link has the id = MainContent_uxLevel2_JobTitles_uxJobTitleBtn_i where i in the end\n",
    "## is the number of the link. For first link it is 0, second is 1 and so on.\n",
    "## We can simply generate all the links by using for loop."
   ]
  },
  {
   "cell_type": "code",
   "execution_count": 33,
   "metadata": {},
   "outputs": [
    {
     "name": "stdout",
     "output_type": "stream",
     "text": [
      "<class 'bs4.element.Tag'>\n",
      "<class 'bs4.element.Tag'>\n"
     ]
    }
   ],
   "source": [
    "from bs4 import BeautifulSoup\n",
    "import pandas as pd\n",
    "\n",
    "dataFrameList = []\n",
    "\n",
    "for i in range(2) :     ## we finding for only first two links.We can run this loop 72 times to get all data.\n",
    "    link = driver.find_element_by_id('MainContent_uxLevel2_JobTitles_uxJobTitleBtn_' + str(i))\n",
    "    link.click()   ## For getting on that links page we use click() to go on it and extract data.\n",
    "    \n",
    "    ## Everytime we extract data from the page, we use beautifulsoup.\n",
    "    data = BeautifulSoup(driver.page_source, 'lxml')    \n",
    "    \n",
    "    ## To extract the html part, we need to pass page source from which we want to extract, will get that from\n",
    "    ## page_source of the driver, we wrote driver because we want the page which driver displays.\n",
    "    \n",
    "    \n",
    "    ## Now to extract the data, we inspected the page, we found out that data is in the tablee tag.\n",
    "    ## so we use table attribute.From there we get html part of table tag.\n",
    "    emp_table = data.table\n",
    "    \n",
    "    \n",
    "    print(type(emp_table))\n",
    "    \n",
    "    \n",
    "    ## To extract the table, we have function in pandas read_html().\n",
    "    ## read_html will read the table data and convert it into dataframe.\n",
    "    \n",
    "    df = pd.read_html(str(emp_table), header = 0)\n",
    "    ## header = 0 implies we have taken index 0 of data we extracted as header of column. And using this we can \n",
    "    ## choose the row to which we want as header.\n",
    "    \n",
    "    dataFrameList.append(df[0])\n",
    "    driver.back()    ## This back is because we want to click all link of page 1, so when we click to link, we go to page 2, \n",
    "                     ## To click next link, we need to come back to page 1, and this back() is for coming to page 1.\n",
    "        \n",
    "        ## In order to merge df, we use df.concat()"
   ]
  },
  {
   "cell_type": "code",
   "execution_count": 34,
   "metadata": {},
   "outputs": [
    {
     "data": {
      "text/plain": [
       "[               Employee Name   Job Title Overtime Pay Total Gross Pay\n",
       " 0     Black,Shannon Michelle  Accountant        $0.00      $48,057.30\n",
       " 1             Bowser,Jamie M  Accountant        $0.00      $46,650.87\n",
       " 2           Bradford,Randy D  Accountant        $0.00      $42,707.40\n",
       " 3              Epps,David A.  Accountant        $0.00      $40,666.91\n",
       " 4         Fairbanks,Angela K  Accountant    $1,034.15      $45,614.43\n",
       " 5  Klenklen-Albertson,Tina L  Accountant        $0.00      $43,958.20\n",
       " 6            Nelson,Shayna I  Accountant        $0.00      $29,078.09,\n",
       "           Employee Name           Job Title Overtime Pay Total Gross Pay\n",
       " 0   Neth,Michael Edward  Accounting Manager      $239.40      $60,591.35\n",
       " 1  Rightmeier,Yolanda M  Accounting Manager    $1,324.44      $66,020.29]"
      ]
     },
     "execution_count": 34,
     "metadata": {},
     "output_type": "execute_result"
    }
   ],
   "source": [
    "dataFrameList"
   ]
  }
 ],
 "metadata": {
  "kernelspec": {
   "display_name": "Python 3",
   "language": "python",
   "name": "python3"
  },
  "language_info": {
   "codemirror_mode": {
    "name": "ipython",
    "version": 3
   },
   "file_extension": ".py",
   "mimetype": "text/x-python",
   "name": "python",
   "nbconvert_exporter": "python",
   "pygments_lexer": "ipython3",
   "version": "3.8.5"
  }
 },
 "nbformat": 4,
 "nbformat_minor": 2
}
