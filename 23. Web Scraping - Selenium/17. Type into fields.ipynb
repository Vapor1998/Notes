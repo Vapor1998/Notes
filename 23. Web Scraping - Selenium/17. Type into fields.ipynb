{
 "cells": [
  {
   "cell_type": "code",
   "execution_count": 1,
   "metadata": {},
   "outputs": [],
   "source": [
    "from selenium import webdriver\n",
    "\n",
    "driver = webdriver.Chrome(executable_path = r\"C:\\Users\\hashi\\Downloads\\chromedriver_win32 (1)\\chromedriver.exe\")  \n",
    "\n",
    "driver.get('https://www.google.com/')\n"
   ]
  },
  {
   "cell_type": "code",
   "execution_count": 2,
   "metadata": {},
   "outputs": [
    {
     "data": {
      "text/plain": [
       "<selenium.webdriver.remote.webelement.WebElement (session=\"f211d0f40c24c27b3592b04b3e071d96\", element=\"9d698a84-7173-4a88-b065-f446b0f5e361\")>"
      ]
     },
     "execution_count": 2,
     "metadata": {},
     "output_type": "execute_result"
    }
   ],
   "source": [
    "## Out task is to search selenium in google home page\n",
    "## to do that we need to locate the textbox.\n",
    "## After inspecting we found out that it has attribute name = 'q'\n",
    "## so we find it using\n",
    "\n",
    "a = driver.find_element_by_name('q')\n",
    "a"
   ]
  },
  {
   "cell_type": "code",
   "execution_count": 3,
   "metadata": {},
   "outputs": [],
   "source": [
    "## To pass value in textbox, we use method send_keys(values)\n",
    "\n",
    "a.send_keys('selenium')\n",
    "\n",
    "## as we can see, driver has wrote on textbox"
   ]
  },
  {
   "cell_type": "code",
   "execution_count": 4,
   "metadata": {},
   "outputs": [],
   "source": [
    "## Next step is to submit it, so we have method submit()\n",
    "## So first we inspect the submit button of chrome\n",
    "## After inspection, we found out that it has type='submit'\n",
    "## Any button which has type submit, we can use submit() on it.\n",
    "\n",
    "a.submit()\n",
    "\n",
    "## as we can see, we have submitted the result\n"
   ]
  },
  {
   "cell_type": "code",
   "execution_count": 5,
   "metadata": {},
   "outputs": [
    {
     "data": {
      "text/plain": [
       "<selenium.webdriver.remote.webelement.WebElement (session=\"f211d0f40c24c27b3592b04b3e071d96\", element=\"5758117e-843d-44dc-9807-a12becf75c2c\")>"
      ]
     },
     "execution_count": 5,
     "metadata": {},
     "output_type": "execute_result"
    }
   ],
   "source": [
    "## lets take another example where we search something on google maps\n",
    "\n",
    "driver.get('https://www.google.com/maps')\n",
    "\n",
    "## To do that we need to locate the textbox by inspection.\n",
    "## After locating,we found out that it has attribute name = 'q' \n",
    "\n",
    "box = driver.find_element_by_name('q')\n",
    "box\n"
   ]
  },
  {
   "cell_type": "code",
   "execution_count": 6,
   "metadata": {},
   "outputs": [],
   "source": [
    "## Then we pass the string in the search box\n",
    "\n",
    "box.send_keys('Sakinaka')\n"
   ]
  },
  {
   "cell_type": "code",
   "execution_count": 8,
   "metadata": {},
   "outputs": [
    {
     "data": {
      "text/plain": [
       "<selenium.webdriver.remote.webelement.WebElement (session=\"f211d0f40c24c27b3592b04b3e071d96\", element=\"aa0ad9e3-08c9-41f8-a8c6-ce24216560bc\")>"
      ]
     },
     "execution_count": 8,
     "metadata": {},
     "output_type": "execute_result"
    }
   ],
   "source": [
    "## Then we submit it.\n",
    "box.submit()\n",
    "\n",
    "## As we can seee, nothing is happening.\n",
    "## So we have to inspect it.\n",
    "## After inspecting, we found out that it is not a kind of submit button which means its input type is not submit\n",
    "## ANd we saw that submit() will only work if the input type of key is submit.\n",
    "\n",
    "## So we find out the button using attributes and then manually click it\n",
    "\n",
    "b = driver.find_element_by_class_name('searchbox-searchbutton')\n",
    "b\n",
    "## as we can see, we have found the button now we have to click it."
   ]
  },
  {
   "cell_type": "code",
   "execution_count": 9,
   "metadata": {},
   "outputs": [],
   "source": [
    "b.click()\n",
    "## As we can see, we got the result.\n"
   ]
  },
  {
   "cell_type": "code",
   "execution_count": null,
   "metadata": {},
   "outputs": [],
   "source": [
    "driver.find_element_by_class_name('searchbox-searchbutton').click()\n",
    "\n",
    "## we can also write this"
   ]
  },
  {
   "cell_type": "code",
   "execution_count": null,
   "metadata": {},
   "outputs": [],
   "source": []
  }
 ],
 "metadata": {
  "kernelspec": {
   "display_name": "Python 3",
   "language": "python",
   "name": "python3"
  },
  "language_info": {
   "codemirror_mode": {
    "name": "ipython",
    "version": 3
   },
   "file_extension": ".py",
   "mimetype": "text/x-python",
   "name": "python",
   "nbconvert_exporter": "python",
   "pygments_lexer": "ipython3",
   "version": "3.8.5"
  }
 },
 "nbformat": 4,
 "nbformat_minor": 4
}
