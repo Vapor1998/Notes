{
 "cells": [
  {
   "cell_type": "code",
   "execution_count": 1,
   "metadata": {},
   "outputs": [],
   "source": [
    "from selenium import webdriver\n",
    "\n",
    "\n",
    "driver = webdriver.Chrome(executable_path = r\"C:\\Users\\hashi\\Downloads\\chromedriver_win32 (2)\\chromedriver.exe\")  \n",
    "\n",
    "driver.get('https://paytm.com/recharge')\n"
   ]
  },
  {
   "cell_type": "code",
   "execution_count": 2,
   "metadata": {},
   "outputs": [
    {
     "data": {
      "text/plain": [
       "<selenium.webdriver.remote.webelement.WebElement (session=\"f25be89c424bbfb5dfd781742101457b\", element=\"fb12b300-1564-4eb6-a62a-0c4ab453af8e\")>"
      ]
     },
     "execution_count": 2,
     "metadata": {},
     "output_type": "execute_result"
    }
   ],
   "source": [
    "tb = driver.find_element_by_tag_name('input')\n",
    "tb"
   ]
  },
  {
   "cell_type": "code",
   "execution_count": 3,
   "metadata": {},
   "outputs": [],
   "source": [
    "tb.send_keys(\"Iphone 11\")"
   ]
  },
  {
   "cell_type": "code",
   "execution_count": 4,
   "metadata": {},
   "outputs": [],
   "source": [
    "from selenium.webdriver.common.keys import Keys\n",
    "tb.send_keys(Keys.ENTER)\n",
    "\n",
    "\n",
    "## In some pages, there is no submit button to submit the query, instead, it requires\n",
    "## hitting enter button to submit the query.\n",
    "## So in that case, we need to press enter button.\n",
    "## To do that we need to import the above module.\n",
    "## Then after we need to specify the textbox for which we want to hit enter and then using send_keys(), we need to \n",
    "## pass value inside it which is ENTER button."
   ]
  },
  {
   "cell_type": "code",
   "execution_count": 13,
   "metadata": {},
   "outputs": [
    {
     "name": "stdout",
     "output_type": "stream",
     "text": [
      "40,999\n",
      "78,499\n",
      "37,999\n",
      "1,26,999\n",
      "13,999\n",
      "9,499\n",
      "27,999\n",
      "4,999\n",
      "11,499\n",
      "7,499\n",
      "33,999\n",
      "10,999\n",
      "12,999\n",
      "30,999\n",
      "27,999\n",
      "16,899\n",
      "13,999\n",
      "31,999\n",
      "4,999\n",
      "8,499\n",
      "11,499\n",
      "19,999\n",
      "20,999\n",
      "27,999\n",
      "7,999\n",
      "4,999\n",
      "8,499\n",
      "8,499\n",
      "17,999\n",
      "9,999\n",
      "16,999\n",
      "30,999\n"
     ]
    }
   ],
   "source": [
    "from bs4 import BeautifulSoup\n",
    "\n",
    "data = BeautifulSoup(driver.page_source, 'html.parser')\n",
    "a = data.find_all(class_ = '_1kMS')\n",
    "\n",
    "for i in a:\n",
    "    print(i.text)\n",
    "    \n"
   ]
  },
  {
   "cell_type": "code",
   "execution_count": null,
   "metadata": {},
   "outputs": [],
   "source": []
  },
  {
   "cell_type": "code",
   "execution_count": null,
   "metadata": {},
   "outputs": [],
   "source": []
  },
  {
   "cell_type": "code",
   "execution_count": null,
   "metadata": {},
   "outputs": [],
   "source": []
  },
  {
   "cell_type": "code",
   "execution_count": null,
   "metadata": {},
   "outputs": [],
   "source": []
  },
  {
   "cell_type": "code",
   "execution_count": 1,
   "metadata": {},
   "outputs": [],
   "source": [
    "from selenium import webdriver\n",
    "\n",
    "\n",
    "driver = webdriver.Chrome(executable_path = r\"C:\\Users\\hashi\\Downloads\\chromedriver_win32 (2)\\chromedriver.exe\")  \n",
    "driver.get('https://paytm.com/')"
   ]
  },
  {
   "cell_type": "code",
   "execution_count": 8,
   "metadata": {},
   "outputs": [],
   "source": [
    "from selenium.webdriver.common.action_chains import ActionChains\n",
    "\n",
    "elementhover = driver.find_element_by_xpath('//*[@id=\"app\"]/header/div/div/nav/ul/li[1]/div/a')"
   ]
  },
  {
   "cell_type": "code",
   "execution_count": 14,
   "metadata": {},
   "outputs": [],
   "source": [
    "ActionChains(driver).move_to_element(elementhover).perform()\n",
    "from bs4 import BeautifulSoup\n",
    "\n",
    "data = BeautifulSoup(driver.page_source, 'html.parser')\n"
   ]
  },
  {
   "cell_type": "code",
   "execution_count": 26,
   "metadata": {},
   "outputs": [
    {
     "ename": "ModuleNotFoundError",
     "evalue": "No module named 'MouseActions'",
     "output_type": "error",
     "traceback": [
      "\u001b[1;31m---------------------------------------------------------------------------\u001b[0m",
      "\u001b[1;31mModuleNotFoundError\u001b[0m                       Traceback (most recent call last)",
      "\u001b[1;32m<ipython-input-26-ee92e9992a7c>\u001b[0m in \u001b[0;36m<module>\u001b[1;34m\u001b[0m\n\u001b[1;32m----> 1\u001b[1;33m \u001b[1;32mfrom\u001b[0m \u001b[0mMouseActions\u001b[0m \u001b[1;32mimport\u001b[0m \u001b[0mmove_to_element_chrome\u001b[0m\u001b[1;33m\u001b[0m\u001b[1;33m\u001b[0m\u001b[0m\n\u001b[0m\u001b[0;32m      2\u001b[0m \u001b[1;33m\u001b[0m\u001b[0m\n\u001b[0;32m      3\u001b[0m \u001b[1;31m#move_to_element_chrome(driver, elementhover, display_scaling=100, chrome_info_bar_shown=True)#\u001b[0m\u001b[1;33m\u001b[0m\u001b[1;33m\u001b[0m\u001b[1;33m\u001b[0m\u001b[0m\n",
      "\u001b[1;31mModuleNotFoundError\u001b[0m: No module named 'MouseActions'"
     ]
    }
   ],
   "source": [
    "from MouseActions import move_to_element_chrome\n",
    "\n",
    "#move_to_element_chrome(driver, elementhover, display_scaling=100, chrome_info_bar_shown=True)#"
   ]
  },
  {
   "cell_type": "code",
   "execution_count": 21,
   "metadata": {},
   "outputs": [
    {
     "data": {
      "text/plain": [
       "<div class=\"kfzok\"><a>Paytm for Consumer</a></div>"
      ]
     },
     "execution_count": 21,
     "metadata": {},
     "output_type": "execute_result"
    }
   ],
   "source": [
    "data.find(class_ = 'kfzok')"
   ]
  }
 ],
 "metadata": {
  "kernelspec": {
   "display_name": "Python 3",
   "language": "python",
   "name": "python3"
  },
  "language_info": {
   "codemirror_mode": {
    "name": "ipython",
    "version": 3
   },
   "file_extension": ".py",
   "mimetype": "text/x-python",
   "name": "python",
   "nbconvert_exporter": "python",
   "pygments_lexer": "ipython3",
   "version": "3.8.5"
  }
 },
 "nbformat": 4,
 "nbformat_minor": 4
}
