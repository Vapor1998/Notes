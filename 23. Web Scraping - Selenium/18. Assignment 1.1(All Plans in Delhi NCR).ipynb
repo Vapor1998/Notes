{
 "cells": [
  {
   "cell_type": "code",
   "execution_count": 2,
   "metadata": {},
   "outputs": [
    {
     "data": {
      "text/plain": [
       "<selenium.webdriver.remote.webelement.WebElement (session=\"811db73eb7b939c23f83f0ef89a3cbf0\", element=\"eadc2042-b7a7-4522-bbc3-6304dfc1c775\")>"
      ]
     },
     "execution_count": 2,
     "metadata": {},
     "output_type": "execute_result"
    }
   ],
   "source": [
    "from selenium import webdriver\n",
    "\n",
    "driver = webdriver.Chrome(executable_path = r\"C:\\Users\\hashi\\Downloads\\chromedriver_win32 (1)\\chromedriver.exe\")  \n",
    "\n",
    "driver.get('https://paytm.com/recharge')\n",
    "\n",
    "a = driver.find_element_by_partial_link_text(\"Airtel Recharge\")\n",
    "a"
   ]
  },
  {
   "cell_type": "code",
   "execution_count": 3,
   "metadata": {},
   "outputs": [],
   "source": [
    "a.click()"
   ]
  },
  {
   "cell_type": "code",
   "execution_count": 5,
   "metadata": {},
   "outputs": [
    {
     "data": {
      "text/plain": [
       "<selenium.webdriver.remote.webelement.WebElement (session=\"811db73eb7b939c23f83f0ef89a3cbf0\", element=\"9fcf3c23-9c47-462f-82e1-094098653c6f\")>"
      ]
     },
     "execution_count": 5,
     "metadata": {},
     "output_type": "execute_result"
    }
   ],
   "source": [
    "b = driver.find_element_by_xpath(\"//div[@class = '_3xI1']/ul/li[5]\")\n",
    "b"
   ]
  },
  {
   "cell_type": "code",
   "execution_count": 6,
   "metadata": {},
   "outputs": [],
   "source": [
    "b.click()\n"
   ]
  },
  {
   "cell_type": "code",
   "execution_count": 13,
   "metadata": {},
   "outputs": [
    {
     "name": "stdout",
     "output_type": "stream",
     "text": [
      "Price\n",
      "Rs. 149\n",
      "Rs. 49\n",
      "Rs. 249\n",
      "Rs. 399\n",
      "Rs. 598\n",
      "Rs. 48\n",
      "Rs. 98\n",
      "Rs. 10\n",
      "Rs. 20\n",
      "Rs. 248\n",
      "Rs. 299\n"
     ]
    }
   ],
   "source": [
    "from bs4 import BeautifulSoup\n",
    "\n",
    "data = BeautifulSoup(driver.page_source, 'html.parser')\n",
    "d = data.find(class_ = '_3h49')\n",
    "price = d.find_all(class_ = \"zUDk _17KN\")\n",
    "for i in price:\n",
    "    print(i.string)"
   ]
  },
  {
   "cell_type": "code",
   "execution_count": null,
   "metadata": {},
   "outputs": [],
   "source": [
    "seaech and print prices = https://paytm.com/\n",
    "list of trains = https://paytm.com/\n",
    "find accuracy in bst = https://practice.geeksforgeeks.org/\n",
    "problem titles = https://practice.geeksforgeeks.org/\n",
    "scrape first 5 posts = https://www.instagram.com/coding.ninjas/\n"
   ]
  }
 ],
 "metadata": {
  "kernelspec": {
   "display_name": "Python 3",
   "language": "python",
   "name": "python3"
  },
  "language_info": {
   "codemirror_mode": {
    "name": "ipython",
    "version": 3
   },
   "file_extension": ".py",
   "mimetype": "text/x-python",
   "name": "python",
   "nbconvert_exporter": "python",
   "pygments_lexer": "ipython3",
   "version": "3.8.5"
  }
 },
 "nbformat": 4,
 "nbformat_minor": 4
}
