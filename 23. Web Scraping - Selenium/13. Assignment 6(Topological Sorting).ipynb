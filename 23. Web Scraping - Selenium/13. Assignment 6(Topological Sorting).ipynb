{
 "cells": [
  {
   "cell_type": "code",
   "execution_count": 1,
   "metadata": {},
   "outputs": [],
   "source": [
    "from selenium import webdriver\n",
    "\n",
    "driver = webdriver.Chrome(executable_path = r\"C:\\Users\\hashi\\Downloads\\chromedriver_win32 (2)\\chromedriver.exe\")  \n",
    "\n",
    "driver.get('https://www.geeksforgeeks.org/')\n",
    "\n",
    "\n",
    "\n",
    "\n"
   ]
  },
  {
   "cell_type": "code",
   "execution_count": 2,
   "metadata": {},
   "outputs": [],
   "source": [
    "ds = driver.find_element_by_partial_link_text('Data Structures')\n",
    "ds.click()"
   ]
  },
  {
   "cell_type": "code",
   "execution_count": 6,
   "metadata": {},
   "outputs": [],
   "source": [
    "ts = driver.find_element_by_partial_link_text('Topological Sorting')\n",
    "ts.click()"
   ]
  },
  {
   "cell_type": "code",
   "execution_count": 7,
   "metadata": {},
   "outputs": [
    {
     "name": "stdout",
     "output_type": "stream",
     "text": [
      "Kahn's algorithm for Topological Sorting\n",
      "All Topological Sorts of a Directed Acyclic Graph\n",
      "Topological Sort of a graph using departure time of vertex\n",
      "Detect cycle in Directed Graph using Topological Sort\n",
      "Lexicographically Smallest Topological Ordering\n",
      "C++ Program For Sorting A Linked List Of 0s, 1s And 2s\n",
      "C Program For Sorting A Linked List Of 0s, 1s And 2s\n",
      "Java Program For Sorting A Linked List Of 0s, 1s And 2s\n",
      "Python Program For Sorting A Linked List Of 0s, 1s And 2s\n",
      "Javascript Program For Sorting A Linked List Of 0s, 1s And 2s\n",
      "C++ Program For Sorting A Linked List That Is Sorted Alternating Ascending And Descending Orders\n",
      "Java Program For Sorting A Linked List That Is Sorted Alternating Ascending And Descending Orders\n",
      "Python Program For Sorting A Linked List That Is Sorted Alternating Ascending And Descending Orders\n",
      "C++ Program For Sorting Linked List Which Is Already Sorted On Absolute Values\n",
      "Java Program For Sorting Linked List Which Is Already Sorted On Absolute Values\n",
      "Python Program For Sorting Linked List Which Is Already Sorted On Absolute Values\n",
      "Javascript Program For Sorting Linked List Which Is Already Sorted On Absolute Values\n",
      "C Program For Sorting An Array Of 0s, 1s and 2s\n",
      "C++ Program For Sorting An Array Of 0s, 1s and 2s\n",
      "Java Program For Sorting An Array Of 0s, 1s and 2s\n",
      "Python Program For Sorting An Array Of 0s, 1s and 2s\n",
      "Php Program For Sorting An Array Of 0s, 1s and 2s\n",
      "Javascript Program For Sorting An Array Of 0s, 1s and 2s\n",
      "Javascript Program For Sorting A Linked List That Is Sorted Alternating Ascending And Descending Orders\n"
     ]
    }
   ],
   "source": [
    "from bs4 import BeautifulSoup\n",
    "\n",
    "data = BeautifulSoup(driver.page_source)\n",
    "d = data.find(class_ = 'article--recommended_wrapper')\n",
    "title = d.find_all(class_ = 'head')\n",
    "for i in title:\n",
    "    print(i.string)"
   ]
  },
  {
   "cell_type": "code",
   "execution_count": 9,
   "metadata": {},
   "outputs": [
    {
     "name": "stdout",
     "output_type": "stream",
     "text": [
      "Topological Sorting\n"
     ]
    }
   ],
   "source": [
    "from bs4 import BeautifulSoup\n",
    "\n",
    "data = BeautifulSoup(driver.page_source)\n",
    "d = data.find(class_ = 'topologicalSorting')\n",
    "##title = d.find_all(class_ = 'head')\n",
    "for i in d:\n",
    "    print(i.a.string)"
   ]
  },
  {
   "cell_type": "code",
   "execution_count": 15,
   "metadata": {},
   "outputs": [
    {
     "name": "stdout",
     "output_type": "stream",
     "text": [
      "None\n",
      "Topological Sorting\n",
      "Topological Sorting\n",
      "Topological Sorting\n",
      "Topological Sorting\n",
      "Topological Sorting\n",
      "Topological Sorting\n",
      "Topological Sorting\n",
      "Topological Sorting\n",
      "Topological Sorting\n",
      "Topological Sorting\n",
      "Topological Sorting\n",
      "Topological Sorting\n",
      "Topological Sorting\n",
      "Topological Sorting\n",
      "Topological Sorting\n",
      "Topological Sorting\n",
      "Topological Sorting\n",
      "Topological Sorting\n"
     ]
    }
   ],
   "source": [
    "a = [tag.name for tag in d.find_all()]\n",
    "for i in a:\n",
    "    s = d.find(i)\n",
    "    print(s.string)"
   ]
  },
  {
   "cell_type": "code",
   "execution_count": 24,
   "metadata": {},
   "outputs": [
    {
     "name": "stdout",
     "output_type": "stream",
     "text": [
      "<a href=\"https://www.geeksforgeeks.org/topological-sorting/\">Topological Sorting</a>\n"
     ]
    }
   ],
   "source": [
    "for i in d.li:\n",
    "    print(i)"
   ]
  },
  {
   "cell_type": "code",
   "execution_count": 29,
   "metadata": {},
   "outputs": [
    {
     "data": {
      "text/plain": [
       "[<ol><li><a href=\"https://www.geeksforgeeks.org/topological-sorting/\">Topological Sorting</a></li><li><a href=\"https://www.geeksforgeeks.org/all-topological-sorts-of-a-directed-acyclic-graph/\">All topological sorts of a Directed Acyclic Graph</a></li><li><a href=\"https://www.geeksforgeeks.org/topological-sorting-indegree-based-solution/\">Kahn’s Algorithm for Topological Sorting</a></li><li><a href=\"https://www.geeksforgeeks.org/maximum-edges-can-added-dag-remains-dag/\">Maximum edges that can be added to DAG so that is remains DAG</a></li><li><a href=\"https://www.geeksforgeeks.org/longest-path-between-any-pair-of-vertices/\">Longest path between any pair of vertices</a></li><li><a href=\"https://www.geeksforgeeks.org/find-longest-path-directed-acyclic-graph/\" rel=\"bookmark\">Longest Path in a Directed Acyclic Graph</a></li><li><a href=\"https://www.geeksforgeeks.org/longest-path-directed-acyclic-graph-set-2/\">Longest Path in a Directed Acyclic Graph | Set 2</a></li><li><a href=\"https://www.geeksforgeeks.org/topological-sorting-using-departure-time-of-vertex/\">Topological Sort of a graph using departure time of vertex</a></li><li><a href=\"https://www.geeksforgeeks.org/given-sorted-dictionary-find-precedence-characters/\">Given a sorted dictionary of an alien language, find order of characters</a></li></ol>,\n",
       " <li><a href=\"https://www.geeksforgeeks.org/topological-sorting/\">Topological Sorting</a></li>,\n",
       " <a href=\"https://www.geeksforgeeks.org/topological-sorting/\">Topological Sorting</a>,\n",
       " <li><a href=\"https://www.geeksforgeeks.org/all-topological-sorts-of-a-directed-acyclic-graph/\">All topological sorts of a Directed Acyclic Graph</a></li>,\n",
       " <a href=\"https://www.geeksforgeeks.org/all-topological-sorts-of-a-directed-acyclic-graph/\">All topological sorts of a Directed Acyclic Graph</a>,\n",
       " <li><a href=\"https://www.geeksforgeeks.org/topological-sorting-indegree-based-solution/\">Kahn’s Algorithm for Topological Sorting</a></li>,\n",
       " <a href=\"https://www.geeksforgeeks.org/topological-sorting-indegree-based-solution/\">Kahn’s Algorithm for Topological Sorting</a>,\n",
       " <li><a href=\"https://www.geeksforgeeks.org/maximum-edges-can-added-dag-remains-dag/\">Maximum edges that can be added to DAG so that is remains DAG</a></li>,\n",
       " <a href=\"https://www.geeksforgeeks.org/maximum-edges-can-added-dag-remains-dag/\">Maximum edges that can be added to DAG so that is remains DAG</a>,\n",
       " <li><a href=\"https://www.geeksforgeeks.org/longest-path-between-any-pair-of-vertices/\">Longest path between any pair of vertices</a></li>,\n",
       " <a href=\"https://www.geeksforgeeks.org/longest-path-between-any-pair-of-vertices/\">Longest path between any pair of vertices</a>,\n",
       " <li><a href=\"https://www.geeksforgeeks.org/find-longest-path-directed-acyclic-graph/\" rel=\"bookmark\">Longest Path in a Directed Acyclic Graph</a></li>,\n",
       " <a href=\"https://www.geeksforgeeks.org/find-longest-path-directed-acyclic-graph/\" rel=\"bookmark\">Longest Path in a Directed Acyclic Graph</a>,\n",
       " <li><a href=\"https://www.geeksforgeeks.org/longest-path-directed-acyclic-graph-set-2/\">Longest Path in a Directed Acyclic Graph | Set 2</a></li>,\n",
       " <a href=\"https://www.geeksforgeeks.org/longest-path-directed-acyclic-graph-set-2/\">Longest Path in a Directed Acyclic Graph | Set 2</a>,\n",
       " <li><a href=\"https://www.geeksforgeeks.org/topological-sorting-using-departure-time-of-vertex/\">Topological Sort of a graph using departure time of vertex</a></li>,\n",
       " <a href=\"https://www.geeksforgeeks.org/topological-sorting-using-departure-time-of-vertex/\">Topological Sort of a graph using departure time of vertex</a>,\n",
       " <li><a href=\"https://www.geeksforgeeks.org/given-sorted-dictionary-find-precedence-characters/\">Given a sorted dictionary of an alien language, find order of characters</a></li>,\n",
       " <a href=\"https://www.geeksforgeeks.org/given-sorted-dictionary-find-precedence-characters/\">Given a sorted dictionary of an alien language, find order of characters</a>]"
      ]
     },
     "execution_count": 29,
     "metadata": {},
     "output_type": "execute_result"
    }
   ],
   "source": [
    "s = d.find_all(a)\n",
    "s"
   ]
  },
  {
   "cell_type": "code",
   "execution_count": 28,
   "metadata": {},
   "outputs": [
    {
     "name": "stdout",
     "output_type": "stream",
     "text": [
      "None\n",
      "Topological Sorting\n",
      "Topological Sorting\n",
      "All topological sorts of a Directed Acyclic Graph\n",
      "All topological sorts of a Directed Acyclic Graph\n",
      "Kahn’s Algorithm for Topological Sorting\n",
      "Kahn’s Algorithm for Topological Sorting\n",
      "Maximum edges that can be added to DAG so that is remains DAG\n",
      "Maximum edges that can be added to DAG so that is remains DAG\n",
      "Longest path between any pair of vertices\n",
      "Longest path between any pair of vertices\n",
      "Longest Path in a Directed Acyclic Graph\n",
      "Longest Path in a Directed Acyclic Graph\n",
      "Longest Path in a Directed Acyclic Graph | Set 2\n",
      "Longest Path in a Directed Acyclic Graph | Set 2\n",
      "Topological Sort of a graph using departure time of vertex\n",
      "Topological Sort of a graph using departure time of vertex\n",
      "Given a sorted dictionary of an alien language, find order of characters\n",
      "Given a sorted dictionary of an alien language, find order of characters\n"
     ]
    }
   ],
   "source": [
    "s = d.find_all(a)\n",
    "for i in s:\n",
    "    print(i.string)"
   ]
  }
 ],
 "metadata": {
  "kernelspec": {
   "display_name": "Python 3",
   "language": "python",
   "name": "python3"
  },
  "language_info": {
   "codemirror_mode": {
    "name": "ipython",
    "version": 3
   },
   "file_extension": ".py",
   "mimetype": "text/x-python",
   "name": "python",
   "nbconvert_exporter": "python",
   "pygments_lexer": "ipython3",
   "version": "3.8.5"
  }
 },
 "nbformat": 4,
 "nbformat_minor": 4
}
