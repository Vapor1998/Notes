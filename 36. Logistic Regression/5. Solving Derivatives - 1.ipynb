{
 "cells": [
  {
   "cell_type": "markdown",
   "metadata": {},
   "source": [
    "So our error function was  \n",
    "$$E(m) = \\frac{1}{m} \\sum_{i=1}^m -y^ilog(h(x^i) - (1-y^i)log(1-h(x^i))$$   \n",
    "\n",
    "\n",
    "Before we try to differentiate this, lets check what is $log(h(x^i))$  \n",
    "  \n",
    "   \n",
    "$$log(h(x^i)) = \\frac{1}{1 + e^{-m^{T}x^{i}}}$$\n",
    "\n",
    "Now using log(a/b) property, we get =  \n",
    "$$ -log(1 + e^{-m^{T}x^{i}})                                    ........................ (1)  $$  \n",
    "  \n",
    "    \n",
    "Now what is $log(1 - h(x^i))$   \n",
    "  \n",
    "$$log(1 - h(x^i)) =  log(1 - \\frac{1}{1 + e^{-m^{T}x^{i}}})$$  \n",
    "\n",
    "$log(1 - \\frac{1}{1 + e^{-m^{T}x^{i}}})$  can be simplified into  \n",
    "\n",
    "$$ log(e^{-m^{T}x^{i}}) - log(1+ e^{-m^{T}x^{i}})...................................(2)$$ \n",
    "\n",
    "\n",
    "Now, lets put (1) and (2) in error function, we get, \n",
    "For now, we are not assuming $\\frac{1}{m}$, we are focusing on internal part  \n",
    "\n",
    "$$E(m) = -y^i(-log(1+ e^{-m^{T}x^{i}})) - (1-y^i)log(e^{-m^{T}x^{i}}) - log(1+ e^{-m^{T}x^{i}})$$    \n",
    "solving the above equation,  \n",
    "$$ E(m) = y^ilog(e^{-m^{T}x^{i}}) - log(e^{-m^{T}x^{i}}) + log(1+ e^{-m^{T}x^{i}}) + y^ilog(e^{-m^{T}x^{i}}) - y^ilog(1+e^{-m^{T}x^{i}})$$   \n",
    "$$ = {m^{T}x^{i}} + y^i(m^{T}x^{i}) + log(1+e^{-m^{T}x^{i}}) .......... since \\  loge^z = z$$\n",
    "  \n",
    "    \n",
    "      \n",
    "        \n",
    "\n",
    "$$ E^i(m)= {m^{T}x^{i}} + y^i(m^{T}x^{i}) + log(1+e^{-m^{T}x^{i}}) $$ \n"
   ]
  }
 ],
 "metadata": {
  "kernelspec": {
   "display_name": "Python 3",
   "language": "python",
   "name": "python3"
  },
  "language_info": {
   "codemirror_mode": {
    "name": "ipython",
    "version": 3
   },
   "file_extension": ".py",
   "mimetype": "text/x-python",
   "name": "python",
   "nbconvert_exporter": "python",
   "pygments_lexer": "ipython3",
   "version": "3.8.5"
  }
 },
 "nbformat": 4,
 "nbformat_minor": 4
}
