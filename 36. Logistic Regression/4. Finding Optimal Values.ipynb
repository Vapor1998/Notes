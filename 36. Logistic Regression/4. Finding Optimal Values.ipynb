{
 "cells": [
  {
   "cell_type": "markdown",
   "metadata": {},
   "source": [
    "Now that we have found our error function to be  \n",
    "\n",
    "$$E(x, y) = \\frac{1}{m} \\sum_{i=1}^m -y^ilog(h(x^i) - (1-y^i)log(1-h(x^i))$$   \n",
    "\n",
    "What we want to do is we want to find the optimal m values. To do so, we are planning to use gradient descent as we have done earlier.  j\n",
    "The idea of gradient descent is lets start with particular value of m, lets update m.To update particular m we use  \n",
    "$m_{j} = m_{j} - \\alpha \\frac{\\partial E}{\\partial m_{j}}$.  \n",
    "\n",
    "Now to find  $\\frac{\\partial E}{\\partial m_{j}}$, we need to calculate $\\frac{\\partial E(x, y, m)}{\\partial m_{j}}$\n",
    "where this is also dependent upon x.\n",
    "What we are supposed to do is we are supposed to take derivative of $E(x, y) = \\frac{1}{m} \\sum_{i=1}^m -y^ilog(h(x^i) - (1-y^i)log(1-h(x^i))$ w.r.t particular parameter which is $ \\frac{1}{1+e^{m^T_x}}$\n"
   ]
  },
  {
   "cell_type": "code",
   "execution_count": null,
   "metadata": {},
   "outputs": [],
   "source": []
  }
 ],
 "metadata": {
  "kernelspec": {
   "display_name": "Python 3",
   "language": "python",
   "name": "python3"
  },
  "language_info": {
   "codemirror_mode": {
    "name": "ipython",
    "version": 3
   },
   "file_extension": ".py",
   "mimetype": "text/x-python",
   "name": "python",
   "nbconvert_exporter": "python",
   "pygments_lexer": "ipython3",
   "version": "3.8.5"
  }
 },
 "nbformat": 4,
 "nbformat_minor": 4
}
