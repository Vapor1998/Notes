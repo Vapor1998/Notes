{
 "cells": [
  {
   "cell_type": "raw",
   "metadata": {},
   "source": [
    "// TOPICS \n",
    "Logistic Regression -\n",
    "1: How to use Linear Regression for classification? Why is it bad?\n",
    "2: Logistic regression & Sigmoid function\n",
    "3: Cost function\n",
    "4: Gradient Descent for Logistic Regression\n",
    "5: Multiclass classification\n",
    "6: Extended form by adding extra features & Regularization"
   ]
  },
  {
   "cell_type": "markdown",
   "metadata": {},
   "source": [
    "## Using Linear Regression for classification"
   ]
  },
  {
   "cell_type": "markdown",
   "metadata": {},
   "source": [
    "Linear Regression , although is a regression algorithm but can be used in classification problems also. "
   ]
  },
  {
   "cell_type": "markdown",
   "metadata": {},
   "source": [
    "Lets consider an example where the results of linear regression are between 0 and 5 (real numbers like 3.567) and we need to classify the data into 6 categories i.e. 0,1,2,3,4,5 .A simple way of using this for classification is to just round off the result to the nearest integer between 0 and 5. So , if the result from linaer regression is [1.23 , 0.43 , 4.32 , 3.49] we get the results of our classification as [1,0,4,3] ."
   ]
  },
  {
   "cell_type": "markdown",
   "metadata": {},
   "source": [
    "We need to set the thresholds for classification . In the above exapmle thresholds were : [0-0.5) for 0 , [0.5,1.5) for 1 , [1.5,2.5) for 2 and so on. You can decide your own threshold values depending on the data you have. "
   ]
  },
  {
   "cell_type": "markdown",
   "metadata": {},
   "source": [
    "#### Why is linear regression bad for classification?"
   ]
  },
  {
   "cell_type": "markdown",
   "metadata": {},
   "source": [
    "Linear Regression can be used for classification by defining appropriate threshold values , but it is not the right algorithm for classification problems because -\n",
    "1. Outliers can affect the best fit line and thus the decision boundary.\n",
    "2. Values predicted by Linear Regression will be continuous, whereas expected results will be discrete."
   ]
  },
  {
   "cell_type": "markdown",
   "metadata": {},
   "source": [
    "With linear regression you fit a polynomial through the data - say, like in the example below we're fitting a straight line through {tumor size, tumor type} sample set:\n",
    "<img src=\"one.png\">\n",
    "Above, malignant tumors get 1 and non-malignant ones get 0, and the green line is our hypothesis h(x). To make predictions we may say that for any given tumor size x, if h(x) gets greater than 0.5 we predict malignant tumor, otherwise we predict benign."
   ]
  },
  {
   "cell_type": "markdown",
   "metadata": {},
   "source": [
    "It seems that everytime we have the right answer according to the data above , right? Now lets change the data a little bit and for a quite large value of tumor size lets add a Malilgnant cancer data point. Now our line h(x) begins to look somewhat like this->\n",
    "<img src=\"three.png\">\n",
    "We can clearly see that now the predictions are not correct. Because we are trying to fit a line through the data we are getting , the line will be dependant on the quality and type of data we get. We cannot change the hypothesis each time a new sample arrives. Instead, we should learn it off the training set data, and then (using the hypothesis we've learned) make correct predictions for the data we haven't seen before. This can be done by creating a decision boundary."
   ]
  },
  {
   "cell_type": "markdown",
   "metadata": {},
   "source": [
    "Decision boundary is the boundary which seperates the two regions in classification. If we have a binary classification with values 0 and 1 then one side of this boundary will be 0 and the other will be 1. Take a look at the image below ->\n",
    "<img src=\"two.png\">\n",
    "Here, the purple colour line is the decision boundary. All points on the left side of this line correspond to 0 and points on the right side correspond to 1. In the above problem (and also many other classification problems) we more importantly want that the points are placed on the correct side of the decision boundary and not on how far they are on the correct side . What we mean is that we are somewhat okay if the points are quite close to the decision boundary , as long as they are on the right side of it."
   ]
  },
  {
   "cell_type": "markdown",
   "metadata": {},
   "source": [
    "The above decision boundary (purple line) is similar to the one which would have been generated if we would have used Logistic Regression in the above problem(Logistic Regression is dicussed in detail next). Both linear regression and logistic regression give you a straight line (or a higher order polynomial) but those lines have different meaning:<br>\n",
    "-- line for linear regression interpolates, or extrapolates, the output and predicts the value for x we haven't seen.<br>\n",
    "-- h(x) for logistic regression tells you the measure (like probability) that x belongs to the \"positive\" class. Or you can see the line as the decision boundary."
   ]
  },
  {
   "cell_type": "markdown",
   "metadata": {},
   "source": [
    "# Logistic Regression "
   ]
  },
  {
   "cell_type": "markdown",
   "metadata": {},
   "source": [
    "Logistic Regression is a statistical method for analyzing a dataset in which there are one or more independent variables that determine an outcome. Logistic Regression is actually a classification algorithm. Logistic regression is used to describe data and to explain the relationship between one dependent binary variable and one or more nominal, ordinal, interval or ratio-level independent variables.<br>\n",
    "Before starting with Logistic regression we need to know about a function called Sigmoid function and its properties."
   ]
  },
  {
   "cell_type": "markdown",
   "metadata": {},
   "source": [
    "#### Sigmoid Function"
   ]
  },
  {
   "cell_type": "markdown",
   "metadata": {},
   "source": [
    "A sigmoid function is a mathematical function having an \"S\" shaped curve (sigmoid curve). Mathematically , the function is :\n",
    "<img src=\"S1.png\">"
   ]
  },
  {
   "cell_type": "markdown",
   "metadata": {},
   "source": [
    "and its curve looks like :\n",
    "<img src=\"S2.png\">\n",
    "With its output ranging between 0 and 1. As we can clearly see that the the curve quickly goes toward 1 when t>0 and toward 0 when t<0 and at t=0 it is equal to 0.5. Value of the above function for t=2 is 0.88 and for t=-2 is 0.119 , which shows how sharply it goes towards 0 and 1."
   ]
  },
  {
   "cell_type": "markdown",
   "metadata": {},
   "source": [
    "Because of the property of sigmoid function to give output between 0 and 1 we can use its output like probability, but not exactly as probability. For example, the property of probability that P(true)+P(false)=1 may not be true is case of sigmoid function i.e. S(true)+S(false) may not be equal to 1."
   ]
  },
  {
   "cell_type": "markdown",
   "metadata": {
    "collapsed": true
   },
   "source": [
    "The logistic function has this further, important property, that its derivative can be expressed by the function itself (),\n",
    "<img src=\"S3.png\">"
   ]
  },
  {
   "cell_type": "markdown",
   "metadata": {},
   "source": [
    "As at t=0 we have S(t)=0.5 , and for t>0 we have S(t)>0.5 (sharply rising to 1 so we consider it 1) and for t<0 we have S(t)<0.5 (sharply falling to 0 so we consider it 0) , we have our decision boundary as 0.5.\n",
    "For example, as our threshold is .5 and our prediction function returned .7, we would classify this observation as positive(1). If our prediction was .2 we would classify the observation as negative(0). For logistic regression with multiple classes we could select the class with the highest predicted probability."
   ]
  },
  {
   "cell_type": "markdown",
   "metadata": {},
   "source": [
    "<img src=\"S4.png\" width=\"450px\">"
   ]
  },
  {
   "cell_type": "markdown",
   "metadata": {},
   "source": [
    "## cost function of logistic regression"
   ]
  },
  {
   "cell_type": "markdown",
   "metadata": {},
   "source": [
    "Earlier in linear regression we have used the following cost function:"
   ]
  },
  {
   "cell_type": "markdown",
   "metadata": {},
   "source": [
    "\\begin{equation*}\n",
    " \\left( \\sum_{k=1}^n (y_t - y_p)^2  \\right)\n",
    "\\end{equation*}\n",
    "\n",
    "where in y(predicted) was replaced by its value mx."
   ]
  },
  {
   "cell_type": "markdown",
   "metadata": {},
   "source": [
    "\\begin{equation*}\n",
    " \\left( \\sum_{k=1}^n (y - mx)^2  \\right)\n",
    "\\end{equation*}"
   ]
  },
  {
   "cell_type": "markdown",
   "metadata": {},
   "source": [
    "This cost function was of degree 2 and had only one minimum. But in the case of logistic regression if we use the same cost function then the cost function will end up having many minimas because of the hypothesis function of logistic regression. Therefore while estimating a minimum value we may end up at some local minimum rather than a global minimum.  \n",
    "\n",
    "\\begin{equation*}\n",
    " \\left( \\sum_{k=1}^n (y - {\\frac{1}{1+e^{-mx} }})^2  \\right)\n",
    "\\end{equation*}"
   ]
  },
  {
   "cell_type": "markdown",
   "metadata": {},
   "source": [
    "So here we use CROSS ENTROPY to measure the cost of our model.\n",
    "<pre style=\"color:brown\">\n",
    "                cost = -log(h(x))   if y = 1\n",
    "                       -log(1-h(x)) if y = 0\n",
    "</pre>\n",
    "here h(x) is the hypothesis function for logistic regression(i.e sigmoid function) and y is the actual true output ,i.e the actual label , for the current considered values of features.\n",
    "\n",
    "This error function penalizes for the wrong predictions we make.\n",
    "\n",
    "For example, consider that y(the actual label) is 1 and we classify it as e(e is tending to zero), then our cost will be -log(e) i.e a very very high positive value, and the cost reduces as we classify it near to 1 . The cost becomes zero when we classify it correctly as 1 .\n",
    "Also consider that y(the actual label) is 0 and we classify it as t(nearly equal to 1) , then the cost for that will be -log(1-t) = -log(e), where e is tending to zero,and again the cost has a very very high positive value.And the cost tends to zero when we classify it correctly as 0.\n",
    "   "
   ]
  },
  {
   "cell_type": "markdown",
   "metadata": {},
   "source": [
    "<img src=\"log.png\" width=\"250\"/>"
   ]
  },
  {
   "cell_type": "markdown",
   "metadata": {},
   "source": [
    "we can combine the two cases of our cost function as :\n",
    "<pre style=\"color:brown\">\n",
    "            cost = [-ylog(h(x))]-[(1-y)log(1-h(x))]\n",
    "</pre>\n",
    "\n",
    "The only parameter which we can vary in our cost function is h(x) and  therein the variable is m, as shown below. "
   ]
  },
  {
   "cell_type": "markdown",
   "metadata": {},
   "source": [
    "<img src=\"mwalah.jpeg\" width=\"400\"/>"
   ]
  },
  {
   "cell_type": "markdown",
   "metadata": {},
   "source": [
    "Hence our aim is to improve the accuracy of our model and reduce the cost by selecting a proper value(s) for m , and we do so by GRADIENT DESCENT as it was done in linear regression.\n",
    "\n",
    "Our cost function is a convex function i.e it has only one local minimum therefore we can use gradient descent approach to find the apt value of m ."
   ]
  },
  {
   "cell_type": "markdown",
   "metadata": {},
   "source": [
    "# Multiclass classification"
   ]
  },
  {
   "cell_type": "markdown",
   "metadata": {},
   "source": [
    "Multiclass Classification , as the name suggests ,are the kind of problems in which using the given parameters/features we need to classify into <b>more than 2 classes</b>.\n",
    "<img src=\"M1.png\" width=\"500px\">\n",
    "<br>Instead of y=0,1 we will expand our definition so that y=0,1...n. Basically we re-run binary classification multiple times, once for each class. <b>For each sub-problem, we select one class (YES) and lump all the others into a second class (NO). Then we take the class with the highest predicted value.</b>\n"
   ]
  },
  {
   "cell_type": "markdown",
   "metadata": {},
   "source": [
    "Lets understand it better with the exapmle of Iris dataset where we have to categorise flowers in 3 categories based on four features.For more information regarding the iris dataset you can follow check the [link](https://archive.ics.uci.edu/ml/datasets/iris)"
   ]
  },
  {
   "cell_type": "markdown",
   "metadata": {},
   "source": [
    "Lets consider the 3 categories as A,B and C.<br>\n",
    "We run binary classification(train) on this dataset with 3 different structures and meaning of the data -><br>\n",
    "1)  one time with A as true and others (B and C) as false.<br>\n",
    "2)  second with B as true and others (A and C) as false.<br>\n",
    "3)  third with C as true and others (A and B) as false.<br>\n",
    "<br>\n",
    "Now , when we get a test sample we pass it into the model. Let the output from the three structures as shown above be O1,O2 and O3. We classify the test sample in the class which has the highest value among these three outputs. For example, if O1=0.5 and O2=0.6 and O3=0.9 we classify the test sample as C.<br>\n",
    "Here we kind of use the output of Logistic regression as being the probability of the test sample being in that particular class and not in other classes. But as mentioned earlier also this measure is not strictly probability."
   ]
  },
  {
   "cell_type": "markdown",
   "metadata": {},
   "source": [
    "### Creating useful features from given features and regularisation"
   ]
  },
  {
   "cell_type": "markdown",
   "metadata": {},
   "source": [
    "A common practise is to use the extended form by creating extra features from the given set of features. One way of doing this is shown here . This is the most general way and is used widely .<br>\n",
    "Let's take an example in which we have 3 features f1 , f2 and f3. For these features we will have equation for input to sigmoid with at most one degree in f1,f2 and f3. By degree 1 we mean equations of the form <i>a(f1)+b(f2)+c(f3)+d</i> , where a,b,c and d are some coefficients. <br><br>\n",
    "What we plan to do is add more features such as f1\\*f1 , f2\\*f2 , f3\\*f3 , f1\\*f3 , f1\\*f2 and f2\\*f3 so that our equation can now be of 2nd degree. Main point to note here is that we have increased our number of features from just 3 to 9 ,but the newly added 6 features are derived from the already existing 3 features.<br><br>\n",
    "You can create and add features of any degree you fell like. f1\\*f2\\*f3  will make an equation of 3rd degree. The more features you add the better your decision boundary tries to fit in the training data. Generally we get better results with higher degree terms in the equation.<br>\n",
    "We must acknowledge the fact that if the dependancy of the output is very low on the a certain factor say f1\\*f2 then the model will assign a value to its coefficient which ensures that it has less effect in the output. <br>\n",
    "With higher degree features being added to the dataset we are now able to achieve boundaries of many shapes such as parabolic and even some complex shapes.<br><br>\n",
    "This addition of features comes with a cost. If we keep on adding more and more features of higher degree , our model to try to fit itself more to the training data and may cause the problem of **overfitting**."
   ]
  },
  {
   "cell_type": "markdown",
   "metadata": {},
   "source": [
    "**Overfitting** is a modeling error which occurs when a function is too closely fit to a limited set of data points. Due to this the model poorly respond to the unseen data or the training data. This is one of many reasons for a trained model to perform poorly on test data.<br>\n",
    "So what we actually need to have a trade off between the complexity of features we want to use and the extent to which we want our model to fit to the training data."
   ]
  },
  {
   "cell_type": "markdown",
   "metadata": {},
   "source": [
    "Consider the example below for more clarity:"
   ]
  },
  {
   "cell_type": "markdown",
   "metadata": {},
   "source": [
    "<img src=\"R1.png\" width=\"600px\">"
   ]
  },
  {
   "cell_type": "markdown",
   "metadata": {},
   "source": [
    "In the above example we see that in the first figure when we use equation of degree one we just get a line which does not depicts the data nicely.<br>\n",
    "For the second figure we use equation of degree 2 as we have terms like x1\\*x2. The curve we obtain here is depicting the data quite well. This should be the optimal solution even though it has a pair of wrong classifications.\n",
    "In the third example we use equation with degree 5. We can clearly see that the decision boundary is trying to fit itself to the data. This is the case of over fitting."
   ]
  },
  {
   "cell_type": "markdown",
   "metadata": {},
   "source": [
    "One way of reducing overfitting is by **regularisation**. A very simple explaination of regularisation can be that it discourages complex features in the dataset. Lets try to understand regularisation with an example.<br>Assume that we have (m1\\*x1) + (m2\\*x2) + (m3\\*x1\\*x1) + (m4\\*x2\\*x2) + (m5\\*x1\\*x2) as our input to the sigmoid function in case of Logistic regression. \n",
    "<br>\n",
    "We add this term to the cost function:"
   ]
  },
  {
   "cell_type": "markdown",
   "metadata": {},
   "source": [
    "\\begin{equation*}\n",
    "\\beta \\left( \\sum_{k=1}^n (m_k)^2  \\right)\n",
    "\\end{equation*}"
   ]
  },
  {
   "cell_type": "markdown",
   "metadata": {},
   "source": [
    "where β is the regularisation parameter and m are the coefficients given to n features.We actually are telling our model that the more importance you give to a particular feature the more it will add to the cost function. So ,this automatically acts as a deciding factor for the model. A particular feature will be give higher valued coefficient only if it is significantly important in deciding the outcome. This will naturally reduce overfitting."
   ]
  },
  {
   "cell_type": "markdown",
   "metadata": {},
   "source": [
    "This type of regularisation in which we add square of the coefficient's value multiplied by β to the cost function is called **L2 Regularisatin** and if we just added the coefficients value multiplied by β to the cost function ,it is called **L1 Regularisation**. "
   ]
  },
  {
   "cell_type": "markdown",
   "metadata": {},
   "source": [
    "## Cost Function"
   ]
  },
  {
   "cell_type": "markdown",
   "metadata": {},
   "source": [
    "Now we have sigmoid function and we need to find the parameters.Parameters are..\n",
    "\n",
    "lets say the hypothesis is  h(x) = s($m^{T}x$)  $\\frac{1}{1 + e^{-g(x)}}$ .  \n",
    "What we need is we need to find the m.The best fit m such that error is minimized.  \n",
    "  \n",
    "    \n",
    "      \n",
    "How do we define the error function?\n",
    "The error function depends upon the output, and the actual Y(prediction). ->E(h(x), y).  \n",
    "\n",
    "So the error fuction in linear regression looks like  $\\sum_{i = 1}^{m} (y^{i} - h(x))^2$  \n",
    "where h(x) = $m^{T}x$. \n",
    "  \n",
    "But now, h(x) is $\\frac{1}{1 + e^{-g(x)}}$ which is commplicated.  \n",
    "And for this h(x) if we use the same error function(linear regression one) it creates problems.  \n",
    "The problem it creates is there is many local minimas.  \n",
    "Instead of using this error function, we need to use the error function so that for $\\frac{1}{1 + e^{-g(x)}}$ , it should be convex.  \n",
    "Convex function means there will be only one local minima.  \n",
    "So instead of using error function as $\\sum_{i = 1}^{m} (y^{i} - h(x))^2$, we will use a different one.  \n",
    "So our function will be splitted into two parts.  \n",
    "    if y == 1:  \n",
    "        $E(h(x), y) ->  -log(h(x))$  \n",
    "    else:  \n",
    "        $E(h(x), y) ->  -log(1 - h(x))$  \n",
    "\n",
    "\n",
    "  \n",
    "    \n",
    "For a particular data,  \n",
    "  \n",
    "if y == 1:    \n",
    "$E(h(x^i), y^i) ->  -log(h(x^i))$      \n",
    "else:    \n",
    "$E(h(x^i), y^i) ->  -log(1 - h(x^i))$  \n",
    "\n",
    "\n",
    "Also search for graphs of this equation.  \n",
    "In a simplified form, we can combine the both equations in the form,  \n",
    "$E(h(x^i), y^i) = -y^ilog(h(x^i) - (1-y^i)log(1-h(x^i))$  \n",
    "\n",
    "This is the error function of ith training data.  \n",
    "\n",
    "So overall error on whole x and y data willbe  \n",
    "$$E(x, y) = \\frac{1}{m} \\sum_{i=1}^m -y^ilog(h(x^i) - (1-y^i)log(1-h(x^i))$$   \n",
    "We did a small change by adding $\\frac{1}{m}$ because training data is huge so that our error must not become huge we are kind of finding average error per training data point.  \n",
    "This error function is convex.\n",
    "\n"
   ]
  },
  {
   "cell_type": "markdown",
   "metadata": {},
   "source": [
    "## Finding Optimal Values"
   ]
  },
  {
   "cell_type": "markdown",
   "metadata": {},
   "source": [
    "Now that we have found our error function to be  \n",
    "\n",
    "$$E(x, y) = \\frac{1}{m} \\sum_{i=1}^m -y^ilog(h(x^i) - (1-y^i)log(1-h(x^i))$$   \n",
    "\n",
    "What we want to do is we want to find the optimal m values. To do so, we are planning to use gradient descent as we have done earlier.  j\n",
    "The idea of gradient descent is lets start with particular value of m, lets update m.To update particular m we use  \n",
    "$m_{j} = m_{j} - \\alpha \\frac{\\partial E}{\\partial m_{j}}$.  \n",
    "\n",
    "Now to find  $\\frac{\\partial E}{\\partial m_{j}}$, we need to calculate $\\frac{\\partial E(x, y, m)}{\\partial m_{j}}$\n",
    "where this is also dependent upon x.\n",
    "What we are supposed to do is we are supposed to take derivative of $E(x, y) = \\frac{1}{m} \\sum_{i=1}^m -y^ilog(h(x^i) - (1-y^i)log(1-h(x^i))$ w.r.t particular parameter which is $ \\frac{1}{1+e^{m^T_x}}$\n"
   ]
  },
  {
   "cell_type": "markdown",
   "metadata": {},
   "source": [
    "## Solving Derivatives"
   ]
  },
  {
   "cell_type": "markdown",
   "metadata": {},
   "source": [
    "So our error function was  \n",
    "$$E(m) = \\frac{1}{m} \\sum_{i=1}^m -y^ilog(h(x^i) - (1-y^i)log(1-h(x^i))$$   \n",
    "\n",
    "\n",
    "Before we try to differentiate this, lets check what is $log(h(x^i))$  \n",
    "  \n",
    "   \n",
    "$$log(h(x^i)) = \\frac{1}{1 + e^{-m^{T}x^{i}}}$$\n",
    "\n",
    "Now using log(a/b) property, we get =  \n",
    "$$ -log(1 + e^{-m^{T}x^{i}})                                    ........................ (1)  $$  \n",
    "  \n",
    "    \n",
    "Now what is $log(1 - h(x^i))$   \n",
    "  \n",
    "$$log(1 - h(x^i)) =  log(1 - \\frac{1}{1 + e^{-m^{T}x^{i}}})$$  \n",
    "\n",
    "$log(1 - \\frac{1}{1 + e^{-m^{T}x^{i}}})$  can be simplified into  \n",
    "\n",
    "$$ log(e^{-m^{T}x^{i}}) - log(1+ e^{-m^{T}x^{i}})...................................(2)$$ \n",
    "\n",
    "\n",
    "Now, lets put (1) and (2) in error function, we get, \n",
    "For now, we are not assuming $\\frac{1}{m}$, we are focusing on internal part  \n",
    "\n",
    "$$E(m) = -y^i(-log(1+ e^{-m^{T}x^{i}})) - (1-y^i)log(e^{-m^{T}x^{i}}) - log(1+ e^{-m^{T}x^{i}})$$    \n",
    "solving the above equation,  \n",
    "$$ E(m) = y^ilog(e^{-m^{T}x^{i}}) - log(e^{-m^{T}x^{i}}) + log(1+ e^{-m^{T}x^{i}}) + y^ilog(e^{-m^{T}x^{i}}) - y^ilog(1+e^{-m^{T}x^{i}})$$   \n",
    "$$ = {m^{T}x^{i}} + y^i(m^{T}x^{i}) + log(1+e^{-m^{T}x^{i}}) .......... since \\  loge^z = z$$\n",
    "  \n",
    "    \n",
    "      \n",
    "        \n",
    "\n",
    "$$ E^i(m)= {m^{T}x^{i}} + y^i(m^{T}x^{i}) + log(1+e^{-m^{T}x^{i}}) $$ \n"
   ]
  },
  {
   "cell_type": "markdown",
   "metadata": {},
   "source": [
    "$$E^i(m) = {m^{T}x^{i}} - y^i(m^{T}x^{i}) + log(1+e^{-m^{T}x^{i}}) $$ \n",
    "The above is the equation we derived for ith value , so lets simplify further.  \n",
    "$$ = log{(e^{m^{T}x^{i}})} + log(1+e^{-m^{T}x^{i}}) - y^i(m^{T}x^{i} ) ... we \\ added \\ log(e) \\ to \\ the \\ first \\ bcoz \\  log(e^n) = n$$\n",
    "$$ = log{1 + e^{m^{T}x^{i}}} - y^i(m^{T}x^{i})   ... \\ using \\ loga + logb = log(a+b)  $$\n",
    "\n",
    "  \n",
    "    \n",
    "Now lets find what is $\\frac{\\partial E^i(m)}{\\partial m_{j}}$,   \n",
    "\n",
    "before differentiating, lets find what is $y^i(m^{T}x^{i})$, \n",
    "\n",
    "$y^i(m^{T}x^{i}) = y^i \\sum_{j}m_{j}x_{j}^i$ this basically means for all the parameters, my ith training datapoint.\n",
    "\n",
    "Now differentiating,  \n",
    "$$\\frac{\\partial E^i (m)}{\\partial m_{j}} = \\frac{1}{1+e^{m^{T}x^{i}}} * e^{m^{T}x^{i}} * x_{j}^i  - y_{i}x_{j}^i$$  \n",
    "$$ = -(y^i - \\frac{1}{1+e^{m^{T}x^{i}}} * e^{m^{T}x^{i}}) * x_{j}^i   \\ .... took \\ minus \\ sign\\  and \\ x_{j}^i \\ common. $$  \n",
    "Now, dividing numerator and denominator by $e^{m^{T}x^{i}})$, we get\n",
    "\n",
    "$$  = -(y^i - \\frac{1}{1+e^{-m^{T}x^{i}}}) * x_{j}^i $$   \n",
    "\n",
    "Now, if we look carefully, $\\frac{1}{1+e^{-m^{T}x^{i}}}$ = $h(x_{i})$,    \n",
    "  \n",
    "\n",
    "So, $\\frac{\\partial E(m)}{\\partial m_{j}} = -(y^i - \\frac{1}{1+e^{-m^{T}x^{i}}}) * x_{j}^i $ this is the error looks like for ith training data point.  \n",
    "For Complete data, \n",
    "$$ \\frac{\\partial E(m)}{\\partial m_{j}} = \\frac{1}{m} \\sum_{i=1} -(y^i - \\frac{1}{1+e^{-m^{T}x^{i}}}) * x_{j}^i $$  \n",
    "As we have learned Gradient descent before, we need to find,  \n",
    "$$m_{j} = m_{j} - \\alpha \\frac{\\partial E(m)}{\\partial m_{j}} $$"
   ]
  },
  {
   "cell_type": "markdown",
   "metadata": {},
   "source": [
    "## Using Logistic Regression from Sklearn"
   ]
  },
  {
   "cell_type": "code",
   "execution_count": 20,
   "metadata": {},
   "outputs": [],
   "source": [
    "from sklearn import datasets\n",
    "from sklearn.linear_model import LogisticRegression"
   ]
  },
  {
   "cell_type": "code",
   "execution_count": 21,
   "metadata": {},
   "outputs": [
    {
     "data": {
      "text/plain": [
       "{'data': array([[1.799e+01, 1.038e+01, 1.228e+02, ..., 2.654e-01, 4.601e-01,\n",
       "         1.189e-01],\n",
       "        [2.057e+01, 1.777e+01, 1.329e+02, ..., 1.860e-01, 2.750e-01,\n",
       "         8.902e-02],\n",
       "        [1.969e+01, 2.125e+01, 1.300e+02, ..., 2.430e-01, 3.613e-01,\n",
       "         8.758e-02],\n",
       "        ...,\n",
       "        [1.660e+01, 2.808e+01, 1.083e+02, ..., 1.418e-01, 2.218e-01,\n",
       "         7.820e-02],\n",
       "        [2.060e+01, 2.933e+01, 1.401e+02, ..., 2.650e-01, 4.087e-01,\n",
       "         1.240e-01],\n",
       "        [7.760e+00, 2.454e+01, 4.792e+01, ..., 0.000e+00, 2.871e-01,\n",
       "         7.039e-02]]),\n",
       " 'target': array([0, 0, 0, 0, 0, 0, 0, 0, 0, 0, 0, 0, 0, 0, 0, 0, 0, 0, 0, 1, 1, 1,\n",
       "        0, 0, 0, 0, 0, 0, 0, 0, 0, 0, 0, 0, 0, 0, 0, 1, 0, 0, 0, 0, 0, 0,\n",
       "        0, 0, 1, 0, 1, 1, 1, 1, 1, 0, 0, 1, 0, 0, 1, 1, 1, 1, 0, 1, 0, 0,\n",
       "        1, 1, 1, 1, 0, 1, 0, 0, 1, 0, 1, 0, 0, 1, 1, 1, 0, 0, 1, 0, 0, 0,\n",
       "        1, 1, 1, 0, 1, 1, 0, 0, 1, 1, 1, 0, 0, 1, 1, 1, 1, 0, 1, 1, 0, 1,\n",
       "        1, 1, 1, 1, 1, 1, 1, 0, 0, 0, 1, 0, 0, 1, 1, 1, 0, 0, 1, 0, 1, 0,\n",
       "        0, 1, 0, 0, 1, 1, 0, 1, 1, 0, 1, 1, 1, 1, 0, 1, 1, 1, 1, 1, 1, 1,\n",
       "        1, 1, 0, 1, 1, 1, 1, 0, 0, 1, 0, 1, 1, 0, 0, 1, 1, 0, 0, 1, 1, 1,\n",
       "        1, 0, 1, 1, 0, 0, 0, 1, 0, 1, 0, 1, 1, 1, 0, 1, 1, 0, 0, 1, 0, 0,\n",
       "        0, 0, 1, 0, 0, 0, 1, 0, 1, 0, 1, 1, 0, 1, 0, 0, 0, 0, 1, 1, 0, 0,\n",
       "        1, 1, 1, 0, 1, 1, 1, 1, 1, 0, 0, 1, 1, 0, 1, 1, 0, 0, 1, 0, 1, 1,\n",
       "        1, 1, 0, 1, 1, 1, 1, 1, 0, 1, 0, 0, 0, 0, 0, 0, 0, 0, 0, 0, 0, 0,\n",
       "        0, 0, 1, 1, 1, 1, 1, 1, 0, 1, 0, 1, 1, 0, 1, 1, 0, 1, 0, 0, 1, 1,\n",
       "        1, 1, 1, 1, 1, 1, 1, 1, 1, 1, 1, 0, 1, 1, 0, 1, 0, 1, 1, 1, 1, 1,\n",
       "        1, 1, 1, 1, 1, 1, 1, 1, 1, 0, 1, 1, 1, 0, 1, 0, 1, 1, 1, 1, 0, 0,\n",
       "        0, 1, 1, 1, 1, 0, 1, 0, 1, 0, 1, 1, 1, 0, 1, 1, 1, 1, 1, 1, 1, 0,\n",
       "        0, 0, 1, 1, 1, 1, 1, 1, 1, 1, 1, 1, 1, 0, 0, 1, 0, 0, 0, 1, 0, 0,\n",
       "        1, 1, 1, 1, 1, 0, 1, 1, 1, 1, 1, 0, 1, 1, 1, 0, 1, 1, 0, 0, 1, 1,\n",
       "        1, 1, 1, 1, 0, 1, 1, 1, 1, 1, 1, 1, 0, 1, 1, 1, 1, 1, 0, 1, 1, 0,\n",
       "        1, 1, 1, 1, 1, 1, 1, 1, 1, 1, 1, 1, 0, 1, 0, 0, 1, 0, 1, 1, 1, 1,\n",
       "        1, 0, 1, 1, 0, 1, 0, 1, 1, 0, 1, 0, 1, 1, 1, 1, 1, 1, 1, 1, 0, 0,\n",
       "        1, 1, 1, 1, 1, 1, 0, 1, 1, 1, 1, 1, 1, 1, 1, 1, 1, 0, 1, 1, 1, 1,\n",
       "        1, 1, 1, 0, 1, 0, 1, 1, 0, 1, 1, 1, 1, 1, 0, 0, 1, 0, 1, 0, 1, 1,\n",
       "        1, 1, 1, 0, 1, 1, 0, 1, 0, 1, 0, 0, 1, 1, 1, 0, 1, 1, 1, 1, 1, 1,\n",
       "        1, 1, 1, 1, 1, 0, 1, 0, 0, 1, 1, 1, 1, 1, 1, 1, 1, 1, 1, 1, 1, 1,\n",
       "        1, 1, 1, 1, 1, 1, 1, 1, 1, 1, 1, 1, 0, 0, 0, 0, 0, 0, 1]),\n",
       " 'frame': None,\n",
       " 'target_names': array(['malignant', 'benign'], dtype='<U9'),\n",
       " 'DESCR': '.. _breast_cancer_dataset:\\n\\nBreast cancer wisconsin (diagnostic) dataset\\n--------------------------------------------\\n\\n**Data Set Characteristics:**\\n\\n    :Number of Instances: 569\\n\\n    :Number of Attributes: 30 numeric, predictive attributes and the class\\n\\n    :Attribute Information:\\n        - radius (mean of distances from center to points on the perimeter)\\n        - texture (standard deviation of gray-scale values)\\n        - perimeter\\n        - area\\n        - smoothness (local variation in radius lengths)\\n        - compactness (perimeter^2 / area - 1.0)\\n        - concavity (severity of concave portions of the contour)\\n        - concave points (number of concave portions of the contour)\\n        - symmetry\\n        - fractal dimension (\"coastline approximation\" - 1)\\n\\n        The mean, standard error, and \"worst\" or largest (mean of the three\\n        worst/largest values) of these features were computed for each image,\\n        resulting in 30 features.  For instance, field 0 is Mean Radius, field\\n        10 is Radius SE, field 20 is Worst Radius.\\n\\n        - class:\\n                - WDBC-Malignant\\n                - WDBC-Benign\\n\\n    :Summary Statistics:\\n\\n    ===================================== ====== ======\\n                                           Min    Max\\n    ===================================== ====== ======\\n    radius (mean):                        6.981  28.11\\n    texture (mean):                       9.71   39.28\\n    perimeter (mean):                     43.79  188.5\\n    area (mean):                          143.5  2501.0\\n    smoothness (mean):                    0.053  0.163\\n    compactness (mean):                   0.019  0.345\\n    concavity (mean):                     0.0    0.427\\n    concave points (mean):                0.0    0.201\\n    symmetry (mean):                      0.106  0.304\\n    fractal dimension (mean):             0.05   0.097\\n    radius (standard error):              0.112  2.873\\n    texture (standard error):             0.36   4.885\\n    perimeter (standard error):           0.757  21.98\\n    area (standard error):                6.802  542.2\\n    smoothness (standard error):          0.002  0.031\\n    compactness (standard error):         0.002  0.135\\n    concavity (standard error):           0.0    0.396\\n    concave points (standard error):      0.0    0.053\\n    symmetry (standard error):            0.008  0.079\\n    fractal dimension (standard error):   0.001  0.03\\n    radius (worst):                       7.93   36.04\\n    texture (worst):                      12.02  49.54\\n    perimeter (worst):                    50.41  251.2\\n    area (worst):                         185.2  4254.0\\n    smoothness (worst):                   0.071  0.223\\n    compactness (worst):                  0.027  1.058\\n    concavity (worst):                    0.0    1.252\\n    concave points (worst):               0.0    0.291\\n    symmetry (worst):                     0.156  0.664\\n    fractal dimension (worst):            0.055  0.208\\n    ===================================== ====== ======\\n\\n    :Missing Attribute Values: None\\n\\n    :Class Distribution: 212 - Malignant, 357 - Benign\\n\\n    :Creator:  Dr. William H. Wolberg, W. Nick Street, Olvi L. Mangasarian\\n\\n    :Donor: Nick Street\\n\\n    :Date: November, 1995\\n\\nThis is a copy of UCI ML Breast Cancer Wisconsin (Diagnostic) datasets.\\nhttps://goo.gl/U2Uwz2\\n\\nFeatures are computed from a digitized image of a fine needle\\naspirate (FNA) of a breast mass.  They describe\\ncharacteristics of the cell nuclei present in the image.\\n\\nSeparating plane described above was obtained using\\nMultisurface Method-Tree (MSM-T) [K. P. Bennett, \"Decision Tree\\nConstruction Via Linear Programming.\" Proceedings of the 4th\\nMidwest Artificial Intelligence and Cognitive Science Society,\\npp. 97-101, 1992], a classification method which uses linear\\nprogramming to construct a decision tree.  Relevant features\\nwere selected using an exhaustive search in the space of 1-4\\nfeatures and 1-3 separating planes.\\n\\nThe actual linear program used to obtain the separating plane\\nin the 3-dimensional space is that described in:\\n[K. P. Bennett and O. L. Mangasarian: \"Robust Linear\\nProgramming Discrimination of Two Linearly Inseparable Sets\",\\nOptimization Methods and Software 1, 1992, 23-34].\\n\\nThis database is also available through the UW CS ftp server:\\n\\nftp ftp.cs.wisc.edu\\ncd math-prog/cpo-dataset/machine-learn/WDBC/\\n\\n.. topic:: References\\n\\n   - W.N. Street, W.H. Wolberg and O.L. Mangasarian. Nuclear feature extraction \\n     for breast tumor diagnosis. IS&T/SPIE 1993 International Symposium on \\n     Electronic Imaging: Science and Technology, volume 1905, pages 861-870,\\n     San Jose, CA, 1993.\\n   - O.L. Mangasarian, W.N. Street and W.H. Wolberg. Breast cancer diagnosis and \\n     prognosis via linear programming. Operations Research, 43(4), pages 570-577, \\n     July-August 1995.\\n   - W.H. Wolberg, W.N. Street, and O.L. Mangasarian. Machine learning techniques\\n     to diagnose breast cancer from fine-needle aspirates. Cancer Letters 77 (1994) \\n     163-171.',\n",
       " 'feature_names': array(['mean radius', 'mean texture', 'mean perimeter', 'mean area',\n",
       "        'mean smoothness', 'mean compactness', 'mean concavity',\n",
       "        'mean concave points', 'mean symmetry', 'mean fractal dimension',\n",
       "        'radius error', 'texture error', 'perimeter error', 'area error',\n",
       "        'smoothness error', 'compactness error', 'concavity error',\n",
       "        'concave points error', 'symmetry error',\n",
       "        'fractal dimension error', 'worst radius', 'worst texture',\n",
       "        'worst perimeter', 'worst area', 'worst smoothness',\n",
       "        'worst compactness', 'worst concavity', 'worst concave points',\n",
       "        'worst symmetry', 'worst fractal dimension'], dtype='<U23'),\n",
       " 'filename': 'C:\\\\ProgramData\\\\Anaconda3\\\\lib\\\\site-packages\\\\sklearn\\\\datasets\\\\data\\\\breast_cancer.csv'}"
      ]
     },
     "execution_count": 21,
     "metadata": {},
     "output_type": "execute_result"
    }
   ],
   "source": [
    "## importing breastcancer datasets.\n",
    "cancer_ds = datasets.load_breast_cancer()\n",
    "cancer_ds"
   ]
  },
  {
   "cell_type": "code",
   "execution_count": 22,
   "metadata": {},
   "outputs": [],
   "source": [
    "X = cancer_ds.data\n",
    "Y = cancer_ds.target"
   ]
  },
  {
   "cell_type": "code",
   "execution_count": 23,
   "metadata": {},
   "outputs": [],
   "source": [
    "from sklearn import model_selection\n",
    "X_train, X_test, Y_train, Y_test = model_selection.train_test_split(X,Y)"
   ]
  },
  {
   "cell_type": "code",
   "execution_count": 26,
   "metadata": {},
   "outputs": [],
   "source": [
    "from sklearn.linear_model import LogisticRegression\n",
    "import numpy as np\n",
    "import pandas as pd"
   ]
  },
  {
   "cell_type": "code",
   "execution_count": 16,
   "metadata": {},
   "outputs": [],
   "source": [
    "def plot_decision_boundaries(X, y, model_class, **model_params):\n",
    "    \"\"\"Function to plot the decision boundaries of a classification model.\n",
    "    This uses just the first two columns of the data for fitting \n",
    "    the model as we need to find the predicted value for every point in \n",
    "    scatter plot.\n",
    "    \n",
    "    One possible improvement could be to use all columns fot fitting\n",
    "    and using the first 2 columns and median of all other columns\n",
    "    for predicting.\n",
    "    \n",
    "    Adopted from:\n",
    "    http://scikit-learn.org/stable/auto_examples/ensemble/plot_voting_decision_regions.html\n",
    "    http://scikit-learn.org/stable/auto_examples/cluster/plot_kmeans_digits.html\n",
    "    \"\"\"\n",
    "    reduced_data = X[:, :2]\n",
    "    model = model_class(**model_params)\n",
    "    model.fit(reduced_data, y)\n",
    "\n",
    "    # Step size of the mesh. Decrease to increase the quality of the VQ.\n",
    "    h = .02     # point in the mesh [x_min, m_max]x[y_min, y_max].    \n",
    "\n",
    "    # Plot the decision boundary. For that, we will assign a color to each\n",
    "    x_min, x_max = reduced_data[:, 0].min() - 1, reduced_data[:, 0].max() + 1\n",
    "    y_min, y_max = reduced_data[:, 1].min() - 1, reduced_data[:, 1].max() + 1\n",
    "    xx, yy = np.meshgrid(np.arange(x_min, x_max, h), np.arange(y_min, y_max, h))\n",
    "\n",
    "    # Obtain labels for each point in mesh using the model.\n",
    "    Z = model.predict(np.c_[xx.ravel(), yy.ravel()])    \n",
    "\n",
    "    x_min, x_max = X[:, 0].min() - 1, X[:, 0].max() + 1\n",
    "    y_min, y_max = X[:, 1].min() - 1, X[:, 1].max() + 1\n",
    "    xx, yy = np.meshgrid(np.arange(x_min, x_max, 0.1),\n",
    "                         np.arange(y_min, y_max, 0.1))\n",
    "\n",
    "    Z = model.predict(np.c_[xx.ravel(), yy.ravel()]).reshape(xx.shape)\n",
    "\n",
    "    plt.contourf(xx, yy, Z, alpha=0.4)\n",
    "    plt.scatter(X[:, 0], X[:, 1], c=y, alpha=0.8)\n",
    "    return plt"
   ]
  },
  {
   "cell_type": "code",
   "execution_count": 19,
   "metadata": {},
   "outputs": [
    {
     "data": {
      "image/png": "[encoded data removed]",
      "text/plain": [
       "<Figure size 432x288 with 1 Axes>"
      ]
     },
     "metadata": {
      "needs_background": "light"
     },
     "output_type": "display_data"
    }
   ],
   "source": [
    "# plotting decision surface\n",
    "import matplotlib.pyplot as plt\n",
    "\n",
    "plt.figure()\n",
    "plt.title('Logistic Regression Decision Boundary', fontsize = 16)\n",
    "plot_decision_boundaries(X_train, Y_train, LogisticRegression)\n",
    "plt.show()"
   ]
  },
  {
   "cell_type": "markdown",
   "metadata": {},
   "source": [
    "### Using Inbuilt Logistic Regression"
   ]
  },
  {
   "cell_type": "code",
   "execution_count": 28,
   "metadata": {},
   "outputs": [],
   "source": [
    "clf = LogisticRegression()"
   ]
  },
  {
   "cell_type": "code",
   "execution_count": 29,
   "metadata": {},
   "outputs": [
    {
     "name": "stderr",
     "output_type": "stream",
     "text": [
      "C:\\ProgramData\\Anaconda3\\lib\\site-packages\\sklearn\\linear_model\\_logistic.py:762: ConvergenceWarning: lbfgs failed to converge (status=1):\n",
      "STOP: TOTAL NO. of ITERATIONS REACHED LIMIT.\n",
      "\n",
      "Increase the number of iterations (max_iter) or scale the data as shown in:\n",
      "    https://scikit-learn.org/stable/modules/preprocessing.html\n",
      "Please also refer to the documentation for alternative solver options:\n",
      "    https://scikit-learn.org/stable/modules/linear_model.html#logistic-regression\n",
      "  n_iter_i = _check_optimize_result(\n"
     ]
    },
    {
     "data": {
      "text/plain": [
       "LogisticRegression()"
      ]
     },
     "execution_count": 29,
     "metadata": {},
     "output_type": "execute_result"
    }
   ],
   "source": [
    "clf.fit(X_train, Y_train)"
   ]
  },
  {
   "cell_type": "code",
   "execution_count": 31,
   "metadata": {},
   "outputs": [],
   "source": [
    "Y_pred = clf.predict(X_test)"
   ]
  },
  {
   "cell_type": "code",
   "execution_count": 32,
   "metadata": {},
   "outputs": [],
   "source": [
    "# check accuracy\n",
    "from sklearn.metrics import accuracy_score\n",
    "score = accuracy_score(Y_test, Y_pred)"
   ]
  },
  {
   "cell_type": "code",
   "execution_count": 33,
   "metadata": {},
   "outputs": [
    {
     "data": {
      "text/plain": [
       "0.9440559440559441"
      ]
     },
     "execution_count": 33,
     "metadata": {},
     "output_type": "execute_result"
    }
   ],
   "source": [
    "score"
   ]
  }
 ],
 "metadata": {
  "kernelspec": {
   "display_name": "Python 3",
   "language": "python",
   "name": "python3"
  },
  "language_info": {
   "codemirror_mode": {
    "name": "ipython",
    "version": 3
   },
   "file_extension": ".py",
   "mimetype": "text/x-python",
   "name": "python",
   "nbconvert_exporter": "python",
   "pygments_lexer": "ipython3",
   "version": "3.8.5"
  }
 },
 "nbformat": 4,
 "nbformat_minor": 2
}
