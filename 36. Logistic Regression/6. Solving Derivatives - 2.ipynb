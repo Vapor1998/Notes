{
 "cells": [
  {
   "cell_type": "markdown",
   "metadata": {},
   "source": [
    "$$E^i(m) = {m^{T}x^{i}} - y^i(m^{T}x^{i}) + log(1+e^{-m^{T}x^{i}}) $$ \n",
    "The above is the equation we derived for ith value , so lets simplify further.  \n",
    "$$ = log{(e^{m^{T}x^{i}})} + log(1+e^{-m^{T}x^{i}}) - y^i(m^{T}x^{i} ) ... we \\ added \\ log(e) \\ to \\ the \\ first \\ bcoz \\  log(e^n) = n$$\n",
    "$$ = log{1 + e^{m^{T}x^{i}}} - y^i(m^{T}x^{i})   ... \\ using \\ loga + logb = log(a+b)  $$\n",
    "\n",
    "  \n",
    "    \n",
    "Now lets find what is $\\frac{\\partial E^i(m)}{\\partial m_{j}}$,   \n",
    "\n",
    "before differentiating, lets find what is $y^i(m^{T}x^{i})$, \n",
    "\n",
    "$y^i(m^{T}x^{i}) = y^i \\sum_{j}m_{j}x_{j}^i$ this basically means for all the parameters, my ith training datapoint.\n",
    "\n",
    "Now differentiating,  \n",
    "$$\\frac{\\partial E^i (m)}{\\partial m_{j}} = \\frac{1}{1+e^{m^{T}x^{i}}} * e^{m^{T}x^{i}} * x_{j}^i  - y_{i}x_{j}^i$$  \n",
    "$$ = -(y^i - \\frac{1}{1+e^{m^{T}x^{i}}} * e^{m^{T}x^{i}}) * x_{j}^i   \\ .... took \\ minus \\ sign\\  and \\ x_{j}^i \\ common. $$  \n",
    "Now, dividing numerator and denominator by $e^{m^{T}x^{i}})$, we get\n",
    "\n",
    "$$  = -(y^i - \\frac{1}{1+e^{-m^{T}x^{i}}}) * x_{j}^i $$   \n",
    "\n",
    "Now, if we look carefully, $\\frac{1}{1+e^{-m^{T}x^{i}}}$ = $h(x_{i})$,    \n",
    "  \n",
    "\n",
    "So, $\\frac{\\partial E(m)}{\\partial m_{j}} = -(y^i - \\frac{1}{1+e^{-m^{T}x^{i}}}) * x_{j}^i $ this is the error looks like for ith training data point.  \n",
    "For Complete data, \n",
    "$$ \\frac{\\partial E(m)}{\\partial m_{j}} = \\frac{1}{m} \\sum_{i=1} -(y^i - \\frac{1}{1+e^{-m^{T}x^{i}}}) * x_{j}^i $$  \n",
    "As we have learned Gradient descent before, we need to find,  \n",
    "$$m_{j} = m_{j} - \\alpha \\frac{\\partial E(m)}{\\partial m_{j}} $$"
   ]
  }
 ],
 "metadata": {
  "kernelspec": {
   "display_name": "Python 3",
   "language": "python",
   "name": "python3"
  },
  "language_info": {
   "codemirror_mode": {
    "name": "ipython",
    "version": 3
   },
   "file_extension": ".py",
   "mimetype": "text/x-python",
   "name": "python",
   "nbconvert_exporter": "python",
   "pygments_lexer": "ipython3",
   "version": "3.8.5"
  }
 },
 "nbformat": 4,
 "nbformat_minor": 4
}
