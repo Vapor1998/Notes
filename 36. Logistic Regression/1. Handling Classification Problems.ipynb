{
 "cells": [
  {
   "cell_type": "markdown",
   "metadata": {},
   "source": [
    "### Handling Classification Problem"
   ]
  },
  {
   "cell_type": "markdown",
   "metadata": {},
   "source": [
    "We have done Linear Regression. It is good at finding continous values of y.  \n",
    "Lets say we predict for stock market values. So the value of y will be a continous values. Thats a Regression Problem.  \n",
    "Now we want to talk about if y is actually classification, i.e. y belongs to different classes.  \n",
    "For eg. if we want to mark email as spam and not spam. It is not really continous value, its more of 0s and 1s.  \n"
   ]
  },
  {
   "cell_type": "markdown",
   "metadata": {},
   "source": [
    "In this, we will cover about Binary Classification.  "
   ]
  },
  {
   "cell_type": "markdown",
   "metadata": {},
   "source": [
    "In case of classification, y values will not be spread throughout.  \n",
    "##image1 "
   ]
  },
  {
   "cell_type": "markdown",
   "metadata": {},
   "source": [
    "It will be 0s and 1s.  \n",
    "##image2"
   ]
  },
  {
   "cell_type": "markdown",
   "metadata": {},
   "source": [
    "And we need to find out best fit line, it will be like following.  \n",
    "##image3\n",
    "What does this mean?  "
   ]
  },
  {
   "cell_type": "markdown",
   "metadata": {},
   "source": [
    "So lets say if we have new input x (which is x'), to find the value of y, we go to the dot of the line. \n",
    "##image4  \n",
    "The output will be continous value of y.  \n",
    "To convert it into 0s and 1s, we can do one thing.  \n",
    "If the Ypred > 0.5, pred -> 1 , else pred -> 0.\n",
    "SO there will be a straight line on 0.5 on the bestfitline(Decision Boundary) which indicates on the right side of it is 1 and on the left of it is 0.  \n",
    "This is the one way of doing it.  "
   ]
  },
  {
   "cell_type": "markdown",
   "metadata": {},
   "source": [
    "There is one issue using Linear Regression using Classification method.  \n",
    "One big problem is lets say we add more data points,  \n",
    "So the line will change from a to b, x' will change to x''(x'' refers to new line value of 0.5).  \n",
    "Which will mean if Ypred > x'' (initially x' was 0.5 and then new datapoint changed x' to x'').  \n",
    "This will change the whole algorithm.  \n",
    "##image50"
   ]
  },
  {
   "cell_type": "markdown",
   "metadata": {},
   "source": [
    "Second problem is Linear regression will give you alot of values > 0 and some values > 1 while we wanted it in 0s and 1s.  "
   ]
  },
  {
   "cell_type": "markdown",
   "metadata": {},
   "source": [
    "One word we learned is Decision Boundary, which means on the left side of it is 0 and on the right side of it is 1.  \n"
   ]
  }
 ],
 "metadata": {
  "kernelspec": {
   "display_name": "Python 3",
   "language": "python",
   "name": "python3"
  },
  "language_info": {
   "codemirror_mode": {
    "name": "ipython",
    "version": 3
   },
   "file_extension": ".py",
   "mimetype": "text/x-python",
   "name": "python",
   "nbconvert_exporter": "python",
   "pygments_lexer": "ipython3",
   "version": "3.8.5"
  }
 },
 "nbformat": 4,
 "nbformat_minor": 4
}
