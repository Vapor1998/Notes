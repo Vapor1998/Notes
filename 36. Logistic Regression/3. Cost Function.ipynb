{
 "cells": [
  {
   "cell_type": "markdown",
   "metadata": {},
   "source": [
    "Now we have sigmoid function and we need to find the parameters.Parameters are..\n",
    "\n",
    "lets say the hypothesis is  h(x) = s($m^{T}x$)  $\\frac{1}{1 + e^{-g(x)}}$ .  \n",
    "What we need is we need to find the m.The best fit m such that error is minimized.  \n",
    "  \n",
    "    \n",
    "      \n",
    "How do we define the error function?\n",
    "The error function depends upon the output, and the actual Y(prediction). ->E(h(x), y).  \n",
    "\n",
    "So the error fuction in linear regression looks like  $\\sum_{i = 1}^{m} (y^{i} - h(x))^2$  \n",
    "where h(x) = $m^{T}x$. \n",
    "  \n",
    "But now, h(x) is $\\frac{1}{1 + e^{-g(x)}}$ which is commplicated.  \n",
    "And for this h(x) if we use the same error function(linear regression one) it creates problems.  \n",
    "The problem it creates is there is many local minimas.  \n",
    "Instead of using this error function, we need to use the error function so that for $\\frac{1}{1 + e^{-g(x)}}$ , it should be convex.  \n",
    "Convex function means there will be only one local minima.  \n",
    "So instead of using error function as $\\sum_{i = 1}^{m} (y^{i} - h(x))^2$, we will use a different one.  \n",
    "So our function will be splitted into two parts.  \n",
    "    if y == 1:  \n",
    "        $E(h(x), y) ->  -log(h(x))$  \n",
    "    else:  \n",
    "        $E(h(x), y) ->  -log(1 - h(x))$  \n",
    "\n",
    "\n",
    "  \n",
    "    \n",
    "For a particular data,  \n",
    "  \n",
    "if y == 1:    \n",
    "$E(h(x^i), y^i) ->  -log(h(x^i))$      \n",
    "else:    \n",
    "$E(h(x^i), y^i) ->  -log(1 - h(x^i))$  \n",
    "\n",
    "\n",
    "Also search for graphs of this equation."
   ]
  },
  {
   "cell_type": "markdown",
   "metadata": {},
   "source": [
    "In a simplified form, we can combine the both equations in the form,  \n",
    "$E(h(x^i), y^i) = -y^ilog(h(x^i) - (1-y^i)log(1-h(x^i))$  \n",
    "\n",
    "This is the error function of ith training data.  \n",
    "\n",
    "So overall error on whole x and y data willbe  \n",
    "$$E(x, y) = \\frac{1}{m} \\sum_{i=1}^m -y^ilog(h(x^i) - (1-y^i)log(1-h(x^i))$$   \n",
    "We did a small change by adding $\\frac{1}{m}$ because training data is huge so that our error must not become huge we are kind of finding average error per training data point.  \n",
    "This error function is convex.\n",
    "\n"
   ]
  }
 ],
 "metadata": {
  "kernelspec": {
   "display_name": "Python 3",
   "language": "python",
   "name": "python3"
  },
  "language_info": {
   "codemirror_mode": {
    "name": "ipython",
    "version": 3
   },
   "file_extension": ".py",
   "mimetype": "text/x-python",
   "name": "python",
   "nbconvert_exporter": "python",
   "pygments_lexer": "ipython3",
   "version": "3.8.5"
  }
 },
 "nbformat": 4,
 "nbformat_minor": 4
}
