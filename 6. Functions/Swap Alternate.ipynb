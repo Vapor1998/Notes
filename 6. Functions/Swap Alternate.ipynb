{
 "cells": [
  {
   "cell_type": "code",
   "execution_count": 3,
   "metadata": {},
   "outputs": [
    {
     "data": {
      "text/plain": [
       "[2, 1, 4, 3, 5]"
      ]
     },
     "execution_count": 3,
     "metadata": {},
     "output_type": "execute_result"
    }
   ],
   "source": [
    "def swap_alternative(l):\n",
    "    i = 0\n",
    "    while i+1 < len(l):\n",
    "        l[i], l[i+1] = l[i+1], l[i]\n",
    "        i += 2\n",
    "\n",
    "a =[1,2 ,3,4,5]\n",
    "swap_alternative(a)\n",
    "a\n",
    "\n",
    "## We dont have to return the list from the function because we have the reference to that list.\n",
    "## as we have reference, changes made in original variable can be seen by reference variable."
   ]
  }
 ],
 "metadata": {
  "kernelspec": {
   "display_name": "Python 3",
   "language": "python",
   "name": "python3"
  },
  "language_info": {
   "codemirror_mode": {
    "name": "ipython",
    "version": 3
   },
   "file_extension": ".py",
   "mimetype": "text/x-python",
   "name": "python",
   "nbconvert_exporter": "python",
   "pygments_lexer": "ipython3",
   "version": "3.8.5"
  }
 },
 "nbformat": 4,
 "nbformat_minor": 4
}
