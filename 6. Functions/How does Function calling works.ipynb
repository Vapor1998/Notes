{
 "cells": [
  {
   "cell_type": "markdown",
   "metadata": {},
   "source": [
    "Consider functions A,B,C,D.  \n",
    "\n",
    "def a():  \n",
    "    print(a start)  \n",
    "    b()  \n",
    "    print(a end)  \n",
    "   \n",
    "def b():  \n",
    "    print(b start)  \n",
    "    c()\n",
    "    print(b end)  \n",
    "    \n",
    "  \n",
    "def c():  \n",
    "    print(c start)\n",
    "    print(c end)   \n",
    "  \n",
    "a()  \n",
    "\n",
    "1. When we calls a(), it will print \"a start\" and then it will call b().\n",
    "2. Now execution of a() will stop till the time b() is done.\n",
    "3. Now b() will print \"b start\" and then it will go to c().\n",
    "4. Now b() will stop its execution till c() is done.\n",
    "5. Now c() will print \"c start\" and \"c end\".\n",
    "6. Now c() is done with its work so it will come back to b() line 2,as c() is done with its work,\n",
    "   b() will continue its execution and print the next line \"b end\".\n",
    "7. Now b() is done with its work so it will come back to a() line 2, as b() is done with its work,\n",
    "   a() will continue with its  execution and it will print the last line \"a end\".\n",
    "8. As all the function is done, it will come back to a() where it is called.\n",
    "\n",
    "As we can see A comes first and goes out last.This is called \"CALL STACK\".  \n",
    "\n",
    "\n",
    "   \n",
    "\n",
    "\n",
    "\n",
    "    \n",
    "   "
   ]
  }
 ],
 "metadata": {
  "kernelspec": {
   "display_name": "Python 3",
   "language": "python",
   "name": "python3"
  },
  "language_info": {
   "codemirror_mode": {
    "name": "ipython",
    "version": 3
   },
   "file_extension": ".py",
   "mimetype": "text/x-python",
   "name": "python",
   "nbconvert_exporter": "python",
   "pygments_lexer": "ipython3",
   "version": "3.8.5"
  }
 },
 "nbformat": 4,
 "nbformat_minor": 4
}
