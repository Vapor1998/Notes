{
 "cells": [
  {
   "cell_type": "code",
   "execution_count": 3,
   "id": "85a4d934",
   "metadata": {},
   "outputs": [
    {
     "name": "stdout",
     "output_type": "stream",
     "text": [
      "0 1\n",
      "0\n"
     ]
    }
   ],
   "source": [
    "## Read input as specified in the question.\n",
    "## Print output as specified in the question.\n",
    "import math\n",
    "n = input().split()\n",
    "arr = [int(i) for i in n]\n",
    "x = arr[0] - arr[1]\n",
    "if x <= 0:\n",
    "    print(0)\n",
    "else:\n",
    "    print(math.factorial(arr[0]) // math.factorial(arr[1]) // math.factorial((arr[0] - arr[1])))"
   ]
  },
  {
   "cell_type": "code",
   "execution_count": 12,
   "id": "83583ff3",
   "metadata": {},
   "outputs": [
    {
     "name": "stdout",
     "output_type": "stream",
     "text": [
      "3\n",
      "3 5\n",
      "0\n",
      "2 3\n",
      "0\n",
      "22 0\n",
      "1\n"
     ]
    }
   ],
   "source": [
    "### Read input as specified in the question.\n",
    "## Print output as specified in the question.\n",
    "import math\n",
    "\n",
    "t = int(input())\n",
    "while t != 0:\n",
    "    \n",
    "    n = input().split()\n",
    "    arr = [int(i) for i in n]\n",
    "    x = arr[0] - arr[1]\n",
    "    if x <= 0:\n",
    "        print(0)\n",
    "    else:\n",
    "        print(math.factorial(arr[0]) // math.factorial(arr[1]) // math.factorial((arr[0] - arr[1])))\n",
    "    t-=1"
   ]
  }
 ],
 "metadata": {
  "kernelspec": {
   "display_name": "Python 3 (ipykernel)",
   "language": "python",
   "name": "python3"
  },
  "language_info": {
   "codemirror_mode": {
    "name": "ipython",
    "version": 3
   },
   "file_extension": ".py",
   "mimetype": "text/x-python",
   "name": "python",
   "nbconvert_exporter": "python",
   "pygments_lexer": "ipython3",
   "version": "3.9.12"
  }
 },
 "nbformat": 4,
 "nbformat_minor": 5
}
