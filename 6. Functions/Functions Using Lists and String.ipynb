{
 "cells": [
  {
   "cell_type": "code",
   "execution_count": 2,
   "metadata": {},
   "outputs": [
    {
     "name": "stdout",
     "output_type": "stream",
     "text": [
      "10\n"
     ]
    }
   ],
   "source": [
    "def increment(i):\n",
    "    i += 1\n",
    "k = 10\n",
    "increment(k)\n",
    "print(k)\n",
    "\n",
    "## what happens here is k is not changed.\n",
    "## What has happened here is i and k both are sharing the memory of 10.\n",
    "## once i is incremented, value becomes 11, so i points to 11.\n",
    "## but k points to 10 because it is not changed, so k is printed 10."
   ]
  },
  {
   "cell_type": "code",
   "execution_count": 10,
   "metadata": {},
   "outputs": [
    {
     "data": {
      "text/plain": [
       "[2, 2, 3]"
      ]
     },
     "execution_count": 10,
     "metadata": {},
     "output_type": "execute_result"
    }
   ],
   "source": [
    "def increment_list_first(l):\n",
    "    l[0] = l[0] + 1\n",
    "    c = l\n",
    "    \n",
    "a = [1,2,3]\n",
    "increment_list_first(a)\n",
    "a\n",
    "\n",
    "## What happened here is list has changed.\n",
    "## Whats happening here is a have the address of the list, l gets the address of the same\n",
    "## list. What we did here is we go to l[0] and changed the value by adding 1 to it.\n",
    "## What we did is we didnt changed the list but changed the value of the list.\n",
    "## and that value is seen by a as well.\n",
    "\n"
   ]
  },
  {
   "cell_type": "code",
   "execution_count": 5,
   "metadata": {},
   "outputs": [
    {
     "data": {
      "text/plain": [
       "[1, 2, 3]"
      ]
     },
     "execution_count": 5,
     "metadata": {},
     "output_type": "execute_result"
    }
   ],
   "source": [
    "def change_list(l):\n",
    "    l = [2]\n",
    "    \n",
    "    \n",
    "a = [1,2,3]\n",
    "change_list(a)\n",
    "a\n",
    "\n",
    "## what happened here is a have the address of the list, l gets the address of that list.\n",
    "## Now we give new list to l so l points to that new list.\n",
    "## But a points to the old list.\n",
    "## SO if we print a, we will get the old list.\n",
    "\n",
    "## if we change the value of the original list, all the variable pointing to it will see it.\n",
    "## above example is the example of it"
   ]
  },
  {
   "cell_type": "code",
   "execution_count": 13,
   "metadata": {},
   "outputs": [
    {
     "data": {
      "text/plain": [
       "'def'"
      ]
     },
     "execution_count": 13,
     "metadata": {},
     "output_type": "execute_result"
    }
   ],
   "source": [
    "def change_str(l):\n",
    "    b = \"abc\"\n",
    "    \n",
    "a = \"def\"\n",
    "change_str(a)\n",
    "a\n",
    "\n",
    "## strings will not change as they are immutable.\n",
    "## what we are changing here is we are changing the variable pointings on which\n",
    "## which memory it is pointing."
   ]
  },
  {
   "cell_type": "code",
   "execution_count": 15,
   "metadata": {},
   "outputs": [
    {
     "data": {
      "text/plain": [
       "[10, 9, 8, 7, 6, 5, 4, 3, 2, 1]"
      ]
     },
     "execution_count": 15,
     "metadata": {},
     "output_type": "execute_result"
    }
   ],
   "source": [
    "def create_rev_array(n):\n",
    "    ##l= [i for i in range(n,0, -1)]\n",
    "    l = []\n",
    "    for i in range(n, 0, -1):\n",
    "        l.append(i)\n",
    "    return l\n",
    "l = create_rev_array(10)\n",
    "l"
   ]
  }
 ],
 "metadata": {
  "kernelspec": {
   "display_name": "Python 3",
   "language": "python",
   "name": "python3"
  },
  "language_info": {
   "codemirror_mode": {
    "name": "ipython",
    "version": 3
   },
   "file_extension": ".py",
   "mimetype": "text/x-python",
   "name": "python",
   "nbconvert_exporter": "python",
   "pygments_lexer": "ipython3",
   "version": "3.8.5"
  }
 },
 "nbformat": 4,
 "nbformat_minor": 4
}
