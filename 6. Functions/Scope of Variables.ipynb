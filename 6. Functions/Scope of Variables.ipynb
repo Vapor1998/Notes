{
 "cells": [
  {
   "cell_type": "markdown",
   "metadata": {},
   "source": [
    "There are two kinds of scope.   \n",
    "1. Local Variable\n",
    "2. Global Variable\n",
    "\n",
    "1. Local Variable\n",
    "    a. It is a variable which are defined inside function.\n",
    "\n",
    "2. Global Variable\n",
    "    a. It is a variable which are defined outside function."
   ]
  },
  {
   "cell_type": "code",
   "execution_count": 5,
   "metadata": {},
   "outputs": [
    {
     "name": "stdout",
     "output_type": "stream",
     "text": [
      "10\n",
      "12\n"
     ]
    },
    {
     "ename": "NameError",
     "evalue": "name 'b1' is not defined",
     "output_type": "error",
     "traceback": [
      "\u001b[1;31m---------------------------------------------------------------------------\u001b[0m",
      "\u001b[1;31mNameError\u001b[0m                                 Traceback (most recent call last)",
      "\u001b[1;32m<ipython-input-5-fc944ce38ebd>\u001b[0m in \u001b[0;36m<module>\u001b[1;34m\u001b[0m\n\u001b[0;32m      7\u001b[0m \u001b[0mprint\u001b[0m\u001b[1;33m(\u001b[0m\u001b[0ma1\u001b[0m\u001b[1;33m)\u001b[0m\u001b[1;33m\u001b[0m\u001b[1;33m\u001b[0m\u001b[0m\n\u001b[0;32m      8\u001b[0m \u001b[0mf1\u001b[0m\u001b[1;33m(\u001b[0m\u001b[1;33m)\u001b[0m\u001b[1;33m\u001b[0m\u001b[1;33m\u001b[0m\u001b[0m\n\u001b[1;32m----> 9\u001b[1;33m \u001b[0mprint\u001b[0m\u001b[1;33m(\u001b[0m\u001b[0mb1\u001b[0m\u001b[1;33m)\u001b[0m   \u001b[1;31m## cant print a local variable outside function.\u001b[0m\u001b[1;33m\u001b[0m\u001b[1;33m\u001b[0m\u001b[0m\n\u001b[0m",
      "\u001b[1;31mNameError\u001b[0m: name 'b1' is not defined"
     ]
    }
   ],
   "source": [
    "a1 = 10   ## Global Variable   \n",
    "\n",
    "def f1():\n",
    "    b1 = 12    ## Local Variable\n",
    "    print(b1)\n",
    "    \n",
    "print(a1)\n",
    "f1()\n",
    "print(b1)   ## cant print a local variable outside function.\n"
   ]
  },
  {
   "cell_type": "code",
   "execution_count": 8,
   "metadata": {},
   "outputs": [
    {
     "name": "stdout",
     "output_type": "stream",
     "text": [
      "10\n",
      "12\n",
      "10\n"
     ]
    }
   ],
   "source": [
    "a2 = 10   ## Global Variable   \n",
    "\n",
    "def f2():\n",
    "    b2 = 12    ## Local Variable\n",
    "    print(b2)\n",
    "    print(a2)   ## we can use the global variable inside the function\n",
    "     \n",
    "print(a2)\n",
    "f2()\n"
   ]
  },
  {
   "cell_type": "code",
   "execution_count": 11,
   "metadata": {},
   "outputs": [
    {
     "name": "stdout",
     "output_type": "stream",
     "text": [
      "10\n",
      "12\n",
      "10\n"
     ]
    }
   ],
   "source": [
    "\n",
    "def f3():\n",
    "    b3 = 12    ## Local Variable\n",
    "    print(b3)\n",
    "    print(a3)   ## can use global var inside even it is defined after the function but before \n",
    "                ## the function call\n",
    "\n",
    "a3 = 10   ## Global Variable   \n",
    "\n",
    "print(a3)\n",
    "f3()\n"
   ]
  },
  {
   "cell_type": "code",
   "execution_count": 18,
   "metadata": {},
   "outputs": [
    {
     "name": "stdout",
     "output_type": "stream",
     "text": [
      "12\n"
     ]
    },
    {
     "ename": "NameError",
     "evalue": "name 'a4' is not defined",
     "output_type": "error",
     "traceback": [
      "\u001b[1;31m---------------------------------------------------------------------------\u001b[0m",
      "\u001b[1;31mNameError\u001b[0m                                 Traceback (most recent call last)",
      "\u001b[1;32m<ipython-input-18-0bc9129b33c1>\u001b[0m in \u001b[0;36m<module>\u001b[1;34m\u001b[0m\n\u001b[0;32m      5\u001b[0m                 \u001b[1;31m## but after function call\u001b[0m\u001b[1;33m\u001b[0m\u001b[1;33m\u001b[0m\u001b[1;33m\u001b[0m\u001b[0m\n\u001b[0;32m      6\u001b[0m \u001b[1;33m\u001b[0m\u001b[0m\n\u001b[1;32m----> 7\u001b[1;33m \u001b[0mf4\u001b[0m\u001b[1;33m(\u001b[0m\u001b[1;33m)\u001b[0m\u001b[1;33m\u001b[0m\u001b[1;33m\u001b[0m\u001b[0m\n\u001b[0m\u001b[0;32m      8\u001b[0m \u001b[1;33m\u001b[0m\u001b[0m\n\u001b[0;32m      9\u001b[0m \u001b[0ma4\u001b[0m \u001b[1;33m=\u001b[0m \u001b[1;36m10\u001b[0m   \u001b[1;31m## Global Variable\u001b[0m\u001b[1;33m\u001b[0m\u001b[1;33m\u001b[0m\u001b[0m\n",
      "\u001b[1;32m<ipython-input-18-0bc9129b33c1>\u001b[0m in \u001b[0;36mf4\u001b[1;34m()\u001b[0m\n\u001b[0;32m      2\u001b[0m     \u001b[0mb4\u001b[0m \u001b[1;33m=\u001b[0m \u001b[1;36m12\u001b[0m    \u001b[1;31m## Local Variable\u001b[0m\u001b[1;33m\u001b[0m\u001b[1;33m\u001b[0m\u001b[0m\n\u001b[0;32m      3\u001b[0m     \u001b[0mprint\u001b[0m\u001b[1;33m(\u001b[0m\u001b[0mb4\u001b[0m\u001b[1;33m)\u001b[0m\u001b[1;33m\u001b[0m\u001b[1;33m\u001b[0m\u001b[0m\n\u001b[1;32m----> 4\u001b[1;33m     \u001b[0mprint\u001b[0m\u001b[1;33m(\u001b[0m\u001b[0ma4\u001b[0m\u001b[1;33m)\u001b[0m   \u001b[1;31m## cannot use global var inside even it is defined after the function\u001b[0m\u001b[1;33m\u001b[0m\u001b[1;33m\u001b[0m\u001b[0m\n\u001b[0m\u001b[0;32m      5\u001b[0m                 \u001b[1;31m## but after function call\u001b[0m\u001b[1;33m\u001b[0m\u001b[1;33m\u001b[0m\u001b[1;33m\u001b[0m\u001b[0m\n\u001b[0;32m      6\u001b[0m \u001b[1;33m\u001b[0m\u001b[0m\n",
      "\u001b[1;31mNameError\u001b[0m: name 'a4' is not defined"
     ]
    }
   ],
   "source": [
    "\n",
    "def f4():\n",
    "    b4 = 12    ## Local Variable\n",
    "    print(b4)\n",
    "    print(a4)   ## cannot use global var inside even it is defined after the function\n",
    "                ## but after function call\n",
    "\n",
    "f4()\n",
    "\n",
    "a4 = 10   ## Global Variable   \n",
    "\n"
   ]
  },
  {
   "cell_type": "code",
   "execution_count": 22,
   "metadata": {},
   "outputs": [
    {
     "name": "stdout",
     "output_type": "stream",
     "text": [
      "12\n",
      "13\n",
      "140728482080928\n",
      "12\n",
      "140728482080896\n"
     ]
    }
   ],
   "source": [
    "a5 = 12\n",
    "def f5():\n",
    "    a5 = 13      ## Here python assumes you want to create a local variable\n",
    "                 ## Here on this point we have two a4 one is local and one is global.\n",
    "                 ## to prove this, we have to find id of both.\n",
    "    print(a5)\n",
    "    print(id(a5))\n",
    "    \n",
    "    \n",
    "print(a5)\n",
    "f5()\n",
    "print(a5)\n",
    "print(id(a5))\n",
    "\n",
    "## in output two ids are different."
   ]
  },
  {
   "cell_type": "code",
   "execution_count": 24,
   "metadata": {},
   "outputs": [
    {
     "name": "stdout",
     "output_type": "stream",
     "text": [
      "12\n",
      "13\n",
      "140728482080928\n",
      "13\n",
      "140728482080928\n"
     ]
    }
   ],
   "source": [
    "a5 = 12\n",
    "def f5():\n",
    "    global a5   ## in order to use global variable inside local, we use global keyword\n",
    "    a5 = 13      \n",
    "    print(a5)\n",
    "    print(id(a5))\n",
    "    \n",
    "    \n",
    "    \n",
    "print(a5)\n",
    "f5()\n",
    "print(a5)\n",
    "print(id(a5))\n",
    "## we can see that id of both are same which means it is global variable"
   ]
  },
  {
   "cell_type": "code",
   "execution_count": 25,
   "metadata": {},
   "outputs": [
    {
     "name": "stdout",
     "output_type": "stream",
     "text": [
      "10\n"
     ]
    }
   ],
   "source": [
    "def f():\n",
    "    b = 10\n",
    "    return b  ##  in order to use the local variable outside, we need to return it from the function.\n",
    "x = f()\n",
    "print(x)"
   ]
  }
 ],
 "metadata": {
  "kernelspec": {
   "display_name": "Python 3",
   "language": "python",
   "name": "python3"
  },
  "language_info": {
   "codemirror_mode": {
    "name": "ipython",
    "version": 3
   },
   "file_extension": ".py",
   "mimetype": "text/x-python",
   "name": "python",
   "nbconvert_exporter": "python",
   "pygments_lexer": "ipython3",
   "version": "3.8.5"
  }
 },
 "nbformat": 4,
 "nbformat_minor": 4
}
