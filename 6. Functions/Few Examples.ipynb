{
 "cells": [
  {
   "cell_type": "code",
   "execution_count": 3,
   "metadata": {},
   "outputs": [
    {
     "data": {
      "text/plain": [
       "True"
      ]
     },
     "execution_count": 3,
     "metadata": {},
     "output_type": "execute_result"
    }
   ],
   "source": [
    "def isPrime(n):\n",
    "    for d in range(2, n):\n",
    "        if n % d ==  0:\n",
    "            break\n",
    "    else:\n",
    "        return True    ## This else will return true if only for loop does not break \n",
    "                       ## with the if condition inside which means it runs completely till n.\n",
    "        \n",
    "    \n",
    "    return False       ## This function will return false only when for loop breaks with the \n",
    "                       ## if statement inside.\n",
    "isPrime(17)  \n",
    "\n",
    "## Both above return statements are concepts and need to be understand how and where to use."
   ]
  },
  {
   "cell_type": "code",
   "execution_count": 4,
   "metadata": {},
   "outputs": [
    {
     "name": "stdout",
     "output_type": "stream",
     "text": [
      "2\n",
      "3\n",
      "5\n",
      "7\n",
      "11\n",
      "13\n",
      "17\n",
      "19\n"
     ]
    }
   ],
   "source": [
    "## Print all prime numbers from 2 to n.\n",
    "\n",
    "def primeFrom2ToN(n):\n",
    "    for k in range(2, n +1):\n",
    "        ## check if k is prime and in case it is prime we print it.\n",
    "        is_k_prime = isPrime(k)\n",
    "        if (is_k_prime):\n",
    "            print(k)\n",
    "            \n",
    "primeFrom2ToN(20)"
   ]
  },
  {
   "cell_type": "code",
   "execution_count": null,
   "metadata": {},
   "outputs": [],
   "source": []
  }
 ],
 "metadata": {
  "kernelspec": {
   "display_name": "Python 3",
   "language": "python",
   "name": "python3"
  },
  "language_info": {
   "codemirror_mode": {
    "name": "ipython",
    "version": 3
   },
   "file_extension": ".py",
   "mimetype": "text/x-python",
   "name": "python",
   "nbconvert_exporter": "python",
   "pygments_lexer": "ipython3",
   "version": "3.8.5"
  }
 },
 "nbformat": 4,
 "nbformat_minor": 4
}
