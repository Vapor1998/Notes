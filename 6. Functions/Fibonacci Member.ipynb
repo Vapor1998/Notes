{
 "cells": [
  {
   "cell_type": "code",
   "execution_count": 13,
   "metadata": {},
   "outputs": [
    {
     "name": "stdout",
     "output_type": "stream",
     "text": [
      "2584\n",
      "true\n"
     ]
    }
   ],
   "source": [
    "def checkMember(n):\n",
    "#Implement Your Code Here\n",
    "    n1 = 0\n",
    "    n2 = 1\n",
    "    if n1 == n or n2 == n:\n",
    "        return True\n",
    "    if n == 2:\n",
    "        return True\n",
    "    for i in range(n):\n",
    "        c = n1+n2\n",
    "        n1 += n2\n",
    "        n2 = n1 - n2\n",
    "        if c == n:\n",
    "            return True\n",
    "    return False\n",
    "\n",
    "        \n",
    "        \n",
    "\n",
    "n=int(input())\n",
    "if(checkMember(n)):\n",
    "    print(\"true\")\n",
    "else:\n",
    "    print(\"false\")"
   ]
  }
 ],
 "metadata": {
  "kernelspec": {
   "display_name": "Python 3 (ipykernel)",
   "language": "python",
   "name": "python3"
  },
  "language_info": {
   "codemirror_mode": {
    "name": "ipython",
    "version": 3
   },
   "file_extension": ".py",
   "mimetype": "text/x-python",
   "name": "python",
   "nbconvert_exporter": "python",
   "pygments_lexer": "ipython3",
   "version": "3.9.12"
  }
 },
 "nbformat": 4,
 "nbformat_minor": 4
}
