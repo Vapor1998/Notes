{
 "cells": [
  {
   "cell_type": "markdown",
   "id": "74f8764f",
   "metadata": {},
   "source": [
    "## `Finding the Outliers.`  \n",
    "`Make the candlestick chart`"
   ]
  },
  {
   "cell_type": "markdown",
   "id": "0a5e52b9",
   "metadata": {},
   "source": [
    "### `Formula for finding Outliers`  "
   ]
  },
  {
   "cell_type": "markdown",
   "id": "e280b9e5",
   "metadata": {},
   "source": [
    "`V < Q1 - 1.5 IQR`  \n",
    "  OR  \n",
    "`V > Q3 + 1.5 IQR`  where `IQR` = `Q3 - Q1`   \n",
    "eg : =IF(OR(I2< $ O $ 2 - $ N $2, I2104 > $M$2 + $N$2), 1, 0) (freezing columns which has Q1 , Q3 and IQR)"
   ]
  },
  {
   "cell_type": "markdown",
   "id": "3d2df4d3",
   "metadata": {},
   "source": [
    "### `Feature Engineering`"
   ]
  },
  {
   "cell_type": "markdown",
   "id": "3d9cae57",
   "metadata": {},
   "source": []
  }
 ],
 "metadata": {
  "kernelspec": {
   "display_name": "Python 3 (ipykernel)",
   "language": "python",
   "name": "python3"
  },
  "language_info": {
   "codemirror_mode": {
    "name": "ipython",
    "version": 3
   },
   "file_extension": ".py",
   "mimetype": "text/x-python",
   "name": "python",
   "nbconvert_exporter": "python",
   "pygments_lexer": "ipython3",
   "version": "3.9.12"
  }
 },
 "nbformat": 4,
 "nbformat_minor": 5
}
