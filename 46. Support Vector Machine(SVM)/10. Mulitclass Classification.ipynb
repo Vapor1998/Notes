{
 "cells": [
  {
   "cell_type": "markdown",
   "metadata": {},
   "source": [
    "### How to Handle Multiclass Classification.  \n",
    "Lets say y can actually be y = a, b, c.  \n",
    "One scheme that we have done earlier is one vs rest.\n",
    "1. ##### One vs Rest.\n",
    "This means if we have k different classes, we train k different classifiers.  \n",
    "In this, first classifier will train $a$ $vs$ $rest$ where a becomes 1 and rest becomes 0.  \n",
    "Second classifier will train $b$ $vs$ $rest$ where b becomes 1 and rest becomes 0.  \n",
    "Third classifier will train $c$ $vs$ $rest$ where c becomes 1 and rest becomes 0.  \n",
    "So effectively we have three different parameters, we have three different classifiers and we train all of them.  \n",
    "Which one to choose?  \n",
    "Lets say after training, 1st classifier, for particular x that we want to test on, lets say the $\\theta_{a}^Tx$ value is 1.5.  \n",
    "For 2nd classifier, $\\theta_{b}^Tx$ value is -0.6.  \n",
    "For 3rd classifier, $\\theta_{c}^Tx$ value is 0.1.  \n",
    "What we are going to do is we are going to choose the one with maximum $\\theta^Tx$ value and we will predict that particular class.  \n",
    "So when a is 1 and rest is 0, we are highly confident that this is a.  \n",
    "for second, we are actually not confident that its b, for third it might be c we are not sure.  \n",
    "\n",
    "2. ##### One vs One. \n",
    "So if we have k classes, we are actually going to build ${}^kC_{2}$ $->$ $\\frac{k(k-1)}{2}$different classifiers.  \n",
    "For all possible two classes two options we are actually going to build different classifiers.  \n",
    "So once we do a vs b, then b vs c and then c vs a.  \n",
    "For three classes it doesnt look that bad but for 10 classes, One vs rest will create 10 classifier, one vs one will create 45 classifier.  \n",
    "For one vs one, we create classifier, train all of them, now we have x for which we want to make predictions, make this go through all the 45 classifiers, and then go through all the classifiers and select majority as winner.  \n",
    "\n",
    "\n",
    "We might have option to use either or might be restricted to use one of them.  \n",
    "\n"
   ]
  },
  {
   "cell_type": "markdown",
   "metadata": {},
   "source": [
    "##### Note:\n",
    "1. We have 3 classes in our dataset i.e. A,B and C. We train a One Vs All SVM model for our classifications. The first classifier is for A and not A, second for B and not B and third is for C and not C. If the results are : first-(0.6), second-(0.89) and third-(0.5) Class that should be predicted is B.  \n",
    "2. One Vs one technique requires most computational power among the following.  \n",
    "3. Suppose that we have m classes in our data-set and n training data-points, then m classifiers will be needed for prediction of a testing data-point in one Vs. all technique.  "
   ]
  }
 ],
 "metadata": {
  "kernelspec": {
   "display_name": "Python 3",
   "language": "python",
   "name": "python3"
  },
  "language_info": {
   "codemirror_mode": {
    "name": "ipython",
    "version": 3
   },
   "file_extension": ".py",
   "mimetype": "text/x-python",
   "name": "python",
   "nbconvert_exporter": "python",
   "pygments_lexer": "ipython3",
   "version": "3.8.5"
  }
 },
 "nbformat": 4,
 "nbformat_minor": 4
}
