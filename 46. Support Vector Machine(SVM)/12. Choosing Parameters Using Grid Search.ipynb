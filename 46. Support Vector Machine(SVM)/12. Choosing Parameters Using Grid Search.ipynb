{
 "cells": [
  {
   "attachments": {
    "Screenshot%20%28220%29.png": {
     "image/png": "[encoded data removed]"
    }
   },
   "cell_type": "markdown",
   "metadata": {},
   "source": [
    "## Grid Search\n",
    "Lets say we are given Iris data and we converted it into xtrain, xtest.  \n",
    "How can we figure out the best values of C and $\\gamma$, which kernel to use, so there are many options for that.  \n",
    "One option we can try is fitting our data, and then for different values of c and $\\gamma$, look at test accuracy.  \n",
    "Thats not a very good way of training our classifier. \n",
    "The reason is when you are using your testing data, to decide what is the best $\\gamma$ and C, you are actualy using testing data for training.  \n",
    "Choosing good value of C and $\\gamma$ is the part of training process.  \n",
    "Other option to choose good value of C and $\\gamma$  is **cross-validation**.  \n",
    "What is the step we would like to use?  \n",
    "We would like to use different values of C with different values of $\\gamma$ and all possible combinations.\n",
    "![Screenshot%20%28220%29.png](attachment:Screenshot%20%28220%29.png)\n",
    "\n",
    "We will use the combination of the C and $\\gamma$ where row is C and $\\gamma$ is the column and we try the combination of these values. Thats called **Grid-Search**.  \n"
   ]
  },
  {
   "cell_type": "code",
   "execution_count": 2,
   "metadata": {},
   "outputs": [],
   "source": [
    "from sklearn import svm, datasets\n",
    "from sklearn.model_selection import train_test_split\n",
    "from sklearn.model_selection import GridSearchCV\n",
    "from sklearn.neighbors import KNeighborsClassifier"
   ]
  },
  {
   "cell_type": "code",
   "execution_count": 3,
   "metadata": {},
   "outputs": [],
   "source": [
    "iris = datasets.load_iris()\n",
    "x = iris.data\n",
    "y = iris.target"
   ]
  },
  {
   "cell_type": "code",
   "execution_count": 4,
   "metadata": {},
   "outputs": [],
   "source": [
    "x_train,x_test, y_train, y_test = train_test_split(x, y)"
   ]
  },
  {
   "cell_type": "code",
   "execution_count": 13,
   "metadata": {},
   "outputs": [
    {
     "data": {
      "text/plain": [
       "GridSearchCV(estimator=KNeighborsClassifier(),\n",
       "             param_grid={'n_neighbors': [3, 5, 7, 9, 11]})"
      ]
     },
     "execution_count": 13,
     "metadata": {},
     "output_type": "execute_result"
    }
   ],
   "source": [
    "## first we create knn classifier\n",
    "clf = KNeighborsClassifier()\n",
    "\n",
    "## to create the grid search cv object, we need to pass 2 things, the base classifier, so its going to \n",
    "## fit different values, of c and gamma, SO in case of KNN, we find best value of K, in case of GridSearch, We find \n",
    "## best c and gamma.\n",
    "\n",
    "## In this, grid is actually a dictionary, where the key is the parameter name.\n",
    "## n_neighbours takes different values of K which we want to try. \n",
    "\n",
    "grid = {\"n_neighbors\": [3, 5, 7, 9, 11]}\n",
    "abc = GridSearchCV(clf, grid)\n",
    "abc.fit(x_train, y_train)\n",
    "## it also provides the fit function, and once we fit it, it actually does what it requires, "
   ]
  },
  {
   "cell_type": "code",
   "execution_count": 14,
   "metadata": {},
   "outputs": [
    {
     "data": {
      "text/plain": [
       "KNeighborsClassifier(n_neighbors=7)"
      ]
     },
     "execution_count": 14,
     "metadata": {},
     "output_type": "execute_result"
    }
   ],
   "source": [
    "## once we fit it, we can actually look at best estimator.  \n",
    "## it is saying that the best result it got when k is 7.  \n",
    "\n",
    "\n",
    "abc.best_estimator_"
   ]
  },
  {
   "cell_type": "code",
   "execution_count": 15,
   "metadata": {},
   "outputs": [
    {
     "data": {
      "text/plain": [
       "{'mean_fit_time': array([0.00775542, 0.        , 0.00019865, 0.00019941, 0.00080338]),\n",
       " 'std_fit_time': array([0.01505597, 0.        , 0.0003973 , 0.00039883, 0.00040182]),\n",
       " 'mean_score_time': array([0.00141463, 0.00141616, 0.0012754 , 0.00132189, 0.00118918]),\n",
       " 'std_score_time': array([0.00048004, 0.00047431, 0.00043108, 0.00031463, 0.00039747]),\n",
       " 'param_n_neighbors': masked_array(data=[3, 5, 7, 9, 11],\n",
       "              mask=[False, False, False, False, False],\n",
       "        fill_value='?',\n",
       "             dtype=object),\n",
       " 'params': [{'n_neighbors': 3},\n",
       "  {'n_neighbors': 5},\n",
       "  {'n_neighbors': 7},\n",
       "  {'n_neighbors': 9},\n",
       "  {'n_neighbors': 11}],\n",
       " 'split0_test_score': array([0.95652174, 0.95652174, 0.95652174, 0.95652174, 0.95652174]),\n",
       " 'split1_test_score': array([0.95652174, 1.        , 1.        , 0.95652174, 1.        ]),\n",
       " 'split2_test_score': array([0.95454545, 1.        , 1.        , 0.95454545, 1.        ]),\n",
       " 'split3_test_score': array([0.90909091, 0.90909091, 0.95454545, 0.95454545, 0.95454545]),\n",
       " 'split4_test_score': array([1.        , 0.95454545, 0.95454545, 1.        , 0.95454545]),\n",
       " 'mean_test_score': array([0.95533597, 0.96403162, 0.97312253, 0.96442688, 0.97312253]),\n",
       " 'std_test_score': array([0.02876428, 0.03391848, 0.02195722, 0.01780851, 0.02195722]),\n",
       " 'rank_test_score': array([5, 4, 1, 3, 1])}"
      ]
     },
     "execution_count": 15,
     "metadata": {},
     "output_type": "execute_result"
    }
   ],
   "source": [
    "## Now we can look at scores achieved by different values of k.\n",
    "abc.cv_results_\n",
    "\n",
    "## seems like it made 5 splits and on split 0 we have test score \n",
    "## split 0 ==  'split0_test_score': array([0.95652174, 0.95652174, 0.95652174, 0.95652174, 0.95652174]), \n",
    "## where it shows score for k = 3, 5, 7, 9, 11 respectively on split 0.  \n",
    "\n"
   ]
  },
  {
   "cell_type": "code",
   "execution_count": 16,
   "metadata": {},
   "outputs": [
    {
     "data": {
      "text/plain": [
       "GridSearchCV(estimator=SVC(),\n",
       "             param_grid={'C': [100.0, 1000.0, 5000.0, 10000.0, 50000.0,\n",
       "                               100000.0],\n",
       "                         'gamma': [0.001, 0.0005, 0.0001, 0.005]})"
      ]
     },
     "execution_count": 16,
     "metadata": {},
     "output_type": "execute_result"
    }
   ],
   "source": [
    "## now we have done Grid Search using KNN, we must try it for Linear, Logistic regression as well. \n",
    "## For now, we try for SVM as well\n",
    "\n",
    "## we create classifier for SVM, \n",
    "clf = svm.SVC()\n",
    "\n",
    "\n",
    "## grid now will be more complicated.  \n",
    "## Now here, 1e2 means 100, 1e3 means thousand 1e4 means 10000, 5e3 means 5000 and 1e5 means 100000. \n",
    "## and 1e-3 means 10^-3 and so on.\n",
    "\n",
    "grid = {'C': [1e2, 1e3, 5e3, 1e4, 5e4, 1e5], 'gamma':[1e-3, 5e-4, 1e-4, 5e-3]}\n",
    "abc = GridSearchCV(clf, grid)\n",
    "abc.fit(x_train, y_train)\n",
    "\n"
   ]
  },
  {
   "cell_type": "code",
   "execution_count": 17,
   "metadata": {},
   "outputs": [
    {
     "data": {
      "text/plain": [
       "SVC(C=100.0, gamma=0.001)"
      ]
     },
     "execution_count": 17,
     "metadata": {},
     "output_type": "execute_result"
    }
   ],
   "source": [
    "## then we as for best estimator.  \n",
    "abc.best_estimator_\n",
    "\n",
    "## seems like it is using c = 100 and gamma as 1e-3 as best estimator.  \n"
   ]
  },
  {
   "cell_type": "code",
   "execution_count": 18,
   "metadata": {},
   "outputs": [
    {
     "data": {
      "text/plain": [
       "{'mean_fit_time': array([4.22358036e-02, 2.07805634e-04, 3.51667404e-04, 7.71045685e-05,\n",
       "        1.02806091e-04, 0.00000000e+00, 1.99365616e-04, 5.94329834e-04,\n",
       "        5.98382950e-04, 7.97843933e-04, 9.97304916e-04, 6.11019135e-04,\n",
       "        2.73847580e-04, 0.00000000e+00, 1.25122070e-03, 2.00638771e-03,\n",
       "        1.74036026e-03, 1.06000900e-03, 7.97653198e-04, 6.09111786e-04,\n",
       "        0.00000000e+00, 1.99270248e-04, 1.99413300e-04, 5.98573685e-04]),\n",
       " 'std_fit_time': array([8.29766679e-02, 4.15611267e-04, 2.55438866e-04, 1.54209137e-04,\n",
       "        2.05612183e-04, 0.00000000e+00, 3.98731232e-04, 4.85326710e-04,\n",
       "        4.88577633e-04, 4.25177878e-04, 2.61174468e-07, 4.99377316e-04,\n",
       "        3.36081026e-04, 0.00000000e+00, 9.16232109e-04, 4.28189679e-05,\n",
       "        2.82661796e-04, 9.41315682e-05, 3.98826742e-04, 4.97679111e-04,\n",
       "        0.00000000e+00, 3.98540497e-04, 3.98826599e-04, 4.88733421e-04]),\n",
       " 'mean_score_time': array([0.00019951, 0.00018802, 0.        , 0.        , 0.00025678,\n",
       "        0.00019937, 0.00071177, 0.00040526, 0.00039892, 0.00019951,\n",
       "        0.        , 0.00032887, 0.00057993, 0.00055552, 0.00083189,\n",
       "        0.00113411, 0.00104475, 0.00059032, 0.00019941, 0.        ,\n",
       "        0.        , 0.        , 0.        , 0.00039868]),\n",
       " 'std_score_time': array([0.00039902, 0.00037603, 0.        , 0.        , 0.00031554,\n",
       "        0.00039873, 0.00036982, 0.00049655, 0.00048858, 0.00039902,\n",
       "        0.        , 0.00041774, 0.00038493, 0.00045989, 0.00075848,\n",
       "        0.00045848, 0.00019166, 0.00048221, 0.00039883, 0.        ,\n",
       "        0.        , 0.        , 0.        , 0.00048829]),\n",
       " 'param_C': masked_array(data=[100.0, 100.0, 100.0, 100.0, 1000.0, 1000.0, 1000.0,\n",
       "                    1000.0, 5000.0, 5000.0, 5000.0, 5000.0, 10000.0,\n",
       "                    10000.0, 10000.0, 10000.0, 50000.0, 50000.0, 50000.0,\n",
       "                    50000.0, 100000.0, 100000.0, 100000.0, 100000.0],\n",
       "              mask=[False, False, False, False, False, False, False, False,\n",
       "                    False, False, False, False, False, False, False, False,\n",
       "                    False, False, False, False, False, False, False, False],\n",
       "        fill_value='?',\n",
       "             dtype=object),\n",
       " 'param_gamma': masked_array(data=[0.001, 0.0005, 0.0001, 0.005, 0.001, 0.0005, 0.0001,\n",
       "                    0.005, 0.001, 0.0005, 0.0001, 0.005, 0.001, 0.0005,\n",
       "                    0.0001, 0.005, 0.001, 0.0005, 0.0001, 0.005, 0.001,\n",
       "                    0.0005, 0.0001, 0.005],\n",
       "              mask=[False, False, False, False, False, False, False, False,\n",
       "                    False, False, False, False, False, False, False, False,\n",
       "                    False, False, False, False, False, False, False, False],\n",
       "        fill_value='?',\n",
       "             dtype=object),\n",
       " 'params': [{'C': 100.0, 'gamma': 0.001},\n",
       "  {'C': 100.0, 'gamma': 0.0005},\n",
       "  {'C': 100.0, 'gamma': 0.0001},\n",
       "  {'C': 100.0, 'gamma': 0.005},\n",
       "  {'C': 1000.0, 'gamma': 0.001},\n",
       "  {'C': 1000.0, 'gamma': 0.0005},\n",
       "  {'C': 1000.0, 'gamma': 0.0001},\n",
       "  {'C': 1000.0, 'gamma': 0.005},\n",
       "  {'C': 5000.0, 'gamma': 0.001},\n",
       "  {'C': 5000.0, 'gamma': 0.0005},\n",
       "  {'C': 5000.0, 'gamma': 0.0001},\n",
       "  {'C': 5000.0, 'gamma': 0.005},\n",
       "  {'C': 10000.0, 'gamma': 0.001},\n",
       "  {'C': 10000.0, 'gamma': 0.0005},\n",
       "  {'C': 10000.0, 'gamma': 0.0001},\n",
       "  {'C': 10000.0, 'gamma': 0.005},\n",
       "  {'C': 50000.0, 'gamma': 0.001},\n",
       "  {'C': 50000.0, 'gamma': 0.0005},\n",
       "  {'C': 50000.0, 'gamma': 0.0001},\n",
       "  {'C': 50000.0, 'gamma': 0.005},\n",
       "  {'C': 100000.0, 'gamma': 0.001},\n",
       "  {'C': 100000.0, 'gamma': 0.0005},\n",
       "  {'C': 100000.0, 'gamma': 0.0001},\n",
       "  {'C': 100000.0, 'gamma': 0.005}],\n",
       " 'split0_test_score': array([0.95652174, 0.95652174, 0.91304348, 0.95652174, 0.95652174,\n",
       "        0.95652174, 0.95652174, 1.        , 1.        , 1.        ,\n",
       "        0.95652174, 0.95652174, 1.        , 1.        , 0.95652174,\n",
       "        0.95652174, 0.95652174, 0.95652174, 1.        , 0.95652174,\n",
       "        1.        , 0.95652174, 1.        , 0.86956522]),\n",
       " 'split1_test_score': array([1.        , 0.95652174, 0.91304348, 1.        , 1.        ,\n",
       "        1.        , 1.        , 1.        , 1.        , 1.        ,\n",
       "        1.        , 1.        , 1.        , 1.        , 1.        ,\n",
       "        1.        , 1.        , 1.        , 1.        , 0.95652174,\n",
       "        1.        , 1.        , 1.        , 0.95652174]),\n",
       " 'split2_test_score': array([0.95454545, 1.        , 0.95454545, 0.95454545, 0.95454545,\n",
       "        0.95454545, 0.95454545, 0.95454545, 0.95454545, 0.95454545,\n",
       "        0.95454545, 0.90909091, 0.90909091, 0.95454545, 0.95454545,\n",
       "        0.90909091, 0.90909091, 0.90909091, 0.95454545, 0.90909091,\n",
       "        0.90909091, 0.90909091, 0.90909091, 0.90909091]),\n",
       " 'split3_test_score': array([0.95454545, 0.90909091, 0.90909091, 0.95454545, 0.95454545,\n",
       "        0.95454545, 0.95454545, 0.95454545, 0.95454545, 0.95454545,\n",
       "        0.95454545, 0.90909091, 0.90909091, 0.95454545, 0.95454545,\n",
       "        0.90909091, 0.90909091, 0.90909091, 0.95454545, 0.90909091,\n",
       "        0.90909091, 0.90909091, 0.90909091, 0.90909091]),\n",
       " 'split4_test_score': array([1.        , 1.        , 0.90909091, 1.        , 1.        ,\n",
       "        1.        , 1.        , 0.95454545, 0.95454545, 0.95454545,\n",
       "        1.        , 0.95454545, 0.95454545, 0.95454545, 1.        ,\n",
       "        0.95454545, 0.95454545, 0.95454545, 0.95454545, 0.95454545,\n",
       "        0.95454545, 0.95454545, 0.95454545, 0.95454545]),\n",
       " 'mean_test_score': array([0.97312253, 0.96442688, 0.91976285, 0.97312253, 0.97312253,\n",
       "        0.97312253, 0.97312253, 0.97272727, 0.97272727, 0.97272727,\n",
       "        0.97312253, 0.9458498 , 0.95454545, 0.97272727, 0.97312253,\n",
       "        0.9458498 , 0.9458498 , 0.9458498 , 0.97272727, 0.93715415,\n",
       "        0.95454545, 0.9458498 , 0.95454545, 0.91976285]),\n",
       " 'std_test_score': array([0.02195722, 0.033817  , 0.0174809 , 0.02195722, 0.02195722,\n",
       "        0.02195722, 0.02195722, 0.02226809, 0.02226809, 0.02226809,\n",
       "        0.02195722, 0.0341297 , 0.04065578, 0.02226809, 0.02195722,\n",
       "        0.0341297 , 0.0341297 , 0.0341297 , 0.02226809, 0.0229249 ,\n",
       "        0.04065578, 0.0341297 , 0.04065578, 0.03258413]),\n",
       " 'rank_test_score': array([ 1, 13, 23,  1,  1,  1,  1,  8,  8,  8,  1, 17, 14,  8,  1, 17, 17,\n",
       "        17,  8, 22, 14, 17, 14, 23])}"
      ]
     },
     "execution_count": 18,
     "metadata": {},
     "output_type": "execute_result"
    }
   ],
   "source": [
    "abc.cv_results_"
   ]
  },
  {
   "cell_type": "code",
   "execution_count": null,
   "metadata": {},
   "outputs": [],
   "source": []
  }
 ],
 "metadata": {
  "kernelspec": {
   "display_name": "Python 3",
   "language": "python",
   "name": "python3"
  },
  "language_info": {
   "codemirror_mode": {
    "name": "ipython",
    "version": 3
   },
   "file_extension": ".py",
   "mimetype": "text/x-python",
   "name": "python",
   "nbconvert_exporter": "python",
   "pygments_lexer": "ipython3",
   "version": "3.8.5"
  }
 },
 "nbformat": 4,
 "nbformat_minor": 4
}
