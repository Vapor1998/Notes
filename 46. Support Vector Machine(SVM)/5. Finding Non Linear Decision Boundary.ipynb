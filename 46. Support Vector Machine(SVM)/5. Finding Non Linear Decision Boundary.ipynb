{
 "cells": [
  {
   "cell_type": "markdown",
   "metadata": {},
   "source": [
    "### Dealing with Non Linear Decision Boundary.  \n",
    "What should we do in Logistic Regression to find Non Linear Boundaries?  \n",
    "Lets say we haev 3 features and we apply Logisti Regression on this, What we decided iis lets add few more features,  \n",
    "Now how would we choose which features to add?  \n",
    "What we can do is we can choose some landmark points, And if we are given some data x, we can add some features and those features can be f1 = similarity of feature x and l1 where l1 is landmark.  \n",
    "We can add another feature f2 = similarity of feature x and l2 where l2 is landmmark. \n",
    "and f3 = similarity of feature x and l3 where l3 is landmark.  \n",
    "So lets say if we add 1000 landmark points, we will have 1000 new features.  \n",
    "Thats one way of adding new features.  \n",
    "In case of SVM, we can do something very similar.  \n",
    "we choose some landmark points we choose some similarity function and then u had lets ay n features, we take it to some other dimensions n' and this new dimension basically represents n' landmark points and we need to decide the similarity function as well.  \n",
    "So we dont keep the original features, we take only new features and this new feautres comes by first choosing the landmark and then finding the similarity between the landmark at a given point.  \n",
    "SO two questions are how do we choose landmark points and what are the options for similarity function that we can use.  \n",
    "And these are two very good questions that we need to answer.  \n"
   ]
  }
 ],
 "metadata": {
  "kernelspec": {
   "display_name": "Python 3",
   "language": "python",
   "name": "python3"
  },
  "language_info": {
   "codemirror_mode": {
    "name": "ipython",
    "version": 3
   },
   "file_extension": ".py",
   "mimetype": "text/x-python",
   "name": "python",
   "nbconvert_exporter": "python",
   "pygments_lexer": "ipython3",
   "version": "3.8.5"
  }
 },
 "nbformat": 4,
 "nbformat_minor": 4
}
