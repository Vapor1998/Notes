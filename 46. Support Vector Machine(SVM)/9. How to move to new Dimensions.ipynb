{
 "cells": [
  {
   "cell_type": "markdown",
   "metadata": {},
   "source": [
    "Landmarks chosen for conversion of parameters in SVM are actually Training data-points.  \n",
    "When we convert testing data into new dimensions ( as done in SVM ), the matrix containing values of similarity functions for each data point will always have all values as 1 in its diagonal? No  \n",
    "But this is true in case of training data  because $l$ is training datapoint."
   ]
  }
 ],
 "metadata": {
  "kernelspec": {
   "display_name": "Python 3",
   "language": "python",
   "name": "python3"
  },
  "language_info": {
   "codemirror_mode": {
    "name": "ipython",
    "version": 3
   },
   "file_extension": ".py",
   "mimetype": "text/x-python",
   "name": "python",
   "nbconvert_exporter": "python",
   "pygments_lexer": "ipython3",
   "version": "3.8.5"
  }
 },
 "nbformat": 4,
 "nbformat_minor": 4
}
