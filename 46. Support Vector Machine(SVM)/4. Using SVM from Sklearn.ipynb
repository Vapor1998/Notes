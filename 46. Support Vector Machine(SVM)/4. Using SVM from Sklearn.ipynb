{
 "cells": [
  {
   "cell_type": "markdown",
   "metadata": {},
   "source": [
    "##### We will take some dummy data, plot that dummy data, the way we were trying to do in prev lecture on the white board on the prev session, and then we will run SVM and then we will see what decision boundary looks like.  \n",
    "##### And then we will try to play around and see how the decision boundary changes as we change the values of c."
   ]
  },
  {
   "cell_type": "code",
   "execution_count": 1,
   "metadata": {},
   "outputs": [],
   "source": [
    "import numpy as np\n",
    "from sklearn.svm import SVC\n",
    "import matplotlib.pyplot as plt"
   ]
  },
  {
   "cell_type": "code",
   "execution_count": 21,
   "metadata": {},
   "outputs": [],
   "source": [
    "## this data has two features f1 and f2, and y is the labels of classes.  \n",
    "X = np.array([[1,1],[2,1],[1,2],[1.5,1.5],[3,4],[2,5],[4,3],[7,2],[3,5],[2,6],[6,2],[3,4],[4,4]])\n",
    "y = [0,1,0,0,1,1,1,1,1,1,1,1,1]"
   ]
  },
  {
   "cell_type": "code",
   "execution_count": 12,
   "metadata": {},
   "outputs": [
    {
     "data": {
      "image/png": "[encoded data removed]",
      "text/plain": [
       "<Figure size 432x288 with 1 Axes>"
      ]
     },
     "metadata": {
      "needs_background": "light"
     },
     "output_type": "display_data"
    }
   ],
   "source": [
    "X_x1 = X[:,0]\n",
    "X_x2 = X[:,1]\n",
    "plt.scatter(X_x1, X_x2, c = y)\n",
    "plt.show()\n",
    "\n",
    "## so we have 4 points in class 0 and we have remaining points in class 1 and quiet linearly seprable. "
   ]
  },
  {
   "cell_type": "code",
   "execution_count": 13,
   "metadata": {},
   "outputs": [
    {
     "data": {
      "text/plain": [
       "(array([[0.49989823, 0.49989823]]), array([-2.49953185]))"
      ]
     },
     "execution_count": 13,
     "metadata": {},
     "output_type": "execute_result"
    }
   ],
   "source": [
    "## we will worry about kernel later basically linear kernel means not doing anything with kernel.  \n",
    "## and we are saying c = 1 which is default. and we will look at coefficient and intercept.  \n",
    "## So what we will find is 01x1 + 02x2 + 03 = 0. where theta1 and theta2 is coefficient and theta3 is intercept.  \n",
    "\n",
    "svcLinear =  SVC(kernel='linear', C=1).fit(X, y)\n",
    "svcLinear.coef_, svcLinear.intercept_\n",
    "\n",
    "## 0 means theta.\n",
    "## Now to plot the decision boundary, we use 01f1 + 02f2 + 03 = 0 and we know 01, 02, 03.  \n",
    "## So we are taking two values of f1 and using this equation, we find f2.  \n",
    "## So if f1 = zero, f2 will become  -03/ 02.  \n",
    "## So we will have a point which will be represented by f1 and f2 which is (0, what will come out of -(03/02)).  \n",
    "## So we get one line on one point of decision boundary and siimilarly we get another point on decision boundary and then\n",
    "## basically, we will connect them to get our decision boundary.  \n"
   ]
  },
  {
   "cell_type": "code",
   "execution_count": 14,
   "metadata": {},
   "outputs": [
    {
     "data": {
      "image/png": "[encoded data removed]",
      "text/plain": [
       "<Figure size 432x288 with 1 Axes>"
      ]
     },
     "metadata": {
      "needs_background": "light"
     },
     "output_type": "display_data"
    }
   ],
   "source": [
    "x1 = np.array([0, 5]) # this is f1\n",
    "x2 = -1 *(svcLinear.intercept_ + svcLinear.coef_[0][0] * x1)/svcLinear.coef_[0][1]\n",
    "plt.plot(x1, x2)\n",
    "plt.scatter(X_x1, X_x2, c = y)\n",
    "plt.axis([0, 8, 0, 8])\n",
    "plt.show()\n",
    "\n",
    "## what we did is we changed the data of coordinates (2,1) to be class 1. \n",
    "## So its seems like it is okay to make a small errror on training data because value of c is 1 and very less.  \n",
    "## SO in the next run w echange the calue of c to be 100000 and lets run this again "
   ]
  },
  {
   "cell_type": "code",
   "execution_count": 15,
   "metadata": {},
   "outputs": [],
   "source": [
    "## running below"
   ]
  },
  {
   "cell_type": "code",
   "execution_count": 29,
   "metadata": {},
   "outputs": [
    {
     "data": {
      "text/plain": [
       "(array([[3.99804688, 0.        ]]), array([-6.99633789]))"
      ]
     },
     "execution_count": 29,
     "metadata": {},
     "output_type": "execute_result"
    }
   ],
   "source": [
    "svcLinear =  SVC(kernel='linear', C=100000).fit(X, y)\n",
    "svcLinear.coef_, svcLinear.intercept_"
   ]
  },
  {
   "cell_type": "code",
   "execution_count": 30,
   "metadata": {},
   "outputs": [
    {
     "name": "stderr",
     "output_type": "stream",
     "text": [
      "<ipython-input-30-aa951f0a5e16>:2: RuntimeWarning: divide by zero encountered in true_divide\n",
      "  x2 = -1 *(svcLinear.intercept_ + svcLinear.coef_[0][0] * x1)/svcLinear.coef_[0][1]\n"
     ]
    },
    {
     "data": {
      "image/png": "[encoded data removed]",
      "text/plain": [
       "<Figure size 432x288 with 1 Axes>"
      ]
     },
     "metadata": {
      "needs_background": "light"
     },
     "output_type": "display_data"
    }
   ],
   "source": [
    "x1 = np.array([0, 5]) # this is f1\n",
    "x2 = -1 *(svcLinear.intercept_ + svcLinear.coef_[0][0] * x1)/svcLinear.coef_[0][1]\n",
    "plt.plot(x1, x2)\n",
    "plt.scatter(X_x1, X_x2, c = y)\n",
    "plt.axis([0, 8, 0, 8])\n",
    "plt.show()\n",
    "\n",
    "## As we can see it has changed the value because c value is so large it cannot afford to make any training data error.   \n"
   ]
  }
 ],
 "metadata": {
  "kernelspec": {
   "display_name": "Python 3",
   "language": "python",
   "name": "python3"
  },
  "language_info": {
   "codemirror_mode": {
    "name": "ipython",
    "version": 3
   },
   "file_extension": ".py",
   "mimetype": "text/x-python",
   "name": "python",
   "nbconvert_exporter": "python",
   "pygments_lexer": "ipython3",
   "version": "3.8.5"
  }
 },
 "nbformat": 4,
 "nbformat_minor": 2
}
