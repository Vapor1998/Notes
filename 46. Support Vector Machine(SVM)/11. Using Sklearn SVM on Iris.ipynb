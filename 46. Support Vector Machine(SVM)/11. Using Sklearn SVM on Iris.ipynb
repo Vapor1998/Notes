{
 "cells": [
  {
   "cell_type": "code",
   "execution_count": 1,
   "metadata": {},
   "outputs": [],
   "source": [
    "from sklearn import svm, datasets\n",
    "import numpy as np\n",
    "from sklearn.model_selection import train_test_split\n",
    "import matplotlib.pyplot as plt"
   ]
  },
  {
   "cell_type": "code",
   "execution_count": 7,
   "metadata": {},
   "outputs": [],
   "source": [
    "# iris = datasets.load_iris()   ## we run this on first run with all features.\n",
    "# x = iris.data\n",
    "# y = iris.target\n",
    "\n",
    "## 4. So while we fetch the data, we need all the rows, but in terms of columns we only need 0 and 1.\n",
    "## 4. so we run again.  \n",
    "iris = datasets.load_iris()\n",
    "x = iris.data[:, 0:2]\n",
    "y = iris.target"
   ]
  },
  {
   "cell_type": "code",
   "execution_count": 8,
   "metadata": {},
   "outputs": [],
   "source": [
    "x_train,x_test, y_train, y_test = train_test_split(x, y)"
   ]
  },
  {
   "cell_type": "code",
   "execution_count": 9,
   "metadata": {},
   "outputs": [
    {
     "data": {
      "text/plain": [
       "SVC()"
      ]
     },
     "execution_count": 9,
     "metadata": {},
     "output_type": "execute_result"
    }
   ],
   "source": [
    "## 1. we need to creat our classifier.  \n",
    "clf = svm.SVC()\n",
    "clf.fit(x_train, y_train)\n"
   ]
  },
  {
   "cell_type": "markdown",
   "metadata": {},
   "source": [
    "### Now we look at some of the options.  \n",
    "**C*(*C* = 1.0)** : We had function here C * somefunction + Regularization. So the idea is higher the C, we will be more focused on not making training errors and we will not be worried about Regularization. If C is high, we will be overfitting. If C is less, we will be underfitting. So we need to get to optimal value of C.This is first thing we need to choose.    \n",
    "  \n",
    "**class_weight (*Class_weight = None*)**: If we want to have some kind of prior probablities we want to give some biased towards a particular class or the other None means equal probablities or equal weight to all the classes.  \n",
    "  \n",
    "**coef0* (*coef0 = 0.0*)**: This is not used in case of RBF or Linear, this is used in the case of Polynomial. In Polynomial we discussed that $(X^TL + a)^b$ where a is this coef0.\n",
    "  \n",
    "**decision_function_shape (decision_function_shape='ovr)** : Used for filling up some API requirements.  \n",
    "  \n",
    "**gamma (gamma = 'auto')** : gamma is actually $\\frac{1}{2\\sigma^2}$.(ref 8th lec notes).  \n",
    "   \n",
    "**kernel (kernel='rbf')** : kernel.   \n",
    "_____________________________________________________________________\n",
    "**SVC implements one vs one scheme and it does not give you option to use one vs rest.  \n",
    "We have one option to use SVC, we can also use something called LinearSVC, which means it is only going to use linear kernel and it implements one vs rest scheme.**  \n"
   ]
  },
  {
   "cell_type": "code",
   "execution_count": 14,
   "metadata": {},
   "outputs": [
    {
     "data": {
      "text/plain": [
       "0.868421052631579"
      ]
     },
     "execution_count": 14,
     "metadata": {},
     "output_type": "execute_result"
    }
   ],
   "source": [
    "## 2. we can look at the score one fitting is done.\n",
    "clf.score(x_test, y_test)  \n",
    "## it gives a good score on this.  \n",
    "\n",
    "## 5. we dont get a good score because we run only on two features."
   ]
  },
  {
   "cell_type": "code",
   "execution_count": 11,
   "metadata": {},
   "outputs": [],
   "source": [
    "## 3.Now we need to plot the decision boundary.  \n",
    "## 3.So if we use LinearSVC, we might see linear boundary but in case of rbf, we might see non-linear decision boundaries.  \n",
    "\n",
    "## 3.To plot data we can only use two features x1 and x2.  \n",
    "def makegrid(x1, x2, h = 0.02):\n",
    "    x1_min, x1_max = x1.min() - 1, x1.max() + 1  ## what are we doing here we are finding minimum and the max.\n",
    "    x2_min, x2_max = x2.min() - 1, x2.max() + 1  ## and we do -1 and +1 so that it covers little more area than required.\n",
    "    a = np.arange(x1_min,x1_max,h)         ## this will give range from x1_min to x2_max. \n",
    "    b = np.arange(x2_min, x2_max, h)\n",
    "    xx, yy = np.meshgrid(a, b)           ## \n",
    "    return xx, yy\n"
   ]
  },
  {
   "cell_type": "code",
   "execution_count": 12,
   "metadata": {},
   "outputs": [
    {
     "data": {
      "text/plain": [
       "(array([[0.  , 0.02, 0.04, ..., 3.94, 3.96, 3.98],\n",
       "        [0.  , 0.02, 0.04, ..., 3.94, 3.96, 3.98],\n",
       "        [0.  , 0.02, 0.04, ..., 3.94, 3.96, 3.98],\n",
       "        ...,\n",
       "        [0.  , 0.02, 0.04, ..., 3.94, 3.96, 3.98],\n",
       "        [0.  , 0.02, 0.04, ..., 3.94, 3.96, 3.98],\n",
       "        [0.  , 0.02, 0.04, ..., 3.94, 3.96, 3.98]]),\n",
       " array([[4.  , 4.  , 4.  , ..., 4.  , 4.  , 4.  ],\n",
       "        [4.02, 4.02, 4.02, ..., 4.02, 4.02, 4.02],\n",
       "        [4.04, 4.04, 4.04, ..., 4.04, 4.04, 4.04],\n",
       "        ...,\n",
       "        [6.94, 6.94, 6.94, ..., 6.94, 6.94, 6.94],\n",
       "        [6.96, 6.96, 6.96, ..., 6.96, 6.96, 6.96],\n",
       "        [6.98, 6.98, 6.98, ..., 6.98, 6.98, 6.98]]))"
      ]
     },
     "execution_count": 12,
     "metadata": {},
     "output_type": "execute_result"
    }
   ],
   "source": [
    "## idea.\n",
    "## 6. The idea is we know x is from 1 - 3 and we know y is from 2 - 5.  \n",
    "## 6. SO we find all the points and call predict on them. Then we know which class we going to predict on each point.\n",
    "## 6. If we color them differently, we get our decision boundary.  \n",
    "\n",
    "## lets call makegrid() on dummy data. \n",
    "\n",
    "x1 = np.array([1,3])\n",
    "x2 = np.array([5,6])\n",
    "makegrid(x1,x2)\n",
    "\n",
    "## 7.what happened is we have 1,3 it decided to go from 0 to 4. (min-1, max+1).  \n",
    "## 7.so it created the array and repeated it multiple times.  \n",
    "## 7.Similarly for second one it go from 4 to 7.  \n",
    "## 7.Thats what makegrid did.  \n",
    "## 7.once we have makegrid, what we do is we combine them, callprediction and basically we are going tp try and plot it.  \n"
   ]
  },
  {
   "cell_type": "code",
   "execution_count": 13,
   "metadata": {},
   "outputs": [
    {
     "data": {
      "image/png": "[encoded data removed]",
      "text/plain": [
       "<Figure size 432x288 with 1 Axes>"
      ]
     },
     "metadata": {
      "needs_background": "light"
     },
     "output_type": "display_data"
    }
   ],
   "source": [
    "## 8. so we pass ofirst feature, second featureso we get above type of array for those features then\n",
    "## 8. ravel will convert this into 1d array huge 1d array and then\n",
    "## 8. np.c_ will combine this into a pair and then for plotting we call ravel() again for converting into 1d array.\n",
    "\n",
    "xx, yy = makegrid(x[:, 0], x[:, 1])  \n",
    "predictions = clf.predict(np.c_[xx.ravel(), yy.ravel()])\n",
    "plt.scatter(xx.ravel(), yy.ravel(), c = predictions)\n",
    "plt.show()\n",
    "\n",
    "## this is for rbc kernel."
   ]
  },
  {
   "cell_type": "markdown",
   "metadata": {},
   "source": [
    " ## now doing it for linear kernel\n"
   ]
  },
  {
   "cell_type": "code",
   "execution_count": 15,
   "metadata": {},
   "outputs": [
    {
     "data": {
      "text/plain": [
       "SVC(kernel='linear')"
      ]
     },
     "execution_count": 15,
     "metadata": {},
     "output_type": "execute_result"
    }
   ],
   "source": [
    "\n",
    "clf = svm.SVC(kernel = 'linear')\n",
    "clf.fit(x_train, y_train)"
   ]
  },
  {
   "cell_type": "code",
   "execution_count": 16,
   "metadata": {},
   "outputs": [
    {
     "data": {
      "text/plain": [
       "0.868421052631579"
      ]
     },
     "execution_count": 16,
     "metadata": {},
     "output_type": "execute_result"
    }
   ],
   "source": [
    "clf.score(x_test, y_test)  \n"
   ]
  },
  {
   "cell_type": "code",
   "execution_count": 17,
   "metadata": {},
   "outputs": [],
   "source": [
    "def makegrid(x1, x2, h = 0.02):\n",
    "    x1_min, x1_max = x1.min() - 1, x1.max() + 1  ## what are we doing here we are finding minimum and the max.\n",
    "    x2_min, x2_max = x2.min() - 1, x2.max() + 1  ## and we do -1 and +1 so that it covers little more area than required.\n",
    "    a = np.arange(x1_min,x1_max,h)         ## this will give range from x1_min to x2_max. \n",
    "    b = np.arange(x2_min, x2_max, h)\n",
    "    xx, yy = np.meshgrid(a, b)           ## \n",
    "    return xx, yy"
   ]
  },
  {
   "cell_type": "code",
   "execution_count": 18,
   "metadata": {},
   "outputs": [
    {
     "data": {
      "image/png": "[encoded data removed]",
      "text/plain": [
       "<Figure size 432x288 with 1 Axes>"
      ]
     },
     "metadata": {
      "needs_background": "light"
     },
     "output_type": "display_data"
    }
   ],
   "source": [
    "xx, yy = makegrid(x[:, 0], x[:, 1])  \n",
    "predictions = clf.predict(np.c_[xx.ravel(), yy.ravel()])\n",
    "plt.scatter(xx.ravel(), yy.ravel(), c = predictions)\n",
    "plt.show()\n",
    "## this is for linear kernel. To know which kernel is performing better, look at the score.\n",
    "## we can play around with gamma values so that we can get optimal values.  "
   ]
  },
  {
   "cell_type": "code",
   "execution_count": null,
   "metadata": {},
   "outputs": [],
   "source": [
    "## in next, we see how to find best value of c and gamma.  "
   ]
  }
 ],
 "metadata": {
  "kernelspec": {
   "display_name": "Python 3",
   "language": "python",
   "name": "python3"
  },
  "language_info": {
   "codemirror_mode": {
    "name": "ipython",
    "version": 3
   },
   "file_extension": ".py",
   "mimetype": "text/x-python",
   "name": "python",
   "nbconvert_exporter": "python",
   "pygments_lexer": "ipython3",
   "version": "3.8.5"
  }
 },
 "nbformat": 4,
 "nbformat_minor": 4
}
