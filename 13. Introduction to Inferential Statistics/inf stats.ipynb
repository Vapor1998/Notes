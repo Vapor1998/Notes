{
 "cells": [
  {
   "cell_type": "markdown",
   "id": "2262e25d",
   "metadata": {},
   "source": [
    "## Calculate Probability Distribution"
   ]
  },
  {
   "cell_type": "code",
   "execution_count": 1,
   "id": "fe7cabae",
   "metadata": {},
   "outputs": [
    {
     "name": "stdout",
     "output_type": "stream",
     "text": [
      "0.08\n"
     ]
    }
   ],
   "source": [
    "## Open and read data file as specified in the question\n",
    "## Print the required output in given format\n",
    "\n",
    "from scipy.stats import norm\n",
    "import numpy as np\n",
    "  \n",
    "data_start = -5\n",
    "data_end = 5\n",
    "data_points = 11\n",
    "data = np.linspace(data_start, data_end, data_points)\n",
    "\n",
    "mean = np.mean(data)\n",
    "std = np.std(data)\n",
    "\n",
    "\n",
    "prob = norm.pdf(3, loc = mean,  scale= std)\n",
    "print(round(prob, 2))\n",
    "    ######################\n",
    "    #PLEASE ADD CODE HERE#\n",
    "    ######################"
   ]
  },
  {
   "cell_type": "markdown",
   "id": "d2b529f9",
   "metadata": {},
   "source": [
    "## Kind of Skewness"
   ]
  },
  {
   "cell_type": "code",
   "execution_count": 3,
   "id": "9607e37b",
   "metadata": {},
   "outputs": [
    {
     "name": "stdout",
     "output_type": "stream",
     "text": [
      "Left Skewed\n"
     ]
    }
   ],
   "source": [
    "import numpy as np\n",
    "\n",
    "arr = [586, 760, 495, 678, 559, 415, 370, 659, 119, 288, 241,\n",
    " 787, 522, 207, 160, 526, 656, 848, 720, 676, 581, 929,\n",
    " 653, 661, 770, 800, 529, 975, 995, 947]\n",
    "\n",
    "mean = np.mean(arr)\n",
    "median = np.median(arr)\n",
    "\n",
    "if mean > median:\n",
    "    print(\"Right Skewed\")\n",
    "else:\n",
    "    print(\"Left Skewed\")"
   ]
  },
  {
   "cell_type": "code",
   "execution_count": 5,
   "id": "793c649e",
   "metadata": {},
   "outputs": [
    {
     "name": "stdout",
     "output_type": "stream",
     "text": [
      "Left Skewed\n"
     ]
    }
   ],
   "source": [
    "from scipy.stats import skew\n",
    "\n",
    "arr = [586, 760, 495, 678, 559, 415, 370, 659, 119, 288, 241,\n",
    " 787, 522, 207, 160, 526, 656, 848, 720, 676, 581, 929,\n",
    " 653, 661, 770, 800, 529, 975, 995, 947]\n",
    "\n",
    "if skew(arr, bias =False) > 0:\n",
    "    print('Right Skewed')\n",
    "else:\n",
    "    print('Left Skewed')"
   ]
  },
  {
   "cell_type": "markdown",
   "id": "297c7dab",
   "metadata": {},
   "source": [
    "## Kind Of Skewness"
   ]
  },
  {
   "cell_type": "code",
   "execution_count": 7,
   "id": "8d1fbe6d",
   "metadata": {},
   "outputs": [
    {
     "name": "stdout",
     "output_type": "stream",
     "text": [
      "Right Skewed\n"
     ]
    }
   ],
   "source": [
    "import numpy as np\n",
    "arr = [212, 869, 220, 654, 511, 624, 420, 121, 428,\n",
    "       865, 799, 405, 230, 670, 870, 366, 99, 55, 489,\n",
    "       312, 493, 163, 221, 84, 144, 48, 375, 86, 168, 100]\n",
    "mean = np.mean(arr)\n",
    "median = np.median(arr)\n",
    "\n",
    "if mean> median:\n",
    "    print('Right Skewed')\n",
    "else:\n",
    "    print('Left Skewed')"
   ]
  },
  {
   "cell_type": "code",
   "execution_count": 8,
   "id": "4a02f218",
   "metadata": {},
   "outputs": [
    {
     "name": "stdout",
     "output_type": "stream",
     "text": [
      "Right Skewed\n"
     ]
    }
   ],
   "source": [
    "from scipy.stats import skew\n",
    "\n",
    "arr = [212, 869, 220, 654, 511, 624, 420, 121, 428,\n",
    "       865, 799, 405, 230, 670, 870, 366, 99, 55, 489,\n",
    "       312, 493, 163, 221, 84, 144, 48, 375, 86, 168, 100]\n",
    "\n",
    "if skew(arr, bias =False) > 0:\n",
    "    print('Right Skewed')\n",
    "else:\n",
    "    print('Left Skewed')"
   ]
  },
  {
   "cell_type": "markdown",
   "id": "bc358826",
   "metadata": {},
   "source": [
    "## Calculate Z Score"
   ]
  },
  {
   "cell_type": "code",
   "execution_count": 11,
   "id": "8871ded3",
   "metadata": {},
   "outputs": [
    {
     "name": "stdout",
     "output_type": "stream",
     "text": [
      "[-1.4, -1.2, -1.2, -0.2, 0.0, 0.0, 0.4, 0.6, 1.2, 1.8]\n"
     ]
    }
   ],
   "source": [
    "from scipy import stats\n",
    "arr = [6, 7, 7, 12, 13, 13, 15, 16, 19, 22]\n",
    "z = stats.zscore(arr)\n",
    "a = []\n",
    "for i in z:\n",
    "    a.append(round(i, 1))\n",
    "print(a)"
   ]
  },
  {
   "cell_type": "code",
   "execution_count": 10,
   "id": "a6d495ef",
   "metadata": {},
   "outputs": [
    {
     "name": "stdout",
     "output_type": "stream",
     "text": [
      "['-1.4', '-1.2', '-1.2', '-0.2', '0.0', '0.0', '0.4', '0.6', '1.2', '1.8']\n"
     ]
    }
   ],
   "source": [
    "## Open and read data file as specified in the question\n",
    "## Print the required output in given format\n",
    "import pandas as pd\n",
    "import numpy as np\n",
    "import scipy.stats as st\n",
    "data =np.array([6, 7, 7, 12, 13, 13, 15, 16, 19, 22])\n",
    "a=st.zscore(data)\n",
    "#b=np.round(a,1)\n",
    "print([format(i, '.1f') for i in a])"
   ]
  },
  {
   "cell_type": "markdown",
   "id": "c040aad4",
   "metadata": {},
   "source": [
    "## Standardize the Data"
   ]
  },
  {
   "cell_type": "code",
   "execution_count": 24,
   "id": "576dc2cf",
   "metadata": {},
   "outputs": [
    {
     "name": "stdout",
     "output_type": "stream",
     "text": [
      "0\n",
      "1\n"
     ]
    }
   ],
   "source": [
    "import numpy as np\n",
    "data = [567.45,572.45,572.45,589.12,613.87,615.78,628.45,644.87,650.45,652.20,\n",
    "        656.87,661.45,666.45,667.70,668.95,675.28,675.78,685.53,694.28,697.62,\n",
    "        705.78,705.87,708.12,711.03,714.03,716.03,722.28,728.12,728.70,729.03,730.12,\n",
    "        731.95,735.03,736.95,737.37,738.28,739.78,740.62,743.62,747.20,748.20,748.28,748.53,\n",
    "        750.03,752.12,754.70,755.03,758.37,760.53,764.03,769.28,775.45,781.20,781.70,785.62,792.78,\n",
    "        793.37,795.28,797.62,798.95,799.70,799.95,810.87,811.53,813.62,814.03,814.78,817.87,818.87,820.70,\n",
    "        821.12,825.62,828.62,841.45,842.03,842.87,849.62,874.70,878.78,897.45]\n",
    "\n",
    "# mean = np.mean(data)\n",
    "# std = np.std(data)\n",
    "# x = []\n",
    "# for i in data:\n",
    "#     x.append((i - mean / std))\n",
    "# print(int(np.mean(x)))\n",
    "# print(int(np.std(x)))\n",
    "\n",
    "Xstand = (data - np.mean(data))/np.std(data)\n",
    "print(int(np.mean(Xstand)))\n",
    "print(int(np.std(Xstand)))"
   ]
  },
  {
   "cell_type": "code",
   "execution_count": null,
   "id": "10384a36",
   "metadata": {},
   "outputs": [],
   "source": []
  }
 ],
 "metadata": {
  "kernelspec": {
   "display_name": "Python 3 (ipykernel)",
   "language": "python",
   "name": "python3"
  },
  "language_info": {
   "codemirror_mode": {
    "name": "ipython",
    "version": 3
   },
   "file_extension": ".py",
   "mimetype": "text/x-python",
   "name": "python",
   "nbconvert_exporter": "python",
   "pygments_lexer": "ipython3",
   "version": "3.9.12"
  }
 },
 "nbformat": 4,
 "nbformat_minor": 5
}
