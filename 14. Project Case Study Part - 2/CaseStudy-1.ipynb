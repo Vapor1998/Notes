{
 "cells": [
  {
   "cell_type": "code",
   "execution_count": 9,
   "metadata": {},
   "outputs": [
    {
     "name": "stdout",
     "output_type": "stream",
     "text": [
      "Bangalore 635\n",
      "Mumbai 449\n",
      "New Delhi 389\n",
      "Gurgaon 241\n",
      "Pune 91\n",
      "Noida 79\n",
      "Hyderabad 77\n",
      "Chennai 67\n",
      "Ahmedabad 35\n",
      "Jaipur 25\n"
     ]
    },
    {
     "data": {
      "image/png": "[encoded data removed]",
      "text/plain": [
       "<Figure size 432x288 with 1 Axes>"
      ]
     },
     "metadata": {
      "needs_background": "light"
     },
     "output_type": "display_data"
    }
   ],
   "source": [
    "import pandas as pd\n",
    "import numpy as np\n",
    "import matplotlib.pyplot as plt\n",
    "\n",
    "data = pd.read_csv('startup_funding.csv')\n",
    "df = data.copy()\n",
    "df = df.dropna(subset = [\"CityLocation\"])     ## This will drop NaN values from the CityLocation column\n",
    "\n",
    "\n",
    "df[\"CityLocation\"] = df[\"CityLocation\"].replace(['Delhi', 'bangalore','Pune / US','Bangalore / SFO','New Delhi / US','Bangalore/ Bangkok','Mumbai / NY','New Delhi/ Houston','Bangalore / Palo Alto','Gurgaon / SFO','Mumbai / UK','Noida / Singapore','Mumbai / Global','Pune/Seattle','Pune / Singapore','Chennai/ Singapore','Hyderabad/USA','New Delhi / California','Bangalore / USA','Bangalore / San Mateo','Pune / Dubai'],[\"New Delhi\", 'Bangalore','Pune','Bangalore','New Delhi', 'Bangalore','Mumbai','New Delhi','Bangalore','Gurgaon','Mumbai','Noida','Mumbai','Pune','Pune','Chennai','Hyderabad','New Delhi','Bangalore','Bangalore','Pune'])\n",
    "## Above part does the data cleaning where we correct the name of the cities.\n",
    "\n",
    "\n",
    "\n",
    "city = df[\"CityLocation\"]          ## Here we assigned the CityLocation column values to variable city.\n",
    "\n",
    "citys = city.value_counts()[:10]   ## Here we did the value counts of the city where we can identify about the counts\n",
    "                                   ## of the location where startups received fundings.\n",
    "                    \n",
    "loc = citys.index\n",
    "count = citys.values\n",
    "\n",
    "    \n",
    "##loca = ['Bangalore', 'Mumbai', 'New Delhi', 'Gurgaon', 'Noida']\n",
    "##counts = [635, 449, 389, 241, 79]\n",
    "\n",
    "for i in range(len(loc)):      ##  This for loop will print top 10 cities where startups received maximum number \n",
    "                               ## of funding rounds.\n",
    "        \n",
    "    print(loc[i], count[i])\n",
    "    \n",
    "    \n",
    "\n",
    "## Plotting Graph\n",
    "plt.bar(loc, count)\n",
    "plt.xticks(rotation = 90)\n",
    "plt.xlabel('Citys')\n",
    "plt.ylabel('No of Funding Rounds')\n",
    "plt.title('Bar Graph')\n",
    "\n",
    "plt.show()\n",
    "\n"
   ]
  },
  {
   "cell_type": "markdown",
   "metadata": {},
   "source": [
    "\n",
    "Approach  \n",
    "\n",
    "1. First we Opened the File and checked whether NaN values exist in the required column or not.  \n",
    "2. If yes, then we dropped NaN values.  \n",
    "3. Then we did Data Cleaning on the required cities and then we did value counts where we counted the  \n",
    "   locations where startup received fundings.\n",
    "4. Then we printed the locations and then plotted the graph as required.\n",
    "\n",
    "\n",
    "\n",
    "We have found the location where startup received maximum  funding rounds and that is Bangalore.\n",
    "\n",
    "\n",
    "\n"
   ]
  },
  {
   "cell_type": "code",
   "execution_count": null,
   "metadata": {},
   "outputs": [],
   "source": []
  }
 ],
 "metadata": {
  "kernelspec": {
   "display_name": "Python 3",
   "language": "python",
   "name": "python3"
  },
  "language_info": {
   "codemirror_mode": {
    "name": "ipython",
    "version": 3
   },
   "file_extension": ".py",
   "mimetype": "text/x-python",
   "name": "python",
   "nbconvert_exporter": "python",
   "pygments_lexer": "ipython3",
   "version": "3.8.5"
  }
 },
 "nbformat": 4,
 "nbformat_minor": 4
}
