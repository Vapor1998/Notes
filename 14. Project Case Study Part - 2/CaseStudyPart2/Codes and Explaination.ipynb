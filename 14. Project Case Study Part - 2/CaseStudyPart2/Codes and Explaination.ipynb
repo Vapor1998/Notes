{
 "cells": [
  {
   "cell_type": "markdown",
   "metadata": {},
   "source": [
    "## Question 1"
   ]
  },
  {
   "cell_type": "code",
   "execution_count": 15,
   "metadata": {},
   "outputs": [
    {
     "data": {
      "image/png": "[encoded data removed]",
      "text/plain": [
       "<Figure size 432x288 with 1 Axes>"
      ]
     },
     "metadata": {
      "needs_background": "light"
     },
     "output_type": "display_data"
    },
    {
     "name": "stdout",
     "output_type": "stream",
     "text": [
      "Bangalore 635\n",
      "Mumbai 449\n",
      "NCR 709\n"
     ]
    }
   ],
   "source": [
    "import pandas as pd\n",
    "import numpy as np\n",
    "import matplotlib.pyplot as plt\n",
    "\n",
    "data = pd.read_csv('startup_funding.csv')\n",
    "df = data.copy()\n",
    "df = df.dropna(subset = [\"CityLocation\"])     ## This will drop NaN values from the CityLocation column\n",
    "\n",
    "\n",
    "df[\"CityLocation\"] = df[\"CityLocation\"].replace(['Delhi', 'bangalore','Pune / US','Bangalore / SFO','New Delhi / US','Bangalore/ Bangkok','Mumbai / NY','New Delhi/ Houston','Bangalore / Palo Alto','Gurgaon / SFO','Mumbai / UK','Noida / Singapore','Mumbai / Global','Pune/Seattle','Pune / Singapore','Chennai/ Singapore','Hyderabad/USA','New Delhi / California','Bangalore / USA','Bangalore / San Mateo','Pune / Dubai'],[\"New Delhi\", 'Bangalore','Pune','Bangalore','New Delhi', 'Bangalore','Mumbai','New Delhi','Bangalore','Gurgaon','Mumbai','Noida','Mumbai','Pune','Pune','Chennai','Hyderabad','New Delhi','Bangalore','Bangalore','Pune'])\n",
    "## Above part does the data cleaning where we correct the name of the cities.\n",
    "\n",
    "\n",
    "\n",
    "city = df[\"CityLocation\"]          ## Here we assigned the CityLocation column values to variable city.\n",
    "\n",
    "citys = city.value_counts()[:10]   ## Here we did the value counts of the city where we can identify about the counts\n",
    "                                   ## of the location where startups received fundings.\n",
    "                    \n",
    "loc = citys.index\n",
    "count = citys.values\n",
    "\n",
    "    \n",
    "##loca = ['Bangalore', 'Mumbai', 'New Delhi', 'Gurgaon', 'Noida']\n",
    "##counts = [635, 449, 389, 241, 79]\n",
    "\n",
    "\n",
    "\n",
    "    \n",
    "c = ['Bangalore', 'Mumbai', 'NCR']\n",
    "p = [635, 449, 709]\n",
    "## Plotting Graph\n",
    "plt.bar(c, p)\n",
    "plt.xticks(rotation = 90)\n",
    "plt.xlabel('Citys')\n",
    "plt.ylabel('No of Funding Rounds')\n",
    "plt.title('Bar Graph')\n",
    "\n",
    "plt.show()\n",
    "\n",
    "for i in range(len(c)):\n",
    "    print(c[i],p[i])\n"
   ]
  },
  {
   "cell_type": "markdown",
   "metadata": {},
   "source": [
    "Approach  \n",
    "\n",
    "1. First we Opened the File and checked whether NaN values exist in the required column or not.  \n",
    "2. If yes, then we dropped NaN values.  \n",
    "3. Then we did Data Cleaning on the required cities and then we did value counts where we counted the  \n",
    "   locations where startup received fundings.\n",
    "4. Then we printed the locations and then plotted the graph as required.\n",
    "\n",
    "\n",
    "\n",
    "We have found the location where startup received maximum  funding rounds and that is Bangalore.\n",
    "\n",
    "\n",
    "\n"
   ]
  },
  {
   "cell_type": "markdown",
   "metadata": {},
   "source": [
    "## Question 2"
   ]
  },
  {
   "cell_type": "code",
   "execution_count": 16,
   "metadata": {},
   "outputs": [
    {
     "name": "stdout",
     "output_type": "stream",
     "text": [
      "Sequoia Capital 64\n",
      "Accel Partners 53\n",
      "Kalaari Capital 44\n",
      "SAIF Partners 41\n",
      "Indian Angel Network 40\n"
     ]
    },
    {
     "data": {
      "image/png": "[encoded data removed]",
      "text/plain": [
       "<Figure size 432x288 with 1 Axes>"
      ]
     },
     "metadata": {
      "needs_background": "light"
     },
     "output_type": "display_data"
    }
   ],
   "source": [
    "import pandas as pd\n",
    "import numpy as np\n",
    "import matplotlib.pyplot as plt\n",
    "\n",
    "data = pd.read_csv('startup_funding.csv')\n",
    "df = data.copy()\n",
    "a = df['InvestorsName'].str.split(',')  ## Here, the data was in the form of complete string and each name was \n",
    "                                        ## splitted by comma inside the string, so we\n",
    "                                        ## splitted the data by ',' and assigned it to variable a.\n",
    "                                        ## So the data becomes in the form of string, and inside it, \n",
    "                                        ## each string is seprated by comma.\n",
    "        \n",
    "        \n",
    "arr = []                               ## Here we created an empty array.\n",
    "\n",
    "a = list(a)                            ## To work on that column, we converted that value to list.\n",
    "\n",
    "\n",
    "for i in a:                            ## Now, we Iterated over each elements of list a where we have \n",
    "                                       ## have values of investors in the form of string.\n",
    "                                       ## The slight problem I faced in this approach is that while converting \n",
    "                                       ## a to list, the column 'InvestorsName' was not dropping NaN values.\n",
    "                                       ## And the type of NaN value was surprisingly of type 'float'.\n",
    "                                       ## This is maybe because i converted it to array or some other reasons.\n",
    "                                       \n",
    "                \n",
    "                \n",
    "    if type(i) != float:               ## So to not include it, we first check if string has multiple investor or \n",
    "                                       ## single investor, to check that, we first check if type of 'i', i.e. \n",
    "                                       ## individual element of a is Float or string, if it is not float, it means \n",
    "                                       ## it is string with multiple investors, So we iterate over it and then we append\n",
    "                                       ## it to array.\n",
    "                                                    \n",
    "        for j in i:\n",
    "            arr.append(j)\n",
    "    else:                              ## If it is of type float, it means it is NaN so we also append it to the array.\n",
    "        arr.append(i)\n",
    "        \n",
    "        \n",
    "df2 = pd.DataFrame(arr)               ## Now, in the array, we have all the names of the investors separated,\n",
    "                                      ## So we make dataframe of that array and then if we want, we can remove \n",
    "                                      ## NaN values or we can not.\n",
    "        \n",
    "                                                \n",
    "a = df2[0]\n",
    "b = a.str.lstrip()                   ## As we created the dataframe, we saw the whitespaces on the first character of string.\n",
    "                                     ## So here we removed the whitespaces from the first index of string.\n",
    "\n",
    "c = b.value_counts()[:5]             ## Here we did value counts and here, we can manually discard the NaN count.\n",
    "                                \n",
    "d = c.index\n",
    "e = c.values\n",
    "for i in range(len(e)):         ## Here we printed the investors name. \n",
    "    print(d[i], e[i])\n",
    "\n",
    "    \n",
    "    \n",
    "## Here we plotted the graph.\n",
    "plt.bar(d,e)\n",
    "plt.xticks(rotation = 90)\n",
    "plt.xlabel(\"Investors\")\n",
    "plt.ylabel('No of Fundings')\n",
    "plt.show()"
   ]
  },
  {
   "cell_type": "markdown",
   "metadata": {},
   "source": [
    "Approach  \n",
    "1. First i opened the file.\n",
    "2. Then Here, the data was in the form of complete string and each name was \n",
    "   splitted by comma inside the string, so we splitted the data by ',' and assigned it to variable a.\n",
    "3. Then we created empty array\n",
    "4. To work on column a, we converted it into list.\n",
    "5. Now, we Iterated over each elements of list a where we have have values of investors in the form of string.\n",
    "   The slight problem I faced in this approach is that while converting a to list, the column 'InvestorsName' was not dropping    NaN values.\n",
    "   And the type of NaN value was surprisingly of type 'float'.\n",
    "   This is maybe because i converted it to array or some other reasons.\n",
    "6. So to not include it, we first check if string has multiple investor or single investor, to check that, we first check if      type of 'i', i.e. individual element of a is Float or string, if it is not float, it means \n",
    "   it is string with multiple investors, So we iterate over it and then we append it to array.\n",
    "   If it is of type float, it means it is NaN so we also append it to the array.\n",
    "\n",
    "7. Now, in the array, we have all the names of the investors separated,\n",
    "   So we make dataframe of that array and then if we want, we can remove NaN values or we can not.                             8. As we created the dataframe, we saw the whitespaces on the first character of string.\n",
    "   So we removed the whitespaces from the first index of string.                                                       \n",
    "9. Then we did value counts and now, we can manually discard the NaN count.\n",
    "10. Then we print the investors name from value counts.\n",
    "\n",
    "\n",
    "We found the top 5 investors and they are   \n",
    "Sequoia Capital   \n",
    "Accel Partners   \n",
    "Kalaari Capital   \n",
    "SAIF Partners   \n",
    "Indian Angel Network  "
   ]
  },
  {
   "cell_type": "code",
   "execution_count": null,
   "metadata": {},
   "outputs": [],
   "source": []
  },
  {
   "cell_type": "code",
   "execution_count": null,
   "metadata": {},
   "outputs": [],
   "source": []
  },
  {
   "cell_type": "markdown",
   "metadata": {},
   "source": [
    "## Question 3"
   ]
  },
  {
   "cell_type": "code",
   "execution_count": 17,
   "metadata": {},
   "outputs": [
    {
     "name": "stdout",
     "output_type": "stream",
     "text": [
      "        Top 5 Investors  No. of Investment in Different Startup\n",
      "0       Sequoia Capital                                      48\n",
      "1        Accel Partners                                      47\n",
      "2       Kalaari Capital                                      41\n",
      "3  Indian Angel Network                                      40\n",
      "4        Blume Ventures                                      36\n"
     ]
    },
    {
     "data": {
      "image/png": "[encoded data removed]",
      "text/plain": [
       "<Figure size 432x288 with 1 Axes>"
      ]
     },
     "metadata": {
      "needs_background": "light"
     },
     "output_type": "display_data"
    }
   ],
   "source": [
    "import pandas as pd\n",
    "import numpy as np\n",
    "import matplotlib.pyplot as plt\n",
    "\n",
    "data = pd.read_csv('startup_funding.csv')\n",
    "df = data.copy()\n",
    "df[\"StartupName\"].replace(\"Olacabs\",\"Ola\",inplace=True)\n",
    "df[\"StartupName\"].replace(\"Ola Cabs\",\"Ola\",inplace=True)\n",
    "df[\"StartupName\"].replace(\"Flipkart.com\",\"Flipkart\",inplace=True)\n",
    "df[\"StartupName\"].replace(\"Paytm Marketplace\",\"Paytm\",inplace=True)\n",
    "df[\"StartupName\"].replace(\"Oyo Rooms\",\"Oyo\",inplace=True)\n",
    "df[\"StartupName\"].replace(\"Oyorooms\",\"Oyo\",inplace=True)\n",
    "df[\"StartupName\"].replace(\"OyoRooms\",\"Oyo\",inplace=True)\n",
    "df[\"StartupName\"].replace(\"OYo Rooms\",\"Oyo\",inplace=True)\n",
    "df[\"StartupName\"].replace(\"OYO Rooms\",\"Oyo\",inplace=True)\n",
    "\n",
    "\n",
    "# Creating data frame consisting of only 2 columns \"StartupName\" and \"InvestorsName\"\n",
    "# Dropping NA values\n",
    "\n",
    "df = df[[\"StartupName\",\"InvestorsName\"]]\n",
    "df.dropna(inplace=True)\n",
    "\n",
    "# Creating 2 list for StartupName and InvestorsName\n",
    "\n",
    "startup_name=list(df[\"StartupName\"].values)\n",
    "investor_name=list(df[\"InvestorsName\"].values)\n",
    "\n",
    "# Traversing in the investor_name list , splitting by \",\" and applying the strip()\n",
    "i=0\n",
    "while i<len(investor_name):\n",
    "    if ',' in investor_name[i] :\n",
    "        l1 = investor_name[i].split(',')\n",
    "        j = i \n",
    "        investor_name[j] = l1[0]\n",
    "        j = j + 1\n",
    "        for k in range(1,len(l1)): \n",
    "            investor_name.insert(j,l1[k].strip())\n",
    "            startup_name.insert(j,startup_name[i])\n",
    "            j = j + 1\n",
    "        i = i + len(l1) - 1\n",
    "    i = i + 1\n",
    "\n",
    "# Creating a new list l2 and appending the investor name with their invested startup name \n",
    "# Creating list with only unique values by set() func.\n",
    "\n",
    "l2 = []\n",
    "for i in range(len(startup_name)):\n",
    "    l2.append(investor_name[i]+\"with\"+startup_name[i])\n",
    "l2 = list(set(l2))\n",
    "\n",
    "# Creating a seperate list for the investor name \n",
    "\n",
    "l3 = []\n",
    "for i in l2:\n",
    "    i = i.split('with')\n",
    "    l3.append(i[0].strip())\n",
    "\n",
    "# Creating a new series with list of investor name \n",
    "# Value_counts().sort_values(ascending=False) gives the count of no. of fundings with their investor name\n",
    "# Dropping the empty values and printing the top5 investors name with their fundings \n",
    "\n",
    "df_new = pd.Series(l3)\n",
    "x = df_new.value_counts().sort_values(ascending=False)\n",
    "x.drop(\"\",inplace=True)\n",
    "x = x[0:5]\n",
    "df = pd.DataFrame(x.index,columns=[\"Top 5 Investors\"])\n",
    "df[\"No. of Investment in Different Startup\"] = x.values\n",
    "print(df)\n",
    "\n",
    "\n",
    "## Extracting name here for plotting graph\n",
    "\n",
    "x1 = ['Sequoia Capital', 'Accel Partners' ,'Kalaari Capital', 'Indian Angel Network', 'Blume Ventures']\n",
    "y1 = [48, 47, 41, 40, 36]\n",
    "\n",
    "plt.bar(x1, y1)\n",
    "plt.xticks(rotation = 90)\n",
    "plt.xlabel(\"Investors\")\n",
    "plt.ylabel('No of Fundings')\n",
    "plt.show()\n",
    "\n"
   ]
  },
  {
   "cell_type": "markdown",
   "metadata": {},
   "source": [
    "Approach  \n",
    "1. Creating data frame consisting of only 2 columns \"StartupName\" and \"InvestorsName\"\n",
    "2. Then we Drop NA values.\n",
    "3. Then we create 2 list for StartupName and InvestorsName from which we extract the investors name.\n",
    "4. Traversing in the investor_name list , splitting by \",\" and applying the strip() so that \n",
    "   we can get the correct investors name.\n",
    "5. Creating a new list l2 and appending the investor name with their invested startup name \n",
    "6. Creating list with only unique values by set() func.\n",
    "   This will create a unique values of investor name for particular startup.\n",
    "7. Creating a seperate list for the investor name. \n",
    "8. Creating a new series with list of investor name. \n",
    "   Value_counts().sort_values(ascending=False) gives the count of no. of fundings with their investor name\n",
    "   Dropping the empty values and printing the top5 investors name with their fundings.\n",
    "9. Then we extract values for plotting graph.\n"
   ]
  },
  {
   "cell_type": "code",
   "execution_count": null,
   "metadata": {},
   "outputs": [],
   "source": []
  },
  {
   "cell_type": "code",
   "execution_count": null,
   "metadata": {},
   "outputs": [],
   "source": []
  },
  {
   "cell_type": "markdown",
   "metadata": {},
   "source": [
    "## Question 4"
   ]
  },
  {
   "cell_type": "code",
   "execution_count": 18,
   "metadata": {},
   "outputs": [
    {
     "name": "stdout",
     "output_type": "stream",
     "text": [
      "Top 5 Investors  No. of Investment in Different Startup\n",
      "0 Indian Angel Network 33\n",
      "1 Rajan Anandan 23\n",
      "2 LetsVenture 16\n",
      "3 Anupam Mittal 16\n",
      "4 Kunal Shah 14\n"
     ]
    },
    {
     "data": {
      "image/png": "[encoded data removed]",
      "text/plain": [
       "<Figure size 432x288 with 1 Axes>"
      ]
     },
     "metadata": {
      "needs_background": "light"
     },
     "output_type": "display_data"
    }
   ],
   "source": [
    "import pandas as pd\n",
    "import numpy as np\n",
    "import matplotlib.pyplot as plt\n",
    "\n",
    "data = pd.read_csv('startup_funding.csv')\n",
    "df = data.copy()\n",
    "df[\"StartupName\"].replace(\"Olacabs\",\"Ola\",inplace=True)\n",
    "df[\"StartupName\"].replace(\"Ola Cabs\",\"Ola\",inplace=True)\n",
    "df[\"StartupName\"].replace(\"Flipkart.com\",\"Flipkart\",inplace=True)\n",
    "df[\"StartupName\"].replace(\"Paytm Marketplace\",\"Paytm\",inplace=True)\n",
    "df[\"StartupName\"].replace(\"Oyo Rooms\",\"Oyo\",inplace=True)\n",
    "df[\"StartupName\"].replace(\"Oyorooms\",\"Oyo\",inplace=True)\n",
    "df[\"StartupName\"].replace(\"OyoRooms\",\"Oyo\",inplace=True)\n",
    "df[\"StartupName\"].replace(\"OYo Rooms\",\"Oyo\",inplace=True)\n",
    "df[\"StartupName\"].replace(\"OYO Rooms\",\"Oyo\",inplace=True)\n",
    "\n",
    "\n",
    "# Creating data frame consisting of only 2 columns \"StartupName\" and \"InvestorsName\"\n",
    "# Dropping NA values\n",
    "\n",
    "df = df[[\"StartupName\",\"InvestorsName\", 'InvestmentType']]\n",
    "df.dropna(inplace=True)\n",
    "\n",
    "## We create dataframe where investmenttype is seed funding and crowd funding.\n",
    "ab = df[(df[\"InvestmentType\"] == 'Seed Funding') | (df['InvestmentType']== 'Crowd Funding')]  \n",
    "\n",
    "\n",
    "# Creating 2 list for StartupName and InvestorsName\n",
    "\n",
    "startup_name=list(ab[\"StartupName\"].values)\n",
    "investor_name=list(ab[\"InvestorsName\"].values)\n",
    "\n",
    "# Traversing in the investor_name list , splitting by \",\" and applying the strip()\n",
    "i=0\n",
    "while i<len(investor_name):\n",
    "    if ',' in investor_name[i] :\n",
    "        l1 = investor_name[i].split(',')\n",
    "        j = i \n",
    "        investor_name[j] = l1[0]\n",
    "        j = j + 1\n",
    "        for k in range(1,len(l1)): \n",
    "            investor_name.insert(j,l1[k].strip())\n",
    "            startup_name.insert(j,startup_name[i])\n",
    "            j = j + 1\n",
    "        i = i + len(l1) - 1\n",
    "    i = i + 1\n",
    "\n",
    "# Creating a new list l2 and appending the investor name with their invested startup name \n",
    "# Creating list with only unique values by set() func.\n",
    "\n",
    "l2 = []\n",
    "for i in range(len(startup_name)):\n",
    "    l2.append(investor_name[i]+\"with\"+startup_name[i])\n",
    "l2 = list(set(l2))\n",
    "\n",
    "# Creating a seperate list for the investor name \n",
    "\n",
    "l3 = []\n",
    "for i in l2:\n",
    "    i = i.split('with')\n",
    "    l3.append(i[0].strip())\n",
    "\n",
    "# Creating a new series with list of investor name \n",
    "# Value_counts().sort_values(ascending=False) gives the count of no. of fundings with their investor name\n",
    "# Dropping the empty values and printing the top5 investors name with their fundings \n",
    "\n",
    "df_new = pd.Series(l3)\n",
    "x = df_new.value_counts().sort_values(ascending=False)\n",
    "x.drop(\"\",inplace=True)\n",
    "x = x[0:10]\n",
    "df = pd.DataFrame(x.index,columns=[\"Top 5 Investors\"])\n",
    "df[\"No. of Investment in Different Startup\"] = x.values\n",
    "\n",
    "\n",
    "\n",
    "\n",
    "x1 = ['Indian Angel Network', 'Rajan Anandan', 'LetsVenture', 'Anupam Mittal', 'Kunal Shah']\n",
    "y1 = [33, 23, 16, 16, 14]\n",
    "\n",
    "print(\"Top 5 Investors  No. of Investment in Different Startup\")\n",
    "for i in range(len(y1)):\n",
    "    print(i,x1[i],y1[i])\n",
    "\n",
    "plt.bar(x1, y1)\n",
    "plt.xticks(rotation = 90)\n",
    "plt.xlabel('Investors')\n",
    "plt.ylabel('No of Fundings')\n",
    "plt.show()\n"
   ]
  },
  {
   "cell_type": "markdown",
   "metadata": {},
   "source": [
    "Approach  \n",
    "1. Creating data frame consisting of only 2 columns \"StartupName\" and \"InvestorsName\"\n",
    "2. Then we Drop NA values.\n",
    "   Then We create dataframe where investmenttype is seed funding and crowd funding.\n",
    "\n",
    "\n",
    "3. Then we create 2 list for StartupName and InvestorsName from which we extract the investors name.\n",
    "4. Traversing in the investor_name list , splitting by \",\" and applying the strip() so that \n",
    "   we can get the correct investors name.\n",
    "5. Creating a new list l2 and appending the investor name with their invested startup name \n",
    "6. Creating list with only unique values by set() func.\n",
    "   This will create a unique values of investor name for particular startup.\n",
    "7. Creating a seperate list for the investor name. \n",
    "8. Creating a new series with list of investor name. \n",
    "   Value_counts().sort_values(ascending=False) gives the count of no. of fundings with their investor name\n",
    "   Dropping the empty values and printing the top5 investors name with their fundings.\n",
    "9. Then we extract values for plotting graph.\n"
   ]
  },
  {
   "cell_type": "code",
   "execution_count": null,
   "metadata": {},
   "outputs": [],
   "source": []
  },
  {
   "cell_type": "code",
   "execution_count": null,
   "metadata": {},
   "outputs": [],
   "source": []
  },
  {
   "cell_type": "markdown",
   "metadata": {},
   "source": [
    "## Question 5"
   ]
  },
  {
   "cell_type": "code",
   "execution_count": 19,
   "metadata": {},
   "outputs": [
    {
     "name": "stdout",
     "output_type": "stream",
     "text": [
      "   Top 5 Investors  No. of Investment in Different Startup\n",
      "0  Sequoia Capital                                      45\n",
      "1   Accel Partners                                      43\n",
      "2  Kalaari Capital                                      35\n",
      "3   Blume Ventures                                      26\n",
      "4    SAIF Partners                                      24\n"
     ]
    },
    {
     "data": {
      "image/png": "[encoded data removed]",
      "text/plain": [
       "<Figure size 432x288 with 1 Axes>"
      ]
     },
     "metadata": {
      "needs_background": "light"
     },
     "output_type": "display_data"
    }
   ],
   "source": [
    "import pandas as pd\n",
    "import numpy as np\n",
    "import matplotlib.pyplot as plt\n",
    "\n",
    "data = pd.read_csv('startup_funding.csv')\n",
    "df = data.copy()\n",
    "df[\"StartupName\"].replace(\"Olacabs\",\"Ola\",inplace=True)\n",
    "df[\"StartupName\"].replace(\"Ola Cabs\",\"Ola\",inplace=True)\n",
    "df[\"StartupName\"].replace(\"Flipkart.com\",\"Flipkart\",inplace=True)\n",
    "df[\"StartupName\"].replace(\"Paytm Marketplace\",\"Paytm\",inplace=True)\n",
    "df[\"StartupName\"].replace(\"Oyo Rooms\",\"Oyo\",inplace=True)\n",
    "df[\"StartupName\"].replace(\"Oyorooms\",\"Oyo\",inplace=True)\n",
    "df[\"StartupName\"].replace(\"OyoRooms\",\"Oyo\",inplace=True)\n",
    "df[\"StartupName\"].replace(\"OYo Rooms\",\"Oyo\",inplace=True)\n",
    "df[\"StartupName\"].replace(\"OYO Rooms\",\"Oyo\",inplace=True)\n",
    "\n",
    "\n",
    "# Creating data frame consisting of only 2 columns \"StartupName\" and \"InvestorsName\"\n",
    "# Dropping NA values\n",
    "\n",
    "df = df[[\"StartupName\",\"InvestorsName\", 'InvestmentType']]\n",
    "df.dropna(inplace=True)\n",
    "ab = df[df[\"InvestmentType\"] == 'Private Equity']  \n",
    "\n",
    "\n",
    "# Creating 2 list for StartupName and InvestorsName\n",
    "\n",
    "startup_name=list(ab[\"StartupName\"].values)\n",
    "investor_name=list(ab[\"InvestorsName\"].values)\n",
    "\n",
    "# Traversing in the investor_name list , splitting by \",\" and applying the strip()\n",
    "i=0\n",
    "while i<len(investor_name):\n",
    "    if ',' in investor_name[i] :\n",
    "        l1 = investor_name[i].split(',')\n",
    "        j = i \n",
    "        investor_name[j] = l1[0]\n",
    "        j = j + 1\n",
    "        for k in range(1,len(l1)): \n",
    "            investor_name.insert(j,l1[k].strip())\n",
    "            startup_name.insert(j,startup_name[i])\n",
    "            j = j + 1\n",
    "        i = i + len(l1) - 1\n",
    "    i = i + 1\n",
    "\n",
    "# Creating a new list l2 and appending the investor name with their invested startup name \n",
    "# Creating list with only unique values by set() func.\n",
    "\n",
    "l2 = []\n",
    "for i in range(len(startup_name)):\n",
    "    l2.append(investor_name[i]+\"with\"+startup_name[i])\n",
    "l2 = list(set(l2))\n",
    "\n",
    "# Creating a seperate list for the investor name \n",
    "\n",
    "l3 = []\n",
    "for i in l2:\n",
    "    i = i.split('with')\n",
    "    l3.append(i[0].strip())\n",
    "\n",
    "# Creating a new series with list of investor name \n",
    "# Value_counts().sort_values(ascending=False) gives the count of no. of fundings with their investor name\n",
    "# Dropping the empty values and printing the top5 investors name with their fundings \n",
    "\n",
    "df_new = pd.Series(l3)\n",
    "x = df_new.value_counts().sort_values(ascending=False)\n",
    "x.drop(\"\",inplace=True)\n",
    "x = x[0:5]\n",
    "df = pd.DataFrame(x.index,columns=[\"Top 5 Investors\"])\n",
    "df[\"No. of Investment in Different Startup\"] = x.values\n",
    "print(df)\n",
    "\n",
    "## Extracting the names for plotting graph manually\n",
    "\n",
    "x1 = ['Sequoia Capital', 'Accel Partners', 'Kalaari Capital', 'Blume Ventures', 'SAIF Partners']\n",
    "y1 = [45, 43, 35, 26, 24]\n",
    "\n",
    "\n",
    "\n",
    "plt.bar(x1, y1)\n",
    "plt.xticks(rotation = 90)\n",
    "plt.xlabel('Investors')\n",
    "plt.ylabel('No of Fundings')\n",
    "plt.show()"
   ]
  },
  {
   "cell_type": "markdown",
   "metadata": {},
   "source": [
    "Approach  \n",
    "1. Creating data frame consisting of only 2 columns \"StartupName\" and \"InvestorsName\"\n",
    "2. Then we Drop NA values.\n",
    "   Then We create dataframe where investmenttype is Private Equity.\n",
    "\n",
    "\n",
    "3. Then we create 2 list for StartupName and InvestorsName from which we extract the investors name.\n",
    "4. Traversing in the investor_name list , splitting by \",\" and applying the strip() so that \n",
    "   we can get the correct investors name.\n",
    "5. Creating a new list l2 and appending the investor name with their invested startup name \n",
    "6. Creating list with only unique values by set() func.\n",
    "   This will create a unique values of investor name for particular startup.\n",
    "7. Creating a seperate list for the investor name. \n",
    "8. Creating a new series with list of investor name. \n",
    "   Value_counts().sort_values(ascending=False) gives the count of no. of fundings with their investor name\n",
    "   Dropping the empty values and printing the top5 investors name with their fundings.\n",
    "9. Then we extract values for plotting graph.\n"
   ]
  }
 ],
 "metadata": {
  "kernelspec": {
   "display_name": "Python 3",
   "language": "python",
   "name": "python3"
  },
  "language_info": {
   "codemirror_mode": {
    "name": "ipython",
    "version": 3
   },
   "file_extension": ".py",
   "mimetype": "text/x-python",
   "name": "python",
   "nbconvert_exporter": "python",
   "pygments_lexer": "ipython3",
   "version": "3.8.5"
  }
 },
 "nbformat": 4,
 "nbformat_minor": 4
}
