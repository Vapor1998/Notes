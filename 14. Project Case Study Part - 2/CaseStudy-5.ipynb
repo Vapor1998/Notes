{
 "cells": [
  {
   "cell_type": "code",
   "execution_count": 4,
   "metadata": {},
   "outputs": [
    {
     "name": "stdout",
     "output_type": "stream",
     "text": [
      "   Top 5 Investors  No. of Investment in Different Startup\n",
      "0  Sequoia Capital                                      45\n",
      "1   Accel Partners                                      43\n",
      "2  Kalaari Capital                                      35\n",
      "3   Blume Ventures                                      26\n",
      "4    SAIF Partners                                      24\n",
      "[45, 43, 35, 26, 24]\n"
     ]
    },
    {
     "data": {
      "image/png": "[encoded data removed]",
      "text/plain": [
       "<Figure size 432x288 with 1 Axes>"
      ]
     },
     "metadata": {
      "needs_background": "light"
     },
     "output_type": "display_data"
    }
   ],
   "source": [
    "import pandas as pd\n",
    "import numpy as np\n",
    "import matplotlib.pyplot as plt\n",
    "\n",
    "data = pd.read_csv('startup_funding.csv')\n",
    "df = data.copy()\n",
    "df[\"StartupName\"].replace(\"Olacabs\",\"Ola\",inplace=True)\n",
    "df[\"StartupName\"].replace(\"Ola Cabs\",\"Ola\",inplace=True)\n",
    "df[\"StartupName\"].replace(\"Flipkart.com\",\"Flipkart\",inplace=True)\n",
    "df[\"StartupName\"].replace(\"Paytm Marketplace\",\"Paytm\",inplace=True)\n",
    "df[\"StartupName\"].replace(\"Oyo Rooms\",\"Oyo\",inplace=True)\n",
    "df[\"StartupName\"].replace(\"Oyorooms\",\"Oyo\",inplace=True)\n",
    "df[\"StartupName\"].replace(\"OyoRooms\",\"Oyo\",inplace=True)\n",
    "df[\"StartupName\"].replace(\"OYo Rooms\",\"Oyo\",inplace=True)\n",
    "df[\"StartupName\"].replace(\"OYO Rooms\",\"Oyo\",inplace=True)\n",
    "\n",
    "\n",
    "# Creating data frame consisting of only 2 columns \"StartupName\" and \"InvestorsName\"\n",
    "# Dropping NA values\n",
    "\n",
    "df = df[[\"StartupName\",\"InvestorsName\", 'InvestmentType']]\n",
    "df.dropna(inplace=True)\n",
    "ab = df[df[\"InvestmentType\"] == 'Private Equity']  \n",
    "\n",
    "\n",
    "# Creating 2 list for StartupName and InvestorsName\n",
    "\n",
    "startup_name=list(ab[\"StartupName\"].values)\n",
    "investor_name=list(ab[\"InvestorsName\"].values)\n",
    "\n",
    "# Traversing in the investor_name list , splitting by \",\" and applying the strip()\n",
    "i=0\n",
    "while i<len(investor_name):\n",
    "    if ',' in investor_name[i] :\n",
    "        l1 = investor_name[i].split(',')\n",
    "        j = i \n",
    "        investor_name[j] = l1[0]\n",
    "        j = j + 1\n",
    "        for k in range(1,len(l1)): \n",
    "            investor_name.insert(j,l1[k].strip())\n",
    "            startup_name.insert(j,startup_name[i])\n",
    "            j = j + 1\n",
    "        i = i + len(l1) - 1\n",
    "    i = i + 1\n",
    "\n",
    "# Creating a new list l2 and appending the investor name with their invested startup name \n",
    "# Creating list with only unique values by set() func.\n",
    "\n",
    "l2 = []\n",
    "for i in range(len(startup_name)):\n",
    "    l2.append(investor_name[i]+\"with\"+startup_name[i])\n",
    "l2 = list(set(l2))\n",
    "\n",
    "# Creating a seperate list for the investor name \n",
    "\n",
    "l3 = []\n",
    "for i in l2:\n",
    "    i = i.split('with')\n",
    "    l3.append(i[0].strip())\n",
    "\n",
    "# Creating a new series with list of investor name \n",
    "# Value_counts().sort_values(ascending=False) gives the count of no. of fundings with their investor name\n",
    "# Dropping the empty values and printing the top5 investors name with their fundings \n",
    "\n",
    "df_new = pd.Series(l3)\n",
    "x = df_new.value_counts().sort_values(ascending=False)\n",
    "x.drop(\"\",inplace=True)\n",
    "x = x[0:5]\n",
    "df = pd.DataFrame(x.index,columns=[\"Top 5 Investors\"])\n",
    "df[\"No. of Investment in Different Startup\"] = x.values\n",
    "print(df)\n",
    "\n",
    "## Extracting the names for plotting graph manually\n",
    "\n",
    "x1 = ['Sequoia Capital', 'Accel Partners', 'Kalaari Capital', 'Blume Ventures', 'SAIF Partners']\n",
    "y1 = [45, 43, 35, 26, 24]\n",
    "\n",
    "\n",
    "\n",
    "plt.bar(x1, y1)\n",
    "plt.xticks(rotation = 90)\n",
    "plt.xlabel('Investors')\n",
    "plt.ylabel('Investment')\n",
    "plt.show()"
   ]
  }
 ],
 "metadata": {
  "kernelspec": {
   "display_name": "Python 3",
   "language": "python",
   "name": "python3"
  },
  "language_info": {
   "codemirror_mode": {
    "name": "ipython",
    "version": 3
   },
   "file_extension": ".py",
   "mimetype": "text/x-python",
   "name": "python",
   "nbconvert_exporter": "python",
   "pygments_lexer": "ipython3",
   "version": "3.8.5"
  }
 },
 "nbformat": 4,
 "nbformat_minor": 4
}
