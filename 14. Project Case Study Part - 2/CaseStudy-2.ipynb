{
 "cells": [
  {
   "cell_type": "code",
   "execution_count": 7,
   "metadata": {},
   "outputs": [
    {
     "name": "stdout",
     "output_type": "stream",
     "text": [
      "Sequoia Capital 64\n",
      "Accel Partners 53\n",
      "Kalaari Capital 44\n",
      "SAIF Partners 41\n",
      "Indian Angel Network 40\n"
     ]
    },
    {
     "data": {
      "image/png": "[encoded data removed]",
      "text/plain": [
       "<Figure size 432x288 with 1 Axes>"
      ]
     },
     "metadata": {
      "needs_background": "light"
     },
     "output_type": "display_data"
    }
   ],
   "source": [
    "import pandas as pd\n",
    "import numpy as np\n",
    "import matplotlib.pyplot as plt\n",
    "\n",
    "data = pd.read_csv('startup_funding.csv')\n",
    "df = data.copy()\n",
    "a = df['InvestorsName'].str.split(',')  ## Here, the data was in the form of complete string and each name was \n",
    "                                        ## splitted by comma inside the string, so we\n",
    "                                        ## splitted the data by ',' and assigned it to variable a.\n",
    "                                        ## So the data becomes in the form of string, and inside it, \n",
    "                                        ## each string is seprated by comma.\n",
    "        \n",
    "        \n",
    "arr = []                               ## Here we created an empty array.\n",
    "\n",
    "a = list(a)                            ## To work on that column, we converted that value to list.\n",
    "\n",
    "\n",
    "for i in a:                            ## Now, we Iterated over each elements of list a where we have \n",
    "                                       ## have values of investors in the form of string.\n",
    "                                       ## The slight problem I faced in this approach is that while converting \n",
    "                                       ## a to list, the column 'InvestorsName' was not dropping NaN values.\n",
    "                                       ## And the type of NaN value was surprisingly of type 'float'.\n",
    "                                       ## This is maybe because i converted it to array or some other reasons.\n",
    "                                       \n",
    "                \n",
    "                \n",
    "    if type(i) != float:               ## So to not include it, we first check if string has multiple investor or \n",
    "                                       ## single investor, to check that, we first check if type of 'i', i.e. \n",
    "                                       ## individual element of a is Float or string, if it is not float, it means \n",
    "                                       ## it is string with multiple investors, So we iterate over it and then we append\n",
    "                                       ## it to array.\n",
    "                                                    \n",
    "        for j in i:\n",
    "            arr.append(j)\n",
    "    else:                              ## If it is of type float, it means it is NaN so we also append it to the array.\n",
    "        arr.append(i)\n",
    "        \n",
    "        \n",
    "df2 = pd.DataFrame(arr)               ## Now, in the array, we have all the names of the investors separated,\n",
    "                                      ## So we make dataframe of that array and then if we want, we can remove \n",
    "                                      ## NaN values or we can not.\n",
    "        \n",
    "                                                \n",
    "a = df2[0]\n",
    "b = a.str.lstrip()                   ## As we created the dataframe, we saw the whitespaces on the first character of string.\n",
    "                                     ## So here we removed the whitespaces from the first index of string.\n",
    "\n",
    "c = b.value_counts()[:5]             ## Here we did value counts and here, we can manually discard the NaN count.\n",
    "                                \n",
    "d = c.index\n",
    "e = c.values\n",
    "for i in range(len(e)):         ## Here we printed the investors name. \n",
    "    print(d[i], e[i])\n",
    "\n",
    "    \n",
    "    \n",
    "## Here we plotted the graph.\n",
    "plt.bar(d,e)\n",
    "plt.xticks(rotation = 90)\n",
    "plt.show()"
   ]
  },
  {
   "cell_type": "markdown",
   "metadata": {},
   "source": [
    "Approach  \n",
    "1. First i opened the file.\n",
    "2. Then Here, the data was in the form of complete string and each name was \n",
    "   splitted by comma inside the string, so we splitted the data by ',' and assigned it to variable a.\n",
    "3. Then we created empty array\n",
    "4. To work on column a, we converted it into list.\n",
    "5. Now, we Iterated over each elements of list a where we have have values of investors in the form of string.\n",
    "   The slight problem I faced in this approach is that while converting a to list, the column 'InvestorsName' was not dropping    NaN values.\n",
    "   And the type of NaN value was surprisingly of type 'float'.\n",
    "   This is maybe because i converted it to array or some other reasons.\n",
    "6. So to not include it, we first check if string has multiple investor or single investor, to check that, we first check if      type of 'i', i.e. individual element of a is Float or string, if it is not float, it means \n",
    "   it is string with multiple investors, So we iterate over it and then we append it to array.\n",
    "   If it is of type float, it means it is NaN so we also append it to the array.\n",
    "\n",
    "7. Now, in the array, we have all the names of the investors separated,\n",
    "   So we make dataframe of that array and then if we want, we can remove NaN values or we can not.                             8. As we created the dataframe, we saw the whitespaces on the first character of string.\n",
    "   So we removed the whitespaces from the first index of string.                                                       \n",
    "9. Then we did value counts and now, we can manually discard the NaN count.\n",
    "10. Then we print the investors name from value counts.\n",
    "\n",
    "\n",
    "We found the top 5 investors and they are   \n",
    "Sequoia Capital   \n",
    "Accel Partners   \n",
    "Kalaari Capital   \n",
    "SAIF Partners   \n",
    "Indian Angel Network  "
   ]
  }
 ],
 "metadata": {
  "kernelspec": {
   "display_name": "Python 3",
   "language": "python",
   "name": "python3"
  },
  "language_info": {
   "codemirror_mode": {
    "name": "ipython",
    "version": 3
   },
   "file_extension": ".py",
   "mimetype": "text/x-python",
   "name": "python",
   "nbconvert_exporter": "python",
   "pygments_lexer": "ipython3",
   "version": "3.8.5"
  }
 },
 "nbformat": 4,
 "nbformat_minor": 4
}
