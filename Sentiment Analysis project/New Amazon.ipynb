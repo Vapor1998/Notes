{
 "cells": [
  {
   "cell_type": "code",
   "execution_count": 84,
   "id": "9225fb1b",
   "metadata": {},
   "outputs": [],
   "source": [
    "from selenium import webdriver\n",
    "from selenium.webdriver.common.keys import Keys\n",
    "import time\n",
    "from selenium.common.exceptions import NoSuchElementException\n",
    "from selenium.common.exceptions import StaleElementReferenceException\n",
    "from selenium.common.exceptions import TimeoutException, ElementClickInterceptedException\n",
    "from selenium.common.exceptions import ElementNotInteractableException\n",
    "from selenium.webdriver.support.ui import WebDriverWait\n",
    "from selenium.webdriver.support import expected_conditions as EC\n",
    "from selenium.webdriver.common.by import By\n",
    "from selenium.webdriver.support.select import Select\n",
    "from selenium.webdriver.chrome.service import Service\n",
    "from webdriver_manager.chrome import ChromeDriverManager\n",
    "from selenium.webdriver.common.action_chains import ActionChains\n",
    "from bs4 import BeautifulSoup\n",
    "\n"
   ]
  },
  {
   "cell_type": "code",
   "execution_count": 85,
   "id": "8abe7f0d",
   "metadata": {},
   "outputs": [
    {
     "name": "stdout",
     "output_type": "stream",
     "text": [
      "himalaya face wash\n"
     ]
    }
   ],
   "source": [
    "search = input()"
   ]
  },
  {
   "cell_type": "code",
   "execution_count": 38,
   "id": "0278fab7",
   "metadata": {},
   "outputs": [
    {
     "name": "stdout",
     "output_type": "stream",
     "text": [
      "10\n"
     ]
    }
   ],
   "source": [
    "limit = int(input())"
   ]
  },
  {
   "cell_type": "code",
   "execution_count": 86,
   "id": "4257147c",
   "metadata": {},
   "outputs": [],
   "source": [
    "s = Service(ChromeDriverManager().install())\n",
    "\n",
    "driver = webdriver.Chrome(service = s)\n",
    "driver.get('https://www.amazon.in/')"
   ]
  },
  {
   "cell_type": "code",
   "execution_count": 87,
   "id": "cb31a55b",
   "metadata": {},
   "outputs": [],
   "source": [
    "un = WebDriverWait(driver, 10).until(EC.presence_of_element_located((By.XPATH,'//*[@id=\"twotabsearchtextbox\"]')))\n",
    "un.send_keys(search)\n",
    "time.sleep(2)\n",
    "un.send_keys(Keys.ENTER)"
   ]
  },
  {
   "cell_type": "code",
   "execution_count": 88,
   "id": "9f75f488",
   "metadata": {},
   "outputs": [],
   "source": [
    "def link_collection():\n",
    "    driver.execute_script('window.scrollBy(0, document.body.scrollHeight);')\n",
    "    review = WebDriverWait(driver, 10).until(EC.presence_of_all_elements_located((By.CLASS_NAME,'a-size-base.s-underline-text')))\n",
    "    reviews = []\n",
    "    for i in review:\n",
    "        if '(' in i.text and '₹' not in i.text:\n",
    "            reviews.append(i)\n",
    "    \n",
    "    try:\n",
    "        title1 = WebDriverWait(driver, 10).until(EC.presence_of_all_elements_located((By.CLASS_NAME,'a-size-base-plus.a-color-base.a-text-normal')))\n",
    "    except TimeoutException:\n",
    "        title1 = []\n",
    "        \n",
    "    try: \n",
    "        title2 = WebDriverWait(driver, 10).until(EC.presence_of_all_elements_located((By.CLASS_NAME,'a-size-medium.a-color-base.a-text-normal')))\n",
    "    except TimeoutException:\n",
    "        title2 = []\n",
    "    \n",
    "     \n",
    "    main_title = title1 if len(title1) > len(title2) else title2\n",
    "    \n",
    "\n",
    "    titles = [] \n",
    "    d = {}\n",
    "    for i, j in zip(main_title, reviews):\n",
    "        x = search.lower()\n",
    "        if ('(Renewed)' not in i.text) or ('WeConnect' not in i.text) or ('AppleCare' not in i.text) or ('Protect+' not in i.text):\n",
    "            d[j] = i.text\n",
    "            titles.append(i.text)\n",
    "            \n",
    "    time.sleep(1)\n",
    "    return d, titles"
   ]
  },
  {
   "cell_type": "code",
   "execution_count": null,
   "id": "c64293b5",
   "metadata": {},
   "outputs": [],
   "source": [
    "d, titles = link_collection()\n",
    "d"
   ]
  },
  {
   "cell_type": "code",
   "execution_count": 89,
   "id": "f4ed98e2",
   "metadata": {},
   "outputs": [
    {
     "name": "stdout",
     "output_type": "stream",
     "text": [
      "2\n",
      "3\n",
      "4\n",
      "5\n",
      "6\n",
      "7\n",
      "8\n",
      "9\n",
      "10\n",
      "11\n",
      "12\n",
      "13\n",
      "14\n",
      "15\n",
      "16\n",
      "17\n",
      "18\n",
      "19\n",
      "20\n",
      "21\n",
      "22\n",
      "23\n",
      "24\n",
      "25\n",
      "26\n",
      "27\n",
      "28\n",
      "29\n",
      "30\n",
      "31\n",
      "32\n",
      "33\n",
      "34\n",
      "35\n",
      "36\n",
      "37\n",
      "38\n",
      "39\n",
      "40\n",
      "41\n",
      "42\n",
      "43\n",
      "44\n",
      "45\n",
      "46\n",
      "47\n",
      "48\n",
      "49\n",
      "50\n",
      "51\n",
      "52\n",
      "53\n",
      "54\n",
      "55\n",
      "56\n",
      "57\n",
      "58\n",
      "59\n",
      "60\n",
      "61\n",
      "62\n",
      "63\n",
      "2\n",
      "3\n",
      "4\n",
      "5\n",
      "6\n",
      "7\n",
      "8\n",
      "9\n",
      "2\n",
      "3\n",
      "4\n",
      "5\n",
      "6\n"
     ]
    }
   ],
   "source": [
    "\n",
    "def visit(d):\n",
    "    j = 1\n",
    "    for i in d:\n",
    "        driver.execute_script('window.scrollBy(0, document.body.scrollHeight);')\n",
    "        driver.switch_to.window(driver.window_handles[0])\n",
    "        i.click()\n",
    "        c = driver.window_handles[1]\n",
    "        driver.switch_to.window(c)\n",
    "        time.sleep(4)\n",
    "        driver.close()\n",
    "        driver.switch_to.window(driver.window_handles[0])\n",
    "        j+=1\n",
    "        time.sleep(2)\n",
    "        print(j)\n",
    "\n",
    "        \n",
    "for i in range(3):\n",
    "    d, titles = link_collection()\n",
    "    visit(d)\n",
    "    driver.switch_to.window(driver.window_handles[0])\n",
    "    time.sleep(2)\n",
    "    driver.execute_script('window.scrollBy(0, document.body.scrollHeight);')\n",
    "    time.sleep(2)\n",
    "    next_ = WebDriverWait(driver, 5).until(EC.presence_of_element_located((By.CLASS_NAME,'s-pagination-item.s-pagination-next.s-pagination-button.s-pagination-separator')))\n",
    "    next_.click()\n",
    "    "
   ]
  },
  {
   "cell_type": "code",
   "execution_count": 79,
   "id": "2394b7bf",
   "metadata": {},
   "outputs": [
    {
     "data": {
      "text/plain": [
       "'42BB0AFC8A5937719F9F2995CE56B9AF'"
      ]
     },
     "execution_count": 79,
     "metadata": {},
     "output_type": "execute_result"
    }
   ],
   "source": [
    "driver.window_handles[1]"
   ]
  },
  {
   "cell_type": "code",
   "execution_count": 81,
   "id": "7f680dc9",
   "metadata": {},
   "outputs": [],
   "source": [
    "e = driver.page_source\n",
    "x= BeautifulSoup(e, 'html.parser')"
   ]
  },
  {
   "cell_type": "code",
   "execution_count": 83,
   "id": "5df1ebe4",
   "metadata": {},
   "outputs": [
    {
     "name": "stdout",
     "output_type": "stream",
     "text": [
      "\n",
      "Good\n",
      "\n",
      "\n",
      "4 star with discount only\n",
      "\n",
      "\n",
      "Value for money....\n",
      "\n",
      "\n",
      "My daughter likes it.\n",
      "\n",
      "\n",
      "Nice\n",
      "\n",
      "\n",
      "Good.\n",
      "\n",
      "\n",
      "Good\n",
      "\n",
      "\n",
      "very handy. easy to use.\n",
      "\n",
      "\n",
      "Good face wash. Try it\n",
      "\n",
      "\n",
      "Nice one,cost effective\n",
      "\n"
     ]
    }
   ],
   "source": [
    "t = x.find_all('span', {'class' : 'a-size-base review-text review-text-content'})\n",
    "for i in t:\n",
    "    print(i.text)"
   ]
  }
 ],
 "metadata": {
  "kernelspec": {
   "display_name": "Python 3 (ipykernel)",
   "language": "python",
   "name": "python3"
  },
  "language_info": {
   "codemirror_mode": {
    "name": "ipython",
    "version": 3
   },
   "file_extension": ".py",
   "mimetype": "text/x-python",
   "name": "python",
   "nbconvert_exporter": "python",
   "pygments_lexer": "ipython3",
   "version": "3.9.12"
  }
 },
 "nbformat": 4,
 "nbformat_minor": 5
}
