{
 "cells": [
  {
   "cell_type": "code",
   "execution_count": null,
   "id": "a81ec0f1",
   "metadata": {},
   "outputs": [],
   "source": [
    "import re\n",
    "import pandas as pd\n",
    "from textblob import TextBlob"
   ]
  },
  {
   "cell_type": "code",
   "execution_count": null,
   "id": "041be6f2",
   "metadata": {},
   "outputs": [],
   "source": [
    "\n",
    "count = 0\n",
    "df = pd.DataFrame({'Product Name': [], 'Review': []})\n",
    "for i in y:  # y is scraped data\n",
    "    for j, k in i.items():\n",
    "        for l in k:\n",
    "            df.loc[z] = [j, l]\n",
    "            count+=1\n",
    "            \n",
    "#main_df = pd.concat([df, df1, df2], axis = 0)\n",
    "\n",
    "#main_df"
   ]
  },
  {
   "cell_type": "code",
   "execution_count": null,
   "id": "47c1e4cb",
   "metadata": {},
   "outputs": [],
   "source": [
    "# cleaning \n",
    "# n = df['Review']\n",
    "cleaned = []\n",
    "for i in n:\n",
    "    x = re.sub(r\"[^a-zA-Z\\s.,!?']\", \"\", i)\n",
    "    y = re.sub(r'READ MORE','', x)\n",
    "    #y = re.sub(r'[^\\x00-\\x7F]+', '', x)\n",
    "    cleaned.append(y)"
   ]
  },
  {
   "cell_type": "code",
   "execution_count": null,
   "id": "b99491fd",
   "metadata": {},
   "outputs": [],
   "source": [
    "token = []\n",
    "stop_words = set(stopwords.words('english'))\n",
    "for i in cleaned:\n",
    "    word_tokens = word_tokenize(i)\n",
    "    filtered_words = [word for word in word_tokens if not word.lower() in stop_words]\n",
    "    word = ' '.join(filtered_words)\n",
    "    words = re.sub('[^a-zA-Z0-9 \\n]', '', word)\n",
    "    \n",
    "    print(words)\n",
    "    token.append(words)\n",
    "main_df['Cleaned'] = token"
   ]
  },
  {
   "cell_type": "code",
   "execution_count": null,
   "id": "a71c2c37",
   "metadata": {},
   "outputs": [],
   "source": [
    "import pandas as pd\n",
    "from textblob import TextBlob\n",
    "\n",
    "def get_sentiment(text):\n",
    "    return TextBlob(text).sentiment.polarity\n",
    "\n",
    "main_df['sentiment'] = main_df['Cleaned'].apply(get_sentiment)"
   ]
  },
  {
   "cell_type": "code",
   "execution_count": null,
   "id": "f8c89842",
   "metadata": {},
   "outputs": [],
   "source": [
    "sentiment = main_df['sentiment']\n",
    "avg = main_df.groupby('Product Name')['sentiment'].mean().sort_values(ascending = False)[:1]"
   ]
  },
  {
   "cell_type": "code",
   "execution_count": null,
   "id": "0e1ab395",
   "metadata": {},
   "outputs": [],
   "source": [
    "\n",
    "\n",
    "class Cleaning:\n",
    "\n",
    "    def __init__(self, data):\n",
    "        self.data=  data\n",
    "        self.df = pd.DataFrame({'Product Name': [], 'Review': []})\n",
    "    \n",
    "    \n",
    "    def clean(self, data):\n",
    "        count = 0\n",
    "        for i in self.data:  # y is scraped data\n",
    "            for j, k in i.items():\n",
    "                for l in k:\n",
    "                    self.df.loc[z] = [j, l]\n",
    "                    count+=1\n",
    "\n",
    "        cleaned = []\n",
    "        for i in n:\n",
    "            x = re.sub(r\"[^a-zA-Z\\s.,!?']\", \"\", i)\n",
    "            y = re.sub(r'READ MORE','', x)\n",
    "            #y = re.sub(r'[^\\x00-\\x7F]+', '', x)\n",
    "            cleaned.append(y)\n",
    "\n",
    "        token = []\n",
    "        stop_words = set(stopwords.words('english'))\n",
    "        for i in cleaned:\n",
    "            word_tokens = word_tokenize(i)\n",
    "            filtered_words = [word for word in word_tokens if not word.lower() in stop_words]\n",
    "            word = ' '.join(filtered_words)\n",
    "            words = re.sub('[^a-zA-Z0-9 \\n]', '', word)\n",
    "\n",
    "            print(words)\n",
    "            token.append(words)\n",
    "        self.df['Cleaned'] = token\n",
    "        \n",
    "        return df\n",
    "\n",
    "\n",
    "    def predict(data):\n",
    "        def get_sentiment(text):\n",
    "            return TextBlob(text).sentiment.polarity\n",
    "\n",
    "        self.df['sentiment'] = self.df['Cleaned'].apply(get_sentiment)\n",
    "        sentiment = self.df['sentiment']\n",
    "        avg =self.df.groupby('Product Name')['sentiment'].mean().sort_values(ascending = False)[:1]\n",
    "        best_product = avg.index\n",
    "        polarity = avg.values\n",
    "        \n",
    "        return best_product, polarity\n",
    "\n",
    "    \n",
    "    \n",
    "        \n",
    "    \n",
    "    \n",
    "    \n"
   ]
  }
 ],
 "metadata": {
  "kernelspec": {
   "display_name": "Python 3 (ipykernel)",
   "language": "python",
   "name": "python3"
  },
  "language_info": {
   "codemirror_mode": {
    "name": "ipython",
    "version": 3
   },
   "file_extension": ".py",
   "mimetype": "text/x-python",
   "name": "python",
   "nbconvert_exporter": "python",
   "pygments_lexer": "ipython3",
   "version": "3.9.12"
  }
 },
 "nbformat": 4,
 "nbformat_minor": 5
}
