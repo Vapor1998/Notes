{
 "cells": [
  {
   "cell_type": "code",
   "execution_count": 66,
   "metadata": {},
   "outputs": [
    {
     "name": "stdout",
     "output_type": "stream",
     "text": [
      "4\n",
      "2 3 5\n",
      "9 8 7\n",
      "22 3 4\n",
      "4 4 5\n",
      "4\n"
     ]
    }
   ],
   "source": [
    "def uniquetriangles(arr):\n",
    "    b = []\n",
    "    for i in arr:\n",
    "        i.sort()   # sort the sides of triangle\n",
    "        i = str(i)  # convert it into string\n",
    "        b.append(i)\n",
    "    d = {}\n",
    "    for i in b:\n",
    "        d[i] = d.get(i,0)+1  # make dict and count its frequency\n",
    "    s = []\n",
    "    for i, j in d.items(): \n",
    "        if j == 1:   # append keys whose frequency is 1\n",
    "            s.append(i)\n",
    "    print(len(s))  # print the length of array\n",
    "                   # its obvious that unique sides are those whose occurence is 1 so we add all those in array and count them.\n",
    "\n",
    "n = int(input())\n",
    "arr = []\n",
    "for i in range(n):\n",
    "    row = [int(x) for x in input().strip().split()]\n",
    "    arr.append(row)\n",
    "uniquetriangles(arr)"
   ]
  },
  {
   "cell_type": "markdown",
   "metadata": {},
   "source": [
    "**First sort the subarrays or sides of triangle then convert them into strings and then make dictionary then count frequency\n",
    "and then append keys into array whose frequency is 1 and print the length of array**"
   ]
  }
 ],
 "metadata": {
  "kernelspec": {
   "display_name": "Python 3 (ipykernel)",
   "language": "python",
   "name": "python3"
  },
  "language_info": {
   "codemirror_mode": {
    "name": "ipython",
    "version": 3
   },
   "file_extension": ".py",
   "mimetype": "text/x-python",
   "name": "python",
   "nbconvert_exporter": "python",
   "pygments_lexer": "ipython3",
   "version": "3.9.12"
  }
 },
 "nbformat": 4,
 "nbformat_minor": 4
}
