{
 "cells": [
  {
   "cell_type": "code",
   "execution_count": 25,
   "metadata": {},
   "outputs": [
    {
     "name": "stdout",
     "output_type": "stream",
     "text": [
      "9\n",
      "1  3  1  4  5  6  4  8  3\n",
      "7\n"
     ]
    }
   ],
   "source": [
    "n =int(input())\n",
    "arr = [int(i) for i in input().split()]\n",
    "def maxDistance(arr):\n",
    "    d = {}\n",
    "    e = {}\n",
    "    j= 0\n",
    "    for i in arr:\n",
    "        if i in e:\n",
    "            d[i] = j - e[i] \n",
    "        else:\n",
    "            e[i] = j\n",
    "        j += 1\n",
    "        \n",
    "        \n",
    "    ans = -1\n",
    "    for i in d:\n",
    "        if d[i] > ans:\n",
    "            ans = d[i]\n",
    "            num = i\n",
    "    return ans\n",
    "\n",
    "print(maxDistance(arr))\n"
   ]
  },
  {
   "cell_type": "code",
   "execution_count": null,
   "metadata": {},
   "outputs": [],
   "source": []
  }
 ],
 "metadata": {
  "kernelspec": {
   "display_name": "Python 3",
   "language": "python",
   "name": "python3"
  },
  "language_info": {
   "codemirror_mode": {
    "name": "ipython",
    "version": 3
   },
   "file_extension": ".py",
   "mimetype": "text/x-python",
   "name": "python",
   "nbconvert_exporter": "python",
   "pygments_lexer": "ipython3",
   "version": "3.8.5"
  }
 },
 "nbformat": 4,
 "nbformat_minor": 4
}
