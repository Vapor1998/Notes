{
 "cells": [
  {
   "cell_type": "code",
   "execution_count": 2,
   "metadata": {},
   "outputs": [
    {
     "name": "stdout",
     "output_type": "stream",
     "text": [
      "3\n",
      "100 164 100\n",
      "2\n"
     ]
    }
   ],
   "source": [
    "n =int(input())\n",
    "arr = [int(i) for i in input().split()]\n",
    "def maxDistance(arr):\n",
    "    d = {}\n",
    "    e = {}\n",
    "    j= 0\n",
    "    for i in arr:\n",
    "        if i in e:\n",
    "            d[i] = j - e[i] \n",
    "        else:\n",
    "            e[i] = j\n",
    "        j += 1\n",
    "        \n",
    "        \n",
    "    ans = -1\n",
    "    for i in d:\n",
    "        if d[i] > ans:\n",
    "            ans = d[i]\n",
    "            num = i\n",
    "    return ans\n",
    "\n",
    "print(maxDistance(arr))\n"
   ]
  },
  {
   "cell_type": "code",
   "execution_count": null,
   "metadata": {},
   "outputs": [],
   "source": [
    "from os import *\n",
    "from sys import *\n",
    "from collections import *\n",
    "from math import *\n",
    "\n",
    "\n",
    "def takeInput():\n",
    "    #To take fast I/O\n",
    "    \n",
    "    arr=list(map(int,stdin.readline().strip().split( )))\n",
    "    return arr\n",
    "def arry(lst):\n",
    "\n",
    "    for i in range(len(lst)):\n",
    "      index =0\n",
    "      dist =0\n",
    "      max_dis =0\n",
    "      for j in range(len(lst)):   \n",
    "        if lst[i]==lst[j]:\n",
    "          dist = abs(i-j)\n",
    "          index = i\n",
    "        if dist>max_dis:\n",
    "          max_dis = dist\n",
    "    # if len(lst)!=len(list(set(lst))):\n",
    "    print(max_dis)\n",
    "    # else:\n",
    "    #   print(0)\n",
    "lst=takeInput()\n",
    "arry(lst)\n",
    "\n",
    "\n",
    "\n",
    "## Read input as specified in the question.\n",
    "## Print output as specified in the question.\n",
    "\n"
   ]
  },
  {
   "cell_type": "code",
   "execution_count": 4,
   "metadata": {},
   "outputs": [
    {
     "name": "stdout",
     "output_type": "stream",
     "text": [
      "3\n",
      "100 164 100\n",
      "0\n"
     ]
    }
   ],
   "source": [
    "n=int(input())\n",
    "a=[int(s) for s in input().split()]\n",
    "d={}\n",
    "da={}\n",
    "maxval=0\n",
    "index=0\n",
    "for i in range(n):\n",
    "    if(da.get(a[i],0)==0):\n",
    "        da[a[i]]=i\n",
    "##        print(a[i],da[a[i]])\n",
    "    else:\n",
    "        p=da[a[i]]\n",
    "        d[a[i]]=i-p\n",
    "##        print(a[i],d[a[i]])\n",
    "for i in d:\n",
    "##    print(\"here \",i,d[i])\n",
    "    if(d[i]>maxval):\n",
    "        maxval=d[i]\n",
    "##        print(i,d[i])\n",
    "print(maxval)"
   ]
  },
  {
   "cell_type": "code",
   "execution_count": null,
   "metadata": {},
   "outputs": [],
   "source": []
  }
 ],
 "metadata": {
  "kernelspec": {
   "display_name": "Python 3 (ipykernel)",
   "language": "python",
   "name": "python3"
  },
  "language_info": {
   "codemirror_mode": {
    "name": "ipython",
    "version": 3
   },
   "file_extension": ".py",
   "mimetype": "text/x-python",
   "name": "python",
   "nbconvert_exporter": "python",
   "pygments_lexer": "ipython3",
   "version": "3.9.12"
  }
 },
 "nbformat": 4,
 "nbformat_minor": 4
}
