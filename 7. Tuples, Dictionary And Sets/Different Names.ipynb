{
 "cells": [
  {
   "cell_type": "code",
   "execution_count": 4,
   "metadata": {},
   "outputs": [
    {
     "name": "stdout",
     "output_type": "stream",
     "text": [
      "Abhishek Harshit Ayush Iti\n",
      "-1\n"
     ]
    }
   ],
   "source": [
    "def differentNames(l):\n",
    "    d = {}\n",
    "    for i in l:\n",
    "        if i in d:\n",
    "            d[i] += 1\n",
    "        else:\n",
    "            d[i] = 1\n",
    "    e = {}\n",
    "    for i in d:\n",
    "        if d[i] != 1:\n",
    "            e[i] = d[i]\n",
    "            \n",
    "    return e\n",
    "    \n",
    "\n",
    "# Main\n",
    "names=input().strip().split()\n",
    "m=differentNames(names)\n",
    "if m:\n",
    "    for name in m:\n",
    "        print(name, m[name])\n",
    "else:\n",
    "    print(-1)"
   ]
  }
 ],
 "metadata": {
  "kernelspec": {
   "display_name": "Python 3",
   "language": "python",
   "name": "python3"
  },
  "language_info": {
   "codemirror_mode": {
    "name": "ipython",
    "version": 3
   },
   "file_extension": ".py",
   "mimetype": "text/x-python",
   "name": "python",
   "nbconvert_exporter": "python",
   "pygments_lexer": "ipython3",
   "version": "3.8.5"
  }
 },
 "nbformat": 4,
 "nbformat_minor": 4
}
