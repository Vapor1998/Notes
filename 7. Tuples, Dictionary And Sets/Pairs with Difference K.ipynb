{
 "cells": [
  {
   "cell_type": "code",
   "execution_count": 10,
   "metadata": {},
   "outputs": [
    {
     "name": "stdout",
     "output_type": "stream",
     "text": [
      "4\n",
      "4 4 4 4\n",
      "0\n",
      "6\n"
     ]
    }
   ],
   "source": [
    "def printPairDiffK(l, k):\n",
    "    pairCount = 0\n",
    "    m = {}\n",
    "    for num in l:\n",
    "        if num+k in m:\n",
    "            pairCount += m[num+k]\n",
    "        if k != 0 and num - k in m:\n",
    "            pairCount += n[num - k]\n",
    "        \n",
    "        if num in m:\n",
    "            m[num] += 1\n",
    "        else:\n",
    "            m[num ] = 1\n",
    "    return pairCount\n",
    "    \n",
    "# Main\n",
    "n=int(input())\n",
    "l=list(int(i) for i in input().strip().split(' '))\n",
    "k=int(input())\n",
    "print(printPairDiffK(l, k))"
   ]
  }
 ],
 "metadata": {
  "kernelspec": {
   "display_name": "Python 3",
   "language": "python",
   "name": "python3"
  },
  "language_info": {
   "codemirror_mode": {
    "name": "ipython",
    "version": 3
   },
   "file_extension": ".py",
   "mimetype": "text/x-python",
   "name": "python",
   "nbconvert_exporter": "python",
   "pygments_lexer": "ipython3",
   "version": "3.8.5"
  }
 },
 "nbformat": 4,
 "nbformat_minor": 4
}
