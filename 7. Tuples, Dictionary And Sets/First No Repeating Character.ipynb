{
 "cells": [
  {
   "cell_type": "code",
   "execution_count": 5,
   "metadata": {},
   "outputs": [
    {
     "name": "stdout",
     "output_type": "stream",
     "text": [
      "aDcadhc\n",
      "D\n"
     ]
    }
   ],
   "source": [
    "def nonRepeatingChar(string):\n",
    "    # Please add your code here\n",
    "    d = {}\n",
    "    for i in string:\n",
    "        if i in d:\n",
    "            d[i]+= 1\n",
    "        else:\n",
    "            d[i] = 1\n",
    "    ans = ''\n",
    "    for i in string:\n",
    "        if d[i] == 1:\n",
    "            ans = i\n",
    "            break\n",
    "    return ans\n",
    "\n",
    "# Main\n",
    "string = input()\n",
    "print(nonRepeatingChar(string))\n"
   ]
  }
 ],
 "metadata": {
  "kernelspec": {
   "display_name": "Python 3",
   "language": "python",
   "name": "python3"
  },
  "language_info": {
   "codemirror_mode": {
    "name": "ipython",
    "version": 3
   },
   "file_extension": ".py",
   "mimetype": "text/x-python",
   "name": "python",
   "nbconvert_exporter": "python",
   "pygments_lexer": "ipython3",
   "version": "3.8.5"
  }
 },
 "nbformat": 4,
 "nbformat_minor": 4
}
