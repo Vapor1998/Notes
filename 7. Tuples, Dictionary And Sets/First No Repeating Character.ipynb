{
 "cells": [
  {
   "cell_type": "code",
   "execution_count": 5,
   "metadata": {},
   "outputs": [
    {
     "name": "stdout",
     "output_type": "stream",
     "text": [
      "aDcadhc\n",
      "D\n"
     ]
    }
   ],
   "source": [
    "def nonRepeatingChar(string):\n",
    "    # Please add your code here\n",
    "    d = {}\n",
    "    for i in string:\n",
    "        if i in d:\n",
    "            d[i]+= 1\n",
    "        else:\n",
    "            d[i] = 1\n",
    "    ans = ''\n",
    "    for i in string:\n",
    "        if d[i] == 1:\n",
    "            ans = i\n",
    "            break\n",
    "    return ans\n",
    "\n",
    "# Main\n",
    "string = input()\n",
    "print(nonRepeatingChar(string))\n"
   ]
  },
  {
   "cell_type": "code",
   "execution_count": 4,
   "metadata": {},
   "outputs": [
    {
     "name": "stdout",
     "output_type": "stream",
     "text": [
      "VqIdXfNgHbOcBCEYRMKORCLIVJ\n",
      "{'V': 2, 'q': 1, 'I': 2, 'd': 1, 'X': 1, 'f': 1, 'N': 1, 'g': 1, 'H': 1, 'b': 1, 'O': 2, 'c': 1, 'B': 1, 'C': 2, 'E': 1, 'Y': 1, 'R': 2, 'M': 1, 'K': 1, 'L': 1, 'J': 1}\n",
      "['q', 'd', 'X', 'f', 'N', 'g', 'H', 'b', 'c', 'B', 'E', 'Y', 'M', 'K', 'L', 'J']\n"
     ]
    }
   ],
   "source": [
    "# creating a set \n",
    "a = input()\n",
    "d ={}\n",
    "l = []\n",
    "for i in a:\n",
    "    d[i] = d.get(i,0)+1\n",
    "for j in a:\n",
    "    if d[j] == 1:\n",
    "        l.append(j)\n",
    "#print(d)\n",
    "#print(l)\n",
    "print(d)\n",
    "print(l)"
   ]
  }
 ],
 "metadata": {
  "kernelspec": {
   "display_name": "Python 3 (ipykernel)",
   "language": "python",
   "name": "python3"
  },
  "language_info": {
   "codemirror_mode": {
    "name": "ipython",
    "version": 3
   },
   "file_extension": ".py",
   "mimetype": "text/x-python",
   "name": "python",
   "nbconvert_exporter": "python",
   "pygments_lexer": "ipython3",
   "version": "3.9.12"
  }
 },
 "nbformat": 4,
 "nbformat_minor": 4
}
