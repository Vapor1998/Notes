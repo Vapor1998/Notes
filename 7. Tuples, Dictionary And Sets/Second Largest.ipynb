{
 "cells": [
  {
   "cell_type": "code",
   "execution_count": 4,
   "id": "c13907fc",
   "metadata": {},
   "outputs": [
    {
     "name": "stdout",
     "output_type": "stream",
     "text": [
      "4\n",
      "1\n",
      "2\n",
      "3\n",
      "3\n",
      "2\n"
     ]
    }
   ],
   "source": [
    "## Write your code here\n",
    "# works on the platform\n",
    "\n",
    "min = -2147483648\n",
    "n = int(input())\n",
    "a = []\n",
    "for i in range(n):\n",
    "    x = int(input())\n",
    "    a.append(x)\n",
    "x = a\n",
    "x.sort(reverse = True)\n",
    "d = {}\n",
    "for i in x:\n",
    "    if i in d:\n",
    "        d[i] += 1\n",
    "    else:\n",
    "        d[i] = 1\n",
    "if n == 0 or n == 1:\n",
    "    print(min)\n",
    "else:\n",
    "    k = 0\n",
    "    x = list(d.keys())\n",
    "    x.sort(reverse = True)\n",
    "    print(x[1])\n"
   ]
  }
 ],
 "metadata": {
  "kernelspec": {
   "display_name": "Python 3 (ipykernel)",
   "language": "python",
   "name": "python3"
  },
  "language_info": {
   "codemirror_mode": {
    "name": "ipython",
    "version": 3
   },
   "file_extension": ".py",
   "mimetype": "text/x-python",
   "name": "python",
   "nbconvert_exporter": "python",
   "pygments_lexer": "ipython3",
   "version": "3.9.12"
  }
 },
 "nbformat": 4,
 "nbformat_minor": 5
}
