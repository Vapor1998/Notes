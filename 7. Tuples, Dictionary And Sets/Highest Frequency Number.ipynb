{
 "cells": [
  {
   "cell_type": "code",
   "execution_count": 1,
   "metadata": {},
   "outputs": [
    {
     "name": "stdout",
     "output_type": "stream",
     "text": [
      "5\n",
      "1 1 2 2 3 \n",
      "2\n"
     ]
    }
   ],
   "source": [
    "from sys import stdin\n",
    "def maxfreq(arr):\n",
    "    d = {}\n",
    "    for w in arr:\n",
    "        if w in d:\n",
    "            d[w] = d.get(w, 0) + 1\n",
    "        else:\n",
    "            d[w] = 1\n",
    "        \n",
    "        \n",
    "    ans = -1\n",
    "    \n",
    "    for i in arr:\n",
    "        if d[i] > ans:\n",
    "            #ans = d[i]\n",
    "            ans = i\n",
    "        \n",
    "        \n",
    "    return ans\n",
    "    \n",
    "\n",
    "    \n",
    "    \n",
    "    \n",
    "n = int(input())\n",
    "arr = [int(i) for i in input().split()]\n",
    "ans = maxfreq(arr)\n",
    "print(ans)"
   ]
  },
  {
   "cell_type": "code",
   "execution_count": 3,
   "metadata": {},
   "outputs": [
    {
     "name": "stdout",
     "output_type": "stream",
     "text": [
      "ababababa\n",
      "a\n"
     ]
    }
   ],
   "source": [
    "from sys import stdin\n",
    "def maxfreq(arr):\n",
    "    d = {}\n",
    "    for w in arr:\n",
    "        if w in d:\n",
    "            d[w] = d.get(w, 0) + 1\n",
    "        else:\n",
    "            d[w] = 1\n",
    "\n",
    "    ans = 0    \n",
    "    a = ''\n",
    "    for i in arr:\n",
    "        if d[i] > ans:\n",
    "            #ans = d[i]\n",
    "            ans = d[i]\n",
    "            a = i\n",
    "        \n",
    "        \n",
    "    return a\n",
    "    \n",
    "\n",
    "    \n",
    "    \n",
    "    \n",
    "arr = input()\n",
    "ans = maxfreq(arr)\n",
    "print(ans)"
   ]
  },
  {
   "cell_type": "code",
   "execution_count": null,
   "metadata": {},
   "outputs": [],
   "source": []
  }
 ],
 "metadata": {
  "kernelspec": {
   "display_name": "Python 3 (ipykernel)",
   "language": "python",
   "name": "python3"
  },
  "language_info": {
   "codemirror_mode": {
    "name": "ipython",
    "version": 3
   },
   "file_extension": ".py",
   "mimetype": "text/x-python",
   "name": "python",
   "nbconvert_exporter": "python",
   "pygments_lexer": "ipython3",
   "version": "3.9.12"
  }
 },
 "nbformat": 4,
 "nbformat_minor": 4
}
