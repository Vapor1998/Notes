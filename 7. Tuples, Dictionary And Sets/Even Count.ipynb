{
 "cells": [
  {
   "cell_type": "code",
   "execution_count": 2,
   "metadata": {},
   "outputs": [
    {
     "name": "stdout",
     "output_type": "stream",
     "text": [
      "6\n",
      "4 7 1 7 1 9\n",
      "7\n"
     ]
    }
   ],
   "source": [
    "def evenCount(arr):\n",
    "    d = {}\n",
    "    for i in arr:\n",
    "        if i in d:\n",
    "            d[i] += 1\n",
    "        else:\n",
    "            d[i] = 1\n",
    "    ans = 0\n",
    "    for i in arr:  ## using arr here is a concept for\n",
    "                   ## \"number which occurs first among these numbers in the given array\"\n",
    "                   ## type questions.\n",
    "        if d[i] % 2 == 0:\n",
    "            ans = i\n",
    "            break\n",
    "    return ans\n",
    "    \n",
    "\n",
    "# Main\n",
    "n=int(input())\n",
    "arr=list(int(i) for i in input().strip().split(' '))\n",
    "print(evenCount(arr))\n"
   ]
  },
  {
   "cell_type": "code",
   "execution_count": 5,
   "metadata": {},
   "outputs": [
    {
     "name": "stdout",
     "output_type": "stream",
     "text": [
      "6\n",
      "4 7 1 7 1 9\n",
      "7\n"
     ]
    }
   ],
   "source": [
    "n=int(input())\n",
    "L= [int(i) for i in input().split()]\n",
    "d={}\n",
    "for i in L:\n",
    "    d[i]= d.get(i,0)+1\n",
    "#print(d)\n",
    "#d_values= list(d.values())\n",
    "#d_keys= list(d.keys())\n",
    "#print(d_values)\n",
    "#k=0\n",
    "#a=[]\n",
    "ans = 0\n",
    "for i in L:#d_values:\n",
    "    if d[i]%2==0:\n",
    "        print(i)\n",
    "        #a.append(d_keys[k])\n",
    "        break\n",
    "    #else:\n",
    "    #    k=k+1\n",
    "#if len(a)==0:\n",
    "#    print(-1)\n"
   ]
  }
 ],
 "metadata": {
  "kernelspec": {
   "display_name": "Python 3 (ipykernel)",
   "language": "python",
   "name": "python3"
  },
  "language_info": {
   "codemirror_mode": {
    "name": "ipython",
    "version": 3
   },
   "file_extension": ".py",
   "mimetype": "text/x-python",
   "name": "python",
   "nbconvert_exporter": "python",
   "pygments_lexer": "ipython3",
   "version": "3.9.12"
  }
 },
 "nbformat": 4,
 "nbformat_minor": 4
}
