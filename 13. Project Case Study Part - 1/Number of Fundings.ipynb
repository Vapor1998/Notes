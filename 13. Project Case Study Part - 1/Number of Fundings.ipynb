{
 "cells": [
  {
   "cell_type": "code",
   "execution_count": 98,
   "metadata": {},
   "outputs": [
    {
     "data": {
      "image/png": "[encoded data removed]",
      "text/plain": [
       "<Figure size 432x288 with 1 Axes>"
      ]
     },
     "metadata": {
      "needs_background": "light"
     },
     "output_type": "display_data"
    },
    {
     "name": "stdout",
     "output_type": "stream",
     "text": [
      "2015   936\n",
      "2016   993\n",
      "2017   443\n"
     ]
    }
   ],
   "source": [
    "import matplotlib.pyplot as plt\n",
    "import pandas as pd\n",
    "df = pd.read_csv('startup_funding.csv')\n",
    "a = df['Date'].str[-4:]\n",
    "ans = a.value_counts().sort_index()\n",
    "x = ans.index\n",
    "y = ans.values\n",
    "plt.plot(x,y)\n",
    "plt.show()\n",
    "for i in range(len(x)):\n",
    "    print(int(x[i]),\" \",y[i])"
   ]
  },
  {
   "cell_type": "code",
   "execution_count": null,
   "metadata": {},
   "outputs": [],
   "source": [
    "# Open and read data file as specified in the question\n",
    "# Print the required output in given format\n",
    "import numpy as np\n",
    "import pandas as pd\n",
    "import csv\n",
    "import matplotlib.pyplot as plt\n",
    "data=pd.read_csv('startup_funding.csv')\n",
    "df=data.copy()\n",
    "df.dropna(subset = ['InvestmentType'], inplace = True)\n",
    "df['AmountInUSD'].fillna(0, inplace = True)\n",
    "df.loc[df['InvestmentType'] == 'PrivateEquity', 'InvestmentType'] = 'Private Equity'\n",
    "df.loc[df['InvestmentType'] == 'SeedFunding', 'InvestmentType'] = 'Seed Funding'\n",
    "df.loc[df['InvestmentType'] == 'Crowd funding', 'InvestmentType'] = 'Crowd Funding'\n",
    "investType = []\n",
    "amount = []\n",
    "for i in df['AmountInUSD']:\n",
    "    amount.append(i)\n",
    "for i in df['InvestmentType']:\n",
    "    investType.append(i)\n",
    "for i in range(len(amount)):\n",
    "    amount[i] = ''.join(str(amount[i]).split(','))\n",
    "investType = np.array(investType, dtype = 'str')\n",
    "amount = np.array(amount, dtype = 'int64')\n",
    "dic = {}\n",
    "for i in range(len(investType)):\n",
    "    if dic.get(investType[i], 0) == 0:\n",
    "        dic[investType[i]] = amount[i]\n",
    "    else:\n",
    "        dic[investType[i]] += amount[i]\n",
    "lists = sorted(dic.items())\n",
    "x, y = zip(*lists)\n",
    "plt.pie(x)\n",
    "plt.show()\n",
    "s = 0\n",
    "for item in dic.items():\n",
    "    s += item[1]\n",
    "for item in dic.items():\n",
    "    print(item[0],format(item[1] * 100/s,'.2f'))"
   ]
  }
 ],
 "metadata": {
  "kernelspec": {
   "display_name": "Python 3 (ipykernel)",
   "language": "python",
   "name": "python3"
  },
  "language_info": {
   "codemirror_mode": {
    "name": "ipython",
    "version": 3
   },
   "file_extension": ".py",
   "mimetype": "text/x-python",
   "name": "python",
   "nbconvert_exporter": "python",
   "pygments_lexer": "ipython3",
   "version": "3.9.12"
  }
 },
 "nbformat": 4,
 "nbformat_minor": 4
}
