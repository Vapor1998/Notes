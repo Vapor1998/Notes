{
 "cells": [
  {
   "cell_type": "code",
   "execution_count": 2,
   "metadata": {},
   "outputs": [
    {
     "name": "stdout",
     "output_type": "stream",
     "text": [
      "Bangalore 635\n",
      "Mumbai 449\n",
      "New Delhi 389\n",
      "Gurgaon 241\n",
      "Pune 91\n",
      "Noida 79\n",
      "Hyderabad 77\n",
      "Chennai 67\n",
      "Ahmedabad 35\n",
      "Jaipur 25\n"
     ]
    }
   ],
   "source": [
    "import csv\n",
    "import numpy as np\n",
    "import pandas as pd\n",
    "import matplotlib.pyplot as plt\n",
    "\n",
    "data = pd.read_csv(\"startup_funding.csv\")\n",
    "\n",
    "df = data.copy()\n",
    "counts = df['CityLocation'].value_counts()\n",
    "df[\"CityLocation\"] = df[\"CityLocation\"].replace(['Delhi', 'bangalore','Pune / US','Bangalore / SFO','New Delhi / US','Bangalore/ Bangkok','Mumbai / NY','New Delhi/ Houston','Bangalore / Palo Alto','Gurgaon / SFO','Mumbai / UK','Noida / Singapore','Mumbai / Global','Pune/Seattle','Pune / Singapore','Chennai/ Singapore','Hyderabad/USA','New Delhi / California','Bangalore / USA','Bangalore / San Mateo','Pune / Dubai'],[\"New Delhi\", 'Bangalore','Pune','Bangalore','New Delhi', 'Bangalore','Mumbai','New Delhi','Bangalore','Gurgaon','Mumbai','Noida','Mumbai','Pune','Pune','Chennai','Hyderabad','New Delhi','Bangalore','Bangalore','Pune'])\n",
    "\n",
    "counts = df[\"CityLocation\"].value_counts()\n",
    "city = counts.index\n",
    "value = counts.values\n",
    "\n",
    "for i in range(10):\n",
    "    print(city[i], value[i])\n"
   ]
  },
  {
   "cell_type": "code",
   "execution_count": 5,
   "metadata": {},
   "outputs": [
    {
     "name": "stdout",
     "output_type": "stream",
     "text": [
      "Bangalore 632\n",
      "Mumbai 446\n",
      "New Delhi 383\n",
      "Gurgaon 240\n",
      "Pune 86\n",
      "Hyderabad 78\n",
      "Noida 78\n",
      "Chennai 68\n",
      "Ahmedabad 35\n",
      "Jaipur 25\n"
     ]
    }
   ],
   "source": [
    "import csv\n",
    "import pandas as pd\n",
    "import numpy as np\n",
    "import matplotlib.pyplot as plt\n",
    "file = pd.read_csv('startup_funding.csv')\n",
    "d = file.copy()\n",
    "c = 0\n",
    "a = {}\n",
    "b = {}\n",
    "#city = d[\"CityLocation\"].replace(['Delhi', 'bangalore','Pune / US','Bangalore / SFO','New Delhi / US','Bangalore/ Bangkok','Mumbai / NY','New Delhi/ Houston','Bangalore / Palo Alto','Gurgaon / SFO','Mumbai / UK','Noida / Singapore','Mumbai / Global','Pune/Seattle','Pune / Singapore','Chennai/ Singapore','Hyderabad/USA','New Delhi / California','Bangalore / USA','Bangalore / San Mateo','Pune / Dubai'],[\"New Delhi\", 'Bangalore','Pune','Bangalore','New Delhi', 'Bangalore','Mumbai','New Delhi','Bangalore','Gurgaon','Mumbai','Noida','Mumbai','Pune','Pune','Chennai','Hyderabad','New Delhi','Bangalore','Bangalore','Pune'])\n",
    "city = d['CityLocation']\n",
    "city.dropna(inplace = True)\n",
    "\n",
    "for ele in city:\n",
    "    s = ele.split('/')\n",
    "    p = len(s)\n",
    "    ele = s[0]\n",
    "    if ele[0].islower():\n",
    "        ele = ele[0].upper() + ele[1:]\n",
    "    a[ele] = a.get(ele,0) + p\n",
    "b = dict(sorted(a.items(), key=lambda item: item[1] , reverse = True))\n",
    "for ele in b:\n",
    "    if c == 10:\n",
    "        break\n",
    "    print(ele , b[ele])\n",
    "    c += 1"
   ]
  },
  {
   "cell_type": "code",
   "execution_count": 36,
   "metadata": {},
   "outputs": [
    {
     "data": {
      "text/plain": [
       "Bangalore     635\n",
       "Mumbai        449\n",
       "New Delhi     389\n",
       "Gurgaon       241\n",
       "Pune           91\n",
       "Noida          79\n",
       "Hyderabad      77\n",
       "Chennai        67\n",
       "Ahmedabad      35\n",
       "Jaipur         25\n",
       "Kolkata        19\n",
       "Chandigarh     10\n",
       "Vadodara        9\n",
       "Indore          9\n",
       "Goa             8\n",
       "Singapore       5\n",
       "Kanpur          4\n",
       "Coimbatore      3\n",
       "Siliguri        2\n",
       "US              2\n",
       "USA             2\n",
       "Agra            2\n",
       "Trivandrum      2\n",
       "Udupi           2\n",
       "Kochi           2\n",
       "Gwalior         2\n",
       "Bhopal          2\n",
       "SFO             1\n",
       "Karur           1\n",
       "London          1\n",
       "Seattle         1\n",
       "Boston          1\n",
       "Varanasi        1\n",
       "Panaji          1\n",
       "Dallas          1\n",
       "Udaipur         1\n",
       "New York        1\n",
       "Lucknow         1\n",
       "Kozhikode       1\n",
       "Jodhpur         1\n",
       "Missourie       1\n",
       "Hubli           1\n",
       "Nagpur          1\n",
       "Surat           1\n",
       "India           1\n",
       "Belgaum         1\n",
       "Kerala          1\n",
       "Name: 0, dtype: int64"
      ]
     },
     "execution_count": 36,
     "metadata": {},
     "output_type": "execute_result"
    }
   ],
   "source": [
    "import numpy as np\n",
    "import pandas as pd\n",
    "import matplotlib.pyplot as plt\n",
    "\n",
    "data = pd.read_csv('startup_funding.csv')\n",
    "city = data['CityLocation']\n",
    "city.dropna(inplace = True)\n",
    "\n",
    "s = city.str.split('/')\n",
    "\n",
    "city = []\n",
    "for i in s:\n",
    "        i[0] = i[0].strip()\n",
    "        if i[0] == 'Delhi':\n",
    "            i[0] = 'New Delhi'\n",
    "            city.append(i[0])\n",
    "        elif i[0] == 'bangalore':\n",
    "            i[0] ='Bangalore'\n",
    "            city.append(i[0])\n",
    "        else:\n",
    "            city.append(i[0])\n",
    "\n",
    "df = pd.DataFrame(city)\n",
    "s = df[0].value_counts()\n",
    "s"
   ]
  }
 ],
 "metadata": {
  "kernelspec": {
   "display_name": "Python 3 (ipykernel)",
   "language": "python",
   "name": "python3"
  },
  "language_info": {
   "codemirror_mode": {
    "name": "ipython",
    "version": 3
   },
   "file_extension": ".py",
   "mimetype": "text/x-python",
   "name": "python",
   "nbconvert_exporter": "python",
   "pygments_lexer": "ipython3",
   "version": "3.9.12"
  }
 },
 "nbformat": 4,
 "nbformat_minor": 4
}
