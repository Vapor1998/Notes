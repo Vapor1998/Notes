{
 "cells": [
  {
   "cell_type": "code",
   "execution_count": 2,
   "metadata": {},
   "outputs": [
    {
     "name": "stdout",
     "output_type": "stream",
     "text": [
      "Ola 16\n",
      "Swiggy 7\n",
      "Oyo 6\n",
      "Flipkart 5\n",
      "UrbanClap 5\n"
     ]
    }
   ],
   "source": [
    "import csv\n",
    "import numpy as np\n",
    "import pandas as pd\n",
    "import matplotlib.pyplot as plt\n",
    "\n",
    "data = pd.read_csv('startup_funding.csv')\n",
    "\n",
    "#[OYOfit]\n",
    "df = data.copy()\n",
    "df[\"StartupName\"].dropna(inplace=True)\n",
    "df.loc[df['StartupName'].str.contains('oyo',case = False),'StartupName'] = 'Oyo'    ## COncept to replace all strings that contain a specific substring.\n",
    "\n",
    "df.loc[df['StartupName'].str.contains('flipkart',case = False),'StartupName'] = 'Flipkart'\n",
    "df.loc[df['StartupName'].str.contains('ola',case = False),'StartupName'] = 'Ola'\n",
    "df.loc[df['StartupName'].str.contains('paytm',case = False),'StartupName'] = 'Paytm'\n",
    "\n",
    "df[\"AmountInUSD\"] =df[\"AmountInUSD\"].str.replace(',','')\n",
    "df[\"AmountInUSD\"] = df[\"AmountInUSD\"].astype(float)\n",
    "df[\"AmountInUSD\"] = df[\"AmountInUSD\"].dropna()\n",
    "df[\"AmountInUSD\"] = pd.to_numeric(df[\"AmountInUSD\"])\n",
    "startups = df.groupby(\"StartupName\")[\"AmountInUSD\"].count().sort_values(ascending = False)[:5]\n",
    "\n",
    "start = startups.index\n",
    "amt = startups.values\n",
    "for i in range(len(start)):\n",
    "    print(start[i],amt[i])"
   ]
  },
  {
   "cell_type": "code",
   "execution_count": 81,
   "metadata": {},
   "outputs": [
    {
     "name": "stdout",
     "output_type": "stream",
     "text": [
      "Ola 9\n",
      "Swiggy 7\n",
      "Paytm 6\n",
      "Oyo 6\n",
      "UrbanClap 6\n"
     ]
    }
   ],
   "source": [
    "import csv\n",
    "import numpy as np\n",
    "import pandas as pd\n",
    "import matplotlib.pyplot as plt\n",
    "\n",
    "data = pd.read_csv('startup_funding.csv')\n",
    "\n",
    "#[OYOfit]\n",
    "df = data.copy()\n",
    "df['StartupName'] = df['StartupName'].replace('Ola Cabs', 'Ola')\n",
    "df['StartupName'] = df['StartupName'].replace('Olacabs', 'Ola')\n",
    "df['StartupName'] = df['StartupName'].replace('Oyo Rooms', 'Oyo')\n",
    "df['StartupName'] = df['StartupName'].replace('OyoRooms', 'Oyo')\n",
    "#df['StartupName'] = df['StartupName'].replace('OYOfit', 'Oyo')\n",
    "df['StartupName'] = df['StartupName'].replace('Oyorooms', 'Oyo')\n",
    "df['StartupName'] = df['StartupName'].replace('OYO Rooms', 'Oyo')\n",
    "df['StartupName'] = df['StartupName'].replace('Paytm Marketplace', 'Paytm')\n",
    "df['StartupName'] = df['StartupName'].replace('Flipkart.com', 'Flipkart')\n",
    "\n",
    "df[\"AmountInUSD\"] =df[\"AmountInUSD\"].str.replace(',','')\n",
    "df[\"AmountInUSD\"] = df[\"AmountInUSD\"].astype(float)\n",
    "df[\"AmountInUSD\"] = df[\"AmountInUSD\"].fillna(0)\n",
    "\n",
    "df[\"AmountInUSD\"] = pd.to_numeric(df[\"AmountInUSD\"])\n",
    "startups = df.groupby(\"StartupName\")[\"AmountInUSD\"].count().sort_values(ascending = False)[:5]\n",
    "\n",
    "\n",
    "start = startups.index\n",
    "amt = startups.values\n",
    "for i in range(len(start)):\n",
    "    print(start[i],amt[i])\n",
    "    \n",
    "    \n",
    "## Issue with the contains() was we have to exclude OYOfit, but due to case = False, it was counting OYOfit in oyorooms.\n",
    "## Correct code above."
   ]
  },
  {
   "cell_type": "code",
   "execution_count": 10,
   "metadata": {},
   "outputs": [
    {
     "data": {
      "text/plain": [
       "Ola          9\n",
       "Swiggy       7\n",
       "UrbanClap    6\n",
       "Paytm        6\n",
       "Oyo          6\n",
       "Medinfi      5\n",
       "Jugnoo       5\n",
       "NoBroker     5\n",
       "Flipkart     5\n",
       "Niki.ai      4\n",
       "Name: StartupName, dtype: int64"
      ]
     },
     "execution_count": 10,
     "metadata": {},
     "output_type": "execute_result"
    }
   ],
   "source": [
    "import pandas as pd\n",
    "def correctValue(x):\n",
    "    if x=='Flipkart.com':\n",
    "        return 'Flipkart'\n",
    "    elif x=='Ola Cabs':\n",
    "        #or x=='Olacabs':\n",
    "        return 'Ola'\n",
    "    elif x == 'Olacabs':\n",
    "        return 'Ola'\n",
    "    elif x=='Oyo Rooms':\n",
    "        return 'Oyo'\n",
    "    elif x == \"Oyorooms\":\n",
    "        return 'Oyo'\n",
    "    elif x == 'OyoRooms':\n",
    "        return 'Oyo'\n",
    "    elif x == 'OYO Rooms':\n",
    "        return 'Oyo'\n",
    "    elif x=='Paytm Marketplace':\n",
    "        return 'Paytm'\n",
    "    else:\n",
    "        return x\n",
    "        \n",
    "    \n",
    "df = pd.read_csv(r\"startup_funding.csv\")\n",
    "\n",
    "values = {\"AmountInUSD\": 0}\n",
    "df.fillna(value=values,inplace=True)\n",
    "df[\"StartupName\"]=df[\"StartupName\"].apply(lambda x:correctValue(x))\n",
    "df[\"AmountInUSD\"]=df[\"AmountInUSD\"].apply(lambda x:int(\"\".join(str(x).split(\",\"))))\n",
    "df[\"StartupName\"].value_counts()[:10]\n"
   ]
  }
 ],
 "metadata": {
  "kernelspec": {
   "display_name": "Python 3 (ipykernel)",
   "language": "python",
   "name": "python3"
  },
  "language_info": {
   "codemirror_mode": {
    "name": "ipython",
    "version": 3
   },
   "file_extension": ".py",
   "mimetype": "text/x-python",
   "name": "python",
   "nbconvert_exporter": "python",
   "pygments_lexer": "ipython3",
   "version": "3.9.12"
  }
 },
 "nbformat": 4,
 "nbformat_minor": 4
}
