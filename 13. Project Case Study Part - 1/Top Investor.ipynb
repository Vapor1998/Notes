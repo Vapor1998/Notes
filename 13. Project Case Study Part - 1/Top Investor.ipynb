{
 "cells": [
  {
   "cell_type": "code",
   "execution_count": 6,
   "metadata": {},
   "outputs": [
    {
     "name": "stdout",
     "output_type": "stream",
     "text": [
      "Sequoia Capital 64\n"
     ]
    }
   ],
   "source": [
    "# Open and read data file as specified in the question\n",
    "# Print the required output in given format\n",
    "## c0rrect code\n",
    "import csv\n",
    "import numpy as np\n",
    "import pandas as pd\n",
    "import matplotlib.pyplot as plt\n",
    "\n",
    "data = pd.read_csv('startup_funding.csv')\n",
    "\n",
    "#[OYOfit]\n",
    "\n",
    "df = data.copy()\n",
    "##a = df[\"InvestorsName\"].value_counts()\n",
    "a = df[\"InvestorsName\"].str.split(',')\n",
    "arr = []\n",
    "a = list(a)\n",
    "arr = []\n",
    "for i in a:\n",
    "    if type(i) != float or type(i) == list:\n",
    "        for j in i:\n",
    "            arr.append(j)\n",
    "    else:\n",
    "        arr.append(i)\n",
    "        \n",
    "\n",
    "\n",
    "df2 = pd.DataFrame(arr)\n",
    "a = df2[0]\n",
    "b = a.str.lstrip()\n",
    "c = b.value_counts()[:1]\n",
    "d= c.index\n",
    "e= c.values\n",
    "\n",
    "for i in range(len(d)):\n",
    "    print(d[i],e[i])\n"
   ]
  },
  {
   "cell_type": "code",
   "execution_count": 4,
   "metadata": {},
   "outputs": [],
   "source": [
    "# Open and read data file as specified in the question\n",
    "# Print the required output in given format\n",
    "import csv\n",
    "with open(\"startup_funding.csv\") as file_obj:\n",
    "    file_data = csv.DictReader(file_obj, skipinitialspace = True)\n",
    "    d = {}\n",
    "    for row in file_data:\n",
    "        li = row[\"InvestorsName\"].split(', ')\n",
    "        for item in li:\n",
    "            d[item] = d.get(item,0)+1\n",
    "    #print(max(d.values()))\n",
    "    \n",
    "    #print(d)\n",
    "    j = 0\n",
    "    for i in d:\n",
    "        if d[i] == max(d.values()):\n",
    "            print(i, d[i])\n",
    "        j += 1\n",
    "        if j == 1:\n",
    "            break"
   ]
  },
  {
   "cell_type": "code",
   "execution_count": 1,
   "metadata": {},
   "outputs": [
    {
     "name": "stdout",
     "output_type": "stream",
     "text": [
      "Sequoia Capital 64\n"
     ]
    }
   ],
   "source": [
    "import pandas as pd\n",
    "import numpy as np\n",
    "import collections\n",
    "\n",
    "df = pd.read_csv('startup_funding.csv',encoding = 'utf-8')\n",
    "df.InvestorsName.fillna(\"\",inplace = True)\n",
    "investors = df.InvestorsName\n",
    "\n",
    "investors_name = []\n",
    "for i in investors:\n",
    "    if i != \"\":\n",
    "        temp = i.split(\",\")\n",
    "        for j in temp:\n",
    "            investors_name.append(j.strip())\n",
    "dct = {}\n",
    "for i in investors_name:\n",
    "    dct[i] = dct.get(i,0) + 1\n",
    "    \n",
    "\n",
    "#for i in dct:\n",
    "#    print(i, dct[i])\n",
    "for i in dct:\n",
    "    if dct[i] == max(dct.values()):\n",
    "        print(i, dct[i])"
   ]
  },
  {
   "cell_type": "code",
   "execution_count": 24,
   "metadata": {},
   "outputs": [
    {
     "name": "stdout",
     "output_type": "stream",
     "text": [
      "Sequoia Capital 64\n"
     ]
    }
   ],
   "source": [
    "# Open and read data file as specified in the question\n",
    "# Print the required output in given format\n",
    "import numpy as np\n",
    "import pandas as pd\n",
    "def f(x):\n",
    "    for i in x.split(','):\n",
    "        #print(type(i))\n",
    "        if i != '':\n",
    "            #print(i)\n",
    "            i = i.strip()\n",
    "            d[i]=d.get(i,0)+1\n",
    "    #return i\n",
    "df=pd.read_csv('startup_funding.csv')\n",
    "df.InvestorsName.fillna(\"\",inplace = True)\n",
    "\n",
    "#df.dropna(inplace=True,subset=['InvestorsName'])\n",
    "#df.dropna(inplace=True,subset=['AmountInUSD'])\n",
    "d={}\n",
    "df['InvestorsName'].apply(f)\n",
    "max=0\n",
    "maxinvestor=''\n",
    "for i in d:\n",
    "    if(d[i]>max):\n",
    "        maxinvestor=i\n",
    "        max=d[i]\n",
    "print(maxinvestor,int(max))\n"
   ]
  },
  {
   "cell_type": "code",
   "execution_count": 2,
   "metadata": {},
   "outputs": [
    {
     "ename": "TypeError",
     "evalue": "argument of type 'float' is not iterable",
     "output_type": "error",
     "traceback": [
      "\u001b[1;31m---------------------------------------------------------------------------\u001b[0m",
      "\u001b[1;31mTypeError\u001b[0m                                 Traceback (most recent call last)",
      "Input \u001b[1;32mIn [2]\u001b[0m, in \u001b[0;36m<cell line: 25>\u001b[1;34m()\u001b[0m\n\u001b[0;32m     23\u001b[0m     \u001b[38;5;28mprint\u001b[39m(dictionary)\n\u001b[0;32m     24\u001b[0m     \u001b[38;5;28;01mreturn\u001b[39;00m dictionary \n\u001b[1;32m---> 25\u001b[0m dictionary\u001b[38;5;241m=\u001b[39m\u001b[43mcreateDictionary\u001b[49m\u001b[43m(\u001b[49m\u001b[43mdf_start\u001b[49m\u001b[43m[\u001b[49m\u001b[38;5;124;43m'\u001b[39;49m\u001b[38;5;124;43mInvestorsName\u001b[39;49m\u001b[38;5;124;43m'\u001b[39;49m\u001b[43m]\u001b[49m\u001b[43m)\u001b[49m\n\u001b[0;32m     26\u001b[0m dataf\u001b[38;5;241m=\u001b[39mpd\u001b[38;5;241m.\u001b[39mDataFrame(\u001b[38;5;28mlist\u001b[39m(dictionary\u001b[38;5;241m.\u001b[39mvalues()),\u001b[38;5;28mlist\u001b[39m(dictionary\u001b[38;5;241m.\u001b[39mkeys()))\n\u001b[0;32m     27\u001b[0m dataf\u001b[38;5;241m=\u001b[39mdataf\u001b[38;5;241m.\u001b[39msort_values(by\u001b[38;5;241m=\u001b[39m[\u001b[38;5;241m0\u001b[39m],ascending\u001b[38;5;241m=\u001b[39m\u001b[38;5;28;01mFalse\u001b[39;00m) \n",
      "Input \u001b[1;32mIn [2]\u001b[0m, in \u001b[0;36mcreateDictionary\u001b[1;34m(array)\u001b[0m\n\u001b[0;32m      9\u001b[0m dictionary\u001b[38;5;241m=\u001b[39m{} \n\u001b[0;32m     10\u001b[0m \u001b[38;5;28;01mfor\u001b[39;00m i \u001b[38;5;129;01min\u001b[39;00m array:\n\u001b[1;32m---> 11\u001b[0m     \u001b[38;5;28;01mif\u001b[39;00m \u001b[38;5;124;43m'\u001b[39;49m\u001b[38;5;124;43m,\u001b[39;49m\u001b[38;5;124;43m'\u001b[39;49m\u001b[43m \u001b[49m\u001b[38;5;129;43;01mnot\u001b[39;49;00m\u001b[43m \u001b[49m\u001b[38;5;129;43;01min\u001b[39;49;00m\u001b[43m \u001b[49m\u001b[43mi\u001b[49m \u001b[38;5;129;01mor\u001b[39;00m \u001b[38;5;28mtype\u001b[39m(i) \u001b[38;5;241m!=\u001b[39m \u001b[38;5;28mfloat\u001b[39m: \n\u001b[0;32m     12\u001b[0m         \u001b[38;5;28;01mif\u001b[39;00m i \u001b[38;5;129;01min\u001b[39;00m dictionary:\n\u001b[0;32m     13\u001b[0m             dictionary[i]\u001b[38;5;241m=\u001b[39mdictionary\u001b[38;5;241m.\u001b[39mget(i)\u001b[38;5;241m+\u001b[39m\u001b[38;5;241m1\u001b[39m \n",
      "\u001b[1;31mTypeError\u001b[0m: argument of type 'float' is not iterable"
     ]
    }
   ],
   "source": [
    "# Open and read data file as specified in the question\n",
    "# Print the required output in given format\n",
    "\n",
    "import pandas as pd\n",
    "import numpy as np\n",
    "df_start=pd.read_csv('startup_funding.csv',encoding='utf-8') \n",
    "df_start['InvestorsName'].dropna(inplace=True)\n",
    "def createDictionary(array):\n",
    "    dictionary={} \n",
    "    for i in array:\n",
    "        if type(i) != float:\n",
    "        if ',' not in i or type(i) != float: \n",
    "            if i in dictionary:\n",
    "                dictionary[i]=dictionary.get(i)+1 \n",
    "            else: \n",
    "                dictionary[i]=1\n",
    "        else:\n",
    "            string=i.strip().split(',') \n",
    "            for j in string: \n",
    "                if j.strip() in dictionary:\n",
    "                    dictionary[j.strip()]=dictionary.get(j.strip())+1 \n",
    "                else:\n",
    "                    dictionary[j.strip()]=1\n",
    "    print(dictionary)\n",
    "    return dictionary \n",
    "dictionary=createDictionary(df_start['InvestorsName'])\n",
    "dataf=pd.DataFrame(list(dictionary.values()),list(dictionary.keys()))\n",
    "dataf=dataf.sort_values(by=[0],ascending=False) \n",
    "print(dataf.index[0],dataf.values[0][0])\n"
   ]
  }
 ],
 "metadata": {
  "kernelspec": {
   "display_name": "Python 3 (ipykernel)",
   "language": "python",
   "name": "python3"
  },
  "language_info": {
   "codemirror_mode": {
    "name": "ipython",
    "version": 3
   },
   "file_extension": ".py",
   "mimetype": "text/x-python",
   "name": "python",
   "nbconvert_exporter": "python",
   "pygments_lexer": "ipython3",
   "version": "3.9.12"
  }
 },
 "nbformat": 4,
 "nbformat_minor": 4
}
