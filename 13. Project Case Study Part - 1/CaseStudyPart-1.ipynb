{
 "cells": [
  {
   "cell_type": "markdown",
   "id": "71653b0e",
   "metadata": {},
   "source": [
    "# Funding Amount"
   ]
  },
  {
   "cell_type": "code",
   "execution_count": 1,
   "id": "a422bb3d",
   "metadata": {},
   "outputs": [
    {
     "name": "stdout",
     "output_type": "stream",
     "text": [
      "Bangalore 49.33 \n",
      "New Delhi 16.5 \n",
      "Mumbai 13.79 \n",
      "Gurgaon 12.12 \n",
      "Chennai 2.41 \n",
      "Pune 2.15 \n",
      "Hyderabad 1.14 \n",
      "Noida 1.0 \n",
      "Ahmedabad 0.58 \n",
      "Jaipur 0.21 \n"
     ]
    }
   ],
   "source": [
    "import csv\n",
    "import numpy as np\n",
    "import pandas as pd\n",
    "import matplotlib.pyplot as plt\n",
    "\n",
    "data = pd.read_csv(\"startup_funding.csv\")\n",
    "\n",
    "df = data.copy()\n",
    "counts = df['CityLocation'].value_counts()\n",
    "df = df.dropna(subset = [\"CityLocation\"])\n",
    "\n",
    "df[\"CityLocation\"] = df[\"CityLocation\"].replace(['Delhi', 'bangalore','Pune / US','Bangalore / SFO','New Delhi / US','Bangalore/ Bangkok','Mumbai / NY','New Delhi/ Houston','Bangalore / Palo Alto','Gurgaon / SFO','Mumbai / UK','Noida / Singapore','Mumbai / Global','Pune/Seattle','Pune / Singapore','Chennai/ Singapore','Hyderabad/USA','New Delhi / California','Bangalore / USA','Bangalore / San Mateo','Pune / Dubai'],[\"New Delhi\", 'Bangalore','Pune','Bangalore','New Delhi', 'Bangalore','Mumbai','New Delhi','Bangalore','Gurgaon','Mumbai','Noida','Mumbai','Pune','Pune','Chennai','Hyderabad','New Delhi','Bangalore','Bangalore','Pune'])\n",
    "\n",
    "city = df[\"CityLocation\"]\n",
    "\n",
    "amount = df[\"AmountInUSD\"].str.replace(',','')\n",
    "amount.fillna(0, inplace = True)\n",
    "\n",
    "cities = np.array(city)\n",
    "amounts = np.array(amount, dtype = np.int64)\n",
    "\n",
    "uniquecity = np.unique(cities)\n",
    "arr = []\n",
    "\n",
    "for i in uniquecity:\n",
    "    index = np.where(cities == i)\n",
    "    sums = amounts[index].sum()\n",
    "    arr.append([i, sums])\n",
    "    \n",
    "\n",
    "\n",
    "arr = np.array(arr)\n",
    "arr = arr[arr[:,1].argsort()[::-1]]\n",
    "\n",
    "citys = []\n",
    "funds = []\n",
    "for i in arr:\n",
    "    citys.append(i[0])\n",
    "for i in arr:\n",
    "    funds.append(i[1])\n",
    "    \n",
    "funds = np.array(funds, dtype = np.int64)\n",
    "\n",
    "ans =[]\n",
    "for i in range(len(funds)):\n",
    "    per = funds[i] / sum(funds) * 100\n",
    "    ans.append([citys[i], round(per,2)])\n",
    "\n",
    "ans = np.array(ans)\n",
    "ans = ans[ans[:,1].argsort()[::-1]]\n",
    "\n",
    "\n",
    "ans = ans[ans[:,1].argsort(axis =0)[::-1]]\n",
    "\n",
    "a = []\n",
    "k = 0\n",
    "for i in ans:\n",
    "    a.append(i)\n",
    "    k += 1\n",
    "    if k == 10:\n",
    "        break\n",
    "a = np.array(a)\n",
    "b = []\n",
    "c = []\n",
    "for i in a:\n",
    "    b.append(i[0])\n",
    "for i in a:\n",
    "    c.append(i[1])\n",
    "\n",
    "d = {}\n",
    "for x,y in zip(b,c):\n",
    "    d[x] = float(y)\n",
    "    \n",
    "sortedD= sorted(d.items(), key=lambda x: -x[1])\n",
    "\n",
    "for i in sortedD:\n",
    "    i = list(i)\n",
    "    for j in i:\n",
    "        print(j, end = ' ')\n",
    "    print()"
   ]
  },
  {
   "cell_type": "code",
   "execution_count": 2,
   "id": "3b6654d6",
   "metadata": {},
   "outputs": [
    {
     "ename": "AttributeError",
     "evalue": "'float' object has no attribute 'split'",
     "output_type": "error",
     "traceback": [
      "\u001b[1;31m---------------------------------------------------------------------------\u001b[0m",
      "\u001b[1;31mAttributeError\u001b[0m                            Traceback (most recent call last)",
      "Input \u001b[1;32mIn [2]\u001b[0m, in \u001b[0;36m<cell line: 7>\u001b[1;34m()\u001b[0m\n\u001b[0;32m      5\u001b[0m \u001b[38;5;28;01mdef\u001b[39;00m \u001b[38;5;21mseparateCity\u001b[39m(city):\n\u001b[0;32m      6\u001b[0m     \u001b[38;5;28;01mreturn\u001b[39;00m city\u001b[38;5;241m.\u001b[39msplit(\u001b[38;5;124m'\u001b[39m\u001b[38;5;124m/\u001b[39m\u001b[38;5;124m'\u001b[39m)[\u001b[38;5;241m0\u001b[39m]\u001b[38;5;241m.\u001b[39mstrip()\n\u001b[1;32m----> 7\u001b[0m df_start[\u001b[38;5;124m'\u001b[39m\u001b[38;5;124mCityLocation\u001b[39m\u001b[38;5;124m'\u001b[39m]\u001b[38;5;241m=\u001b[39m\u001b[43mdf_start\u001b[49m\u001b[43m[\u001b[49m\u001b[38;5;124;43m'\u001b[39;49m\u001b[38;5;124;43mCityLocation\u001b[39;49m\u001b[38;5;124;43m'\u001b[39;49m\u001b[43m]\u001b[49m\u001b[38;5;241;43m.\u001b[39;49m\u001b[43mapply\u001b[49m\u001b[43m(\u001b[49m\u001b[43mseparateCity\u001b[49m\u001b[43m)\u001b[49m\n\u001b[0;32m      8\u001b[0m df_start[\u001b[38;5;124m'\u001b[39m\u001b[38;5;124mCityLocation\u001b[39m\u001b[38;5;124m'\u001b[39m]\u001b[38;5;241m.\u001b[39mreplace(\u001b[38;5;124m\"\u001b[39m\u001b[38;5;124mDelhi\u001b[39m\u001b[38;5;124m\"\u001b[39m,\u001b[38;5;124m\"\u001b[39m\u001b[38;5;124mNew Delhi\u001b[39m\u001b[38;5;124m\"\u001b[39m,inplace\u001b[38;5;241m=\u001b[39m\u001b[38;5;28;01mTrue\u001b[39;00m)\n\u001b[0;32m      9\u001b[0m df_start[\u001b[38;5;124m'\u001b[39m\u001b[38;5;124mCityLocation\u001b[39m\u001b[38;5;124m'\u001b[39m]\u001b[38;5;241m.\u001b[39mreplace(\u001b[38;5;124m\"\u001b[39m\u001b[38;5;124mbangalore\u001b[39m\u001b[38;5;124m\"\u001b[39m,\u001b[38;5;124m\"\u001b[39m\u001b[38;5;124mBangalore\u001b[39m\u001b[38;5;124m\"\u001b[39m,inplace\u001b[38;5;241m=\u001b[39m\u001b[38;5;28;01mTrue\u001b[39;00m)\n",
      "File \u001b[1;32mC:\\ProgramData\\Anaconda3\\lib\\site-packages\\pandas\\core\\series.py:4433\u001b[0m, in \u001b[0;36mSeries.apply\u001b[1;34m(self, func, convert_dtype, args, **kwargs)\u001b[0m\n\u001b[0;32m   4323\u001b[0m \u001b[38;5;28;01mdef\u001b[39;00m \u001b[38;5;21mapply\u001b[39m(\n\u001b[0;32m   4324\u001b[0m     \u001b[38;5;28mself\u001b[39m,\n\u001b[0;32m   4325\u001b[0m     func: AggFuncType,\n\u001b[1;32m   (...)\u001b[0m\n\u001b[0;32m   4328\u001b[0m     \u001b[38;5;241m*\u001b[39m\u001b[38;5;241m*\u001b[39mkwargs,\n\u001b[0;32m   4329\u001b[0m ) \u001b[38;5;241m-\u001b[39m\u001b[38;5;241m>\u001b[39m DataFrame \u001b[38;5;241m|\u001b[39m Series:\n\u001b[0;32m   4330\u001b[0m     \u001b[38;5;124;03m\"\"\"\u001b[39;00m\n\u001b[0;32m   4331\u001b[0m \u001b[38;5;124;03m    Invoke function on values of Series.\u001b[39;00m\n\u001b[0;32m   4332\u001b[0m \n\u001b[1;32m   (...)\u001b[0m\n\u001b[0;32m   4431\u001b[0m \u001b[38;5;124;03m    dtype: float64\u001b[39;00m\n\u001b[0;32m   4432\u001b[0m \u001b[38;5;124;03m    \"\"\"\u001b[39;00m\n\u001b[1;32m-> 4433\u001b[0m     \u001b[38;5;28;01mreturn\u001b[39;00m \u001b[43mSeriesApply\u001b[49m\u001b[43m(\u001b[49m\u001b[38;5;28;43mself\u001b[39;49m\u001b[43m,\u001b[49m\u001b[43m \u001b[49m\u001b[43mfunc\u001b[49m\u001b[43m,\u001b[49m\u001b[43m \u001b[49m\u001b[43mconvert_dtype\u001b[49m\u001b[43m,\u001b[49m\u001b[43m \u001b[49m\u001b[43margs\u001b[49m\u001b[43m,\u001b[49m\u001b[43m \u001b[49m\u001b[43mkwargs\u001b[49m\u001b[43m)\u001b[49m\u001b[38;5;241;43m.\u001b[39;49m\u001b[43mapply\u001b[49m\u001b[43m(\u001b[49m\u001b[43m)\u001b[49m\n",
      "File \u001b[1;32mC:\\ProgramData\\Anaconda3\\lib\\site-packages\\pandas\\core\\apply.py:1082\u001b[0m, in \u001b[0;36mSeriesApply.apply\u001b[1;34m(self)\u001b[0m\n\u001b[0;32m   1078\u001b[0m \u001b[38;5;28;01mif\u001b[39;00m \u001b[38;5;28misinstance\u001b[39m(\u001b[38;5;28mself\u001b[39m\u001b[38;5;241m.\u001b[39mf, \u001b[38;5;28mstr\u001b[39m):\n\u001b[0;32m   1079\u001b[0m     \u001b[38;5;66;03m# if we are a string, try to dispatch\u001b[39;00m\n\u001b[0;32m   1080\u001b[0m     \u001b[38;5;28;01mreturn\u001b[39;00m \u001b[38;5;28mself\u001b[39m\u001b[38;5;241m.\u001b[39mapply_str()\n\u001b[1;32m-> 1082\u001b[0m \u001b[38;5;28;01mreturn\u001b[39;00m \u001b[38;5;28;43mself\u001b[39;49m\u001b[38;5;241;43m.\u001b[39;49m\u001b[43mapply_standard\u001b[49m\u001b[43m(\u001b[49m\u001b[43m)\u001b[49m\n",
      "File \u001b[1;32mC:\\ProgramData\\Anaconda3\\lib\\site-packages\\pandas\\core\\apply.py:1137\u001b[0m, in \u001b[0;36mSeriesApply.apply_standard\u001b[1;34m(self)\u001b[0m\n\u001b[0;32m   1131\u001b[0m         values \u001b[38;5;241m=\u001b[39m obj\u001b[38;5;241m.\u001b[39mastype(\u001b[38;5;28mobject\u001b[39m)\u001b[38;5;241m.\u001b[39m_values\n\u001b[0;32m   1132\u001b[0m         \u001b[38;5;66;03m# error: Argument 2 to \"map_infer\" has incompatible type\u001b[39;00m\n\u001b[0;32m   1133\u001b[0m         \u001b[38;5;66;03m# \"Union[Callable[..., Any], str, List[Union[Callable[..., Any], str]],\u001b[39;00m\n\u001b[0;32m   1134\u001b[0m         \u001b[38;5;66;03m# Dict[Hashable, Union[Union[Callable[..., Any], str],\u001b[39;00m\n\u001b[0;32m   1135\u001b[0m         \u001b[38;5;66;03m# List[Union[Callable[..., Any], str]]]]]\"; expected\u001b[39;00m\n\u001b[0;32m   1136\u001b[0m         \u001b[38;5;66;03m# \"Callable[[Any], Any]\"\u001b[39;00m\n\u001b[1;32m-> 1137\u001b[0m         mapped \u001b[38;5;241m=\u001b[39m \u001b[43mlib\u001b[49m\u001b[38;5;241;43m.\u001b[39;49m\u001b[43mmap_infer\u001b[49m\u001b[43m(\u001b[49m\n\u001b[0;32m   1138\u001b[0m \u001b[43m            \u001b[49m\u001b[43mvalues\u001b[49m\u001b[43m,\u001b[49m\n\u001b[0;32m   1139\u001b[0m \u001b[43m            \u001b[49m\u001b[43mf\u001b[49m\u001b[43m,\u001b[49m\u001b[43m  \u001b[49m\u001b[38;5;66;43;03m# type: ignore[arg-type]\u001b[39;49;00m\n\u001b[0;32m   1140\u001b[0m \u001b[43m            \u001b[49m\u001b[43mconvert\u001b[49m\u001b[38;5;241;43m=\u001b[39;49m\u001b[38;5;28;43mself\u001b[39;49m\u001b[38;5;241;43m.\u001b[39;49m\u001b[43mconvert_dtype\u001b[49m\u001b[43m,\u001b[49m\n\u001b[0;32m   1141\u001b[0m \u001b[43m        \u001b[49m\u001b[43m)\u001b[49m\n\u001b[0;32m   1143\u001b[0m \u001b[38;5;28;01mif\u001b[39;00m \u001b[38;5;28mlen\u001b[39m(mapped) \u001b[38;5;129;01mand\u001b[39;00m \u001b[38;5;28misinstance\u001b[39m(mapped[\u001b[38;5;241m0\u001b[39m], ABCSeries):\n\u001b[0;32m   1144\u001b[0m     \u001b[38;5;66;03m# GH#43986 Need to do list(mapped) in order to get treated as nested\u001b[39;00m\n\u001b[0;32m   1145\u001b[0m     \u001b[38;5;66;03m#  See also GH#25959 regarding EA support\u001b[39;00m\n\u001b[0;32m   1146\u001b[0m     \u001b[38;5;28;01mreturn\u001b[39;00m obj\u001b[38;5;241m.\u001b[39m_constructor_expanddim(\u001b[38;5;28mlist\u001b[39m(mapped), index\u001b[38;5;241m=\u001b[39mobj\u001b[38;5;241m.\u001b[39mindex)\n",
      "File \u001b[1;32mC:\\ProgramData\\Anaconda3\\lib\\site-packages\\pandas\\_libs\\lib.pyx:2870\u001b[0m, in \u001b[0;36mpandas._libs.lib.map_infer\u001b[1;34m()\u001b[0m\n",
      "Input \u001b[1;32mIn [2]\u001b[0m, in \u001b[0;36mseparateCity\u001b[1;34m(city)\u001b[0m\n\u001b[0;32m      5\u001b[0m \u001b[38;5;28;01mdef\u001b[39;00m \u001b[38;5;21mseparateCity\u001b[39m(city):\n\u001b[1;32m----> 6\u001b[0m     \u001b[38;5;28;01mreturn\u001b[39;00m \u001b[43mcity\u001b[49m\u001b[38;5;241;43m.\u001b[39;49m\u001b[43msplit\u001b[49m(\u001b[38;5;124m'\u001b[39m\u001b[38;5;124m/\u001b[39m\u001b[38;5;124m'\u001b[39m)[\u001b[38;5;241m0\u001b[39m]\u001b[38;5;241m.\u001b[39mstrip()\n",
      "\u001b[1;31mAttributeError\u001b[0m: 'float' object has no attribute 'split'"
     ]
    }
   ],
   "source": [
    "import pandas as pd\n",
    "import numpy as np\n",
    "df_start=pd.read_csv('startup_funding.csv',encoding='utf-8')\n",
    "df_start['CityLocation'].dropna(inplace=True)\n",
    "def separateCity(city):\n",
    "    return city.split('/')[0].strip()\n",
    "df_start['CityLocation']=df_start['CityLocation'].apply(separateCity)\n",
    "df_start['CityLocation'].replace(\"Delhi\",\"New Delhi\",inplace=True)\n",
    "df_start['CityLocation'].replace(\"bangalore\",\"Bangalore\",inplace=True)\n",
    "## Converting \"AmountInUSD\" into numeric format\n",
    "df_start[\"AmountInUSD\"] = df_start[\"AmountInUSD\"].apply(lambda x: float(str(x).replace(\",\",\"\")))\n",
    "df_start[\"AmountInUSD\"] = pd.to_numeric(df_start[\"AmountInUSD\"])\n",
    "city_amount=df_start.groupby('CityLocation')['AmountInUSD'].sum().sort_values(ascending=False)[0:10]\n",
    "city=city_amount.index\n",
    "amountCity=city_amount.values\n",
    "perAmount=np.true_divide(amountCity, amountCity.sum())*100\n",
    "for i in range(len(city)):\n",
    "    print(city[i],format(perAmount[i],'.2f'))"
   ]
  },
  {
   "cell_type": "code",
   "execution_count": 3,
   "id": "d642d01f",
   "metadata": {},
   "outputs": [
    {
     "name": "stdout",
     "output_type": "stream",
     "text": [
      "Bangalore 49.71\n",
      "New Delhi 16.63\n",
      "Mumbai 13.90\n",
      "Gurgaon 12.21\n",
      "Chennai 2.43\n",
      "Pune 2.16\n",
      "Hyderabad 1.15\n",
      "Noida 1.01\n",
      "Ahmedabad 0.58\n",
      "Jaipur 0.21\n"
     ]
    }
   ],
   "source": [
    "# Open and read data file as specified in the question\n",
    "# Print the required output in given format\n",
    "import pandas as pd \n",
    "import numpy as np \n",
    "import matplotlib.pyplot as plt\n",
    "\n",
    "df_start = pd.read_csv(\"startup_funding.csv\",encoding='utf-8')\n",
    "df_start['CityLocation'].dropna(inplace=True) \n",
    "#def separateCity(city): \n",
    "#    city = str(city)\n",
    " #   return city.split('/')[0].strip() \n",
    "#df_start['CityLocation']=df_start['CityLocation'].fillna(\"\")\n",
    "df_start[\"CityLocation\"] = df_start[\"CityLocation\"].replace(['Delhi', 'bangalore','Pune / US','Bangalore / SFO','New Delhi / US','Bangalore/ Bangkok','Mumbai / NY','New Delhi/ Houston','Bangalore / Palo Alto','Gurgaon / SFO','Mumbai / UK','Noida / Singapore','Mumbai / Global','Pune/Seattle','Pune / Singapore','Chennai/ Singapore','Hyderabad/USA','New Delhi / California','Bangalore / USA','Bangalore / San Mateo','Pune / Dubai'],[\"New Delhi\", 'Bangalore','Pune','Bangalore','New Delhi', 'Bangalore','Mumbai','New Delhi','Bangalore','Gurgaon','Mumbai','Noida','Mumbai','Pune','Pune','Chennai','Hyderabad','New Delhi','Bangalore','Bangalore','Pune'])\n",
    "\n",
    "#df_start['CityLocation']=df_start['CityLocation'].apply(separateCity) \n",
    "#df_start['CityLocation'].replace(\"Delhi\",\"New Delhi\",inplace=True) \n",
    "#df_start['CityLocation'].replace(\"bangalore\",\"Bangalore\",inplace=True)\n",
    "startup = df_start['CityLocation'].value_counts()\n",
    "df_start[\"AmountInUSD\"]=df_start[\"AmountInUSD\"].apply(lambda x:float(str(x).replace(\",\",\"\")))\n",
    "df_start[\"AmountInUSD\"]=pd.to_numeric(df_start[\"AmountInUSD\"])\n",
    "df_amount=df_start.groupby('CityLocation')[\"AmountInUSD\"].sum().sort_values(ascending=False)[0:10]\n",
    "city=df_amount.index\n",
    "amountCity=df_amount.values\n",
    "perAmount=np.true_divide(amountCity,amountCity.sum())*100\n",
    "for i in range(len(city)):\n",
    "    print(city[i],format(perAmount[i],'.2f'))\n",
    "#for i in df_start['CityLocation']:\n",
    "#    print(i)"
   ]
  },
  {
   "cell_type": "markdown",
   "id": "3c26bf6b",
   "metadata": {},
   "source": [
    "# Funding Rounds"
   ]
  },
  {
   "cell_type": "code",
   "execution_count": 4,
   "id": "3b70e020",
   "metadata": {},
   "outputs": [
    {
     "name": "stdout",
     "output_type": "stream",
     "text": [
      "Ola 16\n",
      "Swiggy 7\n",
      "Oyo 6\n",
      "Flipkart 5\n",
      "UrbanClap 5\n"
     ]
    }
   ],
   "source": [
    "import csv\n",
    "import numpy as np\n",
    "import pandas as pd\n",
    "import matplotlib.pyplot as plt\n",
    "\n",
    "data = pd.read_csv('startup_funding.csv')\n",
    "\n",
    "#[OYOfit]\n",
    "df = data.copy()\n",
    "df[\"StartupName\"].dropna(inplace=True)\n",
    "df.loc[df['StartupName'].str.contains('oyo',case = False),'StartupName'] = 'Oyo'    ## COncept to replace all strings that contain a specific substring.\n",
    "\n",
    "df.loc[df['StartupName'].str.contains('flipkart',case = False),'StartupName'] = 'Flipkart'\n",
    "df.loc[df['StartupName'].str.contains('ola',case = False),'StartupName'] = 'Ola'\n",
    "df.loc[df['StartupName'].str.contains('paytm',case = False),'StartupName'] = 'Paytm'\n",
    "\n",
    "df[\"AmountInUSD\"] =df[\"AmountInUSD\"].str.replace(',','')\n",
    "df[\"AmountInUSD\"] = df[\"AmountInUSD\"].astype(float)\n",
    "df[\"AmountInUSD\"] = df[\"AmountInUSD\"].dropna()\n",
    "df[\"AmountInUSD\"] = pd.to_numeric(df[\"AmountInUSD\"])\n",
    "startups = df.groupby(\"StartupName\")[\"AmountInUSD\"].count().sort_values(ascending = False)[:5]\n",
    "\n",
    "start = startups.index\n",
    "amt = startups.values\n",
    "for i in range(len(start)):\n",
    "    print(start[i],amt[i])"
   ]
  },
  {
   "cell_type": "code",
   "execution_count": 5,
   "id": "3ea41730",
   "metadata": {},
   "outputs": [
    {
     "name": "stdout",
     "output_type": "stream",
     "text": [
      "Ola 9\n",
      "Swiggy 7\n",
      "Paytm 6\n",
      "UrbanClap 6\n",
      "Oyo 6\n"
     ]
    }
   ],
   "source": [
    "import csv\n",
    "import numpy as np\n",
    "import pandas as pd\n",
    "import matplotlib.pyplot as plt\n",
    "\n",
    "data = pd.read_csv('startup_funding.csv')\n",
    "\n",
    "#[OYOfit]\n",
    "df = data.copy()\n",
    "df['StartupName'] = df['StartupName'].replace('Ola Cabs', 'Ola')\n",
    "df['StartupName'] = df['StartupName'].replace('Olacabs', 'Ola')\n",
    "df['StartupName'] = df['StartupName'].replace('Oyo Rooms', 'Oyo')\n",
    "df['StartupName'] = df['StartupName'].replace('OyoRooms', 'Oyo')\n",
    "#df['StartupName'] = df['StartupName'].replace('OYOfit', 'Oyo')\n",
    "df['StartupName'] = df['StartupName'].replace('Oyorooms', 'Oyo')\n",
    "df['StartupName'] = df['StartupName'].replace('OYO Rooms', 'Oyo')\n",
    "df['StartupName'] = df['StartupName'].replace('Paytm Marketplace', 'Paytm')\n",
    "df['StartupName'] = df['StartupName'].replace('Flipkart.com', 'Flipkart')\n",
    "\n",
    "df[\"AmountInUSD\"] =df[\"AmountInUSD\"].str.replace(',','')\n",
    "df[\"AmountInUSD\"] = df[\"AmountInUSD\"].astype(float)\n",
    "df[\"AmountInUSD\"] = df[\"AmountInUSD\"].fillna(0)\n",
    "\n",
    "df[\"AmountInUSD\"] = pd.to_numeric(df[\"AmountInUSD\"])\n",
    "startups = df.groupby(\"StartupName\")[\"AmountInUSD\"].count().sort_values(ascending = False)[:5]\n",
    "\n",
    "\n",
    "start = startups.index\n",
    "amt = startups.values\n",
    "for i in range(len(start)):\n",
    "    print(start[i],amt[i])\n",
    "    \n",
    "    \n",
    "## Issue with the contains() was we have to exclude OYOfit, but due to case = False, it was counting OYOfit in oyorooms.\n",
    "## Correct code above."
   ]
  },
  {
   "cell_type": "markdown",
   "id": "3ae793b1",
   "metadata": {},
   "source": [
    "# Investment Type"
   ]
  },
  {
   "cell_type": "code",
   "execution_count": 6,
   "id": "2030f8f6",
   "metadata": {},
   "outputs": [
    {
     "data": {
      "image/png": "[encoded data removed]",
      "text/plain": [
       "<Figure size 432x288 with 1 Axes>"
      ]
     },
     "metadata": {},
     "output_type": "display_data"
    },
    {
     "name": "stdout",
     "output_type": "stream",
     "text": [
      "Private Equity 70.85 \n",
      "Seed Funding 28.47 \n",
      "Debt Funding 0.67 \n",
      "Crowd Funding 0.01 \n"
     ]
    }
   ],
   "source": [
    "import csv\n",
    "import numpy as np\n",
    "import pandas as pd\n",
    "import matplotlib.pyplot as plt\n",
    "\n",
    "data = pd.read_csv(\"startup_funding.csv\")\n",
    "\n",
    "df = data.copy()\n",
    "\n",
    "investment =df[\"InvestmentType\"].value_counts()\n",
    "\n",
    "amount = df[\"AmountInUSD\"].str.replace(',','')\n",
    "amount.fillna(0, inplace = True)\n",
    "\n",
    "df[\"InvestmentType\"] = df[\"InvestmentType\"].replace([\"SeedFunding\",'PrivateEquity', 'Crowd funding'], [\"Seed Funding\",'Private Equity', 'Crowd Funding'])\n",
    "\n",
    "investments = df[\"InvestmentType\"]\n",
    "\n",
    "df1 = pd.DataFrame(investments)\n",
    "df2 = pd.DataFrame(amount)\n",
    "df2[\"InvestmentType\"] = investments\n",
    "\n",
    "invest = df['InvestmentType'].value_counts().index\n",
    "\n",
    "invest=np.array(invest)\n",
    "amt = np.array(amount, dtype = int)\n",
    "\n",
    "arr = []\n",
    "\n",
    "for i in invest:\n",
    "    ind = np.where(investments == i)\n",
    "    sums = amt[ind].sum()\n",
    "    arr.append([i, sums])\n",
    "\n",
    "    \n",
    "arr.sort(reverse = True)\n",
    "\n",
    "invt = []\n",
    "usd = []\n",
    "for i in arr:\n",
    "    invt.append(i[0])\n",
    "for i in arr:\n",
    "    usd.append(i[1])\n",
    "    \n",
    "plt.pie(usd, autopct = '%.2f%%', labels = invt)\n",
    "plt.show()\n",
    "\n",
    "arr2 = []\n",
    "for i in range(len(usd)):\n",
    "    per = usd[i] / sum(usd) * 100\n",
    "    arr2.append([invt[i], format(per, '.2f')])\n",
    "\n",
    "arr2[0],arr2[1] = arr2[1], arr2[0]\n",
    "for i in arr2:\n",
    "    for j in i:\n",
    "        print(j, end= ' ')\n",
    "    print()\n",
    "                "
   ]
  },
  {
   "cell_type": "markdown",
   "id": "c467bf58",
   "metadata": {},
   "source": [
    "# Number of Fundings"
   ]
  },
  {
   "cell_type": "code",
   "execution_count": 7,
   "id": "3d12d3e1",
   "metadata": {},
   "outputs": [
    {
     "data": {
      "image/png": "[encoded data removed]",
      "text/plain": [
       "<Figure size 432x288 with 1 Axes>"
      ]
     },
     "metadata": {
      "needs_background": "light"
     },
     "output_type": "display_data"
    },
    {
     "name": "stdout",
     "output_type": "stream",
     "text": [
      "2015   936\n",
      "2016   993\n",
      "2017   443\n"
     ]
    }
   ],
   "source": [
    "import matplotlib.pyplot as plt\n",
    "import pandas as pd\n",
    "df = pd.read_csv('startup_funding.csv')\n",
    "a = df['Date'].str[-4:]\n",
    "ans = a.value_counts().sort_index()\n",
    "x = ans.index\n",
    "y = ans.values\n",
    "plt.plot(x,y)\n",
    "plt.show()\n",
    "for i in range(len(x)):\n",
    "    print(int(x[i]),\" \",y[i])"
   ]
  },
  {
   "cell_type": "markdown",
   "id": "daa26c69",
   "metadata": {},
   "source": [
    "# Top Indian Cities"
   ]
  },
  {
   "cell_type": "code",
   "execution_count": 8,
   "id": "dd85ee67",
   "metadata": {},
   "outputs": [
    {
     "name": "stdout",
     "output_type": "stream",
     "text": [
      "Bangalore 635\n",
      "Mumbai 449\n",
      "New Delhi 389\n",
      "Gurgaon 241\n",
      "Pune 91\n",
      "Noida 79\n",
      "Hyderabad 77\n",
      "Chennai 67\n",
      "Ahmedabad 35\n",
      "Jaipur 25\n"
     ]
    }
   ],
   "source": [
    "import csv\n",
    "import numpy as np\n",
    "import pandas as pd\n",
    "import matplotlib.pyplot as plt\n",
    "\n",
    "data = pd.read_csv(\"startup_funding.csv\")\n",
    "\n",
    "df = data.copy()\n",
    "counts = df['CityLocation'].value_counts()\n",
    "df[\"CityLocation\"] = df[\"CityLocation\"].replace(['Delhi', 'bangalore','Pune / US','Bangalore / SFO','New Delhi / US','Bangalore/ Bangkok','Mumbai / NY','New Delhi/ Houston','Bangalore / Palo Alto','Gurgaon / SFO','Mumbai / UK','Noida / Singapore','Mumbai / Global','Pune/Seattle','Pune / Singapore','Chennai/ Singapore','Hyderabad/USA','New Delhi / California','Bangalore / USA','Bangalore / San Mateo','Pune / Dubai'],[\"New Delhi\", 'Bangalore','Pune','Bangalore','New Delhi', 'Bangalore','Mumbai','New Delhi','Bangalore','Gurgaon','Mumbai','Noida','Mumbai','Pune','Pune','Chennai','Hyderabad','New Delhi','Bangalore','Bangalore','Pune'])\n",
    "\n",
    "counts = df[\"CityLocation\"].value_counts()\n",
    "city = counts.index\n",
    "value = counts.values\n",
    "\n",
    "for i in range(10):\n",
    "    print(city[i], value[i])\n"
   ]
  },
  {
   "cell_type": "code",
   "execution_count": 9,
   "id": "68258fde",
   "metadata": {},
   "outputs": [
    {
     "name": "stdout",
     "output_type": "stream",
     "text": [
      "Bangalore 632\n",
      "Mumbai 446\n",
      "New Delhi 383\n",
      "Gurgaon 240\n",
      "Pune 86\n",
      "Hyderabad 78\n",
      "Noida 78\n",
      "Chennai 68\n",
      "Ahmedabad 35\n",
      "Jaipur 25\n"
     ]
    }
   ],
   "source": [
    "import csv\n",
    "import pandas as pd\n",
    "import numpy as np\n",
    "import matplotlib.pyplot as plt\n",
    "file = pd.read_csv('startup_funding.csv')\n",
    "d = file.copy()\n",
    "c = 0\n",
    "a = {}\n",
    "b = {}\n",
    "#city = d[\"CityLocation\"].replace(['Delhi', 'bangalore','Pune / US','Bangalore / SFO','New Delhi / US','Bangalore/ Bangkok','Mumbai / NY','New Delhi/ Houston','Bangalore / Palo Alto','Gurgaon / SFO','Mumbai / UK','Noida / Singapore','Mumbai / Global','Pune/Seattle','Pune / Singapore','Chennai/ Singapore','Hyderabad/USA','New Delhi / California','Bangalore / USA','Bangalore / San Mateo','Pune / Dubai'],[\"New Delhi\", 'Bangalore','Pune','Bangalore','New Delhi', 'Bangalore','Mumbai','New Delhi','Bangalore','Gurgaon','Mumbai','Noida','Mumbai','Pune','Pune','Chennai','Hyderabad','New Delhi','Bangalore','Bangalore','Pune'])\n",
    "city = d['CityLocation']\n",
    "city.dropna(inplace = True)\n",
    "\n",
    "for ele in city:\n",
    "    s = ele.split('/')\n",
    "    p = len(s)\n",
    "    ele = s[0]\n",
    "    if ele[0].islower():\n",
    "        ele = ele[0].upper() + ele[1:]\n",
    "    a[ele] = a.get(ele,0) + p\n",
    "b = dict(sorted(a.items(), key=lambda item: item[1] , reverse = True))\n",
    "for ele in b:\n",
    "    if c == 10:\n",
    "        break\n",
    "    print(ele , b[ele])\n",
    "    c += 1"
   ]
  },
  {
   "cell_type": "code",
   "execution_count": 10,
   "id": "baa419c7",
   "metadata": {},
   "outputs": [
    {
     "data": {
      "text/plain": [
       "Bangalore     635\n",
       "Mumbai        449\n",
       "New Delhi     389\n",
       "Gurgaon       241\n",
       "Pune           91\n",
       "Noida          79\n",
       "Hyderabad      77\n",
       "Chennai        67\n",
       "Ahmedabad      35\n",
       "Jaipur         25\n",
       "Kolkata        19\n",
       "Chandigarh     10\n",
       "Indore          9\n",
       "Vadodara        9\n",
       "Goa             8\n",
       "Singapore       5\n",
       "Kanpur          4\n",
       "Coimbatore      3\n",
       "USA             2\n",
       "Gwalior         2\n",
       "Bhopal          2\n",
       "Udupi           2\n",
       "Kochi           2\n",
       "Trivandrum      2\n",
       "Agra            2\n",
       "Siliguri        2\n",
       "US              2\n",
       "Jodhpur         1\n",
       "Boston          1\n",
       "Nagpur          1\n",
       "Belgaum         1\n",
       "New York        1\n",
       "Seattle         1\n",
       "India           1\n",
       "Udaipur         1\n",
       "Varanasi        1\n",
       "Missourie       1\n",
       "London          1\n",
       "SFO             1\n",
       "Lucknow         1\n",
       "Panaji          1\n",
       "Kozhikode       1\n",
       "Kerala          1\n",
       "Hubli           1\n",
       "Surat           1\n",
       "Karur           1\n",
       "Dallas          1\n",
       "Name: 0, dtype: int64"
      ]
     },
     "execution_count": 10,
     "metadata": {},
     "output_type": "execute_result"
    }
   ],
   "source": [
    "import numpy as np\n",
    "import pandas as pd\n",
    "import matplotlib.pyplot as plt\n",
    "\n",
    "data = pd.read_csv('startup_funding.csv')\n",
    "city = data['CityLocation']\n",
    "city.dropna(inplace = True)\n",
    "\n",
    "s = city.str.split('/')\n",
    "\n",
    "city = []\n",
    "for i in s:\n",
    "        i[0] = i[0].strip()\n",
    "        if i[0] == 'Delhi':\n",
    "            i[0] = 'New Delhi'\n",
    "            city.append(i[0])\n",
    "        elif i[0] == 'bangalore':\n",
    "            i[0] ='Bangalore'\n",
    "            city.append(i[0])\n",
    "        else:\n",
    "            city.append(i[0])\n",
    "\n",
    "df = pd.DataFrame(city)\n",
    "s = df[0].value_counts()\n",
    "s"
   ]
  },
  {
   "cell_type": "markdown",
   "id": "25b8b40e",
   "metadata": {},
   "source": [
    "# Top Industries"
   ]
  },
  {
   "cell_type": "code",
   "execution_count": 11,
   "id": "7b35efb8",
   "metadata": {},
   "outputs": [
    {
     "ename": "AttributeError",
     "evalue": "'SeriesGroupBy' object has no attribute 'sort_values'",
     "output_type": "error",
     "traceback": [
      "\u001b[1;31m---------------------------------------------------------------------------\u001b[0m",
      "\u001b[1;31mAttributeError\u001b[0m                            Traceback (most recent call last)",
      "Input \u001b[1;32mIn [11]\u001b[0m, in \u001b[0;36m<cell line: 38>\u001b[1;34m()\u001b[0m\n\u001b[0;32m     36\u001b[0m df1 \u001b[38;5;241m=\u001b[39m pd\u001b[38;5;241m.\u001b[39mDataFrame(ind, columns \u001b[38;5;241m=\u001b[39m [\u001b[38;5;124m\"\u001b[39m\u001b[38;5;124ma\u001b[39m\u001b[38;5;124m\"\u001b[39m])\n\u001b[0;32m     37\u001b[0m df1[\u001b[38;5;124m\"\u001b[39m\u001b[38;5;124mb\u001b[39m\u001b[38;5;124m\"\u001b[39m] \u001b[38;5;241m=\u001b[39m cost\n\u001b[1;32m---> 38\u001b[0m df2 \u001b[38;5;241m=\u001b[39m \u001b[43mdf1\u001b[49m\u001b[38;5;241;43m.\u001b[39;49m\u001b[43mgroupby\u001b[49m\u001b[43m(\u001b[49m\u001b[38;5;124;43m'\u001b[39;49m\u001b[38;5;124;43ma\u001b[39;49m\u001b[38;5;124;43m'\u001b[39;49m\u001b[43m)\u001b[49m\u001b[43m[\u001b[49m\u001b[38;5;124;43m'\u001b[39;49m\u001b[38;5;124;43mb\u001b[39;49m\u001b[38;5;124;43m'\u001b[39;49m\u001b[43m]\u001b[49m\u001b[38;5;241;43m.\u001b[39;49m\u001b[43msort_values\u001b[49m(ascending\u001b[38;5;241m=\u001b[39m\u001b[38;5;28;01mFalse\u001b[39;00m)\n",
      "File \u001b[1;32mC:\\ProgramData\\Anaconda3\\lib\\site-packages\\pandas\\core\\groupby\\groupby.py:904\u001b[0m, in \u001b[0;36mGroupBy.__getattr__\u001b[1;34m(self, attr)\u001b[0m\n\u001b[0;32m    901\u001b[0m \u001b[38;5;28;01mif\u001b[39;00m attr \u001b[38;5;129;01min\u001b[39;00m \u001b[38;5;28mself\u001b[39m\u001b[38;5;241m.\u001b[39mobj:\n\u001b[0;32m    902\u001b[0m     \u001b[38;5;28;01mreturn\u001b[39;00m \u001b[38;5;28mself\u001b[39m[attr]\n\u001b[1;32m--> 904\u001b[0m \u001b[38;5;28;01mraise\u001b[39;00m \u001b[38;5;167;01mAttributeError\u001b[39;00m(\n\u001b[0;32m    905\u001b[0m     \u001b[38;5;124mf\u001b[39m\u001b[38;5;124m\"\u001b[39m\u001b[38;5;124m'\u001b[39m\u001b[38;5;132;01m{\u001b[39;00m\u001b[38;5;28mtype\u001b[39m(\u001b[38;5;28mself\u001b[39m)\u001b[38;5;241m.\u001b[39m\u001b[38;5;18m__name__\u001b[39m\u001b[38;5;132;01m}\u001b[39;00m\u001b[38;5;124m'\u001b[39m\u001b[38;5;124m object has no attribute \u001b[39m\u001b[38;5;124m'\u001b[39m\u001b[38;5;132;01m{\u001b[39;00mattr\u001b[38;5;132;01m}\u001b[39;00m\u001b[38;5;124m'\u001b[39m\u001b[38;5;124m\"\u001b[39m\n\u001b[0;32m    906\u001b[0m )\n",
      "\u001b[1;31mAttributeError\u001b[0m: 'SeriesGroupBy' object has no attribute 'sort_values'"
     ]
    }
   ],
   "source": [
    "import csv\n",
    "import numpy as np\n",
    "import pandas as pd\n",
    "import matplotlib.pyplot as plt\n",
    "\n",
    "data = pd.read_csv('startup_funding.csv')\n",
    "\n",
    "\n",
    "df = data.copy()\n",
    "df = df.dropna(subset = ['IndustryVertical'])\n",
    "industry = df[\"IndustryVertical\"].replace(['ECommerce','eCommerce'],['Ecommerce','Ecommerce'])\n",
    "\n",
    "amount = df[\"AmountInUSD\"].str.replace(',','')\n",
    "amount.fillna(0, inplace = True)\n",
    "\n",
    "industry = np.array(industry)\n",
    "amount = np.array(amount, dtype = np.int64)\n",
    "\n",
    "    \n",
    "unique = np.unique(industry)\n",
    "arr = []\n",
    "for i in unique:\n",
    "    index = np.where(industry == i)\n",
    "    sums = amount[index].sum()\n",
    "    arr.append([i, sums])\n",
    "    \n",
    "arr = np.array(arr)\n",
    "\n",
    "ind = []\n",
    "cost= []\n",
    "for i in arr:\n",
    "    ind.append(i[0])\n",
    "for i in arr:\n",
    "    cost.append(i[1])\n",
    "    \n",
    "df1 = pd.DataFrame(ind, columns = [\"a\"])\n",
    "df1[\"b\"] = cost\n",
    "df2 = df1.groupby('a')['b'].sort_values(ascending=False)\n"
   ]
  },
  {
   "cell_type": "code",
   "execution_count": 12,
   "id": "a35d8be2",
   "metadata": {},
   "outputs": [
    {
     "name": "stdout",
     "output_type": "stream",
     "text": [
      "Healthcare 0.57\n",
      "User Engagment & Analytics platform 0.06\n",
      "Beauty & Wellness Products e-tailer 0.06\n",
      "Industrial Tools Marketplace 0.05\n",
      "Education 0.53\n"
     ]
    }
   ],
   "source": [
    "    \n",
    "unique = np.unique(industry)\n",
    "arr = []\n",
    "for i in unique:\n",
    "    index = np.where(industry == i)\n",
    "    sums = amount[index].sum()\n",
    "    arr.append([i, sums])\n",
    "    \n",
    "arr = np.array(arr)\n",
    "arr = arr[arr[:,1].argsort()[::-1]]\n",
    "\n",
    "ind = []\n",
    "cost= []\n",
    "\n",
    "for i in arr:\n",
    "    ind.append(i[0])\n",
    "for i in arr:\n",
    "    cost.append(i[1])\n",
    "    \n",
    "cost = np.array(cost,dtype = np.int64)\n",
    "\n",
    "    \n",
    "for i in range(5):\n",
    "    per = (cost[i] / sum(cost)) * 100\n",
    "    print(ind[i], format(per, '.2f'))"
   ]
  },
  {
   "cell_type": "code",
   "execution_count": 13,
   "id": "e573e7d7",
   "metadata": {},
   "outputs": [
    {
     "name": "stdout",
     "output_type": "stream",
     "text": [
      "Ecommerce 40.53\n",
      "Consumer Internet 35.95\n",
      "Technology 10.45\n",
      "Online Marketplace 6.63\n",
      "E-Commerce & M-Commerce platform 6.44\n"
     ]
    }
   ],
   "source": [
    "# correct one\n",
    "import csv\n",
    "import numpy as np\n",
    "import pandas as pd\n",
    "import matplotlib.pyplot as plt\n",
    "\n",
    "data = pd.read_csv('startup_funding.csv')\n",
    "\n",
    "\n",
    "df = data.copy()\n",
    "df = df.dropna(subset = ['IndustryVertical'])\n",
    "industry = df[\"IndustryVertical\"].replace(['ECommerce','eCommerce','ecommerce'],['Ecommerce','Ecommerce','Ecommerce'])\n",
    "\n",
    "df['AmountInUSD'] = df[\"AmountInUSD\"].str.replace(',','')\n",
    "df[\"AmountInUSD\"] = df['AmountInUSD'].astype(float)\n",
    "df['AmountInUSD'].fillna(0,inplace = True)\n",
    "df['AmountInUSD'] = pd.to_numeric(df[\"AmountInUSD\"])\n",
    "ind = df.groupby(industry)['AmountInUSD'].sum().sort_values(ascending =False)[:5]\n",
    "\n",
    "industries = ind.index\n",
    "amount = ind.values\n",
    "per = np.true_divide(amount, amount.sum()) * 100\n",
    "for i in range(len(ind)):\n",
    "    print(industries[i],format(per[i],'.2f'))"
   ]
  },
  {
   "cell_type": "code",
   "execution_count": 14,
   "id": "16579044",
   "metadata": {},
   "outputs": [
    {
     "name": "stdout",
     "output_type": "stream",
     "text": [
      "Ecommerce 40.52\n",
      "Consumer Internet 35.96\n",
      "Technology 10.45\n",
      "Online Marketplace 6.63\n",
      "E-Commerce & M-Commerce platform 6.44\n"
     ]
    }
   ],
   "source": [
    "import pandas as pd\n",
    "import numpy as np\n",
    "df_start=pd.read_csv('startup_funding.csv',encoding='utf-8')\n",
    "## Correcting the InvestmentType\n",
    "#industry = df[\"IndustryVertical\"].replace(['ECommerce','eCommerce','ecommerce'],['Ecommerce','Ecommerce','Ecommerce'])\n",
    "\n",
    "df_start['IndustryVertical'].replace('eCommerce','Ecommerce',inplace=True)\n",
    "#df_start['IndustryVertical'].replace('E-Commerce & M-Commerce platform','Ecommerce',inplace=True)\n",
    "df_start['IndustryVertical'].replace('ECommerce','Ecommerce',inplace=True)\n",
    "#df_start['IndustryVertical'].replace('Ecommerce Marketplace ','Ecommerce',inplace=True)\n",
    "#df_start['IndustryVertical'].replace('Ecommerce Logistics','Ecommerce',inplace=True)\n",
    "df_start['IndustryVertical'].replace('ecommerce ','Ecommerce',inplace=True)\n",
    "\n",
    "##df_start['InvestmentType'].replace('Crowd funding','Crowd Funding',inplace=True)\n",
    "## Converting  \"AmountInUSD\" into numeric format\n",
    "df_start[\"AmountInUSD\"] = df_start[\"AmountInUSD\"].apply(lambda x: float(str(x).replace(\",\",\"\")))\n",
    "df_start[\"AmountInUSD\"] = pd.to_numeric(df_start[\"AmountInUSD\"])\n",
    "invest_amount=df_start.groupby('IndustryVertical')['AmountInUSD'].sum().sort_values(ascending=False)[0:5]\n",
    "invest=invest_amount.index\n",
    "amountInvest=invest_amount.values\n",
    "peramount=np.true_divide(amountInvest, amountInvest.sum())*100\n",
    "for i in range(len(invest)):\n",
    "    print(invest[i],format(peramount[i],'.2f'))"
   ]
  },
  {
   "cell_type": "markdown",
   "id": "e3e5ec60",
   "metadata": {},
   "source": [
    "# Top Investor"
   ]
  },
  {
   "cell_type": "code",
   "execution_count": 15,
   "id": "e0df48ef",
   "metadata": {},
   "outputs": [
    {
     "name": "stdout",
     "output_type": "stream",
     "text": [
      "Sequoia Capital 64\n"
     ]
    }
   ],
   "source": [
    "# Open and read data file as specified in the question\n",
    "# Print the required output in given format\n",
    "## c0rrect code\n",
    "import csv\n",
    "import numpy as np\n",
    "import pandas as pd\n",
    "import matplotlib.pyplot as plt\n",
    "\n",
    "data = pd.read_csv('startup_funding.csv')\n",
    "\n",
    "#[OYOfit]\n",
    "\n",
    "df = data.copy()\n",
    "##a = df[\"InvestorsName\"].value_counts()\n",
    "a = df[\"InvestorsName\"].str.split(',')\n",
    "arr = []\n",
    "a = list(a)\n",
    "arr = []\n",
    "for i in a:\n",
    "    if type(i) != float or type(i) == list:\n",
    "        for j in i:\n",
    "            arr.append(j)\n",
    "    else:\n",
    "        arr.append(i)\n",
    "        \n",
    "\n",
    "\n",
    "df2 = pd.DataFrame(arr)\n",
    "a = df2[0]\n",
    "b = a.str.lstrip()\n",
    "c = b.value_counts()[:1]\n",
    "d= c.index\n",
    "e= c.values\n",
    "\n",
    "for i in range(len(d)):\n",
    "    print(d[i],e[i])\n"
   ]
  },
  {
   "cell_type": "code",
   "execution_count": 16,
   "id": "5af16870",
   "metadata": {},
   "outputs": [
    {
     "name": "stdout",
     "output_type": "stream",
     "text": [
      "Sequoia Capital 64\n"
     ]
    }
   ],
   "source": [
    "import pandas as pd\n",
    "import numpy as np\n",
    "import collections\n",
    "\n",
    "df = pd.read_csv('startup_funding.csv',encoding = 'utf-8')\n",
    "df.InvestorsName.fillna(\"\",inplace = True)\n",
    "investors = df.InvestorsName\n",
    "\n",
    "investors_name = []\n",
    "for i in investors:\n",
    "    if i != \"\":\n",
    "        temp = i.split(\",\")\n",
    "        for j in temp:\n",
    "            investors_name.append(j.strip())\n",
    "dct = {}\n",
    "for i in investors_name:\n",
    "    dct[i] = dct.get(i,0) + 1\n",
    "    \n",
    "\n",
    "#for i in dct:\n",
    "#    print(i, dct[i])\n",
    "for i in dct:\n",
    "    if dct[i] == max(dct.values()):\n",
    "        print(i, dct[i])"
   ]
  },
  {
   "cell_type": "code",
   "execution_count": 17,
   "id": "1d230a52",
   "metadata": {},
   "outputs": [
    {
     "name": "stdout",
     "output_type": "stream",
     "text": [
      "Sequoia Capital 64\n"
     ]
    }
   ],
   "source": [
    "# Open and read data file as specified in the question\n",
    "# Print the required output in given format\n",
    "import numpy as np\n",
    "import pandas as pd\n",
    "def f(x):\n",
    "    for i in x.split(','):\n",
    "        #print(type(i))\n",
    "        if i != '':\n",
    "            #print(i)\n",
    "            i = i.strip()\n",
    "            d[i]=d.get(i,0)+1\n",
    "    #return i\n",
    "df=pd.read_csv('startup_funding.csv')\n",
    "df.InvestorsName.fillna(\"\",inplace = True)\n",
    "\n",
    "#df.dropna(inplace=True,subset=['InvestorsName'])\n",
    "#df.dropna(inplace=True,subset=['AmountInUSD'])\n",
    "d={}\n",
    "df['InvestorsName'].apply(f)\n",
    "max=0\n",
    "maxinvestor=''\n",
    "for i in d:\n",
    "    if(d[i]>max):\n",
    "        maxinvestor=i\n",
    "        max=d[i]\n",
    "print(maxinvestor,int(max))\n"
   ]
  },
  {
   "cell_type": "markdown",
   "id": "502aeae7",
   "metadata": {},
   "source": [
    "# Top Indian Startup"
   ]
  },
  {
   "cell_type": "code",
   "execution_count": 18,
   "id": "97e1184f",
   "metadata": {},
   "outputs": [
    {
     "name": "stdout",
     "output_type": "stream",
     "text": [
      "Paytm\n",
      "Flipkart\n",
      "Ola\n",
      "Snapdeal\n",
      "Oyo\n"
     ]
    }
   ],
   "source": [
    "import csv\n",
    "import numpy as np\n",
    "import pandas as pd\n",
    "import matplotlib.pyplot as plt\n",
    "\n",
    "data = pd.read_csv('startup_funding.csv')\n",
    "\n",
    "#[OYOfit]\n",
    "df = data.copy()\n",
    "df[\"StartupName\"].dropna(inplace=True)\n",
    "df.loc[df['StartupName'].str.contains('oyo',case = False),'StartupName'] = 'Oyo'    ## COncept to replace all strings that contain a specific substring.\n",
    "\n",
    "df.loc[df['StartupName'].str.contains('flipkart',case = False),'StartupName'] = 'Flipkart'\n",
    "df.loc[df['StartupName'].str.contains('ola',case = False),'StartupName'] = 'Ola'\n",
    "df.loc[df['StartupName'].str.contains('paytm',case = False),'StartupName'] = 'Paytm'\n",
    "\n",
    "df[\"AmountInUSD\"] =df[\"AmountInUSD\"].str.replace(',','')\n",
    "df[\"AmountInUSD\"] = df[\"AmountInUSD\"].astype(float)\n",
    "df[\"AmountInUSD\"].fillna(0, inplace = True)\n",
    "df[\"AmountInUSD\"] = pd.to_numeric(df[\"AmountInUSD\"])\n",
    "startups = df.groupby(\"StartupName\")[\"AmountInUSD\"].sum().sort_values(ascending = False)[:5]\n",
    "\n",
    "start = startups.index\n",
    "amt = startups.values\n",
    "for i in start:\n",
    "    print(i)\n",
    "\n",
    "#[Ola, Flipkart, Oyo, Paytm]"
   ]
  },
  {
   "cell_type": "code",
   "execution_count": 19,
   "id": "6cbeca40",
   "metadata": {},
   "outputs": [
    {
     "name": "stdout",
     "output_type": "stream",
     "text": [
      "Paytm\n",
      "Flipkart\n",
      "Ola\n",
      "Snapdeal\n",
      "Oyo\n"
     ]
    }
   ],
   "source": [
    "import pandas as pd\n",
    "import numpy as np\n",
    "import matplotlib.pyplot as plt\n",
    "df=pd.read_csv('startup_funding.csv',encoding='utf-8')\n",
    "df.dropna(subset=['StartupName'],inplace=True)\n",
    "df.loc[df['StartupName'].str.contains('oyo',case = False),'StartupName'] = 'Oyo'  \n",
    "## COncept to replace all strings that contain a specific substring.\n",
    "df.loc[df['StartupName'].str.contains('flipkart',case = False),'StartupName'] = 'Flipkart'\n",
    "df.loc[df['StartupName'].str.contains('ola',case = False),'StartupName'] = 'Ola'\n",
    "df.loc[df['StartupName'].str.contains('paytm',case = False),'StartupName'] = 'Paytm'\n",
    "\n",
    "\n",
    "\n",
    "df[\"AmountInUSD\"] = df[\"AmountInUSD\"].apply(lambda x: float(str(x).replace(\",\",\"\")))\n",
    "\n",
    "# #df_start[\"AmountInUSD\"] = pd.to_numeric(df_start[\"AmountInUSD\"])\n",
    "\n",
    "industry_amount=df.groupby('StartupName')['AmountInUSD'].sum().sort_values(ascending=False)[0:5]\n",
    "\n",
    "industry=industry_amount.index\n",
    "\n",
    "amount=industry_amount.values\n",
    "\n",
    "perAmount=np.true_divide(amount, amount.sum())*100\n",
    "for i in range(len(industry)):\n",
    "\n",
    "    print(industry[i])"
   ]
  },
  {
   "cell_type": "code",
   "execution_count": 20,
   "id": "7e69b819",
   "metadata": {},
   "outputs": [
    {
     "name": "stdout",
     "output_type": "stream",
     "text": [
      "Paytm\n",
      "Flipkart\n",
      "Ola\n",
      "Snapdeal\n",
      "Oyo\n"
     ]
    }
   ],
   "source": [
    "import pandas as pd\n",
    "import numpy as np\n",
    "import matplotlib.pyplot as plt\n",
    "df_start=pd.read_csv('startup_funding.csv',encoding='utf-8')\n",
    "df_start.dropna(subset=['StartupName'],inplace=True)\n",
    "df_start.loc[df['StartupName'].str.contains('oyo',case = False),'StartupName'] = 'Oyo'  \n",
    "## COncept to replace all strings that contain a specific substring.\n",
    "df_start.loc[df['StartupName'].str.contains('flipkart',case = False),'StartupName'] = 'Flipkart'\n",
    "df_start.loc[df['StartupName'].str.contains('ola',case = False),'StartupName'] = 'Ola'\n",
    "df_start.loc[df['StartupName'].str.contains('paytm',case = False),'StartupName'] = 'Paytm'\n",
    "\n",
    "\n",
    "\n",
    "df_start[\"AmountInUSD\"] = df_start[\"AmountInUSD\"].apply(lambda x: float(str(x).replace(\",\",\"\")))\n",
    "\n",
    "# #df_start[\"AmountInUSD\"] = pd.to_numeric(df_start[\"AmountInUSD\"])\n",
    "\n",
    "industry_amount=df_start.groupby('StartupName')['AmountInUSD'].sum().sort_values(ascending=False)[0:5]\n",
    "\n",
    "industry=industry_amount.index\n",
    "\n",
    "amount=industry_amount.values\n",
    "\n",
    "perAmount=np.true_divide(amount, amount.sum())*100\n",
    "for i in range(len(industry)):\n",
    "\n",
    "    print(industry[i])"
   ]
  },
  {
   "cell_type": "code",
   "execution_count": null,
   "id": "8ba2bc9f",
   "metadata": {},
   "outputs": [],
   "source": []
  },
  {
   "cell_type": "code",
   "execution_count": null,
   "id": "72ca9058",
   "metadata": {},
   "outputs": [],
   "source": []
  },
  {
   "cell_type": "code",
   "execution_count": null,
   "id": "cb68d2c8",
   "metadata": {},
   "outputs": [],
   "source": []
  }
 ],
 "metadata": {
  "kernelspec": {
   "display_name": "Python 3 (ipykernel)",
   "language": "python",
   "name": "python3"
  },
  "language_info": {
   "codemirror_mode": {
    "name": "ipython",
    "version": 3
   },
   "file_extension": ".py",
   "mimetype": "text/x-python",
   "name": "python",
   "nbconvert_exporter": "python",
   "pygments_lexer": "ipython3",
   "version": "3.9.12"
  }
 },
 "nbformat": 4,
 "nbformat_minor": 5
}
