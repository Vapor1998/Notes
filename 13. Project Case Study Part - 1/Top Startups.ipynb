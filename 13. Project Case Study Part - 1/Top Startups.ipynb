{
 "cells": [
  {
   "cell_type": "code",
   "execution_count": 17,
   "metadata": {},
   "outputs": [
    {
     "name": "stdout",
     "output_type": "stream",
     "text": [
      "Paytm\n",
      "Flipkart\n",
      "Ola\n",
      "Snapdeal\n",
      "Oyo\n"
     ]
    }
   ],
   "source": [
    "import csv\n",
    "import numpy as np\n",
    "import pandas as pd\n",
    "import matplotlib.pyplot as plt\n",
    "\n",
    "data = pd.read_csv('startup_funding.csv')\n",
    "\n",
    "#[OYOfit]\n",
    "df = data.copy()\n",
    "df[\"StartupName\"].dropna(inplace=True)\n",
    "df.loc[df['StartupName'].str.contains('oyo',case = False),'StartupName'] = 'Oyo'    ## COncept to replace all strings that contain a specific substring.\n",
    "\n",
    "df.loc[df['StartupName'].str.contains('flipkart',case = False),'StartupName'] = 'Flipkart'\n",
    "df.loc[df['StartupName'].str.contains('ola',case = False),'StartupName'] = 'Ola'\n",
    "df.loc[df['StartupName'].str.contains('paytm',case = False),'StartupName'] = 'Paytm'\n",
    "\n",
    "df[\"AmountInUSD\"] =df[\"AmountInUSD\"].str.replace(',','')\n",
    "df[\"AmountInUSD\"] = df[\"AmountInUSD\"].astype(float)\n",
    "df[\"AmountInUSD\"].fillna(0, inplace = True)\n",
    "df[\"AmountInUSD\"] = pd.to_numeric(df[\"AmountInUSD\"])\n",
    "startups = df.groupby(\"StartupName\")[\"AmountInUSD\"].sum().sort_values(ascending = False)[:5]\n",
    "\n",
    "start = startups.index\n",
    "amt = startups.values\n",
    "for i in start:\n",
    "    print(i)\n",
    "\n",
    "#[Ola, Flipkart, Oyo, Paytm]"
   ]
  },
  {
   "cell_type": "code",
   "execution_count": 2,
   "metadata": {},
   "outputs": [
    {
     "name": "stdout",
     "output_type": "stream",
     "text": [
      "Paytm\n",
      "Flipkart\n",
      "Ola\n",
      "Snapdeal\n",
      "Oyo\n"
     ]
    }
   ],
   "source": [
    "import pandas as pd\n",
    "import numpy as np\n",
    "import matplotlib.pyplot as plt\n",
    "df=pd.read_csv('startup_funding.csv',encoding='utf-8')\n",
    "df.dropna(subset=['StartupName'],inplace=True)\n",
    "df.loc[df['StartupName'].str.contains('oyo',case = False),'StartupName'] = 'Oyo'  \n",
    "## COncept to replace all strings that contain a specific substring.\n",
    "df.loc[df['StartupName'].str.contains('flipkart',case = False),'StartupName'] = 'Flipkart'\n",
    "df.loc[df['StartupName'].str.contains('ola',case = False),'StartupName'] = 'Ola'\n",
    "df.loc[df['StartupName'].str.contains('paytm',case = False),'StartupName'] = 'Paytm'\n",
    "\n",
    "\n",
    "\n",
    "df[\"AmountInUSD\"] = df[\"AmountInUSD\"].apply(lambda x: float(str(x).replace(\",\",\"\")))\n",
    "\n",
    "# #df_start[\"AmountInUSD\"] = pd.to_numeric(df_start[\"AmountInUSD\"])\n",
    "\n",
    "industry_amount=df.groupby('StartupName')['AmountInUSD'].sum().sort_values(ascending=False)[0:5]\n",
    "\n",
    "industry=industry_amount.index\n",
    "\n",
    "amount=industry_amount.values\n",
    "\n",
    "perAmount=np.true_divide(amount, amount.sum())*100\n",
    "for i in range(len(industry)):\n",
    "\n",
    "    print(industry[i])"
   ]
  },
  {
   "cell_type": "code",
   "execution_count": null,
   "metadata": {},
   "outputs": [],
   "source": [
    "import pandas as pd\n",
    "import numpy as np\n",
    "import matplotlib.pyplot as plt\n",
    "df_start=pd.read_csv('startup_funding.csv',encoding='utf-8')\n",
    "df_start.dropna(subset=['StartupName'],inplace=True)\n",
    "df_start.loc[df['StartupName'].str.contains('oyo',case = False),'StartupName'] = 'Oyo'  \n",
    "## COncept to replace all strings that contain a specific substring.\n",
    "df_start.loc[df['StartupName'].str.contains('flipkart',case = False),'StartupName'] = 'Flipkart'\n",
    "df_start.loc[df['StartupName'].str.contains('ola',case = False),'StartupName'] = 'Ola'\n",
    "df_start.loc[df['StartupName'].str.contains('paytm',case = False),'StartupName'] = 'Paytm'\n",
    "\n",
    "\n",
    "\n",
    "df_start[\"AmountInUSD\"] = df_start[\"AmountInUSD\"].apply(lambda x: float(str(x).replace(\",\",\"\")))\n",
    "\n",
    "# #df_start[\"AmountInUSD\"] = pd.to_numeric(df_start[\"AmountInUSD\"])\n",
    "\n",
    "industry_amount=df_start.groupby('StartupName')['AmountInUSD'].sum().sort_values(ascending=False)[0:5]\n",
    "\n",
    "industry=industry_amount.index\n",
    "\n",
    "amount=industry_amount.values\n",
    "\n",
    "perAmount=np.true_divide(amount, amount.sum())*100\n",
    "for i in range(len(industry)):\n",
    "\n",
    "    print(industry[i])"
   ]
  },
  {
   "cell_type": "code",
   "execution_count": 2,
   "metadata": {},
   "outputs": [
    {
     "name": "stdout",
     "output_type": "stream",
     "text": [
      "Paytm\n",
      "Flipkart\n",
      "Ola\n",
      "Snapdeal\n",
      "Oyo\n"
     ]
    }
   ],
   "source": [
    "import pandas as pd\n",
    "import numpy as np\n",
    "\n",
    "data=pd.read_csv('startup_funding.csv')\n",
    "df=data.copy()\n",
    "df[\"StartupName\"].dropna(inplace=True)\n",
    "df.loc[df['StartupName'].str.contains('oyo',case = False),'StartupName'] = 'Oyo'    ## COncept to replace all strings that contain a specific substring.\n",
    "\n",
    "df.loc[df['StartupName'].str.contains('flipkart',case = False),'StartupName'] = 'Flipkart'\n",
    "df.loc[df['StartupName'].str.contains('ola',case = False),'StartupName'] = 'Ola'\n",
    "df.loc[df['StartupName'].str.contains('paytm',case = False),'StartupName'] = 'Paytm'\n",
    "\n",
    "df[\"AmountInUSD\"]=df['AmountInUSD'].apply(lambda x:float(str(x).replace(',','')))\n",
    "df[\"AmountInUSD\"]=pd.to_numeric(df[\"AmountInUSD\"])\n",
    "\n",
    "Startup_amount=df.groupby('StartupName')[\"AmountInUSD\"].sum().sort_values(ascending=False)[0:5]\n",
    "Startup=Startup_amount.index\n",
    "amount=Startup_amount.values\n",
    "\n",
    "for i in range(len(Startup)):\n",
    "    print(Startup[i])"
   ]
  }
 ],
 "metadata": {
  "kernelspec": {
   "display_name": "Python 3 (ipykernel)",
   "language": "python",
   "name": "python3"
  },
  "language_info": {
   "codemirror_mode": {
    "name": "ipython",
    "version": 3
   },
   "file_extension": ".py",
   "mimetype": "text/x-python",
   "name": "python",
   "nbconvert_exporter": "python",
   "pygments_lexer": "ipython3",
   "version": "3.9.12"
  }
 },
 "nbformat": 4,
 "nbformat_minor": 4
}
