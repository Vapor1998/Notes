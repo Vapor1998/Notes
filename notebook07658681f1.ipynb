{
 "cells": [
  {
   "cell_type": "code",
   "execution_count": 17,
   "metadata": {
    "execution": {
     "iopub.execute_input": "2021-09-03T14:37:11.895600Z",
     "iopub.status.busy": "2021-09-03T14:37:11.894947Z",
     "iopub.status.idle": "2021-09-03T14:37:11.911473Z",
     "shell.execute_reply": "2021-09-03T14:37:11.909938Z",
     "shell.execute_reply.started": "2021-09-03T14:37:11.895557Z"
    }
   },
   "outputs": [],
   "source": [
    "import os\n",
    "from glob import glob #used to access a file specified by a path\n",
    "import random\n",
    "import tensorflow\n",
    "os.environ['KERAS_BACKEND'] = 'tensorflow'\n",
    "os.environ['TF_CPP_MIN_LOG_LEVEL'] = '3' # 3 = INFO, WARNING, and ERROR messages are not printed\n",
    "\n",
    "from tqdm import tqdm  #Used to print progress bars\n",
    "\n",
    "import numpy as np\n",
    "import pandas as pd\n",
    "from IPython.display import FileLink\n",
    "import matplotlib.pyplot as plt\n",
    "import warnings\n",
    "warnings.filterwarnings('ignore')\n",
    "%matplotlib inline\n",
    "from IPython.display import display, Image\n",
    "import matplotlib.image as mpimg\n",
    "import cv2 #Computer Vision Library\n",
    "\n",
    "from sklearn.model_selection import train_test_split\n",
    "from sklearn.datasets import load_files       \n",
    "from keras.utils import np_utils\n",
    "from sklearn.utils import shuffle\n",
    "from sklearn.metrics import log_loss\n"
   ]
  },
  {
   "cell_type": "code",
   "execution_count": 18,
   "metadata": {
    "_cell_guid": "79c7e3d0-c299-4dcb-8224-4455121ee9b0",
    "_uuid": "d629ff2d2480ee46fbb7e2d37f6b5fab8052498a",
    "execution": {
     "iopub.execute_input": "2021-09-03T14:37:11.914242Z",
     "iopub.status.busy": "2021-09-03T14:37:11.913773Z",
     "iopub.status.idle": "2021-09-03T14:37:11.973274Z",
     "shell.execute_reply": "2021-09-03T14:37:11.972163Z",
     "shell.execute_reply.started": "2021-09-03T14:37:11.914197Z"
    }
   },
   "outputs": [],
   "source": [
    "import csv\n",
    "data={}  #This dictionary will contain the classes as keys and a list of images belonging to that class as values\n",
    "with open('../input/state-farm-distracted-driver-detection/driver_imgs_list.csv') as f:\n",
    "    reader = csv.reader(f)\n",
    "    next(reader) #to avoid taking column names\n",
    "    for row in reader:\n",
    "        #print(row[1])\n",
    "        key = row[1].lower()\n",
    "        if(key in data):\n",
    "            #print(data[key])\n",
    "            data[key].append(row[2])\n",
    "        else:\n",
    "            data[key] = [row[2]]\n",
    "        "
   ]
  },
  {
   "cell_type": "code",
   "execution_count": 19,
   "metadata": {
    "execution": {
     "iopub.execute_input": "2021-09-03T14:37:11.977030Z",
     "iopub.status.busy": "2021-09-03T14:37:11.976265Z",
     "iopub.status.idle": "2021-09-03T14:37:11.986083Z",
     "shell.execute_reply": "2021-09-03T14:37:11.984405Z",
     "shell.execute_reply.started": "2021-09-03T14:37:11.976986Z"
    }
   },
   "outputs": [
    {
     "data": {
      "text/plain": [
       "['c0', 'c1', 'c2', 'c3', 'c4', 'c5', 'c6', 'c7', 'c8', 'c9']"
      ]
     },
     "execution_count": 19,
     "metadata": {},
     "output_type": "execute_result"
    }
   ],
   "source": [
    "class_list = list(data.keys())\n",
    "class_list"
   ]
  },
  {
   "cell_type": "code",
   "execution_count": 20,
   "metadata": {
    "execution": {
     "iopub.execute_input": "2021-09-03T14:37:11.989333Z",
     "iopub.status.busy": "2021-09-03T14:37:11.988797Z",
     "iopub.status.idle": "2021-09-03T14:37:11.998714Z",
     "shell.execute_reply": "2021-09-03T14:37:11.997300Z",
     "shell.execute_reply.started": "2021-09-03T14:37:11.989283Z"
    }
   },
   "outputs": [],
   "source": [
    "import os\n",
    "os.mkdir(\"Master_Data\")\n",
    "os.mkdir(\"Master_Data/Training\")\n",
    "os.mkdir(\"Master_Data/Testing\")"
   ]
  },
  {
   "cell_type": "code",
   "execution_count": 21,
   "metadata": {
    "execution": {
     "iopub.execute_input": "2021-09-03T14:37:12.002977Z",
     "iopub.status.busy": "2021-09-03T14:37:12.002416Z",
     "iopub.status.idle": "2021-09-03T14:37:12.011993Z",
     "shell.execute_reply": "2021-09-03T14:37:12.010727Z",
     "shell.execute_reply.started": "2021-09-03T14:37:12.002942Z"
    }
   },
   "outputs": [],
   "source": [
    "for x in class_list:\n",
    "    os.mkdir(os.path.join(\"Master_Data/Training\",x))\n",
    "    os.mkdir(os.path.join(\"Master_Data/Testing\",x))"
   ]
  },
  {
   "cell_type": "code",
   "execution_count": 22,
   "metadata": {
    "execution": {
     "iopub.execute_input": "2021-09-03T14:37:12.014227Z",
     "iopub.status.busy": "2021-09-03T14:37:12.013732Z",
     "iopub.status.idle": "2021-09-03T14:37:12.022684Z",
     "shell.execute_reply": "2021-09-03T14:37:12.021434Z",
     "shell.execute_reply.started": "2021-09-03T14:37:12.014180Z"
    }
   },
   "outputs": [],
   "source": [
    "import shutil as sh\n",
    "split_size = 0.8"
   ]
  },
  {
   "cell_type": "code",
   "execution_count": 23,
   "metadata": {
    "execution": {
     "iopub.execute_input": "2021-09-03T14:37:12.025411Z",
     "iopub.status.busy": "2021-09-03T14:37:12.025046Z",
     "iopub.status.idle": "2021-09-03T14:37:36.376962Z",
     "shell.execute_reply": "2021-09-03T14:37:36.375771Z",
     "shell.execute_reply.started": "2021-09-03T14:37:12.025382Z"
    }
   },
   "outputs": [],
   "source": [
    "#This Code Snippet would copy 80% of the images in original input folder to the Training Folder and 20% to the Testing folder\n",
    "for clas,images in data.items():\n",
    "  train_size = int(len(images)*split_size)\n",
    "  train_images=images[:train_size]\n",
    "  test_images=images[train_size:]\n",
    "  for image in train_images:\n",
    "    source = os.path.join(\"../input/state-farm-distracted-driver-detection/imgs/train\",clas,image)\n",
    "    dest = os.path.join(\"./Master_Data/Training\",clas)\n",
    "    sh.copy(source,dest)\n",
    "  for image in test_images:\n",
    "    source = os.path.join(\"../input/state-farm-distracted-driver-detection/imgs/train\",clas,image)\n",
    "    dest = os.path.join(\"./Master_Data/Testing\",clas)\n",
    "    sh.copy(source,dest)   "
   ]
  },
  {
   "cell_type": "markdown",
   "metadata": {},
   "source": [
    "Now we have Two directories, train and test under Master Data, each of which has 10 subdirectories which contain images belonging to that category"
   ]
  },
  {
   "cell_type": "code",
   "execution_count": 24,
   "metadata": {
    "execution": {
     "iopub.execute_input": "2021-09-03T14:37:36.380963Z",
     "iopub.status.busy": "2021-09-03T14:37:36.380492Z",
     "iopub.status.idle": "2021-09-03T14:37:36.395210Z",
     "shell.execute_reply": "2021-09-03T14:37:36.393808Z",
     "shell.execute_reply.started": "2021-09-03T14:37:36.380919Z"
    }
   },
   "outputs": [],
   "source": [
    "# Load the dataset previously downloaded from Kaggle\n",
    "NUMBER_CLASSES = 10\n",
    "# Color type: 1 - grey, 3 - rgb\n",
    "\n",
    "def get_cv2_image(path, img_rows, img_cols, color_type=3):\n",
    "    # Loading as Grayscale image\n",
    "    if color_type == 1:\n",
    "        img = cv2.imread(path, cv2.IMREAD_GRAYSCALE)  #Converts a jpeg image to its pixel matrix\n",
    "    elif color_type == 3:\n",
    "        img = cv2.imread(path, cv2.IMREAD_COLOR)\n",
    "    # Reduce size\n",
    "    img = cv2.resize(img, (img_rows, img_cols)) \n",
    "    return img\n",
    "\n",
    "# Training\n",
    "def load_train(img_rows, img_cols, color_type=3):\n",
    "    train_images = [] \n",
    "    train_labels = []\n",
    "    # Loop over the training folder \n",
    "    for classed in tqdm(range(NUMBER_CLASSES)):   #prints the progress bar as well\n",
    "        print('Loading directory c{}'.format(classed))\n",
    "        files = glob(os.path.join('..', 'input', 'state-farm-distracted-driver-detection','imgs','train', 'c' + str(classed), '*.jpg')) # This will fetch all files which end with .jpg\n",
    "        for file in files:\n",
    "            img = get_cv2_image(file, img_rows, img_cols, color_type)\n",
    "            train_images.append(img)\n",
    "            train_labels.append(classed)\n",
    "    return train_images, train_labels \n",
    "\n",
    "def read_and_normalize_train_data(img_rows, img_cols, color_type):\n",
    "    X, labels = load_train(img_rows, img_cols, color_type)\n",
    "    y = np_utils.to_categorical(labels, 10)  #Used to one hot encode the labels\n",
    "    x_train, x_val, y_train, y_val = train_test_split(X, y, test_size=0.2, random_state=42)\n",
    "    \n",
    "    x_train = np.array(x_train, dtype=np.uint8).reshape(-1,img_rows,img_cols,color_type) #reshaping (rows,cols) to (rows,cols,1) to match the CNN input\n",
    "    x_val = np.array(x_val, dtype=np.uint8).reshape(-1,img_rows,img_cols,color_type)\n",
    "    \n",
    "    return x_train, x_val, y_train, y_val\n",
    "\n"
   ]
  },
  {
   "cell_type": "code",
   "execution_count": 25,
   "metadata": {
    "execution": {
     "iopub.execute_input": "2021-09-03T14:37:36.398183Z",
     "iopub.status.busy": "2021-09-03T14:37:36.397669Z",
     "iopub.status.idle": "2021-09-03T14:37:36.411756Z",
     "shell.execute_reply": "2021-09-03T14:37:36.410661Z",
     "shell.execute_reply.started": "2021-09-03T14:37:36.398118Z"
    }
   },
   "outputs": [],
   "source": [
    "img_rows = 64\n",
    "img_cols = 64\n",
    "color_type = 1"
   ]
  },
  {
   "cell_type": "code",
   "execution_count": 26,
   "metadata": {
    "execution": {
     "iopub.execute_input": "2021-09-03T14:37:36.414064Z",
     "iopub.status.busy": "2021-09-03T14:37:36.413204Z",
     "iopub.status.idle": "2021-09-03T14:38:39.342665Z",
     "shell.execute_reply": "2021-09-03T14:38:39.338187Z",
     "shell.execute_reply.started": "2021-09-03T14:37:36.414011Z"
    }
   },
   "outputs": [
    {
     "name": "stderr",
     "output_type": "stream",
     "text": [
      "  0%|          | 0/10 [00:00<?, ?it/s]"
     ]
    },
    {
     "name": "stdout",
     "output_type": "stream",
     "text": [
      "Loading directory c0\n"
     ]
    },
    {
     "name": "stderr",
     "output_type": "stream",
     "text": [
      " 10%|█         | 1/10 [00:07<01:06,  7.37s/it]"
     ]
    },
    {
     "name": "stdout",
     "output_type": "stream",
     "text": [
      "Loading directory c1\n"
     ]
    },
    {
     "name": "stderr",
     "output_type": "stream",
     "text": [
      " 20%|██        | 2/10 [00:13<00:53,  6.68s/it]"
     ]
    },
    {
     "name": "stdout",
     "output_type": "stream",
     "text": [
      "Loading directory c2\n"
     ]
    },
    {
     "name": "stderr",
     "output_type": "stream",
     "text": [
      " 30%|███       | 3/10 [00:19<00:44,  6.40s/it]"
     ]
    },
    {
     "name": "stdout",
     "output_type": "stream",
     "text": [
      "Loading directory c3\n"
     ]
    },
    {
     "name": "stderr",
     "output_type": "stream",
     "text": [
      " 40%|████      | 4/10 [00:26<00:39,  6.50s/it]"
     ]
    },
    {
     "name": "stdout",
     "output_type": "stream",
     "text": [
      "Loading directory c4\n"
     ]
    },
    {
     "name": "stderr",
     "output_type": "stream",
     "text": [
      " 50%|█████     | 5/10 [00:32<00:32,  6.46s/it]"
     ]
    },
    {
     "name": "stdout",
     "output_type": "stream",
     "text": [
      "Loading directory c5\n"
     ]
    },
    {
     "name": "stderr",
     "output_type": "stream",
     "text": [
      " 60%|██████    | 6/10 [00:39<00:26,  6.65s/it]"
     ]
    },
    {
     "name": "stdout",
     "output_type": "stream",
     "text": [
      "Loading directory c6\n"
     ]
    },
    {
     "name": "stderr",
     "output_type": "stream",
     "text": [
      " 70%|███████   | 7/10 [00:46<00:19,  6.66s/it]"
     ]
    },
    {
     "name": "stdout",
     "output_type": "stream",
     "text": [
      "Loading directory c7\n"
     ]
    },
    {
     "name": "stderr",
     "output_type": "stream",
     "text": [
      " 80%|████████  | 8/10 [00:51<00:12,  6.24s/it]"
     ]
    },
    {
     "name": "stdout",
     "output_type": "stream",
     "text": [
      "Loading directory c8\n"
     ]
    },
    {
     "name": "stderr",
     "output_type": "stream",
     "text": [
      " 90%|█████████ | 9/10 [00:57<00:05,  5.97s/it]"
     ]
    },
    {
     "name": "stdout",
     "output_type": "stream",
     "text": [
      "Loading directory c9\n"
     ]
    },
    {
     "name": "stderr",
     "output_type": "stream",
     "text": [
      "100%|██████████| 10/10 [01:02<00:00,  6.28s/it]"
     ]
    },
    {
     "name": "stdout",
     "output_type": "stream",
     "text": [
      "Train shape: (17939, 64, 64, 1)\n",
      "17939 train samples\n"
     ]
    },
    {
     "name": "stderr",
     "output_type": "stream",
     "text": [
      "\n"
     ]
    }
   ],
   "source": [
    "x_train, x_val, y_train, y_val = read_and_normalize_train_data(img_rows, img_cols, color_type)\n",
    "print('Train shape:', x_train.shape)\n",
    "print(x_train.shape[0], 'train samples')\n"
   ]
  },
  {
   "cell_type": "code",
   "execution_count": 27,
   "metadata": {
    "execution": {
     "iopub.execute_input": "2021-09-03T14:38:39.344780Z",
     "iopub.status.busy": "2021-09-03T14:38:39.344294Z",
     "iopub.status.idle": "2021-09-03T14:38:39.351762Z",
     "shell.execute_reply": "2021-09-03T14:38:39.350246Z",
     "shell.execute_reply.started": "2021-09-03T14:38:39.344734Z"
    }
   },
   "outputs": [],
   "source": [
    "import tensorflow as tf\n",
    "from tensorflow.keras.preprocessing.image import ImageDataGenerator\n",
    "from tensorflow.keras.optimizers import Adam\n",
    "from tensorflow.keras.callbacks import EarlyStopping\n",
    "from keras.models import Sequential\n",
    "from keras.layers import Dense, Conv2D, Flatten, Dropout,BatchNormalization,MaxPooling2D\n",
    "from keras.regularizers import *"
   ]
  },
  {
   "cell_type": "code",
   "execution_count": 28,
   "metadata": {
    "execution": {
     "iopub.execute_input": "2021-09-03T14:38:39.354087Z",
     "iopub.status.busy": "2021-09-03T14:38:39.353582Z",
     "iopub.status.idle": "2021-09-03T14:38:39.605593Z",
     "shell.execute_reply": "2021-09-03T14:38:39.604349Z",
     "shell.execute_reply.started": "2021-09-03T14:38:39.354042Z"
    }
   },
   "outputs": [
    {
     "name": "stdout",
     "output_type": "stream",
     "text": [
      "Model: \"sequential_2\"\n",
      "_________________________________________________________________\n",
      "Layer (type)                 Output Shape              Param #   \n",
      "=================================================================\n",
      "conv2d_6 (Conv2D)            (None, 62, 62, 32)        320       \n",
      "_________________________________________________________________\n",
      "batch_normalization_7 (Batch (None, 62, 62, 32)        128       \n",
      "_________________________________________________________________\n",
      "conv2d_7 (Conv2D)            (None, 62, 62, 32)        9248      \n",
      "_________________________________________________________________\n",
      "batch_normalization_8 (Batch (None, 62, 62, 32)        128       \n",
      "_________________________________________________________________\n",
      "max_pooling2d_3 (MaxPooling2 (None, 31, 31, 32)        0         \n",
      "_________________________________________________________________\n",
      "dropout_5 (Dropout)          (None, 31, 31, 32)        0         \n",
      "_________________________________________________________________\n",
      "conv2d_8 (Conv2D)            (None, 31, 31, 64)        18496     \n",
      "_________________________________________________________________\n",
      "batch_normalization_9 (Batch (None, 31, 31, 64)        256       \n",
      "_________________________________________________________________\n",
      "conv2d_9 (Conv2D)            (None, 31, 31, 64)        36928     \n",
      "_________________________________________________________________\n",
      "batch_normalization_10 (Batc (None, 31, 31, 64)        256       \n",
      "_________________________________________________________________\n",
      "max_pooling2d_4 (MaxPooling2 (None, 16, 16, 64)        0         \n",
      "_________________________________________________________________\n",
      "dropout_6 (Dropout)          (None, 16, 16, 64)        0         \n",
      "_________________________________________________________________\n",
      "conv2d_10 (Conv2D)           (None, 16, 16, 128)       73856     \n",
      "_________________________________________________________________\n",
      "batch_normalization_11 (Batc (None, 16, 16, 128)       512       \n",
      "_________________________________________________________________\n",
      "conv2d_11 (Conv2D)           (None, 16, 16, 128)       147584    \n",
      "_________________________________________________________________\n",
      "batch_normalization_12 (Batc (None, 16, 16, 128)       512       \n",
      "_________________________________________________________________\n",
      "max_pooling2d_5 (MaxPooling2 (None, 8, 8, 128)         0         \n",
      "_________________________________________________________________\n",
      "dropout_7 (Dropout)          (None, 8, 8, 128)         0         \n",
      "_________________________________________________________________\n",
      "flatten_1 (Flatten)          (None, 8192)              0         \n",
      "_________________________________________________________________\n",
      "dense_3 (Dense)              (None, 512)               4194816   \n",
      "_________________________________________________________________\n",
      "batch_normalization_13 (Batc (None, 512)               2048      \n",
      "_________________________________________________________________\n",
      "dropout_8 (Dropout)          (None, 512)               0         \n",
      "_________________________________________________________________\n",
      "dense_4 (Dense)              (None, 128)               65664     \n",
      "_________________________________________________________________\n",
      "dropout_9 (Dropout)          (None, 128)               0         \n",
      "_________________________________________________________________\n",
      "dense_5 (Dense)              (None, 10)                1290      \n",
      "=================================================================\n",
      "Total params: 4,552,042\n",
      "Trainable params: 4,550,122\n",
      "Non-trainable params: 1,920\n",
      "_________________________________________________________________\n"
     ]
    }
   ],
   "source": [
    "model = Sequential()\n",
    "\n",
    "## CNN 1\n",
    "model.add(Conv2D(32,(3,3),activation='relu',input_shape=(img_rows, img_cols, color_type)))\n",
    "model.add(BatchNormalization())\n",
    "model.add(Conv2D(32,(3,3),activation='relu',padding='same'))\n",
    "model.add(BatchNormalization(axis = 3))\n",
    "model.add(MaxPooling2D(pool_size=(2,2),padding='same'))\n",
    "model.add(Dropout(0.3))\n",
    "\n",
    "## CNN 2\n",
    "model.add(Conv2D(64,(3,3),activation='relu',padding='same'))\n",
    "model.add(BatchNormalization())\n",
    "model.add(Conv2D(64,(3,3),activation='relu',padding='same'))\n",
    "model.add(BatchNormalization(axis = 3))\n",
    "model.add(MaxPooling2D(pool_size=(2,2),padding='same'))\n",
    "model.add(Dropout(0.3))\n",
    "\n",
    "## CNN 3\n",
    "model.add(Conv2D(128,(3,3),activation='relu',padding='same'))\n",
    "model.add(BatchNormalization())\n",
    "model.add(Conv2D(128,(3,3),activation='relu',padding='same'))\n",
    "model.add(BatchNormalization(axis = 3))\n",
    "model.add(MaxPooling2D(pool_size=(2,2),padding='same'))\n",
    "model.add(Dropout(0.5))\n",
    "\n",
    "## Output\n",
    "model.add(Flatten())\n",
    "model.add(Dense(512,activation='relu'))\n",
    "model.add(BatchNormalization())\n",
    "model.add(Dropout(0.5))\n",
    "model.add(Dense(128,activation='relu'))\n",
    "model.add(Dropout(0.25))\n",
    "model.add(Dense(10,activation='softmax')) # We use softmax in the last layer because it convertsoutput of last layer into probability distribution\n",
    "\n",
    "model.summary()\n",
    "model.compile(optimizer='rmsprop', loss='categorical_crossentropy', metrics=['accuracy'])"
   ]
  },
  {
   "cell_type": "code",
   "execution_count": 29,
   "metadata": {
    "execution": {
     "iopub.execute_input": "2021-09-03T14:38:39.607771Z",
     "iopub.status.busy": "2021-09-03T14:38:39.607330Z",
     "iopub.status.idle": "2021-09-03T14:39:55.251164Z",
     "shell.execute_reply": "2021-09-03T14:39:55.250055Z",
     "shell.execute_reply.started": "2021-09-03T14:38:39.607727Z"
    }
   },
   "outputs": [
    {
     "name": "stdout",
     "output_type": "stream",
     "text": [
      "Epoch 1/10\n",
      "449/449 [==============================] - 11s 18ms/step - loss: 1.9632 - accuracy: 0.3936 - val_loss: 0.6937 - val_accuracy: 0.8067\n",
      "Epoch 2/10\n",
      "449/449 [==============================] - 7s 16ms/step - loss: 0.4188 - accuracy: 0.8656 - val_loss: 0.1795 - val_accuracy: 0.9501\n",
      "Epoch 3/10\n",
      "449/449 [==============================] - 7s 16ms/step - loss: 0.2168 - accuracy: 0.9291 - val_loss: 0.1514 - val_accuracy: 0.9612\n",
      "Epoch 4/10\n",
      "449/449 [==============================] - 7s 16ms/step - loss: 0.1589 - accuracy: 0.9524 - val_loss: 0.0707 - val_accuracy: 0.9770\n",
      "Epoch 5/10\n",
      "449/449 [==============================] - 7s 16ms/step - loss: 0.1318 - accuracy: 0.9600 - val_loss: 0.0439 - val_accuracy: 0.9875\n",
      "Epoch 6/10\n",
      "449/449 [==============================] - 7s 16ms/step - loss: 0.1120 - accuracy: 0.9673 - val_loss: 0.0327 - val_accuracy: 0.9911\n",
      "Epoch 7/10\n",
      "449/449 [==============================] - 7s 16ms/step - loss: 0.1037 - accuracy: 0.9710 - val_loss: 0.2005 - val_accuracy: 0.9572\n",
      "Epoch 8/10\n",
      "449/449 [==============================] - 7s 16ms/step - loss: 0.0858 - accuracy: 0.9758 - val_loss: 0.0476 - val_accuracy: 0.9889\n",
      "Epoch 9/10\n",
      "449/449 [==============================] - 7s 16ms/step - loss: 0.0750 - accuracy: 0.9780 - val_loss: 0.0246 - val_accuracy: 0.9922\n",
      "Epoch 10/10\n",
      "449/449 [==============================] - 7s 17ms/step - loss: 0.0794 - accuracy: 0.9795 - val_loss: 0.0302 - val_accuracy: 0.9933\n"
     ]
    },
    {
     "data": {
      "text/plain": [
       "<tensorflow.python.keras.callbacks.History at 0x7f8d484af110>"
      ]
     },
     "execution_count": 29,
     "metadata": {},
     "output_type": "execute_result"
    }
   ],
   "source": [
    "batch_size = 40\n",
    "nb_epoch = 10\n",
    "model.fit(x_train, y_train, \n",
    "          validation_data=(x_val, y_val),\n",
    "          epochs=nb_epoch, batch_size=batch_size, verbose=1)"
   ]
  },
  {
   "cell_type": "code",
   "execution_count": 30,
   "metadata": {
    "execution": {
     "iopub.execute_input": "2021-09-03T14:39:55.255108Z",
     "iopub.status.busy": "2021-09-03T14:39:55.254791Z",
     "iopub.status.idle": "2021-09-03T14:40:03.174632Z",
     "shell.execute_reply": "2021-09-03T14:40:03.173162Z",
     "shell.execute_reply.started": "2021-09-03T14:39:55.255078Z"
    }
   },
   "outputs": [
    {
     "name": "stderr",
     "output_type": "stream",
     "text": [
      "100%|██████████| 10/10 [00:07<00:00,  1.27it/s]\n"
     ]
    }
   ],
   "source": [
    "#Accessing the test images\n",
    "\n",
    "test_images = [] \n",
    "test_labels = []\n",
    "# Loop over the training folder \n",
    "for classed in tqdm(range(NUMBER_CLASSES)): \n",
    "    files = glob(os.path.join('.', 'Master_Data','Testing', 'c' + str(classed), '*.jpg'))\n",
    "    for file in files:\n",
    "        img = get_cv2_image(file, img_rows, img_cols, color_type)\n",
    "        test_images.append(img)\n",
    "        test_labels.append(classed)\n",
    "\n",
    "x_test_final = test_images\n",
    "x_test_final = np.array(x_test_final, dtype=np.uint8).reshape(-1,img_rows,img_cols,color_type)\n",
    "y_test = np_utils.to_categorical(test_labels, 10)"
   ]
  },
  {
   "cell_type": "code",
   "execution_count": 31,
   "metadata": {
    "execution": {
     "iopub.execute_input": "2021-09-03T14:40:03.177024Z",
     "iopub.status.busy": "2021-09-03T14:40:03.176285Z",
     "iopub.status.idle": "2021-09-03T14:40:04.029644Z",
     "shell.execute_reply": "2021-09-03T14:40:04.028581Z",
     "shell.execute_reply.started": "2021-09-03T14:40:03.176968Z"
    }
   },
   "outputs": [
    {
     "name": "stdout",
     "output_type": "stream",
     "text": [
      "141/141 [==============================] - 1s 5ms/step - loss: 0.0197 - accuracy: 0.9938\n"
     ]
    },
    {
     "data": {
      "text/plain": [
       "[0.01966572366654873, 0.9937639236450195]"
      ]
     },
     "execution_count": 31,
     "metadata": {},
     "output_type": "execute_result"
    }
   ],
   "source": [
    "model.evaluate(x_test_final,y_test)"
   ]
  },
  {
   "cell_type": "markdown",
   "metadata": {},
   "source": [
    "99% Accuracy"
   ]
  },
  {
   "cell_type": "markdown",
   "metadata": {},
   "source": []
  },
  {
   "cell_type": "code",
   "execution_count": 32,
   "metadata": {
    "execution": {
     "iopub.execute_input": "2021-09-03T14:40:04.031765Z",
     "iopub.status.busy": "2021-09-03T14:40:04.031302Z",
     "iopub.status.idle": "2021-09-03T14:40:04.043980Z",
     "shell.execute_reply": "2021-09-03T14:40:04.042290Z",
     "shell.execute_reply.started": "2021-09-03T14:40:04.031723Z"
    }
   },
   "outputs": [
    {
     "data": {
      "text/plain": [
       "[8]"
      ]
     },
     "execution_count": 32,
     "metadata": {},
     "output_type": "execute_result"
    }
   ],
   "source": [
    "a = [1,2,3,4,5,6,7,8,9,0]\n",
    "s = 7\n",
    "t = 8\n",
    "\n",
    "e = a[s:t]\n",
    "e"
   ]
  }
 ],
 "metadata": {
  "kernelspec": {
   "display_name": "Python 3 (ipykernel)",
   "language": "python",
   "name": "python3"
  },
  "language_info": {
   "codemirror_mode": {
    "name": "ipython",
    "version": 3
   },
   "file_extension": ".py",
   "mimetype": "text/x-python",
   "name": "python",
   "nbconvert_exporter": "python",
   "pygments_lexer": "ipython3",
   "version": "3.9.12"
  }
 },
 "nbformat": 4,
 "nbformat_minor": 4
}
