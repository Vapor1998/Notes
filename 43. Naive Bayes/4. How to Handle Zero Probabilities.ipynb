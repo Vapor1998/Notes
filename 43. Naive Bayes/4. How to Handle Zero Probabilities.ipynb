{
 "cells": [
  {
   "cell_type": "markdown",
   "metadata": {},
   "source": [
    "##### Before Implementing, we have to look at one more thing which mmight cause us lot of problem.  \n",
    "Lets say the data that we have the same table.  \n",
    "\n",
    "| salary | Loan_approved       |\n",
    "|--------|-------------------  |\n",
    "|   High    | Yes               |\n",
    "|   High   |  Yes                |\n",
    "|   Mid    |  Yes              |\n",
    "|   Low  |  Yes                |\n",
    "|   Mid    |  Yes               |\n",
    "|   High    |    Yes                 |\n",
    "|   Low  |  No           |\n",
    "|   Low  |  No                 |\n",
    "|   Low  |  No               |\n",
    "|   Mid|   No                  |\n",
    "|   Low |   No              |\n",
    "\n",
    "So what is the probablity that $P(salary = Low / approved = Yes)$,  \n",
    "So we look at only those which have approved yes.  \n",
    "Then within that, how many have salary as Low?, so 1/6. Seems like we are getting the probablity.  \n",
    "Now how about $P(salary = High / approved = No)$  \n",
    "Seems like none of the No entry have the salary High.  \n",
    "So we will end up writing the probablity as 0/5.  \n",
    "This means that if the approval is No, the salary cannot be high.  \n",
    "So if the example comes up, which has high salary, thhere is no way you can predict that it can get approved.  \n",
    "That sounds like a Bad classification.  \n",
    "So it is possible that a high salary person has done fraud thats why hes not getting approval.  \n",
    "In a nutshell, we do not want our probablities to be zero.  \n",
    "What we generally do is we correct the values. What we are gonna do is salary has three different values.  \n",
    "So we will add a little data to each of these. That means we will look at main formula $$ P(X^j = x^j / y = a_{i}) = \\frac{count of(y = a_{i} and X^j = x^j)}{count of(y = a_i)} $$ .  \n",
    "Now we are saying that the numerator count can be zero.   \n",
    "What we want is we want Probablity never to be zero.  \n",
    "So lets add +1 in numerator.  \n",
    " $$ P(X^j = x^j / y = a_{i}) = \\frac{count of(y = a_{i} and X^j = x^j) + 1}{count of(y = a_i)} $$, \n",
    " \n",
    "Adding a +1 creates a problem that it does not represents probablity anymore.  \n",
    "The sum of all such problem will not be 1 anymore.  \n",
    "Lets say for $ P(X^j = x^j / y = a_{i})$ , $X^j$ has two possible values lets say h and l, then the probablity equation wil be like,  $P(X^j = h / y = a_i) + P(X^j = l / y = a_i) = 1$, because $X^j$ can either tale the value h or l.  \n",
    "So what we will do is we should add to denominator as well.  \n",
    "We should add possible no of values $X^j$ can take. \n",
    " $$ P(X^j = x^j / y = a_{i}) = \\frac{count of(y = a_{i} and X^j = x^j) + 1}{count of(y = a_i) + Possible- values-of-|X^j|} $$\n",
    "\n",
    "So for eg, lets take the above table, values in $X^j$ is 3, high, mid and low, so $|X^j|$ will be 3.   \n",
    "This correction is called $Laplace-Correction$\n",
    "\n",
    "$Laplace-Correction$ says that to avoid zero probablity, whatever probablity you are calculating, just add +1 in numerator, just assume the hypothetical training datapoint 1 we are adding. Now as we add 1, and there are lets say 5 different possible values of $X^j$, and we are adding 1 on each of them, we need to add 5 to the denominator as well.  \n",
    "\n",
    "\n",
    "\n"
   ]
  }
 ],
 "metadata": {
  "kernelspec": {
   "display_name": "Python 3",
   "language": "python",
   "name": "python3"
  },
  "language_info": {
   "codemirror_mode": {
    "name": "ipython",
    "version": 3
   },
   "file_extension": ".py",
   "mimetype": "text/x-python",
   "name": "python",
   "nbconvert_exporter": "python",
   "pygments_lexer": "ipython3",
   "version": "3.8.5"
  }
 },
 "nbformat": 4,
 "nbformat_minor": 4
}
