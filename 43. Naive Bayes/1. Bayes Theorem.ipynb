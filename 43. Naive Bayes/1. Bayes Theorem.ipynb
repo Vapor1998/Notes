{
 "cells": [
  {
   "cell_type": "markdown",
   "metadata": {},
   "source": [
    "#### In Naive Bayes, Bayes comes from Bayes Theorem from Probablity. \n",
    "  \n",
    "Bayes Theorem states that,\n",
    "\n",
    "$$ P(\\frac{A}{B}) = \\frac{P(\\frac{B}{A}) * P(A)}{P(B)} $$\n",
    "\n",
    "where,  \n",
    "$P(A|B)$ – the probability of event A occurring, given event B has occurred  \n",
    "$P(B|A)$ – the probability of event B occurring, given event A has occurred  \n",
    "$P(A)$ – the probability of event A  \n",
    "$P(B)$ – the probability of event B   \n",
    "\n",
    "  \n",
    " \n",
    "So what is the problem that is generally given?  \n",
    "In a classification problem, we are generally given an x, lets say one test data, we are supposed to predict the value of y.  \n",
    "Lets say the value of Y can be a or b. For Naive Bayes we can do as many classes as possible. Its not really a Binary classification. It can handle as many classes as we have.  \n",
    "So we have to find out whether the class of this x is a or b.  \n",
    "We can never be sure what class is going to be. Its basically based on the training data whether we believe the class is goign to be a or b.  \n",
    "Lets say the x is the input we recieved.  \n",
    "And we want to predict y values out of these classes.  \n",
    "In another way we can say we want to find out what is the probablity that y is a given that input is x which can be written as  $P(y=a/X = x)$.    \n",
    "Along with these, we can find out these values $P(y=b/X = x)$, along with lets say another class $P(y=c/X = x)$, what these values mean is given this input is already decided, what is the probablity that the output class is the y = a, y=b or y = c.  \n",
    "And sum of these three should be 1. Coz these three are the only possible outputs.  \n",
    "Lets say if we find the probablities of these three terms, we can find the out the predictions that should be the maximum of these three.  \n",
    "So in other ways lets say the classes are $Y = a_{1}, a_{2}, a_{3\n",
    "} ..... a_{k}$ say we have k possible classes.  \n",
    "What we really waant to find is $P(y = a_{i}/ X = x)$ and then maximize this with $i = 1-to-n$. So the answer will be the maximum $a_{i}$ means maximum a will be the answer.  \n",
    "SO lets just focus on one particular value.  \n",
    "Lets say we want to find out what is the probablity $P(y = a_{i}/ X = x)$ seems like this might be really hard to find out given the training data as well.  \n",
    "What we are going to try is we will try the Bayes theorem and look at the other side of it.  \n",
    "Applying Bayes theorem our equation looks like $$P(y = a_{i}/ X = x) =  \\frac {P( X = x / y = a_{i}) * P(y = a_{i})}{P(X = x)}$$   \n",
    "\n",
    "If we put this in $P(y = a_{i}/ X = x)$, and we try to maximize over $i$, we will realize the denominator is same for all terms. So, $$P(y = a_{i}/ X = x) = \\frac {P( X = x / y = a_{i}) * P(y = a_{i})}{P(X = x)} $$  \n",
    "Lets say for $a_{1}$,  \n",
    "$$P(y = a_{1}/ X = x) = \\frac {P( X = x / y = a_{1}) * P(y = a_{1})}{P(X = x)} $$.  \n",
    "Now if we do it for class $a_{2}$, the numerator will be different because they depend upon class, but the denominator is going to be exactly the same for any class.  \n",
    "So what we are going to do is we are going to get rid of denominator.  \n",
    "As soon as we get rid of denominator, THE SUM IS NOT GOING TO BE 1, ITS NOT GOING TO BE PROBABLITY ANYMORE.  \n",
    "But the point is we want to maximize the $P(y = a_{i}/ X = x)$, we want to find that particular i which is max, removing the denominator in $\\frac {P( X = x / y = a_{1}) * P(y = a_{1})}{P(X = x)} $ will not change the maximum it will not change the $i$ for which this term $P( X = x / y = a_{1}) * P(y = a_{1})$ going to be maximized.It is going to be the exactly the same $i$.  \n",
    "So we can very easily get rid of the denominator,  the problem that we are now going to solve is we want ot maximize $ (P(y = a_{i}/ X = x))$. This is basically same as $ Find-i-such-that $  $$max_{i = 1}^k  (P(y = a_{i}/ X = x))$$ This is basically same as $$  max_{i = 1}^k  P( X = x / y = a_{i}) * P(y = a_{i})$$ because the denominator is exactly same in all the terms.  \n",
    "So we are going to maximize $P( X = x / y = a_{i}) * P(y = a_{i})$.  \n",
    "It is not too hard to find these values, lets say we have 3 classes, a1, a2, a3. and a1 = 40, a2 = 30, a3 = 30.  \n",
    "So $P(y = a_{i})$  of $a_{1} = 0.4$, $a_{2} = 0.3$ and $a_{3} = 0.3$,  \n",
    "Finding $P( X = x / y = a_{i})$ will be interesting.  \n"
   ]
  }
 ],
 "metadata": {
  "kernelspec": {
   "display_name": "Python 3",
   "language": "python",
   "name": "python3"
  },
  "language_info": {
   "codemirror_mode": {
    "name": "ipython",
    "version": 3
   },
   "file_extension": ".py",
   "mimetype": "text/x-python",
   "name": "python",
   "nbconvert_exporter": "python",
   "pygments_lexer": "ipython3",
   "version": "3.8.5"
  }
 },
 "nbformat": 4,
 "nbformat_minor": 4
}
