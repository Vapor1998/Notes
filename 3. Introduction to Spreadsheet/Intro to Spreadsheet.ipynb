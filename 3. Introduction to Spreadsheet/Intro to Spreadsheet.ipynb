{
 "cells": [
  {
   "cell_type": "markdown",
   "id": "c455168b",
   "metadata": {},
   "source": [
    "# `Spreadsheet Shortcuts`"
   ]
  },
  {
   "cell_type": "markdown",
   "id": "6046e775",
   "metadata": {},
   "source": [
    "https://support.google.com/docs/answer/181110?hl=en&co=GENIE.Platform%3DAndroid#zippy="
   ]
  },
  {
   "cell_type": "markdown",
   "id": "9932db81",
   "metadata": {},
   "source": [
    "`ctrl` + `shift` + `^`  =  Will take you top of the page"
   ]
  },
  {
   "cell_type": "markdown",
   "id": "a396da28",
   "metadata": {},
   "source": [
    "`shift` + `click on column name`  = will select all the column  \n",
    "`click on column name` + `shift` + `right arrow`  = will select any no of column  \n",
    "`select first row` + `ctrl` + `shift` + `down arrow` = select one column  \n",
    "`click on first cell` + `shift` + `ctrl` + `right arrow` = will select all the rows from start till end  \n",
    "`select row no` = will select all the rows from start till end  \n",
    "`select column name` + `click on` **`B`**  = Will turn it into Bold    \n",
    "`select column name` + `ctrl` + `b` = Will turn it into Bold   \n",
    "(after turning into bold)  `select column name` + `ctrl` + `b` = will trun back normal  \n",
    "`ctrl` + `s` = good practice  \n",
    "`ctrl` + `z` = undo an operation   \n"
   ]
  },
  {
   "cell_type": "markdown",
   "id": "029d78a7",
   "metadata": {},
   "source": [
    "### `Sort Operation`"
   ]
  },
  {
   "cell_type": "markdown",
   "id": "c121d98a",
   "metadata": {},
   "source": [
    "`When sorting rows, freeze the column name row` = `Select column name row, view -> freeze -> 1 row`  \n",
    "`Sorting wrt any column` = `Select any cell of that column, Data -> sort sheet`  "
   ]
  },
  {
   "cell_type": "markdown",
   "id": "a8f0107d",
   "metadata": {},
   "source": [
    "### `Find or Find and Replace`"
   ]
  },
  {
   "cell_type": "markdown",
   "id": "5ca43f0a",
   "metadata": {},
   "source": [
    "For finding anything, `ctrl + f`, a popup will appear, type anything to find.  \n",
    "For finding and replacing anything, `ctrl + f`, then a popup will appear, then click on `⋮`, enjoy.  \n"
   ]
  },
  {
   "cell_type": "markdown",
   "id": "83df6c62",
   "metadata": {},
   "source": [
    "### `Paste Special`"
   ]
  },
  {
   "cell_type": "markdown",
   "id": "c52d6594",
   "metadata": {},
   "source": [
    "Type `=` on a cell, select first cell, then add the sign `+,-,x or %` of your choice then select the other cell and then press `enter`.    \n",
    "\n",
    "To copy that answer into particular cell, `copy the answer cell, go to new cell -> right click -> paste special -> values only`, else it will paste `0` as answer.    \n",
    "\n",
    "\n"
   ]
  },
  {
   "cell_type": "markdown",
   "id": "40155fdf",
   "metadata": {},
   "source": [
    "### `Filter Operation`"
   ]
  },
  {
   "cell_type": "markdown",
   "id": "c1276b97",
   "metadata": {},
   "source": [
    "Creating Filter  \n",
    "`click any one cell on table -> data -> create filter`  \n",
    "To use filter or add filter, click on three horzontal line next to column name.  \n",
    "`Click on clear value then type any value which you want to search`  \n",
    "`This is basically used to find more than one value in the sheet`  "
   ]
  },
  {
   "cell_type": "markdown",
   "id": "735bdfdb",
   "metadata": {},
   "source": [
    "### `Remove Duplicates`"
   ]
  },
  {
   "cell_type": "markdown",
   "id": "8fdd3be6",
   "metadata": {},
   "source": [
    "`Data -> Data Cleanup -> Remove Duplicates`  \n",
    "Lets say if all the column values of two rows are same, duplicates will be removed. And lets say if the last two column values are different, the rows will not be deleted.   \n",
    "We can remove it based on the columns then.  \n"
   ]
  },
  {
   "cell_type": "markdown",
   "id": "169111ca",
   "metadata": {},
   "source": [
    "### `Coonditional Formatting`"
   ]
  },
  {
   "cell_type": "markdown",
   "id": "e5ea3dc2",
   "metadata": {},
   "source": [
    "Conditional Formatting is to look at the data more in a `visual` form.   \n",
    "`select column + Format -> Conditional Formatting -> color scale`  \n",
    "In scale, we can have different colors, lighter color for small values and darker color for large vaue and we can select that in the `preview`.  \n"
   ]
  },
  {
   "cell_type": "markdown",
   "id": "6667de96",
   "metadata": {},
   "source": [
    "### `Functions in spreadsheet`"
   ]
  },
  {
   "cell_type": "markdown",
   "id": "547f964c",
   "metadata": {},
   "source": [
    "To sum the whole column: `=SUM (suggestion will come so click on that) then select the rows of the column which u want to sum`  \n",
    "To count : `=COUNT(suggestion will come so click on that) then select the rows of the column which u want to count`    \n",
    "  \n",
    "To count specific group(particular condition): `=COUNTIF(range, criterion) where range is no of rows in column and criterion is condition`  \n",
    "eg of countif: lets say we have a column which has marital status. Lets say we want to count the customers who are married. In this scenario, `countif` is used.  \n",
    "IF statement : `=IF(logical expression, value if true, value if false)`.  \n",
    "eg: `=IF(E2>30000, 1, 0)` This expression means if the value of E2 cell is 30000, set the value to 1 else set it to 0. This operation is done on cell F2. `After applying this on one cell, move the cursor to the down right to the cell F2, and dragged till the last cell, it will auto apply this function on all cell.`  \n",
    "\n",
    "\n"
   ]
  },
  {
   "cell_type": "markdown",
   "id": "aaa06ce7",
   "metadata": {},
   "source": [
    "### `Charts`"
   ]
  },
  {
   "cell_type": "markdown",
   "id": "64bee28b",
   "metadata": {},
   "source": [
    "`select the column values -> insert -> chart => if want to modify, see the right side, all the options will appear.`"
   ]
  },
  {
   "attachments": {
    "Screenshot%202022-07-07%20025647.png": {
     "image/png": "[encoded data removed]"
    }
   },
   "cell_type": "markdown",
   "id": "49bfe4f6",
   "metadata": {},
   "source": [
    "![Screenshot%202022-07-07%20025647.png](attachment:Screenshot%202022-07-07%20025647.png)"
   ]
  },
  {
   "cell_type": "markdown",
   "id": "22093aa6",
   "metadata": {},
   "source": [
    "**`A Histogram is a Frequency Graph`**  \n",
    "Looking at this histogram, no of people who are having income from 5000 to 19000 is 1, from 19000 to 33000 are 2, 33000 to 47000 are 2, 47000 to 61000 are 4 and 61000 and above is 1."
   ]
  },
  {
   "cell_type": "markdown",
   "id": "90358c28",
   "metadata": {},
   "source": [
    "### `To find no of Duplicates`"
   ]
  },
  {
   "cell_type": "markdown",
   "id": "5c06c2d1",
   "metadata": {},
   "source": [
    "https://www.alphr.com/highlight-duplicates-google-sheets/"
   ]
  },
  {
   "cell_type": "markdown",
   "id": "17e7ea0d",
   "metadata": {},
   "source": [
    "### `SUMIF`"
   ]
  },
  {
   "cell_type": "markdown",
   "id": "3025f848",
   "metadata": {},
   "source": [
    "https://www.youtube.com/watch?v=8tsZgUyHymg  \n",
    "\n",
    "For example, `=sumif(P2:P14,\"UNHEALTHY\",L2:L14)` Means it will sum up that rows from L2 to L14 where there is UNHEALTHY in P2 to P14 .  "
   ]
  },
  {
   "cell_type": "markdown",
   "id": "eaa7dd4a",
   "metadata": {},
   "source": [
    "### `ConcatAlpha Question`"
   ]
  },
  {
   "cell_type": "markdown",
   "id": "c321f478",
   "metadata": {},
   "source": [
    "first use `=left` to find the first letter of first name then `=right` to find the last letter of last name and then `Click Format > Conditional Formatting > Highlight Cells Rules > Duplicate Values.`"
   ]
  },
  {
   "cell_type": "markdown",
   "id": "a8552e0e",
   "metadata": {},
   "source": [
    "Create FirstAlpha column with `=LEFT(range,NumberofCharacter)` , Create LastAlpha column with `=Right(range,NumberofCharacter)`. Then in the ConcatAlpha column you have the use `=Concatenate(String1,String2)` function for FirstAlpha and LastAlpha."
   ]
  },
  {
   "cell_type": "markdown",
   "id": "3a1e99b8",
   "metadata": {},
   "source": [
    "### `Names Healthy People Question`\n",
    "Use this formula **`=if(P2 =\"HEALTHY\", LEFT(E2), \"\")`**  \n",
    "- Apply filter on HelathFlag column, for Healthy cells. \n",
    "\n",
    "- Then apply sorting(Z-A) on the salary column.\n",
    "\n",
    "- Than see the FirstAlpha column for first alphabet of the first name \n",
    "\n",
    "- Write those alphabet together in a single string (without space)"
   ]
  },
  {
   "cell_type": "markdown",
   "id": "a6155f32",
   "metadata": {},
   "source": [
    "### `Salary Range Question` "
   ]
  },
  {
   "cell_type": "markdown",
   "id": "aaffb651",
   "metadata": {},
   "source": [
    "Filter the HelathFlag column for Unhealthy people. Now in the salary column, select the value between 40000-66000. Then create a histogram for those values.  \n",
    "  \n",
    "  OR  \n",
    "    \n",
    "`=if(P2=\"UNHEALTHY\", L2,0)` in one column and `=if(AND(V2>40000,V2<=66000), V2, \"\")` in next column and make chart of this column.  "
   ]
  },
  {
   "cell_type": "markdown",
   "id": "2bf83802",
   "metadata": {},
   "source": [
    "### `HR - Female Employees`"
   ]
  },
  {
   "cell_type": "markdown",
   "id": "8cf11d00",
   "metadata": {},
   "source": [
    "use formula `=if(AND(F2=\"F\", O2=\"HR\"), L2,0)` where f2 = Gender column, O2 = Department Column and L2 is salary column  \n",
    "Solution Description\n",
    "- Filter the Gender column for Female \"F\"\n",
    "-Apply filter on Department Column for HR\n",
    "-Then sum the salary of available rows."
   ]
  },
  {
   "cell_type": "markdown",
   "id": "4de8f5a0",
   "metadata": {},
   "source": [
    "### `True or False`"
   ]
  },
  {
   "cell_type": "markdown",
   "id": "e28389bc",
   "metadata": {},
   "source": [
    "`=if(AND(O2=\"Marketing\", F2=\"M\"),L2,0)` and `=if(AND(O2=\"Marketing\", F2=\"F\"),L2,0)` compare sum of both column.  \n",
    "In this we checked if Department is marketing and Gender is male, we return salary else 0."
   ]
  }
 ],
 "metadata": {
  "kernelspec": {
   "display_name": "Python 3 (ipykernel)",
   "language": "python",
   "name": "python3"
  },
  "language_info": {
   "codemirror_mode": {
    "name": "ipython",
    "version": 3
   },
   "file_extension": ".py",
   "mimetype": "text/x-python",
   "name": "python",
   "nbconvert_exporter": "python",
   "pygments_lexer": "ipython3",
   "version": "3.9.12"
  }
 },
 "nbformat": 4,
 "nbformat_minor": 5
}
