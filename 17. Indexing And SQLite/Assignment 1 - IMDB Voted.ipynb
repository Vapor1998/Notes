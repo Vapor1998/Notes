{
 "cells": [
  {
   "cell_type": "code",
   "execution_count": 10,
   "metadata": {},
   "outputs": [
    {
     "name": "stdout",
     "output_type": "stream",
     "text": [
      "Inception (2010) 8.8\n"
     ]
    }
   ],
   "source": [
    "import sqlite3\n",
    "import pandas as pd\n",
    "import numpy as np\n",
    "\n",
    "db = sqlite3.connect('IMDB.sqlite')\n",
    "\n",
    "data = pd.read_sql_query('Select * from earning join IMDB on IMDB.Movie_id = earning.Movie_id join genre on genre.Movie_id = IMDB.Movie_id', db)\n",
    "df = data.copy()\n",
    "\n",
    "a= df['TotalVotes'].max()\n",
    "\n",
    "b = df.loc[df['TotalVotes'] == a]\n",
    "\n",
    "c = b['Title']\n",
    "d = b['Rating']\n",
    "movie  = c.value_counts().index\n",
    "rating = d.value_counts().index\n",
    "\n",
    "for i in range(1):\n",
    "    print(movie[i], rating[i])"
   ]
  },
  {
   "cell_type": "code",
   "execution_count": 15,
   "metadata": {},
   "outputs": [
    {
     "name": "stdout",
     "output_type": "stream",
     "text": [
      "Inception (2010) 8.8 "
     ]
    }
   ],
   "source": [
    "import sqlite3\n",
    "db= sqlite3.connect('IMDB.sqlite')\n",
    "curr= db.cursor()\n",
    "curr.execute('Select title, rating, max(totalvotes) from IMDB')\n",
    "s = curr.fetchall()\n",
    "k = 0\n",
    "for i in s:\n",
    "    for j in i:\n",
    "        print(j, end=' ')\n",
    "        k += 1\n",
    "        if k == 2:\n",
    "            break"
   ]
  }
 ],
 "metadata": {
  "kernelspec": {
   "display_name": "Python 3",
   "language": "python",
   "name": "python3"
  },
  "language_info": {
   "codemirror_mode": {
    "name": "ipython",
    "version": 3
   },
   "file_extension": ".py",
   "mimetype": "text/x-python",
   "name": "python",
   "nbconvert_exporter": "python",
   "pygments_lexer": "ipython3",
   "version": "3.8.5"
  }
 },
 "nbformat": 4,
 "nbformat_minor": 4
}
