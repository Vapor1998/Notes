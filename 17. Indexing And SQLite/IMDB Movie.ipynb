{
 "cells": [
  {
   "cell_type": "code",
   "execution_count": 62,
   "metadata": {},
   "outputs": [
    {
     "name": "stdout",
     "output_type": "stream",
     "text": [
      "8.1\n"
     ]
    }
   ],
   "source": [
    "import sqlite3\n",
    "import pandas as pd\n",
    "import numpy as np\n",
    "\n",
    "db = sqlite3.connect('IMDB.sqlite')\n",
    "\n",
    "data = pd.read_sql_query('Select * from earning join IMDB on IMDB.Movie_id = earning.Movie_id join genre on genre.Movie_id = IMDB.Movie_id', db)\n",
    "df = data.copy()\n",
    "\n",
    "df['Total Earning'] = df['Domestic'] + df['Worldwide']\n",
    "\n",
    "a = df[\"Total Earning\"].max()\n",
    "b = df.loc[df['Total Earning'] == a]\n",
    "\n",
    "c = b['Rating'].value_counts()\n",
    "d = c.index\n",
    "e = c.values\n",
    "for i in d:\n",
    "    print(i)\n"
   ]
  },
  {
   "cell_type": "code",
   "execution_count": 64,
   "metadata": {},
   "outputs": [
    {
     "name": "stdout",
     "output_type": "stream",
     "text": [
      "8.1\n"
     ]
    }
   ],
   "source": [
    "import sqlite3\n",
    "import pandas as pd\n",
    "import numpy as np\n",
    "\n",
    "db = sqlite3.connect('IMDB.sqlite')\n",
    "\n",
    "data = pd.read_sql_query('Select * from earning join IMDB on IMDB.Movie_id = earning.Movie_id join genre on genre.Movie_id = IMDB.Movie_id', db)\n",
    "df = data.copy()\n",
    "\n",
    "df['Total Earning'] = df['Domestic'] + df['Worldwide']\n",
    "\n",
    "print(df[df['Total Earning'] == max(df['Total Earning'])]['Rating'].values[0])"
   ]
  }
 ],
 "metadata": {
  "kernelspec": {
   "display_name": "Python 3",
   "language": "python",
   "name": "python3"
  },
  "language_info": {
   "codemirror_mode": {
    "name": "ipython",
    "version": 3
   },
   "file_extension": ".py",
   "mimetype": "text/x-python",
   "name": "python",
   "nbconvert_exporter": "python",
   "pygments_lexer": "ipython3",
   "version": "3.8.5"
  }
 },
 "nbformat": 4,
 "nbformat_minor": 4
}
