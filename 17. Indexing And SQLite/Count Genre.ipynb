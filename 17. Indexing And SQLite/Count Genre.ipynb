{
 "cells": [
  {
   "cell_type": "code",
   "execution_count": 1,
   "metadata": {},
   "outputs": [],
   "source": [
    "import sqlite3\n",
    "import pandas as pd\n",
    "import numpy as np\n",
    "\n",
    "db = sqlite3.connect('IMDB.sqlite')"
   ]
  },
  {
   "cell_type": "code",
   "execution_count": 26,
   "metadata": {},
   "outputs": [
    {
     "name": "stdout",
     "output_type": "stream",
     "text": [
      "Drama 77\n",
      "Adventure 43\n",
      "Action 33\n",
      "Comedy 31\n",
      "Biography 21\n",
      "Sci-Fi 18\n",
      "Thriller 14\n",
      "Romance 13\n",
      "Animation 13\n",
      "Crime 11\n",
      "Mystery 7\n",
      "Fantasy 7\n",
      "History 6\n",
      "Sport 3\n",
      "Music 3\n",
      "Family 3\n",
      "Horror 2\n",
      "War 2\n",
      "Western 2\n",
      "Musical 1\n"
     ]
    }
   ],
   "source": [
    "data = pd.read_sql_query('Select * from genre', db)\n",
    "df = data.copy()\n",
    "count = df['genre'].value_counts()\n",
    "\n",
    "genre = count.index\n",
    "movies = count.values\n",
    "\n",
    "for i in range(len(movies)):\n",
    "    if genre[i] == '':\n",
    "        continue\n",
    "    print(genre[i], movies[i])\n",
    "\n"
   ]
  }
 ],
 "metadata": {
  "kernelspec": {
   "display_name": "Python 3",
   "language": "python",
   "name": "python3"
  },
  "language_info": {
   "codemirror_mode": {
    "name": "ipython",
    "version": 3
   },
   "file_extension": ".py",
   "mimetype": "text/x-python",
   "name": "python",
   "nbconvert_exporter": "python",
   "pygments_lexer": "ipython3",
   "version": "3.8.5"
  }
 },
 "nbformat": 4,
 "nbformat_minor": 4
}
