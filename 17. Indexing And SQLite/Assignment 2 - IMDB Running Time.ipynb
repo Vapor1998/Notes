{
 "cells": [
  {
   "cell_type": "code",
   "execution_count": 24,
   "metadata": {},
   "outputs": [
    {
     "name": "stdout",
     "output_type": "stream",
     "text": [
      "The Wolf of Wall Street (2013) 180\n"
     ]
    }
   ],
   "source": [
    "import sqlite3\n",
    "import pandas as pd\n",
    "import numpy as np\n",
    "\n",
    "db = sqlite3.connect('IMDB.sqlite')\n",
    "\n",
    "data = pd.read_sql_query('Select * from earning join IMDB on IMDB.Movie_id = earning.Movie_id join genre on genre.Movie_id = IMDB.Movie_id', db)\n",
    "df = data.copy()\n",
    "\n",
    "df['Runtime'] = df['Runtime'].str[:3]\n",
    "a = df['Runtime'].str.strip()\n",
    "b = pd.to_numeric(a)\n",
    "rt = b.max()\n",
    "\n",
    "c = df.loc[b == rt]\n",
    "d = c['Title'].value_counts().index\n",
    "e = c[\"Runtime\"].value_counts().index\n",
    "\n",
    "for i in range(1):\n",
    "    print(d[i], e[i])"
   ]
  }
 ],
 "metadata": {
  "kernelspec": {
   "display_name": "Python 3",
   "language": "python",
   "name": "python3"
  },
  "language_info": {
   "codemirror_mode": {
    "name": "ipython",
    "version": 3
   },
   "file_extension": ".py",
   "mimetype": "text/x-python",
   "name": "python",
   "nbconvert_exporter": "python",
   "pygments_lexer": "ipython3",
   "version": "3.8.5"
  }
 },
 "nbformat": 4,
 "nbformat_minor": 4
}
