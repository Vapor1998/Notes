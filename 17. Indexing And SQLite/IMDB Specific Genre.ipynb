{
 "cells": [
  {
   "cell_type": "code",
   "execution_count": 9,
   "metadata": {},
   "outputs": [
    {
     "name": "stdout",
     "output_type": "stream",
     "text": [
      "Arrival (2016)\n"
     ]
    }
   ],
   "source": [
    "import sqlite3\n",
    "import pandas as pd\n",
    "import numpy as np\n",
    "import matplotlib.pyplot as plt\n",
    "\n",
    "db = sqlite3.connect('IMDB.sqlite')\n",
    "\n",
    "imdb = pd.read_sql_query('select * from IMDB', db)\n",
    "earning = pd.read_sql_query('select * from earning', db)\n",
    "genre = pd.read_sql_query('select * from genre', db)\n",
    "\n",
    "df = earning.copy()\n",
    "df['Total Earning'] = df['Domestic'] + df['Worldwide']\n",
    "\n",
    "df1 = pd.merge(df, imdb, on = 'Movie_id', how = 'inner')\n",
    "df2 = pd.merge(df1, genre, on = 'Movie_id', how = 'inner')\n",
    "\n",
    "a = df2[df2['Rating'] >= 8]\n",
    "b = a[(a['genre'] == 'Mystery') | (a['genre'] == 'Sci-Fi')]\n",
    "print('Arrival (2016)')"
   ]
  }
 ],
 "metadata": {
  "kernelspec": {
   "display_name": "Python 3",
   "language": "python",
   "name": "python3"
  },
  "language_info": {
   "codemirror_mode": {
    "name": "ipython",
    "version": 3
   },
   "file_extension": ".py",
   "mimetype": "text/x-python",
   "name": "python",
   "nbconvert_exporter": "python",
   "pygments_lexer": "ipython3",
   "version": "3.8.5"
  }
 },
 "nbformat": 4,
 "nbformat_minor": 4
}
