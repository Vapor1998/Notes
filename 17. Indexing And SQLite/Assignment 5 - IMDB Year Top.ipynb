{
 "cells": [
  {
   "cell_type": "code",
   "execution_count": 76,
   "metadata": {},
   "outputs": [
    {
     "name": "stdout",
     "output_type": "stream",
     "text": [
      "2010 Toy Story 3 (2010)\n",
      "2011 Rise of the Planet of the Apes (2011)\n",
      "2012 The Avengers (2012)\n",
      "2013 The Hunger Games: Catching Fire (2013)\n",
      "2014 Guardians of the Galaxy (2014)\n",
      "2015 Star Wars: The Force Awakens (2015)\n",
      "2016 Rogue One (2016)\n"
     ]
    }
   ],
   "source": [
    "import sqlite3\n",
    "import pandas as pd\n",
    "import numpy as np\n",
    "\n",
    "db = sqlite3.connect('IMDB.sqlite')\n",
    "\n",
    "imdb = pd.read_sql_query('select * from IMDB', db)\n",
    "earning = pd.read_sql_query('select * from earning', db)\n",
    "genre = pd.read_sql_query('select * from genre', db)\n",
    "\n",
    "df = earning.copy()\n",
    "df['Total Earning'] = df['Domestic'] + df['Worldwide']\n",
    "\n",
    "df1 = pd.merge(df, imdb, on = 'Movie_id', how = 'inner')\n",
    "df2 = pd.merge(df1, genre, on = 'Movie_id', how = 'inner')\n",
    "\n",
    "a = df2['Title'].str[-5:-1:]\n",
    "\n",
    "b = a.value_counts().index\n",
    "\n",
    "arr= []\n",
    "for i in b:\n",
    "    c = df2.loc[a == str(i)]\n",
    "    d = c['Total Earning'].max()\n",
    "    e =df2.loc[df2['Total Earning']  == d]\n",
    "    q = e['Title']\n",
    "    f = q.value_counts().index\n",
    "    for i in f:\n",
    "        arr.append(i)\n",
    "        break\n",
    "\n",
    "        \n",
    "b = np.array(b, dtype = float)\n",
    "b = np.array(b, dtype = int)\n",
    "\n",
    "d ={}\n",
    "for a, b in zip(b, arr):\n",
    "    d[a] = b\n",
    "\n",
    "dic = sorted(d.keys())\n",
    "for i in dic:\n",
    "    print(i, d[i])\n"
   ]
  },
  {
   "cell_type": "code",
   "execution_count": 4,
   "metadata": {},
   "outputs": [
    {
     "name": "stdout",
     "output_type": "stream",
     "text": [
      "2010 Toy Story 3 (2010)\n",
      "2011 Rise of the Planet of the Apes (2011)\n",
      "2012 The Avengers (2012)\n",
      "2013 The Hunger Games: Catching Fire (2013)\n",
      "2014 Guardians of the Galaxy (2014)\n",
      "2015 Star Wars: The Force Awakens (2015)\n",
      "2016 Rogue One (2016)\n"
     ]
    }
   ],
   "source": [
    "import sqlite3\n",
    "import pandas as pd\n",
    "import numpy as np\n",
    "\n",
    "db = sqlite3.connect('IMDB.sqlite')\n",
    "\n",
    "imdb = pd.read_sql_query('select * from IMDB', db)\n",
    "earning = pd.read_sql_query('select * from earning', db)\n",
    "genre = pd.read_sql_query('select * from genre', db)\n",
    "\n",
    "df = earning.copy()\n",
    "df['Total Earning'] = df['Domestic'] + df['Worldwide']\n",
    "\n",
    "df1 = pd.merge(df, imdb, on = 'Movie_id', how = 'inner')\n",
    "df2 = pd.merge(df1, genre, on = 'Movie_id', how = 'inner')\n",
    "\n",
    "a = df2['Title'].str[-5:-1:]\n",
    "\n",
    "b = a.value_counts().index\n",
    "\n",
    "arr= []\n",
    "for i in b:\n",
    "    c = df2.loc[a == str(i)]\n",
    "    d = c['Total Earning'].max()\n",
    "    e =df2.loc[df2['Total Earning']  == d]\n",
    "    q = e['Title']\n",
    "    f = q.value_counts().index\n",
    "    for i in f:\n",
    "        arr.append(i)\n",
    "        break\n",
    "\n",
    "b = np.array(b, dtype = float)\n",
    "b = np.array(b, dtype = int)\n",
    "\n",
    "d ={}\n",
    "for a, b in zip(b, arr):\n",
    "    d[a] = b\n",
    "\n",
    "dic = sorted(d.keys())\n",
    "for i in dic:\n",
    "    print(i, d[i])"
   ]
  }
 ],
 "metadata": {
  "kernelspec": {
   "display_name": "Python 3",
   "language": "python",
   "name": "python3"
  },
  "language_info": {
   "codemirror_mode": {
    "name": "ipython",
    "version": 3
   },
   "file_extension": ".py",
   "mimetype": "text/x-python",
   "name": "python",
   "nbconvert_exporter": "python",
   "pygments_lexer": "ipython3",
   "version": "3.8.5"
  }
 },
 "nbformat": 4,
 "nbformat_minor": 4
}
