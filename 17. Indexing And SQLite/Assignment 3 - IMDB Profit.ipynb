{
 "cells": [
  {
   "cell_type": "code",
   "execution_count": 5,
   "metadata": {},
   "outputs": [
    {
     "name": "stdout",
     "output_type": "stream",
     "text": [
      "Star Wars: The Force Awakens (2015)\n"
     ]
    }
   ],
   "source": [
    "import sqlite3\n",
    "import pandas as pd\n",
    "import numpy as np\n",
    "\n",
    "db = sqlite3.connect('IMDB.sqlite')\n",
    "\n",
    "data = pd.read_sql_query('Select * from earning join IMDB on IMDB.Movie_id = earning.Movie_id join genre on genre.Movie_id = IMDB.Movie_id', db)\n",
    "df = data.copy()\n",
    "\n",
    "df['Total Earning'] = df['Domestic'] + df['Worldwide']\n",
    "\n",
    "e = df['Total Earning'].max()\n",
    "a = df.loc[df['Total Earning'] == e]\n",
    "\n",
    "movie = a['Title'].value_counts().index\n",
    "for i in range(1):\n",
    "    print(movie[i])\n"
   ]
  },
  {
   "cell_type": "code",
   "execution_count": 4,
   "metadata": {},
   "outputs": [
    {
     "name": "stdout",
     "output_type": "stream",
     "text": [
      "Star Wars: The Force Awakens (2015)\n"
     ]
    }
   ],
   "source": [
    "import pandas as pd\n",
    "import sqlite3\n",
    "\n",
    "db=sqlite3.connect(\"IMDB.sqlite\")\n",
    "df=pd.read_sql_query(\"select Title,Worldwide,Domestic,Budget from IMDB inner join earning on IMDB.Movie_id = earning.Movie_id\",db)\n",
    "def fun(f):\n",
    "    if(f==\"\"):\n",
    "        return 0\n",
    "    else:\n",
    "        return int(f)\n",
    "\n",
    "\n",
    "df.Budget=df.Budget.apply(fun)\n",
    "\n",
    "\n",
    "df[\"NET PROFIT\"]=df[\"Worldwide\"]+df[\"Domestic\"]-df[\"Budget\"]\n",
    "# df.describe()\n",
    "df=df[df[\"NET PROFIT\"]==df[\"NET PROFIT\"].max()]\n",
    "row=df.iloc[0]\n",
    "print(row['Title'])\n"
   ]
  }
 ],
 "metadata": {
  "kernelspec": {
   "display_name": "Python 3",
   "language": "python",
   "name": "python3"
  },
  "language_info": {
   "codemirror_mode": {
    "name": "ipython",
    "version": 3
   },
   "file_extension": ".py",
   "mimetype": "text/x-python",
   "name": "python",
   "nbconvert_exporter": "python",
   "pygments_lexer": "ipython3",
   "version": "3.8.5"
  }
 },
 "nbformat": 4,
 "nbformat_minor": 4
}
