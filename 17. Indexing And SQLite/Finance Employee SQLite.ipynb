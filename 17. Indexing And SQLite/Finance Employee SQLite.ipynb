{
 "cells": [
  {
   "cell_type": "code",
   "execution_count": 1,
   "metadata": {},
   "outputs": [],
   "source": [
    "import sqlite3\n",
    "db = sqlite3.connect('Employees.sqlite')"
   ]
  },
  {
   "cell_type": "code",
   "execution_count": 2,
   "metadata": {},
   "outputs": [],
   "source": [
    "cur = db.cursor()"
   ]
  },
  {
   "cell_type": "code",
   "execution_count": 6,
   "metadata": {},
   "outputs": [
    {
     "name": "stdout",
     "output_type": "stream",
     "text": [
      "103\n",
      "107\n"
     ]
    }
   ],
   "source": [
    "cur.execute('select employee_id from Employee_Detail where Department = \"Finance\" ')\n",
    "ans = cur.fetchall()\n",
    "for i in ans:\n",
    "    for j in i:\n",
    "        print(j)"
   ]
  },
  {
   "cell_type": "code",
   "execution_count": 3,
   "metadata": {},
   "outputs": [],
   "source": [
    "ans  = cur.execute('select * from Employee_Detail ')\n",
    "ans = cur.fetchall()"
   ]
  },
  {
   "cell_type": "code",
   "execution_count": 4,
   "metadata": {},
   "outputs": [
    {
     "data": {
      "text/plain": [
       "[(100, 'Rishav', 25, 'Marketing', 50000),\n",
       " (101, 'Aadarsh', 25, 'Marketing', 50000),\n",
       " (102, 'Aarti', 27, 'Operations', 60000),\n",
       " (103, 'Siddharth', 25, 'Finance', 85000),\n",
       " (104, 'Aman', 24, 'Human Resource', 75000),\n",
       " (105, 'Amit', 30, 'Marketing', 50000),\n",
       " (106, 'Shivansh', 26, 'IT', 90000),\n",
       " (107, 'Vaibhav', 23, 'Finance', 85000),\n",
       " (108, 'Himanshu', 26, 'IT', 90000),\n",
       " (109, 'Raman', 25, 'Operations', 60000),\n",
       " (110, 'Kunal', 26, 'Marketing', 50000),\n",
       " (111, 'Adhira', 29, 'Human Resource', 75000),\n",
       " (112, 'Tanya', 24, 'Marketing', 50000)]"
      ]
     },
     "execution_count": 4,
     "metadata": {},
     "output_type": "execute_result"
    }
   ],
   "source": [
    "ans"
   ]
  }
 ],
 "metadata": {
  "kernelspec": {
   "display_name": "Python 3",
   "language": "python",
   "name": "python3"
  },
  "language_info": {
   "codemirror_mode": {
    "name": "ipython",
    "version": 3
   },
   "file_extension": ".py",
   "mimetype": "text/x-python",
   "name": "python",
   "nbconvert_exporter": "python",
   "pygments_lexer": "ipython3",
   "version": "3.8.5"
  }
 },
 "nbformat": 4,
 "nbformat_minor": 4
}
