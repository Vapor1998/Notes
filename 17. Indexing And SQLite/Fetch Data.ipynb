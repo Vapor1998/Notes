{
 "cells": [
  {
   "cell_type": "code",
   "execution_count": 1,
   "metadata": {},
   "outputs": [
    {
     "data": {
      "text/plain": [
       "<sqlite3.Connection at 0x1a36ed347b0>"
      ]
     },
     "execution_count": 1,
     "metadata": {},
     "output_type": "execute_result"
    }
   ],
   "source": [
    "import sqlite3\n",
    "\n",
    "db = sqlite3.connect('School.sqlite')\n",
    "db\n"
   ]
  },
  {
   "cell_type": "code",
   "execution_count": 2,
   "metadata": {},
   "outputs": [],
   "source": [
    "cur = db.cursor()"
   ]
  },
  {
   "cell_type": "code",
   "execution_count": 3,
   "metadata": {},
   "outputs": [
    {
     "data": {
      "text/plain": [
       "<sqlite3.Cursor at 0x1a36ee752d0>"
      ]
     },
     "execution_count": 3,
     "metadata": {},
     "output_type": "execute_result"
    }
   ],
   "source": [
    "cur.execute(\"Select * from Student\")\n",
    "\n",
    "## After executing the above statement, we can use the above cur object as an iterator to fetch the row."
   ]
  },
  {
   "cell_type": "code",
   "execution_count": 4,
   "metadata": {},
   "outputs": [
    {
     "name": "stdout",
     "output_type": "stream",
     "text": [
      "(101, 'Aman', 30)\n",
      "(102, 'Amit', 20)\n",
      "(103, 'Mohit', 32)\n",
      "(104, 'Amit kumar', 30)\n",
      "(105, 'Nidhi', 30)\n",
      "(106, 'Manisha', 30)\n",
      "(107, 'Ankush', 30)\n"
     ]
    }
   ],
   "source": [
    "for row in cur:\n",
    "    print(row)"
   ]
  },
  {
   "cell_type": "code",
   "execution_count": 5,
   "metadata": {},
   "outputs": [
    {
     "data": {
      "text/plain": [
       "(101, 'Aman', 30)"
      ]
     },
     "execution_count": 5,
     "metadata": {},
     "output_type": "execute_result"
    }
   ],
   "source": [
    "cur.execute(\"Select * from Student\")\n",
    "print(cur.fetchone())\n",
    "\n",
    "## As the data is fetched in cur object, we can use fetchone() to fetch only one object using cur.\n",
    "## It will fetch only first row.\n"
   ]
  },
  {
   "cell_type": "code",
   "execution_count": 7,
   "metadata": {},
   "outputs": [
    {
     "name": "stdout",
     "output_type": "stream",
     "text": [
      "[(101, 'Aman', 30), (102, 'Amit', 20), (103, 'Mohit', 32)]\n"
     ]
    }
   ],
   "source": [
    "cur.execute(\"Select * from Student\")\n",
    "\n",
    "print(cur.fetchmany(3))\n",
    "\n",
    "## As we can see, fetchmany takes argument and it will print result in the form of list containing tuples where\n",
    "## tuple is one row.\n",
    "## fetchmany() will take argument n and print n rows, if we dont pass argument, it will print only one row and \n",
    "## that is first row"
   ]
  },
  {
   "cell_type": "code",
   "execution_count": 9,
   "metadata": {},
   "outputs": [
    {
     "name": "stdout",
     "output_type": "stream",
     "text": [
      "[(101, 'Aman', 30), (102, 'Amit', 20), (103, 'Mohit', 32), (104, 'Amit kumar', 30), (105, 'Nidhi', 30), (106, 'Manisha', 30), (107, 'Ankush', 30)]\n"
     ]
    }
   ],
   "source": [
    "cur.execute(\"Select * from Student\")\n",
    "print(cur.fetchall())\n",
    "\n",
    "## fetchall() will print all the rows and it will print result in the form of list containing tuples where\n",
    "## tuple is one row."
   ]
  },
  {
   "cell_type": "code",
   "execution_count": 11,
   "metadata": {},
   "outputs": [
    {
     "name": "stdout",
     "output_type": "stream",
     "text": [
      "[(104, 'Amit kumar', 30), (105, 'Nidhi', 30), (106, 'Manisha', 30), (107, 'Ankush', 30)]\n",
      "[(101, 'Aman', 30), (102, 'Amit', 20), (104, 'Amit kumar', 30), (107, 'Ankush', 30)]\n"
     ]
    }
   ],
   "source": [
    "## We can also apply  filters\n",
    "\n",
    "cur.execute(\"Select * from Student where RollNumber > 103\")\n",
    "ans = cur.fetchall()\n",
    "print(ans)\n",
    "\n",
    "cur.execute(\"Select * from Student where Name like 'A%'\")\n",
    "ans = cur.fetchall()\n",
    "print(ans)\n",
    "\n"
   ]
  },
  {
   "cell_type": "code",
   "execution_count": null,
   "metadata": {},
   "outputs": [],
   "source": []
  },
  {
   "cell_type": "code",
   "execution_count": null,
   "metadata": {},
   "outputs": [],
   "source": []
  }
 ],
 "metadata": {
  "kernelspec": {
   "display_name": "Python 3",
   "language": "python",
   "name": "python3"
  },
  "language_info": {
   "codemirror_mode": {
    "name": "ipython",
    "version": 3
   },
   "file_extension": ".py",
   "mimetype": "text/x-python",
   "name": "python",
   "nbconvert_exporter": "python",
   "pygments_lexer": "ipython3",
   "version": "3.8.5"
  }
 },
 "nbformat": 4,
 "nbformat_minor": 4
}
