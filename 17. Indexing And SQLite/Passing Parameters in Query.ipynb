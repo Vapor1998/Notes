{
 "cells": [
  {
   "cell_type": "code",
   "execution_count": 1,
   "metadata": {},
   "outputs": [
    {
     "data": {
      "text/plain": [
       "<sqlite3.Connection at 0x251a95d47b0>"
      ]
     },
     "execution_count": 1,
     "metadata": {},
     "output_type": "execute_result"
    }
   ],
   "source": [
    "import sqlite3\n",
    "\n",
    "db = sqlite3.connect('School.sqlite')\n",
    "db\n"
   ]
  },
  {
   "cell_type": "code",
   "execution_count": 2,
   "metadata": {},
   "outputs": [],
   "source": [
    "cur = db.cursor()"
   ]
  },
  {
   "cell_type": "code",
   "execution_count": 12,
   "metadata": {},
   "outputs": [
    {
     "ename": "OperationalError",
     "evalue": "database is locked",
     "output_type": "error",
     "traceback": [
      "\u001b[1;31m---------------------------------------------------------------------------\u001b[0m",
      "\u001b[1;31mOperationalError\u001b[0m                          Traceback (most recent call last)",
      "\u001b[1;32m<ipython-input-12-3abf1f93f8f5>\u001b[0m in \u001b[0;36m<module>\u001b[1;34m\u001b[0m\n\u001b[1;32m----> 1\u001b[1;33m \u001b[0mcur\u001b[0m\u001b[1;33m.\u001b[0m\u001b[0mexecute\u001b[0m\u001b[1;33m(\u001b[0m\u001b[1;34m\"insert into Student values (103, 'Mohit', 20)\"\u001b[0m\u001b[1;33m)\u001b[0m\u001b[1;33m\u001b[0m\u001b[1;33m\u001b[0m\u001b[0m\n\u001b[0m\u001b[0;32m      2\u001b[0m \u001b[0mdb\u001b[0m\u001b[1;33m.\u001b[0m\u001b[0mcommit\u001b[0m\u001b[1;33m(\u001b[0m\u001b[1;33m)\u001b[0m\u001b[1;33m\u001b[0m\u001b[1;33m\u001b[0m\u001b[0m\n",
      "\u001b[1;31mOperationalError\u001b[0m: database is locked"
     ]
    }
   ],
   "source": [
    "cur.execute(\"insert into Student values (103, 'Mohit', 20)\")\n",
    "db.commit()"
   ]
  },
  {
   "cell_type": "code",
   "execution_count": 3,
   "metadata": {},
   "outputs": [],
   "source": [
    "rollNumber = 104\n",
    "name = 'Amit kumar'\n",
    "age = 22\n",
    "cur.execute(\"insert into Student values (?, ?, ?)\", (rollNumber, name, age))\n",
    "\n",
    "db.commit()\n",
    "## To pass parameters in query, we use '?' which is a placeholder where we pass a particular variable in place of ?.\n",
    "## Above is the example of how we use placeholder.\n",
    "## This method is used to insert only one row in the table."
   ]
  },
  {
   "cell_type": "code",
   "execution_count": 4,
   "metadata": {},
   "outputs": [
    {
     "data": {
      "text/plain": [
       "<sqlite3.Cursor at 0x251a97142d0>"
      ]
     },
     "execution_count": 4,
     "metadata": {},
     "output_type": "execute_result"
    }
   ],
   "source": [
    "## To add more than one row at a time, we use executemany()\n",
    "## To add using this method, we pass the value in the form of list where list contains tuples where each tuple \n",
    "## represents one row.\n",
    "\n",
    "values = [(105, 'Nidhi', 20), (106, 'Manisha', 21), (107, 'Ankush', 22)]\n",
    "\n",
    "cur.executemany('insert into Student values(?, ?, ?)', values)\n",
    "\n",
    "## The above is the procedure to use executemany()."
   ]
  },
  {
   "cell_type": "code",
   "execution_count": 5,
   "metadata": {},
   "outputs": [],
   "source": [
    "db.commit()"
   ]
  },
  {
   "cell_type": "code",
   "execution_count": 6,
   "metadata": {},
   "outputs": [],
   "source": [
    "## Lets say now we want to update age of all the students as 30\n",
    "\n",
    "cur.execute('update Student set Age = 30')\n",
    "db.commit()"
   ]
  },
  {
   "cell_type": "code",
   "execution_count": 8,
   "metadata": {},
   "outputs": [],
   "source": [
    "## More eg\n",
    "cur.execute('update Student set Age = 20 where RollNumber = 102')\n",
    "db.commit()\n",
    "\n",
    "newAge = 32\n",
    "cur.execute('update Student set Age = ? where RollNumber = 103', (newAge, ))  \n",
    "db.commit()\n",
    "\n",
    "## Now above query, cur.execute('update Student set Age = ? where RollNumber = 103', newAge) if written like this will give \n",
    "## error.\n",
    "## cur.execute('update Student set Age = ? where RollNumber = 103', (newAge)) If written like this will also give error \n",
    "## because we have to add that placeholder in the tuple, so to make the above query in tuple, we need to add comma after it \n",
    "## like the following query. \n",
    "## cur.execute('update Student set Age = ? where RollNumber = 103', (newAge, )).\n",
    "## One thing to notice is that we need to pass the value in tuple.\n",
    "## If there is only one value, we need to pass the comma explicitly.\n",
    "\n",
    "\n",
    "\n",
    "\n",
    "\n"
   ]
  },
  {
   "cell_type": "code",
   "execution_count": null,
   "metadata": {},
   "outputs": [],
   "source": [
    "id = "
   ]
  },
  {
   "cell_type": "code",
   "execution_count": null,
   "metadata": {},
   "outputs": [],
   "source": []
  }
 ],
 "metadata": {
  "kernelspec": {
   "display_name": "Python 3",
   "language": "python",
   "name": "python3"
  },
  "language_info": {
   "codemirror_mode": {
    "name": "ipython",
    "version": 3
   },
   "file_extension": ".py",
   "mimetype": "text/x-python",
   "name": "python",
   "nbconvert_exporter": "python",
   "pygments_lexer": "ipython3",
   "version": "3.8.5"
  }
 },
 "nbformat": 4,
 "nbformat_minor": 4
}
