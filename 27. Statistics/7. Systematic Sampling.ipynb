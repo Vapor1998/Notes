{
 "cells": [
  {
   "cell_type": "markdown",
   "metadata": {},
   "source": [
    "### Systematic Sampling\n",
    "\n",
    "Systematic sampling is a probability sampling method in which researchers select members of the population at a regular interval (or k) determined in advance.\n",
    "\n",
    "If the population order is random or random-like (e.g., alphabetical), then this method will give you a representative sample that can be used to draw conclusions about the population."
   ]
  },
  {
   "cell_type": "markdown",
   "metadata": {},
   "source": [
    "### When to use systematic sampling\n",
    "Systematic sampling is a method that imitates many of the randomization benefits of simple random sampling, but is slightly easier to conduct.\n",
    "\n",
    "You can use systematic sampling with a list of the entire population, as in simple random sampling. However, unlike with simple random sampling, you can also use this method when you’re unable to access a list of your population in advance.\n",
    "\n",
    "Order of the population\n",
    "When using systematic sampling with a population list, it’s essential to consider the order in which your population is listed to ensure that your sample is valid.\n",
    "\n",
    "If your population is in ascending or descending order, using systematic sampling should still give you a fairly representative sample, as it will include participants from both the bottom and top ends of the population.\n",
    "\n",
    "For example, if you are sampling from a list of individuals ordered by age, systematic sampling will result in a population drawn from the entire age spectrum. If you instead used simple random sampling, it is possible (although unlikely) that you would end up with only younger or older individuals.\n",
    "\n",
    "You should not use systematic sampling if your population is ordered cyclically or periodically, as your resulting sample cannot be guaranteed to be representative."
   ]
  },
  {
   "cell_type": "markdown",
   "metadata": {},
   "source": [
    "#### Systematic sampling without a population list\n",
    "You can use systematic sampling to imitate the randomization of simple random sampling when you don’t have access to a full list of the population in advance.\n",
    "\n",
    "#### Research example\n",
    "You run a department store and are interested in how you can improve the store experience for your customers. To investigate this question, you ask an employee to stand by the store entrance and survey every 20th visitor who leaves, every day for a week.\n",
    "Although you do not necessarily have a list of all your customers ahead of time, this method should still provide you with a representative sample of your customers since their order of exit is essentially random.\n",
    "\n",
    "### Step 1: Define your population\n",
    "Like other methods of sampling, you must decide upon the population that you are studying.\n",
    "\n",
    "In systematic sampling, you have two choices for data collection:\n",
    "\n",
    "You can select your sample ahead of time from a list and then approach the selected subjects to collect data, or\n",
    "You can approach every kth member of your target population to ask them to participate in your study.\n",
    "Listing the population in advance\n",
    "Ensure that your list contains the entire population and is not in a periodic or cyclic order. Ideally, it should be in a random or random-like (such as alphabetical) order, which will allow you to imitate the randomization benefits of simple random sampling.\n",
    "\n",
    "Example: Listing the population\n",
    "In your department store study, your customers make up your target population. To create your sample ahead of time, you would need to create a list of every customer who visited your store in the last week.\n",
    "However, creating such a list would be difficult, if not entirely impossible. You could choose to use receipts to create your list, but this would exclude any non-buying customers, which would most likely bias your results.\n",
    "\n",
    "Selecting your sample on the spot\n",
    "If you cannot access a list in advance, but you are able to physically observe the population, you can also use systematic sampling to select subjects at the moment of data collection.\n",
    "\n",
    "In this case, ensure that the timing and location of your sampling procedure covers the full population to avoid bias in the results.\n",
    "\n",
    "Example: Sampling on the spot\n",
    "As you cannot get a complete list of your store’s customers, you instead choose to sample every kth customer as they exit the store. This allows you to include both those who buy items and those who do not.\n",
    "You must ensure that you are sampling throughout the entire week to ensure a representative sample, because different types of customers enter at different times and days: Teenagers usually shop after school and on the weekends, while working professionals might shop later in the evening and stay-at-home parents during the day.\n",
    "\n",
    "What can proofreading do for your paper?\n",
    "Scribbr editors not only correct grammar and spelling mistakes, but also strengthen your writing by making sure your paper is free of vague language, redundant words and awkward phrasing.\n",
    "\n",
    "\n",
    "### Step 2: Decide on your sample size and sampling interval\n",
    "Before you choose your interval, you must first decide on your sample size. There are several different ways to choose a sample size, but one of the most common involves using a sample size calculator.\n",
    "\n",
    "Once you have chosen your desired margin of error and confidence level, estimated total size of the population, and the standard deviation of the variables you are attempting to measure, this calculator will provide you with the sample size you should aim for.\n",
    "\n",
    "When you know your target sample size, you can calculate your interval, k, by dividing your total estimated population size by your sample size. This can be a rough estimate rather than an exact calculation.\n",
    "\n",
    "Sample size and sampling interval\n",
    "Although you do not know exactly how many people will visit your store ahead of time, you can estimate the total population by using an average of the prior few weeks’ foot traffic.\n",
    "You estimate that around 7500 people visit your store each week, and based on this estimate you calculate an ideal sample size of 366. Your sampling interval k thus equals 7500/366 = 20.49, which you round to 20.\n",
    "\n",
    "### Step 3: Select the sample and collect data\n",
    "If you already have a list of your population, randomly select a starting point on your list, and from there, select every kth member of the population to include in your sample.\n",
    "\n",
    "If you don’t have a list, you choose every kth member of the population for your sample at the same time as collecting the data for your study.\n",
    "\n",
    "As in simple random sampling, you should try to make sure every individual you have chosen for your sample actually participates in your study. If those who decide to participate do so for reasons connected with the variables that you are collecting, this could bias your study.\n",
    "\n",
    "Example: Data collection\n",
    "You choose an employee to stand by the door and survey every 20th customer who leaves. It is important that as many as possible of those chosen for the sample decide to participate; otherwise, your results may not properly reflect the opinions of the overall population.\n",
    "For instance, those with particularly good or bad opinions of the store may be more willing to participate than the general customer population, thus biasing the results of your survey."
   ]
  },
  {
   "cell_type": "markdown",
   "metadata": {},
   "source": [
    "reference = https://www.scribbr.com/methodology/systematic-sampling/"
   ]
  },
  {
   "cell_type": "code",
   "execution_count": null,
   "metadata": {},
   "outputs": [],
   "source": []
  }
 ],
 "metadata": {
  "kernelspec": {
   "display_name": "Python 3",
   "language": "python",
   "name": "python3"
  },
  "language_info": {
   "codemirror_mode": {
    "name": "ipython",
    "version": 3
   },
   "file_extension": ".py",
   "mimetype": "text/x-python",
   "name": "python",
   "nbconvert_exporter": "python",
   "pygments_lexer": "ipython3",
   "version": "3.8.5"
  }
 },
 "nbformat": 4,
 "nbformat_minor": 4
}
