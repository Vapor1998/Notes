{
 "cells": [
  {
   "cell_type": "code",
   "execution_count": 34,
   "metadata": {},
   "outputs": [],
   "source": [
    "import pandas as pd\n",
    "data = pd.read_csv('startupfunding.csv')\n"
   ]
  },
  {
   "cell_type": "code",
   "execution_count": 36,
   "metadata": {},
   "outputs": [],
   "source": [
    "df = data.copy()"
   ]
  },
  {
   "cell_type": "code",
   "execution_count": 60,
   "metadata": {},
   "outputs": [
    {
     "data": {
      "text/plain": [
       "0       1300000\n",
       "3        500000\n",
       "4        850000\n",
       "5       1000000\n",
       "6       2600000\n",
       "         ...   \n",
       "2195    6000000\n",
       "2196    3500000\n",
       "2198     400000\n",
       "2199     500000\n",
       "2200    8000000\n",
       "Name: AmountInUSD, Length: 1390, dtype: object"
      ]
     },
     "execution_count": 60,
     "metadata": {},
     "output_type": "execute_result"
    }
   ],
   "source": [
    "df1 = df.dropna(subset = ['CityLocation', 'AmountInUSD'])\n",
    "df1['AmountInUSD'].str.replace(',', '')\n"
   ]
  },
  {
   "cell_type": "code",
   "execution_count": 61,
   "metadata": {},
   "outputs": [],
   "source": [
    "df1.loc[df1['CityLocation'].str.contains('bangalore', case = False), 'CityLocation'] = 'Bangalore'\n",
    "df1.loc[df1['CityLocation'].str.contains('Delhi', case = False), 'CityLocation'] = 'New Delhi'\n"
   ]
  },
  {
   "cell_type": "code",
   "execution_count": 74,
   "metadata": {},
   "outputs": [],
   "source": [
    "df2 = df1[['CityLocation', 'AmountInUSD']]\n",
    "a = df2.loc[(df2['CityLocation'] == 'Bangalore') | (df2['CityLocation'] == 'New Delhi')]\n",
    "\n",
    "b = a['AmountInUSD'].str.replace(',', '')"
   ]
  },
  {
   "cell_type": "code",
   "execution_count": 75,
   "metadata": {},
   "outputs": [
    {
     "data": {
      "text/plain": [
       "0        1300000\n",
       "5        1000000\n",
       "8        8500000\n",
       "13       1000000\n",
       "19      18500000\n",
       "          ...   \n",
       "2180     1800000\n",
       "2181      500000\n",
       "2190    10000000\n",
       "2196     3500000\n",
       "2198      400000\n",
       "Name: AmountInUSD, Length: 628, dtype: int64"
      ]
     },
     "execution_count": 75,
     "metadata": {},
     "output_type": "execute_result"
    }
   ],
   "source": [
    "c = pd.to_numeric(b)\n",
    "c"
   ]
  },
  {
   "cell_type": "code",
   "execution_count": 80,
   "metadata": {},
   "outputs": [],
   "source": [
    "population = c\n",
    "d = c.mean()\n",
    "samplesize = 50\n",
    "sample = population.sample(samplesize)\n",
    "\n",
    "avgsample = sample.mean()\n"
   ]
  },
  {
   "cell_type": "code",
   "execution_count": 81,
   "metadata": {},
   "outputs": [
    {
     "name": "stdout",
     "output_type": "stream",
     "text": [
      "11666073.770700637\n"
     ]
    }
   ],
   "source": [
    "## sampling error\n",
    "\n",
    "samplingerror = d - avgsample\n",
    "print(samplingerror)"
   ]
  }
 ],
 "metadata": {
  "kernelspec": {
   "display_name": "Python 3",
   "language": "python",
   "name": "python3"
  },
  "language_info": {
   "codemirror_mode": {
    "name": "ipython",
    "version": 3
   },
   "file_extension": ".py",
   "mimetype": "text/x-python",
   "name": "python",
   "nbconvert_exporter": "python",
   "pygments_lexer": "ipython3",
   "version": "3.8.5"
  }
 },
 "nbformat": 4,
 "nbformat_minor": 4
}
