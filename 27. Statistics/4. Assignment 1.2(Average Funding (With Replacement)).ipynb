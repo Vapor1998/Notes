{
 "cells": [
  {
   "cell_type": "code",
   "execution_count": 1,
   "metadata": {},
   "outputs": [],
   "source": [
    "import pandas as pd\n",
    "data = pd.read_csv('startupfunding.csv')"
   ]
  },
  {
   "cell_type": "code",
   "execution_count": 2,
   "metadata": {},
   "outputs": [
    {
     "data": {
      "text/plain": [
       "0       1300000\n",
       "3        500000\n",
       "4        850000\n",
       "5       1000000\n",
       "6       2600000\n",
       "         ...   \n",
       "2195    6000000\n",
       "2196    3500000\n",
       "2198     400000\n",
       "2199     500000\n",
       "2200    8000000\n",
       "Name: AmountInUSD, Length: 1390, dtype: object"
      ]
     },
     "execution_count": 2,
     "metadata": {},
     "output_type": "execute_result"
    }
   ],
   "source": [
    "\n",
    "df = data.copy()\n",
    "\n",
    "df1 = df.dropna(subset = ['CityLocation', 'AmountInUSD'])\n",
    "df1['AmountInUSD'].str.replace(',', '')"
   ]
  },
  {
   "cell_type": "code",
   "execution_count": 3,
   "metadata": {},
   "outputs": [
    {
     "name": "stderr",
     "output_type": "stream",
     "text": [
      "C:\\ProgramData\\Anaconda3\\lib\\site-packages\\pandas\\core\\indexing.py:1765: SettingWithCopyWarning: \n",
      "A value is trying to be set on a copy of a slice from a DataFrame.\n",
      "Try using .loc[row_indexer,col_indexer] = value instead\n",
      "\n",
      "See the caveats in the documentation: https://pandas.pydata.org/pandas-docs/stable/user_guide/indexing.html#returning-a-view-versus-a-copy\n",
      "  isetter(loc, value)\n"
     ]
    }
   ],
   "source": [
    "\n",
    "df1.loc[df1['CityLocation'].str.contains('bangalore', case = False), 'CityLocation'] = 'Bangalore'\n",
    "df1.loc[df1['CityLocation'].str.contains('Delhi', case = False), 'CityLocation'] = 'New Delhi'\n"
   ]
  },
  {
   "cell_type": "code",
   "execution_count": 4,
   "metadata": {},
   "outputs": [],
   "source": [
    "df2 = df1[['CityLocation', 'AmountInUSD']]\n",
    "a = df2.loc[(df2['CityLocation'] == 'Bangalore') | (df2['CityLocation'] == 'New Delhi')]"
   ]
  },
  {
   "cell_type": "code",
   "execution_count": 5,
   "metadata": {},
   "outputs": [
    {
     "data": {
      "text/plain": [
       "0        1300000\n",
       "5        1000000\n",
       "8        8500000\n",
       "13       1000000\n",
       "19      18500000\n",
       "          ...   \n",
       "2180     1800000\n",
       "2181      500000\n",
       "2190    10000000\n",
       "2196     3500000\n",
       "2198      400000\n",
       "Name: AmountInUSD, Length: 628, dtype: int64"
      ]
     },
     "execution_count": 5,
     "metadata": {},
     "output_type": "execute_result"
    }
   ],
   "source": [
    "\n",
    "b = a['AmountInUSD'].str.replace(',', '')\n",
    "\n",
    "c = pd.to_numeric(b)\n",
    "c"
   ]
  },
  {
   "cell_type": "code",
   "execution_count": 11,
   "metadata": {},
   "outputs": [
    {
     "name": "stdout",
     "output_type": "stream",
     "text": [
      "1780     3300000\n",
      "363      1100000\n",
      "227       600000\n",
      "532      2000000\n",
      "1821    25000000\n",
      "          ...   \n",
      "858      5000000\n",
      "2113     1000000\n",
      "1902    13500000\n",
      "962       210000\n",
      "1844     2500000\n",
      "Name: AmountInUSD, Length: 75, dtype: int64\n",
      "------------------------------\n",
      "6361334.773333333\n"
     ]
    }
   ],
   "source": [
    "population = c\n",
    "d = c.mean()\n",
    "samplesize = 75\n",
    "sample = population.sample(samplesize, random_state = 1)\n",
    "print(sample)\n",
    "\n",
    "print('------------------------------')\n",
    "\n",
    "avgsample = sample.mean()\n",
    "print(avgsample)"
   ]
  },
  {
   "cell_type": "code",
   "execution_count": 9,
   "metadata": {},
   "outputs": [
    {
     "name": "stdout",
     "output_type": "stream",
     "text": [
      "11542998.997367304\n"
     ]
    }
   ],
   "source": [
    "## sampling error\n",
    "\n",
    "samplingerror = d - avgsample\n",
    "print(samplingerror)"
   ]
  }
 ],
 "metadata": {
  "kernelspec": {
   "display_name": "Python 3",
   "language": "python",
   "name": "python3"
  },
  "language_info": {
   "codemirror_mode": {
    "name": "ipython",
    "version": 3
   },
   "file_extension": ".py",
   "mimetype": "text/x-python",
   "name": "python",
   "nbconvert_exporter": "python",
   "pygments_lexer": "ipython3",
   "version": "3.8.5"
  }
 },
 "nbformat": 4,
 "nbformat_minor": 4
}
