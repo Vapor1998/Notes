{
 "cells": [
  {
   "cell_type": "code",
   "execution_count": 1,
   "metadata": {},
   "outputs": [],
   "source": [
    "import pandas as pd\n",
    "data = pd.read_csv('startupfunding.csv')"
   ]
  },
  {
   "cell_type": "code",
   "execution_count": 27,
   "metadata": {},
   "outputs": [
    {
     "data": {
      "text/plain": [
       "17075522608"
      ]
     },
     "execution_count": 27,
     "metadata": {},
     "output_type": "execute_result"
    }
   ],
   "source": [
    "\n",
    "df = data.copy()\n",
    "\n",
    "df1 = df.dropna(subset = ['CityLocation', 'AmountInUSD'])\n",
    "samplesize = 20\n",
    "q = df1['AmountInUSD'].str.replace(',', '')\n",
    "w = pd.to_numeric(q)\n",
    "population = sum(w)"
   ]
  },
  {
   "cell_type": "code",
   "execution_count": 4,
   "metadata": {},
   "outputs": [],
   "source": [
    "df1.loc[df1['CityLocation'].str.contains('bangalore', case = False), 'CityLocation'] = 'Bangalore'\n",
    "df1.loc[df1['CityLocation'].str.contains('Delhi', case = False), 'CityLocation'] = 'New Delhi'"
   ]
  },
  {
   "cell_type": "code",
   "execution_count": 28,
   "metadata": {},
   "outputs": [],
   "source": [
    "ncr = df1.loc[(df1['CityLocation'] == 'New Delhi') | (df1['CityLocation'] == 'Noida') | (df1['CityLocation'] == 'Gurgaon')]\n",
    "a = ncr['AmountInUSD'].str.replace(',', '')\n",
    "b = pd.to_numeric(a)\n",
    "ncrstrata = b.sample(samplesize, random_state = 1)\n",
    "n = sum(ncrstrata)"
   ]
  },
  {
   "cell_type": "code",
   "execution_count": 29,
   "metadata": {},
   "outputs": [],
   "source": [
    "mumbai = df1.loc[df1['CityLocation'] == 'Mumbai']\n",
    "c = mumbai['AmountInUSD'].str.replace(',', '')\n",
    "d = pd.to_numeric(c)\n",
    "mumbaistrata = d.sample(samplesize, random_state = 1)\n",
    "m = sum(mumbaistrata)"
   ]
  },
  {
   "cell_type": "code",
   "execution_count": 30,
   "metadata": {},
   "outputs": [],
   "source": [
    "pune = df1.loc[df1['CityLocation'] == 'Pune']\n",
    "e = pune['AmountInUSD'].str.replace(',', '')\n",
    "f = pd.to_numeric(e)\n",
    "punestrata = f.sample(samplesize, random_state = 1)\n",
    "p = sum(punestrata)"
   ]
  },
  {
   "cell_type": "code",
   "execution_count": 31,
   "metadata": {},
   "outputs": [],
   "source": [
    "bangalore = df1.loc[df1['CityLocation'] == 'Bangalore']\n",
    "g = bangalore['AmountInUSD'].str.replace(',', '')\n",
    "h = pd.to_numeric(g)\n",
    "bangalorestrata = h.sample(samplesize, random_state = 1)\n",
    "b = sum(bangalorestrata)"
   ]
  },
  {
   "cell_type": "code",
   "execution_count": 32,
   "metadata": {},
   "outputs": [],
   "source": [
    "hyderabad = df1.loc[df1['CityLocation'] == 'Hyderabad']\n",
    "i = hyderabad['AmountInUSD'].str.replace(',', '')\n",
    "j = pd.to_numeric(i)\n",
    "hyderabadstrata = j.sample(samplesize, random_state = 1)\n",
    "h = sum(hyderabadstrata)\n",
    "\n",
    "\n"
   ]
  },
  {
   "cell_type": "code",
   "execution_count": 34,
   "metadata": {},
   "outputs": [
    {
     "data": {
      "text/plain": [
       "15718438608"
      ]
     },
     "execution_count": 34,
     "metadata": {},
     "output_type": "execute_result"
    }
   ],
   "source": [
    "strat = p + n + m + b + h\n",
    "\n",
    "error = population - strat\n",
    "error"
   ]
  }
 ],
 "metadata": {
  "kernelspec": {
   "display_name": "Python 3",
   "language": "python",
   "name": "python3"
  },
  "language_info": {
   "codemirror_mode": {
    "name": "ipython",
    "version": 3
   },
   "file_extension": ".py",
   "mimetype": "text/x-python",
   "name": "python",
   "nbconvert_exporter": "python",
   "pygments_lexer": "ipython3",
   "version": "3.8.5"
  }
 },
 "nbformat": 4,
 "nbformat_minor": 4
}
