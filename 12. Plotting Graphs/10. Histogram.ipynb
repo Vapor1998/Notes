{
 "cells": [
  {
   "cell_type": "markdown",
   "metadata": {},
   "source": [
    "## Histogram  \n",
    "A histogram is a graph showing frequency distributions.  \n",
    "  \n",
    "It is a graph showing the number of observations within each given interval.  "
   ]
  },
  {
   "cell_type": "code",
   "execution_count": 3,
   "metadata": {},
   "outputs": [
    {
     "data": {
      "image/png": "[encoded data removed]",
      "text/plain": [
       "<Figure size 432x288 with 1 Axes>"
      ]
     },
     "metadata": {
      "needs_background": "light"
     },
     "output_type": "display_data"
    }
   ],
   "source": [
    "import matplotlib.pyplot as plt\n",
    "import numpy as np\n",
    "\n",
    "a = [1,2,3,4,1,3,4,2,1,1]\n",
    "plt.hist(a)\n",
    "plt.show()\n",
    "\n",
    "## This histogram chart is showing frequency of each number on which number is coming how many times.\n",
    "## For eg, 1 is coming 4 times, 2 is coming 2 times etc"
   ]
  },
  {
   "cell_type": "code",
   "execution_count": 6,
   "metadata": {},
   "outputs": [
    {
     "data": {
      "image/png": "[encoded data removed]",
      "text/plain": [
       "<Figure size 432x288 with 1 Axes>"
      ]
     },
     "metadata": {
      "needs_background": "light"
     },
     "output_type": "display_data"
    }
   ],
   "source": [
    "b = [1,2,1,3,5,4,5,5,4,3,3,10,7,6,7,8,8,20,22,11,14]\n",
    "plt.hist(b)\n",
    "plt.show()\n",
    "\n",
    "## Now if we see here, 1 is not showing 6 times, but 1 is showing 2 times, 2 is showing 1 time, and 3 is showing \n",
    "## 3 times.\n",
    "## So what happened here is it has clubbed the number together to show the frequencies.\n"
   ]
  },
  {
   "cell_type": "code",
   "execution_count": 7,
   "metadata": {},
   "outputs": [
    {
     "data": {
      "image/png": "[encoded data removed]",
      "text/plain": [
       "<Figure size 432x288 with 1 Axes>"
      ]
     },
     "metadata": {
      "needs_background": "light"
     },
     "output_type": "display_data"
    }
   ],
   "source": [
    "## TO see more clear, we use edgecolor = 'black' which actually colors the edge of histogram\n",
    "## This is passed as argument in hist()\n",
    "\n",
    "b = [1,2,1,3,5,4,5,5,4,3,3,10,7,6,7,8,8,20,22,11,14]\n",
    "plt.hist(b, edgecolor = 'black')\n",
    "plt.show()\n",
    "\n",
    "## Seems like it has clubbed numbers inside one bin.\n",
    "## To understand what numbers have been clubbed, we use xticks().\n"
   ]
  },
  {
   "cell_type": "code",
   "execution_count": 9,
   "metadata": {},
   "outputs": [
    {
     "data": {
      "image/png": "[encoded data removed]",
      "text/plain": [
       "<Figure size 432x288 with 1 Axes>"
      ]
     },
     "metadata": {
      "needs_background": "light"
     },
     "output_type": "display_data"
    }
   ],
   "source": [
    "## xticks() takes array as argument and is used before show().\n",
    "## xticks is used to show numbers in histogram in x axis.\n",
    "\n",
    "b = [1,2,1,3,5,4,5,5,4,3,3,10,7,6,7,8,8,20,22,11,14]\n",
    "plt.hist(b, edgecolor = 'black')\n",
    "x = np.arange(23)\n",
    "plt.xticks(x)\n",
    "plt.show()\n",
    "\n",
    "## Here, our histogram has numbers from 1 to 22 so we need numbers from 1 to 22.\n",
    "## To do that, we use arange() and then we pass that arange to xticks().\n",
    "\n",
    "## If we look carefully, bin1 is from 1 to 3.1 as it is slightly away from 3, and bin2 is from 3.1 to 5.2,\n",
    "## and so on.\n",
    "## Bydefault each histogram creates 10 towers i.e. 10 bins.\n",
    "## Size of the bin is calculated by (maxNumber - minNumber)/no of bins.\n",
    "## We can calculate it in our case.\n",
    "\n",
    "\n"
   ]
  },
  {
   "cell_type": "code",
   "execution_count": 12,
   "metadata": {},
   "outputs": [
    {
     "data": {
      "image/png": "[encoded data removed]",
      "text/plain": [
       "<Figure size 432x288 with 1 Axes>"
      ]
     },
     "metadata": {
      "needs_background": "light"
     },
     "output_type": "display_data"
    }
   ],
   "source": [
    "## We can also tell how much bins we want by passing bin = value as arg in hist().\n",
    "## where value is no of bins we want.\n",
    "\n",
    "b = [1,2,1,3,5,4,5,5,4,3,3,10,7,6,7,8,8,20,22,11,14]\n",
    "plt.hist(b,bins = len(b), edgecolor = 'black')\n",
    "x = np.arange(23)\n",
    "plt.xticks(x)\n",
    "plt.show()\n",
    "\n",
    "## as we can see, bins are located at [a,b].\n",
    "## for eg, look at the first bin, it is located at [1,2]\n",
    "## and we can see that all the bins are in the same format.\n",
    "## To identify that, [a,b] means include a , exclude b.\n",
    "## So to identify which number bin belongs to, we can say it that way.\n",
    "## For e.g. bin1 is from[1,2] which means that bin is for number 1.\n",
    "## Similarly, bin2 is from[2,3] which means that bin is for number 2.\n",
    "## Except for last case, where we dont have number 21 in array, but it is showing number 21.\n"
   ]
  },
  {
   "cell_type": "code",
   "execution_count": 13,
   "metadata": {},
   "outputs": [
    {
     "data": {
      "image/png": "[encoded data removed]",
      "text/plain": [
       "<Figure size 432x288 with 1 Axes>"
      ]
     },
     "metadata": {
      "needs_background": "light"
     },
     "output_type": "display_data"
    }
   ],
   "source": [
    "## we can also define our own bins by adding bins = [ values ] in hist()\n",
    "## We can also change the axis limit by using axis([xmin, xmax, ymin,ymax]).\n",
    "plt.hist(b, bins = [1,3,6,10,15,20], edgecolor = 'black')\n",
    "plt.axis([0,25,0,10])\n",
    "plt.show()"
   ]
  }
 ],
 "metadata": {
  "kernelspec": {
   "display_name": "Python 3 (ipykernel)",
   "language": "python",
   "name": "python3"
  },
  "language_info": {
   "codemirror_mode": {
    "name": "ipython",
    "version": 3
   },
   "file_extension": ".py",
   "mimetype": "text/x-python",
   "name": "python",
   "nbconvert_exporter": "python",
   "pygments_lexer": "ipython3",
   "version": "3.9.12"
  }
 },
 "nbformat": 4,
 "nbformat_minor": 4
}
