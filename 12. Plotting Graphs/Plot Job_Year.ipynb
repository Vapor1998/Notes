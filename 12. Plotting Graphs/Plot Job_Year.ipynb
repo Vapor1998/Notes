{
 "cells": [
  {
   "cell_type": "code",
   "execution_count": 2,
   "metadata": {},
   "outputs": [
    {
     "data": {
      "image/png": "[encoded data removed]",
      "text/plain": [
       "<Figure size 432x288 with 1 Axes>"
      ]
     },
     "metadata": {
      "needs_background": "light"
     },
     "output_type": "display_data"
    },
    {
     "name": "stdout",
     "output_type": "stream",
     "text": [
      "2011 2\n",
      "2012 7\n",
      "2013 3\n",
      "2014 5\n",
      "2015 29\n",
      "2016 123\n",
      "2017 1614\n",
      "2018 1710\n"
     ]
    }
   ],
   "source": [
    "import numpy as np\n",
    "import matplotlib.pyplot as plt\n",
    "import pandas as pd\n",
    "amazon = pd.read_csv(\"amazon_jobs_dataset.csv\")\n",
    "\n",
    "df = amazon.copy()\n",
    "\n",
    "years = df['Posting_date'].str[-4:]\n",
    "counts = years.value_counts()\n",
    "year = counts.index\n",
    "jobs = counts.values\n",
    "job = np.array(jobs)\n",
    "\n",
    "arr = []\n",
    "arr.append(year[7])\n",
    "arr.append(year[4])\n",
    "arr.append(year[6])\n",
    "arr.append(year[5])\n",
    "arr.append(year[3])\n",
    "arr.append(year[2])\n",
    "arr.append(year[1])\n",
    "arr.append(year[0])\n",
    "\n",
    "jobs = []\n",
    "\n",
    "jobs.append(job[7])\n",
    "jobs.append(job[4])\n",
    "jobs.append(job[6])\n",
    "jobs.append(job[5])\n",
    "jobs.append(job[3])\n",
    "jobs.append(job[2])\n",
    "jobs.append(job[1])\n",
    "jobs.append(job[0])\n",
    "\n",
    "plt.plot(arr, jobs)\n",
    "plt.show()\n",
    "\n",
    "for i in range(len(jobs)):\n",
    "    print(arr[i], jobs[i])\n",
    "\n",
    "\n"
   ]
  },
  {
   "cell_type": "code",
   "execution_count": 4,
   "metadata": {},
   "outputs": [
    {
     "data": {
      "image/png": "[encoded data removed]",
      "text/plain": [
       "<Figure size 432x288 with 1 Axes>"
      ]
     },
     "metadata": {
      "needs_background": "light"
     },
     "output_type": "display_data"
    },
    {
     "name": "stdout",
     "output_type": "stream",
     "text": [
      "2011 2\n",
      "2012 7\n",
      "2013 3\n",
      "2014 5\n",
      "2015 29\n",
      "2016 123\n",
      "2017 1614\n",
      "2018 1710\n"
     ]
    }
   ],
   "source": [
    "import numpy as np\n",
    "import matplotlib.pyplot as plt\n",
    "import pandas as pd\n",
    "amazon = pd.read_csv(\"amazon_jobs_dataset.csv\")\n",
    "\n",
    "df = amazon.copy()\n",
    "\n",
    "years = df['Posting_date'].str[-4:]\n",
    "counts = years.value_counts()\n",
    "counts.sort_index(inplace = True)\n",
    "\n",
    "year = counts.index\n",
    "jobs = counts.values\n",
    "\n",
    "plt.plot(year, jobs)\n",
    "plt.show()\n",
    "\n",
    "for i in range(len(year)):\n",
    "    print(year[i], jobs[i])"
   ]
  },
  {
   "cell_type": "code",
   "execution_count": 1,
   "metadata": {},
   "outputs": [],
   "source": [
    "import numpy as np\n",
    "import matplotlib.pyplot as plt\n",
    "import pandas as pd\n",
    "amazon = pd.read_csv(\"amazon_jobs_dataset.csv\")\n",
    "\n",
    "df = amazon.copy()\n",
    "\n",
    "years = df['Posting_date'].str[-4:]\n",
    "counts = years.value_counts()\n"
   ]
  },
  {
   "cell_type": "code",
   "execution_count": 3,
   "metadata": {},
   "outputs": [
    {
     "data": {
      "text/plain": [
       "2018    1710\n",
       "2017    1614\n",
       "2016     123\n",
       "2015      29\n",
       "2012       7\n",
       "2014       5\n",
       "2013       3\n",
       "2011       2\n",
       "Name: Posting_date, dtype: int64"
      ]
     },
     "execution_count": 3,
     "metadata": {},
     "output_type": "execute_result"
    }
   ],
   "source": [
    "counts"
   ]
  },
  {
   "cell_type": "code",
   "execution_count": 2,
   "metadata": {},
   "outputs": [
    {
     "data": {
      "image/png": "[encoded data removed]",
      "text/plain": [
       "<Figure size 432x288 with 1 Axes>"
      ]
     },
     "metadata": {
      "needs_background": "light"
     },
     "output_type": "display_data"
    },
    {
     "name": "stdout",
     "output_type": "stream",
     "text": [
      "2011 2\n",
      "2012 7\n",
      "2013 3\n",
      "2014 5\n",
      "2015 29\n",
      "2016 123\n",
      "2017 1614\n",
      "2018 1710\n"
     ]
    }
   ],
   "source": [
    "# Open and read data file as specified in the question\n",
    "# Print the required output in given format\n",
    "import csv\n",
    "import matplotlib.pyplot as plt\n",
    "import numpy as np\n",
    "with open('amazon_jobs_dataset.csv', encoding ='latin1') as file_obj:\n",
    "    file_data=csv.DictReader(file_obj)\n",
    "    d={}\n",
    "    for rows in file_data:\n",
    "        year=rows['Posting_date'].split(',')[1].strip()\n",
    "        if year in d:\n",
    "            d[year]+=1\n",
    "        else:\n",
    "            d[year]=1\n",
    "k=dict(sorted(d.items(),key=lambda item:item[0]))\n",
    "years=[]\n",
    "jobs=[]\n",
    "for i in k:\n",
    "    years.append(i)\n",
    "    jobs.append(d[i])\n",
    "plt.plot(years,jobs)\n",
    "plt.show()\n",
    "for i in years:\n",
    "    print(i,d[i])\n"
   ]
  },
  {
   "cell_type": "code",
   "execution_count": 29,
   "metadata": {},
   "outputs": [
    {
     "name": "stdout",
     "output_type": "stream",
     "text": [
      "2011 2\n",
      "2012 7\n",
      "2013 3\n",
      "2014 5\n",
      "2015 29\n",
      "2016 123\n",
      "2017 1614\n",
      "2018 1710\n"
     ]
    },
    {
     "name": "stderr",
     "output_type": "stream",
     "text": [
      "<ipython-input-29-910d4662eaa3>:5: SettingWithCopyWarning: \n",
      "A value is trying to be set on a copy of a slice from a DataFrame.\n",
      "Try using .loc[row_indexer,col_indexer] = value instead\n",
      "\n",
      "See the caveats in the documentation: https://pandas.pydata.org/pandas-docs/stable/user_guide/indexing.html#returning-a-view-versus-a-copy\n",
      "  arr[\"Count\"]=1\n"
     ]
    },
    {
     "data": {
      "text/plain": [
       "5"
      ]
     },
     "execution_count": 29,
     "metadata": {},
     "output_type": "execute_result"
    }
   ],
   "source": [
    "import pandas as pd\n",
    "input=pd.read_csv('amazon_jobs_dataset.csv')\n",
    "input[['Month','Year']]=input['Posting_date'].str.split(\",\",expand=True)\n",
    "arr=input[['Year']]\n",
    "arr[\"Count\"]=1\n",
    "ans = arr.groupby('Year').count()\n",
    "ans = pd.DataFrame(ans)\n",
    "year = ans.index\n",
    "count = ans['Count']\n",
    "for i in range(len(year)):\n",
    "    print(year[i][1:], count[i])\n",
    "    \n",
    "#len(year[0])"
   ]
  },
  {
   "cell_type": "code",
   "execution_count": null,
   "metadata": {},
   "outputs": [],
   "source": []
  }
 ],
 "metadata": {
  "kernelspec": {
   "display_name": "Python 3 (ipykernel)",
   "language": "python",
   "name": "python3"
  },
  "language_info": {
   "codemirror_mode": {
    "name": "ipython",
    "version": 3
   },
   "file_extension": ".py",
   "mimetype": "text/x-python",
   "name": "python",
   "nbconvert_exporter": "python",
   "pygments_lexer": "ipython3",
   "version": "3.9.12"
  }
 },
 "nbformat": 4,
 "nbformat_minor": 4
}
