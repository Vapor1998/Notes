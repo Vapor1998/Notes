{
 "cells": [
  {
   "cell_type": "code",
   "execution_count": 1,
   "metadata": {},
   "outputs": [
    {
     "data": {
      "image/png": "[encoded data removed]",
      "text/plain": [
       "<Figure size 432x288 with 1 Axes>"
      ]
     },
     "metadata": {
      "needs_background": "light"
     },
     "output_type": "display_data"
    },
    {
     "name": "stdout",
     "output_type": "stream",
     "text": [
      "2012 6\n",
      "2013 2\n",
      "2014 4\n",
      "2015 25\n",
      "2016 96\n",
      "2017 1097\n",
      "2018 1207\n"
     ]
    }
   ],
   "source": [
    "import numpy as np\n",
    "import matplotlib.pyplot as plt\n",
    "import pandas as pd\n",
    "from string import digits\n",
    "\n",
    "amazon = pd.read_csv(\"amazon_jobs_dataset.csv\")\n",
    "\n",
    "df = amazon.copy()\n",
    "\n",
    "year = df['Posting_date'].str[-4:]\n",
    "string  = 'Java'\n",
    "string2 = 'java'\n",
    "\n",
    "javaJobs = df[df[\"BASIC QUALIFICATIONS\"].str.contains(string,string2, na = True)]     ## Concept for finding particular value in string\n",
    "year = javaJobs['Posting_date'].str[-4:]\n",
    "year = year.value_counts()\n",
    "\n",
    "years = year.sort_index()\n",
    "\n",
    "yearCount = years.index\n",
    "jobs = years.values\n",
    "\n",
    "plt.scatter(yearCount, jobs)\n",
    "plt.show()\n",
    "\n",
    "for i in range(len(jobs)):\n",
    "    print(yearCount[i], jobs[i])"
   ]
  },
  {
   "cell_type": "code",
   "execution_count": 19,
   "metadata": {},
   "outputs": [
    {
     "data": {
      "image/png": "[encoded data removed]",
      "text/plain": [
       "<Figure size 432x288 with 1 Axes>"
      ]
     },
     "metadata": {
      "needs_background": "light"
     },
     "output_type": "display_data"
    },
    {
     "name": "stdout",
     "output_type": "stream",
     "text": [
      "2012 6\n",
      "2013 2\n",
      "2014 4\n",
      "2015 25\n",
      "2016 95\n",
      "2017 1093\n",
      "2018 1210\n"
     ]
    }
   ],
   "source": [
    "import numpy as np\n",
    "import matplotlib.pyplot as plt\n",
    "import csv\n",
    "import pandas as pd\n",
    "\n",
    "fileObj = open(\"amazon_jobs_dataset.csv\", encoding = 'latin1')\n",
    "data = csv.DictReader(fileObj)\n",
    "\n",
    "df = []\n",
    "for row in data:\n",
    "    if ('Java' in row[\"BASIC QUALIFICATIONS\"]) or  ('java' in row[\"BASIC QUALIFICATIONS\"]):\n",
    "        df.append(row[\"Posting_date\"])\n",
    "\n",
    "date = np.array(df)\n",
    "df = pd.DataFrame(date)    ## Another concept where we can convert numpy array into dataframe\n",
    "a = df[0].str[-4:]\n",
    "b = a.value_counts()\n",
    "c = b.sort_index()\n",
    "year = c.index\n",
    "jobs = c.values\n",
    "\n",
    "plt.scatter(year, jobs)\n",
    "plt.show()\n",
    "for i in range(len(year)):\n",
    "    print(year[i], jobs[i])\n",
    "    \n",
    "    \n",
    "## CONCEPT\n",
    "\n",
    "## What we did here is we opened file using open() and then made dictionary using csv, and then \n",
    "## and then searched java OR Java in dict and then appended the date row in a df array.\n",
    "## Then we converted the array into numpy array and then CONVERTED THAT NUMPY ARRAY INTO DATAFRAME.\n",
    "## So that we can easily extract the last 4 elements of string in the columns.\n",
    "## then we extracted it."
   ]
  },
  {
   "cell_type": "code",
   "execution_count": 18,
   "metadata": {},
   "outputs": [
    {
     "name": "stdout",
     "output_type": "stream",
     "text": [
      "2012 6\n",
      "2013 2\n",
      "2014 4\n",
      "2015 25\n",
      "2016 95\n",
      "2017 1093\n",
      "2018 1210\n"
     ]
    },
    {
     "data": {
      "image/png": "[encoded data removed]",
      "text/plain": [
       "<Figure size 432x288 with 1 Axes>"
      ]
     },
     "metadata": {
      "needs_background": "light"
     },
     "output_type": "display_data"
    }
   ],
   "source": [
    "# Open and read data file as specified in the question\n",
    "# Print the required output in given format\n",
    "import numpy as np\n",
    "import pandas as pd\n",
    "import csv\n",
    "import matplotlib.pyplot as plt\n",
    "x = pd.read_csv(\"amazon_jobs_dataset.csv\")\n",
    "a = x[\"BASIC QUALIFICATIONS\"]\n",
    "\n",
    "bool = []\n",
    "year = []\n",
    "for i in a:\n",
    "    i = str(i)\n",
    "    if 'Java' in i:\n",
    "        bool.append(True)\n",
    "    elif 'java' in i:\n",
    "        bool.append(True)\n",
    "    else:\n",
    "        bool.append(False)\n",
    "\n",
    "x[\"bool\"] = bool\n",
    "\n",
    "x = x[x[\"bool\"] == True]\n",
    "for i in x.Posting_date:\n",
    "    year.append(i.split(\", \")[1])\n",
    "x[\"year\"] = year\n",
    "p = x.year.value_counts()\n",
    "p = p[p.index.argsort()]\n",
    "x = p.index\n",
    "y = p.values\n",
    "for i in range(len(x)):\n",
    "    print(x[i], y[i])\n",
    "    \n",
    "plt.scatter(x, y)\n",
    "plt.show()"
   ]
  },
  {
   "cell_type": "code",
   "execution_count": 3,
   "metadata": {},
   "outputs": [
    {
     "name": "stdout",
     "output_type": "stream",
     "text": [
      "2012 6\n",
      "2013 2\n",
      "2014 4\n",
      "2015 25\n",
      "2016 95\n",
      "2017 1093\n",
      "2018 1210\n"
     ]
    },
    {
     "data": {
      "image/png": "[encoded data removed]",
      "text/plain": [
       "<Figure size 432x288 with 1 Axes>"
      ]
     },
     "metadata": {
      "needs_background": "light"
     },
     "output_type": "display_data"
    }
   ],
   "source": [
    "# Open and read data file as specified in the question\n",
    "# Print the required output in given format\n",
    "import numpy as np\n",
    "import matplotlib.pyplot as plt\n",
    "import pandas as pd\n",
    "def function2(basic):\n",
    "    if ((\"Java\" in basic) or (\"java\" in basic)):\n",
    "        return True\n",
    "    return False\n",
    "def function(date):\n",
    "    return int((date.split(\",\")[1]).strip())\n",
    "amazon = pd.read_csv(\"amazon_jobs_dataset.csv\")\n",
    "df = amazon.copy()\n",
    "df[\"BASIC QUALIFICATIONS\"]=df[\"BASIC QUALIFICATIONS\"].fillna(\"\")\n",
    "df = df[df[\"BASIC QUALIFICATIONS\"].apply(function2)]\n",
    "df[\"Year\"] = df[\"Posting_date\"].apply(function)\n",
    "job = df[\"Year\"].value_counts()\n",
    "x = job.index\n",
    "y = job.values\n",
    "x1 =x.sort_values()\n",
    "for i in range(x1.size):\n",
    "    indi = np.where(x==x1[i])\n",
    "    print(x1[i],y[indi][0])\n",
    "plt.scatter(x,y)\n",
    "plt.show()   "
   ]
  }
 ],
 "metadata": {
  "kernelspec": {
   "display_name": "Python 3 (ipykernel)",
   "language": "python",
   "name": "python3"
  },
  "language_info": {
   "codemirror_mode": {
    "name": "ipython",
    "version": 3
   },
   "file_extension": ".py",
   "mimetype": "text/x-python",
   "name": "python",
   "nbconvert_exporter": "python",
   "pygments_lexer": "ipython3",
   "version": "3.9.12"
  }
 },
 "nbformat": 4,
 "nbformat_minor": 4
}
