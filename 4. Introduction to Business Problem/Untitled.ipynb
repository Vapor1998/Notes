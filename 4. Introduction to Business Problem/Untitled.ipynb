{
 "cells": [
  {
   "cell_type": "code",
   "execution_count": 1,
   "id": "ff7a963f",
   "metadata": {},
   "outputs": [],
   "source": [
    "import pandas"
   ]
  },
  {
   "cell_type": "code",
   "execution_count": 3,
   "id": "2b7d4d16",
   "metadata": {},
   "outputs": [],
   "source": [
    "import pandas as pd\n",
    "data_xls = pd.read_excel('TESTING LOGSHEET.xlsx',  dtype=str, index_col=None)\n",
    "data_xls.to_csv('csvfile.csv', encoding='utf-8', index=False)"
   ]
  },
  {
   "cell_type": "code",
   "execution_count": 27,
   "id": "95aa0245",
   "metadata": {},
   "outputs": [
    {
     "data": {
      "text/html": [
       "<div>\n",
       "<style scoped>\n",
       "    .dataframe tbody tr th:only-of-type {\n",
       "        vertical-align: middle;\n",
       "    }\n",
       "\n",
       "    .dataframe tbody tr th {\n",
       "        vertical-align: top;\n",
       "    }\n",
       "\n",
       "    .dataframe thead th {\n",
       "        text-align: right;\n",
       "    }\n",
       "</style>\n",
       "<table border=\"1\" class=\"dataframe\">\n",
       "  <thead>\n",
       "    <tr style=\"text-align: right;\">\n",
       "      <th></th>\n",
       "      <th>Train no</th>\n",
       "      <th>Rake no</th>\n",
       "      <th>Coach\\nNo.</th>\n",
       "      <th>Line Report</th>\n",
       "      <th>Shed Report</th>\n",
       "      <th>Shed</th>\n",
       "    </tr>\n",
       "  </thead>\n",
       "  <tbody>\n",
       "    <tr>\n",
       "      <th>0</th>\n",
       "      <td>93002</td>\n",
       "      <td>5001-5002</td>\n",
       "      <td>5001C</td>\n",
       "      <td>APC faulty</td>\n",
       "      <td>same attended</td>\n",
       "      <td>Line</td>\n",
       "    </tr>\n",
       "    <tr>\n",
       "      <th>1</th>\n",
       "      <td>182</td>\n",
       "      <td>6001-6002</td>\n",
       "      <td>6003B</td>\n",
       "      <td>Water Leakage</td>\n",
       "      <td>RTV provided</td>\n",
       "      <td>VR</td>\n",
       "    </tr>\n",
       "    <tr>\n",
       "      <th>2</th>\n",
       "      <td>52</td>\n",
       "      <td>5541-5542</td>\n",
       "      <td>5541C</td>\n",
       "      <td>Earth fault 110V DC</td>\n",
       "      <td>NaN</td>\n",
       "      <td>NaN</td>\n",
       "    </tr>\n",
       "    <tr>\n",
       "      <th>3</th>\n",
       "      <td>90201</td>\n",
       "      <td>2241-2242</td>\n",
       "      <td>2241B</td>\n",
       "      <td>NSRAD not working</td>\n",
       "      <td>same attended</td>\n",
       "      <td>Line</td>\n",
       "    </tr>\n",
       "  </tbody>\n",
       "</table>\n",
       "</div>"
      ],
      "text/plain": [
       "   Train no    Rake no Coach\\nNo.          Line Report    Shed Report  Shed\n",
       "0     93002  5001-5002      5001C           APC faulty  same attended  Line\n",
       "1       182  6001-6002      6003B        Water Leakage   RTV provided    VR\n",
       "2        52  5541-5542      5541C  Earth fault 110V DC            NaN   NaN\n",
       "3     90201  2241-2242      2241B    NSRAD not working  same attended  Line"
      ]
     },
     "execution_count": 27,
     "metadata": {},
     "output_type": "execute_result"
    }
   ],
   "source": [
    "d = pd.read_csv('csvfile.csv')\n",
    "d"
   ]
  },
  {
   "cell_type": "code",
   "execution_count": 22,
   "id": "1e15b2bb",
   "metadata": {},
   "outputs": [
    {
     "name": "stderr",
     "output_type": "stream",
     "text": [
      "C:\\Users\\HASHIM RAZI\\AppData\\Local\\Temp\\ipykernel_5456\\2974473992.py:2: SettingWithCopyWarning: \n",
      "A value is trying to be set on a copy of a slice from a DataFrame\n",
      "\n",
      "See the caveats in the documentation: https://pandas.pydata.org/pandas-docs/stable/user_guide/indexing.html#returning-a-view-versus-a-copy\n",
      "  df['Rake no'][i] = pd.DataFrame(columns = df.columns)\n"
     ]
    }
   ],
   "source": [
    "dict = {}\n",
    "for i in range(d.shape[0]):\n",
    "    dict[d['Rake no']] = d{}\n",
    "    "
   ]
  },
  {
   "cell_type": "code",
   "execution_count": 28,
   "id": "3e8f88dd",
   "metadata": {},
   "outputs": [
    {
     "data": {
      "text/html": [
       "<div>\n",
       "<style scoped>\n",
       "    .dataframe tbody tr th:only-of-type {\n",
       "        vertical-align: middle;\n",
       "    }\n",
       "\n",
       "    .dataframe tbody tr th {\n",
       "        vertical-align: top;\n",
       "    }\n",
       "\n",
       "    .dataframe thead th {\n",
       "        text-align: right;\n",
       "    }\n",
       "</style>\n",
       "<table border=\"1\" class=\"dataframe\">\n",
       "  <thead>\n",
       "    <tr style=\"text-align: right;\">\n",
       "      <th></th>\n",
       "      <th>Train no</th>\n",
       "      <th>Rake no</th>\n",
       "      <th>Coach\\nNo.</th>\n",
       "      <th>Line Report</th>\n",
       "      <th>Shed Report</th>\n",
       "      <th>Shed</th>\n",
       "    </tr>\n",
       "  </thead>\n",
       "  <tbody>\n",
       "    <tr>\n",
       "      <th>0</th>\n",
       "      <td>93002</td>\n",
       "      <td>5001-5002</td>\n",
       "      <td>5001C</td>\n",
       "      <td>APC faulty</td>\n",
       "      <td>same attended</td>\n",
       "      <td>Line</td>\n",
       "    </tr>\n",
       "    <tr>\n",
       "      <th>1</th>\n",
       "      <td>182</td>\n",
       "      <td>6001-6002</td>\n",
       "      <td>6003B</td>\n",
       "      <td>Water Leakage</td>\n",
       "      <td>RTV provided</td>\n",
       "      <td>VR</td>\n",
       "    </tr>\n",
       "    <tr>\n",
       "      <th>2</th>\n",
       "      <td>52</td>\n",
       "      <td>5541-5542</td>\n",
       "      <td>5541C</td>\n",
       "      <td>Earth fault 110V DC</td>\n",
       "      <td>NaN</td>\n",
       "      <td>NaN</td>\n",
       "    </tr>\n",
       "    <tr>\n",
       "      <th>3</th>\n",
       "      <td>90201</td>\n",
       "      <td>2241-2242</td>\n",
       "      <td>2241B</td>\n",
       "      <td>NSRAD not working</td>\n",
       "      <td>same attended</td>\n",
       "      <td>Line</td>\n",
       "    </tr>\n",
       "  </tbody>\n",
       "</table>\n",
       "</div>"
      ],
      "text/plain": [
       "   Train no    Rake no Coach\\nNo.          Line Report    Shed Report  Shed\n",
       "0     93002  5001-5002      5001C           APC faulty  same attended  Line\n",
       "1       182  6001-6002      6003B        Water Leakage   RTV provided    VR\n",
       "2        52  5541-5542      5541C  Earth fault 110V DC            NaN   NaN\n",
       "3     90201  2241-2242      2241B    NSRAD not working  same attended  Line"
      ]
     },
     "execution_count": 28,
     "metadata": {},
     "output_type": "execute_result"
    }
   ],
   "source": []
  }
 ],
 "metadata": {
  "kernelspec": {
   "display_name": "Python 3 (ipykernel)",
   "language": "python",
   "name": "python3"
  },
  "language_info": {
   "codemirror_mode": {
    "name": "ipython",
    "version": 3
   },
   "file_extension": ".py",
   "mimetype": "text/x-python",
   "name": "python",
   "nbconvert_exporter": "python",
   "pygments_lexer": "ipython3",
   "version": "3.9.12"
  }
 },
 "nbformat": 4,
 "nbformat_minor": 5
}
