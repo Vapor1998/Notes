{
 "cells": [
  {
   "cell_type": "markdown",
   "id": "e389d91d",
   "metadata": {},
   "source": [
    "## `VLOOKUP`"
   ]
  },
  {
   "cell_type": "markdown",
   "id": "1c3f27f8",
   "metadata": {},
   "source": [
    "### `VLOOKUP Merging`"
   ]
  },
  {
   "cell_type": "markdown",
   "id": "52d5b9df",
   "metadata": {},
   "source": [
    "**Syntax**: `=VLOOKUP(search_key, range, index, [is_sorted])`  \n",
    "  \n",
    "search_key - The value to search for. For example, 42, \"Cats\", or I24.  \n",
    "range - The range to consider for the search. The first column in the range is searched for the key specified in search_key.  \n",
    "index - The column index of the value to be returned, where the first column in range is numbered 1(Basicaally list of all the columns that we want to import (serial no of columns)).  \n",
    "If index is not between 1 and the number of columns in range, #VALUE! is returned.    \n",
    "is_sorted - [TRUE by default] - Indicates whether the column to be searched (the first column of the specified range) is sorted. FALSE is recommended in most cases.  "
   ]
  },
  {
   "cell_type": "markdown",
   "id": "1aa49cc6",
   "metadata": {},
   "source": [
    "`=VLOOKUP(A2,IMPORTRANGE(\"https://docs.google.com/spreadsheets/d/1QpIOR6Z1q3zzV_MpvZmV9xUtnW43smf61aRdO0013YE/edit#gid=786551142\", marketing_campaign_df2!$A$2:$E$2241), {2,3,4,5}, 0)\n",
    "`  \n",
    "What we did here is first we added the first block of column which is common in both tables and then we added the range which is from where we want to import the data to merge.   \n",
    "  \n",
    "And then we added the file name followed by ! which is syntax and then the column range which needs to be imported and we added $ sign before and after column names to freeze those columns and then the index of columns.  \n",
    "**The above formula is for only one cell. It wont work for any other cell. Freezing A2 column will give same result on all the columns.**    \n",
    "  \n",
    "So we use `ARRAYFORMULA` :  \n",
    "`=ARRAYFORMULA( VLOOKUP($A$2,IMPORTRANGE(\"https://docs.google.com/spreadsheets/d/1QpIOR6Z1q3zzV_MpvZmV9xUtnW43smf61aRdO0013YE/edit#gid=786551142\", marketing_campaign_df2!$A$2:$E$2241), {2,3,4,5}, 0) )`  \n",
    "We want to apply this formula on **all the column present in the one row, also in all the rows.**  \n",
    "First we selected the value which is required, which is based upon the particular key which is nothing but A2 in our case.  \n",
    "So now, we will unfreeze the A2 cell, else we will have the same value again and again in all the rows.  \n",
    "`=VLOOKUP(A2,IMPORTRANGE(\"https://docs.google.com/spreadsheets/d/1QpIOR6Z1q3zzV_MpvZmV9xUtnW43smf61aRdO0013YE/edit#gid=786551142\", marketing_campaign_df2!$A$2:$E$2241), {2,3,4,5}, 0)`  \n",
    "### Final Formula =  \n",
    "`=ARRAYFORMULA(VLOOKUP(A2,IMPORTRANGE(\"https://docs.google.com/spreadsheets/d/1F7qnMzRrkBVxlJ2gGPLLr2ueB30_dLDTHFHCmY_jjsM/edit#gid=786551142\",\"marketing_campaign_df2!$A$2:$E$2241\"), {2,3,4,5},0))`"
   ]
  },
  {
   "cell_type": "markdown",
   "id": "e7df71cc",
   "metadata": {},
   "source": [
    "# `FORMULA TO MERGE SHEETS FOR PROJECT` \n",
    "`=ARRAYFORMULA(VLOOKUP(A2,IMPORTRANGE(\"https://docs.google.com/spreadsheets/d/113ZPKn_3yjdXhA96KvxRXowcCX_rKEa1Sr0M_UPp5Kw/edit#gid=519480485\", \"TOURISM!$A$2:$E$2692\"), {2,3,4,5},0))`\n",
    "CHANGE THE SHEET NAME RANGE AND COLUMNS FOR ALL SHEETS"
   ]
  },
  {
   "cell_type": "markdown",
   "id": "491dc4cb",
   "metadata": {},
   "source": [
    "#### `Assignments`\n",
    "**Write the =VLOOKUP() function to Find out the age of the employee corresponding to employee with id 3.**  \n",
    "`=VLOOKUP(3,B1:C6,2,0)`  \n",
    "1. Key will be id\n",
    "2. Range will be the whole dataset(except name column)\n",
    "3. index_column will be the same column where we want to find detail\n",
    "4. is_sorted will be zero.\n",
    "\n",
    "=VLOOKUP(3,B1:C6,2,0)"
   ]
  },
  {
   "cell_type": "markdown",
   "id": "1c49ccb8",
   "metadata": {},
   "source": [
    "**Write =Vlookup() function to find out the id of the employee whose name is Sahil.**  \n",
    "`=VLOOKUP(\"Sahil\",A1:C6,2,0)`  \n",
    "\n",
    "Solution Description\n",
    "1. Key will be id\n",
    "2. Range will be the whole dataset(except name column)\n",
    "3. index_column will be the same column where we want to find detail\n",
    "4. is_sorted will be zero.\n",
    "\n",
    "=VLOOKUP(\"Sahil\",A1:C6,2,0)"
   ]
  },
  {
   "cell_type": "markdown",
   "id": "45b5ff22",
   "metadata": {},
   "source": [
    "**Write =Vlookup() function to fill up the Salary column (D column) using G and H column in the given Dataset. (Only write syntax for D2 column and consider sheet name is \"Sheet1\" only)**"
   ]
  },
  {
   "cell_type": "markdown",
   "id": "7669ed92",
   "metadata": {},
   "source": [
    "`=VLOOKUP(B2,'Sheet1'!G1:H6,2,0)` and `=VLOOKUP(B2,G1:H6,2,0)\n",
    "`\n"
   ]
  },
  {
   "cell_type": "markdown",
   "id": "66bf5c78",
   "metadata": {},
   "source": [
    "## `How to check the format of the column`\n",
    "`Format -> Number`  \n",
    "Google tries its best to understand what should be the format of the column. All the time, automatic is checked inside it. but sometimes it is not. How to check that?  \n",
    "One way is `=TYPE(Value)` For int, it will return `1`, for text value it will return `2`. `4` for Boolean and many more.  \n",
    "You can change the datatypes by going in the format option only(given above).  "
   ]
  },
  {
   "cell_type": "markdown",
   "id": "62100957",
   "metadata": {},
   "source": [
    "## `Finding Missing Values`"
   ]
  },
  {
   "cell_type": "markdown",
   "id": "47f805df",
   "metadata": {},
   "source": [
    "`Create Filter, click on filter, missing values are on top.`   \n",
    "`=COUNTA(no of cells or starting cell, ending cell)`-> It returns no of rows which has values.  "
   ]
  },
  {
   "cell_type": "markdown",
   "id": "93495c12",
   "metadata": {},
   "source": [
    "## `Handling Missing Values`"
   ]
  },
  {
   "cell_type": "markdown",
   "id": "e964fe82",
   "metadata": {},
   "source": [
    "A dataset is given to you that contains 40k rows. 2 rows are having missing values in it. Which technique will you use to fill up the missing data? -> Delete the rows containing missing value.  "
   ]
  },
  {
   "cell_type": "markdown",
   "id": "5d540a2b",
   "metadata": {},
   "source": [
    "## `Imputation`\n",
    "`when to impute average or when to impute the median value.`  \n",
    "Lets suppose when the `std` is very close to `avg` value, this means the deviation is larger, in this case, it will not be Good to replace it with `avg` value, in this case we will be replacing the value with `median` value.  \n",
    "To replace it with empty values, create `filter-> select empty columns-> paste special-> values only in all of the rows`\n"
   ]
  }
 ],
 "metadata": {
  "kernelspec": {
   "display_name": "Python 3 (ipykernel)",
   "language": "python",
   "name": "python3"
  },
  "language_info": {
   "codemirror_mode": {
    "name": "ipython",
    "version": 3
   },
   "file_extension": ".py",
   "mimetype": "text/x-python",
   "name": "python",
   "nbconvert_exporter": "python",
   "pygments_lexer": "ipython3",
   "version": "3.9.12"
  }
 },
 "nbformat": 4,
 "nbformat_minor": 5
}
