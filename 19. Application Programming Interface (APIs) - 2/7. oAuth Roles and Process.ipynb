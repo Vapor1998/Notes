{
 "cells": [
  {
   "cell_type": "markdown",
   "metadata": {},
   "source": [
    "Lets say we want to login to coding ninjas through the fb.  \n",
    "What will first happen is cn will ask you your fb credentials, then you will send them credentials which is auth grant.  \n",
    "Next step will be cn will send this grant to fb authorization server. After authorization server gets the grant, it will give cn access token with which data can be accessed. Now cn will pass this access token to fb resource server through which data can be accessed and then fb resource server will give us the required data."
   ]
  }
 ],
 "metadata": {
  "kernelspec": {
   "display_name": "Python 3",
   "language": "python",
   "name": "python3"
  },
  "language_info": {
   "codemirror_mode": {
    "name": "ipython",
    "version": 3
   },
   "file_extension": ".py",
   "mimetype": "text/x-python",
   "name": "python",
   "nbconvert_exporter": "python",
   "pygments_lexer": "ipython3",
   "version": "3.8.5"
  }
 },
 "nbformat": 4,
 "nbformat_minor": 4
}
