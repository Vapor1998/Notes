{
 "cells": [
  {
   "cell_type": "code",
   "execution_count": 6,
   "metadata": {},
   "outputs": [
    {
     "name": "stdout",
     "output_type": "stream",
     "text": [
      "702\n"
     ]
    }
   ],
   "source": [
    "import csv\n",
    "with open(\"Datasets/year2017.csv\") as file_obj:\n",
    "    file_data = csv.reader(file_obj, skipinitialspace = True)\n",
    "    \n",
    "    file_list = list(file_data)\n",
    "wounded = []\n",
    "for row in file_list[1:]:\n",
    "    country = row[3]\n",
    "    val = row[10]\n",
    "    if val != '' and country == \"India\":\n",
    "        wounded.append(float(val))\n",
    "print(int(sum(wounded)))"
   ]
  },
  {
   "cell_type": "code",
   "execution_count": 9,
   "metadata": {},
   "outputs": [
    {
     "name": "stdout",
     "output_type": "stream",
     "text": [
      "29280\n"
     ]
    }
   ],
   "source": [
    "import csv\n",
    "with open('Datasets/year2017.csv','r') as file_obj:\n",
    "    file_detail=csv.reader(file_obj)\n",
    "    file_list=list(file_detail)\n",
    "    casualities=[]\n",
    "    for row in file_list[1:]:\n",
    "        val=row[15]\n",
    "        Weapon_type=row[14]\n",
    "        if val!='' and Weapon_type=='Explosives':\n",
    "             casualities.append(float(val))\n",
    "print(int(sum(casualities)))"
   ]
  },
  {
   "cell_type": "code",
   "execution_count": 8,
   "metadata": {},
   "outputs": [
    {
     "name": "stdout",
     "output_type": "stream",
     "text": [
      "702\n"
     ]
    }
   ],
   "source": [
    "import csv\n",
    "file_obj = open('year2017.csv')\n",
    "csv_data = csv.reader(file_obj)\n",
    "l = list(csv_data)\n",
    "wounded = []\n",
    "for row in l[1:] :\n",
    "    val = row[10]\n",
    "    country = row[3]\n",
    "    if val != '' and country == 'India':\n",
    "        wounded.append(float(val))\n",
    "\n",
    "print(int(sum(wounded)))"
   ]
  }
 ],
 "metadata": {
  "kernelspec": {
   "display_name": "Python 3 (ipykernel)",
   "language": "python",
   "name": "python3"
  },
  "language_info": {
   "codemirror_mode": {
    "name": "ipython",
    "version": 3
   },
   "file_extension": ".py",
   "mimetype": "text/x-python",
   "name": "python",
   "nbconvert_exporter": "python",
   "pygments_lexer": "ipython3",
   "version": "3.9.12"
  }
 },
 "nbformat": 4,
 "nbformat_minor": 4
}
