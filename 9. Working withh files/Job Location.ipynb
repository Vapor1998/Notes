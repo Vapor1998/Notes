{
 "cells": [
  {
   "cell_type": "code",
   "execution_count": 1,
   "metadata": {},
   "outputs": [
    {
     "name": "stdout",
     "output_type": "stream",
     "text": [
      "66 1856 "
     ]
    }
   ],
   "source": [
    "## Open and read data file as specified in the question\n",
    "## Print the required output in given format\n",
    "import csv\n",
    "with open(\"Datasets/amazon_jobs_dataset.csv\", encoding = 'latin1') as file:\n",
    "    fileData = csv.DictReader(file, skipinitialspace=True)\n",
    "    fileList = list(fileData)\n",
    "    \n",
    "d = {}\n",
    "for row in fileList:\n",
    "    key = row[\"location\"]\n",
    "    if key in d:\n",
    "        d[key] += 1\n",
    "    else:\n",
    "        d[key] = 1\n",
    "\n",
    "a = []\n",
    "for i in d:\n",
    "    if i == \"IN, KA, Bangalore \" or i == \"US, WA, Seattle \" :\n",
    "        a.append(d[i])\n",
    "\n",
    "for i in a[::-1]:\n",
    "    print(i, end= ' ')\n",
    "\n",
    "## works on coding ninjas platform"
   ]
  }
 ],
 "metadata": {
  "kernelspec": {
   "display_name": "Python 3 (ipykernel)",
   "language": "python",
   "name": "python3"
  },
  "language_info": {
   "codemirror_mode": {
    "name": "ipython",
    "version": 3
   },
   "file_extension": ".py",
   "mimetype": "text/x-python",
   "name": "python",
   "nbconvert_exporter": "python",
   "pygments_lexer": "ipython3",
   "version": "3.9.12"
  }
 },
 "nbformat": 4,
 "nbformat_minor": 4
}
