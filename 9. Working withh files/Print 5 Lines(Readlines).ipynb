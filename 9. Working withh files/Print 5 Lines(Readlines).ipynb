{
 "cells": [
  {
   "cell_type": "code",
   "execution_count": 18,
   "metadata": {},
   "outputs": [
    {
     "name": "stdout",
     "output_type": "stream",
     "text": [
      " is a free, multilingual open-collaborative online encyclopedia created and maintained by a community of volunteer editors using a wiki-based editing system. It is one of the 15 most popular websites as ranked by Alexa, as of January 2021[3] and The Economist newspaper placed it as the \"13th-most-visited place on the web\".[4] Featuring no advertisements, it is hosted by the Wikimedia Foundation, an American non-profit organization funded primarily through donations.\n",
      "\n",
      "\n",
      "\n",
      "Wikipedia was launched on January 15, 2001, by Jimmy Wales and Larry Sanger. Sanger coined its name[5][6] as a portmanteau of \"wiki\" and \"encyclopedia\". It was initially an English-language encyclopedia, but versions in other languages were quickly developed. With 6.3 million articles, the English Wikipedia is the largest of the 319 Wikipedia encyclopedias. Overall, Wikipedia comprises more than 55 million articles,[7] attracting 1.7 billion unique visitors per month.[8][9]\n",
      "\n",
      "\n",
      "\n",
      "Wikipedia has been criticized for its uneven accuracy and for exhibiting systemic bias, including gender bias, with the majority of editors being male.[4][undue weight? â€“ discuss] Edit-a-thons have been held to encourage female editors and increase the coverage of women's topics.[10] In 2006, Time magazine stated that the open-door policy of allowing anyone to edit had made Wikipedia the biggest and possibly the best encyclopedia in the world, and was a testament to the vision of Jimmy Wales.[11] The project's reputation improved further in the 2010s as it increased efforts to improve its quality and reliability, based on its unique structure, curation and absence of commercial bias.[4] In 2018, Facebook and YouTube announced that they would help users detect fake news by suggesting links to related Wikipedia articles.[12]\n",
      "\n"
     ]
    }
   ],
   "source": [
    "with open(\"Datasets/sample2.txt\") as file_obj:\n",
    "    file_data = file_obj.readlines()\n",
    "    for i in range(5):\n",
    "        print(file_data[i])\n",
    "    "
   ]
  },
  {
   "cell_type": "code",
   "execution_count": 7,
   "metadata": {},
   "outputs": [
    {
     "name": "stdout",
     "output_type": "stream",
     "text": [
      "Wikipedia has been criticized for its uneven accuracy and for exhibiting systemic bias, including gender bias, with the majority of editors being male.[4][undue weight? â€“ discuss] Edit-a-thons have been held to encourage female editors and increase the coverage of women's topics.[10] In 2006, Time magazine stated that the open-door policy of allowing anyone to edit had made Wikipedia the biggest and possibly the best encyclopedia in the world, and was a testament to the vision of Jimmy Wales.[11] The project's reputation improved further in the 2010s as it increased efforts to improve its quality and reliability, based on its unique structure, curation and absence of commercial bias.[4] In 2018, Facebook and YouTube announced that they would help users detect fake news by suggesting links to related Wikipedia articles.[12]\n",
      "\n"
     ]
    }
   ],
   "source": [
    "with open(\"Datasets/sample2.txt\") as file_obj:\n",
    "    file_data = file_obj.readlines()\n",
    "    print(file_data[4])"
   ]
  },
  {
   "cell_type": "code",
   "execution_count": 11,
   "metadata": {},
   "outputs": [
    {
     "name": "stdout",
     "output_type": "stream",
     "text": [
      "['\\n', 'Wikipedia was launched on January 15, 2001, by Jimmy Wales and Larry Sanger. Sanger coined its name[5][6] as a portmanteau of \"wiki\" and \"encyclopedia\". It was initially an English-language encyclopedia, but versions in other languages were quickly developed. With 6.3 million articles, the English Wikipedia is the largest of the 319 Wikipedia encyclopedias. Overall, Wikipedia comprises more than 55 million articles,[7] attracting 1.7 billion unique visitors per month.[8][9]\\n', '\\n', \"Wikipedia has been criticized for its uneven accuracy and for exhibiting systemic bias, including gender bias, with the majority of editors being male.[4][undue weight? â€“ discuss] Edit-a-thons have been held to encourage female editors and increase the coverage of women's topics.[10] In 2006, Time magazine stated that the open-door policy of allowing anyone to edit had made Wikipedia the biggest and possibly the best encyclopedia in the world, and was a testament to the vision of Jimmy Wales.[11] The project's reputation improved further in the 2010s as it increased efforts to improve its quality and reliability, based on its unique structure, curation and absence of commercial bias.[4] In 2018, Facebook and YouTube announced that they would help users detect fake news by suggesting links to related Wikipedia articles.[12]\\n\", '\\n']\n"
     ]
    }
   ],
   "source": [
    "## Open and read data file as specified in the question\n",
    "## Print the required output in given format\n",
    "file_obj=open(\"Datasets/Sample2.txt\")\n",
    "file_data = file_obj.readlines()\n",
    "print(file_data[1:6])\n"
   ]
  }
 ],
 "metadata": {
  "kernelspec": {
   "display_name": "Python 3",
   "language": "python",
   "name": "python3"
  },
  "language_info": {
   "codemirror_mode": {
    "name": "ipython",
    "version": 3
   },
   "file_extension": ".py",
   "mimetype": "text/x-python",
   "name": "python",
   "nbconvert_exporter": "python",
   "pygments_lexer": "ipython3",
   "version": "3.8.5"
  }
 },
 "nbformat": 4,
 "nbformat_minor": 4
}
