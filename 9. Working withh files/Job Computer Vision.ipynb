{
 "cells": [
  {
   "cell_type": "code",
   "execution_count": 4,
   "metadata": {},
   "outputs": [
    {
     "name": "stdout",
     "output_type": "stream",
     "text": [
      "14\n"
     ]
    }
   ],
   "source": [
    "import csv\n",
    "with open(\"Datasets/amazon_jobs_dataset.csv\", encoding = 'latin1') as file:\n",
    "    fileData = csv.DictReader(file, skipinitialspace = True)\n",
    "    fileList = list(fileData)\n",
    "    \n",
    "d = {}\n",
    "for row in fileList:\n",
    "    key = row[\"Title\"]\n",
    "    if key in d:\n",
    "        d[key] += 1\n",
    "    else:\n",
    "        d[key] = 1\n",
    "a= []\n",
    "for key in d:\n",
    "    j = \"Computer Vision\"\n",
    "    if j in key:\n",
    "        a.append(d[key])\n",
    "\n",
    "print(sum(a))\n"
   ]
  },
  {
   "cell_type": "code",
   "execution_count": 3,
   "metadata": {},
   "outputs": [
    {
     "name": "stdout",
     "output_type": "stream",
     "text": [
      "14\n"
     ]
    }
   ],
   "source": [
    "## Open and read data file as specified in the question\n",
    "## Print the required output in given format\n",
    "## Print the required output in given format\n",
    "## Print the required output in given format\n",
    "import csv \n",
    "job_US = \"Computer Vision\"\n",
    "open_cv = 0\n",
    "with open('Datasets/amazon_jobs_dataset.csv', encoding='latin1') as file_obj:\n",
    "    file_data = csv.DictReader(file_obj,skipinitialspace = True)\n",
    "    l = list(file_data)\n",
    "    \n",
    "    for row in l:\n",
    "        if job_US in row['Title']:\n",
    "            open_cv += 1\n",
    "print(int(float(open_cv)))"
   ]
  }
 ],
 "metadata": {
  "kernelspec": {
   "display_name": "Python 3 (ipykernel)",
   "language": "python",
   "name": "python3"
  },
  "language_info": {
   "codemirror_mode": {
    "name": "ipython",
    "version": 3
   },
   "file_extension": ".py",
   "mimetype": "text/x-python",
   "name": "python",
   "nbconvert_exporter": "python",
   "pygments_lexer": "ipython3",
   "version": "3.9.12"
  }
 },
 "nbformat": 4,
 "nbformat_minor": 4
}
