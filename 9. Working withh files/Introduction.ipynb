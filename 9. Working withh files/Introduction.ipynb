{
 "cells": [
  {
   "cell_type": "markdown",
   "metadata": {},
   "source": [
    "There are two kinds of files.  \n",
    "1. .txt   \n",
    "  \n",
    "    This type of file is easy to read and we will be using python inbuilt functions  \n",
    "    in order to get data from this kind of file. \n",
    "    \n",
    "  \n",
    "       \n",
    "2. .csv    \n",
    "      \n",
    "    csv means comma seprated values. In this kind of file, data is present in tabular format.  \n",
    "    There are some columns and there are some rows which we can read and process data from   \n",
    "    this kind of file.  "
   ]
  },
  {
   "cell_type": "code",
   "execution_count": null,
   "metadata": {},
   "outputs": [],
   "source": []
  },
  {
   "cell_type": "code",
   "execution_count": null,
   "metadata": {},
   "outputs": [],
   "source": []
  }
 ],
 "metadata": {
  "kernelspec": {
   "display_name": "Python 3",
   "language": "python",
   "name": "python3"
  },
  "language_info": {
   "codemirror_mode": {
    "name": "ipython",
    "version": 3
   },
   "file_extension": ".py",
   "mimetype": "text/x-python",
   "name": "python",
   "nbconvert_exporter": "python",
   "pygments_lexer": "ipython3",
   "version": "3.8.5"
  }
 },
 "nbformat": 4,
 "nbformat_minor": 4
}
