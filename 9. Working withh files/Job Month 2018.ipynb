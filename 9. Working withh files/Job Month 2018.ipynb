{
 "cells": [
  {
   "cell_type": "code",
   "execution_count": 2,
   "metadata": {},
   "outputs": [
    {
     "ename": "FileNotFoundError",
     "evalue": "[Errno 2] No such file or directory: 'amazon_jobs_dataset.csv'",
     "output_type": "error",
     "traceback": [
      "\u001b[1;31m---------------------------------------------------------------------------\u001b[0m",
      "\u001b[1;31mFileNotFoundError\u001b[0m                         Traceback (most recent call last)",
      "\u001b[1;32m<ipython-input-2-e39c792fd40b>\u001b[0m in \u001b[0;36m<module>\u001b[1;34m\u001b[0m\n\u001b[0;32m      1\u001b[0m \u001b[1;32mimport\u001b[0m \u001b[0mcsv\u001b[0m\u001b[1;33m\u001b[0m\u001b[1;33m\u001b[0m\u001b[0m\n\u001b[1;32m----> 2\u001b[1;33m \u001b[1;32mwith\u001b[0m \u001b[0mopen\u001b[0m\u001b[1;33m(\u001b[0m\u001b[1;34m\"amazon_jobs_dataset.csv\"\u001b[0m\u001b[1;33m)\u001b[0m \u001b[1;32mas\u001b[0m \u001b[0mfile\u001b[0m\u001b[1;33m:\u001b[0m\u001b[1;33m\u001b[0m\u001b[1;33m\u001b[0m\u001b[0m\n\u001b[0m\u001b[0;32m      3\u001b[0m     \u001b[0mfileData\u001b[0m \u001b[1;33m=\u001b[0m \u001b[0mcsv\u001b[0m\u001b[1;33m.\u001b[0m\u001b[0mDictReader\u001b[0m\u001b[1;33m(\u001b[0m\u001b[0mfile\u001b[0m\u001b[1;33m,\u001b[0m \u001b[0mskipinitialspace\u001b[0m \u001b[1;33m=\u001b[0m \u001b[1;32mTrue\u001b[0m\u001b[1;33m)\u001b[0m\u001b[1;33m\u001b[0m\u001b[1;33m\u001b[0m\u001b[0m\n\u001b[0;32m      4\u001b[0m     \u001b[0mfileList\u001b[0m \u001b[1;33m=\u001b[0m \u001b[0mlist\u001b[0m\u001b[1;33m(\u001b[0m\u001b[0mfileData\u001b[0m\u001b[1;33m)\u001b[0m\u001b[1;33m\u001b[0m\u001b[1;33m\u001b[0m\u001b[0m\n\u001b[0;32m      5\u001b[0m \u001b[1;33m\u001b[0m\u001b[0m\n",
      "\u001b[1;31mFileNotFoundError\u001b[0m: [Errno 2] No such file or directory: 'amazon_jobs_dataset.csv'"
     ]
    }
   ],
   "source": [
    "import csv\n",
    "with open(\"amazon_jobs_dataset.csv\") as file:\n",
    "    fileData = csv.DictReader(file, skipinitialspace = True)\n",
    "    fileList = list(fileData)\n",
    "    \n",
    "d = {}\n",
    "for row in fileList:\n",
    "    key = row[\"Posting_date\"]\n",
    "    if key in d:\n",
    "        d[key] += 1\n",
    "    else:\n",
    "        d[key] = 1\n",
    "a= []\n",
    "for key in d:\n",
    "    j = \"CA\"\n",
    "    if j in key:\n",
    "        a.append()\n",
    "\n",
    "print(d)\n",
    "\n",
    "## approach not clear"
   ]
  },
  {
   "cell_type": "code",
   "execution_count": 1,
   "metadata": {},
   "outputs": [
    {
     "name": "stdout",
     "output_type": "stream",
     "text": [
      "January 907\n"
     ]
    }
   ],
   "source": [
    "\n",
    "\n",
    "import csv\n",
    "with open('Datasets/amazon_jobs_dataset.csv', encoding ='latin1') as file_obj:\n",
    "    file_data=csv.DictReader(file_obj)\n",
    "    #file_list = list(file_data)\n",
    "    ans_list_2 = []\n",
    "    for row in file_data:\n",
    "        if 'January' in row['Posting_date'] and '2018' in row['Posting_date']:\n",
    "            val_2 = row['Posting_date']\n",
    "            ans_list_2.append(val_2)\n",
    "count_2 = 0\n",
    "for i in ans_list_2:\n",
    "    count_2 +=1\n",
    "print(\"January\",count_2)"
   ]
  },
  {
   "cell_type": "code",
   "execution_count": 9,
   "metadata": {},
   "outputs": [
    {
     "ename": "KeyError",
     "evalue": "'March'",
     "output_type": "error",
     "traceback": [
      "\u001b[1;31m---------------------------------------------------------------------------\u001b[0m",
      "\u001b[1;31mKeyError\u001b[0m                                  Traceback (most recent call last)",
      "Input \u001b[1;32mIn [9]\u001b[0m, in \u001b[0;36m<cell line: 31>\u001b[1;34m()\u001b[0m\n\u001b[0;32m     28\u001b[0m     \u001b[38;5;28;01mif\u001b[39;00m job_month[key]\u001b[38;5;241m>\u001b[39mjob_month[maxmonth]:\n\u001b[0;32m     29\u001b[0m         maxmonth\u001b[38;5;241m=\u001b[39mkey\n\u001b[1;32m---> 31\u001b[0m \u001b[38;5;28mprint\u001b[39m(maxmonth, \u001b[43mjob_month\u001b[49m\u001b[43m[\u001b[49m\u001b[43mmaxmonth\u001b[49m\u001b[43m]\u001b[49m)\n",
      "\u001b[1;31mKeyError\u001b[0m: 'March'"
     ]
    }
   ],
   "source": [
    "## Open and read data file as specified in the question\n",
    "## Print the required output in given format\n",
    "\n",
    "## correct way\n",
    "import csv\n",
    "with open(\"Datasets/amazon_jobs_dataset.csv\", encoding = 'utf-8') as file_obj:\n",
    "    file_data=csv.DictReader(file_obj,skipinitialspace=True)\n",
    "    file_list=list(file_data)\n",
    "\n",
    "job_month={}\n",
    "for row in file_list:\n",
    "    #key=row[\"Posting_date\"]\n",
    "    \n",
    "    #value=row[\"Posting_date\"]\n",
    "    #print(job_month)\n",
    "    value=row[\"Posting_date\"][:-8].strip()\n",
    "    key2=value[:-8].strip()\n",
    "    if  '2018' in value :\n",
    "        if key2 in job_month:\n",
    "            job_month[key2] += 1\n",
    "        else:\n",
    "            job_month[key2] = 1\n",
    "\n",
    "#for key, value in job_month.items():\n",
    "#    print(key, value)\n",
    "maxmonth='March'\n",
    "for key in job_month:\n",
    "    if job_month[key]>job_month[maxmonth]:\n",
    "        maxmonth=key\n",
    "        \n",
    "print(maxmonth, job_month[maxmonth])"
   ]
  },
  {
   "cell_type": "code",
   "execution_count": 16,
   "metadata": {},
   "outputs": [
    {
     "name": "stdout",
     "output_type": "stream",
     "text": [
      "January 907\n"
     ]
    }
   ],
   "source": [
    "## Open and read data file as specified in the question\n",
    "## Print the required output in given format\n",
    "# correct as well\n",
    "\n",
    "import csv\n",
    "fileObj=open('amazon_jobs_dataset.csv', encoding = 'utf-8')\n",
    "fileData=csv.DictReader(fileObj,skipinitialspace=True)\n",
    "fileData = list(fileData)\n",
    "ans={}\n",
    "for i in fileData:\n",
    "    value = i['Posting_date']\n",
    "    key=i[\"Posting_date\"][:-8].strip()\n",
    "    #value = i['Posting_date']\n",
    "    if('2018' in value):\n",
    "        if key in ans:\n",
    "            ans[key]+=1\n",
    "        else:\n",
    "            ans[key]=1\n",
    "month=max(ans,key=lambda x:ans[x])\n",
    "\n",
    "print(month,ans[month])\n",
    "#print(ans)"
   ]
  },
  {
   "cell_type": "code",
   "execution_count": 13,
   "metadata": {},
   "outputs": [
    {
     "name": "stdout",
     "output_type": "stream",
     "text": [
      "March 13\n",
      "February 790\n",
      "January 907\n"
     ]
    }
   ],
   "source": [
    "## Open and read data file as specified in the question\n",
    "## Print the required output in given format\n",
    "## ALSO CORRECT\n",
    "import csv\n",
    "with open(\"Datasets/amazon_jobs_dataset.csv\", encoding='utf-8') as file_obj:\n",
    "    file_data=csv.DictReader(file_obj,skipinitialspace=True)\n",
    "    file_list=list(file_data)\n",
    "\n",
    "job_month={}\n",
    "for row in file_list:\n",
    "    key1=row[\"Posting_date\"]\n",
    "    key=key1[:-8].strip()\n",
    "    value=row[\"Posting_date\"]\n",
    "    if value.__contains__(\"2018\"):\n",
    "        if key in job_month:\n",
    "            job_month[key] +=1\n",
    "        else:\n",
    "            job_month[key]=1\n",
    "\n",
    "for key, value in job_month.items():\n",
    "    print(key, value)\n",
    "    \n",
    "    \n"
   ]
  },
  {
   "cell_type": "code",
   "execution_count": 15,
   "metadata": {},
   "outputs": [
    {
     "data": {
      "text/plain": [
       "'January '"
      ]
     },
     "execution_count": 15,
     "metadata": {},
     "output_type": "execute_result"
    }
   ],
   "source": [
    "val = 'January 28, 2018'\n",
    "val[:-8]"
   ]
  },
  {
   "cell_type": "code",
   "execution_count": 10,
   "metadata": {},
   "outputs": [
    {
     "name": "stdout",
     "output_type": "stream",
     "text": [
      "March {}\n"
     ]
    }
   ],
   "source": [
    "## Open and read data file as specified in the question\n",
    "## Print the required output in given format\n",
    "import csv\n",
    "with open('Datasets/amazon_jobs_dataset.csv', encoding = 'latin1') as fileobj:\n",
    "    filedata=csv.DictReader(fileobj,skipinitialspace = True)\n",
    "    d={}\n",
    "    for row in filedata:\n",
    "        if '2018' in row['Posting_date'][-4:]:\n",
    "            #print(row['Posting_date'])\n",
    "            if 'January' in row['Posting_date'][:6]:\n",
    "                d['January']=d.get('January',0)+1\n",
    "            elif 'February' in row['Posting_date'][:7]:\n",
    "                d['February']=d.get('February',0)+1\n",
    "            elif 'March' in row['Posting_date'][:4]:\n",
    "                d['March']=d.get('March',0)+1\n",
    "            elif 'April' in row['Posting_date'][:4]:\n",
    "                d['April']=d.get('April',0)+1\n",
    "            elif 'May' in row['Posting_date'][:2]:\n",
    "                d['May']=d.get('May',0)+1\n",
    "            elif 'June' in row['Posting_date'][:3]:\n",
    "                d['June']=d.get('June',0)+1\n",
    "            elif 'July' in row['Posting_date'][:3]:\n",
    "                d['July']=d.get('July',0)+1\n",
    "            elif 'August' in row['Posting_date'][:5]:\n",
    "                d['August']=d.get('August',0)+1\n",
    "            elif 'September' in row['Posting_date'][:8]:\n",
    "                d['September']=d.get('September',0)+1\n",
    "            elif 'October' in row['Posting_date'][:6]:\n",
    "                d['October']=d.get('October',0)+1\n",
    "            elif 'November' in row['Posting_date'][:7]:\n",
    "                d['November']=d.get('November',0)+1\n",
    "            elif 'December' in row['Posting_date'][:7]:\n",
    "                d['December']=d.get('December',0)+1\n",
    "    maxmonth='March'\n",
    "    for key in d:\n",
    "        if d[key]>d[maxmonth]:\n",
    "            maxmonth=key\n",
    "    print(maxmonth,d)"
   ]
  },
  {
   "cell_type": "code",
   "execution_count": 1,
   "metadata": {},
   "outputs": [
    {
     "name": "stdout",
     "output_type": "stream",
     "text": [
      "January 907\n"
     ]
    }
   ],
   "source": [
    "## Open and read data file as specified in the question\n",
    "## Print the required output in given format\n",
    "import csv\n",
    "with open('Datasets/amazon_jobs_dataset.csv', encoding='latin1') as fileobj:\n",
    "    filedata=csv.DictReader(fileobj,skipinitialspace = True)\n",
    "    d={}\n",
    "    for row in filedata:\n",
    "        if '2018' in row['Posting_date']:\n",
    "            #print(row['Posting_date'])\n",
    "            if 'January' in row['Posting_date']:\n",
    "                d['January']=d.get('January',0)+1\n",
    "            if 'February' in row['Posting_date']:\n",
    "                d['February']=d.get('February',0)+1\n",
    "            if 'March' in row['Posting_date']:\n",
    "                d['March']=d.get('March',0)+1\n",
    "            if 'April' in row['Posting_date']:\n",
    "                d['April']=d.get('April',0)+1\n",
    "            if 'May' in row['Posting_date']:\n",
    "                d['May']=d.get('May',0)+1\n",
    "            if 'June' in row['Posting_date']:\n",
    "                d['June']=d.get('June',0)+1\n",
    "            if 'July' in row['Posting_date']:\n",
    "                d['July']=d.get('July',0)+1\n",
    "            if 'August' in row['Posting_date']:\n",
    "                d['August']=d.get('August',0)+1\n",
    "            if 'September' in row['Posting_date']:\n",
    "                d['September']=d.get('September',0)+1\n",
    "            if 'October' in row['Posting_date']:\n",
    "                d['October']=d.get('October',0)+1\n",
    "            if 'November' in row['Posting_date']:\n",
    "                d['November']=d.get('November',0)+1\n",
    "            if 'December' in row['Posting_date']:\n",
    "                d['December']=d.get('December',0)+1\n",
    "    maxmonth='March'\n",
    "    keys = 0\n",
    "    for key in d:\n",
    "        if d[key]>d[maxmonth]:\n",
    "            maxmonth=key\n",
    "            keys = d[key]\n",
    "    print(maxmonth,keys)"
   ]
  }
 ],
 "metadata": {
  "kernelspec": {
   "display_name": "Python 3 (ipykernel)",
   "language": "python",
   "name": "python3"
  },
  "language_info": {
   "codemirror_mode": {
    "name": "ipython",
    "version": 3
   },
   "file_extension": ".py",
   "mimetype": "text/x-python",
   "name": "python",
   "nbconvert_exporter": "python",
   "pygments_lexer": "ipython3",
   "version": "3.9.12"
  }
 },
 "nbformat": 4,
 "nbformat_minor": 4
}
