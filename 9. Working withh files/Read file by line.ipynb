{
 "cells": [
  {
   "cell_type": "code",
   "execution_count": 4,
   "metadata": {},
   "outputs": [
    {
     "name": "stdout",
     "output_type": "stream",
     "text": [
      "<class 'str'>\n"
     ]
    }
   ],
   "source": [
    "file_obj = open(\"Datasets/sample2.txt\", 'r')   ##  This is read mode\n",
    "file_data =file_obj.readline()\n",
    "print(type(file_data))"
   ]
  },
  {
   "cell_type": "code",
   "execution_count": 13,
   "metadata": {},
   "outputs": [
    {
     "name": "stdout",
     "output_type": "stream",
     "text": [
      "<class 'list'>\n",
      "17\n",
      "What is dynamic programming and why is it important to learn it?\n",
      "\n"
     ]
    }
   ],
   "source": [
    "## there is a variation in the readline() where we can read entire content in line by line\n",
    "## fashion in one row.\n",
    "## that function is readlines(). It is different from readline().\n",
    "## this function returns list and one entry of list is one line of the file.\n",
    "\n",
    "\n",
    "file_obj = open(\"Datasets/sample2.txt\", 'r')   ##  This is read mode\n",
    "file_data =file_obj.readlines()\n",
    "print(type(file_data))\n",
    "\n",
    "file_data\n",
    "print(len(file_data))  ## This will provide the number of lines in the files.\n",
    "\n",
    "print(file_data[7])    ## This will access the particular line data from the file.\n",
    "                       ## the line is present in list as the entries in particular index.\n",
    "                       ## so we can access it by index.List actually created when we called\n",
    "                       ## readlines().\n",
    "            \n",
    "file_obj.close()     ## This will close the file which means we can no longer access data or perform\n",
    "                     ## any operation on file.\n",
    "                     ## If we try to do it, we will get an error.\n",
    "        "
   ]
  },
  {
   "cell_type": "code",
   "execution_count": 17,
   "metadata": {},
   "outputs": [
    {
     "name": "stdout",
     "output_type": "stream",
     "text": [
      "We often come across problems containing the words \"maximum\", \"minimum\", \"longest\", \"shortest\" etc. Such problems are called optimisation problems. Optimisation is the process of finding the best (or any other superlative as pointed above) out of a set of elements. The need to optimise functions arises several times and for an efficient optimisation, we need an efficient technique. Dynamic Programming is one such technique that works on recursion.\n",
      "\n"
     ]
    }
   ],
   "source": [
    "## Sometimes we forget to close the file after using it which is not a good practice.\n",
    "## So to deal with it, we use  'with' keyword.\n",
    "\n",
    "with open(\"Datasets/sample2.txt\") as file_obj:\n",
    "    file_data = file_obj.readlines()\n",
    "    \n",
    "print(file_data[8])\n",
    "\n",
    "## We dont need to close the file, it will be closed automatically."
   ]
  }
 ],
 "metadata": {
  "kernelspec": {
   "display_name": "Python 3",
   "language": "python",
   "name": "python3"
  },
  "language_info": {
   "codemirror_mode": {
    "name": "ipython",
    "version": 3
   },
   "file_extension": ".py",
   "mimetype": "text/x-python",
   "name": "python",
   "nbconvert_exporter": "python",
   "pygments_lexer": "ipython3",
   "version": "3.8.5"
  }
 },
 "nbformat": 4,
 "nbformat_minor": 4
}
