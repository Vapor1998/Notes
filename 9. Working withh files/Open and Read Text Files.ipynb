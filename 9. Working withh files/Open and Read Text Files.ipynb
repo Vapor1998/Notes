{
 "cells": [
  {
   "cell_type": "markdown",
   "metadata": {},
   "source": [
    "The key function for working with files in Python is the open() function.  \n",
    "The open() function takes two parameters; filename, and mode.  \n",
    "  \n",
    "There are four different methods (modes) for opening a file:  \n",
    "  \n",
    "\"r\" - Read - Default value. Opens a file for reading, error if the file does not exist  \n",
    "  \n",
    "\"a\" - Append - Opens a file for appending, creates the file if it does not exist  \n",
    "  \n",
    "\"w\" - Write - Opens a file for writing, creates the file if it does not exist, and it erases the\n",
    "              content in it.\n",
    "  \n",
    "\"x\" - Create - Creates the specified file, returns an error if the file exists  \n",
    "  \n",
    "In addition you can specify if the file should be handled as binary or text mode  \n",
    "  \n",
    "\"t\" - Text - Default value. Text mode  \n",
    "  \n",
    "\"b\" - Binary - Binary mode (e.g. images)  "
   ]
  },
  {
   "cell_type": "code",
   "execution_count": 9,
   "metadata": {},
   "outputs": [
    {
     "data": {
      "text/plain": [
       "<_io.TextIOWrapper name='Datasets/sample.txt' mode='r' encoding='cp1252'>"
      ]
     },
     "execution_count": 9,
     "metadata": {},
     "output_type": "execute_result"
    }
   ],
   "source": [
    "file_obj = open(\"Datasets/sample.txt\")   ## this function will return file object which we\n",
    "                                               ## store in a variable.\n",
    "file_obj"
   ]
  },
  {
   "cell_type": "code",
   "execution_count": 10,
   "metadata": {},
   "outputs": [
    {
     "data": {
      "text/plain": [
       "<_io.TextIOWrapper name='Datasets/sample.txt' mode='w' encoding='cp1252'>"
      ]
     },
     "execution_count": 10,
     "metadata": {},
     "output_type": "execute_result"
    }
   ],
   "source": [
    "file_obj = open(\"Datasets/sample.txt\", \"w\")  ## This will erase all the content of file and makes it\n",
    "                                             ## in the write mode\n",
    "file_obj"
   ]
  },
  {
   "cell_type": "code",
   "execution_count": 14,
   "metadata": {},
   "outputs": [
    {
     "data": {
      "text/plain": [
       "<_io.TextIOWrapper name='Datasets/sample2.txt' mode='a' encoding='cp1252'>"
      ]
     },
     "execution_count": 14,
     "metadata": {},
     "output_type": "execute_result"
    }
   ],
   "source": [
    "file_obj = open(\"Datasets/sample2.txt\", \"a\")   ## This will allow us to change the content of the file\n",
    "file_obj\n"
   ]
  },
  {
   "cell_type": "code",
   "execution_count": 16,
   "metadata": {},
   "outputs": [
    {
     "data": {
      "text/plain": [
       "' is a free, multilingual open-collaborative online encyclopedia created and maintained by a community of volunteer editors using a wiki-based editing system. It is one of the 15 most popular websites as ranked by Alexa, as of January 2021[3] and The Economist newspaper placed it as the \"13th-most-visited place on the web\".[4] Featuring no advertisements, it is hosted by the Wikimedia Foundation, an American non-profit organization funded primarily through donations.\\n\\nWikipedia was launched on January 15, 2001, by Jimmy Wales and Larry Sanger. Sanger coined its name[5][6] as a portmanteau of \"wiki\" and \"encyclopedia\". It was initially an English-language encyclopedia, but versions in other languages were quickly developed. With 6.3 million articles, the English Wikipedia is the largest of the 319 Wikipedia encyclopedias. Overall, Wikipedia comprises more than 55 million articles,[7] attracting 1.7 billion unique visitors per month.[8][9]\\n\\nWikipedia has been criticized for its uneven accuracy and for exhibiting systemic bias, including gender bias, with the majority of editors being male.[4][undue weight? â€“ discuss] Edit-a-thons have been held to encourage female editors and increase the coverage of women\\'s topics.[10] In 2006, Time magazine stated that the open-door policy of allowing anyone to edit had made Wikipedia the biggest and possibly the best encyclopedia in the world, and was a testament to the vision of Jimmy Wales.[11] The project\\'s reputation improved further in the 2010s as it increased efforts to improve its quality and reliability, based on its unique structure, curation and absence of commercial bias.[4] In 2018, Facebook and YouTube announced that they would help users detect fake news by suggesting links to related Wikipedia articles.[12]\\n\\n\\nWhat is dynamic programming and why is it important to learn it?\\nWe often come across problems containing the words \"maximum\", \"minimum\", \"longest\", \"shortest\" etc. Such problems are called optimisation problems. Optimisation is the process of finding the best (or any other superlative as pointed above) out of a set of elements. The need to optimise functions arises several times and for an efficient optimisation, we need an efficient technique. Dynamic Programming is one such technique that works on recursion.\\n\\nDynamic Programming is an optimisation technique in which we create sub-problems out of the main problem and make the computer remember the solutions of all sub-problems so that we can directly use the result if the same sub-problem occurs again. In simpler terms, if you enter the same input, the program will not re-compute the problem to find an output. It will simply, present the output that has already been stored from the first time you entered the same input. This optimisation technique, gives us the guarantee of reaching a globally optimal solution and also saves on runtime complexity at huge levels.\\n\\nDynamic Programming works in two ways - Memoization and Tabulation.\\n\\nMemoization is a top-down approach in which we first solve the sub-problems till we reach the base-case. What it means is that to find the solution to the ith problem, we find the solutions for the (i-1)the and (i-2)the problem until we reach the base case.\\n\\nTabulation on the other hand is a bottom-up approach in which we solve all possible base cases and then go up to get to the solution we want.'"
      ]
     },
     "execution_count": 16,
     "metadata": {},
     "output_type": "execute_result"
    }
   ],
   "source": [
    "file_obj = open(\"Datasets/sample2.txt\", 'r')   ##  This is read mode\n",
    "file_data =file_obj.read()       ## this will allow us to read data from file and print it in \n",
    "                                 ## output window. Output is in the form of strings.\n",
    "file_data\n",
    "\n",
    "## this read() takes one argument which represents total number of bytes that we want to read"
   ]
  },
  {
   "cell_type": "code",
   "execution_count": 18,
   "metadata": {},
   "outputs": [
    {
     "data": {
      "text/plain": [
       "' is a free'"
      ]
     },
     "execution_count": 18,
     "metadata": {},
     "output_type": "execute_result"
    }
   ],
   "source": [
    "file_obj = open(\"Datasets/sample2.txt\", 'r')   ##  This is read mode\n",
    "file_data =file_obj.read(10)       ## this will read only 10 bytes of data from file which means \n",
    "                                   ## in this case, it will print only 10 characters from file.\n",
    "file_data\n"
   ]
  },
  {
   "cell_type": "code",
   "execution_count": 24,
   "metadata": {},
   "outputs": [
    {
     "data": {
      "text/plain": [
       "' is a free, multilingual open-collaborative online encyclopedia created and maintained by a community of volunteer editors using a wiki-based editing system. It is one of the 15 most popular websites as ranked by Alexa, as of January 2021[3] and The Economist newspaper placed it as the \"13th-most-visited place on the web\".[4] Featuring no advertisements, it is hosted by the Wikimedia Foundation, an American non-profit organization funded primarily through donations.\\n'"
      ]
     },
     "execution_count": 24,
     "metadata": {},
     "output_type": "execute_result"
    }
   ],
   "source": [
    "file_obj = open(\"Datasets/sample2.txt\", 'r')   ##  This is read mode\n",
    "file_data2 =file_obj.readline()       ## this readline(n) will read 1 line at a time from the file.\n",
    "file_data2                  "
   ]
  },
  {
   "cell_type": "code",
   "execution_count": 26,
   "metadata": {},
   "outputs": [
    {
     "data": {
      "text/plain": [
       "' is a'"
      ]
     },
     "execution_count": 26,
     "metadata": {},
     "output_type": "execute_result"
    }
   ],
   "source": [
    "file_obj = open(\"Datasets/sample2.txt\", 'r')   ##  This is read mode\n",
    "file_data =file_obj.readline(5)       ## this readline() has a variation where it will take n\n",
    "                                      ## as argument and it will print n bytes of data from the file\n",
    "                                      ## just like read().\n",
    "file_data\n",
    "\n",
    "## this readline() actually stores the content from which it is retrieved and from our next call\n",
    "## we get the content from the retrieved point.\n",
    "## read more abt readline() from w3schools."
   ]
  },
  {
   "cell_type": "code",
   "execution_count": 31,
   "metadata": {
    "scrolled": true
   },
   "outputs": [
    {
     "name": "stdout",
     "output_type": "stream",
     "text": [
      " is a free, multilingual open-collaborative online encyclopedia created and maintained by a community of volunteer editors using a wiki-based editing system. It is one of the 15 most popular websites as ranked by Alexa, as of January 2021[3] and The Economist newspaper placed it as the \"13th-most-visited place on the web\".[4] Featuring no advertisements, it is hosted by the Wikimedia Foundation, an American non-profit organization funded primarily through donations.\n",
      "\n",
      "\n",
      "\n",
      "Wikipedia was launched on January 15, 2001, by Jimmy Wales and Larry Sanger. Sanger coined its name[5][6] as a portmanteau of \"wiki\" and \"encyclopedia\". It was initially an English-language encyclopedia, but versions in other languages were quickly developed. With 6.3 million articles, the English Wikipedia is the largest of the 319 Wikipedia encyclopedias. Overall, Wikipedia comprises more than 55 million articles,[7] attracting 1.7 billion unique visitors per month.[8][9]\n",
      "\n"
     ]
    }
   ],
   "source": [
    "## Some variations \n",
    "file_obj = open(\"Datasets/sample2.txt\",'r')\n",
    "file_data  = file_obj.readline()\n",
    "print(file_data)  ## this call will fetch one line from the file\n",
    "print(file_obj.readline())  ## this function call will fetch another line from where the first \n",
    "                            ## function call ends.\n",
    "print(file_obj.readline())  ## this will fetch another starting from where the previous function\n",
    "                            ## call ends."
   ]
  },
  {
   "cell_type": "code",
   "execution_count": 32,
   "metadata": {},
   "outputs": [
    {
     "name": "stdout",
     "output_type": "stream",
     "text": [
      " is a free, multilingual open-collaborative online encyclopedia created and maintained by a community of volunteer editors using a wiki-based editing system. It is one of the 15 most popular websites as ranked by Alexa, as of January 2021[3] and The Economist newspaper placed it as the \"13th-most-visited place on the web\".[4] Featuring no advertisements, it is hosted by the Wikimedia Foundation, an American non-profit organization funded primarily through donations.\n",
      "\n",
      "\n",
      "\n",
      "Wikip\n"
     ]
    }
   ],
   "source": [
    "## Some variations \n",
    "file_obj = open(\"Datasets/sample2.txt\",'r')\n",
    "file_data  = file_obj.readline()\n",
    "print(file_data)  ## this call will fetch one line from the file\n",
    "print(file_obj.readline())  ## this function call will fetch another line from where the first \n",
    "                            ## function call ends.\n",
    "print(file_obj.readline(5))  ## this will actually fetch the first 5 bytes from the new line \n",
    "                             ## where the prev function ends."
   ]
  }
 ],
 "metadata": {
  "kernelspec": {
   "display_name": "Python 3",
   "language": "python",
   "name": "python3"
  },
  "language_info": {
   "codemirror_mode": {
    "name": "ipython",
    "version": 3
   },
   "file_extension": ".py",
   "mimetype": "text/x-python",
   "name": "python",
   "nbconvert_exporter": "python",
   "pygments_lexer": "ipython3",
   "version": "3.8.5"
  }
 },
 "nbformat": 4,
 "nbformat_minor": 4
}
