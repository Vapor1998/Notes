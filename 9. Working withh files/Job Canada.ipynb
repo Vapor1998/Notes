{
 "cells": [
  {
   "cell_type": "code",
   "execution_count": 3,
   "metadata": {},
   "outputs": [
    {
     "name": "stdout",
     "output_type": "stream",
     "text": [
      "156\n"
     ]
    }
   ],
   "source": [
    "import csv\n",
    "with open(\"Datasets/amazon_jobs_dataset.csv\", encoding = 'UTF-8') as file:\n",
    "    fileData = csv.DictReader(file, skipinitialspace = True)\n",
    "    fileList = list(fileData)\n",
    "    \n",
    "d = {}\n",
    "for row in fileList:\n",
    "    key = row[\"location\"]\n",
    "    if key in d:\n",
    "        d[key] += 1\n",
    "    else:\n",
    "        d[key] = 1\n",
    "a= []\n",
    "for key in d:\n",
    "    j = \"CA\"\n",
    "    if j in key[:2]:\n",
    "        a.append(d[key])\n",
    "\n",
    "print(sum(a))"
   ]
  },
  {
   "cell_type": "code",
   "execution_count": 11,
   "metadata": {},
   "outputs": [
    {
     "name": "stdout",
     "output_type": "stream",
     "text": [
      "156\n"
     ]
    }
   ],
   "source": [
    "import csv\n",
    "with open(\"Datasets/amazon_jobs_dataset.csv\", encoding = 'latin1') as file_object:\n",
    "    file_data = list(csv.reader(file_object))\n",
    "count = 0\n",
    "for row in file_data:\n",
    "    if \"CA\" in row[2][:2]:\n",
    "        if \"US\" in row[2]:\n",
    "            pass\n",
    "        else:\n",
    "            count = count + 1\n",
    "print(count)"
   ]
  },
  {
   "cell_type": "code",
   "execution_count": 2,
   "metadata": {},
   "outputs": [
    {
     "name": "stdout",
     "output_type": "stream",
     "text": [
      "156\n"
     ]
    }
   ],
   "source": [
    "import csv\n",
    "with open('Datasets/amazon_jobs_dataset.csv', encoding = 'utf-8') as file_:\n",
    "    file_name=csv.DictReader(file_,skipinitialspace=True)\n",
    "    c1=0\n",
    "    c2=0\n",
    "    \n",
    "    for i in file_name:\n",
    "        if i[\"location\"][:2]==\"CA\":\n",
    "            c1+=1\n",
    "        #elif i['location']==\"CA, BC, Vancouver \":\n",
    "        #    c2+=1\n",
    "    print(c2+c1)\n",
    "        "
   ]
  },
  {
   "cell_type": "code",
   "execution_count": 17,
   "metadata": {},
   "outputs": [
    {
     "name": "stdout",
     "output_type": "stream",
     "text": [
      "Afghanistan\n",
      "Sudan\n",
      "Democratic Republic of the Congo\n",
      "Democratic Republic of the Congo\n",
      "Turkey\n",
      "Syria\n",
      "Pakistan\n",
      "Italy\n",
      "Turkey\n",
      "Turkey\n"
     ]
    }
   ],
   "source": [
    "## Open and read data file as specified in the question\n",
    "## Print the required output in given format\n",
    "import csv\n",
    "with open (\"Datasets/year2017.csv\") as file_obj:\n",
    "    \n",
    "    file_data = list(file_obj)\n",
    "    for row in file_data[1:11]:\n",
    "        row = row.split(',')\n",
    "        print(row[3])\n",
    "        #print(row)\n",
    "        #for i in row:\n",
    "        #    print(i)\n",
    "            \n",
    "        #print()\n",
    "            \n",
    "    "
   ]
  }
 ],
 "metadata": {
  "kernelspec": {
   "display_name": "Python 3 (ipykernel)",
   "language": "python",
   "name": "python3"
  },
  "language_info": {
   "codemirror_mode": {
    "name": "ipython",
    "version": 3
   },
   "file_extension": ".py",
   "mimetype": "text/x-python",
   "name": "python",
   "nbconvert_exporter": "python",
   "pygments_lexer": "ipython3",
   "version": "3.9.12"
  }
 },
 "nbformat": 4,
 "nbformat_minor": 4
}
