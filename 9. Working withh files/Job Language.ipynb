{
 "cells": [
  {
   "cell_type": "code",
   "execution_count": 1,
   "metadata": {},
   "outputs": [
    {
     "name": "stdout",
     "output_type": "stream",
     "text": [
      "{'Java': 29, 'Python': 30, 'C++': 48}\n"
     ]
    }
   ],
   "source": [
    "## Open and read data file as specified in the question\n",
    "## Print the required output in given format\n",
    "## Open and read data file as specified in the question\n",
    "## Print the required output in given format\n",
    "import csv\n",
    "with open(\"Datasets/amazon_jobs_dataset.csv\", encoding ='latin1') as file:\n",
    "    fileData = csv.DictReader(file, skipinitialspace = True)\n",
    "    fileList = list(fileData)\n",
    "    \n",
    "d = {}\n",
    "for row in fileList:\n",
    "    key = row[\"BASIC QUALIFICATIONS\"]\n",
    "    country = row[\"location\"]\n",
    "    if country[:2] == \"IN\":\n",
    "        if key in d:\n",
    "            d[key] += 1\n",
    "        else:\n",
    "            d[key] = 1\n",
    "\n",
    "a = {\"Java\": 0, \"Python\":0, \"C++\": 0}\n",
    "\n",
    "for key in d:\n",
    "    j = \"Bachelor\"\n",
    "    k = 'BS'\n",
    "    l = \"BA\"\n",
    "    if j in key or k in key or l in key:\n",
    "        p = 'Python'\n",
    "        q = \"C++\"\n",
    "        r = \"Java\"\n",
    "        if p in key:\n",
    "            if p in a:\n",
    "                a[\"Python\"] += d[key]\n",
    "        elif q in key:\n",
    "            a[\"C++\"] +=d[key]\n",
    "        elif r in key:\n",
    "            a[\"Java\"] += d[key]\n",
    "        elif  p in key and q in key:\n",
    "            a[\"Python\"] += d[key]\n",
    "            a[\"C++\"] += [key]\n",
    "        elif q in key and r in key:\n",
    "            a[\"C++\"] += d[key]\n",
    "            a[\"Java\"] += d[key]\n",
    "        elif p in key and r in key:\n",
    "            a[\"Python\"] +=[key]\n",
    "            a[\"Java\"] +=d[key]\n",
    "        elif p in key and q in key and r in key:\n",
    "            a[\"Python\"] += d[key]\n",
    "            a[\"C++\"] += d[key]\n",
    "   \n",
    "    \n",
    "        \n",
    "        \n",
    "b = 0\n",
    "c = ''\n",
    "for k in a:\n",
    "    if a[k] > b:\n",
    "        b = a[k]\n",
    "        c = k\n",
    "print(a)"
   ]
  },
  {
   "cell_type": "code",
   "execution_count": 1,
   "metadata": {},
   "outputs": [
    {
     "name": "stdout",
     "output_type": "stream",
     "text": [
      "Java 103\n"
     ]
    }
   ],
   "source": [
    "import csv\n",
    "file=open(\"Datasets/amazon_jobs_dataset.csv\",encoding = 'UTF-8')\n",
    "filedata=csv.DictReader(file)\n",
    "filelist=list(filedata)\n",
    "\n",
    "d = {'Java':0,'Python':0,'C++':0}\n",
    "\n",
    "for i in filelist:\n",
    "    t=i[\"BASIC QUALIFICATIONS\"]\n",
    "    val=i['location'][:2]\n",
    "    # print(val[:2])\n",
    "    if val == 'IN':\n",
    "\n",
    "        if 'Bachelor' in t or 'BA' in t or 'BS' in t :\n",
    "            if \"Java\" in t:\n",
    "                d['Java'] += 1\n",
    "            if \"C++\" in t:\n",
    "                d['C++']+=1\n",
    "            if \"Python\" in t:\n",
    "                d['Python']+=1\n",
    "# print(d)\n",
    "res = max(d.values())\n",
    "# print(d)\n",
    "\n",
    "for k,v in d.items():\n",
    "    if v == res :\n",
    "        print(k,v)\n"
   ]
  },
  {
   "cell_type": "code",
   "execution_count": 5,
   "metadata": {},
   "outputs": [
    {
     "name": "stdout",
     "output_type": "stream",
     "text": [
      "Java   126\n"
     ]
    }
   ],
   "source": [
    "## Open and read data file as specified in the question\n",
    "## Print the required output in given format\n",
    "## Open and read data file as specified in the question\n",
    "## Print the required output in given format## Print the required output in given format\n",
    "import csv\n",
    "with open('Datasets/amazon_jobs_dataset.csv', encoding = 'UTF-8') as x:\n",
    "    y=csv.reader(x,skipinitialspace=True)\n",
    "    li=list(y)\n",
    "jco=0\n",
    "cco=0\n",
    "pco=0\n",
    "\n",
    "for s in li[1:]:\n",
    "    flag=False\n",
    "    if('IN' in s[2]):\n",
    "        if ('BA' in s[5]):\n",
    "            flag=True\n",
    "        elif('BS'in s[5]):\n",
    "            flag=True\n",
    "        elif('Bachelor' in s[5]):\n",
    "            flag=True\n",
    "        else:\n",
    "            flag=False\n",
    "        if(flag):\n",
    "            if('Java' in s[5]):\n",
    "                jco=jco+1\n",
    "            elif('C++' in s[5]):\n",
    "                cco=cco+1\n",
    "            elif('Python' in s[5]):\n",
    "                pco=pco+1\n",
    "                \n",
    "if pco>=cco and pco>=jco :\n",
    "    print(\"Python\",\" \",pco)\n",
    "elif cco>=pco and cco>=jco :\n",
    "    print(\"C++\",\" \",cco)\n",
    "else:\n",
    "    print(\"Java\",\" \",jco)"
   ]
  },
  {
   "cell_type": "code",
   "execution_count": 1,
   "metadata": {},
   "outputs": [
    {
     "name": "stdout",
     "output_type": "stream",
     "text": [
      "Java 103\n"
     ]
    }
   ],
   "source": [
    "## Open and read data file as specified in the question\n",
    "## Print the required output in given format\n",
    "\n",
    "# correct code\n",
    "\n",
    "\n",
    "import csv\n",
    "with open('Datasets/amazon_jobs_dataset.csv', encoding = 'latin1') as file_obj:\n",
    "    file_data=csv.DictReader(file_obj,skipinitialspace=True)\n",
    "    file_list=list(file_data)\n",
    "    c = 0\n",
    "    Language = {'Python':0,'C++':0 ,'Java':0}\n",
    "    for row in file_list :\n",
    "        if (row['BASIC QUALIFICATIONS'] != '') and ('IN' in row['location'][:2]):\n",
    "            if ('Bachelor' in row['BASIC QUALIFICATIONS'] ) or ('BS' in row['BASIC QUALIFICATIONS']) or ('BA' in row['BASIC QUALIFICATIONS']) :     \n",
    "                if  ('Python' in row['BASIC QUALIFICATIONS'] ) :\n",
    "                    Language['Python'] += 1\n",
    "                if ('C++' in row['BASIC QUALIFICATIONS'] )  :\n",
    "                    Language['C++'] += 1\n",
    "                if ('Java' in row['BASIC QUALIFICATIONS'] ) :   \n",
    "                    Language['Java'] += 1\n",
    "                    \n",
    "    max_val = 0\n",
    "    max_key = 0\n",
    "    for k in Language.keys() :\n",
    "        if Language[k] > max_val :\n",
    "            max_key = k\n",
    "            max_val = Language[k]\n",
    "    print(max_key,Language[max_key])\n",
    "     \n",
    "        \n",
    "            \n",
    "                "
   ]
  },
  {
   "cell_type": "code",
   "execution_count": 4,
   "metadata": {},
   "outputs": [
    {
     "name": "stdout",
     "output_type": "stream",
     "text": [
      "2427\n"
     ]
    }
   ],
   "source": [
    "import csv\n",
    "L_Java = \"Java\"\n",
    "L_C = \"C++\"\n",
    "L_Python = \"Python\"\n",
    "count_J = 0\n",
    "count_C = 0\n",
    "count_P = 0\n",
    "with open('Datasets/amazon_jobs_dataset.csv', encoding ='latin1') as file_obj:\n",
    "    file_data = csv.DictReader(file_obj,skipinitialspace = True)\n",
    "    file_list = list(file_data)\n",
    "    \n",
    "for i in file_list[1:]:\n",
    "    if \"Java\" in i[\"BASIC QUALIFICATIONS\"] :\n",
    "        count_J += 1\n",
    "    if \"C++\" in i[\"BASIC QUALIFICATIONS\"] :\n",
    "        count_C += 1\n",
    "    if \"Python\" in i[\"BASIC QUALIFICATIONS\"] :\n",
    "        count_P += 1\n",
    "    \n",
    "    if (count_J>count_C) and (count_J>count_P) :\n",
    "        max = count_J\n",
    "    elif (count_C>count_P) and (count_C>count_J) :\n",
    "        max = count_C\n",
    "    else :\n",
    "        max = count_P\n",
    "\n",
    "print(max)"
   ]
  },
  {
   "cell_type": "code",
   "execution_count": null,
   "metadata": {},
   "outputs": [],
   "source": []
  },
  {
   "cell_type": "code",
   "execution_count": null,
   "metadata": {},
   "outputs": [],
   "source": []
  }
 ],
 "metadata": {
  "kernelspec": {
   "display_name": "Python 3",
   "language": "python",
   "name": "python3"
  },
  "language_info": {
   "codemirror_mode": {
    "name": "ipython",
    "version": 3
   },
   "file_extension": ".py",
   "mimetype": "text/x-python",
   "name": "python",
   "nbconvert_exporter": "python",
   "pygments_lexer": "ipython3",
   "version": "3.8.5"
  }
 },
 "nbformat": 4,
 "nbformat_minor": 4
}
