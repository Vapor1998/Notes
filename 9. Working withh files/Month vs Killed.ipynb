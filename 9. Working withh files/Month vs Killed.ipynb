{
 "cells": [
  {
   "cell_type": "code",
   "execution_count": 1,
   "metadata": {},
   "outputs": [
    {
     "name": "stderr",
     "output_type": "stream",
     "text": [
      "IOPub data rate exceeded.\n",
      "The notebook server will temporarily stop sending output\n",
      "to the client in order to avoid crashing it.\n",
      "To change this limit, set the config variable\n",
      "`--NotebookApp.iopub_data_rate_limit`.\n",
      "\n",
      "Current values:\n",
      "NotebookApp.iopub_data_rate_limit=1000000.0 (bytes/sec)\n",
      "NotebookApp.rate_limit_window=3.0 (secs)\n",
      "\n"
     ]
    }
   ],
   "source": [
    "## Open and read data file as specified in the question\n",
    "## Print the required output in given format\n",
    "import csv\n",
    "with open(\"Datasets/year2017.csv\") as file_obj:\n",
    "    file_data = csv.DictReader(file_obj, skipinitialspace = True)\n",
    "    file_list = list(file_data)\n",
    "\n",
    "print(file_list)\n",
    "month_killed = {}\n",
    "for row in file_list:\n",
    "    key = row['Month']\n",
    "    value = row['Killed']\n",
    "    \n",
    "    if value != '':\n",
    "        value = int(float(value))\n",
    "    else:\n",
    "        value = 0\n",
    "    \n",
    "    if key in month_killed:\n",
    "        month_killed[key] += value\n",
    "    else:\n",
    "        month_killed[key] = value\n",
    "\n",
    "##for key in month_killed:\n",
    "\n"
   ]
  },
  {
   "cell_type": "code",
   "execution_count": 3,
   "metadata": {},
   "outputs": [
    {
     "name": "stdout",
     "output_type": "stream",
     "text": [
      "1 2275\n",
      "2 2027\n",
      "3 2463\n",
      "4 2142\n",
      "5 2936\n",
      "6 2506\n",
      "7 2228\n",
      "8 2145\n",
      "9 1764\n",
      "10 2580\n",
      "11 2014\n",
      "12 1365\n"
     ]
    }
   ],
   "source": [
    "## Open and read data file as specified in the question\n",
    "## Print the required output in given format\n",
    "import csv\n",
    "\n",
    "with open('Datasets/year2017.csv') as file_obj:\n",
    "    file_reader = csv.DictReader(file_obj, skipinitialspace=True)\n",
    "    file_list = list(file_reader)\n",
    "month_Wise_Count = {}\n",
    "for row in file_list:\n",
    "    key = row['Month']\n",
    "    value = row['Killed']\n",
    "    if value != '':\n",
    "        value = int(float(value))\n",
    "    else:\n",
    "        value = 0\n",
    "    if key in month_Wise_Count:\n",
    "        month_Wise_Count[key] += value\n",
    "    else:\n",
    "        month_Wise_Count[key] = value\n",
    "for key in month_Wise_Count:\n",
    "    print(key, month_Wise_Count[key])"
   ]
  },
  {
   "cell_type": "code",
   "execution_count": 7,
   "metadata": {},
   "outputs": [
    {
     "name": "stdout",
     "output_type": "stream",
     "text": [
      "1 2275\n",
      "2 2027\n",
      "3 2463\n",
      "4 2142\n",
      "5 2936\n",
      "6 2506\n",
      "7 2228\n",
      "8 2145\n",
      "9 1764\n",
      "10 2580\n",
      "11 2014\n",
      "12 1365\n"
     ]
    }
   ],
   "source": [
    "## Open and read data file as specified in the question\n",
    "## Print the required output in given format\n",
    "import csv\n",
    "with open('Datasets/year2017.csv') as file_obj:\n",
    "    file_data = csv.DictReader(file_obj, skipinitialspace=True)\n",
    "    data = list(file_data)\n",
    "    killed_count = {}\n",
    "    for row in data:\n",
    "        key = row['Month']\n",
    "        value = row['Killed']\n",
    "        \n",
    "        if value != '':\n",
    "            value = int(float(value))\n",
    "        else:\n",
    "            value = 0\n",
    "        #for key in killed_count:\n",
    "        if key in killed_count:\n",
    "            killed_count[key] += value\n",
    "        else:\n",
    "            killed_count[key] = value\n",
    "for key in killed_count:\n",
    "    print(key, killed_count[key])"
   ]
  }
 ],
 "metadata": {
  "kernelspec": {
   "display_name": "Python 3 (ipykernel)",
   "language": "python",
   "name": "python3"
  },
  "language_info": {
   "codemirror_mode": {
    "name": "ipython",
    "version": 3
   },
   "file_extension": ".py",
   "mimetype": "text/x-python",
   "name": "python",
   "nbconvert_exporter": "python",
   "pygments_lexer": "ipython3",
   "version": "3.9.12"
  }
 },
 "nbformat": 4,
 "nbformat_minor": 4
}
