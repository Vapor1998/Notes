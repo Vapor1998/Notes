{
 "cells": [
  {
   "cell_type": "code",
   "execution_count": 4,
   "metadata": {},
   "outputs": [
    {
     "name": "stdout",
     "output_type": "stream",
     "text": [
      "2961\n"
     ]
    }
   ],
   "source": [
    "## Open and read data file as specified in the question\n",
    "## Print the required output in given format\n",
    "import csv\n",
    "with open(\"Datasets/amazon_jobs_dataset.csv\", encoding = 'latin1') as file:\n",
    "    fileData = csv.DictReader(file, skipinitialspace = True)\n",
    "    fileList = list(fileData)\n",
    "    \n",
    "d = {}\n",
    "for row in fileList:\n",
    "    key = row[\"BASIC QUALIFICATIONS\"]\n",
    "    if key in d:\n",
    "        d[key] += 1\n",
    "    else:\n",
    "        d[key] = 1\n",
    "\n",
    "a = []\n",
    "for key in d:\n",
    "    j = \"Bachelor\"\n",
    "    k = 'BS'\n",
    "    l = \"BA\"\n",
    "    if j in key or k in key or l in key:\n",
    "       a.append(d[key]) \n",
    "\n",
    "print(sum(a))"
   ]
  },
  {
   "cell_type": "code",
   "execution_count": 2,
   "metadata": {},
   "outputs": [
    {
     "name": "stdout",
     "output_type": "stream",
     "text": [
      "2961\n"
     ]
    }
   ],
   "source": [
    "## Open and read data file as specified in the question\n",
    "## Print the required output in given format\n",
    "import csv\n",
    "with open('Datasets/amazon_jobs_dataset.csv', encoding = 'latin1') as file_obj:\n",
    "    file_data = csv.DictReader(file_obj, skipinitialspace = True)\n",
    "    file_list = list(file_data)\n",
    "count = 0\n",
    "for row in file_list:\n",
    "    basic_qual = row['BASIC QUALIFICATIONS']\n",
    "\n",
    "    if 'Bachelor' in basic_qual or 'BA' in basic_qual or 'BS' in basic_qual:\n",
    "        count += 1\n",
    "print(count)"
   ]
  }
 ],
 "metadata": {
  "kernelspec": {
   "display_name": "Python 3",
   "language": "python",
   "name": "python3"
  },
  "language_info": {
   "codemirror_mode": {
    "name": "ipython",
    "version": 3
   },
   "file_extension": ".py",
   "mimetype": "text/x-python",
   "name": "python",
   "nbconvert_exporter": "python",
   "pygments_lexer": "ipython3",
   "version": "3.8.5"
  }
 },
 "nbformat": 4,
 "nbformat_minor": 4
}
