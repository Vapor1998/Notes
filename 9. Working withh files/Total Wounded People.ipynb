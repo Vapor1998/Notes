{
 "cells": [
  {
   "cell_type": "code",
   "execution_count": 3,
   "metadata": {},
   "outputs": [
    {
     "name": "stdout",
     "output_type": "stream",
     "text": [
      "24927\n"
     ]
    }
   ],
   "source": [
    "import csv\n",
    "with open(\"Datasets/year2017.csv\") as file_obj:\n",
    "    file_data = csv.reader(file_obj, skipinitialspace = True)\n",
    "    \n",
    "    file_list = list(file_data)\n",
    "wounded = []\n",
    "for row in file_list[1:]:\n",
    "    val = row[10]\n",
    "    if val != '':\n",
    "        wounded.append(float(val))\n",
    "print(int(sum(wounded)))"
   ]
  },
  {
   "cell_type": "code",
   "execution_count": 2,
   "metadata": {},
   "outputs": [
    {
     "name": "stdout",
     "output_type": "stream",
     "text": [
      "24927\n"
     ]
    }
   ],
   "source": [
    "import csv\n",
    "\n",
    "with open('Datasets/year2017.csv', encoding='latin1') as file_obj:\n",
    "    file_data = csv.reader(file_obj, skipinitialspace = True)\n",
    "\n",
    "    file_list = list(file_data)\n",
    "\n",
    "Wounded = []\n",
    "for row in file_list[1:]:\n",
    "    val = row[10]\n",
    "    if val != '':\n",
    "        Wounded.append(int(float(val)))\n",
    "\n",
    "print(sum(Wounded))"
   ]
  }
 ],
 "metadata": {
  "kernelspec": {
   "display_name": "Python 3",
   "language": "python",
   "name": "python3"
  },
  "language_info": {
   "codemirror_mode": {
    "name": "ipython",
    "version": 3
   },
   "file_extension": ".py",
   "mimetype": "text/x-python",
   "name": "python",
   "nbconvert_exporter": "python",
   "pygments_lexer": "ipython3",
   "version": "3.8.5"
  }
 },
 "nbformat": 4,
 "nbformat_minor": 4
}
