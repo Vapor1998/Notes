{
 "cells": [
  {
   "cell_type": "code",
   "execution_count": 3,
   "metadata": {},
   "outputs": [
    {
     "name": "stdout",
     "output_type": "stream",
     "text": [
      "US 2009\n"
     ]
    }
   ],
   "source": [
    "import csv\n",
    "with open(\"Datasets/amazon_jobs_dataset.csv\", 'r', encoding = 'latin1') as file:\n",
    "    fileData = csv.DictReader(file, skipinitialspace=True)\n",
    "    fileList = list(fileData)\n",
    "\n",
    "d = {}\n",
    "for row in fileList:\n",
    "    key = row['location'][:2]\n",
    "    language = row[\"BASIC QUALIFICATIONS\"]\n",
    "    if \"Java\" in language:\n",
    "        if key in d:\n",
    "            d[key] += 1\n",
    "        else:\n",
    "            d[key] = 1\n",
    "s=''\n",
    "c= 0\n",
    "for i in d:\n",
    "    if d[i] > c:\n",
    "        c = d[i]\n",
    "        s = i\n",
    "print(s, c)\n",
    "## add encoding = latin1 to every open() and it will work\n"
   ]
  },
  {
   "cell_type": "code",
   "execution_count": null,
   "metadata": {},
   "outputs": [],
   "source": [
    "a b c d\n",
    "1 3 3 3\n",
    "2 4 5 6 \n",
    "3 4 5 6 "
   ]
  },
  {
   "cell_type": "code",
   "execution_count": 15,
   "metadata": {},
   "outputs": [
    {
     "name": "stdout",
     "output_type": "stream",
     "text": [
      "US 2009\n"
     ]
    }
   ],
   "source": [
    "import csv\n",
    "with open(\"Datasets/amazon_jobs_dataset.csv\", 'r', encoding = 'latin1') as file:\n",
    "    fileData = csv.DictReader(file, skipinitialspace=True)\n",
    "    fileList = list(fileData)\n",
    "\n",
    "d = {}\n",
    "for row in fileList:\n",
    "    loc = row['location'][:2]\n",
    "    qual = row['BASIC QUALIFICATIONS']\n",
    "    \n",
    "    if \"Java\" in qual:\n",
    "        if loc in d:\n",
    "            d[loc] += 1\n",
    "        else:\n",
    "            d[loc]  = 1\n",
    "s=''\n",
    "c= 0\n",
    "for i in d:\n",
    "    if d[i] > c:\n",
    "        c = d[i]\n",
    "        s = i\n",
    "print(s, c)"
   ]
  },
  {
   "cell_type": "code",
   "execution_count": 14,
   "metadata": {},
   "outputs": [
    {
     "data": {
      "text/plain": [
       "{'a': 1, 'b': 2, 'e': 2}"
      ]
     },
     "execution_count": 14,
     "metadata": {},
     "output_type": "execute_result"
    }
   ],
   "source": [
    "d = {'a':1, \"b\":2, 'e': 1}\n",
    "a = ['e']\n",
    "for i in a:\n",
    "    if i in d:\n",
    "        d[i] += 1\n",
    "    else:\n",
    "        d[i] = 1\n",
    "d"
   ]
  }
 ],
 "metadata": {
  "kernelspec": {
   "display_name": "Python 3 (ipykernel)",
   "language": "python",
   "name": "python3"
  },
  "language_info": {
   "codemirror_mode": {
    "name": "ipython",
    "version": 3
   },
   "file_extension": ".py",
   "mimetype": "text/x-python",
   "name": "python",
   "nbconvert_exporter": "python",
   "pygments_lexer": "ipython3",
   "version": "3.9.12"
  }
 },
 "nbformat": 4,
 "nbformat_minor": 4
}
