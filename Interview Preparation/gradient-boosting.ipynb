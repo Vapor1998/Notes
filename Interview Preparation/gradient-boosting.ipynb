{
 "cells": [
  {
   "cell_type": "markdown",
   "metadata": {},
   "source": [
    "Certainly, let's explain Gradient Boosting with steps and include the relevant formulas in LaTeX format:\n",
    "\n",
    "**Step 1: Initialize the Model**\n",
    "\n",
    "Initialize the model with a simple prediction, often the mean (for regression) or the mode (for classification) of the target variable. This initial prediction is represented as:\n",
    "\n",
    "$$\n",
    "F_0(x) = \\text{initial prediction}\n",
    "$$\n",
    "\n",
    "**Step 2: Calculate Residuals (or Pseudo-Residuals)**\n",
    "\n",
    "Compute the residuals (the differences between the actual target values and the current predictions) or pseudo-residuals (in the case of classification problems). These residuals represent the errors that the current model makes. For regression problems, the residual for each data point $i$ is given by:\n",
    "\n",
    "$$\n",
    "r_i = y_i - F_{t-1}(x_i)\n",
    "$$\n",
    "\n",
    "For classification problems with a loss function like cross-entropy, the pseudo-residual for each data point $i$ is given by:\n",
    "\n",
    "$$\n",
    "r_i = -\\frac{\\partial L(y_i, F_{t-1}(x_i))}{\\partial F_{t-1}(x_i)} = $$\n",
    "\n",
    "\n",
    "\n",
    "where $L$ is the loss function.\n",
    "\n",
    "**Step 3: Fit a Weak Learner (Decision Tree)**\n",
    "\n",
    "Train a weak learner (usually a decision tree with limited depth) on the dataset, but instead of predicting the target values, predict the residuals or pseudo-residuals from step 2. The weak learner for iteration $t$ is denoted as $h_t(x)$.\n",
    "\n",
    "**Step 4: Update the Model**\n",
    "\n",
    "Add a fraction (learning rate, often denoted as \"η\") of the predictions from the weak learner to the current model's predictions. This step helps prevent overfitting and allows for gradual model improvement. The update formula is:\n",
    "\n",
    "$$\n",
    "F_t(x) = F_{t-1}(x) + \\eta \\cdot h_t(x)\n",
    "$$\n",
    "\n",
    "**Step 5: Repeat Steps 2-4**\n",
    "\n",
    "Repeat the process for a specified number of iterations (boosting rounds) or until a certain level of accuracy is achieved. In each iteration, you calculate new residuals based on the errors of the current model and fit a new weak learner to correct those errors.\n",
    "\n",
    "**Step 6: Final Prediction**\n",
    "\n",
    "The final prediction is the sum of the initial model's prediction and the predictions made by each weak learner, weighted by the learning rate. This combination of multiple weak learners creates a strong predictive model that is better at capturing complex relationships in the data. The final prediction is represented as:\n",
    "\n",
    "$$\n",
    "\\hat{y}(x) = F_T(x) = F_0(x) + \\sum_{t=1}^{T} \\eta \\cdot h_t(x)\n",
    "$$\n",
    "\n",
    "Here are some additional details and considerations:\n",
    "\n",
    "- **Loss Function:** The choice of loss function determines how the residuals or pseudo-residuals are calculated in step 2. The loss function is represented as $L(y, F(x))$.\n",
    "\n",
    "- **Hyperparameters:** Gradient Boosting has hyperparameters, including the learning rate $\\eta$, the number of boosting rounds (T), and the depth and complexity of the weak learners (trees). These hyperparameters are tuned to optimize model performance.\n",
    "\n",
    "- **Regularization:** Various techniques can be used to regularize Gradient Boosting models, such as limiting the depth of trees or using early stopping to prevent overfitting.\n",
    "\n",
    "- **Feature Importance:** Feature importance can be assessed by measuring how often features are used in the weak learners and how much they contribute to reducing the loss."
   ]
  },
  {
   "cell_type": "code",
   "execution_count": null,
   "metadata": {},
   "outputs": [],
   "source": []
  },
  {
   "cell_type": "code",
   "execution_count": null,
   "metadata": {},
   "outputs": [],
   "source": []
  },
  {
   "cell_type": "markdown",
   "metadata": {},
   "source": [
    "\n",
    "\n",
    "**Step 1: Initialize the Model**\n",
    "\n",
    "| Iteration (t) | Initial Prediction (F_t(x)) |\n",
    "|----------------|-----------------------------|\n",
    "| 0              | 4.0                         |\n",
    "\n",
    "**Step 2: Calculate Residuals**\n",
    "\n",
    "| Data Point (i) | Actual y | Predicted F_0(x) | Residual (r_i) |\n",
    "|-----------------|----------|-------------------|-----------------|\n",
    "| 1               | 2        | 4.0               | -2.0            |\n",
    "| 2               | 4        | 4.0               | 0.0             |\n",
    "| 3               | 5        | 4.0               | 1.0             |\n",
    "| 4               | 4        | 4.0               | 0.0             |\n",
    "| 5               | 5        | 4.0               | 1.0             |\n",
    "\n",
    "**Step 3: Fit a Weak Learner (Decision Tree)**\n",
    "\n",
    "The decision tree splits based on the feature X at a threshold of 3.5:\n",
    "\n",
    "| Data Point (i) | Actual y | Predicted F_0(x) | Residual (r_i) | Weak Learner (h_1(x)) |\n",
    "|-----------------|----------|-------------------|-----------------|-------------------------|\n",
    "| 1               | 2        | 4.0               | -2.0            | -2.0                    |\n",
    "| 2               | 4        | 4.0               | 0.0             | 0.0                     |\n",
    "| 3               | 5        | 4.0               | 1.0             | 0.5                     |\n",
    "| 4               | 4        | 4.0               | 0.0             | 0.5                     |\n",
    "| 5               | 5        | 4.0               | 1.0             | 0.5                     |\n",
    "\n",
    "**Step 4: Update the Model (Iteration 1)**\n",
    "\n",
    "Update the model using a learning rate (η) of 0.1:\n",
    "\n",
    "| Iteration (t) | Updated Prediction (F_t(x)) |\n",
    "|----------------|------------------------------|\n",
    "| 0              | 4.0                          |\n",
    "| 1              | 4.0 - (0.1 * h_1(x))         |\n",
    "\n",
    "For each data point:\n",
    "\n",
    "- For data point 1: \n",
    "  ```\n",
    "  F_1(x_1) = 4.0 + (0.1 * (-2.0)) = 3.8\n",
    "  ```\n",
    "- For data point 2: \n",
    "  ```\n",
    "  F_1(x_2) = 4.0 + (0.1 * 0.0) = 4.0\n",
    "  ```\n",
    "- For data point 3: \n",
    "  ```\n",
    "  F_1(x_3) = 4.0 + (0.1 * 0.5) = 4.05\n",
    "  ```\n",
    "- For data point 4: \n",
    "  ```\n",
    "  F_1(x_4) = 4.0 + (0.1 * 0.5) = 4.05\n",
    "  ```\n",
    "- For data point 5: \n",
    "  ```\n",
    "  F_1(x_5) = 4.0 + (0.1 * 0.5) = 4.05\n",
    "  ```\n",
    "\n",
    "**Step 5: Repeat Steps 2-4 for Iteration 2 (Not Shown Here)**\n",
    "\n",
    "In practice, you would continue with more iterations, but for simplicity, we'll stop after one iteration.\n",
    "\n",
    "**Step 6: Final Prediction**\n",
    "\n",
    "The final prediction is the sum of the initial model's prediction and the predictions made by each weak learner, weighted by the learning rate (η):\n",
    "\n",
    "| Final Prediction (F(x)) |\n",
    "|--------------------------|\n",
    "| F(x) = F_0(x) + (0.1 * h_1(x)) |\n",
    "\n",
    "For any given value of X, you can calculate the final prediction using this formula.\n",
    "\n",
    "Certainly! Let's calculate the final prediction based on the steps we've performed. We'll use the formula for the final prediction:\n",
    "\n",
    "$$\n",
    "F(x) = F_0(x) + (0.1 \\cdot h_1(x))\n",
    "$$\n",
    "\n",
    "We've already calculated the updated predictions for each data point in Iteration 1. Now, let's calculate the final prediction for a specific value of X.\n",
    "\n",
    "Suppose we want to calculate the final prediction for $X = 6$:\n",
    "\n",
    "$$\n",
    "F(6) = F_0(6) + (0.1 \\cdot h_1(6))\n",
    "$$\n",
    "\n",
    "We'll calculate it step by step:\n",
    "\n",
    "1. Calculate $F_0(6)$ (the initial prediction):\n",
    "   $$\n",
    "   F_0(6) = 4.0 \\quad \\text{(initial prediction)}\n",
    "   $$\n",
    "\n",
    "2. Calculate $h_1(6)$ (the prediction from the weak learner):\n",
    "   - Since $X = 6$ falls into the \"X > 3.5\" branch of the decision tree in Iteration 1:\n",
    "     $$\n",
    "     h_1(6) = 0.5 \\quad \\text{(prediction from the weak learner)}\n",
    "     $$\n",
    "\n",
    "3. Now, calculate the final prediction for $X = 6$:\n",
    "   $$\n",
    "   F(6) = 4.0 + (0.1 \\cdot 0.5) = 4.05\n",
    "   $$\n",
    "\n",
    "So, the final prediction for $X = 6$ is $F(6) = 4.05$.\n",
    "\n",
    "You can use this approach to calculate the final prediction for any other value of X by plugging it into the formula and following similar calculations."
   ]
  },
  {
   "cell_type": "code",
   "execution_count": null,
   "metadata": {},
   "outputs": [],
   "source": []
  },
  {
   "cell_type": "code",
   "execution_count": null,
   "metadata": {},
   "outputs": [],
   "source": []
  },
  {
   "cell_type": "markdown",
   "metadata": {},
   "source": [
    "Pseudo Algorithm  \n",
    "1. Initialize model with constant value $$F_0(x) = argmin_{\\gamma}(\\sum_{i=1}^{n}L(y, \\gamma) )$$  \n",
    "2. Iterate m = 1 to M:\n",
    "    1. Compute Pseudo Residuals :   $$r_i = - [\\ \\frac{\\partial L(y_i, F(x_i))}{\\partial F(x_i)}]\\ _{F(x) = F_{m-1}(x)}  \\ for  \\ i = 1....., n$$\n",
    "    2. Fit a base learner (or weak learner, e.g. tree) closed under scaling  $h_{m}(x)$ to pseudo-residuals, i.e. train it using the training set ${(x_i, r_{im})}$\n",
    "    3. Compute multiplier $\\gamma_m$ by solving the following one dimensional optimization problem:$$ \\gamma_m = argmin_{\\gamma} \\sum_{x_i \\in R_{jm}} L(y_{i}, F_{m-1}(x_i) + \\gamma ) \\ for \\ j = 1.....J_m $$\n",
    "    4. Update the model: $$F_m = F_{m-1}(x) + \\gamma_m h_m(x)$$\n",
    "3. Output F_M(x)."
   ]
  },
  {
   "cell_type": "markdown",
   "metadata": {},
   "source": [
    "| Experience      | Degree   | Salary(y)         | \n",
    "|-----------------|----------|-------------------|\n",
    "| 2               | BE       | 50K               |\n",
    "| 3               | PHD      | 70K               | \n",
    "| 4               | MAST     | 60K               | \n",
    "\n",
    "STEP 1:  $$F_0(x) = argmin_{\\gamma}(\\sum_{i=1}^{n}L(y, \\gamma) )$$ means we need to find out $\\hat{y}$ such that whole loss should reduce.  \n",
    "So the loss function is $$Loss = \\sum_{i=1}^{n} \\frac{1}{2}(y - \\hat{y})^2$$   \n",
    "Now there are three records, so = $$\\frac{1}{2}(50 - \\hat{y})^2 \\frac{1}{2}(70 - \\hat{y})^2 \\frac{1}{2}(60 - \\hat{y})^2$$  \n",
    "Now, if we want to find out the predicted value such that we want to minimize the loss, we need to do first order derivative with respect to $\\hat{y}$, because we want to find $\\gamma$ or $\\hat{y}$. After deriving, we get $\\hat{y} = 60$.  \n",
    "The first step is done and the table becomes\n",
    "\n",
    "| Experience      | Degree   | Salary(y)         | $\\hat{y}$ |\n",
    "|-----------------|----------|-------------------|-----------|\n",
    "| 2               | BE       | 50K               | 60K       |   \n",
    "| 3               | PHD      | 70K               | 60K       |\n",
    "| 4               | MAST     | 60K               | 60K       |  \n",
    "\n",
    "Now step 2(A) says we need to find the pseudo residual which is $$r_i = - [\\ \\frac{\\partial L(y_i, F(x_i))}{\\partial F(x_i)}]\\ _{F(x) = F_{m-1}(x)}  \\ for  \\ i = 1....., n \\ \\ \\ .... (1)$$ \n",
    " Here it says derivative of loss($L$) with respect to $F(x_i)$. Now in previous step our model is $F_0(x)$. So initially the loss function is $$Loss = \\sum_{i=1}^{n} \\frac{1}{2}(y - \\hat{y})^2$$.  \n",
    " So if we find the derivative of this loss wrt $\\hat{y}$, we get $$= \\ \\frac{2}{2}(y - \\hat{y})(-1)$$\n",
    " $$= \\ -y+\\hat{y}$$ $$= \\ -(y - \\hat{y})$$ $$\\frac{\\partial L}{\\partial \\hat{y}} = -(y - \\hat{y})$$  Taking minus on both sides, we get $$-\\frac{\\partial L}{\\partial \\hat{y}} = (y - \\hat{y}) \\ \\ \\ .... (2)$$.  \n",
    " Now if we compare (1) and (2), it is same $$-\\frac{\\partial L}{\\partial \\hat{y}} = - [\\ \\frac{\\partial L(y_i, F(x_i))}{\\partial F(x_i)}] .... \\ \\because \\ \\hat{y} \\ is \\ output \\ of \\ prev \\ model \\ F_0(x)$$ the above expressions are same. So we can say $$r_{im} = (y - \\hat{y})$$.  \n",
    "After calculating residuals we get    \n",
    "\n",
    "| Experience      | Degree   | Salary(y)         | $\\hat{y}$ | $r_{im}$|\n",
    "|-----------------|----------|-------------------|-----------|---------|\n",
    "| 2               | BE       | 50K               | 60K       |-10      |\n",
    "| 3               | PHD      | 70K               | 60K       | 10      |\n",
    "| 4               | MAST     | 60K               | 60K       |  0      |  \n",
    "  \n",
    "Now in the next step, we fit a decision tree with $r_{im}$ as dependent feature.   \n",
    "In third step, which is Compute multiplier $\\gamma_m$ by solving the following one dimensional optimization problem:$$ \\gamma_m = argmin_{\\gamma} \\sum_{x_i \\in R_{jm}} L(y_{i}, F_{m-1}(x_i) + \\gamma ) \\ for \\ j = 1.....J_m $$. \n",
    "Compare the above equation to the first step. Here, the $\\gamma$ from first step is replaced with $F_{m-1}(x_i) + \\gamma$. Here, $F_{m-1}(x_i)$ is the output of previous model. So here, we need to find $\\gamma$ which minimizes the loss.   \n",
    "We can find these particular loss as $$ \\sum_{i=1}^n \\frac{1}{2}(y_i - (60 + \\hat{y}))^2$$. To minimize the loss, we do the first order derivative of the above loss function.  \n",
    "Now next step is to update the model, to update it, we use the formula $$F_m = F_{m-1}(x) + \\gamma_m h_m(x)$$   "
   ]
  },
  {
   "cell_type": "code",
   "execution_count": null,
   "metadata": {},
   "outputs": [],
   "source": []
  },
  {
   "cell_type": "code",
   "execution_count": null,
   "metadata": {},
   "outputs": [],
   "source": []
  },
  {
   "cell_type": "markdown",
   "metadata": {},
   "source": []
  },
  {
   "cell_type": "markdown",
   "metadata": {},
   "source": [
    "![](https://i.imgur.com/OBmgEba.png)"
   ]
  },
  {
   "cell_type": "markdown",
   "metadata": {},
   "source": [
    "We have one input column, and one output column, Machine Learning models are basically functions. They are relations between x and y.  \n",
    "We can write it as $$y = f(x)$$"
   ]
  },
  {
   "cell_type": "code",
   "execution_count": 1,
   "metadata": {
    "execution": {
     "iopub.execute_input": "2023-10-20T19:21:37.008178Z",
     "iopub.status.busy": "2023-10-20T19:21:37.007840Z",
     "iopub.status.idle": "2023-10-20T19:21:37.044436Z",
     "shell.execute_reply": "2023-10-20T19:21:37.043574Z",
     "shell.execute_reply.started": "2023-10-20T19:21:37.008150Z"
    }
   },
   "outputs": [],
   "source": [
    "data = {'R&D Spend' : [165, 101, 29], \"Administration\":[137, 92, 127], \"Marketing Spend\":[472, 250, 201], \"Profit\":[192, 144, 91]}"
   ]
  },
  {
   "cell_type": "code",
   "execution_count": 2,
   "metadata": {
    "execution": {
     "iopub.execute_input": "2023-10-20T19:21:37.046420Z",
     "iopub.status.busy": "2023-10-20T19:21:37.045966Z",
     "iopub.status.idle": "2023-10-20T19:21:37.347543Z",
     "shell.execute_reply": "2023-10-20T19:21:37.346099Z",
     "shell.execute_reply.started": "2023-10-20T19:21:37.046396Z"
    }
   },
   "outputs": [],
   "source": [
    "import pandas as pd"
   ]
  },
  {
   "cell_type": "code",
   "execution_count": 3,
   "metadata": {
    "execution": {
     "iopub.execute_input": "2023-10-20T19:21:37.349537Z",
     "iopub.status.busy": "2023-10-20T19:21:37.349092Z",
     "iopub.status.idle": "2023-10-20T19:21:37.356319Z",
     "shell.execute_reply": "2023-10-20T19:21:37.355310Z",
     "shell.execute_reply.started": "2023-10-20T19:21:37.349509Z"
    }
   },
   "outputs": [],
   "source": [
    "df=  pd.DataFrame.from_dict(data)"
   ]
  },
  {
   "cell_type": "code",
   "execution_count": 4,
   "metadata": {
    "execution": {
     "iopub.execute_input": "2023-10-20T19:21:37.359774Z",
     "iopub.status.busy": "2023-10-20T19:21:37.359310Z",
     "iopub.status.idle": "2023-10-20T19:21:37.389768Z",
     "shell.execute_reply": "2023-10-20T19:21:37.389011Z",
     "shell.execute_reply.started": "2023-10-20T19:21:37.359738Z"
    }
   },
   "outputs": [
    {
     "data": {
      "text/html": [
       "<div>\n",
       "<style scoped>\n",
       "    .dataframe tbody tr th:only-of-type {\n",
       "        vertical-align: middle;\n",
       "    }\n",
       "\n",
       "    .dataframe tbody tr th {\n",
       "        vertical-align: top;\n",
       "    }\n",
       "\n",
       "    .dataframe thead th {\n",
       "        text-align: right;\n",
       "    }\n",
       "</style>\n",
       "<table border=\"1\" class=\"dataframe\">\n",
       "  <thead>\n",
       "    <tr style=\"text-align: right;\">\n",
       "      <th></th>\n",
       "      <th>R&amp;D Spend</th>\n",
       "      <th>Administration</th>\n",
       "      <th>Marketing Spend</th>\n",
       "      <th>Profit</th>\n",
       "    </tr>\n",
       "  </thead>\n",
       "  <tbody>\n",
       "    <tr>\n",
       "      <th>0</th>\n",
       "      <td>165</td>\n",
       "      <td>137</td>\n",
       "      <td>472</td>\n",
       "      <td>192</td>\n",
       "    </tr>\n",
       "    <tr>\n",
       "      <th>1</th>\n",
       "      <td>101</td>\n",
       "      <td>92</td>\n",
       "      <td>250</td>\n",
       "      <td>144</td>\n",
       "    </tr>\n",
       "    <tr>\n",
       "      <th>2</th>\n",
       "      <td>29</td>\n",
       "      <td>127</td>\n",
       "      <td>201</td>\n",
       "      <td>91</td>\n",
       "    </tr>\n",
       "  </tbody>\n",
       "</table>\n",
       "</div>"
      ],
      "text/plain": [
       "   R&D Spend  Administration  Marketing Spend  Profit\n",
       "0        165             137              472     192\n",
       "1        101              92              250     144\n",
       "2         29             127              201      91"
      ]
     },
     "execution_count": 4,
     "metadata": {},
     "output_type": "execute_result"
    }
   ],
   "source": [
    "df"
   ]
  },
  {
   "cell_type": "markdown",
   "metadata": {},
   "source": [
    "Here we have 3 rows, and X is the first three columns while Y is Profit.  \n",
    "So, we will say for the 0th row, we will say the 0th row is the Spend of the first startup, 1st row for the second startup and so on. And we will say 0th row profit is the profit of first startup, 1st row profit for second startup and so on. Now the loss function which we take in the first steps has a prerequisite which is we need to have a loss function which we can differentiate at every point or it is differentiable.  \n",
    "\n"
   ]
  },
  {
   "cell_type": "markdown",
   "metadata": {},
   "source": [
    "Now Calculating the first step, it says \n",
    "# 1. Initialize model with constant Value\n",
    "$$F_0(x) = argmin_{\\gamma} \\sum_{i=1}^n L(y_i, \\gamma)$$\n",
    "Now, the loss function we use is least square, which is $$\\sum_{i=1}^n (y_i - \\hat{y_i})^2$$   \n",
    "Here in this, we will multiply it by 1/2 , because of mathematical convenience. Sometimes we do some things with math from which you dont get much difference, but it makes small mathematical step easy. So here we will differentiate this loss function, we will apply chain rule to it, so the 2 of the square will cancel out with the half, which will save the extra effort of the step of calculation. A question may pop out that something may go wrong after adding half in it, no nothing goes wrong.   \n",
    "Visiting the intuition of the model, it is $$F(x) = F_0(x) + F_1(x) + F_2(x) + F_3(x) .......... + F_n(x) $$\n",
    "By comparing this with the step, we need to find $F_0(x)$.  \n",
    "  \n",
    "Coming back to the step, we have the loss function $$\\frac{1}{2}\\sum_{i=1}^n (y_i - \\hat{y_i})^2$$, we can see instead of $\\hat{y}$, we are using $\\gamma$ which is same.  \n",
    "Rewriting the whole step we can write step 1 as $$f_0(x) = argmin_{\\gamma} \\frac{1}{2} \\sum_{i=1}^n L(y_i - \\gamma)^2$$  \n",
    "Above expression means we need value of $\\gamma$ such that the value of the above whole expression is minimum. So we differentiate whole term wrt $\\gamma$.   \n",
    "$$\\frac{d f_0(x)}{d \\gamma} = \\frac{d}{d\\gamma} \\frac{1}{2}\\sum_{i=1}^n(y_i - \\gamma)^2$$  \n",
    "$$= \\frac{2}{2} \\sum_{i=1}^n (y_i - \\gamma) \\frac{d}{d\\gamma}(y_i - \\gamma)$$  \n",
    "$$= -\\sum_{i=1}^n(y_i - \\gamma) $$  \n",
    "Taking minus inside, expression becomes, $$\\sum_{i=1}^{n}(\\gamma - y_i) = 0$$  \n",
    "  \n",
    "Now taking the value from dataset and calculating $\\gamma$, we get $$\\sum_{i=0}^2 (\\gamma - y_i) = 0  => (\\gamma - 192) + (\\gamma - 144) + (\\gamma - 91) = 0$$ \n",
    "$$ 3\\gamma = 192 + 144 + 91$$  \n",
    "  \n",
    "$$\\gamma = \\frac{192 + 144+ 91}{3}$$  \n",
    "  \n",
    "So the code of above step becomes"
   ]
  },
  {
   "cell_type": "code",
   "execution_count": 5,
   "metadata": {
    "execution": {
     "iopub.execute_input": "2023-10-20T19:21:37.392434Z",
     "iopub.status.busy": "2023-10-20T19:21:37.392051Z",
     "iopub.status.idle": "2023-10-20T19:21:37.402481Z",
     "shell.execute_reply": "2023-10-20T19:21:37.400663Z",
     "shell.execute_reply.started": "2023-10-20T19:21:37.392406Z"
    }
   },
   "outputs": [],
   "source": [
    "df[\"f0(x)\"] = df['Profit'].mean()"
   ]
  },
  {
   "cell_type": "code",
   "execution_count": 6,
   "metadata": {
    "execution": {
     "iopub.execute_input": "2023-10-20T19:21:37.404655Z",
     "iopub.status.busy": "2023-10-20T19:21:37.404330Z",
     "iopub.status.idle": "2023-10-20T19:21:37.421240Z",
     "shell.execute_reply": "2023-10-20T19:21:37.420363Z",
     "shell.execute_reply.started": "2023-10-20T19:21:37.404624Z"
    }
   },
   "outputs": [
    {
     "data": {
      "text/html": [
       "<div>\n",
       "<style scoped>\n",
       "    .dataframe tbody tr th:only-of-type {\n",
       "        vertical-align: middle;\n",
       "    }\n",
       "\n",
       "    .dataframe tbody tr th {\n",
       "        vertical-align: top;\n",
       "    }\n",
       "\n",
       "    .dataframe thead th {\n",
       "        text-align: right;\n",
       "    }\n",
       "</style>\n",
       "<table border=\"1\" class=\"dataframe\">\n",
       "  <thead>\n",
       "    <tr style=\"text-align: right;\">\n",
       "      <th></th>\n",
       "      <th>R&amp;D Spend</th>\n",
       "      <th>Administration</th>\n",
       "      <th>Marketing Spend</th>\n",
       "      <th>Profit</th>\n",
       "      <th>f0(x)</th>\n",
       "    </tr>\n",
       "  </thead>\n",
       "  <tbody>\n",
       "    <tr>\n",
       "      <th>0</th>\n",
       "      <td>165</td>\n",
       "      <td>137</td>\n",
       "      <td>472</td>\n",
       "      <td>192</td>\n",
       "      <td>142.333333</td>\n",
       "    </tr>\n",
       "    <tr>\n",
       "      <th>1</th>\n",
       "      <td>101</td>\n",
       "      <td>92</td>\n",
       "      <td>250</td>\n",
       "      <td>144</td>\n",
       "      <td>142.333333</td>\n",
       "    </tr>\n",
       "    <tr>\n",
       "      <th>2</th>\n",
       "      <td>29</td>\n",
       "      <td>127</td>\n",
       "      <td>201</td>\n",
       "      <td>91</td>\n",
       "      <td>142.333333</td>\n",
       "    </tr>\n",
       "  </tbody>\n",
       "</table>\n",
       "</div>"
      ],
      "text/plain": [
       "   R&D Spend  Administration  Marketing Spend  Profit       f0(x)\n",
       "0        165             137              472     192  142.333333\n",
       "1        101              92              250     144  142.333333\n",
       "2         29             127              201      91  142.333333"
      ]
     },
     "execution_count": 6,
     "metadata": {},
     "output_type": "execute_result"
    }
   ],
   "source": [
    "df"
   ]
  },
  {
   "cell_type": "markdown",
   "metadata": {},
   "source": [
    "-*+963\n",
    ".r+-We calculated $F_0(x)$, the rest of the functions above which are $f_1(x)$, $f_2(x)$ ... and so on are the Decision Trees, and we are calculating them inside loop.  \n",
    "Now we move to step 2.1 which says   \n",
    "For m = 1 to M: \n",
    "1. For i = 1, 2, .... N compute $$r_{im} = - [\\ \\frac{\\partial L(y_i, F(x_i))}{\\partial F(x_i)}]\\ _{F = F_{m-1}} $$  \n",
    "Here i means row number and m means decision tree number. So $r_{21}$ means calculating 2nd row value of first decision tree. So we have to calculate r for each row.  \n",
    "So to calculate for $r_{i1}$, we write formula as $$r_{i1} = - [\\ \\frac{\\partial L(y_i, F(x_i))}{\\partial F(x_i)}]\\ _{F = F_{0}} $$  \n",
    "We have 3 rows, so we will calculate $r_{11}$, $r_{21}$, $r_{31}$. We will read $r_{11}$ as residual of 1st row of first decision tree and so on.    \n",
    "So the above loss function says we are differentiating it wrt $f(x_i)$.  \n",
    "We have already established above that $f(x_i)$ = $\\hat{y_i}$ which is output of our model. So replacing $f(x_i)$ with $\\hat{y_i}$, we get $$r_{i1} = - [\\ \\frac{\\partial L(y_i, \\hat{y_i})}{\\partial \\hat{y_i}}]\\ _{F = F_{0}} $$ $$r_{i1} = - [\\ \\frac{\\partial}{\\partial \\hat{y_i}}L(y_i, \\hat{y_i})]\\ _{F = F_{0}} $$   \n",
    "Our loss function was $$\\frac{1}{2}\\sum_{i=1}^n (y_i - \\hat{y_i})^2$$  \n",
    "So here, we will replace the loss function on the above equation, except we will not use the sigma because we are calculating the residual of each row separately so theres no need to add sigma.  \n",
    "So by changing, we get $$r_{i1} = - [\\ \\frac{\\partial}{\\partial \\hat{y_i}} \\frac{1}{2}(y_i -\\hat{y_i})^2]\\ _{F = F_{0}} $$ After performing differentiation of above equation, we get $$ = [\\ y_i - \\hat{y_i} ]\\ _{F = F_0}$$   \n",
    "  \n",
    "$$ = [\\ y_i - F(x_i) ]\\ _{F = F_0} \\ ... \\ \\because \\ \\hat{y_i} = f(x_i)$$    \n",
    "  \n",
    "$$r_{i1} =  y_i - F_0(x_i) ... \\ replacing \\  f(x_i) \\  with  \\ f_0(x_i)$$  \n",
    "\n",
    "So for calculating, $$r_{11} = y_1 - f_0(x_1) = 192 - 142$$ $$r_{21} = y_2 - f_0(x_2) = 144 - 142$$ $$r_{31} = y_3 - f_0(x_3) = 91 - 142$$  \n",
    "Code will look like "
   ]
  },
  {
   "cell_type": "markdown",
   "metadata": {},
   "source": []
  },
  {
   "cell_type": "code",
   "execution_count": 7,
   "metadata": {
    "execution": {
     "iopub.execute_input": "2023-10-20T19:21:37.422906Z",
     "iopub.status.busy": "2023-10-20T19:21:37.422559Z",
     "iopub.status.idle": "2023-10-20T19:21:37.437290Z",
     "shell.execute_reply": "2023-10-20T19:21:37.435812Z",
     "shell.execute_reply.started": "2023-10-20T19:21:37.422877Z"
    }
   },
   "outputs": [],
   "source": [
    "df['ri1'] = df['Profit'] - df['f0(x)']"
   ]
  },
  {
   "cell_type": "code",
   "execution_count": 8,
   "metadata": {
    "execution": {
     "iopub.execute_input": "2023-10-20T19:21:37.439538Z",
     "iopub.status.busy": "2023-10-20T19:21:37.438715Z",
     "iopub.status.idle": "2023-10-20T19:21:37.454789Z",
     "shell.execute_reply": "2023-10-20T19:21:37.453582Z",
     "shell.execute_reply.started": "2023-10-20T19:21:37.439506Z"
    }
   },
   "outputs": [
    {
     "data": {
      "text/html": [
       "<div>\n",
       "<style scoped>\n",
       "    .dataframe tbody tr th:only-of-type {\n",
       "        vertical-align: middle;\n",
       "    }\n",
       "\n",
       "    .dataframe tbody tr th {\n",
       "        vertical-align: top;\n",
       "    }\n",
       "\n",
       "    .dataframe thead th {\n",
       "        text-align: right;\n",
       "    }\n",
       "</style>\n",
       "<table border=\"1\" class=\"dataframe\">\n",
       "  <thead>\n",
       "    <tr style=\"text-align: right;\">\n",
       "      <th></th>\n",
       "      <th>R&amp;D Spend</th>\n",
       "      <th>Administration</th>\n",
       "      <th>Marketing Spend</th>\n",
       "      <th>Profit</th>\n",
       "      <th>f0(x)</th>\n",
       "      <th>ri1</th>\n",
       "    </tr>\n",
       "  </thead>\n",
       "  <tbody>\n",
       "    <tr>\n",
       "      <th>0</th>\n",
       "      <td>165</td>\n",
       "      <td>137</td>\n",
       "      <td>472</td>\n",
       "      <td>192</td>\n",
       "      <td>142.333333</td>\n",
       "      <td>49.666667</td>\n",
       "    </tr>\n",
       "    <tr>\n",
       "      <th>1</th>\n",
       "      <td>101</td>\n",
       "      <td>92</td>\n",
       "      <td>250</td>\n",
       "      <td>144</td>\n",
       "      <td>142.333333</td>\n",
       "      <td>1.666667</td>\n",
       "    </tr>\n",
       "    <tr>\n",
       "      <th>2</th>\n",
       "      <td>29</td>\n",
       "      <td>127</td>\n",
       "      <td>201</td>\n",
       "      <td>91</td>\n",
       "      <td>142.333333</td>\n",
       "      <td>-51.333333</td>\n",
       "    </tr>\n",
       "  </tbody>\n",
       "</table>\n",
       "</div>"
      ],
      "text/plain": [
       "   R&D Spend  Administration  Marketing Spend  Profit       f0(x)        ri1\n",
       "0        165             137              472     192  142.333333  49.666667\n",
       "1        101              92              250     144  142.333333   1.666667\n",
       "2         29             127              201      91  142.333333 -51.333333"
      ]
     },
     "execution_count": 8,
     "metadata": {},
     "output_type": "execute_result"
    }
   ],
   "source": [
    "df"
   ]
  },
  {
   "cell_type": "markdown",
   "metadata": {
    "execution": {
     "iopub.execute_input": "2023-10-16T19:51:13.283697Z",
     "iopub.status.busy": "2023-10-16T19:51:13.283373Z",
     "iopub.status.idle": "2023-10-16T19:51:13.290962Z",
     "shell.execute_reply": "2023-10-16T19:51:13.289386Z",
     "shell.execute_reply.started": "2023-10-16T19:51:13.283672Z"
    }
   },
   "source": [
    "Next Step says we need to fit Decision Tree which is step 2.2"
   ]
  },
  {
   "cell_type": "code",
   "execution_count": 9,
   "metadata": {
    "execution": {
     "iopub.execute_input": "2023-10-20T19:21:37.458052Z",
     "iopub.status.busy": "2023-10-20T19:21:37.457405Z",
     "iopub.status.idle": "2023-10-20T19:21:39.097372Z",
     "shell.execute_reply": "2023-10-20T19:21:39.096135Z",
     "shell.execute_reply.started": "2023-10-20T19:21:37.458014Z"
    }
   },
   "outputs": [],
   "source": [
    "from sklearn.tree import DecisionTreeRegressor \n",
    "dt1 = DecisionTreeRegressor(max_depth = 1)\n",
    "\n"
   ]
  },
  {
   "cell_type": "code",
   "execution_count": 10,
   "metadata": {
    "execution": {
     "iopub.execute_input": "2023-10-20T19:21:39.099456Z",
     "iopub.status.busy": "2023-10-20T19:21:39.099034Z",
     "iopub.status.idle": "2023-10-20T19:21:39.121749Z",
     "shell.execute_reply": "2023-10-20T19:21:39.120545Z",
     "shell.execute_reply.started": "2023-10-20T19:21:39.099422Z"
    }
   },
   "outputs": [
    {
     "data": {
      "text/html": [
       "<style>#sk-container-id-1 {color: black;background-color: white;}#sk-container-id-1 pre{padding: 0;}#sk-container-id-1 div.sk-toggleable {background-color: white;}#sk-container-id-1 label.sk-toggleable__label {cursor: pointer;display: block;width: 100%;margin-bottom: 0;padding: 0.3em;box-sizing: border-box;text-align: center;}#sk-container-id-1 label.sk-toggleable__label-arrow:before {content: \"▸\";float: left;margin-right: 0.25em;color: #696969;}#sk-container-id-1 label.sk-toggleable__label-arrow:hover:before {color: black;}#sk-container-id-1 div.sk-estimator:hover label.sk-toggleable__label-arrow:before {color: black;}#sk-container-id-1 div.sk-toggleable__content {max-height: 0;max-width: 0;overflow: hidden;text-align: left;background-color: #f0f8ff;}#sk-container-id-1 div.sk-toggleable__content pre {margin: 0.2em;color: black;border-radius: 0.25em;background-color: #f0f8ff;}#sk-container-id-1 input.sk-toggleable__control:checked~div.sk-toggleable__content {max-height: 200px;max-width: 100%;overflow: auto;}#sk-container-id-1 input.sk-toggleable__control:checked~label.sk-toggleable__label-arrow:before {content: \"▾\";}#sk-container-id-1 div.sk-estimator input.sk-toggleable__control:checked~label.sk-toggleable__label {background-color: #d4ebff;}#sk-container-id-1 div.sk-label input.sk-toggleable__control:checked~label.sk-toggleable__label {background-color: #d4ebff;}#sk-container-id-1 input.sk-hidden--visually {border: 0;clip: rect(1px 1px 1px 1px);clip: rect(1px, 1px, 1px, 1px);height: 1px;margin: -1px;overflow: hidden;padding: 0;position: absolute;width: 1px;}#sk-container-id-1 div.sk-estimator {font-family: monospace;background-color: #f0f8ff;border: 1px dotted black;border-radius: 0.25em;box-sizing: border-box;margin-bottom: 0.5em;}#sk-container-id-1 div.sk-estimator:hover {background-color: #d4ebff;}#sk-container-id-1 div.sk-parallel-item::after {content: \"\";width: 100%;border-bottom: 1px solid gray;flex-grow: 1;}#sk-container-id-1 div.sk-label:hover label.sk-toggleable__label {background-color: #d4ebff;}#sk-container-id-1 div.sk-serial::before {content: \"\";position: absolute;border-left: 1px solid gray;box-sizing: border-box;top: 0;bottom: 0;left: 50%;z-index: 0;}#sk-container-id-1 div.sk-serial {display: flex;flex-direction: column;align-items: center;background-color: white;padding-right: 0.2em;padding-left: 0.2em;position: relative;}#sk-container-id-1 div.sk-item {position: relative;z-index: 1;}#sk-container-id-1 div.sk-parallel {display: flex;align-items: stretch;justify-content: center;background-color: white;position: relative;}#sk-container-id-1 div.sk-item::before, #sk-container-id-1 div.sk-parallel-item::before {content: \"\";position: absolute;border-left: 1px solid gray;box-sizing: border-box;top: 0;bottom: 0;left: 50%;z-index: -1;}#sk-container-id-1 div.sk-parallel-item {display: flex;flex-direction: column;z-index: 1;position: relative;background-color: white;}#sk-container-id-1 div.sk-parallel-item:first-child::after {align-self: flex-end;width: 50%;}#sk-container-id-1 div.sk-parallel-item:last-child::after {align-self: flex-start;width: 50%;}#sk-container-id-1 div.sk-parallel-item:only-child::after {width: 0;}#sk-container-id-1 div.sk-dashed-wrapped {border: 1px dashed gray;margin: 0 0.4em 0.5em 0.4em;box-sizing: border-box;padding-bottom: 0.4em;background-color: white;}#sk-container-id-1 div.sk-label label {font-family: monospace;font-weight: bold;display: inline-block;line-height: 1.2em;}#sk-container-id-1 div.sk-label-container {text-align: center;}#sk-container-id-1 div.sk-container {/* jupyter's `normalize.less` sets `[hidden] { display: none; }` but bootstrap.min.css set `[hidden] { display: none !important; }` so we also need the `!important` here to be able to override the default hidden behavior on the sphinx rendered scikit-learn.org. See: https://github.com/scikit-learn/scikit-learn/issues/21755 */display: inline-block !important;position: relative;}#sk-container-id-1 div.sk-text-repr-fallback {display: none;}</style><div id=\"sk-container-id-1\" class=\"sk-top-container\"><div class=\"sk-text-repr-fallback\"><pre>DecisionTreeRegressor(max_depth=1)</pre><b>In a Jupyter environment, please rerun this cell to show the HTML representation or trust the notebook. <br />On GitHub, the HTML representation is unable to render, please try loading this page with nbviewer.org.</b></div><div class=\"sk-container\" hidden><div class=\"sk-item\"><div class=\"sk-estimator sk-toggleable\"><input class=\"sk-toggleable__control sk-hidden--visually\" id=\"sk-estimator-id-1\" type=\"checkbox\" checked><label for=\"sk-estimator-id-1\" class=\"sk-toggleable__label sk-toggleable__label-arrow\">DecisionTreeRegressor</label><div class=\"sk-toggleable__content\"><pre>DecisionTreeRegressor(max_depth=1)</pre></div></div></div></div></div>"
      ],
      "text/plain": [
       "DecisionTreeRegressor(max_depth=1)"
      ]
     },
     "execution_count": 10,
     "metadata": {},
     "output_type": "execute_result"
    }
   ],
   "source": [
    "dt1.fit(df.iloc[:, 0:3].values, df['ri1'].values)"
   ]
  },
  {
   "cell_type": "code",
   "execution_count": 11,
   "metadata": {
    "execution": {
     "iopub.execute_input": "2023-10-20T19:21:39.124323Z",
     "iopub.status.busy": "2023-10-20T19:21:39.123553Z",
     "iopub.status.idle": "2023-10-20T19:21:39.346814Z",
     "shell.execute_reply": "2023-10-20T19:21:39.345529Z",
     "shell.execute_reply.started": "2023-10-20T19:21:39.124278Z"
    }
   },
   "outputs": [
    {
     "data": {
      "text/plain": [
       "[Text(0.5, 0.75, 'x[0] <= 65.0\\nsquared_error = 1701.556\\nsamples = 3\\nvalue = -0.0'),\n",
       " Text(0.25, 0.25, 'squared_error = 0.0\\nsamples = 1\\nvalue = -51.333'),\n",
       " Text(0.75, 0.25, 'squared_error = 576.0\\nsamples = 2\\nvalue = 25.667')]"
      ]
     },
     "execution_count": 11,
     "metadata": {},
     "output_type": "execute_result"
    },
    {
     "data": {
      "image/png": "[encoded data removed]",
      "text/plain": [
       "<Figure size 640x480 with 1 Axes>"
      ]
     },
     "metadata": {},
     "output_type": "display_data"
    }
   ],
   "source": [
    "from sklearn.tree import plot_tree\n",
    "plot_tree(dt1)"
   ]
  },
  {
   "cell_type": "markdown",
   "metadata": {},
   "source": [
    "Now completing the rest of 2.2 which says,    \n",
    "# 2.2\n",
    "Fit a regression tree to the targets $r_{im}$ giving terminal regions $R_{jm}$, j= 1,2,...$J_m$   \n",
    "Now, what is Terminal Region?  \n",
    "We plot a scatter plot of data. And lets say if we run a decision tree with max_depth = 1, it will cut the dataset in two parts, i.e. it will plot a line. Like the one in below. "
   ]
  },
  {
   "cell_type": "markdown",
   "metadata": {},
   "source": [
    "![](data:image/png;base64,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)"
   ]
  },
  {
   "cell_type": "markdown",
   "metadata": {},
   "source": [
    "And lets say if we give max depth = 2, it will create two lines, like the one below.  \n",
    "![](https://encrypted-tbn0.gstatic.com/images?q=tbn:ANd9GcRbwKgBv_6Lx31wsglGU60AxHhflmx9AZim8g&usqp=CAU)  \n",
    "We can see, because of two lines, the graph is divided into three parts.   \n",
    "**In a nutshell, the graph will be cut into parts equal to number of leaf nodes or max_depth**. When you fit decision tree, we get a value which we can see in the decision tree graph we plotted, that is the output or prediction of decision tree.  "
   ]
  },
  {
   "cell_type": "markdown",
   "metadata": {},
   "source": [
    "So the value of the first output is -51.3. The other is 25.667, how is this calculated? It is calculated the mean of the first two points. So what decision tree does is that it creates terminal region and whatever points exists in the region, it calculates the mean of it.  \n"
   ]
  },
  {
   "cell_type": "markdown",
   "metadata": {},
   "source": [
    "# Calculating step 2.3, which says  \n",
    "for j = 1,2,....$J_m$ compute $$\\gamma_m = argmin_{\\gamma} \\sum_{x_i \\in R_{jm}} L(y_{i}, F_{m-1}(x_i) + \\gamma )$$ \n"
   ]
  },
  {
   "cell_type": "markdown",
   "metadata": {},
   "source": [
    "Now we are currently working on dt1, so we need to find $\\gamma_{j1}$. Inside $\\gamma_{j1}$ we have two terminal region2 $\\gamma_{j11}$ and  $\\gamma_{21}$, two terminal regions where $\\gamma_{11}$ has one point and $\\gamma_{21}$ has two points to predict.  \n",
    "So first, we find $\\gamma_{11}$ which can be written as $$ \\gamma_{11} = argmin_{\\gamma} \\sum_{x_i \\in R_{11}} L(y_{i}, F_{m-1}(x_i) + \\gamma )$$  \n",
    "So we are finding the output of first leaf from the above dt graph.  \n",
    "Here we are finding $\\gamma_{11}$, lets understand what is $x_i \\in R_{11}$? It means we need to take from $x_i$ which falls under $R_{11}$ or leaf 1.   \n",
    "So finding the point, we dont have to add summation since there is only one point in this leaf. So it can be written as $$ \\gamma_{11} =  argmin_{\\gamma} \\frac{1}{2}(y_i - (f_0(x_i) + \\gamma))^2$$  \n",
    "To find gamma, we need to differentiate wrt $\\gamma$, So we need to find $\\frac{dL}{d\\gamma}$ which is $$\\frac{dL}{d\\gamma} = \\frac{1}{2} * 2 (y_i - (f_0(x) + \\gamma)) \\frac{d}{d\\gamma}(y_i - f_0(x) - \\gamma) $$ $$ = -(y_i - f_0(x) - \\gamma)$$ $$y_i - f_0(x) - \\gamma = 0 ... \\ multiplying \\ both \\ sides \\  with \\ minus$$   \n",
    "So $\\gamma{11}$ = $$\\gamma_{11} = 91 - 142 - \\gamma$$ $$\\gamma = 91 - 142 $$ $$\\gamma = -51$$ which -51 is same as dt1 output.  \n",
    "  \n",
    "For finding $\\gamma_{21}$, we need to add sum because there are two points which lies under second leaf or terminal.  $$\\gamma_{21} = argmin_{\\gamma} \\sum_{x \\in R_{21}} L(y_i - f_0(x_i) + \\gamma)$$  $$= argmin_{\\gamma} \\sum_{i=1}^2 (y_i - (f_0(x_i)+ \\gamma))^2$$ $$= -\\sum_{i=1}^2(y_i - f_0(x_i) - \\gamma) = 0$$ $$\\sum_{i=1}^2(y_i - f_0(x_i) - \\gamma) = 0  ... multiplying \\ both \\ sides \\ by \\ -$$  \n",
    "Lets calculate for both the leafs.  \n",
    "$$y_1 - f_0(x_1)-\\gamma+ y_2-f_0(x_2) - \\gamma = 0$$  \n",
    "Putting values in it.  \n",
    "$$192 - 142 - \\gamma + 144 - 142 - \\gamma = 0$$\n",
    "$$= 52 - 2\\gamma = 0$$\n",
    "$$\\gamma = 26$$  \n",
    "One thing we realized is we are getting the same output as dt1 after calculating step 2.3. We got this coz the loss function is least square, if we used a different loss function, we wouldve got the different value.  \n",
    "If you're using least square, you can consider the dt output as the output of step 2.3 as well. "
   ]
  },
  {
   "cell_type": "markdown",
   "metadata": {},
   "source": [
    "# Now calculating step 2.4, which is \n",
    "$$f_m(x) = f_{m-1}(x) +  \\sum \\limits_{j=1}^{J_m}  \\gamma_{jm}I(x \\in R_{jm})$$  \n",
    "which can be written as $$f_1(x) = f_0(x) + dt$$ which means the expression $\\sum \\limits_{j=1}^{J_m}  \\gamma_{jm}I(x \\in R_{jm})$ is either previous step output or the decision tree output.    "
   ]
  },
  {
   "cell_type": "markdown",
   "metadata": {},
   "source": [
    "Lets say you are coming on second iteration, the expression can be written as $$f_2(x) = f_1(x) + dt2$$ which means the addition of the previous model which is  $f_0(x) + dt$ and second decision tree or the output of step 2.3 and the same step repeats on each iteration. When the iteration is completed, we return $f_m(x)$"
   ]
  },
  {
   "cell_type": "code",
   "execution_count": null,
   "metadata": {},
   "outputs": [],
   "source": []
  },
  {
   "cell_type": "code",
   "execution_count": null,
   "metadata": {},
   "outputs": [],
   "source": []
  }
 ],
 "metadata": {
  "kaggle": {
   "accelerator": "none",
   "dataSources": [],
   "dockerImageVersionId": 30558,
   "isGpuEnabled": false,
   "isInternetEnabled": true,
   "language": "python",
   "sourceType": "notebook"
  },
  "kernelspec": {
   "display_name": "Python 3 (ipykernel)",
   "language": "python",
   "name": "python3"
  },
  "language_info": {
   "codemirror_mode": {
    "name": "ipython",
    "version": 3
   },
   "file_extension": ".py",
   "mimetype": "text/x-python",
   "name": "python",
   "nbconvert_exporter": "python",
   "pygments_lexer": "ipython3",
   "version": "3.9.12"
  }
 },
 "nbformat": 4,
 "nbformat_minor": 4
}
