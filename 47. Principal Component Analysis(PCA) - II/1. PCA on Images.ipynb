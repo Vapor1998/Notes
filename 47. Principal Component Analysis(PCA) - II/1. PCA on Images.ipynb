{
 "cells": [
  {
   "cell_type": "markdown",
   "metadata": {},
   "source": [
    "### What is so special about images?  \n",
    "So Images actually satisfy the basic requirement that are basically to apply PCA on it.   \n",
    "  \n",
    "When do we want to apply PCA on any Problem?  \n",
    "1. If we have issue of speed or memory. Images have huge number of features, that leads to slower training time and huge memory requirements. SO what are the features in case of an Image? So lets say we have an image of 28x28 pixels. In case of an Image, we use each pixel as feature. So a small image of size 28x28 will have a lot of features. Leading to a slow training time and testing time. \n",
    "2. A lot of covariance among features - When we look at image, we realize if we know one pixels value, most of the pixels vicinity will have similar value. SO they are highly corelated. So when youre applying PCA, youre basically getting all that information into some other direction so that youre able to have some similar kind of information but in far lessnumber of dimension. Applying PCA on Images is something we doing very very often.  "
   ]
  }
 ],
 "metadata": {
  "kernelspec": {
   "display_name": "Python 3",
   "language": "python",
   "name": "python3"
  },
  "language_info": {
   "codemirror_mode": {
    "name": "ipython",
    "version": 3
   },
   "file_extension": ".py",
   "mimetype": "text/x-python",
   "name": "python",
   "nbconvert_exporter": "python",
   "pygments_lexer": "ipython3",
   "version": "3.8.5"
  }
 },
 "nbformat": 4,
 "nbformat_minor": 4
}
