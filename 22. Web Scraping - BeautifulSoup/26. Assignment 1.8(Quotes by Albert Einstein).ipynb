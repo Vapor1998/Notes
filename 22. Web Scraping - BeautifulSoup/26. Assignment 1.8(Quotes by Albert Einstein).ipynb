{
 "cells": [
  {
   "cell_type": "code",
   "execution_count": 35,
   "metadata": {},
   "outputs": [
    {
     "name": "stdout",
     "output_type": "stream",
     "text": [
      "“The world as we have created it is a process of our thinking. It cannot be changed without changing our thinking.”\n",
      "“There are only two ways to live your life. One is as though nothing is a miracle. The other is as though everything is a miracle.”\n",
      "“Try not to become a man of success. Rather become a man of value.”\n",
      "“If you can't explain it to a six year old, you don't understand it yourself.”\n",
      "“If you want your children to be intelligent, read them fairy tales. If you want them to be more intelligent, read them more fairy tales.”\n",
      "“Logic will get you from A to Z; imagination will get you everywhere.”\n",
      "“Any fool can know. The point is to understand.”\n",
      "“Life is like riding a bicycle. To keep your balance, you must keep moving.”\n",
      "“If I were not a physicist, I would probably be a musician. I often think in music. I live my daydreams in music. I see my life in terms of music.”\n",
      "“Anyone who has never made a mistake has never tried anything new.”\n"
     ]
    }
   ],
   "source": [
    "link = 'https://quotes.toscrape.com/'\n",
    "\n",
    "\n",
    "import requests\n",
    "from bs4 import BeautifulSoup\n",
    "import re\n",
    "import pandas as pd\n",
    "import operator\n",
    "\n",
    "response = requests.get(link)\n",
    "\n",
    "\n",
    "while response.status_code == 200:\n",
    "    html = response.text\n",
    "    data = BeautifulSoup(html,'html.parser')\n",
    "    quote = data.find_all(class_ = 'quote')\n",
    "    for g in quote:\n",
    "        author = g.find(class_ = 'author')\n",
    "        if author.string == 'Albert Einstein':\n",
    "            quotes = g.find(class_ = 'text').string\n",
    "            print(quotes)\n",
    "    \n",
    "        \n",
    "            \n",
    "            \n",
    "    li = data.find(class_ = 'next')\n",
    "    if li is None:\n",
    "        break\n",
    "    post = li.a['href']\n",
    "    url = link[:27]+ post\n",
    "    response = requests.get(url)\n"
   ]
  },
  {
   "cell_type": "code",
   "execution_count": 29,
   "metadata": {},
   "outputs": [
    {
     "ename": "IndentationError",
     "evalue": "unexpected indent (<ipython-input-29-e6261f0f9ff0>, line 2)",
     "output_type": "error",
     "traceback": [
      "\u001b[1;36m  File \u001b[1;32m\"<ipython-input-29-e6261f0f9ff0>\"\u001b[1;36m, line \u001b[1;32m2\u001b[0m\n\u001b[1;33m    for i in au:\u001b[0m\n\u001b[1;37m    ^\u001b[0m\n\u001b[1;31mIndentationError\u001b[0m\u001b[1;31m:\u001b[0m unexpected indent\n"
     ]
    }
   ],
   "source": [
    "au = data.find_all(class_ = 'col-md-8')\n",
    "    for i in au:\n",
    "        quote = i.find(class_ = 'quote')\n",
    "        if quote != None:\n",
    "            author = quote.find(class_= 'author')\n",
    "            if author.string == 'Albert Einstein':\n",
    "                print(quote.span.string)"
   ]
  },
  {
   "cell_type": "code",
   "execution_count": null,
   "metadata": {},
   "outputs": [],
   "source": [
    "author = g.find(class_ = 'author')\n",
    "        if author.string == 'Albert Einstein':\n",
    "            quotes = g.find(class_ = 'text').string\n",
    "            print(quotes)"
   ]
  }
 ],
 "metadata": {
  "kernelspec": {
   "display_name": "Python 3",
   "language": "python",
   "name": "python3"
  },
  "language_info": {
   "codemirror_mode": {
    "name": "ipython",
    "version": 3
   },
   "file_extension": ".py",
   "mimetype": "text/x-python",
   "name": "python",
   "nbconvert_exporter": "python",
   "pygments_lexer": "ipython3",
   "version": "3.8.5"
  }
 },
 "nbformat": 4,
 "nbformat_minor": 4
}
