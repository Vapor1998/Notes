{
 "cells": [
  {
   "cell_type": "code",
   "execution_count": 1,
   "metadata": {},
   "outputs": [
    {
     "name": "stdout",
     "output_type": "stream",
     "text": [
      "The Haunting of Hill House 572\n"
     ]
    }
   ],
   "source": [
    "import requests\n",
    "from bs4 import BeautifulSoup\n",
    "import re\n",
    "import pandas as pd\n",
    "import operator\n",
    "\n",
    "curpage = 'https://www.imdb.com/search/title?release_date=2018&sort=num_votes,desc&page=1&ref_=adv_nxt'\n",
    "prefix = 'https://www.imdb.com'\n",
    "\n",
    "response = requests.get(curpage)\n",
    "html = response.text\n",
    "data = BeautifulSoup(html, 'html.parser')\n",
    "\n",
    "\n",
    "\n",
    "\n",
    "d = {}\n",
    "\n",
    "article = data.find(class_ = 'article')\n",
    "for i in article:\n",
    "    rt = article.find_all(class_ = 'runtime')\n",
    "    title = article.find_all(class_ = 'lister-item-header')\n",
    "    \n",
    "for i, j in zip(rt, title):\n",
    "    t = j.a.string\n",
    "    r = i.string\n",
    "    rts = re.search('\\d+', r).group()\n",
    "    rts = int(rts)\n",
    "        \n",
    "    d[t] = rts   \n",
    "    \n",
    "\n",
    "    \n",
    "l= data.find(class_ = 'desc')\n",
    "li = l.a['href']\n",
    "url = prefix + li\n",
    "\n",
    "\n",
    "for i in range(4):\n",
    "\n",
    "    res = requests.get(url)\n",
    "    ht = res.text\n",
    "    dt = BeautifulSoup(ht, 'html.parser')\n",
    "    article = dt.find(class_ = 'article')\n",
    "    for i in article:\n",
    "        rt = article.find_all(class_ = 'runtime')\n",
    "        title = article.find_all(class_ = 'lister-item-header')\n",
    "    \n",
    "    for i, j in zip(rt, title):\n",
    "        t = j.a.string\n",
    "        r = i.string\n",
    "        rts = re.search('\\d+', r).group()\n",
    "        rts = int(rts)\n",
    "        \n",
    "        d[t] = rts\n",
    "    \n",
    "    \n",
    "    lis = dt.find(class_ = 'desc')\n",
    "    lis1= lis.find_all('a')[1]['href']\n",
    "    \n",
    "    url = prefix+lis1\n",
    "\n",
    "\n",
    "    \n",
    "        \n",
    "\n",
    "sorted_d = dict(sorted(d.items(), key=operator.itemgetter(1),reverse=True))\n",
    "\n",
    "j = 0\n",
    "for i in sorted_d:\n",
    "    print(i, sorted_d[i])\n",
    "    j+=1\n",
    "    if j == 1:\n",
    "        break\n",
    "\n",
    "    \n",
    "    \n",
    "    \n",
    "    "
   ]
  },
  {
   "cell_type": "code",
   "execution_count": 56,
   "metadata": {},
   "outputs": [
    {
     "ename": "IndentationError",
     "evalue": "unindent does not match any outer indentation level (<tokenize>, line 9)",
     "output_type": "error",
     "traceback": [
      "\u001b[1;36m  File \u001b[1;32m\"<tokenize>\"\u001b[1;36m, line \u001b[1;32m9\u001b[0m\n\u001b[1;33m    ===============================================\u001b[0m\n\u001b[1;37m    ^\u001b[0m\n\u001b[1;31mIndentationError\u001b[0m\u001b[1;31m:\u001b[0m unindent does not match any outer indentation level\n"
     ]
    }
   ],
   "source": [
    "for i in range(4):\n",
    "    res = requests.get(url)\n",
    "    html1 = res.text\n",
    "    dt = BeautifulSoup(html, 'html.parser')\n",
    "\n",
    "    l= dt.find(class_ = 'desc')\n",
    "    li = l.a['href']\n",
    "    url = prefix + li\n",
    " ===============================================   \n",
    "\n",
    "html = response.text\n",
    "data = BeautifulSoup(html, 'html.parser')\n",
    "\n",
    "prefix = 'https://www.imdb.com'\n",
    "\n",
    "\n",
    "\n",
    "d = {}\n",
    "\n",
    "article = data.find(class_ = 'article')\n",
    "for i in article:\n",
    "    rt = article.find_all(class_ = 'runtime')\n",
    "    title = article.find_all(class_ = 'lister-item-header')\n",
    "    \n",
    "for i, j in zip(rt, title):\n",
    "    t = j.a.string\n",
    "    r = i.string\n",
    "    rts = re.search('\\d+', r).group()\n",
    "    rts = int(rts)\n",
    "        \n",
    "    d[t] = rts\n",
    "    "
   ]
  },
  {
   "cell_type": "code",
   "execution_count": 54,
   "metadata": {},
   "outputs": [
    {
     "data": {
      "text/plain": [
       "'/search/title/?release_date=2018-01-01,2018-12-31&sort=num_votes,desc&start=101'"
      ]
     },
     "execution_count": 54,
     "metadata": {},
     "output_type": "execute_result"
    }
   ],
   "source": [
    "\n",
    "import requests\n",
    "from bs4 import BeautifulSoup\n",
    "import re\n",
    "import pandas as pd\n",
    "import operator\n",
    "\n",
    "cur = 'https://www.imdb.com/search/title/?release_date=2018-01-01,2018-12-31&sort=num_votes,desc&start=51&ref_=adv_nxt'\n",
    "response = requests.get(cur)\n",
    "html = response.text\n",
    "data = BeautifulSoup(html, 'html.parser')\n",
    "\n",
    "li = data.find(class_ = 'desc')\n",
    "lis1 = li.find_all('a')[1]['href']\n",
    "lis1"
   ]
  },
  {
   "cell_type": "code",
   "execution_count": 2,
   "metadata": {},
   "outputs": [
    {
     "name": "stdout",
     "output_type": "stream",
     "text": [
      "The Haunting of Hill House 572\n"
     ]
    }
   ],
   "source": [
    "import requests\n",
    "from bs4 import BeautifulSoup\n",
    "import re\n",
    "import pandas as pd\n",
    "import operator\n",
    "import time\n",
    "from random import randint\n",
    "\n",
    "dict = {}\n",
    "for i in range(1,202, 50):\n",
    "    page = requests.get(\"https://www.imdb.com/search/title/?release_date=2018-01-01,2018-12-31&sort=num_votes,desc&start=\" + str(i) + \"&ref_=adv_nxt\")\n",
    "    soup = BeautifulSoup(page.content, 'html.parser')\n",
    "    tags = soup.find_all('div', class_ = 'lister-item')\n",
    "    for j in tags:\n",
    "        if j.find('span', class_ = 'runtime'):\n",
    "            head = j.find(\"h3\", class_ = 'lister-item-header')\n",
    "            dur = j.find('span', class_='runtime')\n",
    "            t = int(dur.text.strip().split(' ')[0])\n",
    "            dict[head.a.string] = t\n",
    "    time.sleep(randint(0,3))\n",
    "max_dur = -1\n",
    "maxname = 0\n",
    "for k, v in dict.items():\n",
    "    if v>max_dur :\n",
    "        max_dur = v\n",
    "        maxname = k\n",
    "print(maxname, max_dur)"
   ]
  }
 ],
 "metadata": {
  "kernelspec": {
   "display_name": "Python 3",
   "language": "python",
   "name": "python3"
  },
  "language_info": {
   "codemirror_mode": {
    "name": "ipython",
    "version": 3
   },
   "file_extension": ".py",
   "mimetype": "text/x-python",
   "name": "python",
   "nbconvert_exporter": "python",
   "pygments_lexer": "ipython3",
   "version": "3.8.5"
  }
 },
 "nbformat": 4,
 "nbformat_minor": 4
}
