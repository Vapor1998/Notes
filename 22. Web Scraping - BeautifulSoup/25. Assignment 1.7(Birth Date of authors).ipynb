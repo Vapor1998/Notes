{
 "cells": [
  {
   "cell_type": "code",
   "execution_count": 2,
   "metadata": {},
   "outputs": [
    {
     "data": {
      "text/plain": [
       "['J.D. Salinger',\n",
       " 'J.K. Rowling',\n",
       " 'J.M. Barrie',\n",
       " 'J.R.R. Tolkien',\n",
       " 'James Baldwin',\n",
       " 'Jane Austen',\n",
       " 'Jim Henson',\n",
       " 'Jimi Hendrix',\n",
       " 'John Lennon',\n",
       " 'Jorge Luis Borges']"
      ]
     },
     "execution_count": 2,
     "metadata": {},
     "output_type": "execute_result"
    }
   ],
   "source": [
    "link = 'https://quotes.toscrape.com/'\n",
    "li = 'https://quotes.toscrape.com/'\n",
    "\n",
    "import requests\n",
    "from bs4 import BeautifulSoup\n",
    "import re\n",
    "import pandas as pd\n",
    "import operator\n",
    "\n",
    "response = requests.get(link)\n",
    "\n",
    "d = {}\n",
    "while response.status_code == 200:\n",
    "    html = response.text\n",
    "    data = BeautifulSoup(html,'html.parser')\n",
    "    au = data.find_all(class_ = 'quote')\n",
    "    for i in au:\n",
    "        s = i.contents\n",
    "        n = s[3].contents\n",
    "        if n[1].string[0] == 'J':\n",
    "            links = s[3].a['href']\n",
    "            links = str(links)\n",
    "            link1 = link[:27] + links\n",
    "            \n",
    "            res = requests.get(link1)\n",
    "            html1 = res.text\n",
    "            data1 = BeautifulSoup(html1, 'html.parser')\n",
    "            dob = data1.find(class_ = 'author-born-date')\n",
    "            d[n[1].string] = dob.string\n",
    "            \n",
    "            \n",
    "    li = data.find(class_ = 'next')\n",
    "    if li is None:\n",
    "        break\n",
    "    post = li.a['href']\n",
    "    url = link+ post\n",
    "    response = requests.get(url)\n",
    "\n",
    "sortednames=sorted(d.keys(), key=lambda x:x.lower())\n",
    "\n",
    "sortednames"
   ]
  },
  {
   "cell_type": "code",
   "execution_count": null,
   "metadata": {},
   "outputs": [],
   "source": [
    "\n",
    "response = requests.get(link)\n",
    "\n",
    "d = {}\n",
    "while response.status_code == 200:\n",
    "    html = response.text\n",
    "    data = BeautifulSoup(html,'html.parser')\n",
    "    au = data.find_all(class_ = 'quote')\n",
    "    for i in au:\n",
    "        s = i.contents\n",
    "        n = s[3].contents\n",
    "        if n[1].string[0] == 'J':\n",
    "            links = s[3].a['href']\n",
    "            link1 = li + links\n",
    "            res = requests.get(link1)\n",
    "            html1 = res.text\n",
    "            data1 = BeautifulSoup(html1, 'html.parser')\n",
    "            dob = data1.find(class_ = 'author-born-date')\n",
    "            print(links)"
   ]
  },
  {
   "cell_type": "code",
   "execution_count": 5,
   "metadata": {},
   "outputs": [
    {
     "name": "stdout",
     "output_type": "stream",
     "text": [
      "{'J.D. Salinger': 'January 01, 1919', 'J.K. Rowling': 'July 31, 1965', 'J.M. Barrie': 'May 09, 1860', 'J.R.R. Tolkien': 'January 03, 1892', 'James Baldwin': 'August 02, 1924', 'Jane Austen': 'December 16, 1775', 'Jim Henson': 'September 24, 1936', 'Jimi Hendrix': 'November 27, 1942', 'John Lennon': 'October 09, 1940', 'Jorge Luis Borges': 'August 24, 1899'}\n"
     ]
    }
   ],
   "source": [
    "import requests\n",
    "import time\n",
    "from bs4 import BeautifulSoup\n",
    "from random import randint\n",
    "authors = {}\n",
    "for i in range(1,11):\n",
    "    page = requests.get('http://quotes.toscrape.com/page/'+str(i)+'/')\n",
    "    soup = BeautifulSoup(page.content, 'html.parser')\n",
    "    \n",
    "    for aut in soup.select('.author'):\n",
    "        if aut.text[0] == 'J':\n",
    "            authors[aut.text] = aut.next_sibling.next_sibling['href']\n",
    "            \n",
    "bdate = {}\n",
    "for author in sorted(authors):\n",
    "    page = requests.get('http://quotes.toscrape.com'+authors[author])\n",
    "    soup = BeautifulSoup(page.content, 'html.parser')\n",
    "    for i in soup.select('.author-born-date'):\n",
    "        bdate[author] = i.text\n",
    "print(bdate)"
   ]
  }
 ],
 "metadata": {
  "kernelspec": {
   "display_name": "Python 3",
   "language": "python",
   "name": "python3"
  },
  "language_info": {
   "codemirror_mode": {
    "name": "ipython",
    "version": 3
   },
   "file_extension": ".py",
   "mimetype": "text/x-python",
   "name": "python",
   "nbconvert_exporter": "python",
   "pygments_lexer": "ipython3",
   "version": "3.8.5"
  }
 },
 "nbformat": 4,
 "nbformat_minor": 4
}
