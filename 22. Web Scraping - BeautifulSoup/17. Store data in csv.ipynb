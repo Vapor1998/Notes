{
 "cells": [
  {
   "cell_type": "code",
   "execution_count": 2,
   "metadata": {},
   "outputs": [],
   "source": [
    "## In this session we need to extract all the innfo about books.\n",
    "## To get the price and in stock status, we need to visit the book page.\n",
    "\n",
    "## step 1 : Extract the url of first book\n",
    "## step 2 : load the html of 1st books page, parse the data\n",
    "## step 3 : Extract the data\n",
    "\n",
    "import requests\n",
    "from bs4 import BeautifulSoup\n",
    "\n",
    "response = requests.get('https://books.toscrape.com/')\n",
    "html_data = response.text\n",
    "\n",
    "data = BeautifulSoup(html_data, 'html.parser')\n",
    "\n"
   ]
  },
  {
   "cell_type": "code",
   "execution_count": 4,
   "metadata": {},
   "outputs": [
    {
     "data": {
      "text/plain": [
       "<a href=\"catalogue/a-light-in-the-attic_1000/index.html\" title=\"A Light in the Attic\">A Light in the ...</a>"
      ]
     },
     "execution_count": 4,
     "metadata": {},
     "output_type": "execute_result"
    }
   ],
   "source": [
    "## Step 1\n",
    "## To find the info and the link of the book page\n",
    "\n",
    "b1 = data.find(class_ = 'product_pod')\n",
    "b1.h3.a\n",
    "\n",
    "## As we can see, the link is in href, to get the full link, we need to append the base url in it."
   ]
  },
  {
   "cell_type": "code",
   "execution_count": 6,
   "metadata": {},
   "outputs": [
    {
     "data": {
      "text/plain": [
       "'https://books.toscrape.com/catalogue/a-light-in-the-attic_1000/index.html'"
      ]
     },
     "execution_count": 6,
     "metadata": {},
     "output_type": "execute_result"
    }
   ],
   "source": [
    "baseUrl = 'https://books.toscrape.com/'\n",
    "b1Url = baseUrl + b1.h3.a['href']\n",
    "b1Url\n",
    "\n",
    "## We can extract the url of books\n"
   ]
  },
  {
   "cell_type": "code",
   "execution_count": 8,
   "metadata": {},
   "outputs": [],
   "source": [
    "## step 2\n",
    "## load the html of books page\n",
    "\n",
    "response = requests.get(b1Url)\n",
    "\n",
    "data = BeautifulSoup(response.text, 'html.parser')\n",
    "\n",
    "## Now to extract the data, we need to insepct the page\n"
   ]
  },
  {
   "cell_type": "code",
   "execution_count": 18,
   "metadata": {},
   "outputs": [
    {
     "data": {
      "text/plain": [
       "'A Light in the Attic'"
      ]
     },
     "execution_count": 18,
     "metadata": {},
     "output_type": "execute_result"
    }
   ],
   "source": [
    "## To extract the title,\n",
    "## we inspected that it is present in the h1 tag.\n",
    "\n",
    "title = data.h1.string\n",
    "title"
   ]
  },
  {
   "cell_type": "code",
   "execution_count": 19,
   "metadata": {},
   "outputs": [
    {
     "data": {
      "text/plain": [
       "'Â£51.77'"
      ]
     },
     "execution_count": 19,
     "metadata": {},
     "output_type": "execute_result"
    }
   ],
   "source": [
    "## to extract the price\n",
    "## We inspected that it is present in the class = 'price_color'\n",
    "\n",
    "price = data.find(class_ = 'price_color').string\n",
    "price"
   ]
  },
  {
   "cell_type": "code",
   "execution_count": 20,
   "metadata": {},
   "outputs": [
    {
     "data": {
      "text/plain": [
       "<p class=\"instock availability\">\n",
       "<i class=\"icon-ok\"></i>\n",
       "    \n",
       "        In stock (22 available)\n",
       "    \n",
       "</p>"
      ]
     },
     "execution_count": 20,
     "metadata": {},
     "output_type": "execute_result"
    }
   ],
   "source": [
    "## to check the status of stock\n",
    "## we inspected that it is present in the class = 'instock availability'\n",
    "\n",
    "qty = data.find(class_ = 'instock availability')\n",
    "## as we can see the tag has more than 2 childs so we have to use .contents\n",
    "qty"
   ]
  },
  {
   "cell_type": "code",
   "execution_count": 21,
   "metadata": {},
   "outputs": [
    {
     "data": {
      "text/plain": [
       "'In stock (22 available)'"
      ]
     },
     "execution_count": 21,
     "metadata": {},
     "output_type": "execute_result"
    }
   ],
   "source": [
    "stock = data.find(class_ = 'instock availability').contents[-1].strip()\n",
    "stock"
   ]
  },
  {
   "cell_type": "code",
   "execution_count": 35,
   "metadata": {},
   "outputs": [],
   "source": [
    "title = data.h1.string\n",
    "price = data.find(class_ = 'price_color').string\n",
    "qty = data.find(class_ ='instock availability')\n",
    "qty = qty.contents[-1].strip()"
   ]
  },
  {
   "cell_type": "code",
   "execution_count": 26,
   "metadata": {},
   "outputs": [
    {
     "data": {
      "text/plain": [
       "'2'"
      ]
     },
     "execution_count": 26,
     "metadata": {},
     "output_type": "execute_result"
    }
   ],
   "source": [
    "## now out of 3 only 1 is perfect i.e. title\n",
    "## To extract the essential data from rest three, we use regular expression.\n",
    "\n",
    "import re\n",
    "\n",
    "qty = re.search('\\d', stock).group()\n",
    "qty\n",
    "\n",
    "## As we can see, the search() takes two arg first is pattern which is to be searched and string from which pattern is to be \n",
    "## searched. It returns obj. \n",
    "## group() returns the object value\n",
    "\n",
    "## As we can see, it does not returns all the values which are numbers.\n",
    "## To get all the numbers, we add + after pattern.\n"
   ]
  },
  {
   "cell_type": "code",
   "execution_count": 40,
   "metadata": {},
   "outputs": [
    {
     "data": {
      "text/plain": [
       "'22'"
      ]
     },
     "execution_count": 40,
     "metadata": {},
     "output_type": "execute_result"
    }
   ],
   "source": [
    "q = re.search('\\d+', stock).group()\n",
    "q\n",
    "\n",
    "## As we can see, it now returns all the numeric characters.\n"
   ]
  },
  {
   "cell_type": "code",
   "execution_count": 38,
   "metadata": {},
   "outputs": [
    {
     "data": {
      "text/plain": [
       "'51.77'"
      ]
     },
     "execution_count": 38,
     "metadata": {},
     "output_type": "execute_result"
    }
   ],
   "source": [
    "p = re.search('\\d+', price).group()\n",
    "p\n",
    "\n",
    "## As we can see, we are geeting only half of price.\n",
    "## to get the price in decimal part we add . after \\d\n",
    "\n",
    "p = re.search('\\d.+', price).group()  ## This means find out the part of string which either contains . or numbers\n",
    "p        \n",
    "\n",
    "## Above can also be written as\n",
    "## in lec, the above code output is 5.\n",
    "\n",
    "p = re.search('[\\d.]+', price).group()  ## This means find out the part of string which either contains . or numbers\n",
    "p       \n",
    "\n",
    "## We can also convert it into float.\n"
   ]
  },
  {
   "cell_type": "code",
   "execution_count": 42,
   "metadata": {},
   "outputs": [
    {
     "name": "stdout",
     "output_type": "stream",
     "text": [
      "A Light in the Attic\n",
      "https://books.toscrape.com/catalogue/a-light-in-the-attic_1000/index.html\n",
      "51.77\n",
      "22\n"
     ]
    }
   ],
   "source": [
    "print(title)\n",
    "print(b1Url)\n",
    "print(p)\n",
    "print(q)"
   ]
  },
  {
   "cell_type": "code",
   "execution_count": 43,
   "metadata": {},
   "outputs": [
    {
     "data": {
      "text/plain": [
       "[['A Light in the Attic',\n",
       "  'https://books.toscrape.com/catalogue/a-light-in-the-attic_1000/index.html',\n",
       "  '51.77',\n",
       "  '22'],\n",
       " ['A Light in the Attic',\n",
       "  'https://books.toscrape.com/catalogue/a-light-in-the-attic_1000/index.html',\n",
       "  '51.77',\n",
       "  '22']]"
      ]
     },
     "execution_count": 43,
     "metadata": {},
     "output_type": "execute_result"
    }
   ],
   "source": [
    "## We want to create csv file of all the book details\n",
    "## To do that we do the foll\n",
    "\n",
    "book_details =[]\n",
    "\n",
    "book_details.append([title, b1Url, p, q])\n",
    "book_details.append([title, b1Url, p, q])\n",
    "\n",
    "book_details"
   ]
  },
  {
   "cell_type": "code",
   "execution_count": 44,
   "metadata": {},
   "outputs": [
    {
     "data": {
      "text/html": [
       "<div>\n",
       "<style scoped>\n",
       "    .dataframe tbody tr th:only-of-type {\n",
       "        vertical-align: middle;\n",
       "    }\n",
       "\n",
       "    .dataframe tbody tr th {\n",
       "        vertical-align: top;\n",
       "    }\n",
       "\n",
       "    .dataframe thead th {\n",
       "        text-align: right;\n",
       "    }\n",
       "</style>\n",
       "<table border=\"1\" class=\"dataframe\">\n",
       "  <thead>\n",
       "    <tr style=\"text-align: right;\">\n",
       "      <th></th>\n",
       "      <th>Title</th>\n",
       "      <th>Link</th>\n",
       "      <th>Price</th>\n",
       "      <th>Quantity</th>\n",
       "    </tr>\n",
       "  </thead>\n",
       "  <tbody>\n",
       "    <tr>\n",
       "      <th>0</th>\n",
       "      <td>A Light in the Attic</td>\n",
       "      <td>https://books.toscrape.com/catalogue/a-light-i...</td>\n",
       "      <td>51.77</td>\n",
       "      <td>22</td>\n",
       "    </tr>\n",
       "    <tr>\n",
       "      <th>1</th>\n",
       "      <td>A Light in the Attic</td>\n",
       "      <td>https://books.toscrape.com/catalogue/a-light-i...</td>\n",
       "      <td>51.77</td>\n",
       "      <td>22</td>\n",
       "    </tr>\n",
       "  </tbody>\n",
       "</table>\n",
       "</div>"
      ],
      "text/plain": [
       "                  Title                                               Link  \\\n",
       "0  A Light in the Attic  https://books.toscrape.com/catalogue/a-light-i...   \n",
       "1  A Light in the Attic  https://books.toscrape.com/catalogue/a-light-i...   \n",
       "\n",
       "   Price Quantity  \n",
       "0  51.77       22  \n",
       "1  51.77       22  "
      ]
     },
     "execution_count": 44,
     "metadata": {},
     "output_type": "execute_result"
    }
   ],
   "source": [
    "## now we have this details in 2d array.\n",
    "## To convert this into csv, we first convert book_details into df and then pass that to to_csv()\n",
    "\n",
    "import pandas as pd\n",
    "df = pd.DataFrame(book_details, columns = ['Title', 'Link', 'Price', 'Quantity'])\n",
    "df"
   ]
  },
  {
   "cell_type": "code",
   "execution_count": 45,
   "metadata": {},
   "outputs": [],
   "source": [
    "df.to_csv('books.csv', index = False)\n",
    "## We can check now csv file is created."
   ]
  },
  {
   "cell_type": "code",
   "execution_count": null,
   "metadata": {},
   "outputs": [],
   "source": []
  }
 ],
 "metadata": {
  "kernelspec": {
   "display_name": "Python 3",
   "language": "python",
   "name": "python3"
  },
  "language_info": {
   "codemirror_mode": {
    "name": "ipython",
    "version": 3
   },
   "file_extension": ".py",
   "mimetype": "text/x-python",
   "name": "python",
   "nbconvert_exporter": "python",
   "pygments_lexer": "ipython3",
   "version": "3.8.5"
  }
 },
 "nbformat": 4,
 "nbformat_minor": 4
}
