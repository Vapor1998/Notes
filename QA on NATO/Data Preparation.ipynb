{
 "cells": [
  {
   "cell_type": "code",
   "execution_count": null,
   "id": "cebf2d02",
   "metadata": {},
   "outputs": [],
   "source": [
    "import PyPDF2\n",
    " \n",
    "# creating a pdf file object\n",
    "pdfFileObj = open(r\"C:\\Users\\HASHIM RAZI\\Downloads\\nato handbook.pdf\", 'rb')\n",
    " \n",
    "# creating a pdf reader object\n",
    "pdfReader = PyPDF2.PdfReader(pdfFileObj)\n",
    " \n",
    "# printing number of pages in pdf file\n",
    "print(len(pdfReader.pages))\n",
    " \n",
    "# creating a page object\n",
    "pageObj = pdfReader.pages[368]\n",
    " \n",
    "# extracting text from page\n",
    "print(pageObj.extract_text)"
   ]
  },
  {
   "cell_type": "code",
   "execution_count": null,
   "id": "4d893dcc",
   "metadata": {},
   "outputs": [],
   "source": [
    "from pdfquery import PDFQuery\n",
    "\n",
    "pdf = PDFQuery(r\"C:\\Users\\HASHIM RAZI\\Downloads\\nato handbook.pdf\")\n",
    "pdf.load()\n",
    "\n",
    "# Use CSS-like selectors to locate the elements\n",
    "text_elements = pdf.pq('LTTextLineHorizontal')\n",
    "\n",
    "# Extract the text from the elements\n",
    "text = [t.text for t in text_elements]\n",
    "\n",
    "print(text)"
   ]
  },
  {
   "cell_type": "code",
   "execution_count": null,
   "id": "7868bae8",
   "metadata": {},
   "outputs": [],
   "source": [
    "text = \"\"\"The North Atlantic Treaty Organisation is an alliance of 26 countries from \n",
    "North America and Europe committed to fulfilling the goals of the North Atlantic \n",
    "Treaty signed in Washington on 4 April 1949.\n",
    "In accordance with the Treaty, the fundamental role of NATO is to safeguard the freedom and security of its member countries by political and military \n",
    "means. NATO safeguards the Allies common values of democracy, individual \n",
    "liberty, the rule of law and the peaceful resolution of disputes and promotes \n",
    "these values throughout the Euro-Atlantic area. It provides a forum in which \n",
    "countries from North America and Europe can consult together on security \n",
    "issues of common concern and take joint action in addressing them.\n",
    "Relations between North American and European members of the Alliance \n",
    "are the bedrock of NATO. These countries share the same essential values \n",
    "and interests and are committed to the maintenance of democratic principles, \n",
    "making the security of Europe and that of North America indivisible. \n",
    "The Alliance is committed to defending its member states against aggression or the threat of aggression and to the principle that an attack against one \n",
    "or several members would be considered as an attack against all. \n",
    "NATO remains an inter-governmental organisation in which each member \n",
    "country retains its sovereignty. All NATO decisions are taken jointly by the \n",
    "member countries on the basis of consensus. NATO’s most important decision making body is the North Atlantic Council, which brings together representatives of all the Allies at the level of ambassadors, ministers or heads of state \n",
    "and government. Each member country participates fully in the decision making process on the basis of equality, irrespective of its size or political, \n",
    "military and economic strength.\n",
    "The Allies therefore retain scope for independent action with respect to \n",
    "joint decisions and joint actio\n",
    "ns. However, Allied decisions, once taken, enable \n",
    "unified and concerted action to be reinforced by political solidarity. This was \n",
    "manifest, for example, in the decisions taken to provide assistance to the United \n",
    "States after the attacks of 11 September 2001. For the first time in its history, \n",
    "NATO invoked Article 5 of the Washington Treaty, which stipulates that an armed\n",
    "attack against one or more members of the Alliance is considered as an\n",
    "armed attack against all. All the members of the Alliance vehemently condemned the attacks and provided support to the United States in its response.'\"\"\""
   ]
  },
  {
   "cell_type": "code",
   "execution_count": null,
   "id": "34a9769a",
   "metadata": {},
   "outputs": [],
   "source": [
    "text = text.split('.')\n",
    "text = [re.sub(r'\\n', \"\", i.strip()) for i in text]\n",
    "text"
   ]
  },
  {
   "cell_type": "code",
   "execution_count": null,
   "id": "5580a84b",
   "metadata": {},
   "outputs": [],
   "source": [
    "import re\n",
    "\n",
    "text1 = re.sub(r'\\n', '', text[0])\n"
   ]
  },
  {
   "cell_type": "code",
   "execution_count": null,
   "id": "c5f3791a",
   "metadata": {},
   "outputs": [],
   "source": [
    "text1"
   ]
  },
  {
   "cell_type": "code",
   "execution_count": null,
   "id": "5214875c",
   "metadata": {},
   "outputs": [],
   "source": [
    "pip install transformers\n"
   ]
  },
  {
   "cell_type": "code",
   "execution_count": null,
   "id": "3ac0edf7",
   "metadata": {},
   "outputs": [],
   "source": [
    "from transformers import T5ForConditionalGeneration, T5Tokenizer\n"
   ]
  },
  {
   "cell_type": "code",
   "execution_count": null,
   "id": "3d4207f9",
   "metadata": {},
   "outputs": [],
   "source": [
    "model_name = \"t5-small\"  # You can choose a different model if needed\n",
    "tokenizer = T5Tokenizer.from_pretrained(model_name)\n",
    "model = T5ForConditionalGeneration.from_pretrained(model_name)\n"
   ]
  },
  {
   "cell_type": "code",
   "execution_count": null,
   "id": "8cb5a7c3",
   "metadata": {},
   "outputs": [],
   "source": [
    "inputs = tokenizer.encode(\"summarize: \" + text_to_summarize, return_tensors=\"pt\", max_length=512, truncation=True)\n",
    "summary_ids = model.generate(inputs, max_length=150, min_length=30, length_penalty=2.0, num_beams=4, early_stopping=True)\n"
   ]
  },
  {
   "cell_type": "code",
   "execution_count": 1,
   "id": "b9b079b7",
   "metadata": {},
   "outputs": [
    {
     "ename": "ModuleNotFoundError",
     "evalue": "No module named 'docx2txt'",
     "output_type": "error",
     "traceback": [
      "\u001b[1;31m---------------------------------------------------------------------------\u001b[0m",
      "\u001b[1;31mModuleNotFoundError\u001b[0m                       Traceback (most recent call last)",
      "Input \u001b[1;32mIn [1]\u001b[0m, in \u001b[0;36m<cell line: 1>\u001b[1;34m()\u001b[0m\n\u001b[1;32m----> 1\u001b[0m \u001b[38;5;28;01mimport\u001b[39;00m \u001b[38;5;21;01mdocx2txt\u001b[39;00m\n\u001b[0;32m      2\u001b[0m my_text \u001b[38;5;241m=\u001b[39m docx2txt\u001b[38;5;241m.\u001b[39mprocess(\u001b[38;5;124m\"\u001b[39m\u001b[38;5;124mtest.docx\u001b[39m\u001b[38;5;124m\"\u001b[39m)\n\u001b[0;32m      3\u001b[0m \u001b[38;5;28mprint\u001b[39m(my_text)\n",
      "\u001b[1;31mModuleNotFoundError\u001b[0m: No module named 'docx2txt'"
     ]
    }
   ],
   "source": [
    "import docx2txt\n",
    "my_text = docx2txt.process(\"test.docx\")\n",
    "print(my_text)"
   ]
  },
  {
   "cell_type": "code",
   "execution_count": null,
   "id": "2151a02a",
   "metadata": {},
   "outputs": [],
   "source": [
    "pip install docx2text"
   ]
  }
 ],
 "metadata": {
  "kernelspec": {
   "display_name": "Python 3 (ipykernel)",
   "language": "python",
   "name": "python3"
  },
  "language_info": {
   "codemirror_mode": {
    "name": "ipython",
    "version": 3
   },
   "file_extension": ".py",
   "mimetype": "text/x-python",
   "name": "python",
   "nbconvert_exporter": "python",
   "pygments_lexer": "ipython3",
   "version": "3.9.12"
  }
 },
 "nbformat": 4,
 "nbformat_minor": 5
}
