{
 "cells": [
  {
   "cell_type": "code",
   "execution_count": 1,
   "id": "7f7ce16d",
   "metadata": {},
   "outputs": [],
   "source": [
    "import pandas as pd\n",
    "df = pd.read_csv('visualizing_global_co2_data.csv')"
   ]
  },
  {
   "cell_type": "code",
   "execution_count": 13,
   "id": "befdc6c5",
   "metadata": {},
   "outputs": [
    {
     "data": {
      "text/plain": [
       "array(['Afghanistan', 'Africa', 'Africa (GCP)', 'Aland Islands',\n",
       "       'Albania', 'Algeria', 'American Samoa', 'Andorra', 'Angola',\n",
       "       'Anguilla', 'Antarctica', 'Antigua and Barbuda', 'Argentina',\n",
       "       'Armenia', 'Aruba', 'Asia', 'Asia (GCP)',\n",
       "       'Asia (excl. China and India)', 'Australia', 'Austria',\n",
       "       'Azerbaijan', 'Bahamas', 'Bahrain', 'Bangladesh', 'Barbados',\n",
       "       'Belarus', 'Belgium', 'Belize', 'Benin', 'Bermuda', 'Bhutan',\n",
       "       'Bolivia', 'Bonaire Sint Eustatius and Saba',\n",
       "       'Bosnia and Herzegovina', 'Botswana', 'Brazil',\n",
       "       'British Virgin Islands', 'Brunei', 'Bulgaria', 'Burkina Faso',\n",
       "       'Burundi', 'Cambodia', 'Cameroon', 'Canada', 'Cape Verde',\n",
       "       'Central African Republic', 'Central America (GCP)', 'Chad',\n",
       "       'Chile', 'China', 'Christmas Island', 'Colombia', 'Comoros',\n",
       "       'Congo', 'Cook Islands', 'Costa Rica', \"Cote d'Ivoire\", 'Croatia',\n",
       "       'Cuba', 'Curacao', 'Cyprus', 'Czechia',\n",
       "       'Democratic Republic of Congo', 'Denmark', 'Djibouti', 'Dominica',\n",
       "       'Dominican Republic', 'East Timor', 'Ecuador', 'Egypt',\n",
       "       'El Salvador', 'Equatorial Guinea', 'Eritrea', 'Estonia',\n",
       "       'Eswatini', 'Ethiopia', 'Europe', 'Europe (GCP)',\n",
       "       'Europe (excl. EU-27)', 'Europe (excl. EU-28)',\n",
       "       'European Union (27)', 'European Union (27) (GCP)',\n",
       "       'European Union (28)', 'Falkland Islands', 'Faroe Islands', 'Fiji',\n",
       "       'Finland', 'France', 'French Equatorial Africa (GCP)',\n",
       "       'French Equatorial Africa (Jones et al. 2023)', 'French Guiana',\n",
       "       'French Polynesia', 'French West Africa (GCP)',\n",
       "       'French West Africa (Jones et al. 2023)', 'Gabon', 'Gambia',\n",
       "       'Georgia', 'Germany', 'Ghana', 'Greece', 'Greenland', 'Grenada',\n",
       "       'Guadeloupe', 'Guatemala', 'Guernsey', 'Guinea', 'Guinea-Bissau',\n",
       "       'Guyana', 'Haiti', 'High-income countries', 'Honduras',\n",
       "       'Hong Kong', 'Hungary', 'Iceland', 'India', 'Indonesia',\n",
       "       'International transport', 'Iran', 'Iraq', 'Ireland',\n",
       "       'Isle of Man', 'Israel', 'Italy', 'Jamaica', 'Japan', 'Jersey',\n",
       "       'Jordan', 'Kazakhstan', 'Kenya', 'Kiribati', 'Kosovo', 'Kuwait',\n",
       "       'Kuwaiti Oil Fires (GCP)', 'Kuwaiti Oil Fires (Jones et al. 2023)',\n",
       "       'Kyrgyzstan', 'Laos', 'Latvia',\n",
       "       'Least developed countries (Jones et al. 2023)', 'Lebanon',\n",
       "       'Leeward Islands (GCP)', 'Leeward Islands (Jones et al. 2023)',\n",
       "       'Lesotho', 'Liberia', 'Libya', 'Liechtenstein', 'Lithuania',\n",
       "       'Low-income countries', 'Lower-middle-income countries',\n",
       "       'Luxembourg', 'Macao', 'Madagascar', 'Malawi', 'Malaysia',\n",
       "       'Maldives', 'Mali', 'Malta', 'Marshall Islands', 'Martinique',\n",
       "       'Mauritania', 'Mauritius', 'Mayotte', 'Mexico',\n",
       "       'Micronesia (country)', 'Middle East (GCP)', 'Moldova', 'Mongolia',\n",
       "       'Montenegro', 'Montserrat', 'Morocco', 'Mozambique', 'Myanmar',\n",
       "       'Namibia', 'Nauru', 'Nepal', 'Netherlands', 'Netherlands Antilles',\n",
       "       'New Caledonia', 'New Zealand', 'Nicaragua', 'Niger', 'Nigeria',\n",
       "       'Niue', 'Non-OECD (GCP)', 'North America', 'North America (GCP)',\n",
       "       'North America (excl. USA)', 'North Korea', 'North Macedonia',\n",
       "       'Norway', 'OECD (GCP)', 'OECD (Jones et al. 2023)', 'Oceania',\n",
       "       'Oceania (GCP)', 'Oman', 'Pakistan', 'Palau', 'Palestine',\n",
       "       'Panama', 'Panama Canal Zone (GCP)',\n",
       "       'Panama Canal Zone (Jones et al. 2023)', 'Papua New Guinea',\n",
       "       'Paraguay', 'Peru', 'Philippines', 'Poland', 'Portugal',\n",
       "       'Puerto Rico', 'Qatar', 'Reunion', 'Romania', 'Russia', 'Rwanda',\n",
       "       'Ryukyu Islands (GCP)', 'Ryukyu Islands (Jones et al. 2023)',\n",
       "       'Saint Helena', 'Saint Kitts and Nevis', 'Saint Lucia',\n",
       "       'Saint Martin (French part)', 'Saint Pierre and Miquelon',\n",
       "       'Saint Vincent and the Grenadines', 'Samoa',\n",
       "       'Sao Tome and Principe', 'Saudi Arabia', 'Senegal', 'Serbia',\n",
       "       'Seychelles', 'Sierra Leone', 'Singapore',\n",
       "       'Sint Maarten (Dutch part)', 'Slovakia', 'Slovenia',\n",
       "       'Solomon Islands', 'Somalia', 'South Africa', 'South America',\n",
       "       'South America (GCP)', 'South Korea', 'South Sudan', 'Spain',\n",
       "       'Sri Lanka', 'St. Kitts-Nevis-Anguilla (GCP)',\n",
       "       'St. Kitts-Nevis-Anguilla (Jones et al. 2023)', 'Sudan',\n",
       "       'Suriname', 'Svalbard and Jan Mayen', 'Sweden', 'Switzerland',\n",
       "       'Syria', 'Taiwan', 'Tajikistan', 'Tanzania', 'Thailand', 'Togo',\n",
       "       'Tonga', 'Trinidad and Tobago', 'Tunisia', 'Turkey',\n",
       "       'Turkmenistan', 'Turks and Caicos Islands', 'Tuvalu', 'Uganda',\n",
       "       'Ukraine', 'United Arab Emirates', 'United Kingdom',\n",
       "       'United States', 'United States Virgin Islands',\n",
       "       'Upper-middle-income countries', 'Uruguay', 'Uzbekistan',\n",
       "       'Vanuatu', 'Venezuela', 'Vietnam', 'Wallis and Futuna',\n",
       "       'Western Sahara', 'World', 'Yemen', 'Zambia', 'Zimbabwe'],\n",
       "      dtype=object)"
      ]
     },
     "execution_count": 13,
     "metadata": {},
     "output_type": "execute_result"
    }
   ],
   "source": [
    "df.country.unique()"
   ]
  }
 ],
 "metadata": {
  "kernelspec": {
   "display_name": "Python 3 (ipykernel)",
   "language": "python",
   "name": "python3"
  },
  "language_info": {
   "codemirror_mode": {
    "name": "ipython",
    "version": 3
   },
   "file_extension": ".py",
   "mimetype": "text/x-python",
   "name": "python",
   "nbconvert_exporter": "python",
   "pygments_lexer": "ipython3",
   "version": "3.9.12"
  }
 },
 "nbformat": 4,
 "nbformat_minor": 5
}
