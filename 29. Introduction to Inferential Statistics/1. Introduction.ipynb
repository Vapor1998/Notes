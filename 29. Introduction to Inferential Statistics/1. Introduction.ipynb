{
 "cells": [
  {
   "cell_type": "markdown",
   "metadata": {},
   "source": [
    "While descriptive statistics summarize the characteristics of a data set, inferential statistics help you come to conclusions and make predictions based on your data.\n",
    "\n",
    "When you have collected data from a sample, you can use inferential statistics to understand the larger population from which the sample is taken.\n",
    "\n",
    "Inferential statistics have two main uses:\n",
    "\n",
    "making estimates about populations (for example, the mean SAT score of all 11th graders in the US).\n",
    "testing hypotheses to draw conclusions about populations (for example, the relationship between SAT scores and family income)."
   ]
  },
  {
   "cell_type": "markdown",
   "metadata": {},
   "source": [
    "## Descriptive versus inferential statistics\n",
    "Descriptive statistics allow you to describe a data set, while inferential statistics allow you to make inferences based on a data set.\n",
    "\n",
    "### Descriptive statistics\n",
    "Using descriptive statistics, you can report characteristics of your data:\n",
    "\n",
    "The distribution concerns the frequency of each value.\n",
    "The central tendency concerns the averages of the values.\n",
    "The variability concerns how spread out the values are.\n",
    "In descriptive statistics, there is no uncertainty – the statistics precisely describe the data that you collected. If you collect data from an entire population, you can directly compare these descriptive statistics to those from other populations.\n",
    "\n",
    "Example: Descriptive statistics\n",
    "You collect data on the SAT scores of all 11th graders in a school for three years.\n",
    "You can use descriptive statistics to get a quick overview of the school’s scores in those years. You can then directly compare the mean SAT score with the mean scores of other schools.\n",
    "\n",
    "### Inferential statistics\n",
    "Most of the time, you can only acquire data from samples, because it is too difficult or expensive to collect data from the whole population that you’re interested in.\n",
    "\n",
    "While descriptive statistics can only summarize a sample’s characteristics, inferential statistics use your sample to make reasonable guesses about the larger population.\n",
    "\n",
    "With inferential statistics, it’s important to use random and unbiased sampling methods. If your sample isn’t representative of your population, then you can’t make valid statistical inferences.\n",
    "\n",
    "Example: Inferential statistics\n",
    "You randomly select a sample of 11th graders in your state and collect data on their SAT scores and other characteristics.\n",
    "You can use inferential statistics to make estimates and test hypotheses about the whole population of 11th graders in the state based on your sample data.\n",
    "\n",
    "Sampling error in inferential statistics\n",
    "Since the size of a sample is always smaller than the size of the population, some of the population isn’t captured by sample data. This creates sampling error, which is the difference between the true population values (called parameters) and the measured sample values (called statistics).\n",
    "\n",
    "Sampling error arises any time you use a sample, even if your sample is random and unbiased. For this reason, there is always some uncertainty in inferential statistics. However, using probability sampling methods reduces this uncertainty."
   ]
  },
  {
   "cell_type": "code",
   "execution_count": null,
   "metadata": {},
   "outputs": [],
   "source": []
  }
 ],
 "metadata": {
  "kernelspec": {
   "display_name": "Python 3",
   "language": "python",
   "name": "python3"
  },
  "language_info": {
   "codemirror_mode": {
    "name": "ipython",
    "version": 3
   },
   "file_extension": ".py",
   "mimetype": "text/x-python",
   "name": "python",
   "nbconvert_exporter": "python",
   "pygments_lexer": "ipython3",
   "version": "3.8.5"
  }
 },
 "nbformat": 4,
 "nbformat_minor": 4
}
