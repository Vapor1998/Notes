{
 "cells": [
  {
   "cell_type": "code",
   "execution_count": 15,
   "metadata": {},
   "outputs": [
    {
     "name": "stdout",
     "output_type": "stream",
     "text": [
      "66330\n"
     ]
    }
   ],
   "source": [
    "import numpy as np\n",
    "import csv\n",
    "file_obj = open(\"terrorismData.csv\", encoding = 'latin1')\n",
    "data = csv.DictReader(file_obj, skipinitialspace=True)\n",
    "\n",
    "day = []\n",
    "\n",
    "\n",
    "for row in data:\n",
    "    day.append(row['Day'])\n",
    "\n",
    "np_day = np.array(day, dtype= int)\n",
    "\n",
    "arr = np_day[(np_day >= 10) & (np_day <= 20)]\n",
    "\n",
    "print(len(arr))\n",
    "    \n",
    "    \n",
    "## This will give you no of attacks in between day 10 and 20 including both\n"
   ]
  }
 ],
 "metadata": {
  "kernelspec": {
   "display_name": "Python 3 (ipykernel)",
   "language": "python",
   "name": "python3"
  },
  "language_info": {
   "codemirror_mode": {
    "name": "ipython",
    "version": 3
   },
   "file_extension": ".py",
   "mimetype": "text/x-python",
   "name": "python",
   "nbconvert_exporter": "python",
   "pygments_lexer": "ipython3",
   "version": "3.9.12"
  }
 },
 "nbformat": 4,
 "nbformat_minor": 4
}
