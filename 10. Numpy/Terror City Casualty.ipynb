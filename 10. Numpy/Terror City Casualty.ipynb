{
 "cells": [
  {
   "cell_type": "code",
   "execution_count": 4,
   "metadata": {},
   "outputs": [
    {
     "name": "stdout",
     "output_type": "stream",
     "text": [
      "Srinagar 3134 \n",
      "New Delhi 2095 \n",
      "Mumbai 2016 \n",
      "Jammu 1119 \n",
      "Guwahati 822 \n"
     ]
    }
   ],
   "source": [
    "import numpy as np\n",
    "import csv\n",
    "file_obj = open(\"terrorismData.csv\", encoding = 'latin1')\n",
    "data = csv.DictReader(file_obj, skipinitialspace=True)\n",
    "\n",
    "\n",
    "city = []\n",
    "killed = []\n",
    "wounded = []\n",
    "country = []\n",
    "for row in data:\n",
    "    if row[\"Country\"] == \"India\":\n",
    "        city.append(row['City'])\n",
    "        killed.append(row['Killed'])\n",
    "        wounded.append(row['Wounded'])\n",
    "\n",
    "np_killed = np.array(killed)\n",
    "np_wounded = np.array(wounded)\n",
    "np_city = np.array(city)\n",
    "\n",
    "np_killed[np_killed == ''] = '0.0'\n",
    "np_killed = np.array(np_killed, dtype = float)\n",
    "np_wounded[np_wounded==''] = '0.0'\n",
    "np_wounded = np.array(np_wounded, dtype = float)\n",
    "\n",
    "np_casualty = np_killed + np_wounded\n",
    "\n",
    "npunique = np.unique(np_city)\n",
    "\n",
    "dic= {}\n",
    "for a, b in zip(np_city, np_casualty):\n",
    "    if a in dic:\n",
    "        dic[a] += b\n",
    "    else:\n",
    "        dic[a] = b\n",
    "sortedDict = sorted(dic.items(), key = lambda x : -x[-1])\n",
    "\n",
    "j = 0\n",
    "\n",
    "for i in sortedDict:\n",
    "    i = list(i)\n",
    "    if i[0] == 'Unknown':\n",
    "        continue\n",
    "    \n",
    "    i[1] = int(i[1])\n",
    "    for k in i:\n",
    "        print(k, end= ' ')\n",
    "    print()\n",
    "    j += 1\n",
    "    if j == 5:\n",
    "        break\n",
    "    \n",
    "    \n",
    "## Time limit exceeds for this code\n"
   ]
  },
  {
   "cell_type": "code",
   "execution_count": null,
   "metadata": {},
   "outputs": [],
   "source": []
  },
  {
   "cell_type": "code",
   "execution_count": 8,
   "metadata": {},
   "outputs": [
    {
     "name": "stdout",
     "output_type": "stream",
     "text": [
      "Srinagar 3134\n",
      "New Delhi 2095\n",
      "Mumbai 2016\n",
      "Jammu 1119\n",
      "Guwahati 822\n"
     ]
    }
   ],
   "source": [
    "import numpy as np\n",
    "import csv\n",
    "file_obj = open(\"terrorismData.csv\", encoding = 'latin1')\n",
    "data = csv.DictReader(file_obj, skipinitialspace=True)\n",
    "\n",
    "\n",
    "city = []\n",
    "killed = []\n",
    "wounded = []\n",
    "country = []\n",
    "for row in data:\n",
    "    if row[\"Country\"] == \"India\":\n",
    "        city.append(row['City'])\n",
    "        killed.append(row['Killed'])\n",
    "        wounded.append(row['Wounded'])\n",
    "\n",
    "np_killed = np.array(killed)\n",
    "np_wounded = np.array(wounded)\n",
    "np_city = np.array(city)\n",
    "\n",
    "np_killed[np_killed == ''] = '0.0'\n",
    "np_killed = np.array(np_killed, dtype = float)\n",
    "np_wounded[np_wounded==''] = '0.0'\n",
    "np_wounded = np.array(np_wounded, dtype = float)\n",
    "\n",
    "np_casualty = np_killed + np_wounded\n",
    "\n",
    "arr = []\n",
    "unique = np.unique(np_city)\n",
    "for i in unique:\n",
    "    index = np.where(np_city == i)\n",
    "    tsum = np_casualty[index].sum()\n",
    "    arr.append([tsum, i])\n",
    "arr.sort(reverse = True)\n",
    "\n",
    "for i in range(6):\n",
    "    if arr[i][1] != 'Unknown':\n",
    "        print(arr[i][1], int(arr[i][0]))"
   ]
  },
  {
   "cell_type": "code",
   "execution_count": 7,
   "metadata": {},
   "outputs": [
    {
     "name": "stdout",
     "output_type": "stream",
     "text": [
      "Srinagar 3134\n",
      "New Delhi 2095\n",
      "Mumbai 2016\n",
      "Jammu 1119\n",
      "Guwahati 822\n"
     ]
    }
   ],
   "source": [
    "import numpy as np\n",
    "import csv\n",
    "\n",
    "with open('terrorismData.csv',encoding = 'UTF-8') as file_obj:\n",
    "    file_data = csv.DictReader(file_obj,skipinitialspace=True)\n",
    "    \n",
    "    casualty = []\n",
    "    city = []\n",
    "    for row in file_data:\n",
    "        if(row['Country']=='India'):\n",
    "            city.append(row['City'])\n",
    "            casualty.append([row['Killed'],row['Wounded']])\n",
    "\n",
    "    casualty = np.array(casualty)\n",
    "    city = np.array(city)\n",
    "    casualty[casualty==''] = '0.0'\n",
    "    casualty = np.array(casualty,dtype = float)\n",
    "    casualty = np.array(casualty,dtype = int)\n",
    "    casualty = casualty[:,0] + casualty[:,1]\n",
    "\n",
    "    ans = []\n",
    "    \n",
    "    unique = np.unique(city)\n",
    "    for i in unique:\n",
    "        index = np.where(i == city)\n",
    "        sumCasualty = casualty[index].sum()\n",
    "        ans.append([sumCasualty,i])\n",
    "    ans.sort(reverse = True)\n",
    "    \n",
    "    for i in range(6):\n",
    "        if ans[i][1] != 'Unknown':\n",
    "            print(ans[i][1],int(ans[i][0]))"
   ]
  },
  {
   "cell_type": "code",
   "execution_count": 14,
   "metadata": {},
   "outputs": [
    {
     "name": "stdout",
     "output_type": "stream",
     "text": [
      "Srinagar 3134\n",
      "New Delhi 2095\n",
      "Mumbai 2016\n",
      "Jammu 1119\n",
      "Guwahati 822\n"
     ]
    }
   ],
   "source": [
    "import numpy as np\n",
    "import csv\n",
    "obj = open('terrorismData.csv', encoding = 'UTF-8')\n",
    "data=csv.DictReader(obj, skipinitialspace= True)\n",
    "\n",
    "kill = []\n",
    "city = []\n",
    "wound = []\n",
    "for rows in data:\n",
    "    if rows['Country']=='India':\n",
    "        kill.append(rows['Killed'])\n",
    "        wound.append(rows[\"Wounded\"])\n",
    "        city.append(rows['City'])\n",
    "        \n",
    "np_killed = np.array(kill)\n",
    "np_wounded = np.array(wound)\n",
    "np_city = np.array(city)\n",
    "\n",
    "np_killed[np_killed == ''] = '0.0'\n",
    "np_killed = np.array(np_killed, dtype = float)\n",
    "np_wounded[np_wounded==''] = '0.0'\n",
    "np_wounded = np.array(np_wounded, dtype = float)\n",
    "\n",
    "casual = np_killed + np_wounded\n",
    "np_cas = np.array(casual)\n",
    "np_c = np.unique(city)\n",
    "a = []\n",
    "for i in np_c:\n",
    "    index = np.where(np_c==i)\n",
    "    tsum = np_cas[index].sum()\n",
    "    a.append([tsum, i])\n",
    "a.sort(reverse = True)\n",
    "\n",
    "\n",
    "for i in range(6):\n",
    "    if ans[i][1] != 'Unknown':\n",
    "        print(ans[i][1], ans[i][0])\n",
    "    "
   ]
  }
 ],
 "metadata": {
  "kernelspec": {
   "display_name": "Python 3 (ipykernel)",
   "language": "python",
   "name": "python3"
  },
  "language_info": {
   "codemirror_mode": {
    "name": "ipython",
    "version": 3
   },
   "file_extension": ".py",
   "mimetype": "text/x-python",
   "name": "python",
   "nbconvert_exporter": "python",
   "pygments_lexer": "ipython3",
   "version": "3.9.12"
  }
 },
 "nbformat": 4,
 "nbformat_minor": 4
}
