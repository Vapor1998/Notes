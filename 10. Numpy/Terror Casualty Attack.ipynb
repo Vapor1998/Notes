{
 "cells": [
  {
   "cell_type": "code",
   "execution_count": 24,
   "metadata": {},
   "outputs": [
    {
     "name": "stdout",
     "output_type": "stream",
     "text": [
      "26 Ames Black Panthers\n"
     ]
    }
   ],
   "source": [
    "import numpy as np\n",
    "import csv\n",
    "file_obj = open(\"terrorismData.csv\", encoding = 'latin1')\n",
    "data = csv.DictReader(file_obj, skipinitialspace=True)\n",
    "\n",
    "killed = []\n",
    "wounded = []\n",
    "city = []\n",
    "group = []\n",
    "year = []\n",
    "month = []\n",
    "day = []\n",
    "\n",
    "for row in data:\n",
    "    killed.append(row[\"Killed\"])\n",
    "    wounded.append(row[\"Wounded\"])\n",
    "    city.append(row[\"City\"])\n",
    "    group.append(row[\"Group\"])\n",
    "    year.append(row[\"Year\"])\n",
    "    month.append(row[\"Month\"])\n",
    "    day.append(row[\"Day\"])\n",
    "    \n",
    "np_killed = np.array(killed)\n",
    "np_wounded = np.array(wounded)\n",
    "\n",
    "\n",
    "np_killed[np_killed == ''] = '0.0'\n",
    "np_killed = np.array(np_killed, dtype = float)\n",
    "np_wounded[np_wounded == ''] = '0.0'\n",
    "np_wounded = np.array(np_wounded, dtype = float)\n",
    "\n",
    "killed_wounded = np_killed + np_wounded\n",
    "np_killed_wounded = np.array(killed_wounded, dtype = int)\n",
    "\n",
    "    \n",
    "    \n",
    "    \n",
    "np_year = np.array(year, dtype = int)\n",
    "np_month = np.array(month, dtype = int)\n",
    "np_day = np.array(day, dtype = int)\n",
    "np_city = np.array(city)\n",
    "np_group = np.array(group) \n",
    "\n",
    "arr = (np_year == 1999) & ((np_month >= 5)  & (np_month <= 7))\n",
    "\n",
    "casualties = np_killed_wounded[arr]\n",
    "maxCas = casualties[np.argmax(casualties)]\n",
    "maxCasualty = casualties[np.max(casualties)]\n",
    "casCity = np_city[maxCas]\n",
    "casGroup = np_group[maxCas]\n",
    "\n",
    "print(maxCasualty, casCity, casGroup)\n"
   ]
  },
  {
   "cell_type": "code",
   "execution_count": 25,
   "metadata": {},
   "outputs": [],
   "source": [
    "for row in file_obj:\n",
    "    if row[\"Year\"] == \"1999\":\n",
    "        if row[\"Month\"]==\"5\" or row[\"Month\"]==\"6\" or row[\"Month\"]==\"7\":\n",
    "            if \"Unknown\" not in row[\"City\"]:\n",
    "                if \"Unknown\" not in row[\"Group\"]:\n",
    "                    if \"Jammu and Kashmir\" in row[\"State\"]:\n",
    "                        killed.append(row[\"Killed\"])\n",
    "                        wounded.append(row[\"Wounded\"])\n",
    "                        city.append(row[\"City\"])\n",
    "                        group.append(row[\"Group\"])\n",
    "\n"
   ]
  },
  {
   "cell_type": "code",
   "execution_count": 27,
   "metadata": {},
   "outputs": [
    {
     "name": "stdout",
     "output_type": "stream",
     "text": [
      "22 Kargil District Separatists\n"
     ]
    }
   ],
   "source": [
    "import numpy as np\n",
    "import csv\n",
    "obj = open('terrorismData.csv', encoding= 'latin1')\n",
    "file_obj = csv.DictReader(obj, skipinitialspace = True)\n",
    "killed = []\n",
    "wounded = []\n",
    "month = []\n",
    "year = []\n",
    "city = []\n",
    "group = []\n",
    "    \n",
    "for row in file_obj:\n",
    "    if row[\"Year\"] == \"1999\":\n",
    "        if row[\"Month\"]==\"5\" or row[\"Month\"]==\"6\" or row[\"Month\"]==\"7\":\n",
    "            if \"Unknown\" not in row[\"City\"]:\n",
    "                if \"Unknown\" not in row[\"Group\"]:\n",
    "                    if \"Jammu and Kashmir\" in row[\"State\"]:\n",
    "                        killed.append(row[\"Killed\"])\n",
    "                        wounded.append(row[\"Wounded\"])\n",
    "                        city.append(row[\"City\"])\n",
    "                        group.append(row[\"Group\"])\n",
    "        \n",
    "killed = np.array(killed)\n",
    "wounded = np.array(wounded)\n",
    "city = np.array(city)\n",
    "group = np.array(group)\n",
    "    \n",
    "killed_bool = killed == \"\"\n",
    "wounded_bool = wounded == \"\"\n",
    "    \n",
    "killed[killed_bool] = \"0.0\"\n",
    "wounded[wounded_bool] = \"0.0\"\n",
    "    \n",
    "killed = np.array(killed, dtype = float)\n",
    "wounded = np.array(wounded, dtype = float)\n",
    "    \n",
    "casualty = (killed + wounded)\n",
    "max_casualty = (int)(casualty.max())\n",
    "max_casualty_arg = casualty.argmax()\n",
    "print(max_casualty,city[max_casualty_arg],group[max_casualty_arg])"
   ]
  },
  {
   "cell_type": "code",
   "execution_count": 3,
   "metadata": {},
   "outputs": [],
   "source": [
    "casualty = (killed + wounded)"
   ]
  },
  {
   "cell_type": "code",
   "execution_count": 15,
   "metadata": {},
   "outputs": [],
   "source": [
    "max_c = max(casualty)"
   ]
  },
  {
   "cell_type": "code",
   "execution_count": 16,
   "metadata": {},
   "outputs": [
    {
     "data": {
      "text/plain": [
       "8"
      ]
     },
     "execution_count": 16,
     "metadata": {},
     "output_type": "execute_result"
    }
   ],
   "source": [
    "max_casualty = casualty.index(max_c)\n",
    "max_casualty"
   ]
  },
  {
   "cell_type": "code",
   "execution_count": 1,
   "metadata": {},
   "outputs": [
    {
     "name": "stdout",
     "output_type": "stream",
     "text": [
      "22 Kargil District Separatists "
     ]
    }
   ],
   "source": [
    "import pandas as pd\n",
    "\n",
    "terror = pd.read_csv(\"terrorismData.csv\")\n",
    "data = terror.copy()\n",
    "data.Killed.fillna(0, inplace = True)\n",
    "data.Wounded.fillna(0, inplace = True)\n",
    "\n",
    "data['Casuality'] = data['Killed'] + data['Wounded']\n",
    "\n",
    "#data = data[\\]\n",
    "#data\n",
    "data = data[(data['State'] == 'Jammu and Kashmir') & (data['Month'] >= 5) & (data['Month'] <= 7) & (data['Year'] == 1999)]\n",
    "#data = data[]\n",
    "#data = data[]\n",
    "\n",
    "casuality = int(data.Casuality.max()) #38\n",
    "data = data[data['Casuality'] == casuality]\n",
    "\n",
    "#print(data.Casuality, data.City, data.Group\n",
    "casualty = data['Casuality']\n",
    "city = data['City']\n",
    "group = data['Group']\n",
    "for i in casualty:\n",
    "    print(int(i), end = ' ')\n",
    "for i in city:\n",
    "    print(i, end = ' ')\n",
    "for i in group:\n",
    "    print(i, end = ' ')"
   ]
  }
 ],
 "metadata": {
  "kernelspec": {
   "display_name": "Python 3 (ipykernel)",
   "language": "python",
   "name": "python3"
  },
  "language_info": {
   "codemirror_mode": {
    "name": "ipython",
    "version": 3
   },
   "file_extension": ".py",
   "mimetype": "text/x-python",
   "name": "python",
   "nbconvert_exporter": "python",
   "pygments_lexer": "ipython3",
   "version": "3.9.12"
  }
 },
 "nbformat": 4,
 "nbformat_minor": 4
}
