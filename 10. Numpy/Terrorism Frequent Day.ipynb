{
 "cells": [
  {
   "cell_type": "code",
   "execution_count": 9,
   "metadata": {},
   "outputs": [
    {
     "name": "stdout",
     "output_type": "stream",
     "text": [
      "15 6500 "
     ]
    }
   ],
   "source": [
    "import numpy as np\n",
    "import csv\n",
    "file_obj = open(\"terrorismData.csv\", encoding = 'latin1')\n",
    "data = csv.DictReader(file_obj, skipinitialspace=True)\n",
    "\n",
    "day = []\n",
    "\n",
    "for row in data:\n",
    "    day.append(row[\"Day\"])\n",
    "day\n",
    "np_day = np.array(day, dtype = int)\n",
    "unique = np.unique(np_day)\n",
    "\n",
    "dic = {}\n",
    "for i in np_day:\n",
    "    if i in dic:\n",
    "        dic[i] += 1\n",
    "    else:\n",
    "        dic[i] = 1\n",
    "sortedDict = sorted(dic.items(), key = lambda x : -x[-1])\n",
    "\n",
    "j = 0\n",
    "for i in sortedDict:\n",
    "    for k in i:\n",
    "        print(k, end = ' ')\n",
    "    j+=1\n",
    "    if j == 1:\n",
    "        break"
   ]
  },
  {
   "cell_type": "code",
   "execution_count": 1,
   "metadata": {},
   "outputs": [
    {
     "data": {
      "text/plain": [
       "{2: 5954,\n",
       " 0: 891,\n",
       " 1: 6344,\n",
       " 3: 6011,\n",
       " 6: 5781,\n",
       " 8: 5859,\n",
       " 9: 6057,\n",
       " 10: 6064,\n",
       " 11: 5936,\n",
       " 12: 6012,\n",
       " 13: 6043,\n",
       " 14: 6028,\n",
       " 15: 6500,\n",
       " 19: 5973,\n",
       " 20: 5930,\n",
       " 21: 5827,\n",
       " 22: 5799,\n",
       " 25: 5875,\n",
       " 26: 5823,\n",
       " 27: 5937,\n",
       " 28: 6027,\n",
       " 30: 5046,\n",
       " 31: 3095,\n",
       " 4: 6153,\n",
       " 7: 5997,\n",
       " 16: 6112,\n",
       " 17: 5852,\n",
       " 18: 5880,\n",
       " 23: 5782,\n",
       " 24: 5752,\n",
       " 5: 5844,\n",
       " 29: 5507}"
      ]
     },
     "execution_count": 1,
     "metadata": {},
     "output_type": "execute_result"
    }
   ],
   "source": [
    "import numpy as np\n",
    "import csv\n",
    "file_obj = open(\"terrorismData.csv\", encoding = 'latin1')\n",
    "data = csv.DictReader(file_obj, skipinitialspace=True)\n",
    "\n",
    "day = []\n",
    "\n",
    "for row in data:\n",
    "    day.append(row[\"Day\"])\n",
    "day\n",
    "np_day = np.array(day, dtype = int)\n",
    "unique = np.unique(np_day)\n",
    "\n",
    "dic = {}\n",
    "for i in np_day:\n",
    "    if i in dic:\n",
    "        dic[i] += 1\n",
    "    else:\n",
    "        dic[i] = 1\n",
    "        \n",
    "dic"
   ]
  },
  {
   "cell_type": "code",
   "execution_count": 3,
   "metadata": {},
   "outputs": [
    {
     "name": "stdout",
     "output_type": "stream",
     "text": [
      "15 6500\n"
     ]
    }
   ],
   "source": [
    "import pandas as pd\n",
    "f=pd.read_csv(\"terrorismData.csv\")\n",
    "f[\"Day\"].dropna(inplace=True)\n",
    "s=f[\"Day\"].value_counts(ascending=False)\n",
    "#print(s.index[0])\n",
    "day = s.index[0]\n",
    "value = s.values[0]\n",
    "print(day, value)"
   ]
  },
  {
   "cell_type": "code",
   "execution_count": 9,
   "metadata": {},
   "outputs": [
    {
     "name": "stdout",
     "output_type": "stream",
     "text": [
      "15 6500 "
     ]
    }
   ],
   "source": [
    "import numpy as np\n",
    "import csv\n",
    "with open(\"terrorismData.csv\", encoding = 'utf-8') as file_obj:\n",
    "    file= csv.DictReader( file_obj, skipinitialspace= True)\n",
    "    attack= []\n",
    "    for i in file:\n",
    "        attack.append(i[\"Day\"])\n",
    "    np_attack= np.array(attack)\n",
    "    np_attack[np_attack==\"\"]= 0.0\n",
    "    np_attack= np.array(np_attack, dtype= float)\n",
    "    np_attack= np.array(np_attack, dtype= int)\n",
    "    #print(np_attack)\n",
    "    d={}\n",
    "    for i in attack:\n",
    "        if i in d:\n",
    "            d[i]+=1\n",
    "        else:\n",
    "            d[i] = 1\n",
    "    sortedDict = sorted(d.items(), key = lambda x : -x[-1])\n",
    "    for i in sortedDict[0]:\n",
    "        print(i, end= ' ')\n",
    "    \n",
    "    "
   ]
  }
 ],
 "metadata": {
  "kernelspec": {
   "display_name": "Python 3 (ipykernel)",
   "language": "python",
   "name": "python3"
  },
  "language_info": {
   "codemirror_mode": {
    "name": "ipython",
    "version": 3
   },
   "file_extension": ".py",
   "mimetype": "text/x-python",
   "name": "python",
   "nbconvert_exporter": "python",
   "pygments_lexer": "ipython3",
   "version": "3.9.12"
  }
 },
 "nbformat": 4,
 "nbformat_minor": 4
}
