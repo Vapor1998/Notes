{
 "cells": [
  {
   "cell_type": "code",
   "execution_count": 2,
   "metadata": {},
   "outputs": [
    {
     "name": "stdout",
     "output_type": "stream",
     "text": [
      "3771\n"
     ]
    }
   ],
   "source": [
    "import numpy as np\n",
    "import csv\n",
    "file_obj = open(\"terrorismData.csv\", encoding = 'latin1')\n",
    "data = csv.DictReader(file_obj, skipinitialspace=True)\n",
    "\n",
    "killed = []\n",
    "country = []\n",
    "\n",
    "\n",
    "for row in data:\n",
    "    killed.append(row['Killed'])\n",
    "    country.append(row[\"Country\"])\n",
    "    \n",
    "np_killed = np.array(killed)\n",
    "np_country = np.array(country)\n",
    "\n",
    "np_killed[np_killed == ''] = '0.0'\n",
    "\n",
    "np_killed = np.array(np_killed, dtype = float)\n",
    "\n",
    "bool_arr = np_country == 'United States'\n",
    "\n",
    "ans = np_killed[bool_arr]\n",
    "\n",
    "print(int(np.sum(ans)))\n"
   ]
  },
  {
   "cell_type": "code",
   "execution_count": 3,
   "metadata": {},
   "outputs": [
    {
     "name": "stdout",
     "output_type": "stream",
     "text": [
      "3771\n"
     ]
    }
   ],
   "source": [
    "import numpy as np\n",
    "import csv\n",
    "file_obj = open('terrorismData.csv', encoding = 'latin1')\n",
    "data = csv.DictReader(file_obj, skipinitialspace = True)\n",
    "\n",
    "killed = []\n",
    "country = []\n",
    "for row in data:\n",
    "    killed.append(row['Killed'])\n",
    "    country.append(row['Country'])\n",
    "    \n",
    "np_killed = np.array(killed)\n",
    "np_country = np.array(country)\n",
    "\n",
    "np_killed[np_killed == ''] = '0.0'\n",
    "\n",
    "np_killed = np.array(np_killed, dtype = float)\n",
    "np_killed = np.array(np_killed, dtype = int)\n",
    "\n",
    "bool_arr = np_country == 'United States'\n",
    "ans = np_killed[bool_arr]\n",
    "\n",
    "print(sum(ans))"
   ]
  }
 ],
 "metadata": {
  "kernelspec": {
   "display_name": "Python 3 (ipykernel)",
   "language": "python",
   "name": "python3"
  },
  "language_info": {
   "codemirror_mode": {
    "name": "ipython",
    "version": 3
   },
   "file_extension": ".py",
   "mimetype": "text/x-python",
   "name": "python",
   "nbconvert_exporter": "python",
   "pygments_lexer": "ipython3",
   "version": "3.9.12"
  }
 },
 "nbformat": 4,
 "nbformat_minor": 4
}
