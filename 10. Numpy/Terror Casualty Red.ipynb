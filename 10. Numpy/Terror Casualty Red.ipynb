{
 "cells": [
  {
   "cell_type": "code",
   "execution_count": 26,
   "metadata": {},
   "outputs": [
    {
     "name": "stdout",
     "output_type": "stream",
     "text": [
      "5628\n"
     ]
    }
   ],
   "source": [
    "import numpy as np\n",
    "import csv\n",
    "file_obj = open(\"terrorismData.csv\", encoding = 'latin1')\n",
    "data = csv.DictReader(file_obj, skipinitialspace=True)\n",
    "\n",
    "killed = []\n",
    "wounded = []\n",
    "state = []\n",
    "\n",
    "\n",
    "\n",
    "for row in data:\n",
    "    killed.append(row[\"Killed\"])\n",
    "    wounded.append(row[\"Wounded\"])\n",
    "    state.append(row[\"State\"])\n",
    "    \n",
    "    \n",
    "np_killed = np.array(killed)\n",
    "np_wounded = np.array(wounded)\n",
    "np_state = np.array(state)\n",
    "\n",
    "\n",
    "np_killed[np_killed == ''] = '0.0'\n",
    "np_killed = np.array(np_killed, dtype = float)\n",
    "np_wounded[np_wounded == ''] = '0.0'\n",
    "np_wounded = np.array(np_wounded, dtype = float)\n",
    "\n",
    "killed_wounded = np_killed + np_wounded\n",
    "np_killed_wounded = np.array(killed_wounded, dtype = int)\n",
    "\n",
    "Jharkhand = np_state == \"Jharkhand\"\n",
    "Odisha = np_state == 'Odisha'\n",
    "Andhrapradesh = np_state == 'Andhra Pradesh'\n",
    "chhatisgarh= np_state == 'Chhattisgarh' \n",
    "\n",
    "\n",
    "\n",
    "a =np.sum(np_killed_wounded[Jharkhand])\n",
    "b = np.sum(np_killed_wounded[Odisha])\n",
    "c = np.sum(np_killed_wounded[Andhrapradesh])\n",
    "d = np.sum(np_killed_wounded[chhatisgarh])\n",
    "\n",
    "print(a+b+c+d)\n",
    "\n",
    "\n",
    "\n",
    "    \n",
    "    \n",
    " "
   ]
  }
 ],
 "metadata": {
  "kernelspec": {
   "display_name": "Python 3 (ipykernel)",
   "language": "python",
   "name": "python3"
  },
  "language_info": {
   "codemirror_mode": {
    "name": "ipython",
    "version": 3
   },
   "file_extension": ".py",
   "mimetype": "text/x-python",
   "name": "python",
   "nbconvert_exporter": "python",
   "pygments_lexer": "ipython3",
   "version": "3.9.12"
  }
 },
 "nbformat": 4,
 "nbformat_minor": 4
}
