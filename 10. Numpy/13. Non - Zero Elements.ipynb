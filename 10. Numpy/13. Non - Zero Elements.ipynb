{
 "cells": [
  {
   "cell_type": "code",
   "execution_count": 6,
   "metadata": {},
   "outputs": [
    {
     "name": "stdout",
     "output_type": "stream",
     "text": [
      "0 1 4 "
     ]
    }
   ],
   "source": [
    "import numpy as np\n",
    "a = [1,2,0,0,4,0] \n",
    "b = np.array(a)\n",
    "\n",
    "index = np.where(b != 0)\n",
    "for i in index:\n",
    "    for j in i:\n",
    "        print(j, end= ' ')\n"
   ]
  },
  {
   "cell_type": "code",
   "execution_count": 2,
   "metadata": {},
   "outputs": [
    {
     "name": "stdout",
     "output_type": "stream",
     "text": [
      "[0 1 4] "
     ]
    }
   ],
   "source": [
    "import numpy as np\n",
    "a = [1,2,0,0,4,0]\n",
    "b = np.array(a)\n",
    "ind = np.where(b!=0)\n",
    "for i in ind:\n",
    "    print(i,end=\" \")"
   ]
  }
 ],
 "metadata": {
  "kernelspec": {
   "display_name": "Python 3 (ipykernel)",
   "language": "python",
   "name": "python3"
  },
  "language_info": {
   "codemirror_mode": {
    "name": "ipython",
    "version": 3
   },
   "file_extension": ".py",
   "mimetype": "text/x-python",
   "name": "python",
   "nbconvert_exporter": "python",
   "pygments_lexer": "ipython3",
   "version": "3.9.12"
  }
 },
 "nbformat": 4,
 "nbformat_minor": 4
}
