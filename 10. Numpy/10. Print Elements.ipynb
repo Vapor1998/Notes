{
 "cells": [
  {
   "cell_type": "code",
   "execution_count": null,
   "metadata": {},
   "outputs": [],
   "source": [
    "import numpy as np\n",
    "input_=np.arange(1,21,1)\n",
    "input_=input_.reshape(4,5)\n",
    "\n",
    "\n",
    "for i in input_[2, 0:3]:\n",
    "    print(i, end= ' ')\n",
    "print()\n",
    "for i in input_[1:, 3]:\n",
    "    print(i, end = ' ')\n",
    "print()\n",
    "for i in input_[2:,]:\n",
    "    for j in i:\n",
    "        print(j, end=' ')\n",
    "print()\n",
    "for i in input_[1:3, 1:3]:\n",
    "    for j in i:\n",
    "        print(j, end= ' ')"
   ]
  }
 ],
 "metadata": {
  "kernelspec": {
   "display_name": "Python 3 (ipykernel)",
   "language": "python",
   "name": "python3"
  },
  "language_info": {
   "codemirror_mode": {
    "name": "ipython",
    "version": 3
   },
   "file_extension": ".py",
   "mimetype": "text/x-python",
   "name": "python",
   "nbconvert_exporter": "python",
   "pygments_lexer": "ipython3",
   "version": "3.9.12"
  }
 },
 "nbformat": 4,
 "nbformat_minor": 4
}
