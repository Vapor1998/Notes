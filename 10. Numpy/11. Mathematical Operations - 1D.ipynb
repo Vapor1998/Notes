{
 "cells": [
  {
   "cell_type": "code",
   "execution_count": 2,
   "metadata": {},
   "outputs": [
    {
     "name": "stdout",
     "output_type": "stream",
     "text": [
      "[1, 2, 3, 4, 5]\n",
      "[18  1 18  8 15]\n",
      "[19 15 16  3  5]\n"
     ]
    }
   ],
   "source": [
    "import numpy as np\n",
    "li = [1,2,3,4,5]\n",
    "\n",
    "a = np.random.randint(1,20,5)\n",
    "b = np.random.randint(1,20,5)\n",
    "\n",
    "print(li)\n",
    "print(a)\n",
    "print(b)\n"
   ]
  },
  {
   "cell_type": "code",
   "execution_count": 3,
   "metadata": {},
   "outputs": [
    {
     "name": "stdout",
     "output_type": "stream",
     "text": [
      "[2, 3, 4, 5, 6]\n",
      "[19  2 19  9 16]\n"
     ]
    }
   ],
   "source": [
    "## To add 1 to each element of list and numpy array\n",
    "\n",
    "## for list\n",
    "li = [i+1 for i in li]\n",
    "print(li)\n",
    "\n",
    "## for numpy\n",
    "a = a + 1\n",
    "print(a)"
   ]
  },
  {
   "cell_type": "code",
   "execution_count": 5,
   "metadata": {},
   "outputs": [
    {
     "name": "stdout",
     "output_type": "stream",
     "text": [
      "[38 17 35 12 21]\n"
     ]
    }
   ],
   "source": [
    "## for adding elements of two numpy  array.\n",
    "c = a + b\n",
    "print(c)"
   ]
  },
  {
   "cell_type": "code",
   "execution_count": 8,
   "metadata": {},
   "outputs": [
    {
     "name": "stdout",
     "output_type": "stream",
     "text": [
      "[  0 -13   3   6  11]\n"
     ]
    }
   ],
   "source": [
    "## for subtracting elements of two numpy array\n",
    "d = a - b\n",
    "print(d)"
   ]
  },
  {
   "cell_type": "code",
   "execution_count": 9,
   "metadata": {},
   "outputs": [
    {
     "name": "stdout",
     "output_type": "stream",
     "text": [
      "[361  30 304  27  80]\n"
     ]
    }
   ],
   "source": [
    "## for multiplying elements of two numpy array\n",
    "e = a * b\n",
    "print(e)"
   ]
  },
  {
   "cell_type": "code",
   "execution_count": 10,
   "metadata": {},
   "outputs": [
    {
     "name": "stdout",
     "output_type": "stream",
     "text": [
      "[1.         0.13333333 1.1875     3.         3.2       ]\n",
      "[1 0 1 3 3]\n"
     ]
    }
   ],
   "source": [
    "## for division and floor division of two numpy array\n",
    "\n",
    "f = a / b\n",
    "g = a // b\n",
    "\n",
    "print(f)\n",
    "print(g)"
   ]
  },
  {
   "cell_type": "code",
   "execution_count": 11,
   "metadata": {},
   "outputs": [
    {
     "name": "stdout",
     "output_type": "stream",
     "text": [
      "[-306639989      32768 1637415489        729    1048576]\n"
     ]
    }
   ],
   "source": [
    "## for power \n",
    "h = a ** b\n",
    "print(h)"
   ]
  },
  {
   "cell_type": "code",
   "execution_count": 13,
   "metadata": {},
   "outputs": [
    {
     "name": "stdout",
     "output_type": "stream",
     "text": [
      "[19  2 19  9 16]\n",
      "65\n",
      "13.0\n",
      "2\n",
      "1\n",
      "19\n",
      "0\n"
     ]
    }
   ],
   "source": [
    "## some other numpy array function\n",
    "\n",
    "print(a)\n",
    "\n",
    "print(a.sum())\n",
    "print(a.mean())  ## will give mean value of array a.\n",
    "print(a.min())\n",
    "\n",
    "print(a.argmin())  ## will give index of min element.\n",
    "print(a.max())\n",
    "\n",
    "print(a.argmax())  ## will give index of max value\n",
    "\n"
   ]
  },
  {
   "cell_type": "code",
   "execution_count": 14,
   "metadata": {},
   "outputs": [
    {
     "name": "stdout",
     "output_type": "stream",
     "text": [
      "[19  2 19  9 16]\n",
      "[19 15 16  3  5]\n"
     ]
    }
   ],
   "source": [
    "print(a)\n",
    "print(b)"
   ]
  },
  {
   "cell_type": "code",
   "execution_count": 15,
   "metadata": {},
   "outputs": [
    {
     "name": "stdout",
     "output_type": "stream",
     "text": [
      "[False False  True  True  True]\n",
      "[False  True False False False]\n",
      "[ True False False False False]\n"
     ]
    }
   ],
   "source": [
    "## Comparison operators on numpy array\n",
    "## it will do element by element comparison of numpy arrays and return output in the\n",
    "## form of array\n",
    "\n",
    "print(a>b)\n",
    "\n",
    "print(a<b)\n",
    "\n",
    "print(a == b)\n"
   ]
  },
  {
   "cell_type": "code",
   "execution_count": 16,
   "metadata": {},
   "outputs": [
    {
     "name": "stdout",
     "output_type": "stream",
     "text": [
      "[ True  True  True  True  True]\n",
      "[ True  True  True  True  True]\n",
      "[False False False False False]\n"
     ]
    }
   ],
   "source": [
    "## Logical operators on numpy arrays\n",
    "## will do operation element by element and give output \n",
    "\n",
    "print(np.logical_or(a, b))\n",
    "print(np.logical_and(a, b))\n",
    "print(np.logical_not(a))"
   ]
  }
 ],
 "metadata": {
  "kernelspec": {
   "display_name": "Python 3 (ipykernel)",
   "language": "python",
   "name": "python3"
  },
  "language_info": {
   "codemirror_mode": {
    "name": "ipython",
    "version": 3
   },
   "file_extension": ".py",
   "mimetype": "text/x-python",
   "name": "python",
   "nbconvert_exporter": "python",
   "pygments_lexer": "ipython3",
   "version": "3.9.12"
  }
 },
 "nbformat": 4,
 "nbformat_minor": 4
}
