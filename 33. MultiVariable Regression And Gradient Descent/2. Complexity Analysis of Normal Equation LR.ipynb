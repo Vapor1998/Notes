{
 "cells": [
  {
   "cell_type": "markdown",
   "metadata": {},
   "source": [
    "### Generic Case.  \n",
    "What about n dimensions? $$y = m_1x_1 + m_2x_2 + m_3x_3 .... m_{n+1}x_{n+1} $$ \n",
    "$where \\ c \\ = m_{n+1} \\ and \\ x_{n+1} \\ is \\ column \\ with \\ all \\ 1. $  \n",
    "We cant really differentiate wrt all possible numbers to find the equations.  \n",
    "There is actually formula for this.  \n",
    "So the way we llook at x is lets look at x as it has *m* training datapoints and it has *n* features."
   ]
  },
  {
   "cell_type": "markdown",
   "metadata": {},
   "source": [
    "So here *we will assume that it has n + 1 features with n original features and additional feature with all 1's.* Why we added that? we want to make it generic.  \n"
   ]
  },
  {
   "cell_type": "markdown",
   "metadata": {},
   "source": [
    "So if we want to find y, we need to find all the m's. In order to find m, which is coefficient array, there is a formula, $$ coef  = (X^TX)^{-1}*X^T*Y$$  \n",
    "where *$X^T$ = X reversed(matrix transpose)*  \n",
    "SO the dimensions of these are \n",
    "$X = m*(n + 1)$  \n",
    "$X^T = (n+1)*m$    \n",
    "$Y = m*1$"
   ]
  },
  {
   "cell_type": "markdown",
   "metadata": {},
   "source": [
    "But there is a small problem with this.  \n",
    "Lets take time complexity.  \n",
    "$Taking \\ transpose \\ -> O(mn)$,  \n",
    "$Multiplying \\ matrix \\ of \\ (X^TX)^{-1} \\ -> \\ O(mn^2)$  \n",
    "$Taking \\ reverse \\ of X^TX \\ -> O(n^3)$"
   ]
  },
  {
   "cell_type": "markdown",
   "metadata": {},
   "source": [
    "In a nutshell, if n increases, our time increases as well non--linearly. One factor had $m^3$ and one factor had $n^2$  \n",
    "So it will take a lot of time to compute which is not right.  "
   ]
  },
  {
   "cell_type": "markdown",
   "metadata": {},
   "source": []
  }
 ],
 "metadata": {
  "kernelspec": {
   "display_name": "Python 3",
   "language": "python",
   "name": "python3"
  },
  "language_info": {
   "codemirror_mode": {
    "name": "ipython",
    "version": 3
   },
   "file_extension": ".py",
   "mimetype": "text/x-python",
   "name": "python",
   "nbconvert_exporter": "python",
   "pygments_lexer": "ipython3",
   "version": "3.8.5"
  }
 },
 "nbformat": 4,
 "nbformat_minor": 4
}
