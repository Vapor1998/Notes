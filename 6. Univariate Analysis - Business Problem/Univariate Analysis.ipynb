{
 "cells": [
  {
   "cell_type": "markdown",
   "id": "90cf16ab",
   "metadata": {},
   "source": [
    "### `Apply =TRIMMEAN() on income column, which will give value 51773.11 and to find outlier using trim mean,  \n",
    "\n",
    "### Calculate Mean of the same Column by using =AVERAGE() which will give you: 52247.25, which is near to trim mean only. So no outlier.`\n",
    "\n",
    "`One of the way to find outlier is find average then trimmean with various variations such as 0.1,0.2,0.3 .. etc then compare it with the average if the value is close then no outlier if value is too high or compromising, then outlier exist`  \n",
    "`One is difference between mean and trim mean. If it is too high or too low, outlier exists.`"
   ]
  },
  {
   "cell_type": "markdown",
   "id": "79115178",
   "metadata": {},
   "source": [
    "## `Univariate on Continous Data`"
   ]
  },
  {
   "cell_type": "markdown",
   "id": "d7c5e86f",
   "metadata": {},
   "source": [
    "Lets say we want to trim the first 10 percentile and last 10 percentile of dataset  \n",
    "`=TRIMMEAN(range, .1)`"
   ]
  },
  {
   "cell_type": "markdown",
   "id": "9be80059",
   "metadata": {},
   "source": [
    "`We use pivot table for Categorical Univariate analysis.`  \n",
    "`We use binning for Continous Univariate Analysis.`"
   ]
  }
 ],
 "metadata": {
  "kernelspec": {
   "display_name": "Python 3 (ipykernel)",
   "language": "python",
   "name": "python3"
  },
  "language_info": {
   "codemirror_mode": {
    "name": "ipython",
    "version": 3
   },
   "file_extension": ".py",
   "mimetype": "text/x-python",
   "name": "python",
   "nbconvert_exporter": "python",
   "pygments_lexer": "ipython3",
   "version": "3.9.12"
  }
 },
 "nbformat": 4,
 "nbformat_minor": 5
}
