{
 "cells": [
  {
   "cell_type": "code",
   "execution_count": 4,
   "metadata": {},
   "outputs": [
    {
     "name": "stdout",
     "output_type": "stream",
     "text": [
      "200\n",
      "{'meta': {'name': 'openaq-api', 'license': 'CC BY 4.0d', 'website': 'https://u50g7n0cbj.execute-api.us-east-1.amazonaws.com/', 'page': 1, 'limit': 100, 'found': 2915}, 'results': [{'country': 'US', 'name': '007', 'city': '007', 'count': 1372, 'locations': 5}, {'country': 'US', 'name': '019', 'city': '019', 'count': 704, 'locations': 1}, {'country': 'US', 'name': '037', 'city': '037', 'count': 2683, 'locations': 23}, {'country': 'US', 'name': '039', 'city': '039', 'count': 380, 'locations': 1}, {'country': 'US', 'name': '047', 'city': '047', 'count': 101, 'locations': 1}, {'country': 'US', 'name': '051', 'city': '051', 'count': 330, 'locations': 7}, {'country': 'US', 'name': '077', 'city': '077', 'count': 670334, 'locations': 1}, {'country': 'CH', 'name': 'Aargau', 'city': 'Aargau', 'count': 4054, 'locations': 1}, {'country': 'MX', 'name': 'Abasolo', 'city': 'Abasolo', 'count': 32422943, 'locations': 2}, {'country': 'US', 'name': 'ABBEVILLE', 'city': 'ABBEVILLE', 'count': 4619, 'locations': 1}, {'country': 'US', 'name': 'Aberdeen', 'city': 'Aberdeen', 'count': 43018851, 'locations': 2}, {'country': 'GB', 'name': 'Aberdeen', 'city': 'Aberdeen', 'count': 161282393, 'locations': 3}, {'country': 'CI', 'name': 'Abidjan', 'city': 'Abidjan', 'count': 33997283, 'locations': 1}, {'country': 'AE', 'name': 'Abu Dhabi', 'city': 'Abu Dhabi', 'count': 67144963, 'locations': 1}, {'country': 'GH', 'name': 'Accra', 'city': 'Accra', 'count': 33890048, 'locations': 12}, {'country': 'ES', 'name': 'A Coruña', 'city': 'A Coruña', 'count': 484086496, 'locations': 5}, {'country': 'US', 'name': 'ADA', 'city': 'ADA', 'count': 29956005, 'locations': 2}, {'country': 'US', 'name': 'ADAIR', 'city': 'ADAIR', 'count': 32778896, 'locations': 1}, {'country': 'US', 'name': 'ADAMS', 'city': 'ADAMS', 'count': 28230007, 'locations': 2}, {'country': 'TR', 'name': 'Adana', 'city': 'Adana', 'count': 205462, 'locations': 6}, {'country': 'ET', 'name': 'Addis Ababa', 'city': 'Addis Ababa', 'count': 33951591, 'locations': 1}, {'country': 'AU', 'name': 'Adelaide', 'city': 'Adelaide', 'count': 663866393, 'locations': 8}, {'country': 'US', 'name': 'Adrian', 'city': 'Adrian', 'count': 30420094, 'locations': 1}, {'country': 'MK', 'name': 'Aerodrom Municipality', 'city': 'Aerodrom Municipality', 'count': 133028371, 'locations': 1}, {'country': 'IN', 'name': 'Agartala', 'city': 'Agartala', 'count': 24547260, 'locations': 1}, {'country': 'IN', 'name': 'Agra', 'city': 'Agra', 'count': 21512785, 'locations': 1}, {'country': 'TR', 'name': 'Ağrı', 'city': 'Ağrı', 'count': 133254, 'locations': 2}, {'country': 'MX', 'name': 'Aguascalientes', 'city': 'Aguascalientes', 'count': 2542, 'locations': 1}, {'country': 'IN', 'name': 'Ahmedabad', 'city': 'Ahmedabad', 'count': 44994565, 'locations': 3}, {'country': 'FR', 'name': 'Ain', 'city': 'Ain', 'count': 199201563, 'locations': 2}, {'country': 'FR', 'name': 'AIR BREIZH', 'city': 'AIR BREIZH', 'count': 65722, 'locations': 5}, {'country': 'FR', 'name': 'AIR NORMAND', 'city': 'AIR NORMAND', 'count': 364, 'locations': 2}, {'country': 'FR', 'name': 'AIR PACA', 'city': 'AIR PACA', 'count': 14347, 'locations': 6}, {'country': 'FR', 'name': 'AIRPARIF', 'city': 'AIRPARIF', 'count': 67888, 'locations': 3}, {'country': 'FR', 'name': 'AIR PAYS DE LA LOIRE', 'city': 'AIR PAYS DE LA LOIRE', 'count': 924, 'locations': 1}, {'country': 'FR', 'name': 'AIR RHONE ALPES', 'city': 'AIR RHONE ALPES', 'count': 71, 'locations': 4}, {'country': 'FR', 'name': 'Aisne', 'city': 'Aisne', 'count': 113498996, 'locations': 3}, {'country': 'IN', 'name': 'Aizawl', 'city': 'Aizawl', 'count': 26446446, 'locations': 1}, {'country': 'IN', 'name': 'Ajmer', 'city': 'Ajmer', 'count': 47066892, 'locations': 4}, {'country': 'US', 'name': 'Akron', 'city': 'Akron', 'count': 89012191, 'locations': 4}, {'country': 'IS', 'name': 'Akureyri', 'city': 'Akureyri', 'count': 94880152, 'locations': 1}, {'country': 'US', 'name': 'ALAMEDA', 'city': 'ALAMEDA', 'count': 138178595, 'locations': 1}, {'country': 'RO', 'name': 'Alba', 'city': 'Alba', 'count': 167071062, 'locations': 3}, {'country': 'ES', 'name': 'Albacete', 'city': 'Albacete', 'count': 146171307, 'locations': 1}, {'country': 'US', 'name': 'Albany', 'city': 'Albany', 'count': 24827728, 'locations': 1}, {'country': 'US', 'name': 'Albany-Lebanon', 'city': 'Albany-Lebanon', 'count': 60300633, 'locations': 2}, {'country': 'US', 'name': 'Albany-Schenectady-Troy', 'city': 'Albany-Schenectady-Troy', 'count': 58998285, 'locations': 3}, {'country': 'CA', 'name': 'ALBERTA', 'city': 'ALBERTA', 'count': 1378984033, 'locations': 29}, {'country': 'US', 'name': 'Albuquerque', 'city': 'Albuquerque', 'count': 579094846, 'locations': 7}, {'country': 'IT', 'name': 'Alessandria', 'city': 'Alessandria', 'count': 97808034, 'locations': 3}, {'country': 'NO', 'name': 'Ålesund', 'city': 'Ålesund', 'count': 93342466, 'locations': 3}, {'country': 'US', 'name': 'ALEXANDER', 'city': 'ALEXANDER', 'count': 41224, 'locations': 1}, {'country': 'IT', 'name': 'ALFONSINE', 'city': 'ALFONSINE', 'count': 36472, 'locations': 1}, {'country': 'DZ', 'name': 'Algiers', 'city': 'Algiers', 'count': 33544143, 'locations': 1}, {'country': 'ES', 'name': 'Alicante/Alacant', 'city': 'Alicante/Alacant', 'count': 696818926, 'locations': 10}, {'country': 'US', 'name': 'Allegan', 'city': 'Allegan', 'count': 29715900, 'locations': 1}, {'country': 'US', 'name': 'ALLEGANY', 'city': 'ALLEGANY', 'count': 32122, 'locations': 2}, {'country': 'US', 'name': 'Allentown-Bethlehem-Easton', 'city': 'Allentown-Bethlehem-Easton', 'count': 116272910, 'locations': 3}, {'country': 'FR', 'name': 'Allier', 'city': 'Allier', 'count': 116266271, 'locations': 3}, {'country': 'ES', 'name': 'Almería', 'city': 'Almería', 'count': 824959926, 'locations': 14}, {'country': 'FR', 'name': 'Alpes-de-Haute-Provence', 'city': 'Alpes-de-Haute-Provence', 'count': 192317276, 'locations': 2}, {'country': 'FR', 'name': 'Alpes-Maritimes', 'city': 'Alpes-Maritimes', 'count': 510758130, 'locations': 10}, {'country': 'CL', 'name': 'Alto Hospicio', 'city': 'Alto Hospicio', 'count': 31088545, 'locations': 3}, {'country': 'AU', 'name': 'Altona North', 'city': 'Altona North', 'count': 84563902, 'locations': 1}, {'country': 'AU', 'name': 'Altona North 1', 'city': 'Altona North 1', 'count': 81, 'locations': 1}, {'country': 'AU', 'name': 'Altona North 2', 'city': 'Altona North 2', 'count': 78, 'locations': 1}, {'country': 'US', 'name': 'Altoona', 'city': 'Altoona', 'count': 58678630, 'locations': 1}, {'country': 'MX', 'name': 'Álvaro Obregón', 'city': 'Álvaro Obregón', 'count': 143734742, 'locations': 1}, {'country': 'IN', 'name': 'Alwar', 'city': 'Alwar', 'count': 44715041, 'locations': 2}, {'country': 'LT', 'name': 'Alytus', 'city': 'Alytus', 'count': 646229, 'locations': 1}, {'country': 'US', 'name': 'AMADOR', 'city': 'AMADOR', 'count': 25500192, 'locations': 2}, {'country': 'IN', 'name': 'Amaravati', 'city': 'Amaravati', 'count': 48537963, 'locations': 2}, {'country': 'US', 'name': 'Amarillo', 'city': 'Amarillo', 'count': 25262749, 'locations': 2}, {'country': 'TR', 'name': 'Amasya', 'city': 'Amasya', 'count': 134064, 'locations': 4}, {'country': 'IN', 'name': 'Ambala ', 'city': 'Ambala ', 'count': 28715053, 'locations': 1}, {'country': 'BR', 'name': 'Americana', 'city': 'Americana', 'count': 58778994, 'locations': 2}, {'country': 'US', 'name': 'Americus', 'city': 'Americus', 'count': 22297, 'locations': 1}, {'country': 'US', 'name': 'Ames', 'city': 'Ames', 'count': 4773, 'locations': 1}, {'country': 'JO', 'name': 'Amman', 'city': 'Amman', 'count': 33335940, 'locations': 1}, {'country': 'IN', 'name': 'Amritsar', 'city': 'Amritsar', 'count': 77336644, 'locations': 2}, {'country': 'NL', 'name': 'Amsterdam', 'city': 'Amsterdam', 'count': 1040867923, 'locations': 14}, {'country': 'AT', 'name': 'Amt der K�rntner Landesregierung', 'city': 'Amt der K�rntner Landesregierung', 'count': 5228, 'locations': 4}, {'country': 'AT', 'name': 'Amt der Nieder�sterreichischen Landesregierung', 'city': 'Amt der Nieder�sterreichischen Landesregierung', 'count': 5936, 'locations': 1}, {'country': 'AT', 'name': 'Amt der Ober�sterreichischen Landesregierung', 'city': 'Amt der Ober�sterreichischen Landesregierung', 'count': 10765, 'locations': 1}, {'country': 'AT', 'name': 'Amt der Salzburger Landesregierung', 'city': 'Amt der Salzburger Landesregierung', 'count': 8904, 'locations': 1}, {'country': 'AT', 'name': 'Amt der Steierm�rkischen Landesregierung', 'city': 'Amt der Steierm�rkischen Landesregierung', 'count': 26707, 'locations': 3}, {'country': 'US', 'name': 'Anchorage', 'city': 'Anchorage', 'count': 150005877, 'locations': 3}, {'country': 'US', 'name': 'ANCHORAGE', 'city': 'ANCHORAGE', 'count': 828, 'locations': 1}, {'country': 'IT', 'name': 'Ancona', 'city': 'Ancona', 'count': 677048457, 'locations': 5}, {'country': 'CL', 'name': 'Andacollo', 'city': 'Andacollo', 'count': 92036527, 'locations': 4}, {'country': 'US', 'name': 'Anderson', 'city': 'Anderson', 'count': 58522484, 'locations': 3}, {'country': 'US', 'name': 'ANDERSON', 'city': 'ANDERSON', 'count': 21946, 'locations': 2}, {'country': 'US', 'name': 'ANDREW', 'city': 'ANDREW', 'count': 22223, 'locations': 1}, {'country': 'TR', 'name': 'Ankara', 'city': 'Ankara', 'count': 359493, 'locations': 8}, {'country': 'IN', 'name': 'Ankleshwar', 'city': 'Ankleshwar', 'count': 30503811, 'locations': 1}, {'country': 'US', 'name': 'Ann Arbor', 'city': 'Ann Arbor', 'count': 48743393, 'locations': 2}, {'country': 'US', 'name': 'ANNE ARUNDEL', 'city': 'ANNE ARUNDEL', 'count': 1772, 'locations': 1}, {'country': 'DE', 'name': 'Annette Pausch', 'city': 'Annette Pausch', 'count': 5923, 'locations': 1}, {'country': 'CN', 'name': 'Anqing', 'city': 'Anqing', 'count': 117473, 'locations': 3}, {'country': 'CL', 'name': 'Antofagasta', 'city': 'Antofagasta', 'count': 46306953, 'locations': 1}]}\n",
      "https://api.openaq.org/v1/cities\n"
     ]
    }
   ],
   "source": [
    "## Passing parameters in API\n",
    "\n",
    "\n",
    "import requests\n",
    "import json\n",
    "\n",
    "a = requests.get('https://api.openaq.org/v1/cities')\n",
    "print(a.status_code)\n",
    "print(a.json())\n",
    "\n",
    "print(a.url)"
   ]
  },
  {
   "cell_type": "code",
   "execution_count": 7,
   "metadata": {},
   "outputs": [
    {
     "name": "stdout",
     "output_type": "stream",
     "text": [
      "200\n",
      "{'meta': {'name': 'openaq-api', 'license': 'CC BY 4.0d', 'website': 'https://u50g7n0cbj.execute-api.us-east-1.amazonaws.com/', 'page': 1, 'limit': 100, 'found': 3}, 'results': [{'country': 'AE', 'name': 'Abu Dhabi', 'city': 'Abu Dhabi', 'count': 67144963, 'locations': 1}, {'country': 'AE', 'name': 'Dubai', 'city': 'Dubai', 'count': 66077305, 'locations': 1}, {'country': 'AE', 'name': 'N/A', 'city': 'N/A', 'count': 58855521, 'locations': 1}]}\n"
     ]
    }
   ],
   "source": [
    "## We pass parameters to filter the API calls\n",
    "## To pass parameter, we use requests.get(\"link\", params = {key:value})\n",
    "## Parameters should be in the form of key - value pair.\n",
    "\n",
    "a = requests.get('https://api.openaq.org/v1/cities', params = {'country': 'AE'})\n",
    "print(a.status_code)\n",
    "print(a.json())\n",
    "\n",
    "\n",
    "## Now we can see, results are filtered by country name.\n"
   ]
  },
  {
   "cell_type": "code",
   "execution_count": 8,
   "metadata": {},
   "outputs": [
    {
     "name": "stdout",
     "output_type": "stream",
     "text": [
      "200\n",
      "{'meta': {'name': 'openaq-api', 'license': 'CC BY 4.0d', 'website': 'https://u50g7n0cbj.execute-api.us-east-1.amazonaws.com/', 'page': 1, 'limit': 1, 'found': 3}, 'results': [{'country': 'AE', 'name': 'Abu Dhabi', 'city': 'Abu Dhabi', 'count': 67144963, 'locations': 1}]}\n"
     ]
    }
   ],
   "source": [
    "## More parameters.\n",
    "\n",
    "a = requests.get('https://api.openaq.org/v1/cities', params = {'country': 'AE', 'limit' : 1})\n",
    "\n",
    "## Limit will fetch the amount of data passed as argument.\n",
    "## So in this case, we got only one city in county AE.\n",
    "\n",
    "\n",
    "\n",
    "print(a.status_code)\n",
    "print(a.json())\n",
    "\n",
    "\n"
   ]
  }
 ],
 "metadata": {
  "kernelspec": {
   "display_name": "Python 3",
   "language": "python",
   "name": "python3"
  },
  "language_info": {
   "codemirror_mode": {
    "name": "ipython",
    "version": 3
   },
   "file_extension": ".py",
   "mimetype": "text/x-python",
   "name": "python",
   "nbconvert_exporter": "python",
   "pygments_lexer": "ipython3",
   "version": "3.8.5"
  }
 },
 "nbformat": 4,
 "nbformat_minor": 4
}
