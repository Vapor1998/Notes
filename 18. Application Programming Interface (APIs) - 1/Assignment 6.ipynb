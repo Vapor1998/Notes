{
 "cells": [
  {
   "cell_type": "code",
   "execution_count": 13,
   "metadata": {},
   "outputs": [
    {
     "name": "stdout",
     "output_type": "stream",
     "text": [
      "Premium Data structures and Algorithms [C++/Java/Python]\n",
      "Premium Machine Learning Course\n",
      "Ninja Competitive Programmer Track\n",
      "C++ Foundation with Data Structures\n",
      "Advanced  Front-End Web Development with React\n",
      "Premium Full Stack Web Development\n",
      "Premium Android App Development\n",
      "Premium Competitive Programming Course\n",
      "Premium Data Science Course\n",
      "Machine Learning & Deep Learning Course\n",
      "Full Stack Web Development\n",
      "JAVA Foundation with Data Structures\n",
      "Ninja Android Developer Career Track \n",
      "Interview Preparation Course\n",
      "Ninja  Web Developer Career Track - NodeJS & ReactJs\n",
      "Data Science & Machine Learning Complete\n",
      "Ninja  Web Developer Career Track - NodeJS\n",
      "Competitive Programming Course\n",
      "Ninja Data Scientist Career Track\n",
      "Android Development with Kotlin\n",
      "Python Foundation with Data Structures\n",
      "Ninja Machine Learning Engineer Career Track\n",
      "Aptitude Preparation Course\n"
     ]
    }
   ],
   "source": [
    "import requests\n",
    "\n",
    "p = requests.get('https://api.codingninjas.com/api/v3/courses')\n",
    "python_data = p.json()\n",
    "\n",
    "\n",
    "j = python_data['data']\n",
    "\n",
    "for i in j['courses']:\n",
    "    print(i['name'])"
   ]
  }
 ],
 "metadata": {
  "kernelspec": {
   "display_name": "Python 3",
   "language": "python",
   "name": "python3"
  },
  "language_info": {
   "codemirror_mode": {
    "name": "ipython",
    "version": 3
   },
   "file_extension": ".py",
   "mimetype": "text/x-python",
   "name": "python",
   "nbconvert_exporter": "python",
   "pygments_lexer": "ipython3",
   "version": "3.8.5"
  }
 },
 "nbformat": 4,
 "nbformat_minor": 4
}
