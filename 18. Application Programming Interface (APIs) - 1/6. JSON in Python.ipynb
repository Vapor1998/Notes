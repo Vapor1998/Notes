{
 "cells": [
  {
   "cell_type": "code",
   "execution_count": 3,
   "metadata": {},
   "outputs": [
    {
     "name": "stdout",
     "output_type": "stream",
     "text": [
      "{'Date': 'Thu, 08 Apr 2021 18:17:58 GMT', 'Content-Type': 'application/json', 'Transfer-Encoding': 'chunked', 'Connection': 'keep-alive', 'Server': 'nginx', 'X-Frame-Options': 'SAMEORIGIN', 'X-XSS-Protection': '1; mode=block', 'X-Content-Type-Options': 'nosniff', 'Access-Control-Allow-Origin': '*', 'Access-Control-Allow-Methods': 'POST, GET, PATCH, PUT, DELETE, OPTIONS', 'Access-Control-Allow-Headers': 'Access-Control-Allow-Headers, Origin,Accept, X-Requested-With, Content-Type, Access-Control-Request-Method, Access-Control-Request-Headers, Authorization', 'Access-Control-Max-Age': '1728000', 'Vary': 'Accept-Encoding', 'Content-Encoding': 'gzip', 'ETag': 'W/\"0e07c205c49e8f9af353f49883963918\"', 'Cache-Control': 'max-age=0, private, must-revalidate', 'X-Request-Id': '75b2b40f-57c9-48e8-b213-d44fbc785b9e', 'X-Runtime': '0.030287', 'Strict-Transport-Security': 'max-age=31536000; includeSubDomains;'}\n"
     ]
    }
   ],
   "source": [
    "import requests\n",
    "\n",
    "response = requests.get('https://codingninjas.in/api/v3/courses') \n",
    "\n",
    "header_info = response.headers\n",
    "\n",
    "print(header_info)"
   ]
  },
  {
   "cell_type": "code",
   "execution_count": 10,
   "metadata": {},
   "outputs": [
    {
     "name": "stdout",
     "output_type": "stream",
     "text": [
      "{'Student': 'Mohit'}\n",
      "<class 'dict'>\n",
      "Mohit\n"
     ]
    }
   ],
   "source": [
    "## To convert JSON to Python, we use JSON library in python.\n",
    "## For conversion, we use json.loads() where we pass json data as argument in it to convert json data.\n",
    "\n",
    "import json\n",
    "json_data = '{\"Student\":\"Mohit\"}'\n",
    "python_data = json.loads(json_data)\n",
    "print(python_data)\n",
    "\n",
    "print(type(python_data))\n",
    "\n",
    "## To access python data\n",
    "print(python_data['Student'])\n"
   ]
  },
  {
   "cell_type": "code",
   "execution_count": 13,
   "metadata": {},
   "outputs": [
    {
     "name": "stdout",
     "output_type": "stream",
     "text": [
      "101\n",
      "<class 'int'>\n"
     ]
    }
   ],
   "source": [
    "## Examples\n",
    "\n",
    "json_data = '{\"roll_number\": 101}'\n",
    "python_data = json.loads(json_data)\n",
    "print(python_data['roll_number'])\n",
    "print(type(python_data['roll_number']))\n",
    "\n",
    "\n",
    "## You can see the example of  json datatype of int which is '{\"roll_number\": 101}'."
   ]
  },
  {
   "cell_type": "code",
   "execution_count": 15,
   "metadata": {},
   "outputs": [
    {
     "name": "stdout",
     "output_type": "stream",
     "text": [
      "None\n",
      "<class 'NoneType'>\n"
     ]
    }
   ],
   "source": [
    "json_data = '{\"roll_number\": null}'   ## Null value from json will convert to None in python, not string.\n",
    "python_data = json.loads(json_data)\n",
    "print(python_data['roll_number'])\n",
    "print(type(python_data['roll_number']))\n",
    "\n",
    "## You can see the example of  json datatype of None which is '{\"roll_number\": null}'."
   ]
  },
  {
   "cell_type": "code",
   "execution_count": 20,
   "metadata": {},
   "outputs": [
    {
     "name": "stdout",
     "output_type": "stream",
     "text": [
      "{'Name': 'Mohit', 'Roll_No': 102}\n",
      "<class 'dict'>\n",
      "Mohit\n",
      "102\n"
     ]
    }
   ],
   "source": [
    "json_data = '{\"Student\": {\"Name\": \"Mohit\", \"Roll_No\": 102}}'\n",
    "\n",
    "python_data = json.loads(json_data)\n",
    "print(python_data['Student'])\n",
    "print(type(python_data['Student']))\n",
    "\n",
    "\n",
    "## Now we can further convert value to datatype which is dictionary below.\n",
    "\n",
    "student_details = python_data['Student']\n",
    "\n",
    "print(student_details['Name'])\n",
    "print(student_details['Roll_No'])\n",
    "\n"
   ]
  },
  {
   "cell_type": "code",
   "execution_count": 23,
   "metadata": {},
   "outputs": [
    {
     "name": "stdout",
     "output_type": "stream",
     "text": [
      "['Apple', 'Orange', 'Mango', 'Guava']\n",
      "<class 'list'>\n",
      "4\n",
      "Apple\n",
      "Orange\n",
      "Mango\n",
      "Guava\n"
     ]
    }
   ],
   "source": [
    "json_data = '{\"Fruits\": [\"Apple\", \"Orange\", \"Mango\", \"Guava\"]}'\n",
    "\n",
    "python_data = json.loads(json_data)\n",
    "print(python_data['Fruits'])\n",
    "print(type(python_data['Fruits']))\n",
    "\n",
    "## You can see the example of  json datatype of list which is '{\"Fruits\": [\"Apple\", \"Orange\", \"Mango\", \"Guava\"]}'\n",
    "## Array in JSON will convert to list, tuple in python.\n",
    "\n",
    "print(len(python_data['Fruits']))\n",
    "\n",
    "## More operations on data\n",
    "\n",
    "for i in python_data['Fruits']:\n",
    "    print(i)"
   ]
  }
 ],
 "metadata": {
  "kernelspec": {
   "display_name": "Python 3",
   "language": "python",
   "name": "python3"
  },
  "language_info": {
   "codemirror_mode": {
    "name": "ipython",
    "version": 3
   },
   "file_extension": ".py",
   "mimetype": "text/x-python",
   "name": "python",
   "nbconvert_exporter": "python",
   "pygments_lexer": "ipython3",
   "version": "3.8.5"
  }
 },
 "nbformat": 4,
 "nbformat_minor": 4
}
