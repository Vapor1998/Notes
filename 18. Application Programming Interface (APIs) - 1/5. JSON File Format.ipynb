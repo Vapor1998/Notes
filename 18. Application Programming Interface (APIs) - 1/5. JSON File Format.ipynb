{
 "cells": [
  {
   "cell_type": "markdown",
   "metadata": {},
   "source": [
    "JSON files are the files which we obtain from API calls.  \n",
    "To view that file, we need to add JSON Viewer extension in browser which is available in chrome store.\n"
   ]
  },
  {
   "cell_type": "code",
   "execution_count": 2,
   "metadata": {},
   "outputs": [
    {
     "name": "stdout",
     "output_type": "stream",
     "text": [
      "https://codingninjas.in/api/v3/courses\n"
     ]
    }
   ],
   "source": [
    "import requests\n",
    "\n",
    "response = requests.get('https://codingninjas.in/api/v3/courses') \n",
    "\n",
    "print(response.url)\n",
    "\n",
    "## To view json file, click the url obtained from API call and then enable JSON viewer in browser, you will see it.\n",
    "## In JSON file, data is in the form of Key- Value pair.\n",
    "## So the data types in the JSON are in key - value pair.To check search datatypes in JSON."
   ]
  },
  {
   "cell_type": "code",
   "execution_count": null,
   "metadata": {},
   "outputs": [],
   "source": []
  }
 ],
 "metadata": {
  "kernelspec": {
   "display_name": "Python 3",
   "language": "python",
   "name": "python3"
  },
  "language_info": {
   "codemirror_mode": {
    "name": "ipython",
    "version": 3
   },
   "file_extension": ".py",
   "mimetype": "text/x-python",
   "name": "python",
   "nbconvert_exporter": "python",
   "pygments_lexer": "ipython3",
   "version": "3.8.5"
  }
 },
 "nbformat": 4,
 "nbformat_minor": 4
}
