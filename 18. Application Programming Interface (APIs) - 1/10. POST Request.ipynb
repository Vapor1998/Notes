{
 "cells": [
  {
   "cell_type": "markdown",
   "metadata": {},
   "source": [
    "## POST Request\n",
    "\n",
    "Post() request is a kind of request which is used to change some data or we can make some changes or update something or    \n",
    "The post() method is used when you want to send some data to the server.\n",
    "  \n",
    "Any random api wont allow to change or update data, we need to take permission.  "
   ]
  },
  {
   "cell_type": "code",
   "execution_count": 1,
   "metadata": {},
   "outputs": [
    {
     "name": "stdout",
     "output_type": "stream",
     "text": [
      "<Response [200]>\n",
      "{\n",
      "  \"args\": {}, \n",
      "  \"data\": \"\", \n",
      "  \"files\": {}, \n",
      "  \"form\": {}, \n",
      "  \"headers\": {\n",
      "    \"Accept\": \"*/*\", \n",
      "    \"Accept-Encoding\": \"gzip, deflate\", \n",
      "    \"Content-Length\": \"0\", \n",
      "    \"Host\": \"httpbin.org\", \n",
      "    \"User-Agent\": \"python-requests/2.24.0\", \n",
      "    \"X-Amzn-Trace-Id\": \"Root=1-6071e483-63da0b3638671ae07d0da61a\"\n",
      "  }, \n",
      "  \"json\": null, \n",
      "  \"origin\": \"182.237.164.79\", \n",
      "  \"url\": \"http://httpbin.org/post\"\n",
      "}\n",
      "\n"
     ]
    }
   ],
   "source": [
    "import requests\n",
    "\n",
    "response = requests.post('http://httpbin.org/post')\n",
    "print(response)\n",
    "print(response.text)"
   ]
  },
  {
   "cell_type": "code",
   "execution_count": 2,
   "metadata": {},
   "outputs": [
    {
     "name": "stdout",
     "output_type": "stream",
     "text": [
      "<Response [200]>\n",
      "{\n",
      "  \"args\": {}, \n",
      "  \"data\": \"\", \n",
      "  \"files\": {}, \n",
      "  \"form\": {\n",
      "    \"Key1\": \"val1\", \n",
      "    \"key2\": \"val2\"\n",
      "  }, \n",
      "  \"headers\": {\n",
      "    \"Accept\": \"*/*\", \n",
      "    \"Accept-Encoding\": \"gzip, deflate\", \n",
      "    \"Content-Length\": \"19\", \n",
      "    \"Content-Type\": \"application/x-www-form-urlencoded\", \n",
      "    \"Host\": \"httpbin.org\", \n",
      "    \"User-Agent\": \"python-requests/2.24.0\", \n",
      "    \"X-Amzn-Trace-Id\": \"Root=1-6071e5a5-71b4695b13adb4324b6e3ec5\"\n",
      "  }, \n",
      "  \"json\": null, \n",
      "  \"origin\": \"182.237.164.79\", \n",
      "  \"url\": \"http://httpbin.org/post\"\n",
      "}\n",
      "\n"
     ]
    }
   ],
   "source": [
    "## In post(), we can pass any data by parameter data = value.\n",
    "## Value must be passed in the form of dictionary.\n",
    "\n",
    "response = requests.post('http://httpbin.org/post', data = {'Key1':'val1', 'key2':'val2'})\n",
    "\n",
    "print(response)\n",
    "print(response.text)\n",
    "\n",
    "## As we can see, data was entered in 'form'.\n"
   ]
  },
  {
   "cell_type": "code",
   "execution_count": 3,
   "metadata": {},
   "outputs": [
    {
     "name": "stdout",
     "output_type": "stream",
     "text": [
      "<Response [200]>\n",
      "{\n",
      "  \"args\": {}, \n",
      "  \"data\": \"\", \n",
      "  \"files\": {}, \n",
      "  \"form\": {\n",
      "    \"Key1\": [\n",
      "      \"val1\", \n",
      "      \"val3\"\n",
      "    ], \n",
      "    \"key2\": \"val2\"\n",
      "  }, \n",
      "  \"headers\": {\n",
      "    \"Accept\": \"*/*\", \n",
      "    \"Accept-Encoding\": \"gzip, deflate\", \n",
      "    \"Content-Length\": \"29\", \n",
      "    \"Content-Type\": \"application/x-www-form-urlencoded\", \n",
      "    \"Host\": \"httpbin.org\", \n",
      "    \"User-Agent\": \"python-requests/2.24.0\", \n",
      "    \"X-Amzn-Trace-Id\": \"Root=1-6071e604-5ac901ff7c6106cf24411dbf\"\n",
      "  }, \n",
      "  \"json\": null, \n",
      "  \"origin\": \"182.237.164.79\", \n",
      "  \"url\": \"http://httpbin.org/post\"\n",
      "}\n",
      "\n"
     ]
    }
   ],
   "source": [
    "## As we know, we want to pass two different values for key1.\n",
    "## SO there are possible ways.\n",
    "\n",
    "## One way is using list.\n",
    "response = requests.post('http://httpbin.org/post', data = {'Key1':['val1', 'val3'], 'key2':'val2'})\n",
    "\n",
    "print(response)\n",
    "print(response.text)"
   ]
  },
  {
   "cell_type": "code",
   "execution_count": 6,
   "metadata": {},
   "outputs": [
    {
     "name": "stdout",
     "output_type": "stream",
     "text": [
      "<Response [200]>\n",
      "{\n",
      "  \"args\": {}, \n",
      "  \"data\": \"\", \n",
      "  \"files\": {}, \n",
      "  \"form\": {\n",
      "    \"key1\": [\n",
      "      \"val1\", \n",
      "      \"val2\"\n",
      "    ], \n",
      "    \"key2\": \"val3\"\n",
      "  }, \n",
      "  \"headers\": {\n",
      "    \"Accept\": \"*/*\", \n",
      "    \"Accept-Encoding\": \"gzip, deflate\", \n",
      "    \"Content-Length\": \"29\", \n",
      "    \"Content-Type\": \"application/x-www-form-urlencoded\", \n",
      "    \"Host\": \"httpbin.org\", \n",
      "    \"User-Agent\": \"python-requests/2.24.0\", \n",
      "    \"X-Amzn-Trace-Id\": \"Root=1-6071e6b7-58b6ce0d6f35947b53ef4624\"\n",
      "  }, \n",
      "  \"json\": null, \n",
      "  \"origin\": \"182.237.164.79\", \n",
      "  \"url\": \"http://httpbin.org/post\"\n",
      "}\n",
      "\n"
     ]
    }
   ],
   "source": [
    "## Another way is to pass list of tuples instead of dictionary.\n",
    "## Each tuples contain key value pair each.\n",
    "\n",
    "response = requests.post('http://httpbin.org/post', data = [('key1', 'val1'), ('key1', 'val2'), ('key2', 'val3')])\n",
    "\n",
    "print(response)\n",
    "print(response.text)\n",
    "\n",
    "## As we can see, key1 has two values val1 and val2. "
   ]
  },
  {
   "cell_type": "code",
   "execution_count": 7,
   "metadata": {},
   "outputs": [
    {
     "name": "stdout",
     "output_type": "stream",
     "text": [
      "<Response [201]>\n",
      "{\n",
      "  \"id\": 101\n",
      "}\n"
     ]
    }
   ],
   "source": [
    "## Lets take example of another dummy website\n",
    "\n",
    "r = requests.post('https://jsonplaceholder.typicode.com/posts')\n",
    "print(r)\n",
    "print(r.text)\n",
    "\n",
    "## As we can see, it has created post with id = 101"
   ]
  },
  {
   "cell_type": "code",
   "execution_count": 8,
   "metadata": {},
   "outputs": [
    {
     "name": "stdout",
     "output_type": "stream",
     "text": [
      "<Response [201]>\n",
      "{\n",
      "  \"userId\": \"2\",\n",
      "  \"<built-in function id>\": \"200\",\n",
      "  \"title\": \"test\",\n",
      "  \"id\": 101\n",
      "}\n"
     ]
    }
   ],
   "source": [
    "## We can also pass data.\n",
    "\n",
    "r = requests.post('https://jsonplaceholder.typicode.com/posts', data = {'userId':2, id :200, 'title': 'test'})\n",
    "print(r)\n",
    "print(r.text)\n",
    "\n",
    "## As we can see, we have passed data like userId, title, we have also passed id = 200\n",
    "## but the id was 101, so it created builtin id = 200, that other id was automatically generated, we have passed a user \n",
    "## defined id which is different.\n",
    "\n",
    "## Also note that any kind of changes we are making here is temprorary, "
   ]
  },
  {
   "cell_type": "code",
   "execution_count": null,
   "metadata": {},
   "outputs": [],
   "source": []
  },
  {
   "cell_type": "code",
   "execution_count": null,
   "metadata": {},
   "outputs": [],
   "source": []
  }
 ],
 "metadata": {
  "kernelspec": {
   "display_name": "Python 3",
   "language": "python",
   "name": "python3"
  },
  "language_info": {
   "codemirror_mode": {
    "name": "ipython",
    "version": 3
   },
   "file_extension": ".py",
   "mimetype": "text/x-python",
   "name": "python",
   "nbconvert_exporter": "python",
   "pygments_lexer": "ipython3",
   "version": "3.8.5"
  }
 },
 "nbformat": 4,
 "nbformat_minor": 4
}
