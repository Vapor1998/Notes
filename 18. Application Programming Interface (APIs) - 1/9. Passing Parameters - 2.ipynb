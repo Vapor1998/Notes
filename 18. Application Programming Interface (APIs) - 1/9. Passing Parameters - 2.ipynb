{
 "cells": [
  {
   "cell_type": "code",
   "execution_count": 4,
   "metadata": {},
   "outputs": [
    {
     "name": "stdout",
     "output_type": "stream",
     "text": [
      "403\n"
     ]
    }
   ],
   "source": [
    "import requests\n",
    "import json\n",
    "\n",
    "a = requests.get('https://www.metaweather.com/api/location/search/')\n",
    "print(a.status_code)\n",
    "\n",
    "## Here it shows 403 which means forbidden and it requires parameters to give response.\n",
    "## There are some calls where parameters are necessary to get the required response."
   ]
  },
  {
   "cell_type": "code",
   "execution_count": 7,
   "metadata": {},
   "outputs": [
    {
     "name": "stdout",
     "output_type": "stream",
     "text": [
      "200\n",
      "https://www.metaweather.com/api/location/search/?query=Delhi\n",
      "[{'title': 'New Delhi', 'location_type': 'City', 'woeid': 28743736, 'latt_long': '28.643999,77.091003'}]\n"
     ]
    }
   ],
   "source": [
    "## TO know the params, we need to visit www.metaweather.com/api/ to check the query,\n",
    "## from there, we checked that there are many parameters and one of them is 'query' = 'location name' \n",
    "## so we pass that in the params.\n",
    "\n",
    "a = requests.get('https://www.metaweather.com/api/location/search/', params = {\"query\": 'Delhi'})\n",
    "print(a.status_code)\n",
    "\n",
    "## As we can see, we passed query as Delhi which gives successful response.\n",
    "## Now lets check the url and content.\n",
    "\n",
    "print(a.url)\n",
    "print(a.json())"
   ]
  },
  {
   "cell_type": "code",
   "execution_count": 8,
   "metadata": {},
   "outputs": [
    {
     "name": "stdout",
     "output_type": "stream",
     "text": [
      "403\n"
     ]
    }
   ],
   "source": [
    "## Now, lets check the Nasa api.\n",
    "\n",
    "a = requests.get('https://api.nasa.gov/planetary/apod')\n",
    "print(a.status_code)\n",
    "\n",
    "## As we can see, it shows 403 which means it is forbidden and requires some parameters to give the desired response.\n",
    "## Now, to check which parameters are required, we visit api.nasa.gov/api.html, there we checks that\n",
    "## parameters are many and one of it is api_key = DEMO_KEY.\n"
   ]
  },
  {
   "cell_type": "code",
   "execution_count": 9,
   "metadata": {},
   "outputs": [
    {
     "name": "stdout",
     "output_type": "stream",
     "text": [
      "200\n",
      "https://api.nasa.gov/planetary/apod?api_key=DEMO_KEY\n"
     ]
    }
   ],
   "source": [
    "a = requests.get('https://api.nasa.gov/planetary/apod', params = {'api_key' : 'DEMO_KEY'})\n",
    "print(a.status_code)\n",
    "print(a.url)\n",
    "\n",
    "## Now as we can see, call is successful\n",
    "## To get your own api_key from nasa website, we need to sign up as we can see the page while we open the website.\n",
    "## To use that api_key we need to write the same code as above, and on the place of 'DEMO_KEY', we place our\n",
    "## own generated key."
   ]
  },
  {
   "cell_type": "code",
   "execution_count": null,
   "metadata": {},
   "outputs": [],
   "source": []
  }
 ],
 "metadata": {
  "kernelspec": {
   "display_name": "Python 3",
   "language": "python",
   "name": "python3"
  },
  "language_info": {
   "codemirror_mode": {
    "name": "ipython",
    "version": 3
   },
   "file_extension": ".py",
   "mimetype": "text/x-python",
   "name": "python",
   "nbconvert_exporter": "python",
   "pygments_lexer": "ipython3",
   "version": "3.8.5"
  }
 },
 "nbformat": 4,
 "nbformat_minor": 4
}
