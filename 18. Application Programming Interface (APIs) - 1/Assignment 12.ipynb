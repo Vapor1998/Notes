{
 "cells": [
  {
   "cell_type": "code",
   "execution_count": 24,
   "metadata": {},
   "outputs": [
    {
     "name": "stdout",
     "output_type": "stream",
     "text": [
      "200\n"
     ]
    }
   ],
   "source": [
    "## Print the required output in given format\n",
    "\n",
    "import requests\n",
    "import json\n",
    "\n",
    "a = requests.get('https://holidayapi.com/v1/holidays', params = {'key':'301506b0-9b11-4e70-b76f-ec8edc32aff8', 'country': 'IN','year':2020,'month':10, 'day':2})\n",
    "print(a.status_code)\n"
   ]
  },
  {
   "cell_type": "code",
   "execution_count": 19,
   "metadata": {},
   "outputs": [
    {
     "name": "stdout",
     "output_type": "stream",
     "text": [
      "Mahatma Gandhi Jayanti\n"
     ]
    }
   ],
   "source": [
    "## Print the required output in given format\n",
    "import requests\n",
    "p=requests.get(\"https://holidayapi.com/v1/holidays\",params={\"key\":\"9f3bb457-de30-4155-bd1f-046157011fdb\",\"country\":\"IN\",'year':2020,'month':10,'day':2})\n",
    "p=p.json()\n",
    "\n",
    "p=p[\"holidays\"]\n",
    "print(p[0][\"name\"])"
   ]
  }
 ],
 "metadata": {
  "kernelspec": {
   "display_name": "Python 3",
   "language": "python",
   "name": "python3"
  },
  "language_info": {
   "codemirror_mode": {
    "name": "ipython",
    "version": 3
   },
   "file_extension": ".py",
   "mimetype": "text/x-python",
   "name": "python",
   "nbconvert_exporter": "python",
   "pygments_lexer": "ipython3",
   "version": "3.8.5"
  }
 },
 "nbformat": 4,
 "nbformat_minor": 4
}
