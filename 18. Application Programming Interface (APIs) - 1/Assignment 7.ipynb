{
 "cells": [
  {
   "cell_type": "code",
   "execution_count": 3,
   "metadata": {},
   "outputs": [
    {
     "name": "stdout",
     "output_type": "stream",
     "text": [
      "Achieve Upto 100% Scholarship | \r\n",
      "Admission cum Scholarship Test for Advanced Summer Courses\n"
     ]
    }
   ],
   "source": [
    "import requests\n",
    "p = requests.get('https://api.codingninjas.com/api/v3/events?event_category=ALL_EVENTS&event_sub_category=All%20Time%20Favorites&tag_list=&offset=0&_ga=2.240330433.316590698.1617384787-2045598476.1598057574')\n",
    "\n",
    "\n",
    "python_data = p.json()\n",
    "\n",
    "j = python_data['data']\n",
    "\n",
    "\n",
    "k = 0\n",
    "for i in j['events']:\n",
    "    print(i['short_desc'])\n",
    "    k +=1\n",
    "    if k == 1:\n",
    "        break\n",
    "    "
   ]
  }
 ],
 "metadata": {
  "kernelspec": {
   "display_name": "Python 3",
   "language": "python",
   "name": "python3"
  },
  "language_info": {
   "codemirror_mode": {
    "name": "ipython",
    "version": 3
   },
   "file_extension": ".py",
   "mimetype": "text/x-python",
   "name": "python",
   "nbconvert_exporter": "python",
   "pygments_lexer": "ipython3",
   "version": "3.8.5"
  }
 },
 "nbformat": 4,
 "nbformat_minor": 4
}
