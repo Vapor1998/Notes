{
 "cells": [
  {
   "cell_type": "code",
   "execution_count": null,
   "metadata": {},
   "outputs": [],
   "source": [
    "n = int(input())\n",
    "n1 = 0\n",
    "n2 = 1\n",
    "if n ==0  or n == 1:\n",
    "    print(0)\n",
    "else:\n",
    "    c = 0\n",
    "    sum = 0\n",
    "    arr = []\n",
    "    for i in range(n):\n",
    "        c = n1 + n2\n",
    "        arr.append(c)\n",
    "        n1 = n1 + n2\n",
    "        n2 = n1 - n2\n",
    "    \n",
    "    for i in arr:\n",
    "        if i % 2 == 0 and i <= n:\n",
    "            sum += i\n",
    "            \n",
    "        \n",
    "    print(sum)\n",
    "\n",
    "    \n"
   ]
  },
  {
   "cell_type": "code",
   "execution_count": 5,
   "metadata": {},
   "outputs": [
    {
     "name": "stdout",
     "output_type": "stream",
     "text": [
      "10\n",
      "832040\n"
     ]
    }
   ],
   "source": [
    "n = int(input())\n",
    "n1 = 0\n",
    "n2 = 2\n",
    "\n",
    "sum = 0\n",
    "\n",
    "for i in range(n):\n",
    "    sum = n1 + n2\n",
    "    n1 += n2\n",
    "    n2 = 4*n1 - n2\n",
    "    \n",
    "    \n",
    "            \n",
    "        \n",
    "print(sum)\n"
   ]
  },
  {
   "cell_type": "code",
   "execution_count": null,
   "metadata": {},
   "outputs": [],
   "source": []
  },
  {
   "cell_type": "code",
   "execution_count": null,
   "metadata": {},
   "outputs": [],
   "source": []
  }
 ],
 "metadata": {
  "kernelspec": {
   "display_name": "Python 3",
   "language": "python",
   "name": "python3"
  },
  "language_info": {
   "codemirror_mode": {
    "name": "ipython",
    "version": 3
   },
   "file_extension": ".py",
   "mimetype": "text/x-python",
   "name": "python",
   "nbconvert_exporter": "python",
   "pygments_lexer": "ipython3",
   "version": "3.8.5"
  }
 },
 "nbformat": 4,
 "nbformat_minor": 4
}
