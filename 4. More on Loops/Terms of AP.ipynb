{
 "cells": [
  {
   "cell_type": "code",
   "execution_count": 21,
   "metadata": {},
   "outputs": [
    {
     "name": "stdout",
     "output_type": "stream",
     "text": [
      "10\n",
      "5\n",
      "11\n",
      "14\n",
      "17\n",
      "23\n",
      "26\n",
      "29\n",
      "35\n",
      "38\n",
      "41\n"
     ]
    }
   ],
   "source": [
    "n = int(input())\n",
    "i = 1\n",
    "while i <= n:\n",
    "    x = 3 * i + 2\n",
    "    if x % 4 != 0:\n",
    "        print(x)\n",
    "    else:\n",
    "        n += 1\n",
    "    i += 1\n",
    "\n",
    "    \n",
    "## Note\n",
    "## We can increase value of given condition only in while loop where we increase it by 1 when we \n",
    "## dont find the solution.\n",
    "    "
   ]
  },
  {
   "cell_type": "code",
   "execution_count": null,
   "metadata": {},
   "outputs": [],
   "source": []
  },
  {
   "cell_type": "code",
   "execution_count": 3,
   "metadata": {},
   "outputs": [
    {
     "name": "stdout",
     "output_type": "stream",
     "text": [
      "10\n",
      "2\n",
      "5\n",
      "11\n",
      "14\n",
      "17\n",
      "23\n",
      "26\n",
      "29\n"
     ]
    }
   ],
   "source": [
    "n = int(input())\n",
    "k = 0\n",
    "for i in range(n+1):\n",
    "    x = 3 * i + 2\n",
    "    if x %4 == 0:\n",
    "        continue\n",
    "    if x % 4 != 0:\n",
    "        print(x)\n",
    "        \n",
    "\n",
    "        "
   ]
  }
 ],
 "metadata": {
  "kernelspec": {
   "display_name": "Python 3",
   "language": "python",
   "name": "python3"
  },
  "language_info": {
   "codemirror_mode": {
    "name": "ipython",
    "version": 3
   },
   "file_extension": ".py",
   "mimetype": "text/x-python",
   "name": "python",
   "nbconvert_exporter": "python",
   "pygments_lexer": "ipython3",
   "version": "3.8.5"
  }
 },
 "nbformat": 4,
 "nbformat_minor": 4
}
