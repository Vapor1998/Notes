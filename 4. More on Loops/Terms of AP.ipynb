{
 "cells": [
  {
   "cell_type": "code",
   "execution_count": 1,
   "metadata": {},
   "outputs": [
    {
     "name": "stdout",
     "output_type": "stream",
     "text": [
      "10\n",
      "5 11 14 17 23 26 29 35 38 41 "
     ]
    }
   ],
   "source": [
    "n = int(input())\n",
    "i = 1\n",
    "while i <= n:\n",
    "    a = 3 * i + 2\n",
    "    if a % 4 != 0:\n",
    "        print(a, end = ' ')\n",
    "    else:\n",
    "        n += 1\n",
    "    i += 1\n",
    "\n",
    "    \n",
    "## Note\n",
    "## We can increase value of given condition only in while loop where we increase it by 1 when we \n",
    "## dont find the solution.\n",
    "    "
   ]
  },
  {
   "cell_type": "code",
   "execution_count": 5,
   "metadata": {},
   "outputs": [
    {
     "name": "stdout",
     "output_type": "stream",
     "text": [
      "10\n",
      "5 11 14 17 23 26 29 35 38 41 "
     ]
    }
   ],
   "source": [
    "N = int(input())\n",
    "i = 1\n",
    "count = 1\n",
    "while count <= N:\n",
    "    series = (3 * i) + 2\n",
    "    if series % 4 != 0:\n",
    "        print(series,end = \" \")\n",
    "    else:\n",
    "        N+=1\n",
    "    i+=1\n",
    "    count+=1"
   ]
  },
  {
   "cell_type": "code",
   "execution_count": 3,
   "metadata": {},
   "outputs": [],
   "source": [
    "\n",
    "\n",
    "\n",
    "n=1\n",
    "count=0\n",
    "while(count>=n):\n",
    "    a = 3 * n + 2\n",
    "    if n%4!=0:\n",
    "        print(i) \n",
    "n=n+1"
   ]
  }
 ],
 "metadata": {
  "kernelspec": {
   "display_name": "Python 3 (ipykernel)",
   "language": "python",
   "name": "python3"
  },
  "language_info": {
   "codemirror_mode": {
    "name": "ipython",
    "version": 3
   },
   "file_extension": ".py",
   "mimetype": "text/x-python",
   "name": "python",
   "nbconvert_exporter": "python",
   "pygments_lexer": "ipython3",
   "version": "3.9.12"
  }
 },
 "nbformat": 4,
 "nbformat_minor": 4
}
