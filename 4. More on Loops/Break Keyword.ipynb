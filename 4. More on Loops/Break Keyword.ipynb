{
 "cells": [
  {
   "cell_type": "markdown",
   "metadata": {},
   "source": [
    "## Break\n"
   ]
  },
  {
   "cell_type": "markdown",
   "metadata": {},
   "source": [
    "syntax:\n",
    "    break\n",
    "It is used with loops and it breaks out of the loop if a \n",
    "particular condition is met.\n",
    "For eg.\n",
    "        \n",
    "while condition:\n",
    "    while condition:\n",
    "        break\n",
    "        \n",
    "In the above eg, break statement will come out of the inner while loop,\n",
    "while the outer while loop will complete its condition without break.\n"
   ]
  },
  {
   "cell_type": "code",
   "execution_count": 3,
   "metadata": {},
   "outputs": [
    {
     "name": "stdout",
     "output_type": "stream",
     "text": [
      "1\n",
      "2\n",
      "3\n",
      "4\n"
     ]
    }
   ],
   "source": [
    "## Eg 1\n",
    "i = 1\n",
    "while i <= 10:\n",
    "    if i == 5:\n",
    "        break\n",
    "    print(i)\n",
    "    i += 1"
   ]
  },
  {
   "cell_type": "code",
   "execution_count": 8,
   "metadata": {},
   "outputs": [
    {
     "name": "stdout",
     "output_type": "stream",
     "text": [
      "12345678\n",
      "Not Prime\n"
     ]
    }
   ],
   "source": [
    "n = int(input())\n",
    "d = 2\n",
    "flag =  False\n",
    "while d < n:\n",
    "    if d % 2 == 0:\n",
    "        flag = True\n",
    "        break\n",
    "        \n",
    "    d += 1\n",
    "if flag:\n",
    "    print(\"Not Prime\")\n",
    "else:\n",
    "    print(\"Prime\")"
   ]
  },
  {
   "cell_type": "code",
   "execution_count": 9,
   "metadata": {},
   "outputs": [
    {
     "name": "stdout",
     "output_type": "stream",
     "text": [
      "10\n",
      "2\n",
      "3\n",
      "5\n",
      "7\n"
     ]
    }
   ],
   "source": [
    "n = int(input())\n",
    "k= 2\n",
    "while k <= n:\n",
    "    d= 2\n",
    "    flag = False\n",
    "    while d < k :\n",
    "        if k % d == 0:\n",
    "            flag = True\n",
    "            break\n",
    "        d += 1\n",
    "    if not(flag):\n",
    "        print(k)\n",
    "    k += 1"
   ]
  }
 ],
 "metadata": {
  "kernelspec": {
   "display_name": "Python 3",
   "language": "python",
   "name": "python3"
  },
  "language_info": {
   "codemirror_mode": {
    "name": "ipython",
    "version": 3
   },
   "file_extension": ".py",
   "mimetype": "text/x-python",
   "name": "python",
   "nbconvert_exporter": "python",
   "pygments_lexer": "ipython3",
   "version": "3.8.5"
  }
 },
 "nbformat": 4,
 "nbformat_minor": 4
}
