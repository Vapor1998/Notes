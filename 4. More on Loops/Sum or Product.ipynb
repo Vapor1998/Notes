{
 "cells": [
  {
   "cell_type": "code",
   "execution_count": 6,
   "metadata": {},
   "outputs": [
    {
     "name": "stdout",
     "output_type": "stream",
     "text": [
      "10\n",
      "2\n",
      "3628800\n"
     ]
    }
   ],
   "source": [
    "n = int(input())\n",
    "c = int(input())\n",
    "if c == 1:\n",
    "    for i in range(0, n ):\n",
    "        n = n + i\n",
    "    print(n)\n",
    "elif c == 2:\n",
    "    for i in range(1, n ):\n",
    "        n = n  * i\n",
    "    print(n)\n",
    "else:\n",
    "    print('-1')\n",
    "        "
   ]
  }
 ],
 "metadata": {
  "kernelspec": {
   "display_name": "Python 3 (ipykernel)",
   "language": "python",
   "name": "python3"
  },
  "language_info": {
   "codemirror_mode": {
    "name": "ipython",
    "version": 3
   },
   "file_extension": ".py",
   "mimetype": "text/x-python",
   "name": "python",
   "nbconvert_exporter": "python",
   "pygments_lexer": "ipython3",
   "version": "3.9.12"
  }
 },
 "nbformat": 4,
 "nbformat_minor": 4
}
