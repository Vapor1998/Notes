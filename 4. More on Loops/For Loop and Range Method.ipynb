{
 "cells": [
  {
   "cell_type": "markdown",
   "metadata": {},
   "source": [
    "## For Loop\n"
   ]
  },
  {
   "cell_type": "markdown",
   "metadata": {},
   "source": [
    "syntax:\n",
    "    \n",
    "    for i in x:     Where x is a squence for eg. \"abcdefghi\"\n",
    "    \n",
    "    It will go through every character in sequence and it will end after last element of sequence.\n",
    "    \n",
    "    \n",
    "range():\n",
    "This method will create sequence. It takes 3 arguments, \n",
    "\n",
    "syntax:\n",
    "       range(start, stop, stride)\n",
    "          start: It takes start of sequence\n",
    "          stop: It takes stopping point of sequence.It actually stops at n - 1 where n is stopping \n",
    "                point.\n",
    "          stride: It takes on how much we want to increment the sequence.\n",
    "          \n",
    "    "
   ]
  },
  {
   "cell_type": "code",
   "execution_count": 3,
   "metadata": {},
   "outputs": [
    {
     "name": "stdout",
     "output_type": "stream",
     "text": [
      "a\n",
      "b\n",
      "c\n",
      "d\n"
     ]
    }
   ],
   "source": [
    "s = 'abcd'\n",
    "for c in s:   # s is a sequence which has string of 4 elements.\n",
    "    print(c)"
   ]
  },
  {
   "cell_type": "code",
   "execution_count": 7,
   "metadata": {},
   "outputs": [
    {
     "name": "stdout",
     "output_type": "stream",
     "text": [
      "4\n",
      "0\n",
      "1\n",
      "2\n",
      "3\n",
      "4\n"
     ]
    }
   ],
   "source": [
    "## giving all three values to range\n",
    "n = int(input())\n",
    "for i in range(0, n + 1, 1):    ## We need sequence from 0 to n, to create it we use range method.\n",
    "    print(i)\n",
    "    "
   ]
  },
  {
   "cell_type": "code",
   "execution_count": 8,
   "metadata": {},
   "outputs": [
    {
     "name": "stdout",
     "output_type": "stream",
     "text": [
      "4\n",
      "0\n",
      "1\n",
      "2\n",
      "3\n",
      "4\n"
     ]
    }
   ],
   "source": [
    "## If we give only one value, it takes as stop value.\n",
    "n = int(input())\n",
    "for i in range(n + 1):    ## By default the start of range is 0 and stride is 1.\n",
    "    print(i)              ## Default value of print is end='\\n' where \\n is new line.\n",
    "    "
   ]
  },
  {
   "cell_type": "code",
   "execution_count": null,
   "metadata": {},
   "outputs": [],
   "source": [
    "n = int(input())\n",
    "for i in range(1, n + 1):    ## If we give two values to range, it uses first one as start and \n",
    "                             ## and second one as stop while stride is default to 1.\n",
    "    print(i)     "
   ]
  },
  {
   "cell_type": "code",
   "execution_count": 10,
   "metadata": {},
   "outputs": [
    {
     "name": "stdout",
     "output_type": "stream",
     "text": [
      "4\n",
      "4\n",
      "3\n",
      "2\n",
      "1\n"
     ]
    }
   ],
   "source": [
    "## Numbers from n to 1\n",
    "n = int(input())\n",
    "for i in range(n, 0, -1):\n",
    "    print(i)"
   ]
  }
 ],
 "metadata": {
  "kernelspec": {
   "display_name": "Python 3",
   "language": "python",
   "name": "python3"
  },
  "language_info": {
   "codemirror_mode": {
    "name": "ipython",
    "version": 3
   },
   "file_extension": ".py",
   "mimetype": "text/x-python",
   "name": "python",
   "nbconvert_exporter": "python",
   "pygments_lexer": "ipython3",
   "version": "3.8.5"
  }
 },
 "nbformat": 4,
 "nbformat_minor": 4
}
