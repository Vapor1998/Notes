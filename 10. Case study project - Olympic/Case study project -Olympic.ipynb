{
 "cells": [
  {
   "cell_type": "markdown",
   "id": "3cd0c725",
   "metadata": {},
   "source": [
    "## `Print the shape`"
   ]
  },
  {
   "cell_type": "code",
   "execution_count": 2,
   "id": "d093f453",
   "metadata": {},
   "outputs": [
    {
     "name": "stdout",
     "output_type": "stream",
     "text": [
      "(271116, 17)\n"
     ]
    }
   ],
   "source": [
    "import numpy as np\n",
    "import pandas as pd\n",
    "import matplotlib.pyplot as plt\n",
    "dt = pd.read_csv('olympics.csv')\n",
    "print(dt.shape)"
   ]
  },
  {
   "cell_type": "markdown",
   "id": "dcfebaed",
   "metadata": {},
   "source": [
    "## `Describe the Age column`"
   ]
  },
  {
   "cell_type": "code",
   "execution_count": 3,
   "id": "ae9423f2",
   "metadata": {},
   "outputs": [
    {
     "name": "stdout",
     "output_type": "stream",
     "text": [
      "count    261642.000000\n",
      "mean         25.556898\n",
      "std           6.393561\n",
      "min          10.000000\n",
      "25%          21.000000\n",
      "50%          24.000000\n",
      "75%          28.000000\n",
      "max          97.000000\n",
      "Name: Age, dtype: float64\n"
     ]
    }
   ],
   "source": [
    "\n",
    "import numpy as np # linear algebra\n",
    "import pandas as pd # data processing, CSV file I/O (e.g. pd.read_csv)\n",
    "import matplotlib.pyplot as plt\n",
    "\n",
    "olympics = pd.read_csv('olympics.csv')\n",
    "print(olympics['Age'].describe())"
   ]
  },
  {
   "cell_type": "markdown",
   "id": "e03d8df8",
   "metadata": {},
   "source": [
    "## `Print numeric datatypes`"
   ]
  },
  {
   "cell_type": "code",
   "execution_count": 23,
   "id": "19af4400",
   "metadata": {},
   "outputs": [
    {
     "name": "stdout",
     "output_type": "stream",
     "text": [
      "ID\n",
      "Age\n",
      "Height\n",
      "Weight\n",
      "Year\n",
      "['ID', 'Age', 'Height', 'Weight', 'Year']\n"
     ]
    }
   ],
   "source": [
    "\n",
    "import numpy as np # linear algebra\n",
    "import pandas as pd # data processing, CSV file I/O (e.g. pd.read_csv)\n",
    "import matplotlib.pyplot as plt\n",
    "\n",
    "olympics = pd.read_csv('olympics.csv')\n",
    "desc = olympics.dtypes\n",
    "for i in range(len(desc)):\n",
    "    if desc.values[i] != 'object':\n",
    "        print(desc.index[i])\n",
    "    else:\n",
    "        continue\n",
    "        \n",
    "print(olympics.select_dtypes(include = np.number).columns.to_list())"
   ]
  },
  {
   "cell_type": "markdown",
   "id": "dfb1d1f1",
   "metadata": {},
   "source": [
    "## `Null values`"
   ]
  },
  {
   "cell_type": "code",
   "execution_count": 35,
   "id": "f89a8971",
   "metadata": {},
   "outputs": [
    {
     "name": "stdout",
     "output_type": "stream",
     "text": [
      "Age - 9474\n",
      "Height - 60171\n",
      "Weight - 62875\n",
      "Medal - 231333\n",
      "region - 370\n",
      "notes - 266077\n"
     ]
    }
   ],
   "source": [
    "import numpy as np # linear algebra\n",
    "import pandas as pd # data processing, CSV file I/O (e.g. pd.read_csv)\n",
    "import matplotlib.pyplot as plt\n",
    "\n",
    "olympics = pd.read_csv('olympics.csv')\n",
    "nv = olympics.isna().sum()\n",
    "for i in range(len(nv)):\n",
    "    if nv.values[i] != 0:\n",
    "        print(nv.index[i]  + ' -' ,+ nv.values[i])"
   ]
  },
  {
   "cell_type": "code",
   "execution_count": null,
   "id": "21e5f4f6",
   "metadata": {},
   "outputs": [],
   "source": []
  },
  {
   "cell_type": "markdown",
   "id": "97334920",
   "metadata": {},
   "source": [
    "## `Handling Missing Values`"
   ]
  },
  {
   "cell_type": "code",
   "execution_count": 49,
   "id": "7e2b2544",
   "metadata": {},
   "outputs": [
    {
     "name": "stdout",
     "output_type": "stream",
     "text": [
      "(270746, 14)\n"
     ]
    }
   ],
   "source": [
    "import numpy as np # linear algebra\n",
    "import pandas as pd # data processing, CSV file I/O (e.g. pd.read_csv)\n",
    "import matplotlib.pyplot as plt\n",
    "\n",
    "olympics = pd.read_csv('olympics.csv')\n",
    "df = olympics.copy()\n",
    "nv = df.isna().sum()\n",
    "a = ['Height', 'Weight', 'notes']\n",
    "for i in a:\n",
    "    df.drop([i], axis = 1, inplace = True)\n",
    "df = df.dropna(subset = ['region'])\n",
    "print(df.shape)"
   ]
  },
  {
   "cell_type": "markdown",
   "id": "d7ffd2a4",
   "metadata": {},
   "source": [
    "## `Replace missing values`"
   ]
  },
  {
   "cell_type": "code",
   "execution_count": 53,
   "id": "e98ec6c4",
   "metadata": {},
   "outputs": [
    {
     "name": "stdout",
     "output_type": "stream",
     "text": [
      "DNW       230972\n",
      "Gold       13371\n",
      "Bronze     13291\n",
      "Silver     13112\n",
      "Name: Medal, dtype: int64\n"
     ]
    }
   ],
   "source": [
    "\n",
    "import numpy as np # linear algebra\n",
    "import pandas as pd # data processing, CSV file I/O (e.g. pd.read_csv)\n",
    "import matplotlib.pyplot as plt\n",
    "\n",
    "olympics = pd.read_csv('olympics.csv')\n",
    "olympics.drop(columns=[\"notes\", \"Height\", \"Weight\"], inplace=True)\n",
    "olympics = olympics[pd.notnull(olympics['region'])]\n",
    "\n",
    "olympics['Medal'].fillna('DNW', inplace = True)\n",
    "print(olympics['Medal'].value_counts())\n"
   ]
  },
  {
   "cell_type": "markdown",
   "id": "8cd73559",
   "metadata": {},
   "source": [
    "## `Handling Missing Values Using Mean`"
   ]
  },
  {
   "cell_type": "code",
   "execution_count": 70,
   "id": "6434d230",
   "metadata": {},
   "outputs": [
    {
     "name": "stdout",
     "output_type": "stream",
     "text": [
      "26.0\n"
     ]
    }
   ],
   "source": [
    "#import numpy as np # linear algebra\n",
    "import pandas as pd # data processing, CSV file I/O (e.g. pd.read_csv)\n",
    "#import matplotlib.pyplot as plt\n",
    "\n",
    "import warnings\n",
    "warnings.filterwarnings(\"ignore\")\n",
    "\n",
    "olympics = pd.read_csv('olympics.csv')\n",
    "olympics.drop(columns=[\"notes\", \"Height\", \"Weight\"], inplace=True)\n",
    "olympics = olympics[pd.notnull(olympics['region'])]\n",
    "\n",
    "olympics['Medal'].fillna('DNW', inplace = True)\n",
    "\n",
    "x = olympics['Sport'].value_counts().index\n",
    "\n",
    "#print(olympics['Age'].mean())\n",
    "#d = {}\n",
    "for i in x:\n",
    "    m = olympics[olympics['Sport'] == i]\n",
    "    mean = m['Age'].mean()\n",
    "    olympics['Age'].loc[olympics['Sport'] == i] = round(mean, 0)\n",
    "    #print(mean)\n",
    "print(round(olympics['Age'].mean(), 0))\n"
   ]
  },
  {
   "cell_type": "code",
   "execution_count": 72,
   "id": "bf10d6a3",
   "metadata": {},
   "outputs": [
    {
     "name": "stdout",
     "output_type": "stream",
     "text": [
      "26\n"
     ]
    }
   ],
   "source": [
    "#import numpy as np # linear algebra\n",
    "import pandas as pd # data processing, CSV file I/O (e.g. pd.read_csv)\n",
    "#import matplotlib.pyplot as plt\n",
    "\n",
    "import warnings\n",
    "warnings.filterwarnings(\"ignore\")\n",
    "\n",
    "olympics = pd.read_csv('olympics.csv')\n",
    "olympics.drop(columns=[\"notes\", \"Height\", \"Weight\"], inplace=True)\n",
    "olympics = olympics[pd.notnull(olympics['region'])]\n",
    "\n",
    "olympics['Medal'].fillna('DNW', inplace = True)\n",
    "\n",
    "mean_age = round(olympics.groupby('Sport')['Age'].mean())\n",
    "age_loc = olympics.loc[olympics.Age.isnull()].index\n",
    "for i in age_loc:\n",
    "    olympics.loc[i, 'Age'] = mean_age[olympics.loc[i, 'Sport']]\n",
    "print(round(olympics.Age.mean()))"
   ]
  },
  {
   "cell_type": "markdown",
   "id": "984056d8",
   "metadata": {},
   "source": [
    "## `Probability Distribution of Age`"
   ]
  },
  {
   "cell_type": "code",
   "execution_count": 76,
   "id": "c5eb8c56",
   "metadata": {},
   "outputs": [
    {
     "data": {
      "image/png": "[encoded data removed]",
      "text/plain": [
       "<Figure size 432x288 with 1 Axes>"
      ]
     },
     "metadata": {
      "needs_background": "light"
     },
     "output_type": "display_data"
    },
    {
     "name": "stdout",
     "output_type": "stream",
     "text": [
      "20 to 25\n"
     ]
    }
   ],
   "source": [
    "## Open and read data file as specified in the question\n",
    "## Print the required output in given format\n",
    "\n",
    "from scipy.stats import norm\n",
    "import numpy as np # linear algebra\n",
    "import pandas as pd # data processing, CSV file I/O (e.g. pd.read_csv)\n",
    "import matplotlib.pyplot as plt\n",
    "\n",
    "olympics = pd.read_csv('olympics.csv')\n",
    "\n",
    "swimming_age = olympics.loc[(olympics['Sport'] == 'Swimming') & (olympics['Year'] >= 2000) & (olympics['Year']<=2016)]['Age']\n",
    "swimming_age = sorted(swimming_age)\n",
    "\n",
    "mean_swimming_age = np.mean(swimming_age)\n",
    "std_swimming_age = np.std(swimming_age)\n",
    "\n",
    "probablity_pdf = norm.pdf(swimming_age, loc = mean_swimming_age, scale = std_swimming_age)\n",
    "\n",
    "plt.plot(swimming_age, probablity_pdf)\n",
    "plt.show()\n",
    "print('20 to 25')"
   ]
  },
  {
   "cell_type": "code",
   "execution_count": 88,
   "id": "965a273b",
   "metadata": {},
   "outputs": [
    {
     "name": "stdout",
     "output_type": "stream",
     "text": [
      "Left Skewed\n"
     ]
    }
   ],
   "source": [
    "from scipy.stats import stats\n",
    "import numpy as np # linear algebra\n",
    "import pandas as pd # data processing, CSV file I/O (e.g. pd.read_csv)\n",
    "import matplotlib.pyplot as plt\n",
    "\n",
    "olympics = pd.read_csv('olympics_cleaned.csv')\n",
    "\n",
    "ind = olympics[olympics['region'] == 'India']\n",
    "gold = ind[ind[\"Medal\"] == 'Gold']\n",
    "\n",
    "count = gold.groupby('Year')['Medal'].value_counts()\n",
    "\n",
    "if stats.skew(count, bias = False) > 0:\n",
    "    print(\"Right Skewed\")\n",
    "else:\n",
    "    print('Left Skewed')"
   ]
  },
  {
   "cell_type": "code",
   "execution_count": 7,
   "id": "7d32e2ec",
   "metadata": {},
   "outputs": [
    {
     "name": "stdout",
     "output_type": "stream",
     "text": [
      "23\n"
     ]
    },
    {
     "data": {
      "text/html": [
       "<div>\n",
       "<style scoped>\n",
       "    .dataframe tbody tr th:only-of-type {\n",
       "        vertical-align: middle;\n",
       "    }\n",
       "\n",
       "    .dataframe tbody tr th {\n",
       "        vertical-align: top;\n",
       "    }\n",
       "\n",
       "    .dataframe thead th {\n",
       "        text-align: right;\n",
       "    }\n",
       "</style>\n",
       "<table border=\"1\" class=\"dataframe\">\n",
       "  <thead>\n",
       "    <tr style=\"text-align: right;\">\n",
       "      <th></th>\n",
       "      <th>ID</th>\n",
       "      <th>Name</th>\n",
       "      <th>Sex</th>\n",
       "      <th>Age</th>\n",
       "      <th>Team</th>\n",
       "      <th>NOC</th>\n",
       "      <th>Games</th>\n",
       "      <th>Year</th>\n",
       "      <th>Season</th>\n",
       "      <th>City</th>\n",
       "      <th>Sport</th>\n",
       "      <th>Event</th>\n",
       "      <th>Medal</th>\n",
       "      <th>region</th>\n",
       "    </tr>\n",
       "  </thead>\n",
       "  <tbody>\n",
       "    <tr>\n",
       "      <th>0</th>\n",
       "      <td>1</td>\n",
       "      <td>A Dijiang</td>\n",
       "      <td>M</td>\n",
       "      <td>24.0</td>\n",
       "      <td>China</td>\n",
       "      <td>CHN</td>\n",
       "      <td>1992 Summer</td>\n",
       "      <td>1992</td>\n",
       "      <td>Summer</td>\n",
       "      <td>Barcelona</td>\n",
       "      <td>Basketball</td>\n",
       "      <td>Basketball Men's Basketball</td>\n",
       "      <td>DNW</td>\n",
       "      <td>China</td>\n",
       "    </tr>\n",
       "    <tr>\n",
       "      <th>1</th>\n",
       "      <td>2</td>\n",
       "      <td>A Lamusi</td>\n",
       "      <td>M</td>\n",
       "      <td>23.0</td>\n",
       "      <td>China</td>\n",
       "      <td>CHN</td>\n",
       "      <td>2012 Summer</td>\n",
       "      <td>2012</td>\n",
       "      <td>Summer</td>\n",
       "      <td>London</td>\n",
       "      <td>Judo</td>\n",
       "      <td>Judo Men's Extra-Lightweight</td>\n",
       "      <td>DNW</td>\n",
       "      <td>China</td>\n",
       "    </tr>\n",
       "    <tr>\n",
       "      <th>2</th>\n",
       "      <td>3</td>\n",
       "      <td>Gunnar Nielsen Aaby</td>\n",
       "      <td>M</td>\n",
       "      <td>24.0</td>\n",
       "      <td>Denmark</td>\n",
       "      <td>DEN</td>\n",
       "      <td>1920 Summer</td>\n",
       "      <td>1920</td>\n",
       "      <td>Summer</td>\n",
       "      <td>Antwerpen</td>\n",
       "      <td>Football</td>\n",
       "      <td>Football Men's Football</td>\n",
       "      <td>DNW</td>\n",
       "      <td>Denmark</td>\n",
       "    </tr>\n",
       "    <tr>\n",
       "      <th>3</th>\n",
       "      <td>4</td>\n",
       "      <td>Edgar Lindenau Aabye</td>\n",
       "      <td>M</td>\n",
       "      <td>34.0</td>\n",
       "      <td>Denmark/Sweden</td>\n",
       "      <td>DEN</td>\n",
       "      <td>1900 Summer</td>\n",
       "      <td>1900</td>\n",
       "      <td>Summer</td>\n",
       "      <td>Paris</td>\n",
       "      <td>Tug-Of-War</td>\n",
       "      <td>Tug-Of-War Men's Tug-Of-War</td>\n",
       "      <td>Gold</td>\n",
       "      <td>Denmark</td>\n",
       "    </tr>\n",
       "    <tr>\n",
       "      <th>4</th>\n",
       "      <td>5</td>\n",
       "      <td>Christine Jacoba Aaftink</td>\n",
       "      <td>F</td>\n",
       "      <td>21.0</td>\n",
       "      <td>Netherlands</td>\n",
       "      <td>NED</td>\n",
       "      <td>1988 Winter</td>\n",
       "      <td>1988</td>\n",
       "      <td>Winter</td>\n",
       "      <td>Calgary</td>\n",
       "      <td>Speed Skating</td>\n",
       "      <td>Speed Skating Women's 500 metres</td>\n",
       "      <td>DNW</td>\n",
       "      <td>Netherlands</td>\n",
       "    </tr>\n",
       "  </tbody>\n",
       "</table>\n",
       "</div>"
      ],
      "text/plain": [
       "   ID                      Name Sex   Age            Team  NOC        Games  \\\n",
       "0   1                 A Dijiang   M  24.0           China  CHN  1992 Summer   \n",
       "1   2                  A Lamusi   M  23.0           China  CHN  2012 Summer   \n",
       "2   3       Gunnar Nielsen Aaby   M  24.0         Denmark  DEN  1920 Summer   \n",
       "3   4      Edgar Lindenau Aabye   M  34.0  Denmark/Sweden  DEN  1900 Summer   \n",
       "4   5  Christine Jacoba Aaftink   F  21.0     Netherlands  NED  1988 Winter   \n",
       "\n",
       "   Year  Season       City          Sport                             Event  \\\n",
       "0  1992  Summer  Barcelona     Basketball       Basketball Men's Basketball   \n",
       "1  2012  Summer     London           Judo      Judo Men's Extra-Lightweight   \n",
       "2  1920  Summer  Antwerpen       Football           Football Men's Football   \n",
       "3  1900  Summer      Paris     Tug-Of-War       Tug-Of-War Men's Tug-Of-War   \n",
       "4  1988  Winter    Calgary  Speed Skating  Speed Skating Women's 500 metres   \n",
       "\n",
       "  Medal       region  \n",
       "0   DNW        China  \n",
       "1   DNW        China  \n",
       "2   DNW      Denmark  \n",
       "3  Gold      Denmark  \n",
       "4   DNW  Netherlands  "
      ]
     },
     "execution_count": 7,
     "metadata": {},
     "output_type": "execute_result"
    }
   ],
   "source": [
    "#from scipy.stats import stats\n",
    "#import numpy as np # linear algebra\n",
    "import pandas as pd # data processing, CSV file I/O (e.g. pd.read_csv)\n",
    "import matplotlib.pyplot as plt\n",
    "\n",
    "olympics = pd.read_csv('olympics_cleaned.csv')\n",
    "olympics.head()\n",
    "summer = olympics[olympics['Season'] == 'Summer']\n",
    "citys = summer['City'].value_counts()\n",
    "city = citys.index\n",
    "value = citys.values\n",
    "print(len(city))\n",
    "# plt.bar(city, value)\n",
    "# plt.xticks(rotation = 90)\n",
    "# plt.show()\n",
    "olympics.head()"
   ]
  },
  {
   "cell_type": "markdown",
   "id": "3bc48dba",
   "metadata": {},
   "source": [
    "## Most Female Gold Medalists\n"
   ]
  },
  {
   "cell_type": "code",
   "execution_count": 12,
   "id": "3ddb25d6",
   "metadata": {},
   "outputs": [
    {
     "data": {
      "image/png": "[encoded data removed]",
      "text/plain": [
       "<Figure size 432x288 with 1 Axes>"
      ]
     },
     "metadata": {
      "needs_background": "light"
     },
     "output_type": "display_data"
    },
    {
     "name": "stdout",
     "output_type": "stream",
     "text": [
      "Swimming\n"
     ]
    }
   ],
   "source": [
    "import numpy as np # linear algebra\n",
    "import pandas as pd # data processing, CSV file I/O (e.g. pd.read_csv)\n",
    "import matplotlib.pyplot as plt\n",
    "\n",
    "olympics = pd.read_csv('olympics_cleaned.csv')\n",
    "Female=olympics[(olympics[\"Sex\"]==\"F\") & (olympics[\"Medal\"]==\"Gold\")]\n",
    "a = Female.groupby('Sport').count()['Sex'].sort_values(ascending = False)\n",
    "sport = a.index[:5]\n",
    "value = a.values[:5]\n",
    "plt.bar(sport, value)\n",
    "plt.show()\n",
    "print(sport[0])"
   ]
  },
  {
   "cell_type": "markdown",
   "id": "024c9b95",
   "metadata": {},
   "source": [
    "## Find Skewness"
   ]
  },
  {
   "cell_type": "code",
   "execution_count": 1,
   "id": "0f5992a7",
   "metadata": {},
   "outputs": [
    {
     "name": "stdout",
     "output_type": "stream",
     "text": [
      "Left Skewed\n"
     ]
    }
   ],
   "source": [
    "from scipy.stats import stats\n",
    "import numpy as np # linear algebra\n",
    "import pandas as pd # data processing, CSV file I/O (e.g. pd.read_csv)\n",
    "import matplotlib.pyplot as plt\n",
    "\n",
    "olympics = pd.read_csv('olympics_cleaned.csv')\n",
    "\n",
    "ind = olympics[olympics['region'] == 'India']\n",
    "gold = ind[ind[\"Medal\"] == 'Gold']\n",
    "\n",
    "count = gold.groupby('Year')['Medal'].value_counts()\n",
    "\n",
    "if stats.skew(count, bias = False) > 0:\n",
    "    print(\"Right Skewed\")\n",
    "else:\n",
    "    print('Left Skewed')"
   ]
  },
  {
   "cell_type": "code",
   "execution_count": 14,
   "id": "e0b4d83e",
   "metadata": {},
   "outputs": [
    {
     "data": {
      "image/png": "[encoded data removed]",
      "text/plain": [
       "<Figure size 720x360 with 1 Axes>"
      ]
     },
     "metadata": {
      "needs_background": "light"
     },
     "output_type": "display_data"
    },
    {
     "name": "stdout",
     "output_type": "stream",
     "text": [
      "Swimming\n"
     ]
    }
   ],
   "source": [
    "import numpy as np # linear algebra\n",
    "import pandas as pd # data processing, CSV file I/O (e.g. pd.read_csv)\n",
    "import matplotlib.pyplot as plt\n",
    "\n",
    "olympics = pd.read_csv('olympics_cleaned.csv')\n",
    "Female=olympics[(olympics[\"Sex\"]==\"F\") & (olympics[\"Medal\"]==\"Gold\")]\n",
    "Female.groupby('Sport').count()['Sex'].sort_values(ascending = False).head().plot.bar(figsize=(10, 5))\n",
    "plt.show()\n",
    "print('Swimming')"
   ]
  },
  {
   "cell_type": "markdown",
   "id": "ea2a8771",
   "metadata": {},
   "source": [
    "## Standard Deviation of Gold Medals"
   ]
  },
  {
   "cell_type": "code",
   "execution_count": 19,
   "id": "4e550c84",
   "metadata": {},
   "outputs": [
    {
     "name": "stdout",
     "output_type": "stream",
     "text": [
      "71.97453253292676\n",
      "18.14528124684469\n"
     ]
    }
   ],
   "source": [
    "## Open and read data file as specified in the question\n",
    "## Print the required output in given format\n",
    "\n",
    "import statistics\n",
    "\n",
    "import numpy as np # linear algebra\n",
    "import pandas as pd # data processing, CSV file I/O (e.g. pd.read_csv)\n",
    "import matplotlib.pyplot as plt\n",
    "\n",
    "olympics = pd.read_csv('olympics_cleaned.csv')\n",
    "df = olympics.loc[(olympics.City == 'London')& (olympics.region == 'UK') & (olympics.Medal == \"Gold\")]\n",
    "df = df.groupby('Year')['Medal'].value_counts()\n",
    "\n",
    "df1 = olympics.loc[(olympics.City != 'London')& (olympics.region == 'UK') & (olympics.Medal == \"Gold\")]\n",
    "df1 = df1.groupby('Year')['Medal'].value_counts()\n",
    "\n",
    "print(statistics.stdev(df))\n",
    "print(statistics.stdev(df1))"
   ]
  },
  {
   "cell_type": "code",
   "execution_count": 2,
   "id": "984e2d56",
   "metadata": {},
   "outputs": [
    {
     "name": "stdout",
     "output_type": "stream",
     "text": [
      "71.97453253292676\n",
      "193.60993960053085\n"
     ]
    }
   ],
   "source": [
    "## Open and read data file as specified in the question\n",
    "## Print the required output in given format\n",
    "\n",
    "import statistics\n",
    "\n",
    "import numpy as np # linear algebra\n",
    "import pandas as pd # data processing, CSV file I/O (e.g. pd.read_csv)\n",
    "import matplotlib.pyplot as plt\n",
    "\n",
    "olympics = pd.read_csv('olympics_cleaned.csv')\n",
    "df = olympics[(olympics.City == 'London')& (olympics.region == 'UK') & (olympics.Medal == \"Gold\")]\n",
    "df = df.groupby('Year')['Medal'].value_counts()\n",
    "\n",
    "df1 = olympics[(olympics.City != 'London')& (olympics.region == 'UK') & (olympics.Medal == \"Gold\")]\n",
    "df1 = df1.groupby('Year')['Medal'].value_counts()\n",
    "\n",
    "print(statistics.stdev(df))\n",
    "print(statistics.stdev(df1))"
   ]
  },
  {
   "cell_type": "markdown",
   "id": "a8fab617",
   "metadata": {},
   "source": [
    "## Standardize the Data\n"
   ]
  },
  {
   "cell_type": "code",
   "execution_count": 26,
   "id": "8f97e102",
   "metadata": {},
   "outputs": [
    {
     "name": "stdout",
     "output_type": "stream",
     "text": [
      "0\n",
      "1\n"
     ]
    }
   ],
   "source": [
    "## Open and read data file as specified in the question\n",
    "## Print the required output in given format\n",
    "import statistics\n",
    "\n",
    "import numpy as np # linear algebra\n",
    "import pandas as pd # data processing, CSV file I/O (e.g. pd.read_csv)\n",
    "import matplotlib.pyplot as plt\n",
    "\n",
    "olympics = pd.read_csv('olympics_cleaned.csv')\n",
    "\n",
    "df = olympics[olympics.Sport == 'Shooting']\n",
    "\n",
    "# standardizing \n",
    "# Xstand = (X - mean(X)) / Standard_Deviation (X)\n",
    "\n",
    "age = df.Age\n",
    "stand = (age - np.mean(age))/ np.std(age)\n",
    "print(int(np.mean(stand)))\n",
    "print(int(np.std(stand)))"
   ]
  },
  {
   "cell_type": "markdown",
   "id": "9d89d463",
   "metadata": {},
   "source": [
    "## Correlation analysis\n"
   ]
  },
  {
   "cell_type": "code",
   "execution_count": 34,
   "id": "5e87a198",
   "metadata": {},
   "outputs": [
    {
     "name": "stdout",
     "output_type": "stream",
     "text": [
      "Positive\n"
     ]
    }
   ],
   "source": [
    "## Open and read data file as specified in the question\n",
    "## Print the required output in given format\n",
    "import statistics\n",
    "from scipy.stats import spearmanr\n",
    "\n",
    "import numpy as np # linear algebra\n",
    "import pandas as pd # data processing, CSV file I/O (e.g. pd.read_csv)\n",
    "import matplotlib.pyplot as plt\n",
    "\n",
    "olympics = pd.read_csv('olympics_cleaned.csv')\n",
    "df = olympics[(olympics.Medal == 'Gold') | (olympics.Medal == 'Silver') | (olympics.Medal == 'Bronze')]\n",
    "#cov = np.cov(df.Age, df.Medal)\n",
    "\n",
    "x = spearmanr(df.Age, df.Medal)\n",
    "y = x.correlation\n",
    "if y< 0:\n",
    "    print('Negative')\n",
    "else:\n",
    "    print('Positive')"
   ]
  },
  {
   "cell_type": "code",
   "execution_count": 3,
   "id": "1d6d5b35",
   "metadata": {},
   "outputs": [
    {
     "name": "stdout",
     "output_type": "stream",
     "text": [
      "Positive\n"
     ]
    }
   ],
   "source": [
    "## Open and read data file as specified in the question\n",
    "## Print the required output in given format\n",
    "import statistics\n",
    "\n",
    "import numpy as np # linear algebra\n",
    "import pandas as pd # data processing, CSV file I/O (e.g. pd.read_csv)\n",
    "import matplotlib.pyplot as plt\n",
    "\n",
    "olympics = pd.read_csv('olympics_cleaned.csv')\n",
    "labels, categories = pd.factorize(olympics.Medal)\n",
    "olympics['Medal_labels'] = labels\n",
    "\n",
    "if olympics.Age.corr(olympics.Medal_labels)>0:\n",
    "    print('Positive')\n",
    "else:\n",
    "    print('Negative')"
   ]
  },
  {
   "cell_type": "markdown",
   "id": "df0ec289",
   "metadata": {},
   "source": [
    "## Calculate IQR"
   ]
  },
  {
   "cell_type": "code",
   "execution_count": 7,
   "id": "ba25dbb1",
   "metadata": {},
   "outputs": [
    {
     "name": "stdout",
     "output_type": "stream",
     "text": [
      "6.0\n"
     ]
    }
   ],
   "source": [
    "import statistics\n",
    "\n",
    "import numpy as np # linear algebra\n",
    "import pandas as pd # data processing, CSV file I/O (e.g. pd.read_csv)\n",
    "import matplotlib.pyplot as plt\n",
    "\n",
    "olympics = pd.read_csv('olympics_cleaned.csv')\n",
    "\n",
    "q1 = np.percentile(olympics.Age, 25, interpolation='midpoint')\n",
    "q3 = np.percentile(olympics.Age, 75, interpolation = 'midpoint')\n",
    "print(q3-q1)"
   ]
  },
  {
   "cell_type": "markdown",
   "id": "0a849fb2",
   "metadata": {},
   "source": [
    "# Data Visualization\n",
    "## Summer olympics hosted\n"
   ]
  },
  {
   "cell_type": "code",
   "execution_count": 107,
   "id": "5701b8b3",
   "metadata": {},
   "outputs": [
    {
     "data": {
      "image/png": "[encoded data removed]",
      "text/plain": [
       "<Figure size 432x288 with 1 Axes>"
      ]
     },
     "metadata": {
      "needs_background": "light"
     },
     "output_type": "display_data"
    },
    {
     "name": "stdout",
     "output_type": "stream",
     "text": [
      "42\n"
     ]
    }
   ],
   "source": [
    "import numpy as np # linear algebra\n",
    "import pandas as pd # data processing, CSV file I/O (e.g. pd.read_csv)\n",
    "import matplotlib.pyplot as plt\n",
    "\n",
    "olympics = pd.read_csv('olympics_cleaned.csv')\n",
    "\n",
    "d = {}\n",
    "year = olympics.Year\n",
    "city = olympics.City\n",
    "\n",
    "\n",
    "for i in range(len(city)):\n",
    "    if city[i] in d:\n",
    "        #if city[i] != None or year[i] != None or type[year[i]] != None or type(city[i]) != None:\n",
    "        a = int(year[i])\n",
    "        d[city[i]].add(a)  # because list and set is mutable.\n",
    "\n",
    "    else:\n",
    "        d[city[i]] = {year[i]} # put this as set coz we need unique year values, if we put list, we will get lots of same year \n",
    "                               # values\n",
    "        #print(d.values())\n",
    "dct = {}\n",
    "for i, j in d.items():\n",
    "    x = len(j)\n",
    "    dct[i] = x\n",
    "plt.bar(dct.keys(), dct.values())\n",
    "plt.xticks(rotation = 90)\n",
    "plt.show()\n",
    "print(len(dct))"
   ]
  },
  {
   "cell_type": "markdown",
   "id": "3f24ce29",
   "metadata": {},
   "source": [
    "## Most number of medals"
   ]
  },
  {
   "cell_type": "code",
   "execution_count": 120,
   "id": "391ea295",
   "metadata": {},
   "outputs": [
    {
     "data": {
      "image/png": "[encoded data removed]",
      "text/plain": [
       "<Figure size 432x288 with 1 Axes>"
      ]
     },
     "metadata": {
      "needs_background": "light"
     },
     "output_type": "display_data"
    },
    {
     "name": "stdout",
     "output_type": "stream",
     "text": [
      "Athletics\n"
     ]
    }
   ],
   "source": [
    "import numpy as np # linear algebra\n",
    "import pandas as pd # data processing, CSV file I/O (e.g. pd.read_csv)\n",
    "import matplotlib.pyplot as plt\n",
    "\n",
    "olympics = pd.read_csv('olympics_cleaned.csv')\n",
    "olympics = olympics[(olympics.Medal == 'Gold') | (olympics.Medal == 'Silver') | (olympics.Medal == 'Bronze')]\n",
    "g = olympics.groupby('Sport')['Medal'].count().sort_values(ascending=False)[:5]\n",
    "plt.bar(g.index, g.values)\n",
    "plt.xticks(rotation=90)\n",
    "plt.show()\n",
    "print(g.index[0])"
   ]
  },
  {
   "cell_type": "markdown",
   "id": "bffcca13",
   "metadata": {},
   "source": [
    "## Most number of Gold medals\n"
   ]
  },
  {
   "cell_type": "code",
   "execution_count": 121,
   "id": "1867399c",
   "metadata": {
    "scrolled": true
   },
   "outputs": [
    {
     "data": {
      "image/png": "[encoded data removed]",
      "text/plain": [
       "<Figure size 432x288 with 1 Axes>"
      ]
     },
     "metadata": {
      "needs_background": "light"
     },
     "output_type": "display_data"
    },
    {
     "name": "stdout",
     "output_type": "stream",
     "text": [
      "Athletics\n"
     ]
    }
   ],
   "source": [
    "import numpy as np # linear algebra\n",
    "import pandas as pd # data processing, CSV file I/O (e.g. pd.read_csv)\n",
    "import matplotlib.pyplot as plt\n",
    "\n",
    "olympics = pd.read_csv('olympics_cleaned.csv')\n",
    "olympics = olympics[(olympics.Medal == 'Gold')]\n",
    "g = olympics.groupby('Sport')['Medal'].count().sort_values(ascending=False)[:5]\n",
    "plt.bar(g.index, g.values)\n",
    "plt.xticks(rotation=90)\n",
    "plt.show()\n",
    "print(g.index[0])"
   ]
  },
  {
   "cell_type": "markdown",
   "id": "82d1e4ea",
   "metadata": {},
   "source": [
    "## India First Gold Medal\n"
   ]
  },
  {
   "cell_type": "code",
   "execution_count": 134,
   "id": "17db9e3a",
   "metadata": {},
   "outputs": [
    {
     "name": "stdout",
     "output_type": "stream",
     "text": [
      "1924\n"
     ]
    }
   ],
   "source": [
    "import numpy as np # linear algebra\n",
    "import pandas as pd # data processing, CSV file I/O (e.g. pd.read_csv)\n",
    "import matplotlib.pyplot as plt\n",
    "\n",
    "olympics = pd.read_csv('olympics_cleaned.csv')\n",
    "olympics = olympics[(olympics.Medal == 'Gold') & (olympics.region == 'India')]\n",
    "years = olympics.Year.unique()\n",
    "print(np.sort(years)[0])"
   ]
  },
  {
   "cell_type": "markdown",
   "id": "f296c483",
   "metadata": {},
   "source": [
    "## Most Popular Event"
   ]
  },
  {
   "cell_type": "code",
   "execution_count": 143,
   "id": "bb748f9e",
   "metadata": {},
   "outputs": [
    {
     "data": {
      "text/plain": [
       "Robert Tait McKenzie        58\n",
       "Heikki Ilmari Savolainen    39\n",
       "Joseph \"Josy\" Stoffel       38\n",
       "Ioannis Theofilakis         36\n",
       "Takashi Ono                 33\n",
       "Name: Name, dtype: int64"
      ]
     },
     "execution_count": 143,
     "metadata": {},
     "output_type": "execute_result"
    }
   ],
   "source": [
    "import numpy as np # linear algebra\n",
    "import pandas as pd # data processing, CSV file I/O (e.g. pd.read_csv)\n",
    "import matplotlib.pyplot as plt\n",
    "\n",
    "olympics = pd.read_csv('olympics_cleaned.csv')\n",
    "o = olympics.Name.value_counts()[:5]\n",
    "o"
   ]
  },
  {
   "cell_type": "code",
   "execution_count": 2,
   "id": "104df7a8",
   "metadata": {},
   "outputs": [
    {
     "name": "stdout",
     "output_type": "stream",
     "text": [
      "7\n",
      "2\n",
      "13\n",
      "4\n",
      "1\n",
      "3\n",
      "6\n",
      "28\n"
     ]
    },
    {
     "ename": "TypeError",
     "evalue": "'NoneType' object is not subscriptable",
     "output_type": "error",
     "traceback": [
      "\u001b[1;31m---------------------------------------------------------------------------\u001b[0m",
      "\u001b[1;31mTypeError\u001b[0m                                 Traceback (most recent call last)",
      "Input \u001b[1;32mIn [2]\u001b[0m, in \u001b[0;36m<cell line: 8>\u001b[1;34m()\u001b[0m\n\u001b[0;32m      9\u001b[0m     \u001b[38;5;28mprint\u001b[39m(\u001b[38;5;28mmin\u001b[39m)\n\u001b[0;32m     10\u001b[0m \u001b[38;5;28;01melse\u001b[39;00m:\n\u001b[1;32m---> 11\u001b[0m     \u001b[38;5;28mprint\u001b[39m(\u001b[43mx\u001b[49m\u001b[43m[\u001b[49m\u001b[38;5;241;43m1\u001b[39;49m\u001b[43m]\u001b[49m)\n",
      "\u001b[1;31mTypeError\u001b[0m: 'NoneType' object is not subscriptable"
     ]
    }
   ],
   "source": [
    "min = -2147483648\n",
    "n = int(input())\n",
    "a = []\n",
    "for i in range(n):\n",
    "    x = int(input())\n",
    "    a.append(x)\n",
    "x = a.sort(reverse = True)\n",
    "if n == 0 or n == 1:\n",
    "    print(min)\n",
    "else:\n",
    "    print(x[1])"
   ]
  }
 ],
 "metadata": {
  "kernelspec": {
   "display_name": "Python 3 (ipykernel)",
   "language": "python",
   "name": "python3"
  },
  "language_info": {
   "codemirror_mode": {
    "name": "ipython",
    "version": 3
   },
   "file_extension": ".py",
   "mimetype": "text/x-python",
   "name": "python",
   "nbconvert_exporter": "python",
   "pygments_lexer": "ipython3",
   "version": "3.9.12"
  }
 },
 "nbformat": 4,
 "nbformat_minor": 5
}
