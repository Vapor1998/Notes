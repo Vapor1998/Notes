{
 "cells": [
  {
   "cell_type": "code",
   "execution_count": 1,
   "id": "01edac86",
   "metadata": {},
   "outputs": [],
   "source": [
    "string = 'https://www.amazon.in/Apple-iPhone-Plus-256GB-Purple/dp/B0BDK63CBS/ref=sr_1_35?crid=14YCFQXW933HC&keywords=iPhone%2B14&qid=1683448969&sprefix=iphone%2B14%2Caps%2C383&sr=8-35&th=1'"
   ]
  },
  {
   "cell_type": "markdown",
   "id": "8b484e7a",
   "metadata": {},
   "source": [
    "#### how to remove all the value after particular character in string in python\n"
   ]
  },
  {
   "cell_type": "code",
   "execution_count": 2,
   "id": "61d79cae",
   "metadata": {},
   "outputs": [
    {
     "data": {
      "text/plain": [
       "'https://www.amazon'"
      ]
     },
     "execution_count": 2,
     "metadata": {},
     "output_type": "execute_result"
    }
   ],
   "source": [
    "new_string = string[:string.index(\".in\")]\n",
    "new_string # it removed all the string after .in"
   ]
  }
 ],
 "metadata": {
  "kernelspec": {
   "display_name": "Python 3 (ipykernel)",
   "language": "python",
   "name": "python3"
  },
  "language_info": {
   "codemirror_mode": {
    "name": "ipython",
    "version": 3
   },
   "file_extension": ".py",
   "mimetype": "text/x-python",
   "name": "python",
   "nbconvert_exporter": "python",
   "pygments_lexer": "ipython3",
   "version": "3.9.12"
  }
 },
 "nbformat": 4,
 "nbformat_minor": 5
}
