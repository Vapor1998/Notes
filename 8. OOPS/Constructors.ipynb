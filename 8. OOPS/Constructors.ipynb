{
 "cells": [
  {
   "cell_type": "code",
   "execution_count": 2,
   "metadata": {},
   "outputs": [
    {
     "name": "stdout",
     "output_type": "stream",
     "text": [
      "Constructor is Called\n",
      "Constructor is Called\n"
     ]
    }
   ],
   "source": [
    "class Student:   ##creating class\n",
    "    totalStudents = 20\n",
    "    classTeacherName = \"komal\"\n",
    "    \n",
    "    def __init__(self):      ## this is how we create constructor.It calls automatically when\n",
    "                             ## object is created.It will be called implicitly.\n",
    "        print(\"Constructor is Called\")\n",
    "    \n",
    "    ## Instance methods\n",
    "    def printHello(self):\n",
    "        print(\"Hello\")\n",
    "    \n",
    "    def print(self, str):\n",
    "        print(str)\n",
    "    \n",
    "    def printName(self):\n",
    "        print(self.name)\n",
    "        \n",
    "    def addName(self, name):\n",
    "        self.name = name\n",
    "        \n",
    "    def test(self):\n",
    "        Student.totalStudents = 15\n",
    "        print(Student.totalStudents)\n",
    "        Student.test_class = 90\n",
    "        \n",
    "        \n",
    "s1 = Student()\n",
    "s2 = Student()  \n"
   ]
  },
  {
   "cell_type": "code",
   "execution_count": 3,
   "metadata": {},
   "outputs": [],
   "source": [
    "class Student:   ##creating class\n",
    "    totalStudents = 20\n",
    "    classTeacherName = \"komal\"\n",
    "    \n",
    "    def __init__(self):      ## this is how we create constructor.It calls automatically when\n",
    "                             ## object is created.It will be called implicitly.\n",
    "        self.name = 'Mohit'\n",
    "        self.age = 20\n",
    "        self.rollNumber = 101\n",
    "        \n",
    "    \n",
    "    ## Instance methods\n",
    "    def printHello(self):\n",
    "        print(\"Hello\")\n",
    "    \n",
    "    def print(self, str):\n",
    "        print(str)\n",
    "    \n",
    "    def printName(self):\n",
    "        print(self.name)\n",
    "        \n",
    "    def addName(self, name):\n",
    "        self.name = name\n",
    "        \n",
    "    def test(self):\n",
    "        Student.totalStudents = 15\n",
    "        print(Student.totalStudents)\n",
    "        Student.test_class = 90\n",
    "        \n",
    "        \n",
    "s1 = Student()\n",
    "s2 = Student()  "
   ]
  },
  {
   "cell_type": "code",
   "execution_count": 5,
   "metadata": {},
   "outputs": [
    {
     "name": "stdout",
     "output_type": "stream",
     "text": [
      "{'name': 'Mohit', 'age': 20, 'rollNumber': 101}\n",
      "{'name': 'Mohit', 'age': 20, 'rollNumber': 101}\n"
     ]
    }
   ],
   "source": [
    "print(s1.__dict__)\n",
    "print(s2.__dict__) ## Here if we create 10 more instances for constructor, all will be added to both\n",
    "                   ## of the object dictionary.\n",
    "                   ## To avoid that we pass argument to the constructor and pass it to particular ob\n",
    "                   ## object."
   ]
  },
  {
   "cell_type": "code",
   "execution_count": 10,
   "metadata": {},
   "outputs": [],
   "source": [
    "class Student:   ##creating class\n",
    "    totalStudents = 20\n",
    "    classTeacherName = \"komal\"\n",
    "    \n",
    "    def __init__(self, name, age, rn = 101):## this is how we create constructor.It calls automatically when\n",
    "                             ## object is created.It will be called implicitly.\n",
    "        self.name = name\n",
    "        self.rn = rn\n",
    "        self.age = age\n",
    "    \n",
    "    ## Instance methods\n",
    "    def printHello(self):\n",
    "        print(\"Hello\")\n",
    "    \n",
    "    def print(self, str):\n",
    "        print(str)\n",
    "    \n",
    "    def printName(self):\n",
    "        print(self.name)\n",
    "        \n",
    "    def addName(self, name):\n",
    "        self.name = name\n",
    "        \n",
    "    def test(self):\n",
    "        Student.totalStudents = 15\n",
    "        print(Student.totalStudents)\n",
    "        Student.test_class = 90\n",
    "        \n",
    "        \n",
    "s1 = Student(\"Mohit\", 12, 22)\n",
    "s2 = Student(\"Daniel\", 22, 12)  \n",
    "s3 = Student(\"NN\", 22)"
   ]
  },
  {
   "cell_type": "code",
   "execution_count": 12,
   "metadata": {},
   "outputs": [
    {
     "name": "stdout",
     "output_type": "stream",
     "text": [
      "{'name': 'Mohit', 'rn': 22, 'age': 12}\n",
      "{'name': 'Daniel', 'rn': 12, 'age': 22}\n",
      "{'name': 'NN', 'rn': 101, 'age': 22}\n"
     ]
    }
   ],
   "source": [
    "print(s1.__dict__)\n",
    "print(s2.__dict__)\n",
    "print(s3.__dict__)"
   ]
  },
  {
   "cell_type": "code",
   "execution_count": null,
   "metadata": {},
   "outputs": [],
   "source": [
    "## we can only use one cpnstructor at a time.\n",
    "class Student:   ##creating class\n",
    "    totalStudents = 20\n",
    "    classTeacherName = \"komal\"\n",
    "    \n",
    "    def __init__(self, name, *args):  ## with *args, we can pass n number of arguments\n",
    "        self.name = name\n",
    "    \n",
    "    ## Instance methods\n",
    "    def printHello(self):\n",
    "        print(\"Hello\")\n",
    "    \n",
    "    def print(self, str):\n",
    "        print(str)\n",
    "    \n",
    "    def printName(self):\n",
    "        print(self.name)\n",
    "        \n",
    "    def addName(self, name):\n",
    "        self.name = name\n",
    "        \n",
    "    def test(self):\n",
    "        Student.totalStudents = 15\n",
    "        print(Student.totalStudents)\n",
    "        Student.test_class = 90\n",
    "        \n",
    "        \n",
    "s1 = Student()\n",
    "s2 = Student()  "
   ]
  }
 ],
 "metadata": {
  "kernelspec": {
   "display_name": "Python 3",
   "language": "python",
   "name": "python3"
  },
  "language_info": {
   "codemirror_mode": {
    "name": "ipython",
    "version": 3
   },
   "file_extension": ".py",
   "mimetype": "text/x-python",
   "name": "python",
   "nbconvert_exporter": "python",
   "pygments_lexer": "ipython3",
   "version": "3.8.5"
  }
 },
 "nbformat": 4,
 "nbformat_minor": 4
}
