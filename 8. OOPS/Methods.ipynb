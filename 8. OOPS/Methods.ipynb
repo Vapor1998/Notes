{
 "cells": [
  {
   "cell_type": "code",
   "execution_count": 1,
   "metadata": {},
   "outputs": [],
   "source": [
    "class Student:    ## creating class\n",
    "    totalStudents = 20\n",
    "    classTeacherName = \"komal\"\n",
    "    \n",
    "    ## Instance methods\n",
    "    def printHello():\n",
    "        print(\"Hello\")\n",
    "    \n",
    "    \n",
    "s1 = Student()\n",
    "s2 = Student()\n"
   ]
  },
  {
   "cell_type": "code",
   "execution_count": 2,
   "metadata": {},
   "outputs": [
    {
     "ename": "TypeError",
     "evalue": "printHello() takes 0 positional arguments but 1 was given",
     "output_type": "error",
     "traceback": [
      "\u001b[1;31m---------------------------------------------------------------------------\u001b[0m",
      "\u001b[1;31mTypeError\u001b[0m                                 Traceback (most recent call last)",
      "\u001b[1;32m<ipython-input-2-cecbd9e3dcbb>\u001b[0m in \u001b[0;36m<module>\u001b[1;34m\u001b[0m\n\u001b[1;32m----> 1\u001b[1;33m \u001b[0ms1\u001b[0m\u001b[1;33m.\u001b[0m\u001b[0mprintHello\u001b[0m\u001b[1;33m(\u001b[0m\u001b[1;33m)\u001b[0m\u001b[1;33m\u001b[0m\u001b[1;33m\u001b[0m\u001b[0m\n\u001b[0m",
      "\u001b[1;31mTypeError\u001b[0m: printHello() takes 0 positional arguments but 1 was given"
     ]
    }
   ],
   "source": [
    "s1.printHello()  ## We havent passed any argument but the error says 1 was given.\n",
    "                 ## what happens here is if we call any instance method using any instance,\n",
    "                 ## it is interpreted as Classname.Methodname(object).\n",
    "                 ## So internally, the above line is interpreted as the above given syntax.\n",
    "                 ## One thing we should notice is this argument is passed implicitly,we\n",
    "                 ## havent passed it explicitly.But we have to receive the argument explicitly.\n",
    "                 ## according to python syntax.\n",
    "                \n",
    "                 \n",
    "                 ## So we have to have atleast one argument in every instance method and \n",
    "                 ## that is self.\n",
    "                "
   ]
  },
  {
   "cell_type": "code",
   "execution_count": 4,
   "metadata": {},
   "outputs": [
    {
     "name": "stdout",
     "output_type": "stream",
     "text": [
      "Hello\n"
     ]
    }
   ],
   "source": [
    "class Student:    ## creating class\n",
    "    totalStudents = 20\n",
    "    classTeacherName = \"komal\"\n",
    "    \n",
    "    ## Instance methods\n",
    "    def printHello(self):   ## here we passed argument hello and it works\n",
    "        print(\"Hello\")\n",
    "    \n",
    "    \n",
    "s1 = Student()\n",
    "s2 = Student()\n",
    "\n",
    "s1.printHello()\n",
    "\n",
    "\n"
   ]
  },
  {
   "cell_type": "code",
   "execution_count": 15,
   "metadata": {},
   "outputs": [
    {
     "name": "stdout",
     "output_type": "stream",
     "text": [
      "Helo\n",
      "Hello\n"
     ]
    },
    {
     "ename": "TypeError",
     "evalue": "printHello() missing 1 required positional argument: 'self'",
     "output_type": "error",
     "traceback": [
      "\u001b[1;31m---------------------------------------------------------------------------\u001b[0m",
      "\u001b[1;31mTypeError\u001b[0m                                 Traceback (most recent call last)",
      "\u001b[1;32m<ipython-input-15-7c339d09fa82>\u001b[0m in \u001b[0;36m<module>\u001b[1;34m\u001b[0m\n\u001b[0;32m     17\u001b[0m \u001b[0ms1\u001b[0m\u001b[1;33m.\u001b[0m\u001b[0mprint\u001b[0m\u001b[1;33m(\u001b[0m\u001b[1;34m\"Helo\"\u001b[0m\u001b[1;33m)\u001b[0m    \u001b[1;31m## During call, we can pass the argument which we want to print.\u001b[0m\u001b[1;33m\u001b[0m\u001b[1;33m\u001b[0m\u001b[0m\n\u001b[0;32m     18\u001b[0m \u001b[0mStudent\u001b[0m\u001b[1;33m.\u001b[0m\u001b[0mprintHello\u001b[0m\u001b[1;33m(\u001b[0m\u001b[0ms1\u001b[0m\u001b[1;33m)\u001b[0m \u001b[1;31m## this is how we should call the below function.\u001b[0m\u001b[1;33m\u001b[0m\u001b[1;33m\u001b[0m\u001b[0m\n\u001b[1;32m---> 19\u001b[1;33m \u001b[0mStudent\u001b[0m\u001b[1;33m.\u001b[0m\u001b[0mprintHello\u001b[0m\u001b[1;33m(\u001b[0m\u001b[1;33m)\u001b[0m  \u001b[1;31m## HEre, if we call it method using class name, we will get error as\u001b[0m\u001b[1;33m\u001b[0m\u001b[1;33m\u001b[0m\u001b[0m\n\u001b[0m\u001b[0;32m     20\u001b[0m                       \u001b[1;31m## we have to pass the object name explicitly.\u001b[0m\u001b[1;33m\u001b[0m\u001b[1;33m\u001b[0m\u001b[1;33m\u001b[0m\u001b[0m\n",
      "\u001b[1;31mTypeError\u001b[0m: printHello() missing 1 required positional argument: 'self'"
     ]
    }
   ],
   "source": [
    "class Student:    ## creating class\n",
    "    totalStudents = 20\n",
    "    classTeacherName = \"komal\"\n",
    "    \n",
    "    ## Instance methods\n",
    "    def printHello(self):\n",
    "        print(\"Hello\")\n",
    "      \n",
    "    def print(self,str ):  ## here we can pass arguments in function and print that argument.\n",
    "        print(str)\n",
    "    \n",
    "    \n",
    "s1 = Student()\n",
    "s2 = Student()\n",
    "\n",
    "\n",
    "s1.print(\"Helo\")    ## During call, we can pass the argument which we want to print.\n",
    "Student.printHello(s1) ## this is how we should call the below function.\n",
    "Student.printHello()  ## HEre, if we call it method using class name, we will get error as\n",
    "                      ## we have to pass the object name explicitly.\n"
   ]
  },
  {
   "cell_type": "code",
   "execution_count": 3,
   "metadata": {},
   "outputs": [
    {
     "ename": "NameError",
     "evalue": "name 'name' is not defined",
     "output_type": "error",
     "traceback": [
      "\u001b[1;31m---------------------------------------------------------------------------\u001b[0m",
      "\u001b[1;31mNameError\u001b[0m                                 Traceback (most recent call last)",
      "\u001b[1;32m<ipython-input-3-eabeaae455b9>\u001b[0m in \u001b[0;36m<module>\u001b[1;34m\u001b[0m\n\u001b[0;32m     12\u001b[0m \u001b[0ms1\u001b[0m \u001b[1;33m=\u001b[0m \u001b[0mStudent\u001b[0m\u001b[1;33m(\u001b[0m\u001b[1;33m)\u001b[0m\u001b[1;33m\u001b[0m\u001b[1;33m\u001b[0m\u001b[0m\n\u001b[0;32m     13\u001b[0m \u001b[0ms1\u001b[0m\u001b[1;33m.\u001b[0m\u001b[0mname\u001b[0m  \u001b[1;33m=\u001b[0m \u001b[1;34m'MOohit'\u001b[0m\u001b[1;33m\u001b[0m\u001b[1;33m\u001b[0m\u001b[0m\n\u001b[1;32m---> 14\u001b[1;33m \u001b[0ms1\u001b[0m\u001b[1;33m.\u001b[0m\u001b[0mprintName\u001b[0m\u001b[1;33m(\u001b[0m\u001b[1;33m)\u001b[0m          \u001b[1;31m## We are getting error because the function is treating\u001b[0m\u001b[1;33m\u001b[0m\u001b[1;33m\u001b[0m\u001b[0m\n\u001b[0m\u001b[0;32m     15\u001b[0m                         \u001b[1;31m## name as local variable. If we want to access property of any object,\u001b[0m\u001b[1;33m\u001b[0m\u001b[1;33m\u001b[0m\u001b[1;33m\u001b[0m\u001b[0m\n\u001b[0;32m     16\u001b[0m                         \u001b[1;31m## we need to add self in it explicitly.\u001b[0m\u001b[1;33m\u001b[0m\u001b[1;33m\u001b[0m\u001b[1;33m\u001b[0m\u001b[0m\n",
      "\u001b[1;32m<ipython-input-3-eabeaae455b9>\u001b[0m in \u001b[0;36mprintName\u001b[1;34m(self)\u001b[0m\n\u001b[0;32m      8\u001b[0m \u001b[1;33m\u001b[0m\u001b[0m\n\u001b[0;32m      9\u001b[0m     \u001b[1;32mdef\u001b[0m \u001b[0mprintName\u001b[0m\u001b[1;33m(\u001b[0m\u001b[0mself\u001b[0m\u001b[1;33m)\u001b[0m\u001b[1;33m:\u001b[0m\u001b[1;33m\u001b[0m\u001b[1;33m\u001b[0m\u001b[0m\n\u001b[1;32m---> 10\u001b[1;33m         \u001b[0mprint\u001b[0m\u001b[1;33m(\u001b[0m\u001b[0mname\u001b[0m\u001b[1;33m)\u001b[0m\u001b[1;33m\u001b[0m\u001b[1;33m\u001b[0m\u001b[0m\n\u001b[0m\u001b[0;32m     11\u001b[0m \u001b[1;33m\u001b[0m\u001b[0m\n\u001b[0;32m     12\u001b[0m \u001b[0ms1\u001b[0m \u001b[1;33m=\u001b[0m \u001b[0mStudent\u001b[0m\u001b[1;33m(\u001b[0m\u001b[1;33m)\u001b[0m\u001b[1;33m\u001b[0m\u001b[1;33m\u001b[0m\u001b[0m\n",
      "\u001b[1;31mNameError\u001b[0m: name 'name' is not defined"
     ]
    }
   ],
   "source": [
    "class Student:   ##creating class\n",
    "    totalStudents = 20\n",
    "    classTeacherName = \"komal\"\n",
    "    \n",
    "    ## Instance methods\n",
    "    def printHello(self):\n",
    "        print(\"Hello\")\n",
    "    \n",
    "    def printName(self):\n",
    "        print(name)         \n",
    "\n",
    "s1 = Student()\n",
    "s1.name  = 'MOohit'\n",
    "s1.printName()          ## We are getting error because the function is treating \n",
    "                        ## name as local variable. If we want to access property of any object,\n",
    "                        ## we need to add self in it explicitly."
   ]
  },
  {
   "cell_type": "code",
   "execution_count": 4,
   "metadata": {},
   "outputs": [
    {
     "name": "stdout",
     "output_type": "stream",
     "text": [
      "MOohit\n"
     ]
    }
   ],
   "source": [
    "class Student:   ##creating class\n",
    "    totalStudents = 20\n",
    "    classTeacherName = \"komal\"\n",
    "    \n",
    "    ## Instance methods\n",
    "    def printHello(self):\n",
    "        print(\"Hello\")\n",
    "    \n",
    "    def printName(self):\n",
    "        print(self.name)       ## adding self before name will work.  \n",
    "\n",
    "s1 = Student()\n",
    "s1.name  = 'MOohit'\n",
    "s1.printName()  "
   ]
  },
  {
   "cell_type": "code",
   "execution_count": null,
   "metadata": {},
   "outputs": [],
   "source": []
  }
 ],
 "metadata": {
  "kernelspec": {
   "display_name": "Python 3",
   "language": "python",
   "name": "python3"
  },
  "language_info": {
   "codemirror_mode": {
    "name": "ipython",
    "version": 3
   },
   "file_extension": ".py",
   "mimetype": "text/x-python",
   "name": "python",
   "nbconvert_exporter": "python",
   "pygments_lexer": "ipython3",
   "version": "3.8.5"
  }
 },
 "nbformat": 4,
 "nbformat_minor": 4
}
