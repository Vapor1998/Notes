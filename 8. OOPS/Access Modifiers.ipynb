{
 "cells": [
  {
   "cell_type": "code",
   "execution_count": 4,
   "metadata": {},
   "outputs": [
    {
     "name": "stdout",
     "output_type": "stream",
     "text": [
      "20 Mohit  101\n",
      "122 Mohit  101\n"
     ]
    }
   ],
   "source": [
    "\n",
    "class Student:   ##creating class\n",
    "    totalStudents = 20\n",
    "    classTeacherName = \"komal\"\n",
    "    \n",
    "    def __init__(self, name, age, rn = 101):\n",
    "        self.name = name\n",
    "        self.__age = age     ## This is a private access modifier.\n",
    "        self.rn = rn\n",
    "        \n",
    "        \n",
    "    def getage(self):      ## This is a getter function to access the\n",
    "                           ## private properties outside the class.\n",
    "                           ## It will give error if we dont use two underscores before variable. \n",
    "        return self.__age \n",
    "    \n",
    "    def setage(self, age):\n",
    "        self.__age = age\n",
    "    \n",
    "        \n",
    "        \n",
    "\n",
    "\n",
    "\n",
    "s1 = Student(\"Mohit \", 20, 101)\n",
    "print(s1.getage(), s1.name, s1.rn)   ## Accessing private variable outside class\n",
    "s1.setage(122)\n",
    "print(s1.getage(), s1.name, s1.rn)"
   ]
  },
  {
   "cell_type": "code",
   "execution_count": 11,
   "metadata": {},
   "outputs": [
    {
     "name": "stdout",
     "output_type": "stream",
     "text": [
      "21 Mohit  101\n",
      "21 Mohit  101\n"
     ]
    }
   ],
   "source": [
    "## We are accessing the private member through the public member.\n",
    "## The use of this is we can add validation to the public member so that\n",
    "## only the required user can access the private member\n",
    "## eg.\n",
    "\n",
    "class Student:   ##creating class\n",
    "    totalStudents = 20\n",
    "    classTeacherName = \"komal\"\n",
    "    \n",
    "    def __init__(self, name, age, rn = 101):\n",
    "        self.name = name\n",
    "        self.__age = age     ## This is a private access modifier.\n",
    "        self.rn = rn\n",
    "        \n",
    "        \n",
    "    def getage(self):     \n",
    "        return self.__age \n",
    "    \n",
    "    def setage(self, age, passw):\n",
    "        if passw != 123:\n",
    "            return\n",
    "        if age == 20:\n",
    "            return\n",
    "        self.__age = age\n",
    "    \n",
    "        \n",
    "        \n",
    "\n",
    "\n",
    "\n",
    "s1 = Student(\"Mohit \", 21, 101)\n",
    "print(s1.getage(), s1.name, s1.rn)   ## Accessing private variable outside class\n",
    "s1.setage(20,1233)\n",
    "print(s1.getage(), s1.name, s1.rn)"
   ]
  },
  {
   "cell_type": "code",
   "execution_count": null,
   "metadata": {},
   "outputs": [],
   "source": [
    "\n",
    "\n",
    "while True:\n",
    "    Input = int(input())  \n",
    "    if Input == 6: \n",
    "        break\n",
    "    elif Input > 6:\n",
    "        print('Invalid Operation')\n",
    "    else:\n",
    "        num1 = int(input())\n",
    "        num2 = int(input())\n",
    "        \n",
    "    if Input == 1: \n",
    "        sum = num1 + num2\n",
    "        print(sum)\n",
    "\n",
    "    elif Input == 2: \n",
    "        difference = num1 - num2\n",
    "        print(difference)\n",
    "\n",
    "    elif Input == 3: \n",
    "        product = num1 * num2\n",
    "        print(product)\n",
    "\n",
    "    elif Input == 4: \n",
    "        quotient = num1 // num2\n",
    "        print(quotient)\n",
    "    \n",
    "    elif Input == 5: \n",
    "        remainder = num1 % num2\n",
    "        print(remainder)\n",
    "    elif Input == 6:\n",
    "        break\n",
    "    "
   ]
  }
 ],
 "metadata": {
  "kernelspec": {
   "display_name": "Python 3",
   "language": "python",
   "name": "python3"
  },
  "language_info": {
   "codemirror_mode": {
    "name": "ipython",
    "version": 3
   },
   "file_extension": ".py",
   "mimetype": "text/x-python",
   "name": "python",
   "nbconvert_exporter": "python",
   "pygments_lexer": "ipython3",
   "version": "3.8.5"
  }
 },
 "nbformat": 4,
 "nbformat_minor": 4
}
