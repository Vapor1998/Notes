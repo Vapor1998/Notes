{
 "cells": [
  {
   "cell_type": "code",
   "execution_count": 2,
   "metadata": {},
   "outputs": [],
   "source": [
    "class Student:    ## creating class\n",
    "    pass\n",
    "\n",
    "s1 = Student()   ## Creating object of a class\n",
    "s2 = Student()   \n",
    "s3 = Student()\n",
    "\n",
    "s1.name = \"Mohit\"   ## This will not work in the case of java or cpp, but we can define\n",
    "                    ## instance attributes without defining them in class.\n",
    "s1.age = 20\n",
    "\n",
    "## Objects can have different instance attributes\n",
    "## It is not necessary to define instance attributes inside the class in case of python.\n"
   ]
  },
  {
   "cell_type": "code",
   "execution_count": 3,
   "metadata": {},
   "outputs": [],
   "source": [
    "s2.rollNo = 101"
   ]
  },
  {
   "cell_type": "code",
   "execution_count": 4,
   "metadata": {},
   "outputs": [],
   "source": [
    "s3.age = 21\n",
    "\n",
    "## In python every instance of a class posseses a dictionary which holds a list of attributes.\n",
    "\n",
    "## We can access the values of this object or dictionary using __dict__ function.\n",
    "## syntax for that is ==  object.__dict__ "
   ]
  },
  {
   "cell_type": "code",
   "execution_count": 5,
   "metadata": {},
   "outputs": [
    {
     "name": "stdout",
     "output_type": "stream",
     "text": [
      "{'name': 'Mohit', 'age': 20}\n",
      "{'rollNo': 101}\n",
      "{'age': 21}\n"
     ]
    }
   ],
   "source": [
    "print(s1.__dict__)\n",
    "print(s2.__dict__)\n",
    "print(s3.__dict__)"
   ]
  },
  {
   "cell_type": "code",
   "execution_count": 6,
   "metadata": {},
   "outputs": [
    {
     "name": "stdout",
     "output_type": "stream",
     "text": [
      "{}\n"
     ]
    }
   ],
   "source": [
    "s4 = Student()\n",
    "print(s4.__dict__)   ## Object s4 does not have any attribute so the list is empty."
   ]
  },
  {
   "cell_type": "code",
   "execution_count": 7,
   "metadata": {},
   "outputs": [
    {
     "name": "stdout",
     "output_type": "stream",
     "text": [
      "Mohit\n"
     ]
    },
    {
     "ename": "AttributeError",
     "evalue": "'Student' object has no attribute 'name'",
     "output_type": "error",
     "traceback": [
      "\u001b[1;31m---------------------------------------------------------------------------\u001b[0m",
      "\u001b[1;31mAttributeError\u001b[0m                            Traceback (most recent call last)",
      "\u001b[1;32m<ipython-input-7-e7da38153f59>\u001b[0m in \u001b[0;36m<module>\u001b[1;34m\u001b[0m\n\u001b[0;32m      1\u001b[0m \u001b[0mprint\u001b[0m\u001b[1;33m(\u001b[0m\u001b[0ms1\u001b[0m\u001b[1;33m.\u001b[0m\u001b[0mname\u001b[0m\u001b[1;33m)\u001b[0m   \u001b[1;31m## This will fetch the value of that attirbute which is passed with object.\u001b[0m\u001b[1;33m\u001b[0m\u001b[1;33m\u001b[0m\u001b[0m\n\u001b[1;32m----> 2\u001b[1;33m \u001b[0mprint\u001b[0m\u001b[1;33m(\u001b[0m\u001b[0ms2\u001b[0m\u001b[1;33m.\u001b[0m\u001b[0mname\u001b[0m\u001b[1;33m)\u001b[0m   \u001b[1;31m## This will give error as there is no attribute name related to the object s2.\u001b[0m\u001b[1;33m\u001b[0m\u001b[1;33m\u001b[0m\u001b[0m\n\u001b[0m\u001b[0;32m      3\u001b[0m \u001b[1;33m\u001b[0m\u001b[0m\n",
      "\u001b[1;31mAttributeError\u001b[0m: 'Student' object has no attribute 'name'"
     ]
    }
   ],
   "source": [
    "print(s1.name)   ## This will fetch the value of that attirbute which is passed with object.\n",
    "print(s2.name)   ## This will give error as there is no attribute name related to the object s2.\n",
    "\n"
   ]
  },
  {
   "cell_type": "code",
   "execution_count": 8,
   "metadata": {},
   "outputs": [
    {
     "name": "stdout",
     "output_type": "stream",
     "text": [
      "True\n",
      "101\n",
      "test\n",
      "None\n",
      "{'age': 20}\n"
     ]
    }
   ],
   "source": [
    "## Inbuilt attributes function\n",
    "\n",
    "print(hasattr(s1, 'name'))  ## will check whether object has particular attribute or not.\n",
    "print(getattr(s2, 'rollNo'))   ## will get the value corrosponding to that attribute.\n",
    "print(getattr(s2, \"name\", \"test\"))  ## if attribute does not exist, it will give default passed value.\n",
    "print(setattr(s2, \"height\", 170)) ## will create new attribute of given object.\n",
    "delattr(s1, \"name\")  ## will delete corrosponding attribute.\n",
    "print(s1.__dict__)  ## will show attr deleted.`s"
   ]
  }
 ],
 "metadata": {
  "kernelspec": {
   "display_name": "Python 3",
   "language": "python",
   "name": "python3"
  },
  "language_info": {
   "codemirror_mode": {
    "name": "ipython",
    "version": 3
   },
   "file_extension": ".py",
   "mimetype": "text/x-python",
   "name": "python",
   "nbconvert_exporter": "python",
   "pygments_lexer": "ipython3",
   "version": "3.8.5"
  }
 },
 "nbformat": 4,
 "nbformat_minor": 4
}
