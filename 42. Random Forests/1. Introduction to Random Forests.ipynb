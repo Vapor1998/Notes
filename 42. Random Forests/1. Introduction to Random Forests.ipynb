{
 "cells": [
  {
   "cell_type": "markdown",
   "metadata": {},
   "source": [
    "#### Random Forest is Extension to Decision Trees."
   ]
  },
  {
   "cell_type": "markdown",
   "metadata": {},
   "source": [
    "Why do we need Random Forests?  \n",
    "What are the probles of Decision Tree that we are trying to solve here?  \n",
    "So good part of discussion around Decision Tree is overfitting.  \n",
    "We realized that DT are actually going to lead to overfitting, they are going to try and get every sample correct so that will lead to overfitting.  \n",
    "So to avoid overfitting we discussed few ways.  \n",
    "1. Limit to a max depth.   \n",
    "2. Limit to minimum change in our metric.  \n",
    "3. Pruning.(This is not implemented in sklearn yet.    \n",
    "  \n",
    "Even after all of these, we will end up in getting overfitting. \n",
    "So it might perform well on training data but not well on testing data.  \n",
    "When we have big data where we will realise that there are many outliers and algorithm might perform well on training data, but not on testing data.  \n",
    "What Random Forest says is instead of relyign on one testing tree, lets make many decision tree, and we will rely on majority result.  \n",
    "Lets say we have a problem where we want to predict a or b, so we create lets say three trees, one predicts b, second a, one a and third b.  \n",
    "Why will all three give different answers when we use same algorithm? Answer is we will not use same features, training data instead we some randomness in every tree, every tree will not be the same.   \n",
    "So we will predict b as answer.  \n",
    "Thats how we overcome ooverfitting.  \n"
   ]
  }
 ],
 "metadata": {
  "kernelspec": {
   "display_name": "Python 3",
   "language": "python",
   "name": "python3"
  },
  "language_info": {
   "codemirror_mode": {
    "name": "ipython",
    "version": 3
   },
   "file_extension": ".py",
   "mimetype": "text/x-python",
   "name": "python",
   "nbconvert_exporter": "python",
   "pygments_lexer": "ipython3",
   "version": "3.8.5"
  }
 },
 "nbformat": 4,
 "nbformat_minor": 4
}
