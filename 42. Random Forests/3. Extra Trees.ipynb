{
 "cells": [
  {
   "cell_type": "markdown",
   "metadata": {},
   "source": [
    "Now we know how randomly choose data and features helps us overfitting.  "
   ]
  },
  {
   "cell_type": "markdown",
   "metadata": {},
   "source": [
    "##### There is actually another level of doing the same thing, \n",
    "so if we remember how we decide which feature to split upon, what what we do is at each node, we go through all features, and we see which feature gives maximum benifit at this particular point whether it is gini index, gain ratio or information gain. And we decide to go through that feature.  \n",
    "Within that for continous data, we have to choose one point in which we can split.  \n",
    "So lets say x = 1.5, so data less than 1.5 will go to left split and data greater than 1.5 will go to right split.  \n",
    "So we have to choose this number as well.  \n",
    "In continous, not just which feature to choose, if we are choosing continous feature we need to choose which value to split as well.  \n",
    "Similarly in case of Gini Index, normally, If we have a feature, which has possible value a,b,c,d.In most of the cases if we split on this feautre, we are splitting these values into 4 differrent nodes.  \n",
    "For gini index, we decided we only have 2 splits, on one side we have subsets lets say {a, b, c}, on the other side, we have remaining subset {d}.  \n",
    "So we have to make decision which feature to split upon but also within that feature how to split.  \n",
    "SO incase of random forest, we have EXTRA TREES.  \n",
    "If we want we can add extra trees if we want.  \n",
    "And these extra trees will add extra level of randomness that will be what point to split on and feature to split on.  \n",
    "How exactly to split label data into subsets and how exactly choose number to split upon in continous data.  \n",
    "We will randomize that as well.  \n",
    "We will add this if we realize that there is more overfitting to avoid overfitting.  \n",
    "So along with chosing the data randomly and features randomly, it will add one more level of randomnessand that will be what point to split a feature upon.  "
   ]
  }
 ],
 "metadata": {
  "kernelspec": {
   "display_name": "Python 3",
   "language": "python",
   "name": "python3"
  },
  "language_info": {
   "codemirror_mode": {
    "name": "ipython",
    "version": 3
   },
   "file_extension": ".py",
   "mimetype": "text/x-python",
   "name": "python",
   "nbconvert_exporter": "python",
   "pygments_lexer": "ipython3",
   "version": "3.8.5"
  }
 },
 "nbformat": 4,
 "nbformat_minor": 4
}
