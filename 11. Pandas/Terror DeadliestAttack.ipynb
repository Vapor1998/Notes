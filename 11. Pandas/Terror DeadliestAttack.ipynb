{
 "cells": [
  {
   "cell_type": "code",
   "execution_count": 47,
   "metadata": {},
   "outputs": [
    {
     "name": "stdout",
     "output_type": "stream",
     "text": [
      "1570  Iraq  Islamic State of Iraq and the Levant (ISIL)\n"
     ]
    }
   ],
   "source": [
    "import numpy as np\n",
    "import pandas as pd\n",
    "\n",
    "terror =pd.read_csv(\"terrorismData.csv\")\n",
    "df = terror.copy()\n",
    "\n",
    "killed = df['Killed'].max()\n",
    "killedindex = df[df[\"Killed\"] == killed]  ## by adding  'index.values' at the end\n",
    "                                          ## will give index of the particular value \n",
    "    \n",
    "country = killedindex[\"Country\"].to_string(index=False)   ## This is the way to print the value from\n",
    "                                                          ## dataframe without label or index value.\n",
    "    \n",
    "killed = killedindex['Killed'].to_string(index = False)\n",
    "group = killedindex['Group'].to_string(index = False)\n",
    "\n",
    "kill = float(killed)\n",
    "kills = int(kill)\n",
    "print(kills, country , group)\n"
   ]
  },
  {
   "cell_type": "code",
   "execution_count": 1,
   "metadata": {},
   "outputs": [
    {
     "data": {
      "text/plain": [
       "1570.0"
      ]
     },
     "execution_count": 1,
     "metadata": {},
     "output_type": "execute_result"
    }
   ],
   "source": [
    "import numpy as np\n",
    "import pandas as pd\n",
    "\n",
    "terror =pd.read_csv(\"terrorismData.csv\")\n",
    "df = terror.copy()\n",
    "\n",
    "killed = df['Killed'].max()\n",
    "killed"
   ]
  },
  {
   "cell_type": "code",
   "execution_count": 2,
   "metadata": {},
   "outputs": [
    {
     "data": {
      "text/html": [
       "<div>\n",
       "<style scoped>\n",
       "    .dataframe tbody tr th:only-of-type {\n",
       "        vertical-align: middle;\n",
       "    }\n",
       "\n",
       "    .dataframe tbody tr th {\n",
       "        vertical-align: top;\n",
       "    }\n",
       "\n",
       "    .dataframe thead th {\n",
       "        text-align: right;\n",
       "    }\n",
       "</style>\n",
       "<table border=\"1\" class=\"dataframe\">\n",
       "  <thead>\n",
       "    <tr style=\"text-align: right;\">\n",
       "      <th></th>\n",
       "      <th>Year</th>\n",
       "      <th>Month</th>\n",
       "      <th>Day</th>\n",
       "      <th>Country</th>\n",
       "      <th>State</th>\n",
       "      <th>Region</th>\n",
       "      <th>City</th>\n",
       "      <th>Latitude</th>\n",
       "      <th>Longitude</th>\n",
       "      <th>AttackType</th>\n",
       "      <th>Killed</th>\n",
       "      <th>Wounded</th>\n",
       "      <th>Target</th>\n",
       "      <th>Summary</th>\n",
       "      <th>Group</th>\n",
       "      <th>Target_type</th>\n",
       "      <th>Weapon_type</th>\n",
       "    </tr>\n",
       "  </thead>\n",
       "  <tbody>\n",
       "    <tr>\n",
       "      <th>133518</th>\n",
       "      <td>2014</td>\n",
       "      <td>6</td>\n",
       "      <td>12</td>\n",
       "      <td>Iraq</td>\n",
       "      <td>Saladin</td>\n",
       "      <td>Middle East &amp; North Africa</td>\n",
       "      <td>Tikrit</td>\n",
       "      <td>34.621521</td>\n",
       "      <td>43.668377</td>\n",
       "      <td>Hostage Taking (Kidnapping)</td>\n",
       "      <td>1570.0</td>\n",
       "      <td>NaN</td>\n",
       "      <td>Soldiers</td>\n",
       "      <td>06/12/2014: Assailants abducted approximately ...</td>\n",
       "      <td>Islamic State of Iraq and the Levant (ISIL)</td>\n",
       "      <td>Military</td>\n",
       "      <td>Firearms</td>\n",
       "    </tr>\n",
       "  </tbody>\n",
       "</table>\n",
       "</div>"
      ],
      "text/plain": [
       "        Year  Month  Day Country    State                      Region    City  \\\n",
       "133518  2014      6   12    Iraq  Saladin  Middle East & North Africa  Tikrit   \n",
       "\n",
       "         Latitude  Longitude                   AttackType  Killed  Wounded  \\\n",
       "133518  34.621521  43.668377  Hostage Taking (Kidnapping)  1570.0      NaN   \n",
       "\n",
       "          Target                                            Summary  \\\n",
       "133518  Soldiers  06/12/2014: Assailants abducted approximately ...   \n",
       "\n",
       "                                              Group Target_type Weapon_type  \n",
       "133518  Islamic State of Iraq and the Levant (ISIL)    Military    Firearms  "
      ]
     },
     "execution_count": 2,
     "metadata": {},
     "output_type": "execute_result"
    }
   ],
   "source": [
    "killedindex = df[df[\"Killed\"] == killed]  \n",
    "killedindex"
   ]
  },
  {
   "cell_type": "code",
   "execution_count": 3,
   "metadata": {},
   "outputs": [
    {
     "data": {
      "text/plain": [
       "' Iraq'"
      ]
     },
     "execution_count": 3,
     "metadata": {},
     "output_type": "execute_result"
    }
   ],
   "source": [
    "country = killedindex[\"Country\"].to_string(index=False)\n",
    "country"
   ]
  },
  {
   "cell_type": "code",
   "execution_count": 4,
   "metadata": {},
   "outputs": [
    {
     "data": {
      "text/plain": [
       "' 1570.0'"
      ]
     },
     "execution_count": 4,
     "metadata": {},
     "output_type": "execute_result"
    }
   ],
   "source": [
    "killed = killedindex['Killed'].to_string(index = False)\n",
    "group = killedindex['Group'].to_string(index = False)\n",
    "killed"
   ]
  },
  {
   "cell_type": "code",
   "execution_count": 5,
   "metadata": {},
   "outputs": [
    {
     "data": {
      "text/plain": [
       "' Islamic State of Iraq and the Levant (ISIL)'"
      ]
     },
     "execution_count": 5,
     "metadata": {},
     "output_type": "execute_result"
    }
   ],
   "source": [
    "group"
   ]
  },
  {
   "cell_type": "code",
   "execution_count": 6,
   "metadata": {},
   "outputs": [
    {
     "data": {
      "text/plain": [
       "133518    1570.0\n",
       "Name: Killed, dtype: float64"
      ]
     },
     "execution_count": 6,
     "metadata": {},
     "output_type": "execute_result"
    }
   ],
   "source": [
    "killed = killedindex['Killed']\n",
    "killed"
   ]
  }
 ],
 "metadata": {
  "kernelspec": {
   "display_name": "Python 3 (ipykernel)",
   "language": "python",
   "name": "python3"
  },
  "language_info": {
   "codemirror_mode": {
    "name": "ipython",
    "version": 3
   },
   "file_extension": ".py",
   "mimetype": "text/x-python",
   "name": "python",
   "nbconvert_exporter": "python",
   "pygments_lexer": "ipython3",
   "version": "3.9.12"
  }
 },
 "nbformat": 4,
 "nbformat_minor": 4
}
