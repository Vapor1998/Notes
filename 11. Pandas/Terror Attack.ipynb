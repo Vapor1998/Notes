{
 "cells": [
  {
   "cell_type": "code",
   "execution_count": 21,
   "metadata": {},
   "outputs": [
    {
     "name": "stdout",
     "output_type": "stream",
     "text": [
      "Iraq 24636 2014\n"
     ]
    }
   ],
   "source": [
    "import numpy as np\n",
    "import pandas as pd\n",
    "\n",
    "terror =pd.read_csv(\"terrorismData.csv\")\n",
    "df = terror.copy()\n",
    "\n",
    "\n",
    "b = df[\"Country\"].value_counts()\n",
    "country = b.index[0]\n",
    "attacks = b.values[0]\n",
    "c = df[df[\"Country\"] == country]\n",
    "year = df['Year'].value_counts().index[0]\n",
    "print(country, attacks, year)\n",
    "\n",
    "\n",
    "\n",
    "\n"
   ]
  },
  {
   "cell_type": "code",
   "execution_count": 1,
   "metadata": {},
   "outputs": [
    {
     "name": "stdout",
     "output_type": "stream",
     "text": [
      "Iraq 24636 2014\n"
     ]
    }
   ],
   "source": [
    "import pandas as pd\n",
    "terror=pd.read_csv(\"terrorismData.csv\")\n",
    "df=terror.copy()\n",
    "maxAttacked_country= df[\"Country\"].value_counts().index[0]\n",
    "number_of_attacks=df[\"Country\"].value_counts().values[0]\n",
    "df=df[df[\"Country\"]==maxAttacked_country]\n",
    "maxAttacked_year=df[\"Year\"].value_counts().index[0]\n",
    "print(maxAttacked_country,number_of_attacks,maxAttacked_year)"
   ]
  }
 ],
 "metadata": {
  "kernelspec": {
   "display_name": "Python 3 (ipykernel)",
   "language": "python",
   "name": "python3"
  },
  "language_info": {
   "codemirror_mode": {
    "name": "ipython",
    "version": 3
   },
   "file_extension": ".py",
   "mimetype": "text/x-python",
   "name": "python",
   "nbconvert_exporter": "python",
   "pygments_lexer": "ipython3",
   "version": "3.9.12"
  }
 },
 "nbformat": 4,
 "nbformat_minor": 4
}
