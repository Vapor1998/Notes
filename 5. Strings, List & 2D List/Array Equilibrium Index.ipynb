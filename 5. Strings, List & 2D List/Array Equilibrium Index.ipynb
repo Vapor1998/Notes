{
 "cells": [
  {
   "cell_type": "code",
   "execution_count": 34,
   "metadata": {},
   "outputs": [
    {
     "name": "stdout",
     "output_type": "stream",
     "text": [
      "2\n",
      "3\n",
      "1 4 6\n",
      "-1\n",
      "3\n",
      "1 -1 4\n",
      "2\n"
     ]
    }
   ],
   "source": [
    "t= int(input())\n",
    "while t > 0:\n",
    "    s = int(input())\n",
    "    n = input().split()\n",
    "    a = [int(i) for i in n]\n",
    "    i = 0\n",
    "    l = len(a)\n",
    "    l_sum = 0\n",
    "    r_sum = 0\n",
    "    while i <= l:\n",
    "        l_sum = 0\n",
    "        r_sum = 0\n",
    "        for j in range(i):\n",
    "            l_sum+= a[j]\n",
    "        for k in range(i+1, l):\n",
    "            r_sum += a[k]\n",
    "            \n",
    "        if l_sum == r_sum:\n",
    "            print(i, sep = '')\n",
    "            break\n",
    "        i += 1\n",
    "    \n",
    "    else:\n",
    "        print(-1)\n",
    "    \n",
    "    t-= 1\n",
    "    \n",
    "## sep works"
   ]
  },
  {
   "cell_type": "code",
   "execution_count": 2,
   "metadata": {},
   "outputs": [
    {
     "name": "stdout",
     "output_type": "stream",
     "text": [
      "2\n",
      "2 3 4 5 5\n",
      "[5, 5, 4, 3, 2]\n"
     ]
    }
   ],
   "source": [
    "n = int(int(input()))\n",
    "s = input().split()\n",
    "arr = [int(i) for i in s]\n",
    "print(arr[::-1])"
   ]
  },
  {
   "cell_type": "code",
   "execution_count": 1,
   "metadata": {},
   "outputs": [
    {
     "name": "stdout",
     "output_type": "stream",
     "text": [
      "1\n",
      "5\n",
      "1 4 9 3 2\n",
      "2\n"
     ]
    }
   ],
   "source": [
    "def arrayequil(arr):\n",
    "    total_sum = sum(arr)\n",
    "    leftsum = 0\n",
    "    for i, num in enumerate(arr):\n",
    "        total_sum -= num\n",
    "        if leftsum == total_sum:\n",
    "            return i\n",
    "        leftsum += num\n",
    "    return -1\n",
    "\n",
    "\n",
    "\n",
    "t = int(input())\n",
    "while t > 0:\n",
    "    s = int(input())\n",
    "    n = input().split()\n",
    "    arr = [int(i) for i in n]\n",
    "    print(arrayequil(arr))\n",
    "    t-=1\n",
    "\n",
    "\n",
    "\n",
    "            \n",
    "            "
   ]
  },
  {
   "cell_type": "code",
   "execution_count": 35,
   "metadata": {},
   "outputs": [
    {
     "name": "stdout",
     "output_type": "stream",
     "text": [
      "2\n",
      "3\n",
      "1 4 6\n",
      "-1\n",
      "3\n",
      "1 -1 4\n",
      "2\n"
     ]
    }
   ],
   "source": [
    "def arrayequil(arr):\n",
    "    l_sum = 0\n",
    "    r_sum = 0\n",
    "    n = len(arr)\n",
    "    for i in range(n):\n",
    "        l_sum = 0\n",
    "        r_sum = 0\n",
    "        for j in range(i):\n",
    "            l_sum += arr[j]\n",
    "        for k in range(i+1, n):\n",
    "            r_sum += arr[k]\n",
    "        if l_sum == r_sum:\n",
    "            return i\n",
    "    return -1\n",
    "\n",
    "\n",
    "\n",
    "t = int(input())\n",
    "while t > 0:\n",
    "    s = int(input())\n",
    "    n = input().split()\n",
    "    arr = [int(i) for i in n]\n",
    "    print(arrayequil(arr))\n",
    "    t-=1\n",
    "\n",
    "\n",
    "\n",
    "            \n",
    "            "
   ]
  },
  {
   "cell_type": "code",
   "execution_count": null,
   "metadata": {},
   "outputs": [],
   "source": [
    "def fact(x):\n",
    "    if x == 1:\n",
    "        return 1\n",
    "    else:\n",
    "        return (x * fact(x-1))\n",
    "t = int(input())\n",
    "while t > 0:\n",
    "    num = int(input())\n",
    "    print(fact(num))"
   ]
  },
  {
   "cell_type": "code",
   "execution_count": null,
   "metadata": {},
   "outputs": [],
   "source": [
    "#import sys\n",
    "#sys.setrecursionlimit(10**7)\n",
    "import numpy as np\n",
    "\n",
    "def printPrime(n):\n",
    "    prime = np.array()\n",
    "    for num in range(0, n+1):\n",
    "        count = 0\n",
    "        for i in range(2, (num//2 + 1)):\n",
    "            if num%i == 0:\n",
    "                count += 1\n",
    "                break\n",
    "        if (count == 0 and num != 1):\n",
    "            prime.append(num)\n",
    "    return prime\n",
    "\n",
    "def takeInput():\n",
    "    n = int(input())\n",
    "    return n\n",
    "def printAns(ans):\n",
    "    for i in ans:\n",
    "        print(i, end = ' ')\n",
    "\n",
    "        \n",
    "n = takeInput()\n",
    "ans = printPrime(n)\n",
    "printAns(ans)\n",
    "            \n",
    "    "
   ]
  },
  {
   "cell_type": "code",
   "execution_count": 1,
   "metadata": {},
   "outputs": [
    {
     "ename": "ValueError",
     "evalue": "invalid literal for int() with base 10: ''",
     "output_type": "error",
     "traceback": [
      "\u001b[1;31m---------------------------------------------------------------------------\u001b[0m",
      "\u001b[1;31mValueError\u001b[0m                                Traceback (most recent call last)",
      "\u001b[1;32m<ipython-input-1-2e59f3c6cdf0>\u001b[0m in \u001b[0;36m<module>\u001b[1;34m\u001b[0m\n\u001b[0;32m     56\u001b[0m \u001b[1;33m\u001b[0m\u001b[0m\n\u001b[0;32m     57\u001b[0m \u001b[1;31m#main\u001b[0m\u001b[1;33m\u001b[0m\u001b[1;33m\u001b[0m\u001b[1;33m\u001b[0m\u001b[0m\n\u001b[1;32m---> 58\u001b[1;33m \u001b[0mt\u001b[0m \u001b[1;33m=\u001b[0m \u001b[0mint\u001b[0m\u001b[1;33m(\u001b[0m\u001b[0mstdin\u001b[0m\u001b[1;33m.\u001b[0m\u001b[0mreadline\u001b[0m\u001b[1;33m(\u001b[0m\u001b[1;33m)\u001b[0m\u001b[1;33m.\u001b[0m\u001b[0mstrip\u001b[0m\u001b[1;33m(\u001b[0m\u001b[1;33m)\u001b[0m\u001b[1;33m)\u001b[0m\u001b[1;33m\u001b[0m\u001b[1;33m\u001b[0m\u001b[0m\n\u001b[0m\u001b[0;32m     59\u001b[0m \u001b[1;33m\u001b[0m\u001b[0m\n\u001b[0;32m     60\u001b[0m \u001b[1;32mwhile\u001b[0m \u001b[0mt\u001b[0m \u001b[1;33m>\u001b[0m \u001b[1;36m0\u001b[0m \u001b[1;33m:\u001b[0m\u001b[1;33m\u001b[0m\u001b[1;33m\u001b[0m\u001b[0m\n",
      "\u001b[1;31mValueError\u001b[0m: invalid literal for int() with base 10: ''"
     ]
    }
   ],
   "source": [
    "from sys import stdin\n",
    "\n",
    "def arrayEquilibriumIndex(arr, n):\n",
    "    flag=0\n",
    "    k=0\n",
    "    for i in range(n-1):\n",
    "        if(sum(arr[k:i])==sum(arr[i+1:n])):\n",
    "            flag=1\n",
    "            return i\n",
    "    if(flag==0):\n",
    "        if(sum(arr[k:n-1])==0):\n",
    "            return (n-1)\n",
    "        else:\n",
    "            return (-1)\n",
    "\n",
    "\n",
    "\n",
    "\n",
    "\n",
    "\n",
    "\n",
    "\n",
    "\n",
    "\n",
    "\n",
    "\n",
    "\n",
    "\n",
    "\n",
    "\n",
    "\n",
    "\n",
    "\n",
    "\n",
    "\n",
    "\n",
    "\n",
    "\n",
    "\n",
    "\n",
    "#Taking input using fast I/O method\n",
    "def takeInput() :\n",
    "    n = int(stdin.readline().strip())\n",
    "    if n == 0 :\n",
    "        return list(), 0\n",
    "\n",
    "    arr = list(map(int, stdin.readline().strip().split(\" \")))\n",
    "    return arr, n\n",
    "\n",
    "\n",
    "def printList(arr, n) : \n",
    "    for i in range(n) :\n",
    "        print(arr[i], end = \" \")\n",
    "    print()\n",
    "\n",
    "\n",
    "#main\n",
    "t = int(stdin.readline().strip())\n",
    "\n",
    "while t > 0 :\n",
    "    \n",
    "    arr, n = takeInput()\n",
    "    print(arrayEquilibriumIndex(arr, n))\n",
    "\n",
    "    t-= 1"
   ]
  },
  {
   "cell_type": "code",
   "execution_count": 1,
   "metadata": {},
   "outputs": [
    {
     "name": "stdout",
     "output_type": "stream",
     "text": [
      "1\n",
      "5\n",
      "1 4 9 3 2\n",
      "2\n"
     ]
    }
   ],
   "source": [
    "## correct one \n",
    "def arrayequil(arr):\n",
    "    total_sum = sum(arr)\n",
    "    leftsum = 0\n",
    "    for i, num in enumerate(arr):\n",
    "        total_sum -= num\n",
    "        if leftsum == total_sum:\n",
    "            return i\n",
    "        leftsum += num\n",
    "    return -1\n",
    "\n",
    "\n",
    "\n",
    "t = int(input())\n",
    "while t > 0:\n",
    "    s = int(input())\n",
    "    n = input().split()\n",
    "    arr = [int(i) for i in n]\n",
    "    print(arrayequil(arr))\n",
    "    t-=1\n",
    "\n",
    "\n",
    "\n",
    "            \n",
    "            \n"
   ]
  },
  {
   "cell_type": "code",
   "execution_count": 1,
   "metadata": {},
   "outputs": [
    {
     "name": "stdout",
     "output_type": "stream",
     "text": [
      "1\n",
      "5\n",
      "1 4 9 3 2\n",
      "2\n"
     ]
    }
   ],
   "source": [
    "# also correct with one fail test case\n",
    "test_case = int(input())\n",
    "\n",
    "for i in range(test_case):\n",
    "    ans=-1\n",
    "    size = int(input())\n",
    "    a = [int(s) for s in input().split()]\n",
    "\n",
    "    for j in range(len(a)-1):\n",
    "        if sum(a[:j])==sum(a[j+1:]):\n",
    "            ans=j\n",
    "            break\n",
    "\n",
    "    if sum(a[:-1]) == 0 and ans == -1:\n",
    "        ans = size-1\n",
    "\n",
    "\n",
    "    print(ans)\n"
   ]
  },
  {
   "cell_type": "code",
   "execution_count": 6,
   "metadata": {},
   "outputs": [
    {
     "name": "stdout",
     "output_type": "stream",
     "text": [
      "1\n",
      "5\n",
      "1 4 9 3 2\n",
      "2\n"
     ]
    }
   ],
   "source": [
    "# also correct with one fail test case\n",
    "test_case = int(input())\n",
    "\n",
    "while test_case != 0:\n",
    "    ans=-1\n",
    "    size = int(input())\n",
    "    a = [int(s) for s in input().split()]\n",
    "\n",
    "    total_sum = sum(a)\n",
    "    leftsum = 0\n",
    "    for i, num in enumerate(a):\n",
    "        total_sum -= num\n",
    "        if leftsum == total_sum:\n",
    "            ans = i\n",
    "        leftsum += num\n",
    "     \n",
    "\n",
    "\n",
    "    print(ans)\n",
    "    test_case-=1\n"
   ]
  },
  {
   "cell_type": "code",
   "execution_count": null,
   "metadata": {},
   "outputs": [],
   "source": []
  }
 ],
 "metadata": {
  "kernelspec": {
   "display_name": "Python 3 (ipykernel)",
   "language": "python",
   "name": "python3"
  },
  "language_info": {
   "codemirror_mode": {
    "name": "ipython",
    "version": 3
   },
   "file_extension": ".py",
   "mimetype": "text/x-python",
   "name": "python",
   "nbconvert_exporter": "python",
   "pygments_lexer": "ipython3",
   "version": "3.9.12"
  }
 },
 "nbformat": 4,
 "nbformat_minor": 4
}
