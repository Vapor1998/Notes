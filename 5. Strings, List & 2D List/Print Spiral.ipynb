{
 "cells": [
  {
   "cell_type": "code",
   "execution_count": 7,
   "metadata": {},
   "outputs": [
    {
     "name": "stdout",
     "output_type": "stream",
     "text": [
      "2\n",
      "3 3\n",
      "1 2 3\n",
      "4 5 6\n",
      "7 8 9\n",
      "1 2 3 6 9 8 7 4 5 \n",
      "3 1\n",
      "10 \n",
      "20 \n",
      "30\n",
      "10 20 30 \n"
     ]
    }
   ],
   "source": [
    "from sys import stdin\n",
    "\n",
    "def spiralPrint(mat, nRows, mCols):\n",
    "    startRow, startCol, endRow, endCol = 0, 0, nRows -1, mCols - 1\n",
    "    while startRow <= endRow and startCol <= endCol:\n",
    "        for j in range(startCol, endCol + 1):\n",
    "            print(mat[startRow][j], end= ' ')\n",
    "        startRow+=1\n",
    "        if startRow>endRow or startCol > endCol : \n",
    "            break\n",
    "        for i in range(startRow, endRow+1):\n",
    "            print(mat[i][endCol], end=' ')\n",
    "        endCol -= 1\n",
    "        if startRow > endRow or startCol > endCol:\n",
    "            break\n",
    "        for j in range(endCol, startCol - 1, -1):\n",
    "            print(mat[endRow][j], end=' ')\n",
    "        endRow -= 1\n",
    "        if startRow > endRow or startCol > endCol:\n",
    "            break\n",
    "        for i in range(endRow, startRow - 1, -1):\n",
    "            print(mat[i][startCol], end = ' ')\n",
    "        startCol += 1\n",
    "\n",
    "\n",
    "\n",
    "\n",
    "\n",
    "#Taking Input Using Fast I/O\n",
    "def take2DInput() :\n",
    "    li = [int(i) for i in input().split()]\n",
    "    nRows = int(li[0])\n",
    "    mCols = int(li[1])\n",
    "    \n",
    "    if nRows == 0 :\n",
    "        return list(), 0, 0\n",
    "    \n",
    "    mat = [list(map(int, input().strip().split(\" \"))) for row in range(nRows)]\n",
    "    return mat, nRows, mCols\n",
    "\n",
    "\n",
    "#main\n",
    "t = int(input())\n",
    "\n",
    "while t > 0 :\n",
    "\n",
    "    mat, nRows, mCols = take2DInput()\n",
    "    spiralPrint(mat, nRows, mCols)\n",
    "    print()\n",
    "\n",
    "    t -= 1"
   ]
  }
 ],
 "metadata": {
  "kernelspec": {
   "display_name": "Python 3",
   "language": "python",
   "name": "python3"
  },
  "language_info": {
   "codemirror_mode": {
    "name": "ipython",
    "version": 3
   },
   "file_extension": ".py",
   "mimetype": "text/x-python",
   "name": "python",
   "nbconvert_exporter": "python",
   "pygments_lexer": "ipython3",
   "version": "3.8.5"
  }
 },
 "nbformat": 4,
 "nbformat_minor": 4
}
