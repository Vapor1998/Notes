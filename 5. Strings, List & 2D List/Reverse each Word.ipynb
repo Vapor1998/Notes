{
 "cells": [
  {
   "cell_type": "code",
   "execution_count": 10,
   "metadata": {},
   "outputs": [
    {
     "name": "stdout",
     "output_type": "stream",
     "text": [
      "How to print the rhombus pattern in the python language of the stars using the for loopWrite a python program to print the butterfly pattern of the numbers by using the for loopHow to print the hollow diamond pattern in python languagePython program to print diamond pattern of stars by using the for loopWrite a python program to draw a rectangle using for loop\n",
      "woH ot tnirp eht submohr nrettap ni eht nohtyp egaugnal fo eht srats gnisu eht rof etirWpool a nohtyp margorp ot tnirp eht ylfrettub nrettap fo eht srebmun yb gnisu eht rof woHpool ot tnirp eht wolloh dnomaid nrettap ni nohtyp nohtyPegaugnal margorp ot tnirp dnomaid nrettap fo srats yb gnisu eht rof etirWpool a nohtyp margorp ot ward a elgnatcer gnisu rof pool "
     ]
    }
   ],
   "source": [
    "n = input()\n",
    "a = n.split()\n",
    "for i in a:\n",
    "    print(i[::-1], end=' ')"
   ]
  }
 ],
 "metadata": {
  "kernelspec": {
   "display_name": "Python 3",
   "language": "python",
   "name": "python3"
  },
  "language_info": {
   "codemirror_mode": {
    "name": "ipython",
    "version": 3
   },
   "file_extension": ".py",
   "mimetype": "text/x-python",
   "name": "python",
   "nbconvert_exporter": "python",
   "pygments_lexer": "ipython3",
   "version": "3.8.5"
  }
 },
 "nbformat": 4,
 "nbformat_minor": 4
}
