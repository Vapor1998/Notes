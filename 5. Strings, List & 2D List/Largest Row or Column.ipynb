{
 "cells": [
  {
   "cell_type": "code",
   "execution_count": 29,
   "metadata": {},
   "outputs": [
    {
     "name": "stdout",
     "output_type": "stream",
     "text": [
      "1\n",
      "2 2\n",
      "1 1\n",
      "1 1\n",
      "row0 2\n"
     ]
    }
   ],
   "source": [
    "from sys import stdin\n",
    "MIN_VALUE = -2147483648\n",
    "\n",
    "def findLargest(arr, nRows, mCols):\n",
    "    #Your code goes here\n",
    "    isRow = True\n",
    "    largestSum = MIN_VALUE\n",
    "    num = 0\n",
    "    for i in range(nRows):\n",
    "        rowSum = 0\n",
    "        for j in range(mCols):\n",
    "            rowSum += arr[i][j]\n",
    "        if rowSum  > largestSum :\n",
    "            largestSum  = rowSum\n",
    "            num = i\n",
    "    \n",
    "    for j in range(mCols):\n",
    "        colSum = 0\n",
    "        for i in range(nRows):\n",
    "            colSum += arr[i][j]\n",
    "        if colSum > largestSum:\n",
    "            largestSum = colSum\n",
    "            num = j\n",
    "            isRow = False\n",
    "        \n",
    "    if isRow:\n",
    "        print(\"row\"+ str(num) + \" \"+ str(largestSum))\n",
    "    else:\n",
    "        print(\"column\" + str(num) + \" \" + str(largestSum))\n",
    "\n",
    "\n",
    "\n",
    "\n",
    "\n",
    "\n",
    "\n",
    "\n",
    "\n",
    "\n",
    "\n",
    "\n",
    "\n",
    "#Taking Input Using Fast I/O\n",
    "def take2DInput() :\n",
    "    li = [int(i) for i in input().split()]\n",
    "    nRows = int(li[0])\n",
    "    mCols = int(li[1])\n",
    "    \n",
    "    if nRows == 0 :\n",
    "        return list(), 0, 0\n",
    "    \n",
    "    mat = [list(map(int, input().strip().split(\" \"))) for row in range(nRows)]\n",
    "    return mat, nRows, mCols\n",
    "\n",
    "\n",
    "#main\n",
    "t = int(input())\n",
    "\n",
    "while t > 0 :\n",
    "\n",
    "    mat, nRows, mCols = take2DInput()\n",
    "    findLargest(mat, nRows, mCols)\n",
    "\n",
    "    t -= 1"
   ]
  },
  {
   "cell_type": "code",
   "execution_count": null,
   "metadata": {},
   "outputs": [],
   "source": []
  }
 ],
 "metadata": {
  "kernelspec": {
   "display_name": "Python 3",
   "language": "python",
   "name": "python3"
  }
 },
 "nbformat": 4,
 "nbformat_minor": 4
}
