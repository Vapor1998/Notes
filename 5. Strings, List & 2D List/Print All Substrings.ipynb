{
 "cells": [
  {
   "cell_type": "code",
   "execution_count": 3,
   "metadata": {},
   "outputs": [
    {
     "name": "stdout",
     "output_type": "stream",
     "text": [
      "co\n",
      "c\n",
      "co\n",
      "o\n"
     ]
    }
   ],
   "source": [
    "n = input()\n",
    "a = n\n",
    "l =  len(a)\n",
    "while  l > 0:\n",
    "    b = ''\n",
    "    for i in a:\n",
    "        b += i\n",
    "        print(b)\n",
    "    a = a[1:]\n",
    "    l -= 1\n",
    "    \n",
    "    "
   ]
  }
 ],
 "metadata": {
  "kernelspec": {
   "display_name": "Python 3",
   "language": "python",
   "name": "python3"
  },
  "language_info": {
   "codemirror_mode": {
    "name": "ipython",
    "version": 3
   },
   "file_extension": ".py",
   "mimetype": "text/x-python",
   "name": "python",
   "nbconvert_exporter": "python",
   "pygments_lexer": "ipython3",
   "version": "3.8.5"
  }
 },
 "nbformat": 4,
 "nbformat_minor": 4
}
