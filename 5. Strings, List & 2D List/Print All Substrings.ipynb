{
 "cells": [
  {
   "cell_type": "code",
   "execution_count": 2,
   "metadata": {},
   "outputs": [
    {
     "name": "stdout",
     "output_type": "stream",
     "text": [
      "cao\n",
      "c\n",
      "ca\n",
      "cao\n",
      "a\n",
      "ao\n",
      "o\n"
     ]
    }
   ],
   "source": [
    "n = input()\n",
    "a = n\n",
    "l =  len(a)\n",
    "while  l > 0:\n",
    "    b = ''\n",
    "    for i in a:\n",
    "        b += i\n",
    "        print(b)\n",
    "    a = a[1:]\n",
    "    l -= 1\n",
    "    \n",
    "    "
   ]
  },
  {
   "cell_type": "code",
   "execution_count": 10,
   "metadata": {},
   "outputs": [
    {
     "name": "stdout",
     "output_type": "stream",
     "text": [
      "cao\n",
      "c\n",
      "ca\n",
      "cao\n",
      "a\n",
      "ao\n",
      "o\n"
     ]
    }
   ],
   "source": [
    "str=input()\n",
    "i=0\n",
    "#k = 0\n",
    "while i!=len(str):\n",
    "    j=0\n",
    "    #k = 0\n",
    "    while j!=len(str)+1:\n",
    "        if len(str[i:j]) != 0:\n",
    "            print(str[i:j])\n",
    "        j=j+1\n",
    "       # k+=1\n",
    "    i=i+1\n",
    "\n"
   ]
  },
  {
   "cell_type": "code",
   "execution_count": 30,
   "metadata": {},
   "outputs": [
    {
     "name": "stdout",
     "output_type": "stream",
     "text": [
      "azzz\n"
     ]
    }
   ],
   "source": [
    "x = 'azxxzyyyddddyzzz'\n",
    "#x = 'abbcbddd'\n",
    "s = ''\n",
    "#i = 0\n",
    "flag = True\n",
    "while flag == True:\n",
    "    i = 0\n",
    "    while i != len(x):\n",
    "        try:\n",
    "            if i!= 0:\n",
    "                if x[i] == x[i+1] and x[i+1] != x[i+2]:\n",
    "                    x1 = x[:i]\n",
    "                    x2 = x[i+2:]\n",
    "                    x = x1+x2\n",
    "                    #print(x)\n",
    "        except IndexError:\n",
    "            break\n",
    "        \n",
    "        d= {}\n",
    "        for j in x:\n",
    "            d[j] = d.get(j,0)+1\n",
    "        #print(d)\n",
    "        q = len(d.values())\n",
    "        l = 0\n",
    "        for k in d.values():\n",
    "            if k%2 != 0:\n",
    "                l+=1\n",
    "        if l == q:\n",
    "            flag = False\n",
    "        \n",
    "        i+=1\n",
    "     #   s = x\n",
    "    #if len(x) == len(s):\n",
    "    #    i = 0\n",
    "        #flag = False\n",
    "    \n",
    "print(x)"
   ]
  }
 ],
 "metadata": {
  "kernelspec": {
   "display_name": "Python 3 (ipykernel)",
   "language": "python",
   "name": "python3"
  },
  "language_info": {
   "codemirror_mode": {
    "name": "ipython",
    "version": 3
   },
   "file_extension": ".py",
   "mimetype": "text/x-python",
   "name": "python",
   "nbconvert_exporter": "python",
   "pygments_lexer": "ipython3",
   "version": "3.9.12"
  }
 },
 "nbformat": 4,
 "nbformat_minor": 4
}
