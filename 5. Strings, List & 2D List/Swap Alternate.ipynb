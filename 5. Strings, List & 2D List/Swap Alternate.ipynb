{
 "cells": [
  {
   "cell_type": "code",
   "execution_count": 3,
   "metadata": {},
   "outputs": [
    {
     "name": "stdout",
     "output_type": "stream",
     "text": [
      "2\n",
      "4\n",
      "1 2 3 4\n",
      "2 1 4 3\n",
      "4\n",
      "2 3 4\n",
      "3 2 4\n"
     ]
    }
   ],
   "source": [
    "\n",
    "t = int(input())\n",
    "while t > 0:\n",
    "    s = int(input())\n",
    "    n = [int(ele) for ele in input().split()]\n",
    "    i = 0\n",
    "    j = len(n)\n",
    "    if j % 2 != 0:\n",
    "        j -= 1\n",
    "    while i < j:\n",
    "        n[i],n[i+1] = n[i+1], n[i]\n",
    "        i+=2\n",
    "    print(*n, sep=' ')\n",
    "    t-=1\n",
    "    \n",
    "\n",
    "    \n"
   ]
  },
  {
   "cell_type": "code",
   "execution_count": 45,
   "metadata": {},
   "outputs": [
    {
     "name": "stdout",
     "output_type": "stream",
     "text": [
      "1\n",
      "1 2 3 4\n",
      "1 2 3 4\n"
     ]
    }
   ],
   "source": [
    "\n",
    "\n",
    "s = int(input())\n",
    "n = [int(ele) for ele in input().split()]\n",
    "i = 0\n",
    "j = len(n)\n",
    "if j % 2 == 0:\n",
    "    j -= 1\n",
    "while i < j:\n",
    "    a = n[i]\n",
    "    b = n[i+1]\n",
    "    a, b = b, a\n",
    "    i += 2\n",
    "print(*n, sep=' ')\n",
    "    "
   ]
  },
  {
   "cell_type": "code",
   "execution_count": null,
   "metadata": {},
   "outputs": [],
   "source": []
  }
 ],
 "metadata": {
  "kernelspec": {
   "display_name": "Python 3 (ipykernel)",
   "language": "python",
   "name": "python3"
  },
  "language_info": {
   "codemirror_mode": {
    "name": "ipython",
    "version": 3
   },
   "file_extension": ".py",
   "mimetype": "text/x-python",
   "name": "python",
   "nbconvert_exporter": "python",
   "pygments_lexer": "ipython3",
   "version": "3.9.12"
  }
 },
 "nbformat": 4,
 "nbformat_minor": 4
}
