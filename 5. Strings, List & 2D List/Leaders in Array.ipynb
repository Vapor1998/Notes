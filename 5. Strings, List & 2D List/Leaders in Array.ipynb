{
 "cells": [
  {
   "cell_type": "code",
   "execution_count": 55,
   "metadata": {},
   "outputs": [
    {
     "name": "stdout",
     "output_type": "stream",
     "text": [
      "5\n",
      "13 17 5 4 6\n",
      "17 6\n"
     ]
    }
   ],
   "source": [
    "s = int(input())\n",
    "n = input().split()\n",
    "arr = [int(i) for i in n]\n",
    "l = len(arr)\n",
    "array = []\n",
    "max_from_right = arr[l - 1]\n",
    "array.append(max_from_right)\n",
    "for i in range(l-2, -1, -1):\n",
    "    if max_from_right <= arr[i]:\n",
    "        max_from_right = arr[i]\n",
    "        array.append(max_from_right)\n",
    "res = array[::-1]\n",
    "print(*res)\n",
    "    \n",
    "\n",
    "        \n",
    "        \n",
    "\n",
    "        \n"
   ]
  },
  {
   "cell_type": "code",
   "execution_count": null,
   "metadata": {},
   "outputs": [],
   "source": []
  }
 ],
 "metadata": {
  "kernelspec": {
   "display_name": "Python 3",
   "language": "python",
   "name": "python3"
  },
  "language_info": {
   "codemirror_mode": {
    "name": "ipython",
    "version": 3
   },
   "file_extension": ".py",
   "mimetype": "text/x-python",
   "name": "python",
   "nbconvert_exporter": "python",
   "pygments_lexer": "ipython3",
   "version": "3.8.5"
  }
 },
 "nbformat": 4,
 "nbformat_minor": 4
}
