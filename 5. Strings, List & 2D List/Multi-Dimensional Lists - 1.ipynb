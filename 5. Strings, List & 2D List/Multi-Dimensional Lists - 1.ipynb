{
 "cells": [
  {
   "cell_type": "markdown",
   "metadata": {},
   "source": [
    "## 2D list\n",
    "\n",
    "2D list in python are list of m x n size.  \n",
    "where m is number of list inside it and each list have n elements inside it.  \n"
   ]
  },
  {
   "cell_type": "code",
   "execution_count": 3,
   "metadata": {},
   "outputs": [],
   "source": [
    "a = [[1,2,3],[4,5]]"
   ]
  },
  {
   "cell_type": "code",
   "execution_count": 4,
   "metadata": {},
   "outputs": [
    {
     "data": {
      "text/plain": [
       "[[1, 2, 3], [4, 5]]"
      ]
     },
     "execution_count": 4,
     "metadata": {},
     "output_type": "execute_result"
    }
   ],
   "source": [
    "a"
   ]
  },
  {
   "cell_type": "code",
   "execution_count": 7,
   "metadata": {},
   "outputs": [
    {
     "data": {
      "text/plain": [
       "2"
      ]
     },
     "execution_count": 7,
     "metadata": {},
     "output_type": "execute_result"
    }
   ],
   "source": [
    "a[0][1]    ## Accessing element in 2d list."
   ]
  },
  {
   "cell_type": "code",
   "execution_count": 8,
   "metadata": {},
   "outputs": [
    {
     "data": {
      "text/plain": [
       "[1, 2, 3]"
      ]
     },
     "execution_count": 8,
     "metadata": {},
     "output_type": "execute_result"
    }
   ],
   "source": [
    "a[0]   ## accessing row in list."
   ]
  },
  {
   "cell_type": "code",
   "execution_count": 9,
   "metadata": {},
   "outputs": [
    {
     "data": {
      "text/plain": [
       "2"
      ]
     },
     "execution_count": 9,
     "metadata": {},
     "output_type": "execute_result"
    }
   ],
   "source": [
    "len(a)   ## shows len of list as it has 2 more list inside it."
   ]
  },
  {
   "cell_type": "code",
   "execution_count": 11,
   "metadata": {},
   "outputs": [
    {
     "data": {
      "text/plain": [
       "3"
      ]
     },
     "execution_count": 11,
     "metadata": {},
     "output_type": "execute_result"
    }
   ],
   "source": [
    "len(a[0])   ## shows len of list which is at 0th index inside main list."
   ]
  },
  {
   "cell_type": "code",
   "execution_count": 23,
   "metadata": {},
   "outputs": [
    {
     "name": "stdout",
     "output_type": "stream",
     "text": [
      "3 4\n",
      "1 2 3 4\n",
      "5 6 7 8\n",
      "8 7 6 5\n"
     ]
    },
    {
     "data": {
      "text/plain": [
       "[[1, 2, 3, 4], [5, 6, 7, 8], [8, 7, 6, 5]]"
      ]
     },
     "execution_count": 23,
     "metadata": {},
     "output_type": "execute_result"
    }
   ],
   "source": [
    "## Taking input inside list.\n",
    "sizes = input().split()  ## this will take input in the form of string and split it.\n",
    "m = int(sizes[0])        ## this will take first element of sizes and convert it into integer\n",
    "n = int(sizes[1])        ## this will take second element of sizes and convert it into integer\n",
    "l = []\n",
    "for i in range(m):\n",
    "    next_row = [int(i) for i in input().split()]\n",
    "    l.append(next_row)\n",
    "l \n",
    "\n",
    "## First we take input for number of rows i.e number of lists inside list, then we take \n",
    "## number of elements inside list. \n",
    "## then we create for loop that will run m times, then we take elements of every list and append it \n",
    "## to l."
   ]
  },
  {
   "cell_type": "code",
   "execution_count": 28,
   "metadata": {},
   "outputs": [
    {
     "name": "stdout",
     "output_type": "stream",
     "text": [
      "3 4\n",
      "1\n",
      "2\n",
      "3\n",
      "4\n",
      "5\n",
      "6\n",
      "7\n",
      "8\n",
      "8\n",
      "7\n",
      "6\n",
      "5\n"
     ]
    },
    {
     "data": {
      "text/plain": [
       "[[1, 2, 3, 4], [5, 6, 7, 8], [8, 7, 6, 5]]"
      ]
     },
     "execution_count": 28,
     "metadata": {},
     "output_type": "execute_result"
    }
   ],
   "source": [
    "sizes = input().split()  \n",
    "m = int(sizes[0])       \n",
    "n = int(sizes[1])   \n",
    "l = []\n",
    "for i in range(m):\n",
    "    next_row = []\n",
    "    for j in range(n):\n",
    "        ele = int(input())\n",
    "        next_row.append(ele)\n",
    "    l.append(next_row)\n",
    "l\n",
    "\n",
    "## taking elements of the list in new line."
   ]
  },
  {
   "cell_type": "code",
   "execution_count": 29,
   "metadata": {},
   "outputs": [
    {
     "name": "stdout",
     "output_type": "stream",
     "text": [
      "3 4 \n",
      "1 2 3 4 5 6 7 8 8 7 6 5\n"
     ]
    },
    {
     "data": {
      "text/plain": [
       "[[1, 2, 3, 4], [5, 6, 7, 8], [8, 7, 6, 5]]"
      ]
     },
     "execution_count": 29,
     "metadata": {},
     "output_type": "execute_result"
    }
   ],
   "source": [
    "sizes = input().split()  \n",
    "m = int(sizes[0])       \n",
    "n = int(sizes[1])\n",
    "l_1d = [int(i) for i in input().split()]\n",
    "l = []\n",
    "for i in range(m):\n",
    "    start_index = 4 * i\n",
    "    end_index = n *(i + 1)\n",
    "    next_row = l_1d[start_index : end_index]\n",
    "    l.append(next_row)\n",
    "l"
   ]
  }
 ],
 "metadata": {
  "kernelspec": {
   "display_name": "Python 3",
   "language": "python",
   "name": "python3"
  },
  "language_info": {
   "codemirror_mode": {
    "name": "ipython",
    "version": 3
   },
   "file_extension": ".py",
   "mimetype": "text/x-python",
   "name": "python",
   "nbconvert_exporter": "python",
   "pygments_lexer": "ipython3",
   "version": "3.8.5"
  }
 },
 "nbformat": 4,
 "nbformat_minor": 4
}
