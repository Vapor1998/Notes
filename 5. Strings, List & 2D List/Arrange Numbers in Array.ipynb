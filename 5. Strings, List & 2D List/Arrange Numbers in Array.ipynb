{
 "cells": [
  {
   "cell_type": "code",
   "execution_count": 21,
   "metadata": {},
   "outputs": [
    {
     "name": "stdout",
     "output_type": "stream",
     "text": [
      "2\n",
      "9\n",
      "1 3 5 7 9 8 6 4 2 3\n",
      "1 3 2 "
     ]
    }
   ],
   "source": [
    "t = int(input())\n",
    "while t > 0:\n",
    "    n = int(input())\n",
    "    l= []\n",
    "    m = []\n",
    "    \n",
    "    for i in range(1, n+1):\n",
    "        if i % 2 != 0:\n",
    "            l.append(i)\n",
    "    \n",
    "    for i in range(1, n+1):\n",
    "        if i % 2 == 0:\n",
    "            m.append(i)\n",
    "    m.sort(reverse= True)\n",
    "    l.extend(m)\n",
    "    print(*l, end = ' ')\n",
    "    \n",
    "    \n",
    "    \n",
    "    t-= 1\n",
    "    \n",
    "## Everytime there is number of cases is required as input, we need to add sep = ' ' as\n",
    "## sep is used to seprate the arguments while end is used to end the argument.\n",
    "\n",
    "## Observation is that using end = ' ' gives error in output while using sep =' ' runs the code\n",
    "## properly. This case occured when input requires number of test cases.\n",
    "    "
   ]
  },
  {
   "cell_type": "code",
   "execution_count": 20,
   "metadata": {},
   "outputs": [
    {
     "name": "stdout",
     "output_type": "stream",
     "text": [
      "2\n",
      "9\n",
      "1 3 5 7 9 8 6 4 2\n",
      "3\n",
      "1 3 2\n"
     ]
    }
   ],
   "source": [
    "t = int(input())\n",
    "while t > 0:\n",
    "    n = int(input())\n",
    "    l= []\n",
    "    m = []\n",
    "    \n",
    "    for i in range(1, n+1):\n",
    "        if i % 2 != 0:\n",
    "            l.append(i)\n",
    "    \n",
    "    for i in range(1, n+1):\n",
    "        if i % 2 == 0:\n",
    "            m.append(i)\n",
    "    m.sort(reverse= True)\n",
    "    l.extend(m)\n",
    "    print(*l, sep = ' ')\n",
    "    \n",
    "    \n",
    "    \n",
    "    t-= 1\n",
    "    \n",
    "## YOU CAN SEE THE DIFFERENCE BETWEEN TWO OUTPUTS. Running both of them coding ninjas platform will\n",
    "## give you clear difference between sep and end keyword.\n",
    "## Note sep is used only when there is no of cases required in input.\n",
    "## It is used at the time when we need to print the output of first case so that the\n",
    "## second case is seprately asked.\n",
    "\n",
    "\n",
    "\n",
    "\n",
    "## If we dont want to use functions for writing code which requires the no of test cases, \n",
    "## following is the pattern you should follow to write code without pattern\n",
    "\n",
    "## t = no of test cases\n",
    "## while t > 0:\n",
    "##     n = input of case\n",
    "##     |\n",
    "##     your logic \n",
    "##     print your statement\n",
    "##     as per requirement.\n",
    "##     if printing whole string or list,\n",
    "##     use the below print statement\n",
    "##     print(list or string, sep=' ')\n",
    "##    |\n",
    "##    t-=1\n",
    "##\n",
    "##\n",
    "##\n",
    "##"
   ]
  },
  {
   "cell_type": "code",
   "execution_count": null,
   "metadata": {},
   "outputs": [],
   "source": []
  }
 ],
 "metadata": {
  "kernelspec": {
   "display_name": "Python 3 (ipykernel)",
   "language": "python",
   "name": "python3"
  },
  "language_info": {
   "codemirror_mode": {
    "name": "ipython",
    "version": 3
   },
   "file_extension": ".py",
   "mimetype": "text/x-python",
   "name": "python",
   "nbconvert_exporter": "python",
   "pygments_lexer": "ipython3",
   "version": "3.9.12"
  }
 },
 "nbformat": 4,
 "nbformat_minor": 4
}
