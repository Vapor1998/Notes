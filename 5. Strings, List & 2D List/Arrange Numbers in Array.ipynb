{
 "cells": [
  {
   "cell_type": "code",
   "execution_count": 21,
   "metadata": {},
   "outputs": [
    {
     "name": "stdout",
     "output_type": "stream",
     "text": [
      "2\n",
      "9\n",
      "1 3 5 7 9 8 6 4 2 3\n",
      "1 3 2 "
     ]
    }
   ],
   "source": [
    "t = int(input())\n",
    "while t > 0:\n",
    "    n = int(input())\n",
    "    l= []\n",
    "    m = []\n",
    "    \n",
    "    for i in range(1, n+1):\n",
    "        if i % 2 != 0:\n",
    "            l.append(i)\n",
    "    \n",
    "    for i in range(1, n+1):\n",
    "        if i % 2 == 0:\n",
    "            m.append(i)\n",
    "    m.sort(reverse= True)\n",
    "    l.extend(m)\n",
    "    print(*l, end = ' ')\n",
    "    \n",
    "    \n",
    "    \n",
    "    t-= 1\n",
    "    \n",
    "## Everytime there is number of cases is required as input, we need to add sep = ' ' as\n",
    "## sep is used to seprate the arguments while end is used to end the argument.\n",
    "\n",
    "## Observation is that using end = ' ' gives error in output while using sep =' ' runs the code\n",
    "## properly. This case occured when input requires number of test cases.\n",
    "    "
   ]
  },
  {
   "cell_type": "code",
   "execution_count": 1,
   "metadata": {},
   "outputs": [
    {
     "ename": "ValueError",
     "evalue": "invalid literal for int() with base 10: ''",
     "output_type": "error",
     "traceback": [
      "\u001b[1;31m---------------------------------------------------------------------------\u001b[0m",
      "\u001b[1;31mValueError\u001b[0m                                Traceback (most recent call last)",
      "Input \u001b[1;32mIn [1]\u001b[0m, in \u001b[0;36m<cell line: 31>\u001b[1;34m()\u001b[0m\n\u001b[0;32m     26\u001b[0m     \u001b[38;5;28mprint\u001b[39m()\n\u001b[0;32m     30\u001b[0m \u001b[38;5;66;03m#main\u001b[39;00m\n\u001b[1;32m---> 31\u001b[0m t \u001b[38;5;241m=\u001b[39m \u001b[38;5;28;43mint\u001b[39;49m\u001b[43m(\u001b[49m\u001b[43mstdin\u001b[49m\u001b[38;5;241;43m.\u001b[39;49m\u001b[43mreadline\u001b[49m\u001b[43m(\u001b[49m\u001b[43m)\u001b[49m\u001b[38;5;241;43m.\u001b[39;49m\u001b[43mstrip\u001b[49m\u001b[43m(\u001b[49m\u001b[43m)\u001b[49m\u001b[43m)\u001b[49m\n\u001b[0;32m     33\u001b[0m \u001b[38;5;28;01mwhile\u001b[39;00m t \u001b[38;5;241m>\u001b[39m \u001b[38;5;241m0\u001b[39m :\n\u001b[0;32m     34\u001b[0m     n \u001b[38;5;241m=\u001b[39m \u001b[38;5;28mint\u001b[39m(stdin\u001b[38;5;241m.\u001b[39mreadline()\u001b[38;5;241m.\u001b[39mstrip())\n",
      "\u001b[1;31mValueError\u001b[0m: invalid literal for int() with base 10: ''"
     ]
    }
   ],
   "source": [
    "from sys import stdin\n",
    "# name sahil  hisahil10@gmail.com\n",
    "def arrange(arr, n) :\n",
    "    #Your code goes her\n",
    "    j=n\n",
    "    k=0\n",
    "    p=n-1\n",
    "    s=0\n",
    "    for i in range(0,int((n)//2)):\n",
    "       # print(\"k=\",k,\"s=\",s,\"p=\",p,\"i=\",i)\n",
    "    \t#if i != 0:\n",
    "        s=s+1\n",
    "        arr[k]=s\n",
    "        s=s+1\n",
    "        arr[p] = s\n",
    "        k=k+1\n",
    "        p=p-1\n",
    "        j=j-1\n",
    "    return arr\n",
    "\n",
    "\n",
    "#to print the array/list\n",
    "def printList(arr, n) :\n",
    "    for i in range(n) :\n",
    "        print(arr[i], end = ' ')\n",
    "    print()\n",
    "\n",
    "\n",
    "\n",
    "#main\n",
    "t = int(stdin.readline().strip())\n",
    "\n",
    "while t > 0 :\n",
    "    n = int(stdin.readline().strip())\n",
    "    arr = n * [0]\n",
    "    arrange(arr, n)\n",
    "    printList(arr, n)\n",
    "    t -= 1"
   ]
  },
  {
   "cell_type": "code",
   "execution_count": 20,
   "metadata": {},
   "outputs": [
    {
     "name": "stdout",
     "output_type": "stream",
     "text": [
      "2\n",
      "9\n",
      "1 3 5 7 9 8 6 4 2\n",
      "3\n",
      "1 3 2\n"
     ]
    }
   ],
   "source": [
    "t = int(input())\n",
    "while t > 0:\n",
    "    n = int(input())\n",
    "    l= []\n",
    "    m = []\n",
    "    \n",
    "    for i in range(1, n+1):\n",
    "        if i % 2 != 0:\n",
    "            l.append(i)\n",
    "    \n",
    "    for i in range(1, n+1):\n",
    "        if i % 2 == 0:\n",
    "            m.append(i)\n",
    "    m.sort(reverse= True)\n",
    "    l.extend(m)\n",
    "    print(*l, sep = ' ')\n",
    "    \n",
    "    \n",
    "    \n",
    "    t-= 1\n",
    "    \n",
    "## YOU CAN SEE THE DIFFERENCE BETWEEN TWO OUTPUTS. Running both of them coding ninjas platform will\n",
    "## give you clear difference between sep and end keyword.\n",
    "## Note sep is used only when there is no of cases required in input.\n",
    "## It is used at the time when we need to print the output of first case so that the\n",
    "## second case is seprately asked.\n",
    "\n",
    "\n",
    "\n",
    "\n",
    "## If we dont want to use functions for writing code which requires the no of test cases, \n",
    "## following is the pattern you should follow to write code without pattern\n",
    "\n",
    "## t = no of test cases\n",
    "## while t > 0:\n",
    "##     n = input of case\n",
    "##     |\n",
    "##     your logic \n",
    "##     print your statement\n",
    "##     as per requirement.\n",
    "##     if printing whole string or list,\n",
    "##     use the below print statement\n",
    "##     print(list or string, sep=' ')\n",
    "##    |\n",
    "##    t-=1\n",
    "##\n",
    "##\n",
    "##\n",
    "##"
   ]
  },
  {
   "cell_type": "code",
   "execution_count": 3,
   "metadata": {},
   "outputs": [
    {
     "name": "stdout",
     "output_type": "stream",
     "text": [
      "2\n",
      "9\n",
      "1 3 5 7 9 8 6 4 2 3\n",
      "1 3 2 "
     ]
    }
   ],
   "source": [
    "t = int(input())\n",
    "while t > 0:\n",
    "    n = int(input())\n",
    "    l= []\n",
    "    m = []\n",
    "    \n",
    "    for i in range(1, n+1):\n",
    "        if i % 2 != 0:\n",
    "            l.append(i)\n",
    "    \n",
    "    for i in range(1, n+1):\n",
    "        if i % 2 == 0:\n",
    "            m.append(i)\n",
    "    m.sort(reverse= True)\n",
    "    l.extend(m)\n",
    "    print(*l, end = ' ')\n",
    "    \n",
    "    \n",
    "    \n",
    "    t-= 1\n",
    "    "
   ]
  },
  {
   "cell_type": "code",
   "execution_count": 1,
   "metadata": {},
   "outputs": [
    {
     "ename": "TypeError",
     "evalue": "'int' object is not iterable",
     "output_type": "error",
     "traceback": [
      "\u001b[1;31m---------------------------------------------------------------------------\u001b[0m",
      "\u001b[1;31mTypeError\u001b[0m                                 Traceback (most recent call last)",
      "Input \u001b[1;32mIn [1]\u001b[0m, in \u001b[0;36m<cell line: 2>\u001b[1;34m()\u001b[0m\n\u001b[0;32m      1\u001b[0m a \u001b[38;5;241m=\u001b[39m [\u001b[38;5;241m1\u001b[39m,\u001b[38;5;241m2\u001b[39m,\u001b[38;5;241m3\u001b[39m,\u001b[38;5;241m4\u001b[39m]\n\u001b[0;32m      2\u001b[0m \u001b[38;5;28;01mfor\u001b[39;00m i \u001b[38;5;129;01min\u001b[39;00m a:\n\u001b[1;32m----> 3\u001b[0m     \u001b[38;5;28;01mfor\u001b[39;00m j \u001b[38;5;129;01min\u001b[39;00m i:\n\u001b[0;32m      4\u001b[0m         \u001b[38;5;28mprint\u001b[39m(j)\n",
      "\u001b[1;31mTypeError\u001b[0m: 'int' object is not iterable"
     ]
    }
   ],
   "source": [
    "a = [1,2,3,4]\n",
    "for i in a:\n",
    "    for j in i:\n",
    "        print(j)"
   ]
  }
 ],
 "metadata": {
  "kernelspec": {
   "display_name": "Python 3 (ipykernel)",
   "language": "python",
   "name": "python3"
  },
  "language_info": {
   "codemirror_mode": {
    "name": "ipython",
    "version": 3
   },
   "file_extension": ".py",
   "mimetype": "text/x-python",
   "name": "python",
   "nbconvert_exporter": "python",
   "pygments_lexer": "ipython3",
   "version": "3.9.12"
  }
 },
 "nbformat": 4,
 "nbformat_minor": 4
}
