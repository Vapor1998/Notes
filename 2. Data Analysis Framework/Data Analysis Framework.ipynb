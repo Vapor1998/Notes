{
 "cells": [
  {
   "cell_type": "markdown",
   "id": "8220458e",
   "metadata": {},
   "source": [
    "# `One of the ways to handle missing values`"
   ]
  },
  {
   "cell_type": "markdown",
   "id": "ffe869f1",
   "metadata": {},
   "source": [
    "### `1. Drop the whole Row`  \n",
    "Lets say we have 2 million rows and we have only one `nan` value. Lets say we remove one particular row.  \n",
    "In a Nutshell,   \n",
    "`200 Million Rows - 4 missing Values = No impact on data`  \n",
    "`200 Rows - 4 Missing Values = Might Impact the Data`\n"
   ]
  },
  {
   "cell_type": "markdown",
   "id": "8ea97695",
   "metadata": {},
   "source": [
    "### `2. Replace the Value`  \n",
    "We can replace it with different values  \n",
    "`0`  \n",
    "`Average of the column`  \n",
    "`Median`  "
   ]
  },
  {
   "cell_type": "markdown",
   "id": "7f5ef4f7",
   "metadata": {},
   "source": [
    "# `What is Outlier?`"
   ]
  },
  {
   "cell_type": "markdown",
   "id": "153023db",
   "metadata": {},
   "source": [
    "We know that already, one of the variation is -  \n",
    "`Lets say we have an income column, So some people can have income of 1000$, 2000$ etc. It might be possible that someone can have income of 20000000000$. Thats outlier.`    \n",
    "\n",
    "#### `Outlier can be present in the same row.`"
   ]
  },
  {
   "cell_type": "markdown",
   "id": "50293446",
   "metadata": {},
   "source": [
    "Lets say if we take the average value of the above including outlier, it will be somewhere 400000000 and our analysis will be completely different if we exclude the outlier. The average value will be then 1500.    \n",
    "Outlier might provide you with some information in your dataset.   \n",
    "**`The best way to handle outlier is to perform the analysis including and excluding the outliers.`**  \n",
    "This will give the clear picture to stakeholders about whats happening in both the scenarios. And this will help stakeholders to make much more informed decision."
   ]
  },
  {
   "cell_type": "markdown",
   "id": "9084485c",
   "metadata": {},
   "source": [
    "### `Feature Engineering`  \n",
    "Feature engineering is an art.   \n",
    "**`We can multiply, divide, add or subtract.. etc and do many more things with n features to make a new  feature`**"
   ]
  }
 ],
 "metadata": {
  "kernelspec": {
   "display_name": "Python 3 (ipykernel)",
   "language": "python",
   "name": "python3"
  },
  "language_info": {
   "codemirror_mode": {
    "name": "ipython",
    "version": 3
   },
   "file_extension": ".py",
   "mimetype": "text/x-python",
   "name": "python",
   "nbconvert_exporter": "python",
   "pygments_lexer": "ipython3",
   "version": "3.9.12"
  }
 },
 "nbformat": 4,
 "nbformat_minor": 5
}
