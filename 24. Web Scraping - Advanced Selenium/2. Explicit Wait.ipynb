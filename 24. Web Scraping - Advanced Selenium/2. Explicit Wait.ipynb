{
 "cells": [
  {
   "cell_type": "code",
   "execution_count": 1,
   "metadata": {},
   "outputs": [],
   "source": [
    "## As we saw in implicit wait, whenever we apply this wait, it will be applied globally. that means it\n",
    "## will be associated with driver objects life.\n",
    "## i.e lets sat we add wait for 10 secs, driver will always wait for 10s for searching element.\n",
    "## so its not good to use this wait everytime.\n",
    "\n",
    "## This will completely slow down the process which we really dont want to do, so we need a different alternative\n",
    "## Which is present in the form of explicit wait."
   ]
  },
  {
   "cell_type": "code",
   "execution_count": 2,
   "metadata": {},
   "outputs": [],
   "source": [
    "## In order to locate different element, wait time is different for each element.\n",
    "## lets say if we want to locaate 10 elements, wait time is different for each element.\n",
    "## So all this cannot be achieved in implicit wait. we can achieve this using explicit wait.\n",
    "\n",
    "## In explixit wait, we generally specify a condition till which webdriver need to wait before it throws any kind of exception.\n",
    "## In explicit wait, we need to add condition and the upper limit which is the max time webdriver needs to wait when finding\n",
    "## the element.\n",
    "## Lets say upper limit is 20 sec, if the element is not found in 20 sec, it will throw exception i.e. NoSuchElementException."
   ]
  },
  {
   "cell_type": "code",
   "execution_count": 7,
   "metadata": {},
   "outputs": [
    {
     "ename": "NameError",
     "evalue": "name 'By' is not defined",
     "output_type": "error",
     "traceback": [
      "\u001b[1;31m---------------------------------------------------------------------------\u001b[0m",
      "\u001b[1;31mNameError\u001b[0m                                 Traceback (most recent call last)",
      "\u001b[1;32m<ipython-input-7-f39cffd32229>\u001b[0m in \u001b[0;36m<module>\u001b[1;34m\u001b[0m\n\u001b[0;32m     20\u001b[0m \u001b[1;31m## to pass the locator in which we need to locate the element and the location of element.\u001b[0m\u001b[1;33m\u001b[0m\u001b[1;33m\u001b[0m\u001b[1;33m\u001b[0m\u001b[0m\n\u001b[0;32m     21\u001b[0m \u001b[1;33m\u001b[0m\u001b[0m\n\u001b[1;32m---> 22\u001b[1;33m \u001b[0mlap1\u001b[0m \u001b[1;33m=\u001b[0m \u001b[0mwait\u001b[0m\u001b[1;33m.\u001b[0m\u001b[0muntil\u001b[0m\u001b[1;33m(\u001b[0m\u001b[0mEC\u001b[0m\u001b[1;33m.\u001b[0m\u001b[0mpresence_of_element_located\u001b[0m\u001b[1;33m(\u001b[0m\u001b[1;33m(\u001b[0m\u001b[0mBy\u001b[0m\u001b[1;33m.\u001b[0m\u001b[0mCLASS_NAME\u001b[0m\u001b[1;33m,\u001b[0m \u001b[1;34m'ps-title'\u001b[0m \u001b[1;33m)\u001b[0m\u001b[1;33m)\u001b[0m\u001b[1;33m)\u001b[0m\u001b[1;33m\u001b[0m\u001b[1;33m\u001b[0m\u001b[0m\n\u001b[0m\u001b[0;32m     23\u001b[0m \u001b[1;33m\u001b[0m\u001b[0m\n\u001b[0;32m     24\u001b[0m \u001b[0mlap1\u001b[0m\u001b[1;33m\u001b[0m\u001b[1;33m\u001b[0m\u001b[0m\n",
      "\u001b[1;31mNameError\u001b[0m: name 'By' is not defined"
     ]
    }
   ],
   "source": [
    "from selenium.webdriver.support.ui import WebDriverWait\n",
    "from selenium.webdriver.support import expected_conditions as EC\n",
    "from selenium import webdriver\n",
    "\n",
    "driver = webdriver.Chrome(executable_path = r\"C:\\Users\\hashi\\Downloads\\chromedriver_win32 (1)\\chromedriver.exe\")  \n",
    "\n",
    "driver.get('https://www.dell.com/en-in')\n",
    "tb = driver.find_element_by_class_name('mh-search-input')\n",
    "tb.send_keys(\"gaming laptops\")\n",
    "from selenium.webdriver.common.keys import Keys\n",
    "tb.send_keys(Keys.ENTER)\n",
    "\n",
    "## explicit wait.\n",
    "## In order to create explicit wait, we need to create object of class WebDriverWait\n",
    "\n",
    "wait = WebDriverWait(driver, 10)\n",
    "\n",
    "## Then we need to call a method until() inside this, we need to pass condition till which webdriver needs to wait.\n",
    "## The method we pass inside until() is presence_of_element_located() inside it, we need to pass the tuple in which we need\n",
    "## to pass the locator in which we need to locate the element and the location of element.\n",
    "\n",
    "lap1 = wait.until(EC.presence_of_element_located((By.CLASS_NAME, 'ps-title' )))\n",
    "\n",
    "## Note that the locator method should be in capital letter inside the tuple and it should not include 'find_element_by' part.\n",
    "\n",
    "lap1\n",
    "\n",
    "## it says By is not defined so we need to import a module for it\n"
   ]
  },
  {
   "cell_type": "code",
   "execution_count": 8,
   "metadata": {},
   "outputs": [
    {
     "data": {
      "text/plain": [
       "<selenium.webdriver.remote.webelement.WebElement (session=\"49121cb8c84f1fed79dccef96f15d338\", element=\"75c9043e-84e3-4fd8-bafe-17aff855c4e7\")>"
      ]
     },
     "execution_count": 8,
     "metadata": {},
     "output_type": "execute_result"
    }
   ],
   "source": [
    "from selenium.webdriver.support.ui import WebDriverWait\n",
    "from selenium.webdriver.support import expected_conditions as EC\n",
    "from selenium import webdriver\n",
    "from selenium.webdriver.common.by import By\n",
    "\n",
    "driver = webdriver.Chrome(executable_path = r\"C:\\Users\\hashi\\Downloads\\chromedriver_win32 (1)\\chromedriver.exe\")  \n",
    "\n",
    "driver.get('https://www.dell.com/en-in')\n",
    "tb = driver.find_element_by_class_name('mh-search-input')\n",
    "tb.send_keys(\"gaming laptops\")\n",
    "from selenium.webdriver.common.keys import Keys\n",
    "tb.send_keys(Keys.ENTER)\n",
    "\n",
    "wait = WebDriverWait(driver, 10)\n",
    "\n",
    "lap1 = wait.until(EC.presence_of_element_located((By.CLASS_NAME, 'ps-title' )))\n",
    "\n",
    "lap1\n",
    "\n",
    "\n",
    "## As we can see, we got the response."
   ]
  },
  {
   "cell_type": "code",
   "execution_count": 9,
   "metadata": {},
   "outputs": [
    {
     "data": {
      "text/plain": [
       "'<h3 class=\"ps-title\">\\n    <a href=\"//www.dell.com/en-in/shop/gaming-and-games/dell-g3-15-gaming-laptop/spd/g-series-15-3500-laptop/d560258win9b\" data-metrics=\"{&quot;clickthru&quot;:&quot;products&quot;,&quot;doctype&quot;:&quot;systems&quot;,&quot;variant&quot;:&quot;g-series-15-3500-laptop&quot;,&quot;position&quot;:1,&quot;productid&quot;:&quot;d560258win9b&quot;,&quot;btnname&quot;:&quot;title&quot;}\" class=\"dellmetrics-iclickthru\">Dell G3 15 Gaming Laptop</a>\\n</h3>'"
      ]
     },
     "execution_count": 9,
     "metadata": {},
     "output_type": "execute_result"
    }
   ],
   "source": [
    "lap1.get_attribute('outerHTML')"
   ]
  }
 ],
 "metadata": {
  "kernelspec": {
   "display_name": "Python 3",
   "language": "python",
   "name": "python3"
  },
  "language_info": {
   "codemirror_mode": {
    "name": "ipython",
    "version": 3
   },
   "file_extension": ".py",
   "mimetype": "text/x-python",
   "name": "python",
   "nbconvert_exporter": "python",
   "pygments_lexer": "ipython3",
   "version": "3.8.5"
  }
 },
 "nbformat": 4,
 "nbformat_minor": 4
}
