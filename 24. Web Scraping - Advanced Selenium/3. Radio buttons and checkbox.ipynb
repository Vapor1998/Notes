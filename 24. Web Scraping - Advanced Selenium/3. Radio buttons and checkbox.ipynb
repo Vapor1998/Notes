{
 "cells": [
  {
   "cell_type": "code",
   "execution_count": 1,
   "metadata": {},
   "outputs": [],
   "source": [
    "from selenium import webdriver"
   ]
  },
  {
   "cell_type": "code",
   "execution_count": 4,
   "metadata": {},
   "outputs": [],
   "source": [
    "driver = webdriver.Chrome(executable_path = r\"C:\\Users\\hashi\\Downloads\\chromedriver_win32 (1)\\chromedriver.exe\")  \n",
    "driver.get('https://www.tutorialspoint.com/selenium/selenium_automation_practice.htm')"
   ]
  },
  {
   "cell_type": "code",
   "execution_count": 8,
   "metadata": {},
   "outputs": [],
   "source": [
    "## Steps to select a radio button \n",
    "## 1. locate the radio button \n",
    "## 2. Find the value and click over that.\n",
    "\n",
    "btn = driver.find_elements_by_name('exp')\n",
    "\n",
    "## Lets say we want to click over button 4.\n",
    "\n",
    "btn[3].click()\n",
    "\n",
    "## As we can see, we have clicked the button.\n",
    "\n",
    "\n"
   ]
  },
  {
   "cell_type": "code",
   "execution_count": 9,
   "metadata": {},
   "outputs": [
    {
     "name": "stdout",
     "output_type": "stream",
     "text": [
      "False\n"
     ]
    }
   ],
   "source": [
    "## there is a function is_selected() where we can check if the button is selected or not.\n",
    "\n",
    "print(btn[0].is_selected())"
   ]
  },
  {
   "cell_type": "code",
   "execution_count": 10,
   "metadata": {},
   "outputs": [],
   "source": [
    "## Lets say we want to change the selection\n",
    "\n",
    "btn[0].click()"
   ]
  },
  {
   "cell_type": "code",
   "execution_count": 13,
   "metadata": {},
   "outputs": [
    {
     "data": {
      "text/plain": [
       "[<selenium.webdriver.remote.webelement.WebElement (session=\"c3d6fbe1d216d2c2156515b606efe86b\", element=\"ee975137-030e-4271-b6e7-c86649d955da\")>,\n",
       " <selenium.webdriver.remote.webelement.WebElement (session=\"c3d6fbe1d216d2c2156515b606efe86b\", element=\"bfca148e-a7a8-4216-b34c-e0c067d9d20f\")>]"
      ]
     },
     "execution_count": 13,
     "metadata": {},
     "output_type": "execute_result"
    }
   ],
   "source": [
    "## Similarly we can use checkbox also.\n",
    "## In checkbox, we can select multiple values.\n",
    "## But if we click on the selected checkbox, it will get unchecked.\n",
    "## so we need to take care of that.\n",
    "\n",
    "cb = driver.find_elements_by_name('profession')\n",
    "cb\n"
   ]
  },
  {
   "cell_type": "code",
   "execution_count": 15,
   "metadata": {},
   "outputs": [],
   "source": [
    "cb[0].click()\n",
    "\n",
    "## As we can see, second checkbox is selected.\n"
   ]
  },
  {
   "cell_type": "code",
   "execution_count": 16,
   "metadata": {},
   "outputs": [],
   "source": [
    "## Lets say if we want to select checkbox whose value is Automation Tester\n",
    "\n",
    "for i in cb:\n",
    "    if i.get_attribute('value') == 'Automation Tester':\n",
    "        i.click()\n",
    "        \n",
    "## As we can see, checkbox is selected(checked)."
   ]
  },
  {
   "cell_type": "code",
   "execution_count": 17,
   "metadata": {},
   "outputs": [],
   "source": [
    "## Lets say if we want to uncheck the value if it is already checked.\n",
    "\n",
    "for i in cb:\n",
    "    if i.is_selected():\n",
    "        i.click()\n",
    "\n"
   ]
  },
  {
   "cell_type": "code",
   "execution_count": null,
   "metadata": {},
   "outputs": [],
   "source": []
  },
  {
   "cell_type": "code",
   "execution_count": null,
   "metadata": {},
   "outputs": [],
   "source": []
  },
  {
   "cell_type": "code",
   "execution_count": null,
   "metadata": {},
   "outputs": [],
   "source": []
  }
 ],
 "metadata": {
  "kernelspec": {
   "display_name": "Python 3",
   "language": "python",
   "name": "python3"
  },
  "language_info": {
   "codemirror_mode": {
    "name": "ipython",
    "version": 3
   },
   "file_extension": ".py",
   "mimetype": "text/x-python",
   "name": "python",
   "nbconvert_exporter": "python",
   "pygments_lexer": "ipython3",
   "version": "3.8.5"
  }
 },
 "nbformat": 4,
 "nbformat_minor": 4
}
