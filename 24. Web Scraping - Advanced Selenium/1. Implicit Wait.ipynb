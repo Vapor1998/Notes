{
 "cells": [
  {
   "cell_type": "code",
   "execution_count": null,
   "metadata": {},
   "outputs": [],
   "source": [
    "## Lets take an example.\n",
    "## I waant to extract info of all the flights which are available from delhi to mumbai on 25th may.\n",
    "## 1. So our first step will be to visit paytm.com.\n",
    "## 2. Click on flights.\n",
    "## 3. Paytm will flash a page where we want to enter details of source and destination and date, then we need\n",
    "## to click on search. Then it will display page where we have our desired data.\n",
    "## 4. Extract the data.\n",
    "\n",
    "## There are two ways to extract this, first is manual, second is using Selinium script.\n",
    "## As we know the method is clear on how to write selenium script, we might have to wait for sometime for some steps,\n",
    "\n",
    "## Lets say in step 2 and 3, we might have to wait for sometime as the website loads.\n",
    "## When we load the website, it takes 2-3 microseconds to load page, so when we execute the step 3 when the page \n",
    "## is loading, our code might crash and it will give error, as the desired webpage is not loaded yet to enter information.\n",
    "## Similarly, in step 4 & 5 we need to wait for sometime to extract data as the desired webpage is not loaded yet.\n",
    "\n",
    "## Second reason is modern website is designed in such a way that some elements are loaded in different intervals of time \n",
    "## within the same page.\n",
    "\n",
    "## If we are using selenium, we need to add wait explicitly in desired steps so the data can be collected properly.\n"
   ]
  },
  {
   "cell_type": "code",
   "execution_count": 1,
   "metadata": {},
   "outputs": [],
   "source": [
    "## In selenium, we have two kinds of waits,\n",
    "## 1. Implicit wait.\n",
    "## 2. Explicit wait.\n",
    "\n",
    "## 1. Implicit wait.\n",
    "## Using implicit wait, we can tell our webdriver to wait for particular time before searching for element if it is not \n",
    "## immediately available.\n"
   ]
  },
  {
   "cell_type": "code",
   "execution_count": 10,
   "metadata": {},
   "outputs": [
    {
     "data": {
      "text/plain": [
       "<selenium.webdriver.remote.webelement.WebElement (session=\"50dac77de3e5debb26ae5e0b70c7d9d7\", element=\"5d2e3b52-8b0d-4eba-a76b-9434f066f16c\")>"
      ]
     },
     "execution_count": 10,
     "metadata": {},
     "output_type": "execute_result"
    }
   ],
   "source": [
    "## Lets say we want to visit dell.com and search for gaming laptops using implicit wait\n",
    "\n",
    "from selenium import webdriver\n",
    "\n",
    "driver = webdriver.Chrome(executable_path = r\"C:\\Users\\hashi\\Downloads\\chromedriver_win32 (1)\\chromedriver.exe\")  \n",
    "\n",
    "driver.get('https://www.dell.com/en-in')\n",
    "tb = driver.find_element_by_class_name('mh-search-input')\n",
    "tb.send_keys(\"gaming laptops\")\n",
    "from selenium.webdriver.common.keys import Keys\n",
    "tb.send_keys(Keys.ENTER)\n",
    "t = driver.find_element_by_class_name('ps-title')\n",
    "t\n",
    "\n",
    "## In this code we tried to extract the title of first gaming laptop.\n",
    "## wow in our case, it gave us the output, but in the session, it failed from dataextraction where it failed to locate the \n",
    "## element by class name.\n",
    "## So in that case, we will use implicit wait."
   ]
  },
  {
   "cell_type": "code",
   "execution_count": 3,
   "metadata": {},
   "outputs": [
    {
     "data": {
      "text/plain": [
       "<selenium.webdriver.remote.webelement.WebElement (session=\"79cef67161414ce02a71cd6770e92899\", element=\"5072fc40-2399-4333-a47b-e52f5ce8f260\")>"
      ]
     },
     "execution_count": 3,
     "metadata": {},
     "output_type": "execute_result"
    }
   ],
   "source": [
    "from selenium import webdriver\n",
    "\n",
    "driver = webdriver.Chrome(executable_path = r\"C:\\Users\\hashi\\Downloads\\chromedriver_win32 (2)\\chromedriver.exe\")  \n",
    "\n",
    "driver.get('https://www.dell.com/en-in')\n",
    "tb = driver.find_element_by_class_name('mh-search-input')\n",
    "tb.send_keys(\"gaming laptops\")\n",
    "from selenium.webdriver.common.keys import Keys\n",
    "tb.send_keys(Keys.ENTER)\n",
    "## Here we need to add the wait because thats where it failed.\n",
    "## here, syntax is driver.implicitly_wait(value) where value is in seconds.\n",
    "\n",
    "driver.implicitly_wait(100)\n",
    "\n",
    "t = driver.find_element_by_class_name('ps-title')\n",
    "t\n",
    "\n",
    "## whenever we apply this wait, it will be applied globally. that means it will be associated with driver objects life.\n",
    "## i.e lets sat we add wait for 10 secs, driver will always wait for 10s for searching element.\n",
    "## so its not good to use this wait everytime."
   ]
  }
 ],
 "metadata": {
  "kernelspec": {
   "display_name": "Python 3",
   "language": "python",
   "name": "python3"
  },
  "language_info": {
   "codemirror_mode": {
    "name": "ipython",
    "version": 3
   },
   "file_extension": ".py",
   "mimetype": "text/x-python",
   "name": "python",
   "nbconvert_exporter": "python",
   "pygments_lexer": "ipython3",
   "version": "3.8.5"
  }
 },
 "nbformat": 4,
 "nbformat_minor": 4
}
