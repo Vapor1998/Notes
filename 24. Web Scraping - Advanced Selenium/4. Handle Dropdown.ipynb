{
 "cells": [
  {
   "cell_type": "code",
   "execution_count": 3,
   "metadata": {},
   "outputs": [],
   "source": [
    "from selenium import webdriver\n",
    "driver = webdriver.Chrome(executable_path = r\"C:\\Users\\hashi\\Downloads\\chromedriver_win32 (1)\\chromedriver.exe\")  \n",
    "driver.get('https://www.tutorialspoint.com/selenium/selenium_automation_practice.htm')"
   ]
  },
  {
   "cell_type": "code",
   "execution_count": 4,
   "metadata": {},
   "outputs": [
    {
     "data": {
      "text/plain": [
       "<selenium.webdriver.remote.webelement.WebElement (session=\"5006526def193b8ba51aa14cc589afe4\", element=\"a6f58b07-5aa9-4bb9-8340-f70275ecfda7\")>"
      ]
     },
     "execution_count": 4,
     "metadata": {},
     "output_type": "execute_result"
    }
   ],
   "source": [
    "## Steps for using dropdown list\n",
    "## 1. Locate the Dropdown List\n",
    "## 2. Locate the Desire option\n",
    "## 3. Make selection\n",
    "\n",
    "dd =driver.find_element_by_name('continents')\n",
    "dd\n"
   ]
  },
  {
   "cell_type": "code",
   "execution_count": 5,
   "metadata": {},
   "outputs": [],
   "source": [
    "## To make selection inside dropdown list, selenium provides a class select\n",
    "## With the help of this class we can make our desired selection\n",
    "## To use this class, we need to import the class\n",
    "\n",
    "from selenium.webdriver.support.select import Select\n",
    "\n",
    "s = Select(dd)\n"
   ]
  },
  {
   "cell_type": "code",
   "execution_count": 6,
   "metadata": {},
   "outputs": [
    {
     "data": {
      "text/plain": [
       "[<selenium.webdriver.remote.webelement.WebElement (session=\"5006526def193b8ba51aa14cc589afe4\", element=\"a9f41b0e-04df-4268-91c1-119af626656e\")>,\n",
       " <selenium.webdriver.remote.webelement.WebElement (session=\"5006526def193b8ba51aa14cc589afe4\", element=\"946068cf-3290-4bf5-ab2b-8197f0e83f90\")>,\n",
       " <selenium.webdriver.remote.webelement.WebElement (session=\"5006526def193b8ba51aa14cc589afe4\", element=\"3e836b18-e773-4407-bb14-d5f44b92b014\")>,\n",
       " <selenium.webdriver.remote.webelement.WebElement (session=\"5006526def193b8ba51aa14cc589afe4\", element=\"7899e95e-7e76-4454-8324-f7316d030f1b\")>,\n",
       " <selenium.webdriver.remote.webelement.WebElement (session=\"5006526def193b8ba51aa14cc589afe4\", element=\"c27b28af-83c3-4973-8268-888101d2faf7\")>,\n",
       " <selenium.webdriver.remote.webelement.WebElement (session=\"5006526def193b8ba51aa14cc589afe4\", element=\"d1d2ebc0-3d13-4d70-bbf4-a283e25a4f64\")>,\n",
       " <selenium.webdriver.remote.webelement.WebElement (session=\"5006526def193b8ba51aa14cc589afe4\", element=\"63243235-c34d-44a6-9f2c-052583b99353\")>]"
      ]
     },
     "execution_count": 6,
     "metadata": {},
     "output_type": "execute_result"
    }
   ],
   "source": [
    "## now with the help of attribute option, we can see all the options available inside the dropdown list.\n",
    "\n",
    "s.options"
   ]
  },
  {
   "cell_type": "code",
   "execution_count": 7,
   "metadata": {},
   "outputs": [
    {
     "data": {
      "text/plain": [
       "<selenium.webdriver.remote.webelement.WebElement (session=\"5006526def193b8ba51aa14cc589afe4\", element=\"a9f41b0e-04df-4268-91c1-119af626656e\")>"
      ]
     },
     "execution_count": 7,
     "metadata": {},
     "output_type": "execute_result"
    }
   ],
   "source": [
    "s.first_selected_option\n",
    "\n",
    "## This attribute will select the first value of the dropdown list"
   ]
  },
  {
   "cell_type": "code",
   "execution_count": 8,
   "metadata": {},
   "outputs": [
    {
     "data": {
      "text/plain": [
       "'<option>Asia</option>'"
      ]
     },
     "execution_count": 8,
     "metadata": {},
     "output_type": "execute_result"
    }
   ],
   "source": [
    "s.first_selected_option.get_attribute('outerHTML')\n",
    "\n",
    "## As we can see, the first selected value is asia."
   ]
  },
  {
   "cell_type": "code",
   "execution_count": 9,
   "metadata": {},
   "outputs": [
    {
     "data": {
      "text/plain": [
       "[<selenium.webdriver.remote.webelement.WebElement (session=\"5006526def193b8ba51aa14cc589afe4\", element=\"a9f41b0e-04df-4268-91c1-119af626656e\")>]"
      ]
     },
     "execution_count": 9,
     "metadata": {},
     "output_type": "execute_result"
    }
   ],
   "source": [
    "s.all_selected_options\n",
    "\n",
    "## this attribute will show all the selected options of dropdown list.\n",
    "## Dropdown list can also support multiple option selection.\n",
    "## But this Dropdown list supprts only one option selection"
   ]
  },
  {
   "cell_type": "code",
   "execution_count": 10,
   "metadata": {},
   "outputs": [],
   "source": [
    "## In order to select one option, we have the following attributes.\n",
    "## select_by_index(index)\n",
    "## select_by_value(value)\n",
    "## select_by_visible_text(text)\n",
    "## Lets use them."
   ]
  },
  {
   "cell_type": "code",
   "execution_count": null,
   "metadata": {},
   "outputs": [],
   "source": [
    "## select_by_visible_text() - It is a visible text available between two tags.\n",
    "## select_by_value() - The tags have attribute value from which we can select the option\n",
    "## select_by_index() - If the index is not present, it is selected by default occurence of values in the dropdown list.\n",
    "\n"
   ]
  },
  {
   "cell_type": "code",
   "execution_count": 12,
   "metadata": {},
   "outputs": [],
   "source": [
    "s.select_by_index(3)\n",
    "\n",
    "## As we can see, option with index value 4 is selected.\n",
    "\n"
   ]
  },
  {
   "cell_type": "code",
   "execution_count": 13,
   "metadata": {},
   "outputs": [
    {
     "ename": "NoSuchElementException",
     "evalue": "Message: Cannot locate option with value: Asia\n",
     "output_type": "error",
     "traceback": [
      "\u001b[1;31m---------------------------------------------------------------------------\u001b[0m",
      "\u001b[1;31mNoSuchElementException\u001b[0m                    Traceback (most recent call last)",
      "\u001b[1;32m<ipython-input-13-099d44aaee5b>\u001b[0m in \u001b[0;36m<module>\u001b[1;34m\u001b[0m\n\u001b[0;32m      1\u001b[0m \u001b[1;31m## As we saw, the dropdown has no attribute value on the webpage but lets try to use it.\u001b[0m\u001b[1;33m\u001b[0m\u001b[1;33m\u001b[0m\u001b[1;33m\u001b[0m\u001b[0m\n\u001b[0;32m      2\u001b[0m \u001b[1;33m\u001b[0m\u001b[0m\n\u001b[1;32m----> 3\u001b[1;33m \u001b[0ms\u001b[0m\u001b[1;33m.\u001b[0m\u001b[0mselect_by_value\u001b[0m\u001b[1;33m(\u001b[0m\u001b[1;34m'Asia'\u001b[0m\u001b[1;33m)\u001b[0m\u001b[1;33m\u001b[0m\u001b[1;33m\u001b[0m\u001b[0m\n\u001b[0m",
      "\u001b[1;32mC:\\ProgramData\\Anaconda3\\lib\\site-packages\\selenium\\webdriver\\support\\select.py\u001b[0m in \u001b[0;36mselect_by_value\u001b[1;34m(self, value)\u001b[0m\n\u001b[0;32m     85\u001b[0m             \u001b[0mmatched\u001b[0m \u001b[1;33m=\u001b[0m \u001b[1;32mTrue\u001b[0m\u001b[1;33m\u001b[0m\u001b[1;33m\u001b[0m\u001b[0m\n\u001b[0;32m     86\u001b[0m         \u001b[1;32mif\u001b[0m \u001b[1;32mnot\u001b[0m \u001b[0mmatched\u001b[0m\u001b[1;33m:\u001b[0m\u001b[1;33m\u001b[0m\u001b[1;33m\u001b[0m\u001b[0m\n\u001b[1;32m---> 87\u001b[1;33m             \u001b[1;32mraise\u001b[0m \u001b[0mNoSuchElementException\u001b[0m\u001b[1;33m(\u001b[0m\u001b[1;34m\"Cannot locate option with value: %s\"\u001b[0m \u001b[1;33m%\u001b[0m \u001b[0mvalue\u001b[0m\u001b[1;33m)\u001b[0m\u001b[1;33m\u001b[0m\u001b[1;33m\u001b[0m\u001b[0m\n\u001b[0m\u001b[0;32m     88\u001b[0m \u001b[1;33m\u001b[0m\u001b[0m\n\u001b[0;32m     89\u001b[0m     \u001b[1;32mdef\u001b[0m \u001b[0mselect_by_index\u001b[0m\u001b[1;33m(\u001b[0m\u001b[0mself\u001b[0m\u001b[1;33m,\u001b[0m \u001b[0mindex\u001b[0m\u001b[1;33m)\u001b[0m\u001b[1;33m:\u001b[0m\u001b[1;33m\u001b[0m\u001b[1;33m\u001b[0m\u001b[0m\n",
      "\u001b[1;31mNoSuchElementException\u001b[0m: Message: Cannot locate option with value: Asia\n"
     ]
    }
   ],
   "source": [
    "## As we saw, the dropdown has no attribute value on the webpage but lets try to use it.\n",
    "\n",
    "s.select_by_value('Asia')\n",
    "\n",
    "## As we can see, we are getting exception.If value attribute is not present, we will get exception"
   ]
  },
  {
   "cell_type": "code",
   "execution_count": 14,
   "metadata": {},
   "outputs": [],
   "source": [
    "s.select_by_visible_text('Africa')\n",
    "\n",
    "## As we can see, desired option is selected."
   ]
  },
  {
   "cell_type": "code",
   "execution_count": 15,
   "metadata": {},
   "outputs": [],
   "source": [
    "s.select_by_index('0')\n",
    "\n",
    "## We can also pass index value as string.\n"
   ]
  },
  {
   "cell_type": "code",
   "execution_count": 16,
   "metadata": {},
   "outputs": [],
   "source": [
    "## Now we are using dropdown list with mutile option selection\n",
    "\n",
    "dd2 = driver.find_element_by_name('selenium_commands')"
   ]
  },
  {
   "cell_type": "code",
   "execution_count": 17,
   "metadata": {},
   "outputs": [],
   "source": [
    "s1 = Select(dd2)"
   ]
  },
  {
   "cell_type": "code",
   "execution_count": 18,
   "metadata": {},
   "outputs": [],
   "source": [
    "s1.select_by_visible_text('Navigation Commands')\n",
    "s1.select_by_visible_text('Wait Commands')\n",
    "\n",
    "## As we can see, multiple options have been selected."
   ]
  },
  {
   "cell_type": "code",
   "execution_count": 19,
   "metadata": {},
   "outputs": [
    {
     "data": {
      "text/plain": [
       "[<selenium.webdriver.remote.webelement.WebElement (session=\"5006526def193b8ba51aa14cc589afe4\", element=\"4936f12c-7c1c-47c8-9939-030dc9daac44\")>,\n",
       " <selenium.webdriver.remote.webelement.WebElement (session=\"5006526def193b8ba51aa14cc589afe4\", element=\"ca2a914b-a07f-4d16-8aab-40d6114318ae\")>]"
      ]
     },
     "execution_count": 19,
     "metadata": {},
     "output_type": "execute_result"
    }
   ],
   "source": [
    "s1.all_selected_options"
   ]
  },
  {
   "cell_type": "code",
   "execution_count": 20,
   "metadata": {},
   "outputs": [],
   "source": [
    "## To deselect all options.\n",
    "\n",
    "s1.deselect_all()\n",
    "\n",
    "## As we can see, all options are deselected."
   ]
  },
  {
   "cell_type": "code",
   "execution_count": null,
   "metadata": {},
   "outputs": [],
   "source": []
  },
  {
   "cell_type": "code",
   "execution_count": null,
   "metadata": {},
   "outputs": [],
   "source": []
  },
  {
   "cell_type": "code",
   "execution_count": null,
   "metadata": {},
   "outputs": [],
   "source": []
  },
  {
   "cell_type": "code",
   "execution_count": null,
   "metadata": {},
   "outputs": [],
   "source": []
  },
  {
   "cell_type": "code",
   "execution_count": null,
   "metadata": {},
   "outputs": [],
   "source": []
  },
  {
   "cell_type": "code",
   "execution_count": null,
   "metadata": {},
   "outputs": [],
   "source": []
  },
  {
   "cell_type": "code",
   "execution_count": null,
   "metadata": {},
   "outputs": [],
   "source": []
  },
  {
   "cell_type": "code",
   "execution_count": null,
   "metadata": {},
   "outputs": [],
   "source": []
  },
  {
   "cell_type": "code",
   "execution_count": null,
   "metadata": {},
   "outputs": [],
   "source": []
  },
  {
   "cell_type": "code",
   "execution_count": null,
   "metadata": {},
   "outputs": [],
   "source": []
  }
 ],
 "metadata": {
  "kernelspec": {
   "display_name": "Python 3",
   "language": "python",
   "name": "python3"
  },
  "language_info": {
   "codemirror_mode": {
    "name": "ipython",
    "version": 3
   },
   "file_extension": ".py",
   "mimetype": "text/x-python",
   "name": "python",
   "nbconvert_exporter": "python",
   "pygments_lexer": "ipython3",
   "version": "3.8.5"
  }
 },
 "nbformat": 4,
 "nbformat_minor": 4
}
