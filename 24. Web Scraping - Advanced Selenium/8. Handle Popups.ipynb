{
 "cells": [
  {
   "cell_type": "code",
   "execution_count": null,
   "metadata": {},
   "outputs": [],
   "source": [
    "## There are three types of alert\n",
    "## 1. Simple alert\n",
    "## 2. Confirmation alert\n",
    "## 3. Prompt alert\n",
    "\n",
    "## Simple alert just displays text\n",
    "## Confirmation alert gives us one or two option to click for confirmation\n",
    "## Prompt alert lets us to insert information in it apart from the buttons.\n",
    "\n",
    "## Methods.\n",
    "## alert_obj = driver.switch_to.alert - we have used switch_to to shift focus from current tab to new tab.Here also, as\n",
    "##                                      any popup window opens up, our control remains on our prev window but if we want to \n",
    "##                                      perform any operation on that popup window, we need to shift focus on popup window.\n",
    "## After shifting focus, we have three methods from which we can perform some operations on popup window\n",
    "\n",
    "## alert_obj.accept() - We can accept the popup or we can switch on ok button.\n",
    "## alert_obj.dismiss() - We can click on cancel button with this.\n",
    "## alert_obj.send_keys() - we can send some value on a popup text box.\n",
    "## alert_obj.text() - we can print message which is on popup."
   ]
  },
  {
   "cell_type": "code",
   "execution_count": 1,
   "metadata": {
    "collapsed": true
   },
   "outputs": [],
   "source": [
    "from selenium import webdriver"
   ]
  },
  {
   "cell_type": "code",
   "execution_count": 17,
   "metadata": {
    "collapsed": true
   },
   "outputs": [],
   "source": [
    "driver = webdriver.Chrome(executable_path = r\"C:\\Users\\hashi\\Downloads\\chromedriver_win32 (1)\\chromedriver.exe\")  \n"
   ]
  },
  {
   "cell_type": "code",
   "execution_count": null,
   "metadata": {
    "collapsed": true
   },
   "outputs": [],
   "source": [
    "driver.get('some link')"
   ]
  },
  {
   "cell_type": "code",
   "execution_count": null,
   "metadata": {},
   "outputs": [],
   "source": [
    "## First we find the alert box\n",
    "\n",
    "alert = driver.find_element_by_name('alert')"
   ]
  },
  {
   "cell_type": "code",
   "execution_count": null,
   "metadata": {},
   "outputs": [],
   "source": [
    "## Then we click on it\n",
    "## depends on condition if popup appears without clicking, we dont have to click it.\n",
    "\n",
    "alert.click()"
   ]
  },
  {
   "cell_type": "code",
   "execution_count": null,
   "metadata": {},
   "outputs": [],
   "source": [
    "## then we shift our focus to alert box\n",
    "\n",
    "a = driver.switch_to.alert"
   ]
  },
  {
   "cell_type": "code",
   "execution_count": null,
   "metadata": {},
   "outputs": [],
   "source": [
    "## then we pass the methods\n",
    "## This will click on ok.\n",
    "\n",
    "a.accept()\n",
    "\n",
    "## After passing this, popup will disappear."
   ]
  },
  {
   "cell_type": "code",
   "execution_count": null,
   "metadata": {},
   "outputs": [],
   "source": [
    "## dismiss()\n",
    "\n",
    "a.dismiss()  ## this will click on cancel button on alert box."
   ]
  },
  {
   "cell_type": "code",
   "execution_count": null,
   "metadata": {},
   "outputs": [],
   "source": [
    "a.text()\n",
    "## this should be passed before popup disappears."
   ]
  },
  {
   "cell_type": "code",
   "execution_count": null,
   "metadata": {},
   "outputs": [],
   "source": []
  },
  {
   "cell_type": "code",
   "execution_count": null,
   "metadata": {},
   "outputs": [],
   "source": []
  },
  {
   "cell_type": "code",
   "execution_count": null,
   "metadata": {},
   "outputs": [],
   "source": []
  },
  {
   "cell_type": "code",
   "execution_count": null,
   "metadata": {},
   "outputs": [],
   "source": []
  },
  {
   "cell_type": "code",
   "execution_count": null,
   "metadata": {},
   "outputs": [],
   "source": []
  }
 ],
 "metadata": {
  "kernelspec": {
   "display_name": "Python 3",
   "language": "python",
   "name": "python3"
  },
  "language_info": {
   "codemirror_mode": {
    "name": "ipython",
    "version": 3
   },
   "file_extension": ".py",
   "mimetype": "text/x-python",
   "name": "python",
   "nbconvert_exporter": "python",
   "pygments_lexer": "ipython3",
   "version": "3.8.5"
  }
 },
 "nbformat": 4,
 "nbformat_minor": 2
}
