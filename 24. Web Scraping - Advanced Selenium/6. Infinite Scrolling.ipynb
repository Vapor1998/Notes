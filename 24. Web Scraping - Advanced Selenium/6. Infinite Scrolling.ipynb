{
 "cells": [
  {
   "cell_type": "code",
   "execution_count": 1,
   "metadata": {},
   "outputs": [],
   "source": [
    "## Difference between scrollBy and scrollTo\n",
    "## scrollBy takes no of pixels to scroll while scrollTo takes xpos, ypos i.e. location of pixels to scroll to and move.\n",
    "\n",
    "## Lets say we want to scroll down to page until new data stops loading.\n",
    "## This kind of scrolling is called as infinite scrolling.\n",
    "\n",
    "## To do that we have a method document.body.scrollHeight\n",
    "\n",
    "from selenium import webdriver\n",
    "driver = webdriver.Chrome(executable_path = r\"C:\\Users\\hashi\\Downloads\\chromedriver_win32 (1)\\chromedriver.exe\")  \n",
    "driver.get('https://twitter.com/StackOverheards')\n",
    "\n",
    "\n"
   ]
  },
  {
   "cell_type": "code",
   "execution_count": 2,
   "metadata": {},
   "outputs": [
    {
     "data": {
      "text/plain": [
       "3876"
      ]
     },
     "execution_count": 2,
     "metadata": {},
     "output_type": "execute_result"
    }
   ],
   "source": [
    "driver.execute_script(\"return document.body.scrollHeight\")\n",
    "\n",
    "## currently, the height of our body tag is 2660"
   ]
  },
  {
   "cell_type": "code",
   "execution_count": 3,
   "metadata": {},
   "outputs": [],
   "source": [
    "## next what we can do is we can scrolldown till this height\n",
    "\n",
    "driver.execute_script('window.scrollTo(0, document.body.scrollHeight)')\n",
    "\n",
    "## As we can see we scrolled till the height of body tag\n",
    "## as we observed, new tweets are also loaded.\n",
    "## which means height of web page is also increased."
   ]
  },
  {
   "cell_type": "code",
   "execution_count": 4,
   "metadata": {},
   "outputs": [
    {
     "data": {
      "text/plain": [
       "6277"
      ]
     },
     "execution_count": 4,
     "metadata": {},
     "output_type": "execute_result"
    }
   ],
   "source": [
    "driver.execute_script(\"return document.body.scrollHeight\")\n",
    "\n",
    "## As we see, the height is now 6277 \n"
   ]
  },
  {
   "cell_type": "code",
   "execution_count": 7,
   "metadata": {},
   "outputs": [
    {
     "name": "stdout",
     "output_type": "stream",
     "text": [
      "3876 6277\n",
      "6277 8767\n",
      "8767 11446\n",
      "11446 14198\n",
      "14198 17192\n",
      "17192 19322\n",
      "19322 21473\n",
      "21473 23810\n",
      "23810 26201\n",
      "26201 28351\n",
      "28351 30941\n",
      "30941 33451\n",
      "33451 36082\n",
      "36082 38214\n",
      "38214 40731\n",
      "40731 43753\n",
      "43753 45870\n",
      "45870 47940\n",
      "47940 50110\n",
      "50110 52412\n",
      "52412 54566\n",
      "54566 54566\n"
     ]
    }
   ],
   "source": [
    "## Now to implement infinite scroling, we need to understand\n",
    "## Now lets say n is the new height of the page, now we have scrolled down and new tweets are loaded lets say n1.\n",
    "## So the new height of the page becomes n + n1.\n",
    "## Now lets say we scrolled till n + n1, and new tweets are loaded, lets say n2.\n",
    "## So the new height of the page becomes n + n1 + n2 and so on.\n",
    "\n",
    "## So the terminating condition comes when there is no more tweets loaded and the new height is as same as previous height.\n",
    "## So the code becomes\n",
    "\n",
    "import time\n",
    "curr_height = driver.execute_script('return document.body.scrollHeight;')\n",
    "\n",
    "while True:\n",
    "    driver.execute_script('window.scrollTo(0, arguments[0]);', curr_height)  ## we cannot pass py var inside javascript so\n",
    "                                                                             ## argument[0] will use curr_height we passed in it\n",
    "    \n",
    "    ## before loading new height or tweets, we pause for 3 secs so that the page is loaded properly\n",
    "    ## or else the page will not load properly.(imp step)\n",
    "    time.sleep(3)\n",
    "    new_height = driver.execute_script('return document.body.scrollHeight;') ## here we count new height of page.\n",
    "      \n",
    "    print(curr_height, new_height)\n",
    "    \n",
    "    if curr_height == new_height:   ## This is the condition \n",
    "        break\n",
    "    curr_height = new_height     \n",
    "    \n"
   ]
  }
 ],
 "metadata": {
  "kernelspec": {
   "display_name": "Python 3",
   "language": "python",
   "name": "python3"
  },
  "language_info": {
   "codemirror_mode": {
    "name": "ipython",
    "version": 3
   },
   "file_extension": ".py",
   "mimetype": "text/x-python",
   "name": "python",
   "nbconvert_exporter": "python",
   "pygments_lexer": "ipython3",
   "version": "3.8.5"
  }
 },
 "nbformat": 4,
 "nbformat_minor": 4
}
