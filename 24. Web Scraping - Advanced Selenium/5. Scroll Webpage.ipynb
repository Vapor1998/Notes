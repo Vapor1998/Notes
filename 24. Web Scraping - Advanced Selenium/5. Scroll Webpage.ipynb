{
 "cells": [
  {
   "cell_type": "code",
   "execution_count": 5,
   "metadata": {},
   "outputs": [],
   "source": [
    "from selenium import webdriver\n",
    "driver = webdriver.Chrome(executable_path = r\"C:\\Users\\hashi\\Downloads\\chromedriver_win32 (1)\\chromedriver.exe\")  \n",
    "driver.get('https://twitter.com/StackOverheards')\n"
   ]
  },
  {
   "cell_type": "code",
   "execution_count": 3,
   "metadata": {},
   "outputs": [],
   "source": [
    "## To scroll a webpage we have to write javascript code.\n",
    "## As we can see, selenium supports the execution of Javascript code.\n",
    "## we just need to execute the method driver.execute_script(javascript code)\n",
    "\n",
    "\n",
    "## For now, lets see how to execute the javascript code\n",
    "driver.execute_script(\"window.location = 'https://www.google.com/';\")\n",
    "\n",
    "## As we see, driver just loaded the given google web page."
   ]
  },
  {
   "cell_type": "code",
   "execution_count": 8,
   "metadata": {},
   "outputs": [],
   "source": [
    "## To search an element in javascript, we use the method document.getElementById().\n",
    "\n",
    "driver.execute_script(\"return document.getElementById('global-nav-home');\")"
   ]
  },
  {
   "cell_type": "code",
   "execution_count": 10,
   "metadata": {},
   "outputs": [],
   "source": [
    "## To scroll the webpage, we use window.scrollBy(x, y) and scrollTo where x and y are coordinates in pixels\n",
    "\n",
    "driver.execute_script('window.scrollBy(0, 1000);')\n",
    "\n",
    "## As we saw, our webpage is scrolled by 1000 pixels.\n"
   ]
  },
  {
   "cell_type": "code",
   "execution_count": 11,
   "metadata": {},
   "outputs": [],
   "source": [
    "import time\n",
    "for i in range(5):\n",
    "    driver.execute_script('window.scrollBy(0, 1000);')\n",
    "    time.sleep(3)\n",
    "    \n",
    "## Here, we are scrolling 5 times while after each scroll, we take pause of 3 secs\n",
    "## As we saw, we scrolled 5 times."
   ]
  },
  {
   "cell_type": "code",
   "execution_count": 13,
   "metadata": {},
   "outputs": [],
   "source": [
    "driver.execute_script('window.scrollBy(0, -1000);')\n",
    "\n",
    "## by passing negative value, we can scroll upwards.\n"
   ]
  },
  {
   "cell_type": "code",
   "execution_count": 14,
   "metadata": {},
   "outputs": [],
   "source": [
    "driver.execute_script('window.scrollBy(200, 0);')\n",
    "\n",
    "## upto us to explore this."
   ]
  },
  {
   "cell_type": "code",
   "execution_count": null,
   "metadata": {},
   "outputs": [],
   "source": []
  },
  {
   "cell_type": "markdown",
   "metadata": {},
   "source": [
    "# Assignment"
   ]
  },
  {
   "cell_type": "code",
   "execution_count": 84,
   "metadata": {},
   "outputs": [],
   "source": [
    "from selenium import webdriver\n",
    "driver = webdriver.Chrome(executable_path = r\"C:\\Users\\hashi\\Downloads\\chromedriver_win32 (2)\\chromedriver.exe\")  \n",
    "driver.get('https://quora.com/')\n",
    "\n"
   ]
  },
  {
   "cell_type": "code",
   "execution_count": 85,
   "metadata": {},
   "outputs": [],
   "source": [
    "from selenium import webdriver\n",
    "from selenium.webdriver.common.keys import Keys\n",
    "import time\n",
    "from selenium.common.exceptions import NoSuchElementException\n",
    "from selenium.common.exceptions import StaleElementReferenceException\n",
    "from selenium.common.exceptions import TimeoutException\n",
    "from selenium.common.exceptions import ElementNotInteractableException\n",
    "from selenium.webdriver.support.ui import WebDriverWait\n",
    "from selenium.webdriver.support import expected_conditions as EC\n",
    "from selenium.webdriver.common.by import By\n",
    "from selenium.webdriver.support.select import Select\n"
   ]
  },
  {
   "cell_type": "code",
   "execution_count": 86,
   "metadata": {},
   "outputs": [],
   "source": [
    "un = WebDriverWait(driver, 10).until(EC.presence_of_element_located((By.XPATH, '//*[@id=\"email\"]')))\n",
    "pw = WebDriverWait(driver, 10).until(EC.presence_of_element_located((By.XPATH, '//*[@id=\"password\"]')))"
   ]
  },
  {
   "cell_type": "code",
   "execution_count": 87,
   "metadata": {},
   "outputs": [],
   "source": [
    "un.send_keys('hashimrazi123654@gmail.com')\n",
    "time.sleep(2)\n",
    "pw.send_keys('Hashimrazi119')"
   ]
  },
  {
   "cell_type": "code",
   "execution_count": 88,
   "metadata": {},
   "outputs": [],
   "source": [
    "sm = driver.find_element_by_xpath('//*[@id=\"root\"]/div[2]/div/div/div/div/div[2]/div[2]/div[4]/button')\n",
    "sm.click()"
   ]
  },
  {
   "cell_type": "code",
   "execution_count": 90,
   "metadata": {},
   "outputs": [],
   "source": [
    "sb = WebDriverWait(driver, 20).until(EC.presence_of_element_located((By.XPATH, '//*[@id=\"root\"]/div[2]/div[2]/div/div[2]/div/div[2]/div/form/div/div/div/div/div/input')))"
   ]
  },
  {
   "cell_type": "code",
   "execution_count": 91,
   "metadata": {},
   "outputs": [],
   "source": [
    "sb.send_keys('Avengers')"
   ]
  },
  {
   "cell_type": "code",
   "execution_count": 97,
   "metadata": {},
   "outputs": [],
   "source": [
    "from selenium.webdriver.common.keys import Keys\n",
    "sb.send_keys(Keys.ENTER)"
   ]
  },
  {
   "cell_type": "code",
   "execution_count": 98,
   "metadata": {},
   "outputs": [],
   "source": [
    "q = WebDriverWait(driver, 10).until(EC.presence_of_element_located((By.XPATH, '//*[@id=\"root\"]/div[2]/div[4]/div/div/div[1]/div/div/div[2]/div[2]/div/div')))"
   ]
  },
  {
   "cell_type": "code",
   "execution_count": 99,
   "metadata": {},
   "outputs": [],
   "source": [
    "q.click()"
   ]
  },
  {
   "cell_type": "code",
   "execution_count": 100,
   "metadata": {},
   "outputs": [
    {
     "ename": "KeyboardInterrupt",
     "evalue": "",
     "output_type": "error",
     "traceback": [
      "\u001b[1;31m---------------------------------------------------------------------------\u001b[0m",
      "\u001b[1;31mKeyboardInterrupt\u001b[0m                         Traceback (most recent call last)",
      "\u001b[1;32m<ipython-input-100-8a28ffa83e85>\u001b[0m in \u001b[0;36m<module>\u001b[1;34m\u001b[0m\n\u001b[0;32m      9\u001b[0m \u001b[1;33m\u001b[0m\u001b[0m\n\u001b[0;32m     10\u001b[0m     \u001b[0mqb\u001b[0m \u001b[1;33m=\u001b[0m \u001b[0mdriver\u001b[0m\u001b[1;33m.\u001b[0m\u001b[0mfind_element_by_xpath\u001b[0m\u001b[1;33m(\u001b[0m\u001b[1;34m'//*[@id=\"mainContent\"]/div/div'\u001b[0m\u001b[1;33m)\u001b[0m\u001b[1;33m\u001b[0m\u001b[1;33m\u001b[0m\u001b[0m\n\u001b[1;32m---> 11\u001b[1;33m     \u001b[0ma\u001b[0m \u001b[1;33m=\u001b[0m \u001b[0mqb\u001b[0m\u001b[1;33m.\u001b[0m\u001b[0mtext\u001b[0m\u001b[1;33m\u001b[0m\u001b[1;33m\u001b[0m\u001b[0m\n\u001b[0m\u001b[0;32m     12\u001b[0m     \u001b[0ms\u001b[0m \u001b[1;33m=\u001b[0m \u001b[0ma\u001b[0m\u001b[1;33m.\u001b[0m\u001b[0msplit\u001b[0m\u001b[1;33m(\u001b[0m\u001b[1;34m'\\n'\u001b[0m\u001b[1;33m)\u001b[0m\u001b[1;33m\u001b[0m\u001b[1;33m\u001b[0m\u001b[0m\n\u001b[0;32m     13\u001b[0m     \u001b[1;32mfor\u001b[0m \u001b[0mi\u001b[0m \u001b[1;32min\u001b[0m \u001b[0ms\u001b[0m\u001b[1;33m:\u001b[0m\u001b[1;33m\u001b[0m\u001b[1;33m\u001b[0m\u001b[0m\n",
      "\u001b[1;32mC:\\ProgramData\\Anaconda3\\lib\\site-packages\\selenium\\webdriver\\remote\\webelement.py\u001b[0m in \u001b[0;36mtext\u001b[1;34m(self)\u001b[0m\n\u001b[0;32m     74\u001b[0m     \u001b[1;32mdef\u001b[0m \u001b[0mtext\u001b[0m\u001b[1;33m(\u001b[0m\u001b[0mself\u001b[0m\u001b[1;33m)\u001b[0m\u001b[1;33m:\u001b[0m\u001b[1;33m\u001b[0m\u001b[1;33m\u001b[0m\u001b[0m\n\u001b[0;32m     75\u001b[0m         \u001b[1;34m\"\"\"The text of the element.\"\"\"\u001b[0m\u001b[1;33m\u001b[0m\u001b[1;33m\u001b[0m\u001b[0m\n\u001b[1;32m---> 76\u001b[1;33m         \u001b[1;32mreturn\u001b[0m \u001b[0mself\u001b[0m\u001b[1;33m.\u001b[0m\u001b[0m_execute\u001b[0m\u001b[1;33m(\u001b[0m\u001b[0mCommand\u001b[0m\u001b[1;33m.\u001b[0m\u001b[0mGET_ELEMENT_TEXT\u001b[0m\u001b[1;33m)\u001b[0m\u001b[1;33m[\u001b[0m\u001b[1;34m'value'\u001b[0m\u001b[1;33m]\u001b[0m\u001b[1;33m\u001b[0m\u001b[1;33m\u001b[0m\u001b[0m\n\u001b[0m\u001b[0;32m     77\u001b[0m \u001b[1;33m\u001b[0m\u001b[0m\n\u001b[0;32m     78\u001b[0m     \u001b[1;32mdef\u001b[0m \u001b[0mclick\u001b[0m\u001b[1;33m(\u001b[0m\u001b[0mself\u001b[0m\u001b[1;33m)\u001b[0m\u001b[1;33m:\u001b[0m\u001b[1;33m\u001b[0m\u001b[1;33m\u001b[0m\u001b[0m\n",
      "\u001b[1;32mC:\\ProgramData\\Anaconda3\\lib\\site-packages\\selenium\\webdriver\\remote\\webelement.py\u001b[0m in \u001b[0;36m_execute\u001b[1;34m(self, command, params)\u001b[0m\n\u001b[0;32m    631\u001b[0m             \u001b[0mparams\u001b[0m \u001b[1;33m=\u001b[0m \u001b[1;33m{\u001b[0m\u001b[1;33m}\u001b[0m\u001b[1;33m\u001b[0m\u001b[1;33m\u001b[0m\u001b[0m\n\u001b[0;32m    632\u001b[0m         \u001b[0mparams\u001b[0m\u001b[1;33m[\u001b[0m\u001b[1;34m'id'\u001b[0m\u001b[1;33m]\u001b[0m \u001b[1;33m=\u001b[0m \u001b[0mself\u001b[0m\u001b[1;33m.\u001b[0m\u001b[0m_id\u001b[0m\u001b[1;33m\u001b[0m\u001b[1;33m\u001b[0m\u001b[0m\n\u001b[1;32m--> 633\u001b[1;33m         \u001b[1;32mreturn\u001b[0m \u001b[0mself\u001b[0m\u001b[1;33m.\u001b[0m\u001b[0m_parent\u001b[0m\u001b[1;33m.\u001b[0m\u001b[0mexecute\u001b[0m\u001b[1;33m(\u001b[0m\u001b[0mcommand\u001b[0m\u001b[1;33m,\u001b[0m \u001b[0mparams\u001b[0m\u001b[1;33m)\u001b[0m\u001b[1;33m\u001b[0m\u001b[1;33m\u001b[0m\u001b[0m\n\u001b[0m\u001b[0;32m    634\u001b[0m \u001b[1;33m\u001b[0m\u001b[0m\n\u001b[0;32m    635\u001b[0m     \u001b[1;32mdef\u001b[0m \u001b[0mfind_element\u001b[0m\u001b[1;33m(\u001b[0m\u001b[0mself\u001b[0m\u001b[1;33m,\u001b[0m \u001b[0mby\u001b[0m\u001b[1;33m=\u001b[0m\u001b[0mBy\u001b[0m\u001b[1;33m.\u001b[0m\u001b[0mID\u001b[0m\u001b[1;33m,\u001b[0m \u001b[0mvalue\u001b[0m\u001b[1;33m=\u001b[0m\u001b[1;32mNone\u001b[0m\u001b[1;33m)\u001b[0m\u001b[1;33m:\u001b[0m\u001b[1;33m\u001b[0m\u001b[1;33m\u001b[0m\u001b[0m\n",
      "\u001b[1;32mC:\\ProgramData\\Anaconda3\\lib\\site-packages\\selenium\\webdriver\\remote\\webdriver.py\u001b[0m in \u001b[0;36mexecute\u001b[1;34m(self, driver_command, params)\u001b[0m\n\u001b[0;32m    317\u001b[0m \u001b[1;33m\u001b[0m\u001b[0m\n\u001b[0;32m    318\u001b[0m         \u001b[0mparams\u001b[0m \u001b[1;33m=\u001b[0m \u001b[0mself\u001b[0m\u001b[1;33m.\u001b[0m\u001b[0m_wrap_value\u001b[0m\u001b[1;33m(\u001b[0m\u001b[0mparams\u001b[0m\u001b[1;33m)\u001b[0m\u001b[1;33m\u001b[0m\u001b[1;33m\u001b[0m\u001b[0m\n\u001b[1;32m--> 319\u001b[1;33m         \u001b[0mresponse\u001b[0m \u001b[1;33m=\u001b[0m \u001b[0mself\u001b[0m\u001b[1;33m.\u001b[0m\u001b[0mcommand_executor\u001b[0m\u001b[1;33m.\u001b[0m\u001b[0mexecute\u001b[0m\u001b[1;33m(\u001b[0m\u001b[0mdriver_command\u001b[0m\u001b[1;33m,\u001b[0m \u001b[0mparams\u001b[0m\u001b[1;33m)\u001b[0m\u001b[1;33m\u001b[0m\u001b[1;33m\u001b[0m\u001b[0m\n\u001b[0m\u001b[0;32m    320\u001b[0m         \u001b[1;32mif\u001b[0m \u001b[0mresponse\u001b[0m\u001b[1;33m:\u001b[0m\u001b[1;33m\u001b[0m\u001b[1;33m\u001b[0m\u001b[0m\n\u001b[0;32m    321\u001b[0m             \u001b[0mself\u001b[0m\u001b[1;33m.\u001b[0m\u001b[0merror_handler\u001b[0m\u001b[1;33m.\u001b[0m\u001b[0mcheck_response\u001b[0m\u001b[1;33m(\u001b[0m\u001b[0mresponse\u001b[0m\u001b[1;33m)\u001b[0m\u001b[1;33m\u001b[0m\u001b[1;33m\u001b[0m\u001b[0m\n",
      "\u001b[1;32mC:\\ProgramData\\Anaconda3\\lib\\site-packages\\selenium\\webdriver\\remote\\remote_connection.py\u001b[0m in \u001b[0;36mexecute\u001b[1;34m(self, command, params)\u001b[0m\n\u001b[0;32m    372\u001b[0m         \u001b[0mdata\u001b[0m \u001b[1;33m=\u001b[0m \u001b[0mutils\u001b[0m\u001b[1;33m.\u001b[0m\u001b[0mdump_json\u001b[0m\u001b[1;33m(\u001b[0m\u001b[0mparams\u001b[0m\u001b[1;33m)\u001b[0m\u001b[1;33m\u001b[0m\u001b[1;33m\u001b[0m\u001b[0m\n\u001b[0;32m    373\u001b[0m         \u001b[0murl\u001b[0m \u001b[1;33m=\u001b[0m \u001b[1;34m'%s%s'\u001b[0m \u001b[1;33m%\u001b[0m \u001b[1;33m(\u001b[0m\u001b[0mself\u001b[0m\u001b[1;33m.\u001b[0m\u001b[0m_url\u001b[0m\u001b[1;33m,\u001b[0m \u001b[0mpath\u001b[0m\u001b[1;33m)\u001b[0m\u001b[1;33m\u001b[0m\u001b[1;33m\u001b[0m\u001b[0m\n\u001b[1;32m--> 374\u001b[1;33m         \u001b[1;32mreturn\u001b[0m \u001b[0mself\u001b[0m\u001b[1;33m.\u001b[0m\u001b[0m_request\u001b[0m\u001b[1;33m(\u001b[0m\u001b[0mcommand_info\u001b[0m\u001b[1;33m[\u001b[0m\u001b[1;36m0\u001b[0m\u001b[1;33m]\u001b[0m\u001b[1;33m,\u001b[0m \u001b[0murl\u001b[0m\u001b[1;33m,\u001b[0m \u001b[0mbody\u001b[0m\u001b[1;33m=\u001b[0m\u001b[0mdata\u001b[0m\u001b[1;33m)\u001b[0m\u001b[1;33m\u001b[0m\u001b[1;33m\u001b[0m\u001b[0m\n\u001b[0m\u001b[0;32m    375\u001b[0m \u001b[1;33m\u001b[0m\u001b[0m\n\u001b[0;32m    376\u001b[0m     \u001b[1;32mdef\u001b[0m \u001b[0m_request\u001b[0m\u001b[1;33m(\u001b[0m\u001b[0mself\u001b[0m\u001b[1;33m,\u001b[0m \u001b[0mmethod\u001b[0m\u001b[1;33m,\u001b[0m \u001b[0murl\u001b[0m\u001b[1;33m,\u001b[0m \u001b[0mbody\u001b[0m\u001b[1;33m=\u001b[0m\u001b[1;32mNone\u001b[0m\u001b[1;33m)\u001b[0m\u001b[1;33m:\u001b[0m\u001b[1;33m\u001b[0m\u001b[1;33m\u001b[0m\u001b[0m\n",
      "\u001b[1;32mC:\\ProgramData\\Anaconda3\\lib\\site-packages\\selenium\\webdriver\\remote\\remote_connection.py\u001b[0m in \u001b[0;36m_request\u001b[1;34m(self, method, url, body)\u001b[0m\n\u001b[0;32m    395\u001b[0m \u001b[1;33m\u001b[0m\u001b[0m\n\u001b[0;32m    396\u001b[0m         \u001b[1;32mif\u001b[0m \u001b[0mself\u001b[0m\u001b[1;33m.\u001b[0m\u001b[0mkeep_alive\u001b[0m\u001b[1;33m:\u001b[0m\u001b[1;33m\u001b[0m\u001b[1;33m\u001b[0m\u001b[0m\n\u001b[1;32m--> 397\u001b[1;33m             \u001b[0mresp\u001b[0m \u001b[1;33m=\u001b[0m \u001b[0mself\u001b[0m\u001b[1;33m.\u001b[0m\u001b[0m_conn\u001b[0m\u001b[1;33m.\u001b[0m\u001b[0mrequest\u001b[0m\u001b[1;33m(\u001b[0m\u001b[0mmethod\u001b[0m\u001b[1;33m,\u001b[0m \u001b[0murl\u001b[0m\u001b[1;33m,\u001b[0m \u001b[0mbody\u001b[0m\u001b[1;33m=\u001b[0m\u001b[0mbody\u001b[0m\u001b[1;33m,\u001b[0m \u001b[0mheaders\u001b[0m\u001b[1;33m=\u001b[0m\u001b[0mheaders\u001b[0m\u001b[1;33m)\u001b[0m\u001b[1;33m\u001b[0m\u001b[1;33m\u001b[0m\u001b[0m\n\u001b[0m\u001b[0;32m    398\u001b[0m \u001b[1;33m\u001b[0m\u001b[0m\n\u001b[0;32m    399\u001b[0m             \u001b[0mstatuscode\u001b[0m \u001b[1;33m=\u001b[0m \u001b[0mresp\u001b[0m\u001b[1;33m.\u001b[0m\u001b[0mstatus\u001b[0m\u001b[1;33m\u001b[0m\u001b[1;33m\u001b[0m\u001b[0m\n",
      "\u001b[1;32m~\\AppData\\Roaming\\Python\\Python38\\site-packages\\urllib3\\request.py\u001b[0m in \u001b[0;36mrequest\u001b[1;34m(self, method, url, fields, headers, **urlopen_kw)\u001b[0m\n\u001b[0;32m     72\u001b[0m \u001b[1;33m\u001b[0m\u001b[0m\n\u001b[0;32m     73\u001b[0m         \u001b[1;32mif\u001b[0m \u001b[0mmethod\u001b[0m \u001b[1;32min\u001b[0m \u001b[0mself\u001b[0m\u001b[1;33m.\u001b[0m\u001b[0m_encode_url_methods\u001b[0m\u001b[1;33m:\u001b[0m\u001b[1;33m\u001b[0m\u001b[1;33m\u001b[0m\u001b[0m\n\u001b[1;32m---> 74\u001b[1;33m             return self.request_encode_url(\n\u001b[0m\u001b[0;32m     75\u001b[0m                 \u001b[0mmethod\u001b[0m\u001b[1;33m,\u001b[0m \u001b[0murl\u001b[0m\u001b[1;33m,\u001b[0m \u001b[0mfields\u001b[0m\u001b[1;33m=\u001b[0m\u001b[0mfields\u001b[0m\u001b[1;33m,\u001b[0m \u001b[0mheaders\u001b[0m\u001b[1;33m=\u001b[0m\u001b[0mheaders\u001b[0m\u001b[1;33m,\u001b[0m \u001b[1;33m**\u001b[0m\u001b[0murlopen_kw\u001b[0m\u001b[1;33m\u001b[0m\u001b[1;33m\u001b[0m\u001b[0m\n\u001b[0;32m     76\u001b[0m             )\n",
      "\u001b[1;32m~\\AppData\\Roaming\\Python\\Python38\\site-packages\\urllib3\\request.py\u001b[0m in \u001b[0;36mrequest_encode_url\u001b[1;34m(self, method, url, fields, headers, **urlopen_kw)\u001b[0m\n\u001b[0;32m     94\u001b[0m             \u001b[0murl\u001b[0m \u001b[1;33m+=\u001b[0m \u001b[1;34m\"?\"\u001b[0m \u001b[1;33m+\u001b[0m \u001b[0murlencode\u001b[0m\u001b[1;33m(\u001b[0m\u001b[0mfields\u001b[0m\u001b[1;33m)\u001b[0m\u001b[1;33m\u001b[0m\u001b[1;33m\u001b[0m\u001b[0m\n\u001b[0;32m     95\u001b[0m \u001b[1;33m\u001b[0m\u001b[0m\n\u001b[1;32m---> 96\u001b[1;33m         \u001b[1;32mreturn\u001b[0m \u001b[0mself\u001b[0m\u001b[1;33m.\u001b[0m\u001b[0murlopen\u001b[0m\u001b[1;33m(\u001b[0m\u001b[0mmethod\u001b[0m\u001b[1;33m,\u001b[0m \u001b[0murl\u001b[0m\u001b[1;33m,\u001b[0m \u001b[1;33m**\u001b[0m\u001b[0mextra_kw\u001b[0m\u001b[1;33m)\u001b[0m\u001b[1;33m\u001b[0m\u001b[1;33m\u001b[0m\u001b[0m\n\u001b[0m\u001b[0;32m     97\u001b[0m \u001b[1;33m\u001b[0m\u001b[0m\n\u001b[0;32m     98\u001b[0m     def request_encode_body(\n",
      "\u001b[1;32m~\\AppData\\Roaming\\Python\\Python38\\site-packages\\urllib3\\poolmanager.py\u001b[0m in \u001b[0;36murlopen\u001b[1;34m(self, method, url, redirect, **kw)\u001b[0m\n\u001b[0;32m    373\u001b[0m             \u001b[0mresponse\u001b[0m \u001b[1;33m=\u001b[0m \u001b[0mconn\u001b[0m\u001b[1;33m.\u001b[0m\u001b[0murlopen\u001b[0m\u001b[1;33m(\u001b[0m\u001b[0mmethod\u001b[0m\u001b[1;33m,\u001b[0m \u001b[0murl\u001b[0m\u001b[1;33m,\u001b[0m \u001b[1;33m**\u001b[0m\u001b[0mkw\u001b[0m\u001b[1;33m)\u001b[0m\u001b[1;33m\u001b[0m\u001b[1;33m\u001b[0m\u001b[0m\n\u001b[0;32m    374\u001b[0m         \u001b[1;32melse\u001b[0m\u001b[1;33m:\u001b[0m\u001b[1;33m\u001b[0m\u001b[1;33m\u001b[0m\u001b[0m\n\u001b[1;32m--> 375\u001b[1;33m             \u001b[0mresponse\u001b[0m \u001b[1;33m=\u001b[0m \u001b[0mconn\u001b[0m\u001b[1;33m.\u001b[0m\u001b[0murlopen\u001b[0m\u001b[1;33m(\u001b[0m\u001b[0mmethod\u001b[0m\u001b[1;33m,\u001b[0m \u001b[0mu\u001b[0m\u001b[1;33m.\u001b[0m\u001b[0mrequest_uri\u001b[0m\u001b[1;33m,\u001b[0m \u001b[1;33m**\u001b[0m\u001b[0mkw\u001b[0m\u001b[1;33m)\u001b[0m\u001b[1;33m\u001b[0m\u001b[1;33m\u001b[0m\u001b[0m\n\u001b[0m\u001b[0;32m    376\u001b[0m \u001b[1;33m\u001b[0m\u001b[0m\n\u001b[0;32m    377\u001b[0m         \u001b[0mredirect_location\u001b[0m \u001b[1;33m=\u001b[0m \u001b[0mredirect\u001b[0m \u001b[1;32mand\u001b[0m \u001b[0mresponse\u001b[0m\u001b[1;33m.\u001b[0m\u001b[0mget_redirect_location\u001b[0m\u001b[1;33m(\u001b[0m\u001b[1;33m)\u001b[0m\u001b[1;33m\u001b[0m\u001b[1;33m\u001b[0m\u001b[0m\n",
      "\u001b[1;32m~\\AppData\\Roaming\\Python\\Python38\\site-packages\\urllib3\\connectionpool.py\u001b[0m in \u001b[0;36murlopen\u001b[1;34m(self, method, url, body, headers, retries, redirect, assert_same_host, timeout, pool_timeout, release_conn, chunked, body_pos, **response_kw)\u001b[0m\n\u001b[0;32m    697\u001b[0m \u001b[1;33m\u001b[0m\u001b[0m\n\u001b[0;32m    698\u001b[0m             \u001b[1;31m# Make the request on the httplib connection object.\u001b[0m\u001b[1;33m\u001b[0m\u001b[1;33m\u001b[0m\u001b[1;33m\u001b[0m\u001b[0m\n\u001b[1;32m--> 699\u001b[1;33m             httplib_response = self._make_request(\n\u001b[0m\u001b[0;32m    700\u001b[0m                 \u001b[0mconn\u001b[0m\u001b[1;33m,\u001b[0m\u001b[1;33m\u001b[0m\u001b[1;33m\u001b[0m\u001b[0m\n\u001b[0;32m    701\u001b[0m                 \u001b[0mmethod\u001b[0m\u001b[1;33m,\u001b[0m\u001b[1;33m\u001b[0m\u001b[1;33m\u001b[0m\u001b[0m\n",
      "\u001b[1;32m~\\AppData\\Roaming\\Python\\Python38\\site-packages\\urllib3\\connectionpool.py\u001b[0m in \u001b[0;36m_make_request\u001b[1;34m(self, conn, method, url, timeout, chunked, **httplib_request_kw)\u001b[0m\n\u001b[0;32m    443\u001b[0m                     \u001b[1;31m# Python 3 (including for exceptions like SystemExit).\u001b[0m\u001b[1;33m\u001b[0m\u001b[1;33m\u001b[0m\u001b[1;33m\u001b[0m\u001b[0m\n\u001b[0;32m    444\u001b[0m                     \u001b[1;31m# Otherwise it looks like a bug in the code.\u001b[0m\u001b[1;33m\u001b[0m\u001b[1;33m\u001b[0m\u001b[1;33m\u001b[0m\u001b[0m\n\u001b[1;32m--> 445\u001b[1;33m                     \u001b[0msix\u001b[0m\u001b[1;33m.\u001b[0m\u001b[0mraise_from\u001b[0m\u001b[1;33m(\u001b[0m\u001b[0me\u001b[0m\u001b[1;33m,\u001b[0m \u001b[1;32mNone\u001b[0m\u001b[1;33m)\u001b[0m\u001b[1;33m\u001b[0m\u001b[1;33m\u001b[0m\u001b[0m\n\u001b[0m\u001b[0;32m    446\u001b[0m         \u001b[1;32mexcept\u001b[0m \u001b[1;33m(\u001b[0m\u001b[0mSocketTimeout\u001b[0m\u001b[1;33m,\u001b[0m \u001b[0mBaseSSLError\u001b[0m\u001b[1;33m,\u001b[0m \u001b[0mSocketError\u001b[0m\u001b[1;33m)\u001b[0m \u001b[1;32mas\u001b[0m \u001b[0me\u001b[0m\u001b[1;33m:\u001b[0m\u001b[1;33m\u001b[0m\u001b[1;33m\u001b[0m\u001b[0m\n\u001b[0;32m    447\u001b[0m             \u001b[0mself\u001b[0m\u001b[1;33m.\u001b[0m\u001b[0m_raise_timeout\u001b[0m\u001b[1;33m(\u001b[0m\u001b[0merr\u001b[0m\u001b[1;33m=\u001b[0m\u001b[0me\u001b[0m\u001b[1;33m,\u001b[0m \u001b[0murl\u001b[0m\u001b[1;33m=\u001b[0m\u001b[0murl\u001b[0m\u001b[1;33m,\u001b[0m \u001b[0mtimeout_value\u001b[0m\u001b[1;33m=\u001b[0m\u001b[0mread_timeout\u001b[0m\u001b[1;33m)\u001b[0m\u001b[1;33m\u001b[0m\u001b[1;33m\u001b[0m\u001b[0m\n",
      "\u001b[1;32m~\\AppData\\Roaming\\Python\\Python38\\site-packages\\urllib3\\packages\\six.py\u001b[0m in \u001b[0;36mraise_from\u001b[1;34m(value, from_value)\u001b[0m\n",
      "\u001b[1;32m~\\AppData\\Roaming\\Python\\Python38\\site-packages\\urllib3\\connectionpool.py\u001b[0m in \u001b[0;36m_make_request\u001b[1;34m(self, conn, method, url, timeout, chunked, **httplib_request_kw)\u001b[0m\n\u001b[0;32m    438\u001b[0m                 \u001b[1;31m# Python 3\u001b[0m\u001b[1;33m\u001b[0m\u001b[1;33m\u001b[0m\u001b[1;33m\u001b[0m\u001b[0m\n\u001b[0;32m    439\u001b[0m                 \u001b[1;32mtry\u001b[0m\u001b[1;33m:\u001b[0m\u001b[1;33m\u001b[0m\u001b[1;33m\u001b[0m\u001b[0m\n\u001b[1;32m--> 440\u001b[1;33m                     \u001b[0mhttplib_response\u001b[0m \u001b[1;33m=\u001b[0m \u001b[0mconn\u001b[0m\u001b[1;33m.\u001b[0m\u001b[0mgetresponse\u001b[0m\u001b[1;33m(\u001b[0m\u001b[1;33m)\u001b[0m\u001b[1;33m\u001b[0m\u001b[1;33m\u001b[0m\u001b[0m\n\u001b[0m\u001b[0;32m    441\u001b[0m                 \u001b[1;32mexcept\u001b[0m \u001b[0mBaseException\u001b[0m \u001b[1;32mas\u001b[0m \u001b[0me\u001b[0m\u001b[1;33m:\u001b[0m\u001b[1;33m\u001b[0m\u001b[1;33m\u001b[0m\u001b[0m\n\u001b[0;32m    442\u001b[0m                     \u001b[1;31m# Remove the TypeError from the exception chain in\u001b[0m\u001b[1;33m\u001b[0m\u001b[1;33m\u001b[0m\u001b[1;33m\u001b[0m\u001b[0m\n",
      "\u001b[1;32mC:\\ProgramData\\Anaconda3\\lib\\http\\client.py\u001b[0m in \u001b[0;36mgetresponse\u001b[1;34m(self)\u001b[0m\n\u001b[0;32m   1345\u001b[0m         \u001b[1;32mtry\u001b[0m\u001b[1;33m:\u001b[0m\u001b[1;33m\u001b[0m\u001b[1;33m\u001b[0m\u001b[0m\n\u001b[0;32m   1346\u001b[0m             \u001b[1;32mtry\u001b[0m\u001b[1;33m:\u001b[0m\u001b[1;33m\u001b[0m\u001b[1;33m\u001b[0m\u001b[0m\n\u001b[1;32m-> 1347\u001b[1;33m                 \u001b[0mresponse\u001b[0m\u001b[1;33m.\u001b[0m\u001b[0mbegin\u001b[0m\u001b[1;33m(\u001b[0m\u001b[1;33m)\u001b[0m\u001b[1;33m\u001b[0m\u001b[1;33m\u001b[0m\u001b[0m\n\u001b[0m\u001b[0;32m   1348\u001b[0m             \u001b[1;32mexcept\u001b[0m \u001b[0mConnectionError\u001b[0m\u001b[1;33m:\u001b[0m\u001b[1;33m\u001b[0m\u001b[1;33m\u001b[0m\u001b[0m\n\u001b[0;32m   1349\u001b[0m                 \u001b[0mself\u001b[0m\u001b[1;33m.\u001b[0m\u001b[0mclose\u001b[0m\u001b[1;33m(\u001b[0m\u001b[1;33m)\u001b[0m\u001b[1;33m\u001b[0m\u001b[1;33m\u001b[0m\u001b[0m\n",
      "\u001b[1;32mC:\\ProgramData\\Anaconda3\\lib\\http\\client.py\u001b[0m in \u001b[0;36mbegin\u001b[1;34m(self)\u001b[0m\n\u001b[0;32m    305\u001b[0m         \u001b[1;31m# read until we get a non-100 response\u001b[0m\u001b[1;33m\u001b[0m\u001b[1;33m\u001b[0m\u001b[1;33m\u001b[0m\u001b[0m\n\u001b[0;32m    306\u001b[0m         \u001b[1;32mwhile\u001b[0m \u001b[1;32mTrue\u001b[0m\u001b[1;33m:\u001b[0m\u001b[1;33m\u001b[0m\u001b[1;33m\u001b[0m\u001b[0m\n\u001b[1;32m--> 307\u001b[1;33m             \u001b[0mversion\u001b[0m\u001b[1;33m,\u001b[0m \u001b[0mstatus\u001b[0m\u001b[1;33m,\u001b[0m \u001b[0mreason\u001b[0m \u001b[1;33m=\u001b[0m \u001b[0mself\u001b[0m\u001b[1;33m.\u001b[0m\u001b[0m_read_status\u001b[0m\u001b[1;33m(\u001b[0m\u001b[1;33m)\u001b[0m\u001b[1;33m\u001b[0m\u001b[1;33m\u001b[0m\u001b[0m\n\u001b[0m\u001b[0;32m    308\u001b[0m             \u001b[1;32mif\u001b[0m \u001b[0mstatus\u001b[0m \u001b[1;33m!=\u001b[0m \u001b[0mCONTINUE\u001b[0m\u001b[1;33m:\u001b[0m\u001b[1;33m\u001b[0m\u001b[1;33m\u001b[0m\u001b[0m\n\u001b[0;32m    309\u001b[0m                 \u001b[1;32mbreak\u001b[0m\u001b[1;33m\u001b[0m\u001b[1;33m\u001b[0m\u001b[0m\n",
      "\u001b[1;32mC:\\ProgramData\\Anaconda3\\lib\\http\\client.py\u001b[0m in \u001b[0;36m_read_status\u001b[1;34m(self)\u001b[0m\n\u001b[0;32m    266\u001b[0m \u001b[1;33m\u001b[0m\u001b[0m\n\u001b[0;32m    267\u001b[0m     \u001b[1;32mdef\u001b[0m \u001b[0m_read_status\u001b[0m\u001b[1;33m(\u001b[0m\u001b[0mself\u001b[0m\u001b[1;33m)\u001b[0m\u001b[1;33m:\u001b[0m\u001b[1;33m\u001b[0m\u001b[1;33m\u001b[0m\u001b[0m\n\u001b[1;32m--> 268\u001b[1;33m         \u001b[0mline\u001b[0m \u001b[1;33m=\u001b[0m \u001b[0mstr\u001b[0m\u001b[1;33m(\u001b[0m\u001b[0mself\u001b[0m\u001b[1;33m.\u001b[0m\u001b[0mfp\u001b[0m\u001b[1;33m.\u001b[0m\u001b[0mreadline\u001b[0m\u001b[1;33m(\u001b[0m\u001b[0m_MAXLINE\u001b[0m \u001b[1;33m+\u001b[0m \u001b[1;36m1\u001b[0m\u001b[1;33m)\u001b[0m\u001b[1;33m,\u001b[0m \u001b[1;34m\"iso-8859-1\"\u001b[0m\u001b[1;33m)\u001b[0m\u001b[1;33m\u001b[0m\u001b[1;33m\u001b[0m\u001b[0m\n\u001b[0m\u001b[0;32m    269\u001b[0m         \u001b[1;32mif\u001b[0m \u001b[0mlen\u001b[0m\u001b[1;33m(\u001b[0m\u001b[0mline\u001b[0m\u001b[1;33m)\u001b[0m \u001b[1;33m>\u001b[0m \u001b[0m_MAXLINE\u001b[0m\u001b[1;33m:\u001b[0m\u001b[1;33m\u001b[0m\u001b[1;33m\u001b[0m\u001b[0m\n\u001b[0;32m    270\u001b[0m             \u001b[1;32mraise\u001b[0m \u001b[0mLineTooLong\u001b[0m\u001b[1;33m(\u001b[0m\u001b[1;34m\"status line\"\u001b[0m\u001b[1;33m)\u001b[0m\u001b[1;33m\u001b[0m\u001b[1;33m\u001b[0m\u001b[0m\n",
      "\u001b[1;32mC:\\ProgramData\\Anaconda3\\lib\\socket.py\u001b[0m in \u001b[0;36mreadinto\u001b[1;34m(self, b)\u001b[0m\n\u001b[0;32m    667\u001b[0m         \u001b[1;32mwhile\u001b[0m \u001b[1;32mTrue\u001b[0m\u001b[1;33m:\u001b[0m\u001b[1;33m\u001b[0m\u001b[1;33m\u001b[0m\u001b[0m\n\u001b[0;32m    668\u001b[0m             \u001b[1;32mtry\u001b[0m\u001b[1;33m:\u001b[0m\u001b[1;33m\u001b[0m\u001b[1;33m\u001b[0m\u001b[0m\n\u001b[1;32m--> 669\u001b[1;33m                 \u001b[1;32mreturn\u001b[0m \u001b[0mself\u001b[0m\u001b[1;33m.\u001b[0m\u001b[0m_sock\u001b[0m\u001b[1;33m.\u001b[0m\u001b[0mrecv_into\u001b[0m\u001b[1;33m(\u001b[0m\u001b[0mb\u001b[0m\u001b[1;33m)\u001b[0m\u001b[1;33m\u001b[0m\u001b[1;33m\u001b[0m\u001b[0m\n\u001b[0m\u001b[0;32m    670\u001b[0m             \u001b[1;32mexcept\u001b[0m \u001b[0mtimeout\u001b[0m\u001b[1;33m:\u001b[0m\u001b[1;33m\u001b[0m\u001b[1;33m\u001b[0m\u001b[0m\n\u001b[0;32m    671\u001b[0m                 \u001b[0mself\u001b[0m\u001b[1;33m.\u001b[0m\u001b[0m_timeout_occurred\u001b[0m \u001b[1;33m=\u001b[0m \u001b[1;32mTrue\u001b[0m\u001b[1;33m\u001b[0m\u001b[1;33m\u001b[0m\u001b[0m\n",
      "\u001b[1;31mKeyboardInterrupt\u001b[0m: "
     ]
    }
   ],
   "source": [
    "# for i in range(5):\n",
    "#     driver.execute_script(\"return document.body.scrollHeight\")\n",
    "\n",
    "questions = []\n",
    "\n",
    "while len(questions) != 100:\n",
    "    #a = driver.execute_script(\"return document.body.scrollHeight\")\n",
    "    driver.execute_script('window.scrollBy(0,100);')\n",
    "\n",
    "    qb = driver.find_element_by_xpath('//*[@id=\"mainContent\"]/div/div')\n",
    "    a = qb.text\n",
    "    s = a.split('\\n')\n",
    "    for i in s:\n",
    "        if i[-1] == '?' and i not in questions:\n",
    "            questions.append(i)\n",
    "    \n",
    "    \n",
    "    \n",
    "    \n",
    "    \n",
    "    "
   ]
  },
  {
   "cell_type": "code",
   "execution_count": 101,
   "metadata": {},
   "outputs": [
    {
     "data": {
      "text/plain": [
       "198"
      ]
     },
     "execution_count": 101,
     "metadata": {},
     "output_type": "execute_result"
    }
   ],
   "source": [
    "len(questions)"
   ]
  },
  {
   "cell_type": "code",
   "execution_count": 102,
   "metadata": {},
   "outputs": [
    {
     "data": {
      "text/plain": [
       "['What is something you noticed in Avengers: Endgame that you believe others have missed?',\n",
       " 'Who would win in a fight between the Avengers and the Justice League?',\n",
       " 'What did you hate about Avengers: Endgame?',\n",
       " 'What is your review of Avengers: Endgame (2019 movie)?',\n",
       " 'Superheroes: Who is the most powerful Avenger?',\n",
       " 'Is Avengers: Endgame the last Avengers movie?',\n",
       " 'Who is your favorite superhero from the Avengers team?',\n",
       " 'What is your review of Avengers: Infinity War (2018 movie)?',\n",
       " 'What are your predictions for what will happen in Avengers 4?',\n",
       " 'What is the best site to Download Avengers: Infinity War in HD?',\n",
       " 'What is your review of the first Avengers: Endgame movie trailer (December 2018)?',\n",
       " 'What would you like to see happen in Avengers: Endgame?',\n",
       " 'What movie is better, Avengers: Endgame or Avengers: Infinity War?',\n",
       " 'What is something you noticed in Avengers: Infinity War that you believe others have missed?',\n",
       " 'Is Tony Stark (Iron Man) going to die in Avengers: Endgame?',\n",
       " 'Who will die in Avengers: Endgame?',\n",
       " 'What one thing would you have changed in Avengers: Endgame? Why?',\n",
       " 'Why couldn’t Steve Rogers lift Mjölnir in Avengers: Age of Ultron?',\n",
       " 'What is your favorite scene in Avengers: Infinity War?',\n",
       " 'Who is the most powerful superhero in Avengers: Endgame?',\n",
       " 'What characters die in Infinity War?',\n",
       " 'SPOILER: What was your favorite moment in Avengers: Endgame that others might have missed?',\n",
       " 'Which of the Avengers do you think might die in the Infinity War movies?',\n",
       " 'What is your biggest complaint about Avengers: Infinity War (2018 movie)?',\n",
       " 'What was an underrated scene in Avengers: Endgame?',\n",
       " 'Could Goku beat the Avengers?',\n",
       " 'How are the avengers supposed to defeat Thanos?',\n",
       " 'What disappointed you about Avengers: Endgame?',\n",
       " 'What films do I need to watch to best understand and appreciate Avengers: Infinity War?',\n",
       " \"Do you agree with Thanos' ideology in Avengers: Infinity War? Why or why not?\",\n",
       " \"How was Scarlet Witch able to defend herself against the mighty Thanos when the other Avengers couldn't in Avengers: Infinity War?\",\n",
       " 'Which funny scene in Avengers: Infinity War is your favorite?',\n",
       " 'Why is Thor weak in Endgame?',\n",
       " 'Which part of Marvel’s Avengers: Endgame did you like the most?',\n",
       " 'What were your favorite lines from The Avengers?',\n",
       " 'Why is Thor fat in Avengers: Endgame?',\n",
       " 'What was the most shocking moment in Avengers: Endgame for you?',\n",
       " 'How can I avenge the Paris attacks?',\n",
       " 'Who is the weakest member of the Avengers?',\n",
       " 'If you could add 2 minutes to Avengers: Endgame, what would those minutes contain?',\n",
       " 'Who will become leader of Avengers after Endgame?',\n",
       " 'How can I download Avengers: Infinity War in Blu-ray in 720p quality?',\n",
       " 'What one thing or scene do you want to see in Avengers: Infinity War?',\n",
       " \"Will Avengers: Endgame beat Avatar's box office?\",\n",
       " 'If the Avengers had an Indian star cast, who do you think would play the important roles?',\n",
       " 'Will Thanos die in Avengers: Endgame?',\n",
       " 'Where can I watch Avengers: Infinity War online in HD?',\n",
       " \"What in Avengers: Endgame didn't make any sense to you?\",\n",
       " 'Who is noobmaster69?',\n",
       " 'How many Avengers films are there in order?',\n",
       " 'In Marvel Comics, who would win: the X-Men or the Avengers?',\n",
       " 'Do you think Avengers: Endgame will become the highest grossing film of all time?',\n",
       " 'What makes Captain America stand out among the Avengers?',\n",
       " 'How did Thanos defeat the Hulk without the Infinity Stones in Avengers: Infinity War?',\n",
       " 'What were some plotholes you noticed in Avengers: Endgame?',\n",
       " 'What did you notice in the first Avengers: Endgame trailer (December 2018) that other people probably missed?',\n",
       " 'Who is your favorite character in Avengers: Endgame (2019 movie)?',\n",
       " 'Will Loki be revived in Avengers: Endgame?',\n",
       " 'How many more Avengers movies will there be ever?',\n",
       " 'Will Avengers: Endgame be a good film?',\n",
       " '[ENDGAME SPOILERS] How does time travel actually work in Avengers: Endgame?',\n",
       " 'How can India avenge 26/11 militarily without risking an all out nuclear war with Pakistan?',\n",
       " 'What is the title of Avengers 4?',\n",
       " 'How do I download the Avengers: Infinity War movie in Hindi?',\n",
       " 'What are the spoilers for Avengers: Endgame?',\n",
       " 'Is Avengers: Endgame overrated?',\n",
       " 'If the Avengers fought Superman, who would win?',\n",
       " 'Why is “Captain America: Civil War” a “Captain America” film rather than an “Avengers” film?',\n",
       " 'What is the ending explanation of Avengers Infinity War?',\n",
       " '[SPOILER] Did Loki actually die in Avengers: Infinity War?',\n",
       " 'What is your review of the first Avengers: Infinity War teaser trailer?',\n",
       " 'Will Iron Man die in Avengers: Infinity War?',\n",
       " 'What would be the perfect post-credit scene for Avengers: Endgame?',\n",
       " 'Why is Thor considered the most powerful Avenger?',\n",
       " 'What is your reaction after watching ‘Avengers: End game’ movie trailer (March 2019)?',\n",
       " 'What is the order of the Avengers movies?',\n",
       " 'What would be the next Avengers movie after Avengers 4?',\n",
       " 'Who is the first Marvel Avenger?',\n",
       " 'How did Tony Stark obtain the Infinity Stones from the gauntlet on Thanos’ hand?',\n",
       " 'If you could be any Avenger who would you be?',\n",
       " \"What's your unpopular opinion on Avengers: Endgame?\",\n",
       " 'Do you think Avengers: Endgame will be the final Avengers film?',\n",
       " 'What are some of the incredible moments in Avengers Endgame movie?',\n",
       " 'What is the best order to watch the Marvel movies in order to understand Avengers: Endgame?',\n",
       " 'Are the Avengers finished?',\n",
       " 'What would have happened if Batman were in The Avengers?',\n",
       " 'How do you think Avengers 4 will end?',\n",
       " 'Who would win between the Avengers and the Guardians of the Galaxy?',\n",
       " 'Is Doctor Strange an Avenger?',\n",
       " 'SPOILER ALERT: Which character’s death in Avengers: Infinity War moved you the most emotionally?',\n",
       " \"Why didn't Vision appear in Avengers: Endgame?\",\n",
       " 'What are your top 10 memorable scenes from Avengers: Endgame?',\n",
       " 'Were there any major plot holes in Avengers: Infinity War?',\n",
       " 'Why was Thanos crying when he won the battle? What was he sad about in Avengers: Infinity War?',\n",
       " 'Who is the hottest superhero in The Avengers?',\n",
       " 'Does Captain America die in Avengers: Endgame?',\n",
       " 'Avengers: Endgame spoiler: What did you think of the part when all the female Avengers assembled together?',\n",
       " 'How will the dead Avengers return in Avengers: Endgame?',\n",
       " 'Why was Captain America worthy of Mjolnir in Avengers: Endgame but not in Avengers: Age of Ultron?',\n",
       " 'Who is the leader of The Avengers, Captain America or Iron Man?',\n",
       " 'When will the Avengers: Endgame trailer be released?',\n",
       " \"Why wasn't Batman in The Avengers?\",\n",
       " 'What was the most emotional line said by an Avenger in the entire Marvel Cinematic Universe?',\n",
       " 'What would you want NOT to happen in Avengers: Endgame?',\n",
       " 'What are some movie mistakes in Avengers: Endgame?',\n",
       " \"What's an Avenger?\",\n",
       " 'Does Captain America age?',\n",
       " 'What is one thing you noticed in the film Avengers: Infinity War (2018)?',\n",
       " 'Can The Avengers defeat Darkseid?',\n",
       " 'When can we expect the next Avengers film after Avengers: Endgame?',\n",
       " 'What are some of the best parts of Avengers End Game?',\n",
       " 'How many Avengers are there?',\n",
       " 'What was your favorite insignificant/minor moment in Avengers: Infinity War?',\n",
       " 'In the final battle of Avengers: Endgame, why did Thanos seem much stronger than he was in Avengers: Infinity War?',\n",
       " 'The Avengers, The X-Men and The Justice League: If these three groups were ever to fight it out, which one of them would stand the best chance of winning?',\n",
       " 'How much money do you think Avengers: Endgame will make? Will it surpass Infinity War?',\n",
       " 'What Avenger do you like best?',\n",
       " 'If each Avenger had a pet, what would they be?',\n",
       " \"Since I haven't watched any of the Avengers series, what should I know before watching 'Avengers: Infinity War' to fully enjoy the experience?\",\n",
       " 'Do you know any plot holes in Avengers: Endgame?',\n",
       " 'Why was Thor not allowed to wear the Infinity Gauntlet in Avengers: Endgame?',\n",
       " 'How does Thanos know the name of Iron Man or how does he know Tony in 2018’s Avengers: Infinity War?',\n",
       " 'What are some amazing facts about The Avengers movie?',\n",
       " 'Which Avenger do you think will have the honor to kill Thanos in Avengers: Endgame?',\n",
       " 'Why is Avengers: Endgame so bad?',\n",
       " 'Is Scarlet Witch the most powerful Avenger?',\n",
       " 'When is the Avengers: Endgame DVD/Blu-Ray release date?',\n",
       " 'Is Doctor Strange one of the most powerful Avengers?',\n",
       " 'Who would win a battle between Avengers and X-Men teams?',\n",
       " 'Who is the worst Avengers character? Why?',\n",
       " 'Who is the leader of The Avengers?',\n",
       " 'Why does Thanos say he respects Tony Stark in Avengers: Infinity War?',\n",
       " 'Would you rather join the Avengers or the Justice League? Why?',\n",
       " 'What is your review of Avengers: Age of Ultron (2015 movie)?',\n",
       " 'Who was that kid standing alone at the end of Avengers: Endgame?',\n",
       " 'Did Stan Lee film a cameo for Avengers: Endgame before he passed away?',\n",
       " 'Why does Doctor Strange show Tony a finger in Avengers: Endgame?',\n",
       " \"SPOILER ALERT: Why didn't Doctor Strange bargain with Thanos in Avengers: Endgame?\",\n",
       " 'Who is the next villain in the next Avengers?',\n",
       " \"What was the biggest 'mistake' made by any of the Avengers that lead to Thanos' victory in Avengers: Infinity War?\",\n",
       " 'SPOILER ALERT: Why did Marvel let so many heroes die in Avengers: Infinity War?',\n",
       " 'Can you compare Indian cricket team and The Avengers?',\n",
       " 'What is the story of the movie \"Avengers: Endgame\"?',\n",
       " 'When can I get “Avengers Infinity War” tickets in India?',\n",
       " 'What do you think of the second Avengers: Endgame trailer released in March?',\n",
       " 'What will be the post-credit scene in Avengers: Endgame?',\n",
       " 'Did Avengers: Infinity War meet your expectations?',\n",
       " 'Why is Deadpool not present in Avengers: Infinity War?',\n",
       " 'Why is the Hulk so small in The Avengers movies?',\n",
       " 'What do you think Avengers 4 will be called? What would you like it to be called?',\n",
       " 'Who is the most valuable Avenger and why?',\n",
       " 'What will happen to the original Avengers in Avengers: Endgame?',\n",
       " 'Where can I download Avengers: Infinity War (720p, English)?',\n",
       " 'Is Thor the strongest Avenger after the Infinity War?',\n",
       " \"Why didn’t they just cut off Thanos' arm in Avengers: Infinity War?\",\n",
       " \"From a reader's point of view, which is better - The Avengers or Justice League?\",\n",
       " 'Why is Wolverine not in the Avengers?',\n",
       " 'Technically, every superhero in the Marvel Comics is an Avenger. There are Avengers who don’t live in Avengers Tower, are “lone wolves”, or have never met up with “the team”. These are called “Proxy Avengers”, such as: * Dr. Strange * Spiderman * Gambit * Ant-Man * Deadpool * Wasp * Daredevil {Note: I have not included heroes that work in other groups, such as the Gurdians of the Galaxy} So, Wolverine technically is an Avenger. He even has a card. See?',\n",
       " 'Where should I watch Avengers: Endgame?',\n",
       " 'What are the Avenger movies?',\n",
       " 'What did Thanos do wrong in Avengers: Endgame?',\n",
       " 'What happened to Gamora at the end of Avengers: Endgame?',\n",
       " 'Who would be in your Avengers team?',\n",
       " 'Which original Avengers will you miss the most after Avengers: Endgame?',\n",
       " 'How do you predict Avengers: Infinity War will end?',\n",
       " \"What is Marvel' s plan for its movies after Avengers: Endgame?\",\n",
       " 'Who will be the main members of the MCU Avengers after Avengers: Endgame?',\n",
       " 'Who out of the Avengers can beat Superman?',\n",
       " \"Why was Vision able to lift Thor's hammer in Avengers: Age of Ultron?\",\n",
       " \"Why was Captain America able to pick up Thor's hammer in Avengers: Endgame but not earlier Avenger movies?\",\n",
       " 'What if Batman crashes into The Avengers?',\n",
       " \"Who was the teenager standing on his own at the back right in Iron Man's funeral scene in Avengers: Endgame?\",\n",
       " 'What might be the possible movie title for the next Avengers movie after \"Avengers: Infinity War\"?',\n",
       " 'What single scene from Avengers: Endgame was an absolute masterpiece?',\n",
       " 'Who is the best Avenger among all and can defeat Thanos?',\n",
       " 'Who is the wisest Avenger?',\n",
       " 'Why is Avengers: Endgame causing so much hype?',\n",
       " 'Do all the Avengers die in Avengers: Infinity War?',\n",
       " 'Are you going to watch Avengers: Infinity War?',\n",
       " 'Why are they called The Avengers? What are they avenging?',\n",
       " 'Who is the ugliest Avenger?',\n",
       " 'What is the difference between REVENGE & AVENGE?',\n",
       " \"In the Marvel Cinematic Universe : Why doesn't Tony Stark make Iron Man suits for all the Avengers ?\",\n",
       " 'From when can we book tickets of Avengers: Endgame in India?',\n",
       " \"Why isn't Spider-Man part of The Avengers?\",\n",
       " 'Will Avengers: Endgame be on Netflix?',\n",
       " 'Is Avengers: Endgame the last Marvel movie?',\n",
       " 'Which Avenger is the oldest?',\n",
       " 'What do you like more, Avengers: Infinity War or Avengers: Endgame? And why?',\n",
       " 'What is Avengers: Endgame’s total worldwide collection?',\n",
       " 'What is a reason that the Avengers are so popular?',\n",
       " 'What will happen in Avengers: Infinity War?',\n",
       " 'What lessons did you learn from Avengers: Endgame?',\n",
       " 'Hypothetical Scenarios: What if the Avengers actually existed?',\n",
       " 'If you could make one change in Avengers: Infinity War, what would it be?',\n",
       " 'Who will defeat Thanos in Avengers: Endgame?',\n",
       " 'Who are your top 5 characters in Avengers Infinity War and why?',\n",
       " \"What's the best thing about the movie Avengers: Endgame (2019 movie)?\"]"
      ]
     },
     "execution_count": 102,
     "metadata": {},
     "output_type": "execute_result"
    }
   ],
   "source": [
    "questions"
   ]
  },
  {
   "cell_type": "code",
   "execution_count": null,
   "metadata": {},
   "outputs": [],
   "source": []
  },
  {
   "cell_type": "code",
   "execution_count": null,
   "metadata": {},
   "outputs": [],
   "source": []
  },
  {
   "cell_type": "code",
   "execution_count": null,
   "metadata": {},
   "outputs": [],
   "source": []
  },
  {
   "cell_type": "code",
   "execution_count": null,
   "metadata": {},
   "outputs": [],
   "source": []
  },
  {
   "cell_type": "code",
   "execution_count": null,
   "metadata": {},
   "outputs": [],
   "source": []
  },
  {
   "cell_type": "code",
   "execution_count": null,
   "metadata": {},
   "outputs": [],
   "source": []
  },
  {
   "cell_type": "code",
   "execution_count": null,
   "metadata": {},
   "outputs": [],
   "source": []
  },
  {
   "cell_type": "code",
   "execution_count": null,
   "metadata": {},
   "outputs": [],
   "source": []
  },
  {
   "cell_type": "code",
   "execution_count": null,
   "metadata": {},
   "outputs": [],
   "source": []
  },
  {
   "cell_type": "code",
   "execution_count": null,
   "metadata": {},
   "outputs": [],
   "source": []
  },
  {
   "cell_type": "code",
   "execution_count": 33,
   "metadata": {},
   "outputs": [],
   "source": [
    "driver.get('https://www.quora.com')"
   ]
  },
  {
   "cell_type": "code",
   "execution_count": 34,
   "metadata": {},
   "outputs": [],
   "source": [
    "box=driver.find_element_by_class_name('q-input')\n",
    "box.send_keys('avengers')\n",
    "from selenium.webdriver.common.keys import Keys"
   ]
  },
  {
   "cell_type": "code",
   "execution_count": 35,
   "metadata": {},
   "outputs": [],
   "source": [
    "box.send_keys(Keys.RETURN)"
   ]
  },
  {
   "cell_type": "code",
   "execution_count": 23,
   "metadata": {},
   "outputs": [
    {
     "ename": "AttributeError",
     "evalue": "ResultSet object has no attribute 'text'. You're probably treating a list of elements like a single element. Did you call find_all() when you meant to call find()?",
     "output_type": "error",
     "traceback": [
      "\u001b[1;31m---------------------------------------------------------------------------\u001b[0m",
      "\u001b[1;31mAttributeError\u001b[0m                            Traceback (most recent call last)",
      "\u001b[1;32m<ipython-input-23-b99ea9b36f8c>\u001b[0m in \u001b[0;36m<module>\u001b[1;34m\u001b[0m\n\u001b[0;32m      9\u001b[0m \u001b[1;32mwhile\u001b[0m \u001b[0mh\u001b[0m\u001b[1;33m<\u001b[0m\u001b[1;36m10000\u001b[0m\u001b[1;33m:\u001b[0m\u001b[1;33m\u001b[0m\u001b[1;33m\u001b[0m\u001b[0m\n\u001b[0;32m     10\u001b[0m     \u001b[0mdriver\u001b[0m\u001b[1;33m.\u001b[0m\u001b[0mexecute_script\u001b[0m\u001b[1;33m(\u001b[0m\u001b[1;34m'window.scrollBy(0,arguments[0]);'\u001b[0m\u001b[1;33m,\u001b[0m \u001b[0mh\u001b[0m\u001b[1;33m)\u001b[0m\u001b[1;33m\u001b[0m\u001b[1;33m\u001b[0m\u001b[0m\n\u001b[1;32m---> 11\u001b[1;33m     \u001b[0mdata\u001b[0m\u001b[1;33m=\u001b[0m\u001b[1;33m(\u001b[0m\u001b[0mBeautifulSoup\u001b[0m\u001b[1;33m(\u001b[0m\u001b[0mhtml\u001b[0m\u001b[1;33m,\u001b[0m\u001b[1;34m'html.parser'\u001b[0m\u001b[1;33m)\u001b[0m\u001b[1;33m.\u001b[0m\u001b[0mfind_all\u001b[0m\u001b[1;33m(\u001b[0m\u001b[0mclass_\u001b[0m\u001b[1;33m=\u001b[0m\u001b[1;34m'puppeteer_test_question_title'\u001b[0m\u001b[1;33m)\u001b[0m\u001b[1;33m.\u001b[0m\u001b[0mtext\u001b[0m\u001b[1;33m)\u001b[0m\u001b[1;33m\u001b[0m\u001b[1;33m\u001b[0m\u001b[0m\n\u001b[0m\u001b[0;32m     12\u001b[0m     \u001b[0mprint\u001b[0m\u001b[1;33m(\u001b[0m\u001b[0mlen\u001b[0m\u001b[1;33m(\u001b[0m\u001b[0mdata\u001b[0m\u001b[1;33m)\u001b[0m\u001b[1;33m)\u001b[0m\u001b[1;33m\u001b[0m\u001b[1;33m\u001b[0m\u001b[0m\n",
      "\u001b[1;32mC:\\ProgramData\\Anaconda3\\lib\\site-packages\\bs4\\element.py\u001b[0m in \u001b[0;36m__getattr__\u001b[1;34m(self, key)\u001b[0m\n\u001b[0;32m   2171\u001b[0m     \u001b[1;32mdef\u001b[0m \u001b[0m__getattr__\u001b[0m\u001b[1;33m(\u001b[0m\u001b[0mself\u001b[0m\u001b[1;33m,\u001b[0m \u001b[0mkey\u001b[0m\u001b[1;33m)\u001b[0m\u001b[1;33m:\u001b[0m\u001b[1;33m\u001b[0m\u001b[1;33m\u001b[0m\u001b[0m\n\u001b[0;32m   2172\u001b[0m         \u001b[1;34m\"\"\"Raise a helpful exception to explain a common code fix.\"\"\"\u001b[0m\u001b[1;33m\u001b[0m\u001b[1;33m\u001b[0m\u001b[0m\n\u001b[1;32m-> 2173\u001b[1;33m         raise AttributeError(\n\u001b[0m\u001b[0;32m   2174\u001b[0m             \u001b[1;34m\"ResultSet object has no attribute '%s'. You're probably treating a list of elements like a single element. Did you call find_all() when you meant to call find()?\"\u001b[0m \u001b[1;33m%\u001b[0m \u001b[0mkey\u001b[0m\u001b[1;33m\u001b[0m\u001b[1;33m\u001b[0m\u001b[0m\n\u001b[0;32m   2175\u001b[0m         )\n",
      "\u001b[1;31mAttributeError\u001b[0m: ResultSet object has no attribute 'text'. You're probably treating a list of elements like a single element. Did you call find_all() when you meant to call find()?"
     ]
    }
   ],
   "source": [
    "qs=driver.find_element_by_xpath('//*[@id=\"root\"]/div[2]/div[4]/div/div/div[1]/div/div/div[2]/div[2]/div/div/div/div/div')\n",
    "qs.click()\n",
    "\n",
    "\n",
    "from bs4 import BeautifulSoup\n",
    "html=driver.page_source\n",
    "data=[]\n",
    "while len(data)<100:\n",
    "    driver.execute_script('window.scrollBy(0,arguments[0]);', h)\n",
    "    data=(BeautifulSoup(html,'html.parser').find_all(class_='puppeteer_test_question_title'))\n",
    "    print(len(data))"
   ]
  },
  {
   "cell_type": "code",
   "execution_count": 22,
   "metadata": {},
   "outputs": [
    {
     "data": {
      "text/plain": [
       "[<div class=\"q-text puppeteer_test_question_title\" style=\"box-sizing: border-box;\"><span class=\"q-box qu-userSelect--text\" style=\"box-sizing: border-box;\"><span style=\"background: none;\">What is something you noticed in </span><span style=\"background: rgba(46, 105, 255, 0.2);\">Avengers</span><span style=\"background: none;\">: Endgame that you believe others have missed?</span></span></div>,\n",
       " <div class=\"q-text puppeteer_test_question_title\" style=\"box-sizing: border-box;\"><span class=\"q-box qu-userSelect--text\" style=\"box-sizing: border-box;\"><span style=\"background: none;\">Who would win in a fight between the </span><span style=\"background: rgba(46, 105, 255, 0.2);\">Avengers</span><span style=\"background: none;\"> and the Justice League?</span></span></div>,\n",
       " <div class=\"q-text puppeteer_test_question_title\" style=\"box-sizing: border-box;\"><span class=\"q-box qu-userSelect--text\" style=\"box-sizing: border-box;\"><span style=\"background: none;\">What did you hate about </span><span style=\"background: rgba(46, 105, 255, 0.2);\">Avengers</span><span style=\"background: none;\">: Endgame?</span></span></div>,\n",
       " <div class=\"q-text puppeteer_test_question_title\" style=\"box-sizing: border-box;\"><span class=\"q-box qu-userSelect--text\" style=\"box-sizing: border-box;\"><span style=\"background: none;\">What is your review of </span><span style=\"background: rgba(46, 105, 255, 0.2);\">Avengers</span><span style=\"background: none;\">: Endgame (2019 movie)?</span></span></div>,\n",
       " <div class=\"q-text puppeteer_test_question_title\" style=\"box-sizing: border-box;\"><span class=\"q-box qu-userSelect--text\" style=\"box-sizing: border-box;\"><span style=\"background: none;\">Superheroes: </span><span style=\"background: none;\">Who is the most powerful Avenger?</span></span></div>,\n",
       " <div class=\"q-text puppeteer_test_question_title\" style=\"box-sizing: border-box;\"><span class=\"q-box qu-userSelect--text\" style=\"box-sizing: border-box;\"><span style=\"background: none;\">Is </span><span style=\"background: rgba(46, 105, 255, 0.2);\">Avengers</span><span style=\"background: none;\">: Endgame the last </span><span style=\"background: rgba(46, 105, 255, 0.2);\">Avengers</span><span style=\"background: none;\"> movie?</span></span></div>,\n",
       " <div class=\"q-text puppeteer_test_question_title\" style=\"box-sizing: border-box;\"><span class=\"q-box qu-userSelect--text\" style=\"box-sizing: border-box;\"><span style=\"background: none;\">Who is your favorite superhero from the </span><span style=\"background: rgba(46, 105, 255, 0.2);\">Avengers</span><span style=\"background: none;\"> team?</span></span></div>,\n",
       " <div class=\"q-text puppeteer_test_question_title\" style=\"box-sizing: border-box;\"><span class=\"q-box qu-userSelect--text\" style=\"box-sizing: border-box;\"><span style=\"background: none;\">What is your review of </span><span style=\"background: rgba(46, 105, 255, 0.2);\">Avengers</span><span style=\"background: none;\">: Infinity War (2018 movie)?</span></span></div>,\n",
       " <div class=\"q-text puppeteer_test_question_title\" style=\"box-sizing: border-box;\"><span class=\"q-box qu-userSelect--text\" style=\"box-sizing: border-box;\"><span style=\"background: none;\">What are your predictions for what will happen in </span><span style=\"background: rgba(46, 105, 255, 0.2);\">Avengers</span><span style=\"background: none;\"> 4?</span></span></div>,\n",
       " <div class=\"q-text puppeteer_test_question_title\" style=\"box-sizing: border-box;\"><span class=\"q-box qu-userSelect--text\" style=\"box-sizing: border-box;\"><span style=\"background: none;\">What is the best site to Download </span><span style=\"background: rgba(46, 105, 255, 0.2);\">Avengers</span><span style=\"background: none;\">: Infinity War in HD?</span></span></div>]"
      ]
     },
     "execution_count": 22,
     "metadata": {},
     "output_type": "execute_result"
    }
   ],
   "source": [
    "data"
   ]
  }
 ],
 "metadata": {
  "kernelspec": {
   "display_name": "Python 3",
   "language": "python",
   "name": "python3"
  },
  "language_info": {
   "codemirror_mode": {
    "name": "ipython",
    "version": 3
   },
   "file_extension": ".py",
   "mimetype": "text/x-python",
   "name": "python",
   "nbconvert_exporter": "python",
   "pygments_lexer": "ipython3",
   "version": "3.8.5"
  }
 },
 "nbformat": 4,
 "nbformat_minor": 4
}
