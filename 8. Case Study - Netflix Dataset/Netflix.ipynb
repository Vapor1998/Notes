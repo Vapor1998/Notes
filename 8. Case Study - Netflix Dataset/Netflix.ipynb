{
 "cells": [
  {
   "cell_type": "code",
   "execution_count": 1,
   "id": "9816bd1b",
   "metadata": {},
   "outputs": [],
   "source": [
    "import pandas as pd\n",
    "import numpy as np\n",
    "import matplotlib.pyplot as plt"
   ]
  },
  {
   "cell_type": "code",
   "execution_count": 3,
   "id": "bb3fcc0f",
   "metadata": {},
   "outputs": [],
   "source": [
    "dt = pd.read_csv('netflix_dataset.csv')"
   ]
  },
  {
   "cell_type": "code",
   "execution_count": 4,
   "id": "5129abf8",
   "metadata": {},
   "outputs": [],
   "source": [
    "df = dt.copy()"
   ]
  },
  {
   "cell_type": "code",
   "execution_count": 3,
   "id": "60cfe01c",
   "metadata": {},
   "outputs": [
    {
     "data": {
      "text/html": [
       "<div>\n",
       "<style scoped>\n",
       "    .dataframe tbody tr th:only-of-type {\n",
       "        vertical-align: middle;\n",
       "    }\n",
       "\n",
       "    .dataframe tbody tr th {\n",
       "        vertical-align: top;\n",
       "    }\n",
       "\n",
       "    .dataframe thead th {\n",
       "        text-align: right;\n",
       "    }\n",
       "</style>\n",
       "<table border=\"1\" class=\"dataframe\">\n",
       "  <thead>\n",
       "    <tr style=\"text-align: right;\">\n",
       "      <th></th>\n",
       "      <th>show_id</th>\n",
       "      <th>type</th>\n",
       "      <th>title</th>\n",
       "      <th>director</th>\n",
       "      <th>cast</th>\n",
       "      <th>country</th>\n",
       "      <th>date_added</th>\n",
       "      <th>release_year</th>\n",
       "      <th>rating</th>\n",
       "      <th>duration</th>\n",
       "      <th>listed_in</th>\n",
       "      <th>description</th>\n",
       "    </tr>\n",
       "  </thead>\n",
       "  <tbody>\n",
       "    <tr>\n",
       "      <th>0</th>\n",
       "      <td>s1</td>\n",
       "      <td>TV Show</td>\n",
       "      <td>3%</td>\n",
       "      <td>NaN</td>\n",
       "      <td>João Miguel, Bianca Comparato, Michel Gomes, R...</td>\n",
       "      <td>Brazil</td>\n",
       "      <td>August 14, 2020</td>\n",
       "      <td>2020</td>\n",
       "      <td>TV-MA</td>\n",
       "      <td>4 Seasons</td>\n",
       "      <td>International TV Shows, TV Dramas, TV Sci-Fi &amp;...</td>\n",
       "      <td>In a future where the elite inhabit an island ...</td>\n",
       "    </tr>\n",
       "    <tr>\n",
       "      <th>1</th>\n",
       "      <td>s2</td>\n",
       "      <td>Movie</td>\n",
       "      <td>7:19</td>\n",
       "      <td>Jorge Michel Grau</td>\n",
       "      <td>Demián Bichir, Héctor Bonilla, Oscar Serrano, ...</td>\n",
       "      <td>Mexico</td>\n",
       "      <td>December 23, 2016</td>\n",
       "      <td>2016</td>\n",
       "      <td>TV-MA</td>\n",
       "      <td>93 min</td>\n",
       "      <td>Dramas, International Movies</td>\n",
       "      <td>After a devastating earthquake hits Mexico Cit...</td>\n",
       "    </tr>\n",
       "    <tr>\n",
       "      <th>2</th>\n",
       "      <td>s3</td>\n",
       "      <td>Movie</td>\n",
       "      <td>23:59</td>\n",
       "      <td>Gilbert Chan</td>\n",
       "      <td>Tedd Chan, Stella Chung, Henley Hii, Lawrence ...</td>\n",
       "      <td>Singapore</td>\n",
       "      <td>December 20, 2018</td>\n",
       "      <td>2011</td>\n",
       "      <td>R</td>\n",
       "      <td>78 min</td>\n",
       "      <td>Horror Movies, International Movies</td>\n",
       "      <td>When an army recruit is found dead, his fellow...</td>\n",
       "    </tr>\n",
       "    <tr>\n",
       "      <th>3</th>\n",
       "      <td>s4</td>\n",
       "      <td>Movie</td>\n",
       "      <td>9</td>\n",
       "      <td>Shane Acker</td>\n",
       "      <td>Elijah Wood, John C. Reilly, Jennifer Connelly...</td>\n",
       "      <td>United States</td>\n",
       "      <td>November 16, 2017</td>\n",
       "      <td>2009</td>\n",
       "      <td>PG-13</td>\n",
       "      <td>80 min</td>\n",
       "      <td>Action &amp; Adventure, Independent Movies, Sci-Fi...</td>\n",
       "      <td>In a postapocalyptic world, rag-doll robots hi...</td>\n",
       "    </tr>\n",
       "    <tr>\n",
       "      <th>4</th>\n",
       "      <td>s5</td>\n",
       "      <td>Movie</td>\n",
       "      <td>21</td>\n",
       "      <td>Robert Luketic</td>\n",
       "      <td>Jim Sturgess, Kevin Spacey, Kate Bosworth, Aar...</td>\n",
       "      <td>United States</td>\n",
       "      <td>January 1, 2020</td>\n",
       "      <td>2008</td>\n",
       "      <td>PG-13</td>\n",
       "      <td>123 min</td>\n",
       "      <td>Dramas</td>\n",
       "      <td>A brilliant group of students become card-coun...</td>\n",
       "    </tr>\n",
       "  </tbody>\n",
       "</table>\n",
       "</div>"
      ],
      "text/plain": [
       "  show_id     type  title           director  \\\n",
       "0      s1  TV Show     3%                NaN   \n",
       "1      s2    Movie   7:19  Jorge Michel Grau   \n",
       "2      s3    Movie  23:59       Gilbert Chan   \n",
       "3      s4    Movie      9        Shane Acker   \n",
       "4      s5    Movie     21     Robert Luketic   \n",
       "\n",
       "                                                cast        country  \\\n",
       "0  João Miguel, Bianca Comparato, Michel Gomes, R...         Brazil   \n",
       "1  Demián Bichir, Héctor Bonilla, Oscar Serrano, ...         Mexico   \n",
       "2  Tedd Chan, Stella Chung, Henley Hii, Lawrence ...      Singapore   \n",
       "3  Elijah Wood, John C. Reilly, Jennifer Connelly...  United States   \n",
       "4  Jim Sturgess, Kevin Spacey, Kate Bosworth, Aar...  United States   \n",
       "\n",
       "          date_added  release_year rating   duration  \\\n",
       "0    August 14, 2020          2020  TV-MA  4 Seasons   \n",
       "1  December 23, 2016          2016  TV-MA     93 min   \n",
       "2  December 20, 2018          2011      R     78 min   \n",
       "3  November 16, 2017          2009  PG-13     80 min   \n",
       "4    January 1, 2020          2008  PG-13    123 min   \n",
       "\n",
       "                                           listed_in  \\\n",
       "0  International TV Shows, TV Dramas, TV Sci-Fi &...   \n",
       "1                       Dramas, International Movies   \n",
       "2                Horror Movies, International Movies   \n",
       "3  Action & Adventure, Independent Movies, Sci-Fi...   \n",
       "4                                             Dramas   \n",
       "\n",
       "                                         description  \n",
       "0  In a future where the elite inhabit an island ...  \n",
       "1  After a devastating earthquake hits Mexico Cit...  \n",
       "2  When an army recruit is found dead, his fellow...  \n",
       "3  In a postapocalyptic world, rag-doll robots hi...  \n",
       "4  A brilliant group of students become card-coun...  "
      ]
     },
     "execution_count": 3,
     "metadata": {},
     "output_type": "execute_result"
    }
   ],
   "source": [
    "df.head()"
   ]
  },
  {
   "cell_type": "markdown",
   "id": "f2edf54e",
   "metadata": {},
   "source": [
    "## `Shape of the dataset`"
   ]
  },
  {
   "cell_type": "code",
   "execution_count": 7,
   "id": "1578c5d8",
   "metadata": {},
   "outputs": [],
   "source": [
    "import pandas as pd\n",
    "import numpy as np\n",
    "import matplotlib.pyplot as plt\n",
    "dt = pd.read_csv('netflix_dataset.csv')\n",
    "df = dt.copy()"
   ]
  },
  {
   "cell_type": "code",
   "execution_count": 8,
   "id": "66e34175",
   "metadata": {},
   "outputs": [
    {
     "name": "stdout",
     "output_type": "stream",
     "text": [
      "(7787, 12)\n"
     ]
    }
   ],
   "source": [
    "print(df.shape)"
   ]
  },
  {
   "cell_type": "markdown",
   "id": "b6eeedd8",
   "metadata": {},
   "source": [
    "## `Describe the dataset`"
   ]
  },
  {
   "cell_type": "code",
   "execution_count": 1,
   "id": "5a3fe768",
   "metadata": {},
   "outputs": [
    {
     "name": "stdout",
     "output_type": "stream",
     "text": [
      "       release_year\n",
      "count   7787.000000\n",
      "mean    2013.932580\n",
      "std        8.757395\n",
      "min     1925.000000\n",
      "25%     2013.000000\n",
      "50%     2017.000000\n",
      "75%     2018.000000\n",
      "max     2021.000000\n"
     ]
    }
   ],
   "source": [
    "import pandas as pd\n",
    "import numpy as np\n",
    "import matplotlib.pyplot as plt\n",
    "dt = pd.read_csv('netflix_dataset.csv')\n",
    "df = dt.copy()\n",
    "print(df.describe())"
   ]
  },
  {
   "cell_type": "markdown",
   "id": "64d23e8b",
   "metadata": {},
   "source": [
    "## `Datatype of each column`"
   ]
  },
  {
   "cell_type": "code",
   "execution_count": 10,
   "id": "30ed97d0",
   "metadata": {},
   "outputs": [
    {
     "name": "stdout",
     "output_type": "stream",
     "text": [
      "show_id         object\n",
      "type            object\n",
      "title           object\n",
      "director        object\n",
      "cast            object\n",
      "country         object\n",
      "date_added      object\n",
      "release_year     int64\n",
      "rating          object\n",
      "duration        object\n",
      "listed_in       object\n",
      "description     object\n",
      "dtype: object\n"
     ]
    }
   ],
   "source": [
    "import pandas as pd\n",
    "import numpy as np\n",
    "import matplotlib.pyplot as plt\n",
    "dt = pd.read_csv('netflix_dataset.csv')\n",
    "df = dt.copy()\n",
    "print(df.dtypes)"
   ]
  },
  {
   "cell_type": "markdown",
   "id": "81108d54",
   "metadata": {},
   "source": [
    "## `Number of NA values in each column`"
   ]
  },
  {
   "cell_type": "code",
   "execution_count": 12,
   "id": "71f7e71b",
   "metadata": {},
   "outputs": [
    {
     "name": "stdout",
     "output_type": "stream",
     "text": [
      "show_id            0\n",
      "type               0\n",
      "title              0\n",
      "director        2389\n",
      "cast             718\n",
      "country          507\n",
      "date_added        10\n",
      "release_year       0\n",
      "rating             7\n",
      "duration           0\n",
      "listed_in          0\n",
      "description        0\n",
      "dtype: int64\n"
     ]
    }
   ],
   "source": [
    "import pandas as pd\n",
    "import numpy as np\n",
    "import matplotlib.pyplot as plt\n",
    "dt = pd.read_csv('netflix_dataset.csv')\n",
    "df = dt.copy()\n",
    "print(df.isna().sum())"
   ]
  },
  {
   "cell_type": "markdown",
   "id": "f3569641",
   "metadata": {},
   "source": [
    "## `Remove NA values`"
   ]
  },
  {
   "cell_type": "code",
   "execution_count": 30,
   "id": "5aecc30d",
   "metadata": {},
   "outputs": [
    {
     "name": "stdout",
     "output_type": "stream",
     "text": [
      "show_id         0\n",
      "type            0\n",
      "title           0\n",
      "director        0\n",
      "cast            0\n",
      "country         0\n",
      "date_added      0\n",
      "release_year    0\n",
      "rating          0\n",
      "duration        0\n",
      "listed_in       0\n",
      "description     0\n",
      "dtype: int64\n"
     ]
    }
   ],
   "source": [
    "import pandas as pd\n",
    "import numpy as np\n",
    "import matplotlib.pyplot as plt\n",
    "dt = pd.read_csv('netflix_dataset.csv')\n",
    "df = dt.copy()\n",
    "df['cast'] = df['cast'].fillna('No Data')\n",
    "df['director'] = df['director'].fillna('No Data')\n",
    "\n",
    "x = df['country'].mode()\n",
    "y = df['date_added'].mode()\n",
    "z = df['rating'].mode()\n",
    "\n",
    "\n",
    "df['country'] = df['country'].fillna(x.values[0])\n",
    "df['date_added'] = df['date_added'].fillna(y.values[0])\n",
    "df['rating'] = df['rating'].fillna(z.values[0])\n",
    "print(df.isna().sum())"
   ]
  },
  {
   "cell_type": "markdown",
   "id": "555aab2e",
   "metadata": {},
   "source": [
    "`more ways to fill nan values with mode` : https://stackoverflow.com/questions/40619445/how-to-replace-na-values-with-mode-of-a-dataframe-column-in-python"
   ]
  },
  {
   "cell_type": "code",
   "execution_count": 31,
   "id": "26397198",
   "metadata": {},
   "outputs": [
    {
     "data": {
      "text/plain": [
       "0    United States\n",
       "Name: country, dtype: object"
      ]
     },
     "execution_count": 31,
     "metadata": {},
     "output_type": "execute_result"
    }
   ],
   "source": [
    "x = df['country'].mode()\n",
    "x\n",
    "# it gives 0 and united states, to use united states, we do .values[0]"
   ]
  },
  {
   "cell_type": "code",
   "execution_count": 32,
   "id": "81eeba12",
   "metadata": {},
   "outputs": [
    {
     "data": {
      "text/plain": [
       "'United States'"
      ]
     },
     "execution_count": 32,
     "metadata": {},
     "output_type": "execute_result"
    }
   ],
   "source": [
    "x.values[0]"
   ]
  },
  {
   "cell_type": "markdown",
   "id": "8881a40c",
   "metadata": {},
   "source": [
    "## `Percentage of TV shows and Movies`"
   ]
  },
  {
   "cell_type": "code",
   "execution_count": 66,
   "id": "ec4ce674",
   "metadata": {},
   "outputs": [
    {
     "data": {
      "image/png": "[encoded data removed]",
      "text/plain": [
       "<Figure size 432x288 with 1 Axes>"
      ]
     },
     "metadata": {},
     "output_type": "display_data"
    },
    {
     "name": "stdout",
     "output_type": "stream",
     "text": [
      "(69.1, 30.9)\n"
     ]
    }
   ],
   "source": [
    "import pandas as pd\n",
    "import numpy as np\n",
    "import matplotlib.pyplot as plt\n",
    "dt = pd.read_csv('netflix_dataset.csv')\n",
    "df = dt.copy()\n",
    "x = df.type.value_counts()\n",
    "movie = x.index\n",
    "per = x.values\n",
    "\n",
    "d = {}\n",
    "j = 0\n",
    "t = []\n",
    "for i in per:\n",
    "    percent = i/per.sum() * 100\n",
    "    d[movie[j]] = percent\n",
    "    t.append(round(percent, 1))      \n",
    "    j+=1\n",
    "plt.pie(d.values(), autopct='%1.1f%%')\n",
    "plt.show()\n",
    "\n",
    "t = tuple(t)\n",
    "print(t)"
   ]
  },
  {
   "cell_type": "markdown",
   "id": "84a4d29e",
   "metadata": {},
   "source": [
    "## `Top 10 countries`"
   ]
  },
  {
   "cell_type": "code",
   "execution_count": 72,
   "id": "c04d6dfe",
   "metadata": {},
   "outputs": [
    {
     "data": {
      "image/png": "[encoded data removed]",
      "text/plain": [
       "<Figure size 432x288 with 1 Axes>"
      ]
     },
     "metadata": {
      "needs_background": "light"
     },
     "output_type": "display_data"
    },
    {
     "name": "stdout",
     "output_type": "stream",
     "text": [
      "('United States', 2555)\n"
     ]
    }
   ],
   "source": [
    "import pandas as pd\n",
    "import numpy as np\n",
    "import matplotlib.pyplot as plt\n",
    "dt = pd.read_csv('netflix_dataset.csv')\n",
    "df = dt.copy()\n",
    "x = df['country'].value_counts()\n",
    "country = x.index[:10]\n",
    "content = x.values[:10]\n",
    "\n",
    "plt.bar(country, content)\n",
    "plt.xlabel('Country')\n",
    "plt.ylabel('Content')\n",
    "plt.xticks(rotation = 90)\n",
    "plt.show()\n",
    "\n",
    "t = []\n",
    "t.append(country[0])\n",
    "t.append(content[0])\n",
    "t = tuple(t)\n",
    "print(t)"
   ]
  },
  {
   "cell_type": "code",
   "execution_count": 7,
   "id": "7f44e555",
   "metadata": {},
   "outputs": [],
   "source": [
    "import numpy as np\n",
    "import pandas as pd\n",
    "import matplotlib.pyplot as plt\n",
    "\n",
    "df=pd.read_csv('netflix_dataset.csv')\n",
    "x=df['country'].value_counts()[:10]\n",
    "#y=df['type']\n",
    "\n",
    "#plt.plot(x,y)\n",
    "#plt.show()"
   ]
  },
  {
   "cell_type": "markdown",
   "id": "effdd889",
   "metadata": {},
   "source": [
    "## `Content Added Over Years`"
   ]
  },
  {
   "cell_type": "code",
   "execution_count": 1,
   "id": "4aa9e039",
   "metadata": {},
   "outputs": [
    {
     "data": {
      "image/png": "[encoded data removed]",
      "text/plain": [
       "<Figure size 432x288 with 1 Axes>"
      ]
     },
     "metadata": {
      "needs_background": "light"
     },
     "output_type": "display_data"
    },
    {
     "data": {
      "text/plain": [
       "2018    1121\n",
       "2017    1012\n",
       "2019     996\n",
       "2016     882\n",
       "2020     868\n",
       "        ... \n",
       "1925       1\n",
       "1964       1\n",
       "1966       1\n",
       "1947       1\n",
       "1959       1\n",
       "Name: release_year, Length: 73, dtype: int64"
      ]
     },
     "execution_count": 1,
     "metadata": {},
     "output_type": "execute_result"
    }
   ],
   "source": [
    "import pandas as pd\n",
    "import numpy as np\n",
    "import matplotlib.pyplot as plt\n",
    "dt = pd.read_csv('netflix_dataset.csv')\n",
    "df = dt.copy()\n",
    "x = df['release_year'].value_counts()\n",
    "year = x.index\n",
    "content = x.values\n",
    "\n",
    "#plt.figure(figsize=(16,16))\n",
    "plt.bar(year, content)\n",
    "plt.xlabel('Year')\n",
    "plt.ylabel('Content')\n",
    "plt.xticks(rotation = 90)\n",
    "plt.show()\n",
    "\n",
    "x\n"
   ]
  },
  {
   "cell_type": "markdown",
   "id": "1e44d8ba",
   "metadata": {},
   "source": [
    "## `Most Popular in India`"
   ]
  },
  {
   "cell_type": "code",
   "execution_count": 7,
   "id": "d19a6ad3",
   "metadata": {},
   "outputs": [
    {
     "data": {
      "text/plain": [
       "('Movie', 'TV-14')"
      ]
     },
     "execution_count": 7,
     "metadata": {},
     "output_type": "execute_result"
    }
   ],
   "source": [
    "import pandas as pd\n",
    "import numpy as np\n",
    "import matplotlib.pyplot as plt\n",
    "dt = pd.read_csv('netflix_dataset.csv')\n",
    "df = dt.copy()\n",
    "df = df[df['country'] == 'India']\n",
    "types = df.type.value_counts()\n",
    "rating = df.rating.value_counts()\n",
    "a = []\n",
    "a.append(types.index[0])\n",
    "a.append(rating.index[0])\n",
    "a = tuple(a)\n",
    "a"
   ]
  },
  {
   "cell_type": "code",
   "execution_count": 9,
   "id": "24182e5c",
   "metadata": {},
   "outputs": [
    {
     "data": {
      "text/plain": [
       "8       Movie\n",
       "9       Movie\n",
       "18      Movie\n",
       "20      Movie\n",
       "21      Movie\n",
       "        ...  \n",
       "7764    Movie\n",
       "7769    Movie\n",
       "7776    Movie\n",
       "7780    Movie\n",
       "7783    Movie\n",
       "Name: type, Length: 923, dtype: object"
      ]
     },
     "execution_count": 9,
     "metadata": {},
     "output_type": "execute_result"
    }
   ],
   "source": [
    "df.type"
   ]
  },
  {
   "cell_type": "markdown",
   "id": "49742998",
   "metadata": {},
   "source": [
    "## `Longest Movie Duration`"
   ]
  },
  {
   "cell_type": "code",
   "execution_count": 148,
   "id": "840e9f69",
   "metadata": {},
   "outputs": [
    {
     "name": "stdout",
     "output_type": "stream",
     "text": [
      "('Black Mirror: Bandersnatch', 2018)\n"
     ]
    }
   ],
   "source": [
    "import pandas as pd\n",
    "import numpy as np\n",
    "import matplotlib.pyplot as plt\n",
    "dt = pd.read_csv('netflix_dataset.csv')\n",
    "df = dt.copy()\n",
    "df1 = df[df['type'] == 'Movie']\n",
    "x = pd.to_numeric(df1['duration'].str[:-3])\n",
    "maxv = x.max()\n",
    "ind = x[x == maxv].index.values\n",
    "movie = df.iloc[ind]\n",
    "name = movie.title\n",
    "year = movie.release_year\n",
    "\n",
    "arr = []\n",
    "for i, j in zip(name, year):\n",
    "    arr.append(i)\n",
    "    arr.append(j)\n",
    "print(tuple(arr))"
   ]
  },
  {
   "cell_type": "code",
   "execution_count": 3,
   "id": "fd2e2523",
   "metadata": {},
   "outputs": [
    {
     "name": "stderr",
     "output_type": "stream",
     "text": [
      "C:\\Users\\HASHIM RAZI\\AppData\\Local\\Temp\\ipykernel_17504\\3911389544.py:9: SettingWithCopyWarning: \n",
      "A value is trying to be set on a copy of a slice from a DataFrame.\n",
      "Try using .loc[row_indexer,col_indexer] = value instead\n",
      "\n",
      "See the caveats in the documentation: https://pandas.pydata.org/pandas-docs/stable/user_guide/indexing.html#returning-a-view-versus-a-copy\n",
      "  df_movies[\"duration\"]=df_movies[\"duration\"].apply(lambda x: int(x.split(\" \")[0]))\n"
     ]
    },
    {
     "data": {
      "text/plain": [
       "show_id                                                      s958\n",
       "type                                                        Movie\n",
       "title                                  Black Mirror: Bandersnatch\n",
       "director                                                      NaN\n",
       "cast            Fionn Whitehead, Will Poulter, Craig Parkinson...\n",
       "country                                             United States\n",
       "date_added                                      December 28, 2018\n",
       "release_year                                                 2018\n",
       "rating                                                      TV-MA\n",
       "duration                                                      312\n",
       "listed_in          Dramas, International Movies, Sci-Fi & Fantasy\n",
       "description     In 1984, a young programmer begins to question...\n",
       "Name: 957, dtype: object"
      ]
     },
     "execution_count": 3,
     "metadata": {},
     "output_type": "execute_result"
    }
   ],
   "source": [
    "## Open and read data file as specified in the question\n",
    "## Print the required output in given format\n",
    "import pandas as pd \n",
    "import numpy as np \n",
    "import matplotlib.pyplot as plt \n",
    "df = pd.read_csv(\"netflix_dataset.csv\") \n",
    "df=df.copy()\n",
    "df_movies=df.query('type==\"Movie\"')\n",
    "df_movies[\"duration\"]=df_movies[\"duration\"].apply(lambda x: int(x.split(\" \")[0]))\n",
    "df_movies.loc[df_movies[\"duration\"].idxmax()]\n",
    "\n",
    "#print((\"Black Mirror : Bandersnatch\",2018))"
   ]
  }
 ],
 "metadata": {
  "kernelspec": {
   "display_name": "Python 3 (ipykernel)",
   "language": "python",
   "name": "python3"
  },
  "language_info": {
   "codemirror_mode": {
    "name": "ipython",
    "version": 3
   },
   "file_extension": ".py",
   "mimetype": "text/x-python",
   "name": "python",
   "nbconvert_exporter": "python",
   "pygments_lexer": "ipython3",
   "version": "3.9.12"
  }
 },
 "nbformat": 4,
 "nbformat_minor": 5
}
