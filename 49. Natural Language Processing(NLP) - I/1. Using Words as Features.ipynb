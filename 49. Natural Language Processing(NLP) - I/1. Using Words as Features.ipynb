{
 "cells": [
  {
   "cell_type": "markdown",
   "metadata": {},
   "source": [
    "## NLP"
   ]
  },
  {
   "cell_type": "markdown",
   "metadata": {},
   "source": [
    "We have seen alot in Naive Bayes.  \n",
    "What did we do in the previous Project?  \n",
    "Given the document, to create features for this document, we need to create words as the features.  \n",
    "So we did that and we used top 6000 words with highest frequency.  \n",
    "Using words is really nice way of creating features from a document. But it has its challenges, we havent actually done a lot of processing that we should do to improve the accuracy.  \n",
    "So best part about using words is its like you dont really need to know what exactly is the document about, you can just simply apply the same kind of algorithm on different kind of documents and get to a meaningful featureset corrosponding to each document.  \n",
    "*But first of all, we need to make sure that we are maintaining the context of word* .\n",
    "For eg lets say we have something called 'not good', this is in the document, it completely changes the meaning of 'good'.  \n",
    "So if we use just words as our features, we will say that our word contains good, and we might be like pushed towards saying that document is talking positively about whatever it is talking about.  \n",
    "But it is not really true because there is not coming in front of it. SO the context has to be maintained.  \n",
    "The second kind of problem is *words with similar meaning we try and combine them.Not just similar meaning, but for eg, lets say our document has helper, help, helping, it might make sense to use all of these as help.* Because they are kind of trying to portray similar like context is little different but the overall point is that there is some talk is going around about helping somebody.  \n",
    "So this will tell about there are lots of words about help in document.  \n",
    "So it will make sense to go to the root meaning of the word.  \n",
    "So we will move helping to help and move helper to help as well, taking it to the root word.   \n",
    "So it will mean better should moved to good. So we will use the root word instead of the actual word given.  \n",
    "We can try and solve it in a different ways. One more problem we can try and solve is, if we have good and there is another word which has meaning similar to good, for eg, nice, so we might want to somehow use them like a single word, so we might want to convert nice to good.  \n",
    "So these are the few things that we can do to try and extract meaning out of these features that we are planning to create.  \n",
    "\n"
   ]
  }
 ],
 "metadata": {
  "kernelspec": {
   "display_name": "Python 3",
   "language": "python",
   "name": "python3"
  },
  "language_info": {
   "codemirror_mode": {
    "name": "ipython",
    "version": 3
   },
   "file_extension": ".py",
   "mimetype": "text/x-python",
   "name": "python",
   "nbconvert_exporter": "python",
   "pygments_lexer": "ipython3",
   "version": "3.8.5"
  }
 },
 "nbformat": 4,
 "nbformat_minor": 4
}
