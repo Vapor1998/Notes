{
 "cells": [
  {
   "cell_type": "markdown",
   "metadata": {},
   "source": [
    "## Introduction to Pattern"
   ]
  },
  {
   "cell_type": "code",
   "execution_count": 2,
   "metadata": {},
   "outputs": [],
   "source": [
    "## for eg\n",
    "\n",
    "##  ****     This is a pattern in a row\n",
    "\n",
    "## *\n",
    "## *\n",
    "## *\n",
    "## *\n",
    "\n",
    "## above is a pattern in a column\n",
    "\n",
    "\n",
    "## i denotes to no of rows while j denotes no of coloumns \n",
    "\n",
    "## Eg 1\n",
    "\n",
    "## ****\n",
    "## ****\n",
    "## ****\n",
    "## ****\n",
    "\n",
    "## no of rows i.e. i = 4 and no of coloumns i.e. j = 4\n",
    "\n",
    "## Eg 2\n",
    "\n",
    "## *             no of coloumns i.e. j here in this row is 1\n",
    "## **            no of coloumns i.e. j here in this row is 2\n",
    "## ***           no of coloumns i.e. j here in this row is 3\n",
    "## ****          no of coloumns i.e. j here in this row is 4\n",
    "\n",
    "## In a nutshell no of columns = row number\n",
    "## no of rows i.e. i is 4\n",
    "\n",
    "\n",
    "## Eg 3 \n",
    "\n",
    "## 1234\n",
    "## 1234\n",
    "## 1234\n",
    "## 1234\n"
   ]
  },
  {
   "cell_type": "markdown",
   "metadata": {},
   "source": [
    "## How to approach to the Pattern Problem"
   ]
  },
  {
   "cell_type": "code",
   "execution_count": null,
   "metadata": {},
   "outputs": [],
   "source": [
    "## To approach Pattern Problem, we need to answer 3 questions\n",
    "\n",
    "## 1. How many rows?\n",
    "## 2. How many Columns to print for ith row?\n",
    "## 3. What to print\n",
    "\n",
    "\n",
    "## Ans1: If we give give n as 3 we need to print 3 rows.\n",
    "## Ans2: The problem with column is, they might not be same for each row. For eg, in Eg 1, the number of \n",
    "##       rows and columns are same.But in the Eg 2, the numbers of rows and columns are not same, ie the no\n",
    "##       of rows are 4 and no of colums are not same for each row.\n",
    "## Ans3: To print something varies from problem to problem.Let us Answer Eg 3\n",
    "##       Here, No of rows is 4\n",
    "##       No of columns is as same which is independent of i\n",
    "##       What to print is j which is coloumn number"
   ]
  }
 ],
 "metadata": {
  "kernelspec": {
   "display_name": "Python 3",
   "language": "python",
   "name": "python3"
  },
  "language_info": {
   "codemirror_mode": {
    "name": "ipython",
    "version": 3
   },
   "file_extension": ".py",
   "mimetype": "text/x-python",
   "name": "python",
   "nbconvert_exporter": "python",
   "pygments_lexer": "ipython3",
   "version": "3.8.5"
  }
 },
 "nbformat": 4,
 "nbformat_minor": 4
}
