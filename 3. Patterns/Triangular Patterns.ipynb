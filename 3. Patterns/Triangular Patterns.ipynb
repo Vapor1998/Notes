{
 "cells": [
  {
   "cell_type": "code",
   "execution_count": 1,
   "metadata": {},
   "outputs": [
    {
     "data": {
      "text/plain": [
       "1234"
      ]
     },
     "execution_count": 1,
     "metadata": {},
     "output_type": "execute_result"
    }
   ],
   "source": [
    "1\n",
    "12\n",
    "123\n",
    "1234\n",
    "\n",
    "\n",
    "## In the above pattern, the 3 questions answered are\n",
    "## 1. row i.e. i is 4\n",
    "## 2. coluumn i.e. j is as same as no of rows \n",
    "## 3. What to print is actually column number i.e. i  because in first column i is 1 so i is printed.\n",
    "##"
   ]
  },
  {
   "cell_type": "code",
   "execution_count": 3,
   "metadata": {},
   "outputs": [
    {
     "name": "stdout",
     "output_type": "stream",
     "text": [
      "4\n",
      "1\n",
      "12\n",
      "123\n",
      "1234\n"
     ]
    }
   ],
   "source": [
    "n = int(input())\n",
    "i = 1\n",
    "while i <= n:\n",
    "    j = 1\n",
    "    while j <= i:\n",
    "        print(j, end= '')\n",
    "        j = j + 1\n",
    "    print()\n",
    "    i = i + 1"
   ]
  },
  {
   "cell_type": "code",
   "execution_count": null,
   "metadata": {},
   "outputs": [],
   "source": [
    "1\n",
    "23\n",
    "345\n",
    "4567\n",
    "\n",
    "\n",
    "## In the above pattern, the 3 questions answered are\n",
    "## 1. row i.e. i is 4\n",
    "## 2. coluumn i.e. j is as same as no of rows \n",
    "## 3. What to print is starting from row number, we need to increment the value, we can come up with the formula  \n",
    "##    that is i + j - 1,\n",
    "##    but we use the variable p where we print p which is equal to i, each time we print it, we need to increment \n",
    "##    it by 1.\n",
    "##     "
   ]
  },
  {
   "cell_type": "code",
   "execution_count": 3,
   "metadata": {},
   "outputs": [
    {
     "name": "stdout",
     "output_type": "stream",
     "text": [
      "5\n",
      "1\n",
      "23\n",
      "345\n",
      "4567\n",
      "56789\n"
     ]
    }
   ],
   "source": [
    "n = int(input())\n",
    "i = 1\n",
    "while i <= n:\n",
    "    j = 1\n",
    "    p = i                      ## Reseting p at every row by its row number i.e. i\n",
    "    while j <= i:\n",
    "        print(p, end= '')\n",
    "        j = j + 1\n",
    "        p = p + 1\n",
    "    i = i + 1\n",
    "    print()\n",
    "\n",
    "## Dry Run\n",
    "## Let us take row no 3, where i = 3, it goes inside the while loop, it prints p, and then \n",
    "## it increments the column j by 1 and p by 1. so j becomes 2 and p becomes 4.\n",
    "## It then agains check the condition if j <= i  i.e. 2 <= 3, it is true so it prints p\n",
    "## that is 4 and then it increments j and p by 1 which becomes 3 and 5.\n",
    "## Again it goes back to the loop where it checks the condition while j <= i, which is \n",
    "## 3 <= 3, which is True so it prints p which is 5 and then it increments the j and p by 1\n",
    "## where they becomes 4 and 6. \n",
    "## It again goes to the loop where it checks the condition j <= i which is 4 <= 3 which is false so it \n",
    "## breaks out of the loop.\n",
    "## Now, it increments the i by 1 where i becomes 4 and it goes to the new line by print() statement.\n",
    "## It again goes back to outer while loop where i is 4 and value of j is 5 where it repeats the above steps.\n",
    "##"
   ]
  },
  {
   "cell_type": "code",
   "execution_count": null,
   "metadata": {},
   "outputs": [],
   "source": [
    "1\n",
    "23\n",
    "456\n",
    "78910\n",
    "\n",
    "## In the above pattern, the 3 questions answered are\n",
    "## 1. row i.e. i is 4\n",
    "## 2. column i.e. j is as same as no of rows\n",
    "## 3. What to print is p which increments everytime we print it.\n",
    "## In the above case, we were reseting p in every row.In this case we will not reset it.\n",
    "##\n"
   ]
  },
  {
   "cell_type": "code",
   "execution_count": 4,
   "metadata": {},
   "outputs": [
    {
     "name": "stdout",
     "output_type": "stream",
     "text": [
      "4\n",
      "1\n",
      "23\n",
      "456\n",
      "78910\n"
     ]
    }
   ],
   "source": [
    "n = int(input())\n",
    "i = 1\n",
    "p = 1\n",
    "while i <= n:\n",
    "    j = 1\n",
    "    while j <= i:\n",
    "        print(p, end= '')\n",
    "        j = j + 1\n",
    "        p = p + 1\n",
    "    i = i + 1\n",
    "    print()"
   ]
  }
 ],
 "metadata": {
  "kernelspec": {
   "display_name": "Python 3",
   "language": "python",
   "name": "python3"
  },
  "language_info": {
   "codemirror_mode": {
    "name": "ipython",
    "version": 3
   },
   "file_extension": ".py",
   "mimetype": "text/x-python",
   "name": "python",
   "nbconvert_exporter": "python",
   "pygments_lexer": "ipython3",
   "version": "3.8.5"
  }
 },
 "nbformat": 4,
 "nbformat_minor": 4
}
