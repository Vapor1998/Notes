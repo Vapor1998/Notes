{
 "cells": [
  {
   "cell_type": "code",
   "execution_count": 2,
   "metadata": {},
   "outputs": [
    {
     "name": "stdout",
     "output_type": "stream",
     "text": [
      "2\n",
      "*\n",
      "*\n",
      "\n",
      "*\n",
      "*\n",
      "\n"
     ]
    }
   ],
   "source": [
    "n = int(input())\n",
    "i = 1\n",
    "while i <= n:\n",
    "    j = 1\n",
    "    while j <= n:\n",
    "        #print jth column\n",
    "        print(\"*\")\n",
    "        j = j + 1\n",
    "    print()           ## When we print something, the print command automatically puts enter at the end\n",
    "                      ## Like we see in output, when we print a star, it automatically puts enter and next star is \n",
    "                      ## printed in the next line.When we specifically said print a blank at the end of the column,\n",
    "                      ## it printed a new line with an enter and the next row is printed after a new line.\n",
    "    i = i + 1\n",
    "    "
   ]
  },
  {
   "cell_type": "code",
   "execution_count": 3,
   "metadata": {},
   "outputs": [
    {
     "name": "stdout",
     "output_type": "stream",
     "text": [
      "2\n",
      "*1*1\n",
      "*1*1\n"
     ]
    }
   ],
   "source": [
    "## end keyword\n",
    "## It defines how to end your print line\n",
    "## You can provide what to end with\n",
    "\n",
    "n = int(input())\n",
    "i = 1\n",
    "while i <= n:\n",
    "    j = 1\n",
    "    while j <= n:\n",
    "        #print jth column\n",
    "        print(\"*\", end= '1')\n",
    "        j = j + 1\n",
    "    print()\n",
    "    i = i + 1\n",
    "\n",
    "## Everytime it printed a star, it ended with 1\n"
   ]
  },
  {
   "cell_type": "code",
   "execution_count": 4,
   "metadata": {},
   "outputs": [
    {
     "name": "stdout",
     "output_type": "stream",
     "text": [
      "4\n",
      "****\n",
      "****\n",
      "****\n",
      "****\n"
     ]
    }
   ],
   "source": [
    "n = int(input())\n",
    "i = 1\n",
    "while i <= n:\n",
    "    j = 1\n",
    "    while j <= n:\n",
    "        #print jth column\n",
    "        print(\"*\", end= '')\n",
    "        j = j + 1\n",
    "    print()        ## We need to add new line everytime we end a row\n",
    "    i = i + 1\n",
    "\n",
    "## This is the pattern we wanted to print"
   ]
  }
 ],
 "metadata": {
  "kernelspec": {
   "display_name": "Python 3",
   "language": "python",
   "name": "python3"
  },
  "language_info": {
   "codemirror_mode": {
    "name": "ipython",
    "version": 3
   },
   "file_extension": ".py",
   "mimetype": "text/x-python",
   "name": "python",
   "nbconvert_exporter": "python",
   "pygments_lexer": "ipython3",
   "version": "3.8.5"
  }
 },
 "nbformat": 4,
 "nbformat_minor": 4
}
