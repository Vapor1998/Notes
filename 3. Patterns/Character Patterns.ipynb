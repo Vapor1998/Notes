{
 "cells": [
  {
   "cell_type": "markdown",
   "metadata": {},
   "source": [
    "ABCD\n",
    "ABCD\n",
    "ABCD\n",
    "ABCD\n",
    "\n",
    "The Three questions answered are\n",
    "1. Number of rows are n.\n",
    "2. Number of columns are also n where n = 4.\n",
    "3. What to print is as same as pattern 1234 of i and j = 4,\n",
    "   where the formula is 'A' + n - 1. where Ascii value of 'A' is used\n",
    "   Way to approach this problem is \n",
    "   a. Find ASCII of 'A'.\n",
    "   b. Add k - 1 in it.\n",
    "   c. Find character corrosponding to number in 2.\n",
    "   \n",
    "   \n",
    "ord() = This method will give ascii value of the character.This will work only with single character string.\n",
    "chr() = This method will give character of the corrosponding to the ascii value.\n",
    "\n"
   ]
  },
  {
   "cell_type": "code",
   "execution_count": 7,
   "metadata": {},
   "outputs": [
    {
     "name": "stdout",
     "output_type": "stream",
     "text": [
      "2\n",
      "B\n"
     ]
    }
   ],
   "source": [
    "## Print kth alphabet\n",
    "\n",
    "k = int(input())\n",
    "\n",
    "x = ord(\"A\")\n",
    "asciiTarget = x + k -1 \n",
    "targetChar = chr(asciiTarget)\n",
    "print(targetChar)"
   ]
  },
  {
   "cell_type": "code",
   "execution_count": 8,
   "metadata": {},
   "outputs": [
    {
     "name": "stdout",
     "output_type": "stream",
     "text": [
      "4\n",
      "ABCD\n",
      "ABCD\n",
      "ABCD\n",
      "ABCD\n"
     ]
    }
   ],
   "source": [
    "n = int(input())\n",
    "i = 1\n",
    "while i <= n:\n",
    "    j = 1\n",
    "    while j <= n:\n",
    "        charP = chr(ord('A') + j - 1 )\n",
    "        print(charP, end = '')\n",
    "        j = j + 1\n",
    "    print()\n",
    "    i = i + 1\n",
    "    "
   ]
  },
  {
   "cell_type": "markdown",
   "metadata": {},
   "source": [
    "ABCD\n",
    "BCDE\n",
    "CDEF\n",
    "DEFG\n",
    "\n",
    "The Three questions answered are\n",
    "1. Number of rows are n.\n",
    "2. Number of columns are also n where n = 4.\n",
    "3. What to print is as same as pattern 1234 2345 3456 4567 of i and j = 4,\n",
    "   where the formula is 'A' + n - 1. where Ascii value of 'A' is used\n",
    "   Way to approach this problem is \n",
    "   a. Find ASCII of 'A'.\n",
    "   b. Define Starting char of row i.e. chr(ord(\"A\") + i - 1)\n",
    "   c. Then in the next loop, do the same as above to find the next char.\n",
    "   \n",
    "   \n",
    "ord() = This method will give ascii value of the character.This will work only with single character string.\n",
    "chr() = This method will give character of the corrosponding to the ascii value.\n",
    "\n"
   ]
  },
  {
   "cell_type": "code",
   "execution_count": 13,
   "metadata": {},
   "outputs": [
    {
     "name": "stdout",
     "output_type": "stream",
     "text": [
      "4\n",
      "ABCD\n",
      "BCDE\n",
      "CDEF\n",
      "DEFG\n"
     ]
    }
   ],
   "source": [
    "n = int(input())\n",
    "i = 1\n",
    "while i <= n:\n",
    "    j = 1\n",
    "    startingChar = chr(ord(\"A\") + i - 1)\n",
    "    while j <= n:\n",
    "        charP = chr( ord(startingChar)+ j - 1 )\n",
    "        print(charP, end = '')\n",
    "        j = j + 1\n",
    "    print()\n",
    "    i = i + 1"
   ]
  }
 ],
 "metadata": {
  "kernelspec": {
   "display_name": "Python 3",
   "language": "python",
   "name": "python3"
  },
  "language_info": {
   "codemirror_mode": {
    "name": "ipython",
    "version": 3
   },
   "file_extension": ".py",
   "mimetype": "text/x-python",
   "name": "python",
   "nbconvert_exporter": "python",
   "pygments_lexer": "ipython3",
   "version": "3.8.5"
  }
 },
 "nbformat": 4,
 "nbformat_minor": 4
}
