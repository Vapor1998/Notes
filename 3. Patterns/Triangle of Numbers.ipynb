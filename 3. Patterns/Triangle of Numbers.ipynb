{
 "cells": [
  {
   "cell_type": "code",
   "execution_count": null,
   "metadata": {},
   "outputs": [],
   "source": [
    "  1\n",
    " 232\n",
    "34543\n",
    "4567654"
   ]
  },
  {
   "cell_type": "code",
   "execution_count": 40,
   "metadata": {},
   "outputs": [
    {
     "name": "stdout",
     "output_type": "stream",
     "text": [
      "7\n",
      "      1\n",
      "     232\n",
      "    34543\n",
      "   4567654\n",
      "  567898765\n",
      " 67891011109876\n",
      "78910111213121110987\n"
     ]
    }
   ],
   "source": [
    "n = int(input())\n",
    "i = 1\n",
    "k = 2\n",
    "while i <= n:\n",
    "    spaces = 1\n",
    "    while spaces <= n - i:\n",
    "        print(\" \", end= '')\n",
    "        spaces += 1\n",
    "        \n",
    "    j = 1\n",
    "    p = i\n",
    "    while j<= i:\n",
    "        print(p, end = '')\n",
    "        p += 1\n",
    "        j += 1\n",
    "    \n",
    "    \n",
    "    q = i -1\n",
    "    \n",
    "    while q >= 1:\n",
    "        print(k - 1 , end= '')\n",
    "        k = k - 1\n",
    "        q -= 1\n",
    "    \n",
    "    k = 2 * i + 1\n",
    "    \n",
    "    print()\n",
    "    i += 1\n",
    "    "
   ]
  },
  {
   "cell_type": "code",
   "execution_count": null,
   "metadata": {},
   "outputs": [],
   "source": []
  }
 ],
 "metadata": {
  "kernelspec": {
   "display_name": "Python 3",
   "language": "python",
   "name": "python3"
  },
  "language_info": {
   "codemirror_mode": {
    "name": "ipython",
    "version": 3
   },
   "file_extension": ".py",
   "mimetype": "text/x-python",
   "name": "python",
   "nbconvert_exporter": "python",
   "pygments_lexer": "ipython3",
   "version": "3.8.5"
  }
 },
 "nbformat": 4,
 "nbformat_minor": 4
}
