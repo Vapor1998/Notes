{
 "cells": [
  {
   "cell_type": "code",
   "execution_count": 2,
   "metadata": {},
   "outputs": [
    {
     "name": "stdout",
     "output_type": "stream",
     "text": [
      "4\n",
      "   *\n",
      "  ***\n",
      " *****\n",
      "*******\n"
     ]
    }
   ],
   "source": [
    "n = int(input())\n",
    "i = 1\n",
    "while i <= n:\n",
    "    spaces = 1\n",
    "    while spaces <= n - i:\n",
    "        print(\" \", end= '')\n",
    "        spaces += 1\n",
    "    stars = 1\n",
    "    while stars <= i:\n",
    "        print('*', end = '')\n",
    "        stars += 1\n",
    "    p = i - 1\n",
    "    while p >= 1:\n",
    "        print(\"*\", end = '')\n",
    "        p -= 1\n",
    "\n",
    "    i += 1\n",
    "    print()"
   ]
  }
 ],
 "metadata": {
  "kernelspec": {
   "display_name": "Python 3",
   "language": "python",
   "name": "python3"
  },
  "language_info": {
   "codemirror_mode": {
    "name": "ipython",
    "version": 3
   },
   "file_extension": ".py",
   "mimetype": "text/x-python",
   "name": "python",
   "nbconvert_exporter": "python",
   "pygments_lexer": "ipython3",
   "version": "3.8.5"
  }
 },
 "nbformat": 4,
 "nbformat_minor": 4
}
