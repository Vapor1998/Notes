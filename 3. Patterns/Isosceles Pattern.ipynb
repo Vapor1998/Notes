{
 "cells": [
  {
   "cell_type": "markdown",
   "metadata": {},
   "source": [
    "   1\n",
    "  121\n",
    " 12321\n",
    "1234321\n",
    "\n",
    "\n",
    "To do this problem, we need to break the problem in two half\n",
    "\n",
    "First Problem,\n",
    "\n",
    "   1\n",
    "  12\n",
    " 123\n",
    "1234\n",
    "\n",
    "And Second Problem,\n",
    "\n",
    "\n",
    "1\n",
    "21\n",
    "321\n",
    "where 1 starts from row 2 column 5.\n",
    "\n",
    "\n",
    "To solve Both Problem, \n",
    "So the approach to do this problem is following steps.\n",
    "1. We will have a loop for rows.\n",
    "2. Inside this loop, we will have another loop to print spaces,\n",
    "   After printing spaces, we need to print numbers, for numbers we will have two loops.\n",
    "   First one for first problem , next one for second problem.\n",
    "   First loop prints numbers in increasing sequence,\n",
    "   Second loop if we look carefully will start from second row, which is i - 1, and it will\n",
    "   print numbers till 1 so the limit of loop is  p >= 1.\n",
    "   \n",
    "   \n",
    "   while i <= n:\n",
    "       s = 1\n",
    "       while s <= n - i:   # Loop for space\n",
    "       \n",
    "       \n",
    "       p = 1\n",
    "       while p <= i:        # To print increasing numbers\n",
    "    \n",
    "   p = i -1\n",
    "   while p >= 1:          # to print decreasing numbers\n",
    "     "
   ]
  },
  {
   "cell_type": "code",
   "execution_count": 1,
   "metadata": {},
   "outputs": [
    {
     "name": "stdout",
     "output_type": "stream",
     "text": [
      "4\n",
      "   1\n",
      "  121\n",
      " 12321\n",
      "1234321\n"
     ]
    }
   ],
   "source": [
    "n = int(input())\n",
    "i = 1\n",
    "while i <= n:\n",
    "    ## Spaces\n",
    "    spaces = 1\n",
    "    while spaces <= n - i:\n",
    "        print(\" \", end = '')\n",
    "        spaces += 1\n",
    "    ## Increasing Sequences\n",
    "    p = 1\n",
    "    j = 1\n",
    "    while j <= i:\n",
    "        print(p, end = '')\n",
    "        p += 1\n",
    "        j += 1\n",
    "        \n",
    "    p = i - 1\n",
    "    while p >= 1:\n",
    "        print(p, end= '')\n",
    "        p = p -1\n",
    "        \n",
    "    i+= 1\n",
    "    print()"
   ]
  }
 ],
 "metadata": {
  "kernelspec": {
   "display_name": "Python 3",
   "language": "python",
   "name": "python3"
  },
  "language_info": {
   "codemirror_mode": {
    "name": "ipython",
    "version": 3
   },
   "file_extension": ".py",
   "mimetype": "text/x-python",
   "name": "python",
   "nbconvert_exporter": "python",
   "pygments_lexer": "ipython3",
   "version": "3.8.5"
  }
 },
 "nbformat": 4,
 "nbformat_minor": 4
}
