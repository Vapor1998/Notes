{
 "cells": [
  {
   "cell_type": "code",
   "execution_count": null,
   "metadata": {},
   "outputs": [],
   "source": [
    "1111\n",
    "2222\n",
    "3333\n",
    "4444\n",
    "\n",
    "## In the above pattern, the 3 questions answered are\n",
    "## 1. row i.e. i is 4\n",
    "## 2. coluumn i.e. is 4\n",
    "## 3. What to print is actually row number i.e. i  because in first row i is 1 so i is printed.\n",
    "##"
   ]
  },
  {
   "cell_type": "code",
   "execution_count": 12,
   "metadata": {},
   "outputs": [
    {
     "name": "stdout",
     "output_type": "stream",
     "text": [
      "4\n",
      "1111\n",
      "2222\n",
      "3333\n",
      "4444\n"
     ]
    }
   ],
   "source": [
    "n = int(input())\n",
    "i = 1\n",
    "while i <= n:\n",
    "    j = 1\n",
    "    while j <= n:\n",
    "        print(i, end= '')\n",
    "        j = j + 1\n",
    "    print()\n",
    "    i = i + 1"
   ]
  },
  {
   "cell_type": "code",
   "execution_count": null,
   "metadata": {},
   "outputs": [],
   "source": [
    "1234\n",
    "1234\n",
    "1234\n",
    "1234\n",
    "\n",
    "## In the above pattern, the 3 questions answered are\n",
    "## 1. row i.e. i is 4\n",
    "## 2. coluumn i.e. is 4\n",
    "## 3. What to print is actually column number i.e. j  because in first column j is 1 so j is printed and in second row, \n",
    "##    2 is printed and so on\n",
    "##"
   ]
  },
  {
   "cell_type": "code",
   "execution_count": 5,
   "metadata": {},
   "outputs": [
    {
     "name": "stdout",
     "output_type": "stream",
     "text": [
      "4\n",
      "1234\n",
      "1234\n",
      "1234\n",
      "1234\n"
     ]
    }
   ],
   "source": [
    "n = int(input())\n",
    "i = 1\n",
    "while i <= n:\n",
    "    j = 1\n",
    "    while j <= n:\n",
    "        print(j, end = '')    ## Only what to print is affected\n",
    "        j = j + 1\n",
    "    print()\n",
    "    i = i + 1"
   ]
  },
  {
   "cell_type": "code",
   "execution_count": null,
   "metadata": {},
   "outputs": [],
   "source": [
    "4321\n",
    "4321\n",
    "4321\n",
    "4321\n",
    "\n",
    "\n",
    "## In the above pattern, the 3 questions answered are\n",
    "## 1. row i.e. i is 4\n",
    "## 2. coluumn i.e. is 4\n",
    "## 3. What to print is actually unidentified.\n",
    "##    If we look carefully, the first row number starts with n which is 4 so it is dependent of n.\n",
    "##    Now as we see as row increases column number decreases i.e. in row1 col1, num is 4  , in row2 col2,\n",
    "##    num is 3, in row3, col3, num is 2, in row4 col4, num is 1.\n",
    "##    Looking at these relations, n - j can be the solution as we are decreasing the number as column increases.\n",
    "##    But it will make it one lesser. So the solution is n - j + 1."
   ]
  },
  {
   "cell_type": "code",
   "execution_count": 10,
   "metadata": {},
   "outputs": [
    {
     "name": "stdout",
     "output_type": "stream",
     "text": [
      "4\n",
      "4321\n",
      "4321\n",
      "4321\n",
      "4321\n"
     ]
    }
   ],
   "source": [
    "n = int(input())\n",
    "i = 1\n",
    "while i <= n:\n",
    "    j = 1\n",
    "    while j <= n:\n",
    "        print(n - j + 1, end = '')\n",
    "        j = j + 1\n",
    "    print()\n",
    "    i = i + 1"
   ]
  }
 ],
 "metadata": {
  "kernelspec": {
   "display_name": "Python 3",
   "language": "python",
   "name": "python3"
  },
  "language_info": {
   "codemirror_mode": {
    "name": "ipython",
    "version": 3
   },
   "file_extension": ".py",
   "mimetype": "text/x-python",
   "name": "python",
   "nbconvert_exporter": "python",
   "pygments_lexer": "ipython3",
   "version": "3.8.5"
  }
 },
 "nbformat": 4,
 "nbformat_minor": 4
}
