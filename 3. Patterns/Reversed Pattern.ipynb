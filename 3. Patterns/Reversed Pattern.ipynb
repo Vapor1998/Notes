{
 "cells": [
  {
   "cell_type": "markdown",
   "metadata": {},
   "source": [
    "   *\n",
    "  **\n",
    " ***\n",
    "****\n",
    "\n",
    "The three questions answered are\n",
    "1. Number of rows are n.\n",
    "2. Number of columns are actually row number at particular row.\n",
    "3. To print is star\n",
    "\n",
    "As we see, there are i stars at ith row.\n",
    "Alongside with stars, it also has spaces.\n",
    "First row(i) has 3 spaces, second row has two spaces, and so on.\n",
    "So ith row has n - i spaces.\n",
    "\n",
    "So the approach to do this problem is following steps.\n",
    "1. We will have a loop for rows.\n",
    "2. Inside this loop, we will have another loop to print spaces,\n",
    "   After printing spaces, we need to print star, for stars we will have another loop.\n",
    "   \n",
    "   while i <= n:\n",
    "       s = 1\n",
    "       while s <= n - i:   # Loop for space\n",
    "       \n",
    "       \n",
    "       star = 1\n",
    "       while stars <= i:        # To print star"
   ]
  },
  {
   "cell_type": "code",
   "execution_count": 2,
   "metadata": {},
   "outputs": [
    {
     "name": "stdout",
     "output_type": "stream",
     "text": [
      "4\n",
      "   *\n",
      "  **\n",
      " ***\n",
      "****\n"
     ]
    }
   ],
   "source": [
    "n = int(input())\n",
    "i = 1\n",
    "while i <= n:\n",
    "    spaces = 1\n",
    "    while spaces <= n - i:\n",
    "        print(\" \", end = '')\n",
    "        spaces += 1\n",
    "    stars  = 1\n",
    "    while stars <= i:\n",
    "        print(\"*\", end = '')\n",
    "        stars += 1\n",
    "    print()\n",
    "    i += 1"
   ]
  }
 ],
 "metadata": {
  "kernelspec": {
   "display_name": "Python 3",
   "language": "python",
   "name": "python3"
  },
  "language_info": {
   "codemirror_mode": {
    "name": "ipython",
    "version": 3
   },
   "file_extension": ".py",
   "mimetype": "text/x-python",
   "name": "python",
   "nbconvert_exporter": "python",
   "pygments_lexer": "ipython3",
   "version": "3.8.5"
  }
 },
 "nbformat": 4,
 "nbformat_minor": 4
}
