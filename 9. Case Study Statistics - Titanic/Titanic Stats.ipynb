{
 "cells": [
  {
   "cell_type": "markdown",
   "id": "d7b12a1d",
   "metadata": {},
   "source": [
    "## `Mean Age of Survivors`"
   ]
  },
  {
   "cell_type": "code",
   "execution_count": 1,
   "id": "bf499858",
   "metadata": {},
   "outputs": [
    {
     "data": {
      "text/html": [
       "<div>\n",
       "<style scoped>\n",
       "    .dataframe tbody tr th:only-of-type {\n",
       "        vertical-align: middle;\n",
       "    }\n",
       "\n",
       "    .dataframe tbody tr th {\n",
       "        vertical-align: top;\n",
       "    }\n",
       "\n",
       "    .dataframe thead th {\n",
       "        text-align: right;\n",
       "    }\n",
       "</style>\n",
       "<table border=\"1\" class=\"dataframe\">\n",
       "  <thead>\n",
       "    <tr style=\"text-align: right;\">\n",
       "      <th></th>\n",
       "      <th>PassengerId</th>\n",
       "      <th>Pclass</th>\n",
       "      <th>Name</th>\n",
       "      <th>Sex</th>\n",
       "      <th>Age</th>\n",
       "      <th>SibSp</th>\n",
       "      <th>Parch</th>\n",
       "      <th>Ticket</th>\n",
       "      <th>Fare</th>\n",
       "      <th>Cabin</th>\n",
       "      <th>Embarked</th>\n",
       "      <th>Survived</th>\n",
       "    </tr>\n",
       "  </thead>\n",
       "  <tbody>\n",
       "    <tr>\n",
       "      <th>0</th>\n",
       "      <td>1</td>\n",
       "      <td>3</td>\n",
       "      <td>Braund, Mr. Owen Harris</td>\n",
       "      <td>1</td>\n",
       "      <td>22.0</td>\n",
       "      <td>1</td>\n",
       "      <td>0</td>\n",
       "      <td>A/5 21171</td>\n",
       "      <td>7.2500</td>\n",
       "      <td>G</td>\n",
       "      <td>S</td>\n",
       "      <td>0</td>\n",
       "    </tr>\n",
       "    <tr>\n",
       "      <th>1</th>\n",
       "      <td>2</td>\n",
       "      <td>1</td>\n",
       "      <td>Cumings, Mrs. John Bradley (Florence Briggs Th...</td>\n",
       "      <td>0</td>\n",
       "      <td>38.0</td>\n",
       "      <td>1</td>\n",
       "      <td>0</td>\n",
       "      <td>PC 17599</td>\n",
       "      <td>71.2833</td>\n",
       "      <td>C</td>\n",
       "      <td>C</td>\n",
       "      <td>1</td>\n",
       "    </tr>\n",
       "    <tr>\n",
       "      <th>2</th>\n",
       "      <td>3</td>\n",
       "      <td>3</td>\n",
       "      <td>Heikkinen, Miss. Laina</td>\n",
       "      <td>0</td>\n",
       "      <td>26.0</td>\n",
       "      <td>0</td>\n",
       "      <td>0</td>\n",
       "      <td>STON/O2. 3101282</td>\n",
       "      <td>7.9250</td>\n",
       "      <td>G</td>\n",
       "      <td>S</td>\n",
       "      <td>1</td>\n",
       "    </tr>\n",
       "    <tr>\n",
       "      <th>3</th>\n",
       "      <td>4</td>\n",
       "      <td>1</td>\n",
       "      <td>Futrelle, Mrs. Jacques Heath (Lily May Peel)</td>\n",
       "      <td>0</td>\n",
       "      <td>35.0</td>\n",
       "      <td>1</td>\n",
       "      <td>0</td>\n",
       "      <td>113803</td>\n",
       "      <td>53.1000</td>\n",
       "      <td>C</td>\n",
       "      <td>S</td>\n",
       "      <td>1</td>\n",
       "    </tr>\n",
       "    <tr>\n",
       "      <th>4</th>\n",
       "      <td>5</td>\n",
       "      <td>3</td>\n",
       "      <td>Allen, Mr. William Henry</td>\n",
       "      <td>1</td>\n",
       "      <td>35.0</td>\n",
       "      <td>0</td>\n",
       "      <td>0</td>\n",
       "      <td>373450</td>\n",
       "      <td>8.0500</td>\n",
       "      <td>G</td>\n",
       "      <td>S</td>\n",
       "      <td>0</td>\n",
       "    </tr>\n",
       "  </tbody>\n",
       "</table>\n",
       "</div>"
      ],
      "text/plain": [
       "   PassengerId  Pclass                                               Name  \\\n",
       "0            1       3                            Braund, Mr. Owen Harris   \n",
       "1            2       1  Cumings, Mrs. John Bradley (Florence Briggs Th...   \n",
       "2            3       3                             Heikkinen, Miss. Laina   \n",
       "3            4       1       Futrelle, Mrs. Jacques Heath (Lily May Peel)   \n",
       "4            5       3                           Allen, Mr. William Henry   \n",
       "\n",
       "   Sex   Age  SibSp  Parch            Ticket     Fare Cabin Embarked  Survived  \n",
       "0    1  22.0      1      0         A/5 21171   7.2500     G        S         0  \n",
       "1    0  38.0      1      0          PC 17599  71.2833     C        C         1  \n",
       "2    0  26.0      0      0  STON/O2. 3101282   7.9250     G        S         1  \n",
       "3    0  35.0      1      0            113803  53.1000     C        S         1  \n",
       "4    1  35.0      0      0            373450   8.0500     G        S         0  "
      ]
     },
     "execution_count": 1,
     "metadata": {},
     "output_type": "execute_result"
    }
   ],
   "source": [
    "import pandas as pd\n",
    "import numpy as np\n",
    "dt = pd.read_csv('titanic.csv')\n",
    "df= dt.copy()\n",
    "df.head()"
   ]
  },
  {
   "cell_type": "code",
   "execution_count": 10,
   "id": "dd689131",
   "metadata": {},
   "outputs": [
    {
     "name": "stdout",
     "output_type": "stream",
     "text": [
      "30.63\n"
     ]
    }
   ],
   "source": [
    "import pandas as pd\n",
    "import numpy as np\n",
    "dt = pd.read_csv('titanic.csv')\n",
    "df= dt.copy()\n",
    "survived = df[df.Survived == 0]\n",
    "print(round(survived.Age.mean(), 2))"
   ]
  },
  {
   "cell_type": "code",
   "execution_count": null,
   "id": "f3ed6518",
   "metadata": {},
   "outputs": [],
   "source": []
  },
  {
   "cell_type": "code",
   "execution_count": 18,
   "id": "639446c0",
   "metadata": {},
   "outputs": [
    {
     "name": "stdout",
     "output_type": "stream",
     "text": [
      "30.63\n"
     ]
    }
   ],
   "source": [
    "import statistics\n",
    "import pandas as pd\n",
    "df = pd.read_csv('titanic.csv')\n",
    "df = df[(df['Survived'] == 0)]\n",
    "#df.Age.fillna(0,inplace = True)\n",
    "#mu1 = statistics.mean(df['Age'])\n",
    "mu1 = df['Age'].mean()\n",
    "print(round(mu1,2))\n",
    "        "
   ]
  },
  {
   "cell_type": "markdown",
   "id": "86f70fa1",
   "metadata": {},
   "source": [
    "## `Percentage of Survivors`"
   ]
  },
  {
   "cell_type": "code",
   "execution_count": 46,
   "id": "8c4da084",
   "metadata": {},
   "outputs": [
    {
     "name": "stdout",
     "output_type": "stream",
     "text": [
      "38.38\n",
      "31.87\n",
      "68.13\n"
     ]
    }
   ],
   "source": [
    "import pandas as pd\n",
    "import numpy as np\n",
    "dt = pd.read_csv('titanic.csv')\n",
    "df= dt.copy()\n",
    "t = df.Survived.value_counts()\n",
    "surv = t.values[1]\n",
    "\n",
    "survived = df[df.Survived == 1]\n",
    "male = survived[survived.Sex == 1]\n",
    "female = survived[survived.Sex == 0]\n",
    "\n",
    "print(round((survived.shape[0]/df.shape[0])*100, 2))\n",
    "print(round((male.shape[0]/survived.shape[0])*100, 2))\n",
    "print(round((female.shape[0]/survived.shape[0])*100, 2))\n",
    "\n",
    "# print(round((surv/t.values.sum())* 100, 2))\n",
    "# print(round((male/s.values.sum())* 100, 2))\n",
    "# print(round((female/s.values.sum())* 100, 2))\n",
    "\n"
   ]
  },
  {
   "cell_type": "markdown",
   "id": "16161b53",
   "metadata": {},
   "source": [
    "## `Highest Correlation`"
   ]
  },
  {
   "cell_type": "code",
   "execution_count": 41,
   "id": "0c39257a",
   "metadata": {},
   "outputs": [
    {
     "name": "stdout",
     "output_type": "stream",
     "text": [
      "Sex\n",
      "0.543351380657755\n"
     ]
    }
   ],
   "source": [
    "import pandas as pd\n",
    "import numpy as np\n",
    "dt = pd.read_csv('titanic.csv')\n",
    "df= dt.copy()\n",
    "\n",
    "corr = 0\n",
    "column = ''\n",
    "for i in df.columns:\n",
    "    if df[i].dtype != 'object' and i != 'Survived': \n",
    "        x = df['Survived'].corr(df[i])\n",
    "        x = abs(x)\n",
    "        if x > corr:\n",
    "            corr = x\n",
    "            column = i\n",
    "print(column)\n",
    "print(corr)"
   ]
  },
  {
   "cell_type": "code",
   "execution_count": 42,
   "id": "85745800",
   "metadata": {},
   "outputs": [
    {
     "data": {
      "text/plain": [
       "Survived       1.000000\n",
       "Sex            0.543351\n",
       "Pclass         0.338481\n",
       "Fare           0.257307\n",
       "Parch          0.081629\n",
       "Age            0.077221\n",
       "SibSp          0.035322\n",
       "PassengerId    0.005007\n",
       "Name: Survived, dtype: float64"
      ]
     },
     "execution_count": 42,
     "metadata": {},
     "output_type": "execute_result"
    }
   ],
   "source": [
    "x = abs(df.corr()['Survived']).sort_values(ascending = False)"
   ]
  },
  {
   "cell_type": "markdown",
   "id": "7fe96a37",
   "metadata": {},
   "source": [
    "## `Calculate IQR`"
   ]
  },
  {
   "cell_type": "code",
   "execution_count": 96,
   "id": "90554207",
   "metadata": {},
   "outputs": [
    {
     "name": "stdout",
     "output_type": "stream",
     "text": [
      "17.75\n"
     ]
    }
   ],
   "source": [
    "    import pandas as pd\n",
    "    import numpy as np\n",
    "    dt = pd.read_csv('titanic.csv')\n",
    "    df= dt.copy()\n",
    "    #df = df[df['Age'].notna()]\n",
    "\n",
    "\n",
    "    q1 = np.percentile(df['Age']._get_numeric_data().dropna(), 25, interpolation= 'midpoint')\n",
    "    q3 = np.percentile(df['Age']._get_numeric_data().dropna(), 75, interpolation= 'midpoint')\n",
    "\n",
    "    iqr = q3 - q1\n",
    "    print(round(iqr, 2))\n"
   ]
  },
  {
   "cell_type": "code",
   "execution_count": null,
   "id": "709f0271",
   "metadata": {},
   "outputs": [],
   "source": []
  },
  {
   "cell_type": "code",
   "execution_count": 4,
   "id": "0a564700",
   "metadata": {},
   "outputs": [
    {
     "name": "stdout",
     "output_type": "stream",
     "text": [
      "30.63\n"
     ]
    }
   ],
   "source": [
    "import pandas as pd\n",
    "import numpy as np\n",
    "from matplotlib import pyplot as plt\n",
    "titanic_data = pd.read_csv('titanic.csv')\n",
    "survivors = titanic_data[titanic_data[\"Survived\"] == 1]\n",
    "notsurvived = titanic_data[titanic_data[\"Survived\"] == 0]\n",
    "\n",
    "print(round(np.mean(notsurvived.Age),2))"
   ]
  }
 ],
 "metadata": {
  "kernelspec": {
   "display_name": "Python 3 (ipykernel)",
   "language": "python",
   "name": "python3"
  },
  "language_info": {
   "codemirror_mode": {
    "name": "ipython",
    "version": 3
   },
   "file_extension": ".py",
   "mimetype": "text/x-python",
   "name": "python",
   "nbconvert_exporter": "python",
   "pygments_lexer": "ipython3",
   "version": "3.9.12"
  }
 },
 "nbformat": 4,
 "nbformat_minor": 5
}
