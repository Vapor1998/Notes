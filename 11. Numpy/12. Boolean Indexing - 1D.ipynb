{
 "cells": [
  {
   "cell_type": "code",
   "execution_count": 3,
   "metadata": {},
   "outputs": [
    {
     "name": "stdout",
     "output_type": "stream",
     "text": [
      "['t' 'b' 'r' 'd' 'e' 'f' 'z' 'a']\n",
      "[ 2 13 11 18 16  8 16 10]\n"
     ]
    }
   ],
   "source": [
    "import numpy as np\n",
    "a = np.array(['t','b','r','d','e', 'f','z','a'])\n",
    "b = np.random.randint(1,20,8)\n",
    "\n",
    "print(a)\n",
    "print(b)\n"
   ]
  },
  {
   "cell_type": "code",
   "execution_count": 4,
   "metadata": {},
   "outputs": [
    {
     "name": "stdout",
     "output_type": "stream",
     "text": [
      "[False  True  True  True  True False  True False]\n"
     ]
    }
   ],
   "source": [
    "print(b > 10)  ## comparison operator, this will give every value > 10 as True in the array\n"
   ]
  },
  {
   "cell_type": "code",
   "execution_count": 7,
   "metadata": {},
   "outputs": [
    {
     "name": "stdout",
     "output_type": "stream",
     "text": [
      "[False  True  True  True  True False  True False]\n",
      "[13 11 18 16 16]\n",
      "[13 11 18 16 16]\n"
     ]
    }
   ],
   "source": [
    "## how to extract all elements > 10\n",
    "bool_arr = b > 10\n",
    "print(bool_arr) \n",
    "\n",
    "new_arr = b[bool_arr]  ## this will get all the values which are True in bool_arr\n",
    "print(new_arr)\n",
    "\n",
    "## the above code of new_arr can also be written as\n",
    " \n",
    "new_arr = b[b > 10]   ## this will fetch out all the elements of b which are > 10.\n",
    "                      ## Also note that this method is only for numpy arrays and not for\n",
    "                      ## normal arrays.\n",
    "print(new_arr)"
   ]
  },
  {
   "cell_type": "code",
   "execution_count": 9,
   "metadata": {},
   "outputs": [
    {
     "name": "stdout",
     "output_type": "stream",
     "text": [
      "[13 11 16 16]\n"
     ]
    }
   ],
   "source": [
    "newArr = b[(b > 10) & (b < 18)]  ## this will fetch all values b > 10 < 18. \n",
    "                                 ## also using 'and' will give error so we use \n",
    "                                 ## '&' instead of 'and'.\n",
    "print(newArr)"
   ]
  },
  {
   "cell_type": "code",
   "execution_count": 11,
   "metadata": {},
   "outputs": [
    {
     "name": "stdout",
     "output_type": "stream",
     "text": [
      "[ 2 13 11 18 16  8 16 10]\n",
      "[ 2 13 11 18 16  8 16 10]\n"
     ]
    }
   ],
   "source": [
    "print(b)\n",
    "c = b\n",
    "print(c)"
   ]
  },
  {
   "cell_type": "code",
   "execution_count": 13,
   "metadata": {},
   "outputs": [
    {
     "name": "stdout",
     "output_type": "stream",
     "text": [
      "[19 19 19 18 16  8 16 10]\n"
     ]
    }
   ],
   "source": [
    "c[:3] = 19    ## this will update all the elements from 0 to index 2 to 19\n",
    "              ## Using same method in normal list will not work, we have to so the \n",
    "              ## we have to do the same operation on normal list in different way.\n",
    "print(c)"
   ]
  },
  {
   "cell_type": "code",
   "execution_count": 15,
   "metadata": {},
   "outputs": [
    {
     "name": "stdout",
     "output_type": "stream",
     "text": [
      "[100 100 100 100 100   8 100  10]\n",
      "[100 100 100 100 100   8 100  10]\n"
     ]
    },
    {
     "ename": "TypeError",
     "evalue": "'<' not supported between instances of 'list' and 'int'",
     "output_type": "error",
     "traceback": [
      "\u001b[1;31m---------------------------------------------------------------------------\u001b[0m",
      "\u001b[1;31mTypeError\u001b[0m                                 Traceback (most recent call last)",
      "\u001b[1;32m<ipython-input-15-d070d5d5b0e1>\u001b[0m in \u001b[0;36m<module>\u001b[1;34m\u001b[0m\n\u001b[0;32m     11\u001b[0m \u001b[1;33m\u001b[0m\u001b[0m\n\u001b[0;32m     12\u001b[0m \u001b[0mz\u001b[0m \u001b[1;33m=\u001b[0m \u001b[1;33m[\u001b[0m\u001b[1;36m1\u001b[0m\u001b[1;33m,\u001b[0m\u001b[1;36m2\u001b[0m\u001b[1;33m,\u001b[0m\u001b[1;36m3\u001b[0m\u001b[1;33m,\u001b[0m\u001b[1;36m4\u001b[0m\u001b[1;33m]\u001b[0m\u001b[1;33m\u001b[0m\u001b[1;33m\u001b[0m\u001b[0m\n\u001b[1;32m---> 13\u001b[1;33m \u001b[0mz\u001b[0m\u001b[1;33m[\u001b[0m\u001b[0mz\u001b[0m \u001b[1;33m<\u001b[0m \u001b[1;36m12\u001b[0m\u001b[1;33m]\u001b[0m \u001b[1;33m=\u001b[0m \u001b[1;36m100\u001b[0m\u001b[1;33m\u001b[0m\u001b[1;33m\u001b[0m\u001b[0m\n\u001b[0m\u001b[0;32m     14\u001b[0m \u001b[0mprint\u001b[0m\u001b[1;33m(\u001b[0m\u001b[0mz\u001b[0m\u001b[1;33m)\u001b[0m\u001b[1;33m\u001b[0m\u001b[1;33m\u001b[0m\u001b[0m\n",
      "\u001b[1;31mTypeError\u001b[0m: '<' not supported between instances of 'list' and 'int'"
     ]
    }
   ],
   "source": [
    "print(c)\n",
    "c[c> 15] = 100  ## this will update to all the values which are > 15 to 100.\n",
    "print(c)\n",
    "\n",
    "## Now in the first print, that will show the original value\n",
    "## then it will check the condition i.e. > 15 and then it will update array in boolean\n",
    "## value. Then it will update only those value to 100 which are True.\n",
    "\n",
    "## The above method will not work for normal array,Infact any method in this page will not work\n",
    "## For e.g lets do this for normal array\n",
    "\n",
    "z = [1,2,3,4]   ## Normal array\n",
    "z[z < 12] = 100  ## applying above method\n",
    "print(z)   ## will show error."
   ]
  },
  {
   "cell_type": "code",
   "execution_count": 17,
   "metadata": {},
   "outputs": [
    {
     "name": "stdout",
     "output_type": "stream",
     "text": [
      "[100 100 100 100 100   8 100  10]\n",
      "[100 100 100 100 100 100]\n",
      "(array([0, 1, 2, 3, 4, 6], dtype=int64),)\n"
     ]
    }
   ],
   "source": [
    "## using np.where()\n",
    "## this function will give index of the values which is passed to them.\n",
    "\n",
    "print(b)\n",
    "\n",
    "print(b[b == 100])    ## this will actually print all the elements which are 100.\n",
    "\n",
    "ind = np.where(b == 100)  ## this will give the index of 100 which are present in array in the form \n",
    "                          ## of array.\n",
    "print(ind)"
   ]
  },
  {
   "cell_type": "code",
   "execution_count": 19,
   "metadata": {},
   "outputs": [
    {
     "name": "stdout",
     "output_type": "stream",
     "text": [
      "['t' 'b' 'r' 'd' 'e' 'f' 'z' 'a']\n",
      "[100 100 100 100 100   8 100  10]\n",
      "['t' 'b' 'r' 'd' 'e' 'z']\n"
     ]
    }
   ],
   "source": [
    "print(a)\n",
    "print(b)\n",
    "\n",
    "print(a[ind])"
   ]
  }
 ],
 "metadata": {
  "kernelspec": {
   "display_name": "Python 3 (ipykernel)",
   "language": "python",
   "name": "python3"
  },
  "language_info": {
   "codemirror_mode": {
    "name": "ipython",
    "version": 3
   },
   "file_extension": ".py",
   "mimetype": "text/x-python",
   "name": "python",
   "nbconvert_exporter": "python",
   "pygments_lexer": "ipython3",
   "version": "3.9.12"
  }
 },
 "nbformat": 4,
 "nbformat_minor": 4
}
