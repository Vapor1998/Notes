{
 "cells": [
  {
   "cell_type": "code",
   "execution_count": 10,
   "metadata": {},
   "outputs": [
    {
     "name": "stdout",
     "output_type": "stream",
     "text": [
      "1167.0\n"
     ]
    }
   ],
   "source": [
    "import numpy as np\n",
    "import csv\n",
    "file_obj = open('year2017-1.csv')\n",
    "data = csv.DictReader(file_obj, skipinitialspace = True)\n",
    "\n",
    "killed= []\n",
    "wounded = []\n",
    "country = []\n",
    "\n",
    "for row in data:\n",
    "    killed.append(row['Killed'])   ## The data will be added in the form of string,to convert\n",
    "                                   ## it into int, we first convert it into float, and then float\n",
    "                                   ## to int.\n",
    "    wounded.append(row['Wounded'])\n",
    "    country.append(row['Country'])\n",
    "\n",
    "np_killed = np.array(killed)\n",
    "np_wounded = np.array(wounded)\n",
    "\n",
    "## There are values in strings as well as there are missing values in the array i.e. ''\n",
    "## If we ignore them, we will get error as length of killed and wounded column becomes\n",
    "## unequal. So we make those missing values as 0.\n",
    "## As column length is unequal,we will be unable to perform mathematical operations on them.\n",
    "\n",
    "\n",
    "## Steps to make missing value as 0\n",
    "\n",
    "## np_killed == ''   -> This will give bool arr where it is True for the given missing value\n",
    "## np_killed[np_killed=='']   -> This will give all the '' value in array\n",
    "## np_killed[np_killed ==''] = '0.0'   -> Here we assign all the '' value as '0.0'\n",
    "\n",
    "np_killed[np_killed == ''] = '0.0'\n",
    "np_wounded[np_wounded == ''] = '0.0'\n",
    "\n",
    "np_killed = np.array(np_killed, dtype = float)\n",
    "np_wounded = np.array(np_wounded, dtype = float)\n",
    "\n",
    "killed_wounded = np_killed + np_wounded  ## This will create killed_wounded array\n",
    "\n",
    "\n",
    "## To find killed_wounded where country is india\n",
    "\n",
    "np_country = np.array(country)\n",
    "\n",
    "bool_arr = np_country == 'India'  ## This will store the bool result in bool_arr\n",
    "\n",
    "ans = killed_wounded[bool_arr]   ## This will extract all the killed_wounded where country is India.\n",
    "\n",
    "print(np.sum(ans))\n"
   ]
  }
 ],
 "metadata": {
  "kernelspec": {
   "display_name": "Python 3",
   "language": "python",
   "name": "python3"
  },
  "language_info": {
   "codemirror_mode": {
    "name": "ipython",
    "version": 3
   },
   "file_extension": ".py",
   "mimetype": "text/x-python",
   "name": "python",
   "nbconvert_exporter": "python",
   "pygments_lexer": "ipython3",
   "version": "3.8.5"
  }
 },
 "nbformat": 4,
 "nbformat_minor": 4
}
