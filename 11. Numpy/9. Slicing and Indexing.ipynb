{
 "cells": [
  {
   "cell_type": "code",
   "execution_count": null,
   "metadata": {},
   "outputs": [],
   "source": [
    "## Numpy arrays are collection of pointers which points to four different attributes\n",
    "## 1. data -> which represents reference to first byte of the array i.e. first element\n",
    "## 2. shape -> which represents size of the array.\n",
    "## 3. dtype -> which represents datatypes of elements of the array.\n",
    "## 4. strides -> which represents number of bytes to be skipped to get to the next element.\n",
    "##"
   ]
  },
  {
   "cell_type": "code",
   "execution_count": 5,
   "metadata": {},
   "outputs": [
    {
     "name": "stdout",
     "output_type": "stream",
     "text": [
      "[1, 2, 3, 4, 5]\n",
      "[1 2 3 4 5]\n"
     ]
    }
   ],
   "source": [
    "import numpy as np\n",
    "li = [1, 2, 3, 4, 5]\n",
    "arr = np.array(li)\n",
    "\n",
    "print(li)\n",
    "print(arr)\n"
   ]
  },
  {
   "cell_type": "code",
   "execution_count": 8,
   "metadata": {},
   "outputs": [
    {
     "name": "stdout",
     "output_type": "stream",
     "text": [
      "<memory at 0x00000155C2E50100>\n",
      "(5,)\n",
      "int32\n",
      "(4,)\n"
     ]
    }
   ],
   "source": [
    "print(arr.data)\n",
    "print(arr.shape)  ## it is a 1d array of size 5x1 so it shows (5, ) which means 5,1\n",
    "print(arr.dtype)\n",
    "print(arr.strides)  ## strides here shows no of bytes need to be skipped to move from one element\n",
    "                    ## to the next.Which means each integer takes 4 or 8 bytes to store.\n"
   ]
  },
  {
   "cell_type": "code",
   "execution_count": 9,
   "metadata": {},
   "outputs": [
    {
     "name": "stdout",
     "output_type": "stream",
     "text": [
      "5\n",
      "[2, 3, 4]\n"
     ]
    }
   ],
   "source": [
    "## accessing element from numpy array\n",
    "print(li[4])  ## accessing element at index 4\n",
    "\n",
    "print(li[1:4])  ## slicing numpy array \n",
    "\n",
    "## Accessing values from 1d numpy array is as same as normal array but there is a slight \n",
    "## difference in 2d numpy array\n",
    " "
   ]
  },
  {
   "cell_type": "code",
   "execution_count": 2,
   "metadata": {},
   "outputs": [
    {
     "name": "stdout",
     "output_type": "stream",
     "text": [
      "[[1, 2, 3, 4], [5, 6, 7, 8], [9, 10, 11, 12], [13, 14, 15, 16]]\n",
      "[[ 1  2  3  4]\n",
      " [ 5  6  7  8]\n",
      " [ 9 10 11 12]\n",
      " [13 14 15 16]]\n"
     ]
    }
   ],
   "source": [
    "li_2d = [[1,2,3,4], [5,6,7,8], [9,10,11,12], [13,14,15,16]]\n",
    "arr_2d = np.array(li_2d)\n",
    "\n",
    "print(li_2d)\n",
    "print(arr_2d)\n"
   ]
  },
  {
   "cell_type": "code",
   "execution_count": 10,
   "metadata": {},
   "outputs": [
    {
     "name": "stdout",
     "output_type": "stream",
     "text": [
      "<memory at 0x00000155C322E520>\n",
      "(4, 4)\n",
      "int32\n",
      "(16, 4)\n"
     ]
    }
   ],
   "source": [
    "print(arr_2d.data)\n",
    "print(arr_2d.shape) ## its a 4x4 array so it shows (4,4)\n",
    "print(arr_2d.dtype)\n",
    "print(arr_2d.strides)  ## it shows (16,4) in which first value indicates no of bytes to be skipped\n",
    "                       ## to get to the next row. that means of we are at 5 and we want to move at 9,\n",
    "                       ## we need to skip 16 bytes.\n",
    "                       ## Second value indicates value needed to skip to move to the next element\n",
    "                       ## at the second row."
   ]
  },
  {
   "cell_type": "code",
   "execution_count": 16,
   "metadata": {},
   "outputs": [
    {
     "name": "stdout",
     "output_type": "stream",
     "text": [
      "10\n",
      "10\n",
      "10\n",
      "[5, 6, 7]\n",
      "[5 6 7]\n",
      "[5 6 7]\n",
      "[ 4  8 12]\n"
     ]
    }
   ],
   "source": [
    "## accessing element from 2d numpy array\n",
    "\n",
    "print(li_2d[2][1])\n",
    "print(arr_2d[2][1])  ## accessing element at the 2nd row, 1st column\n",
    "\n",
    "print(arr_2d[2,1])  ## this is the variation of numpy array where we pass row and col in \n",
    "                     ## only one bracket.\n",
    "    \n",
    "\n",
    "## slicing 2d numpy array\n",
    "\n",
    "print(li_2d[1][:3])\n",
    "print(arr_2d[1][:3])   ## slicing from row 1, col 0 to 3\n",
    "\n",
    "print(arr_2d[1, :3])  ## variation in numpy array where we can pass the row and col in one bracket\n",
    "\n",
    "print(arr_2d[0:3, 3])  ## slicing from col 3, row 0 to 3. This type of slicing works fine in \n",
    "                       ## numpy, but not in normal 2d list."
   ]
  },
  {
   "cell_type": "code",
   "execution_count": 18,
   "metadata": {},
   "outputs": [
    {
     "ename": "IndexError",
     "evalue": "list index out of range",
     "output_type": "error",
     "traceback": [
      "\u001b[1;31m---------------------------------------------------------------------------\u001b[0m",
      "\u001b[1;31mIndexError\u001b[0m                                Traceback (most recent call last)",
      "\u001b[1;32m<ipython-input-18-55db227164f6>\u001b[0m in \u001b[0;36m<module>\u001b[1;34m\u001b[0m\n\u001b[1;32m----> 1\u001b[1;33m \u001b[0mprint\u001b[0m\u001b[1;33m(\u001b[0m\u001b[0mli_2d\u001b[0m\u001b[1;33m[\u001b[0m\u001b[1;36m0\u001b[0m\u001b[1;33m:\u001b[0m\u001b[1;36m3\u001b[0m\u001b[1;33m]\u001b[0m\u001b[1;33m[\u001b[0m\u001b[1;36m3\u001b[0m\u001b[1;33m]\u001b[0m\u001b[1;33m)\u001b[0m  \u001b[1;31m## It is showing error.\u001b[0m\u001b[1;33m\u001b[0m\u001b[1;33m\u001b[0m\u001b[0m\n\u001b[0m",
      "\u001b[1;31mIndexError\u001b[0m: list index out of range"
     ]
    }
   ],
   "source": [
    "print(li_2d[0:3][3])  ## It is showing error."
   ]
  },
  {
   "cell_type": "code",
   "execution_count": 23,
   "metadata": {},
   "outputs": [
    {
     "name": "stdout",
     "output_type": "stream",
     "text": [
      "[[1, 2, 3, 4], [5, 6, 7, 8], [9, 10, 11, 12]]\n",
      "[9, 10, 11, 12]\n",
      "[1, 2, 3, 4]\n"
     ]
    }
   ],
   "source": [
    "## explaination of the error\n",
    "\n",
    "x = li_2d[0:3]\n",
    "print(x)\n",
    "y= x[2]\n",
    "print(y) \n",
    "\n",
    "## for the expression print(li_2d[0:3][3]), it first gets the value of the part li_2d[0:3], which \n",
    "## fetches the data from index 0,1,2 and then it finds the answer from the index 0,1,2 but the \n",
    "## column is till 2, and we passed col as 3,\n",
    "## so it shows indexerror.If we print value from index less than 3, we will get \n",
    "## answers.\n",
    "## e.g.\n",
    "print(li_2d[0:3][0])   ## using column as 0.\n",
    "##It is better to use numpy for this type of problem.\n",
    "\n"
   ]
  },
  {
   "cell_type": "code",
   "execution_count": 25,
   "metadata": {},
   "outputs": [
    {
     "name": "stdout",
     "output_type": "stream",
     "text": [
      "[[10 11]\n",
      " [14 15]]\n",
      "[[13, 14, 15, 16]]\n"
     ]
    }
   ],
   "source": [
    "print(arr_2d[2:4, 1:3])\n",
    "print(li_2d[2:4][1:3])"
   ]
  },
  {
   "cell_type": "code",
   "execution_count": 27,
   "metadata": {},
   "outputs": [
    {
     "name": "stdout",
     "output_type": "stream",
     "text": [
      "[[9, 10, 11, 12], [13, 14, 15, 16]]\n"
     ]
    }
   ],
   "source": [
    "print(li_2d[2:4])"
   ]
  }
 ],
 "metadata": {
  "kernelspec": {
   "display_name": "Python 3 (ipykernel)",
   "language": "python",
   "name": "python3"
  },
  "language_info": {
   "codemirror_mode": {
    "name": "ipython",
    "version": 3
   },
   "file_extension": ".py",
   "mimetype": "text/x-python",
   "name": "python",
   "nbconvert_exporter": "python",
   "pygments_lexer": "ipython3",
   "version": "3.9.12"
  }
 },
 "nbformat": 4,
 "nbformat_minor": 4
}
