{
 "cells": [
  {
   "cell_type": "code",
   "execution_count": 2,
   "metadata": {},
   "outputs": [
    {
     "name": "stdout",
     "output_type": "stream",
     "text": [
      "[[ 5 16  6  7 22  6]\n",
      " [20  1 21 21 12 22]\n",
      " [16 21  7 23  1 16]\n",
      " [ 9 19  8 12 17  2]\n",
      " [18 14 15  9  3 21]]\n"
     ]
    }
   ],
   "source": [
    "import numpy as np\n",
    "a = np.random.randint(1,30, (5,6))\n",
    "print(a)"
   ]
  },
  {
   "cell_type": "code",
   "execution_count": 5,
   "metadata": {},
   "outputs": [
    {
     "name": "stdout",
     "output_type": "stream",
     "text": [
      "[[False False False False  True False]\n",
      " [False False  True  True False  True]\n",
      " [False  True False  True False False]\n",
      " [False False False False False False]\n",
      " [False False False False False  True]]\n"
     ]
    }
   ],
   "source": [
    "## to get value > 20\n",
    "bool_arr = a > 20  ## this will do element by element comparison of arr and give\n",
    "                   ## true if the value is > 20 else it will give false.\n",
    "                   ## And the result is returned as boolean array\n",
    "print(bool_arr)   "
   ]
  },
  {
   "cell_type": "code",
   "execution_count": 6,
   "metadata": {},
   "outputs": [
    {
     "name": "stdout",
     "output_type": "stream",
     "text": [
      "[[ 5 16  6  7 22  6]\n",
      " [20  1 21 21 12 22]\n",
      " [16 21  7 23  1 16]\n",
      " [ 9 19  8 12 17  2]\n",
      " [18 14 15  9  3 21]]\n"
     ]
    }
   ],
   "source": [
    "## to extract value > 20.     Note: This will only work for numpy array and not for normal array.\n",
    "ans = a[bool_arr]\n",
    "print(a)"
   ]
  },
  {
   "cell_type": "code",
   "execution_count": 8,
   "metadata": {},
   "outputs": [
    {
     "name": "stdout",
     "output_type": "stream",
     "text": [
      "[[ 5 16  6  7 22  6]\n",
      " [20  1 21 21 12 22]\n",
      " [16 21  7 23  1 16]\n",
      " [ 9 19  8 12 17  2]\n",
      " [18 14 15  9  3 21]]\n"
     ]
    }
   ],
   "source": [
    "b = a\n",
    "print(b)"
   ]
  },
  {
   "cell_type": "code",
   "execution_count": 10,
   "metadata": {},
   "outputs": [
    {
     "name": "stdout",
     "output_type": "stream",
     "text": [
      "[[  5  16   6   7 100   6]\n",
      " [ 20   1 100 100  12 100]\n",
      " [ 16 100   7 100   1  16]\n",
      " [  9  19   8  12  17   2]\n",
      " [ 18  14  15   9   3 100]]\n"
     ]
    }
   ],
   "source": [
    "## to update every value > 20 as 100.\n",
    "b[bool_arr] = 100\n",
    "print(b)  ## now we can see that every value which is greater than 20 is now 100."
   ]
  },
  {
   "cell_type": "code",
   "execution_count": 16,
   "metadata": {},
   "outputs": [
    {
     "name": "stdout",
     "output_type": "stream",
     "text": [
      "[[1 4]\n",
      " [7 3]]\n",
      "\n",
      "[[ True False]\n",
      " [False  True]\n",
      " [ True  True]]\n",
      "\n"
     ]
    },
    {
     "ename": "IndexError",
     "evalue": "boolean index did not match indexed array along dimension 0; dimension is 2 but corresponding boolean dimension is 3",
     "output_type": "error",
     "traceback": [
      "\u001b[1;31m---------------------------------------------------------------------------\u001b[0m",
      "\u001b[1;31mIndexError\u001b[0m                                Traceback (most recent call last)",
      "\u001b[1;32m<ipython-input-16-4518c6d16281>\u001b[0m in \u001b[0;36m<module>\u001b[1;34m\u001b[0m\n\u001b[0;32m     13\u001b[0m \u001b[0mprint\u001b[0m\u001b[1;33m(\u001b[0m\u001b[1;33m)\u001b[0m\u001b[1;33m\u001b[0m\u001b[1;33m\u001b[0m\u001b[0m\n\u001b[0;32m     14\u001b[0m \u001b[1;33m\u001b[0m\u001b[0m\n\u001b[1;32m---> 15\u001b[1;33m \u001b[0mprint\u001b[0m\u001b[1;33m(\u001b[0m\u001b[0mc\u001b[0m\u001b[1;33m[\u001b[0m\u001b[0mc_bool\u001b[0m\u001b[1;33m]\u001b[0m\u001b[1;33m)\u001b[0m  \u001b[1;31m## this will throw error because c is 2x2  and  c_bool is 3x2  and for which 0th\u001b[0m\u001b[1;33m\u001b[0m\u001b[1;33m\u001b[0m\u001b[0m\n\u001b[0m\u001b[0;32m     16\u001b[0m                   \u001b[1;31m## dimension for both doesnt match\u001b[0m\u001b[1;33m\u001b[0m\u001b[1;33m\u001b[0m\u001b[1;33m\u001b[0m\u001b[0m\n\u001b[0;32m     17\u001b[0m \u001b[1;33m\u001b[0m\u001b[0m\n",
      "\u001b[1;31mIndexError\u001b[0m: boolean index did not match indexed array along dimension 0; dimension is 2 but corresponding boolean dimension is 3"
     ]
    }
   ],
   "source": [
    "## To update one array value in the next, the dimension must be same or it will\n",
    "## give error.\n",
    "\n",
    "## e.g.\n",
    "c = np.random.randint(1,10, (2,2))\n",
    "print(c)\n",
    "\n",
    "print()\n",
    "\n",
    "c_bool = np.array([[True, False],[False, True],[True, True]])\n",
    "print(c_bool)\n",
    "\n",
    "print()\n",
    "\n",
    "print(c[c_bool])  ## this will throw error because c is 2x2  and  c_bool is 3x2  and for which 0th \n",
    "                  ## dimension for both doesnt match\n",
    "\n"
   ]
  },
  {
   "cell_type": "code",
   "execution_count": 22,
   "metadata": {},
   "outputs": [
    {
     "name": "stdout",
     "output_type": "stream",
     "text": [
      "[[  5  16   6   7 100   6]\n",
      " [ 20   1 100  99  12 100]\n",
      " [ 16 100   7  99   1  16]\n",
      " [  9  19   8  12  17   2]\n",
      " [ 18  14  15   9   3 100]]\n",
      "\n",
      "[False  True  True False False]\n",
      "[[    5    16     6     7   100     6]\n",
      " [   20     1   100 -1999    12   100]\n",
      " [   16   100     7 -1999     1    16]\n",
      " [    9    19     8    12    17     2]\n",
      " [   18    14    15     9     3   100]]\n"
     ]
    }
   ],
   "source": [
    "## To work over specific element in a 2d matrix.\n",
    "print(b)\n",
    "\n",
    "print()\n",
    "\n",
    "## Now in this, we have to work on column 3 and update every value which is 99.\n",
    "## for that we will create bool_arr which will work for every row and column 3.\n",
    "\n",
    "bool_arr =  b[:, 3] == 99\n",
    "print(bool_arr)\n",
    "\n",
    "## Now to update the value of column 3 in b array, \n",
    "\n",
    "b[bool_arr, 3] = -1999   ## this will update -1999 to every value which is True in \n",
    "                         ## bool_arr in array b.\n",
    "    \n",
    "print(b)\n",
    "\n",
    "## Working of update is we have passed row as bool_arr which means it will take index as 0 and 1\n",
    "## which are true and for column, we have specified as 3, so it will update the value on that as -1999\n",
    "##"
   ]
  },
  {
   "cell_type": "code",
   "execution_count": null,
   "metadata": {},
   "outputs": [],
   "source": []
  },
  {
   "cell_type": "code",
   "execution_count": null,
   "metadata": {},
   "outputs": [],
   "source": []
  },
  {
   "cell_type": "code",
   "execution_count": null,
   "metadata": {},
   "outputs": [],
   "source": []
  },
  {
   "cell_type": "code",
   "execution_count": null,
   "metadata": {},
   "outputs": [],
   "source": []
  },
  {
   "cell_type": "code",
   "execution_count": null,
   "metadata": {},
   "outputs": [],
   "source": []
  },
  {
   "cell_type": "code",
   "execution_count": null,
   "metadata": {},
   "outputs": [],
   "source": []
  }
 ],
 "metadata": {
  "kernelspec": {
   "display_name": "Python 3 (ipykernel)",
   "language": "python",
   "name": "python3"
  },
  "language_info": {
   "codemirror_mode": {
    "name": "ipython",
    "version": 3
   },
   "file_extension": ".py",
   "mimetype": "text/x-python",
   "name": "python",
   "nbconvert_exporter": "python",
   "pygments_lexer": "ipython3",
   "version": "3.9.12"
  }
 },
 "nbformat": 4,
 "nbformat_minor": 4
}
