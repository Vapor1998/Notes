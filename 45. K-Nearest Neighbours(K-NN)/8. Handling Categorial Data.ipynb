{
 "cells": [
  {
   "cell_type": "markdown",
   "metadata": {},
   "source": [
    "### What if Datasets have Label Data?\n",
    "Lets say we have a column which says Yes or No.  \n",
    "We can also have another column which saya High, Low, Mid.  \n",
    "We can also have column which says Red, Blue , Green etc.  \n",
    "What should we do to in this case to find the distance between two datapoints.  \n",
    "So what should be the difference between the row 1.\n",
    "\n",
    "| Decision | Distance | Color|\n",
    "| --- | --- | --- |\n",
    "| No | Low | Blue |\n",
    "| Yes | Low | Green |\n",
    "| No | High| Blue |\n",
    "| Yes| Mid| Red |\n",
    "\n",
    "1. #### Binary Data\n",
    "Now here we dont have the numerical data, we have the categorical data.  \n",
    "Its not that hard to manage the case where you have the binary data(Decision column).  \n",
    "Where your label is just either a value A or a value B, just one of the two possible values. In that case we will just use 0s and 1s.  \n",
    "\n",
    "Cases are :\n",
    "1. Binary Data.\n",
    "2. Labels with some natural order\n",
    "3. Categorical data which has a feature, which can have values that don’t have natural ordering\n",
    "\n",
    "\n",
    "2. ##### Labels with some natural order\n",
    "Lets say for Color, if we assign 0 to red, 1 to blue and 2 to green.  \n",
    "What we are saying by this is red and green are very far away, red and blue is near, blue and green is near.  \n",
    "Same is not the problem with the Distance column, we can easily say 0 is low, 1 is mid and 2 is high.  \n",
    "We can do something about labels which are increasing in order in some way.  \n",
    "\n",
    "\n",
    "3. ##### Categorical data which has a feature, which can have values that don’t have natural ordering\n",
    "One thing we can do this with color column is we can convert this column into three different columns. \n",
    "First column says is it Red? Second says is it Blue?, Third says is it Green? and then our data will become Binary.  \n",
    "So basically, we have converted one column into multiple columns and the no of columns are no of labels in the columns.  \n",
    "\n",
    "THATS HOW WE USE THE CATEGORICAL DATA INTO DISTANCE CALCULATION.  \n"
   ]
  }
 ],
 "metadata": {
  "kernelspec": {
   "display_name": "Python 3",
   "language": "python",
   "name": "python3"
  },
  "language_info": {
   "codemirror_mode": {
    "name": "ipython",
    "version": 3
   },
   "file_extension": ".py",
   "mimetype": "text/x-python",
   "name": "python",
   "nbconvert_exporter": "python",
   "pygments_lexer": "ipython3",
   "version": "3.8.5"
  }
 },
 "nbformat": 4,
 "nbformat_minor": 4
}
