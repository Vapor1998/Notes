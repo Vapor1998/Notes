{
 "cells": [
  {
   "cell_type": "markdown",
   "metadata": {},
   "source": [
    "#### IMPORTANT TO APPLY FEATURE SCALING BEFORE KNN\n",
    "What KNN says is given a Training data, we want to find out what are the closest points to a testing data.  \n",
    "Now if we dont apply feature scaling, and one of our feature is in the range 1500, 1600, 1000. and other feature is in the range 1, 2, 3, 9, 6.  \n",
    "Feature 1 is completely going to overpower feature 2.  \n",
    "Going from 1500 to 1600 is not a big jump, but going from 1 to 9 is a big Jump.  \n",
    "But F1 will completely dominate the calculation compare to going from 1 to 9.  \n",
    "So its VERY IMPORTANT TO APPLY FEATURE SCALING BEFORE WE USE KNN."
   ]
  }
 ],
 "metadata": {
  "kernelspec": {
   "display_name": "Python 3",
   "language": "python",
   "name": "python3"
  },
  "language_info": {
   "codemirror_mode": {
    "name": "ipython",
    "version": 3
   },
   "file_extension": ".py",
   "mimetype": "text/x-python",
   "name": "python",
   "nbconvert_exporter": "python",
   "pygments_lexer": "ipython3",
   "version": "3.8.5"
  }
 },
 "nbformat": 4,
 "nbformat_minor": 4
}
