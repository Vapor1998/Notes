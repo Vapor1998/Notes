{
 "cells": [
  {
   "cell_type": "markdown",
   "metadata": {},
   "source": [
    "### How to manage Features in KNN\n",
    "Do we use as much features as possible in KNN? because in most of the classifiers, it generally means we have a lot more data and it leads to better accuracy.  \n",
    "In KNN, if we have irrelevant data as features, it might lead to a lot of noise and it might lead to a bad result.  \n",
    "Lets say we have two data and it mean the same thing, this might lead to alot of problems.  \n",
    "So we can do two things to solve this problem,\n",
    "1. ##### Assign weights to our features.  \n",
    "   Idea is very simple, While we are scoring the calculatiion, what we should do is instead of doing simple addition, we should \n",
    "   basically have $W_{i}$ if we are calculating distance between $x_{1}$  and $x_{2}$, so should be like\n",
    "   $\\sum_{i=1}^n W_{i}(x_{1}^i - x_{2}^i )^2$.  We have a weight which decides each feature does not lead to a same effect on \n",
    "   score it basically changes depending upon the weight.  \n",
    "   There are many ways to find out this weights one is randomly assign this weights and depending upon moving in what direction\n",
    "   leads to better result we can decide to move our weights up or down.  \n",
    "   Secondly we can use Gradient Descent when we come up with cost function and we try to minimize the that wrt the weights.\n",
    "\n",
    "2. ##### Feature Selection.  \n",
    "   It means lets work or choose with few features and leave some features. Generally in KNN< we use Backward Elimination.  \n",
    "   This means lets do one thing,  you will have a loop over all features, for each feature find the accuracy by keeping this \n",
    "   feature, find the accuracy by removing this feature.  \n",
    "   If the accuracy improves, just remove feature and move to the next one.  \n",
    "   What we will do is we will keep few which has good accuracy and remove few which has bad accuracy and by this our \n",
    "   overall accuracy will improve.  \n",
    "   \n",
    "   \n",
    "BOTH THE FEATURES ARE CALLED CURSE OF DIMENSIONALITY.\n",
    "   \n",
    "   "
   ]
  }
 ],
 "metadata": {
  "kernelspec": {
   "display_name": "Python 3",
   "language": "python",
   "name": "python3"
  },
  "language_info": {
   "codemirror_mode": {
    "name": "ipython",
    "version": 3
   },
   "file_extension": ".py",
   "mimetype": "text/x-python",
   "name": "python",
   "nbconvert_exporter": "python",
   "pygments_lexer": "ipython3",
   "version": "3.8.5"
  }
 },
 "nbformat": 4,
 "nbformat_minor": 4
}
