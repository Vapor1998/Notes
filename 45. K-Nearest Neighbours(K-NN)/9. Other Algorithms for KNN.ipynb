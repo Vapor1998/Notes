{
 "cells": [
  {
   "cell_type": "markdown",
   "metadata": {},
   "source": [
    "### Other Algorithms\n",
    "How we actually implemented the KNN is by using Brute Force method.  \n",
    "There are also other method which are KDTrees, BallTrees which can improve the performance of Algorithm. \n",
    "\n",
    "A KD Tree(also called as K-Dimensional Tree) is a binary search tree where data in each node is a K-Dimensional point in space. In short, it is a space partitioning data structure for organising points in a K-Dimensional space. It is used in Nearest Neighbours algorithm.  \n",
    "We are doing O(n) work on each data-point in our implemented brute force method. Till which of the following will KD-Tree reduce the work done on each data-point.  \n",
    "We try to cut the space (representation of features. 2D space if only 2 features are present in a data-point) into halves and then just do the search on one of the halves. As we do this for each node of the tree the height of the tree is O(log(n)). So, for searching, we will just need to traverse at most O(log(n)). This is similar to the case of Binary Search Tree.  \n",
    "\n",
    "1. ##### Working of KDTREE.  \n",
    "    Lets build something like BST.\n",
    "    When we come to the top, we will compare something and then we decide whether we go to the right or to the left.  \n",
    "    To find the nesrest neighbour, we'll basically compare with the root figure out something using the training data we'll \n",
    "    build the tree and for any testing data, we'll compare with the root and then we'll know whether go towards the right or \n",
    "    to go towards the left. And eventually we will go down and when we will reach the leaf, we will have some options, as the \n",
    "    best nearest neighbours and then basically we need to compare amongt those.\n",
    "    \n",
    "    \n",
    "What brute force is doing is for each training data, its finding the distance and then sorting the distance\n",
    "Read more in documentation."
   ]
  }
 ],
 "metadata": {
  "kernelspec": {
   "display_name": "Python 3",
   "language": "python",
   "name": "python3"
  },
  "language_info": {
   "codemirror_mode": {
    "name": "ipython",
    "version": 3
   },
   "file_extension": ".py",
   "mimetype": "text/x-python",
   "name": "python",
   "nbconvert_exporter": "python",
   "pygments_lexer": "ipython3",
   "version": "3.8.5"
  }
 },
 "nbformat": 4,
 "nbformat_minor": 4
}
