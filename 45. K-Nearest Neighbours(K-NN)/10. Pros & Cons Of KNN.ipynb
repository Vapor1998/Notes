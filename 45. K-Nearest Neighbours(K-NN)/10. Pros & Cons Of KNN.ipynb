{
 "cells": [
  {
   "cell_type": "markdown",
   "metadata": {},
   "source": [
    "### Pros of KNN.  \n",
    "1. Easy to Understand and code.  \n",
    "2. Multiclass classification works as well.  \n"
   ]
  },
  {
   "cell_type": "markdown",
   "metadata": {},
   "source": [
    "### Cons of KNN\n",
    "1. Testing time is very slow, it has to compare with other training datapoints and then find the distances and so on.  \n",
    "2. If the training data split is biased, then knn tends to get up being biased as well.  \n",
    "3. High dimensionality reduces the score.  \n"
   ]
  }
 ],
 "metadata": {
  "kernelspec": {
   "display_name": "Python 3",
   "language": "python",
   "name": "python3"
  },
  "language_info": {
   "codemirror_mode": {
    "name": "ipython",
    "version": 3
   },
   "file_extension": ".py",
   "mimetype": "text/x-python",
   "name": "python",
   "nbconvert_exporter": "python",
   "pygments_lexer": "ipython3",
   "version": "3.8.5"
  }
 },
 "nbformat": 4,
 "nbformat_minor": 4
}
