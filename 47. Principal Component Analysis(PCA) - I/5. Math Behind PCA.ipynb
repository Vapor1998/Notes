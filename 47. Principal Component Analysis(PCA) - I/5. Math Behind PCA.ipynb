{
 "cells": [
  {
   "attachments": {
    "Screenshot%20%28222%29.png": {
     "image/png": "[encoded data removed]"
    }
   },
   "cell_type": "markdown",
   "metadata": {},
   "source": [
    "### Process of PCA  \n",
    "PCA says that it requires the direction in which a data changes the maximum.  \n",
    "We can also says that we want the direction in which the variance is maximum.  \n",
    "If we can find the direction in which almost all the datapoints have all the values, that direction is not that useful.  \n",
    "But if we have the direction in which our data is changing very quickly or there is a lot of variation that is where you have a lot of information to keep that dimension.  \n",
    "So for PCA to find these principal components, we need to find  \n",
    "1. **Covariance Matrix** - This means this metric will have how is $f_{1}$ covarying with $f_{2}$, $f_{3}$ so what is the covariance between these three features. So if we have m * n data, covariance matrix will be n * n. And it will look like below \n",
    "![Screenshot%20%28222%29.png](attachment:Screenshot%20%28222%29.png)  \n",
    "So our covariance matrix will be symmetrical because Covariance of $f_{2}$, $f_{1}$ is same as covariance of $f_{1}$, $f_{2}$. Once we have our covariance matrix, the next step is to find Eigen Values and Eigen Vector.   \n",
    "Eigen Values and Eigen Vector - The First Eigen Vector is defined as direction in which you have the maximum variance. The Second Eigen Vector is second most variance explaining direction. To find these we need to use SVD.  \n",
    "\n",
    "2. **Singular Value Decomposition** - We need to apply SVD on the covariance matrix and that will give us the Eigen Vectors and Eigen Values. These Eigen Values will represent how much variance  is explained by First Dimension, Second Dimension, Third Dimension and so on. So eigen vectors is telling us the principle dimension that we should take and eigen values is telling us how much is the first principal dimension telling us how much information is contained by this particular direction how much is contained by second direction and in case Eigen Value of a particular dimension is very very less, that means that you can actually get rid of that particular dimension.  \n",
    "So we get a lot of unit vectors and we get a lot of variance values which are the Eigen Values and then we can pick the Vectors which have the maximum Eigen Values and that will give you principal component that we require to apply PCA.  \n",
    "\n",
    "pca.components_ is the eigen vector  \n",
    "pca.explained_variance_ is the eigen values  \n"
   ]
  },
  {
   "cell_type": "code",
   "execution_count": null,
   "metadata": {},
   "outputs": [],
   "source": []
  }
 ],
 "metadata": {
  "kernelspec": {
   "display_name": "Python 3",
   "language": "python",
   "name": "python3"
  },
  "language_info": {
   "codemirror_mode": {
    "name": "ipython",
    "version": 3
   },
   "file_extension": ".py",
   "mimetype": "text/x-python",
   "name": "python",
   "nbconvert_exporter": "python",
   "pygments_lexer": "ipython3",
   "version": "3.8.5"
  }
 },
 "nbformat": 4,
 "nbformat_minor": 4
}
