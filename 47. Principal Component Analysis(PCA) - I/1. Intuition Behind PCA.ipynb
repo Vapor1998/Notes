{
 "cells": [
  {
   "attachments": {
    "PCA.png": {
     "image/png": "[encoded data removed]"
    }
   },
   "cell_type": "markdown",
   "metadata": {},
   "source": [
    "## Intuition Behind PCA\n",
    "IN PCA, we want to reduce our dimensionality.  \n",
    "If we have lets say 1000 different features, theres a high chance all of them are corelated to each other.  \n",
    "They are actually representing similar kind of data.  \n",
    "Can we reduce the no of features to 100? but still keep majority of the info that we had in the original  data.  \n",
    "We want to redduce the amount of data but we want to keep similar kind of Information with us.  \n",
    "LETS SEE AN EG. \n",
    "Lets say we have a 2d data with different features x1 and x2.  \n",
    "![PCA.png](attachment:PCA.png)\n",
    "\n",
    "But if we draw a line u1, we will see that this line pretty much explains our datapoints.  \n",
    "We see that they are away from line a little bit, but basically if they were a little closer, we wouldve argue that your data is kind of find by this line.  \n",
    "this means if we had our axis as $x_{1}'$ and $x_{2}'$, all our data could be represented by using $x_{1}'$ and $x_{2}'$ is not giving us that much of information.  \n",
    "If we look at $x_{2}'$ values of all these points, its actualy very small..  \n",
    "The $x_{1}'$ values are the one which has the maximum difference among these datapoints.  \n",
    "Or we can say $x_{1}'$ is the direction which explains our data value or we can say $x_{1}'$ has the max variance.  \n",
    "Thats the direction our data is changing the most.  \n",
    "In the other direction, data change is almost 0.  \n",
    "What we want to do is we want to find another direction, so when we say we reduce the feature we are not saying we have $x_{1}$ to $x_{1000}$ and we will pic $x_{100}$ out of these features, what we are really saying is we will actually create new features lets say $x_{1}'$, $x_{2}'$, .... $x_{100}'$ these are new features that we want to create that basically explains your data really well.  \n",
    "So there is no reason to pick 100 we might end up picking 900 or 60 as well.  \n",
    "So that will be a number that depends upon data to data.  \n",
    "SO here what we are saying is $x_{2}'$ is not the direction which seeing a lot variance in our data the max variation that we see is $x_{1}'$, So the idea of PCA is WHY CANT WE JUST GET RID OF $x_{2}'$ REDUCE THIS 2D DATA INTO 1D DATA.  \n",
    "That would mean we will be loosing some data but hopefully the amount we loosing is not significant and benifits of loosing data might be a lot more.  \n",
    "SO what can be the benifits of having a lots of data.  \n",
    "1. Speed - Less data, less amount to compute.  \n",
    "2. Memory - IF we have huge data, we cant store it, if we have less, we can store it easily.  \n",
    "3. Visualization - Lets say we have 10D data, We will reduce it to 2D or 3D not so we want to train it, but we can visualize it easily.  \n",
    "\n",
    "THe idea of PCA is to reduce the dimensionality.  \n",
    "That doesnot mean we will pick choose few features but we will create it.  \n",
    "\n",
    "Few things to understand while we use PCA.  \n",
    "When we use PCA and we pick $x_{1}'$ and loose $x_{2}'$, which means we move all points on $x_{1}'$. We are loosing info but the amount is not that much.  \n",
    "We should MINIMIZE the amount of info we are usinng.  \n",
    "The info we are loosing is the perpendicular distance from the points.  \n",
    "Thats the value of $x_{2}'$ we want to reduce.  \n",
    "So we try to find the line or direction where the value is minimum.  \n",
    "Going from 3 to 2D or going from 2 to 1D, where we have 1 - 2 features,we will actually loose a lot of data data,  \n",
    "but if we have lets say 10000 features or 1000, and if we reduce the data, we will not loose that much.  \n",
    "We will get an improvement in memory and speed.  \n",
    "We perform really well when we have higher dimension.  \n",
    "SO if we reduce from 1000 to 100, this 100 will have a lot more information than compared to when we are just capturing 2 new dimension.  \n",
    "SO when we deal with small data and we use PCA, we will see a loss in accuracy compared to when we apply PCA for larger features.  \n",
    "Few things to take care.  \n",
    "First of all this is not really Linear Regression. Linear Regression is Supervised while this is Unsupervised.  \n",
    "That means we have X, Y we predict Y with given X.  \n",
    "In case of PCA we are not looking at Y we are looking at features while we use PCA, once we are done with PCa, we will train a model, we will train a model.  \n",
    "In case of Linear Regresssion, things that we minimize is difference in Y values, not the perpendicular but the difference.  \n",
    "One more thing to care about is Feature Scaling.  \n",
    "Lets say we have one feature which takes value from 1000 to 2000 and we put similalr scale to Y axis.  \n",
    "So we have $x_{1}$ which has values like 1000, 1100, 1200 etc.  \n",
    "And we have $x_{2}'$ which have values like 0, 1, 0.5 and so on.  \n",
    "What we will se when we plot this data, we will see $x_{1}$ overpowering $x_{2}$ and as $x_{2}$ is very small, OUR PCA WILL GIVE US $x_{1}$ AS THE DIRECTION WHERE WE ARE SEEING THE MAXIMUM VARIATION.  \n",
    "THE PROBLEM HERE IS WE ARE NOT REALIZING THE CHANGE IN BETWEEN 0 AND 1 MIGHT MUCH BIGGER THAN CHANGE FROM 1000 TO 1100.  \n",
    "SO THAT MEANS IT IS REALLY IMPORTANT TO APPLY FEATURE SCALING.  \n",
    "SO WE NEED TO APPLY FEATURE SCALE BEFORE USING PCA."
   ]
  }
 ],
 "metadata": {
  "kernelspec": {
   "display_name": "Python 3",
   "language": "python",
   "name": "python3"
  },
  "language_info": {
   "codemirror_mode": {
    "name": "ipython",
    "version": 3
   },
   "file_extension": ".py",
   "mimetype": "text/x-python",
   "name": "python",
   "nbconvert_exporter": "python",
   "pygments_lexer": "ipython3",
   "version": "3.8.5"
  }
 },
 "nbformat": 4,
 "nbformat_minor": 4
}
